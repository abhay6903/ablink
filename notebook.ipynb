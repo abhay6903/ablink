{
 "cells": [
  {
   "cell_type": "code",
   "execution_count": 1,
   "metadata": {},
   "outputs": [],
   "source": [
    "import os\n",
    "import re\n",
    "import json\n",
    "import pandas as pd\n",
    "import numpy as np\n",
    "from typing import Dict, List, Tuple\n",
    "from metaphone import doublemetaphone\n",
    "from pathlib import Path\n",
    "import plotly.io as pio\n",
    "import plotly.express as px\n",
    "\n",
    "#for Splink\n",
    "from splink.exploratory import completeness_chart\n",
    "from splink.blocking_analysis import count_comparisons_from_blocking_rule, n_largest_blocks,cumulative_comparisons_to_be_scored_from_blocking_rules_chart\n",
    "from splink.exploratory import profile_columns\n",
    "import splink.comparison_library as cl\n",
    "from splink import block_on,Linker, SettingsCreator ,DuckDBAPI\n"
   ]
  },
  {
   "cell_type": "code",
   "execution_count": 2,
   "metadata": {},
   "outputs": [],
   "source": [
    "def clean_phone_number(phone):\n",
    "    \"\"\"\n",
    "    Clean and standardize phone numbers to a consistent format.\n",
    "    Returns a tuple of (cleaned_number, extension)\n",
    "    \n",
    "    Args:\n",
    "        phone: The phone number string to clean\n",
    "        \n",
    "    Returns:\n",
    "        pd.Series: Series with [cleaned_number, extension]\n",
    "    \"\"\"\n",
    "    if pd.isnull(phone):\n",
    "        return pd.Series([np.nan, np.nan])\n",
    "\n",
    "    # Convert to string and remove whitespace\n",
    "    phone_str = str(phone).lower().strip()\n",
    "\n",
    "    # Regex to split extension (e.g., x123, ext.456)\n",
    "    match = re.match(r'([^\\dxext]*\\d[\\d\\D]*?)(?:\\s*(?:ext\\.?|x)\\s*(\\d+))?$', phone_str)\n",
    "\n",
    "    if match:\n",
    "        main_part = re.sub(r'\\D', '', match.group(1))  # remove non-digits\n",
    "        extension = match.group(2) if match.group(2) else np.nan\n",
    "        return pd.Series([main_part, extension])\n",
    "    else:\n",
    "        return pd.Series([re.sub(r'\\D', '', phone_str), np.nan])\n",
    "\n",
    "\n",
    "def preprocess_data(df: pd.DataFrame) -> pd.DataFrame:\n",
    "    \"\"\"\n",
    "    Standardize and clean input data\n",
    "    \n",
    "    Args:\n",
    "        df: Input DataFrame\n",
    "        \n",
    "    Returns:\n",
    "        pd.DataFrame: Preprocessed DataFrame\n",
    "    \"\"\"\n",
    "    df = df.copy()\n",
    "\n",
    "    # --- Map user's schema to canonical columns expected downstream ---\n",
    "    # surname -> last_name\n",
    "    if 'last_name' not in df.columns and 'surname' in df.columns:\n",
    "        df['last_name'] = df['surname']\n",
    "    # address -> street\n",
    "    if 'street' not in df.columns and 'address' in df.columns:\n",
    "        df['street'] = df['address']\n",
    "    # postal_code or postcode_fake -> zip\n",
    "    if 'zip' not in df.columns:\n",
    "        if 'postal_code' in df.columns:\n",
    "            df['zip'] = df['postal_code']\n",
    "        elif 'postcode_fake' in df.columns:\n",
    "            df['zip'] = df['postcode_fake']\n",
    "    # Ensure state column exists for downstream logic\n",
    "    if 'state' not in df.columns:\n",
    "        df['state'] = np.nan\n",
    "    # Ensure first_name exists (user has first_name)\n",
    "    # Ensure city exists (user has city)\n",
    "    # Ensure email, phone exist (user has email, phone)\n",
    "\n",
    "    # Clean text columns\n",
    "    text_cols = ['first_name', 'last_name', 'street', 'city', 'state', 'email']\n",
    "    for col in text_cols:\n",
    "        if col in df.columns:\n",
    "            df[col] = df[col].astype(str).str.strip().str.lower()\n",
    "\n",
    "    # Format ZIP/Postcodes: normalize case and spacing (supports alphanumeric postcodes)\n",
    "    if 'zip' in df.columns:\n",
    "        df['zip'] = df['zip'].astype(str).str.strip()\n",
    "        df['zip'] = df['zip'].str.replace(r'\\s+', '', regex=True).str.upper()\n",
    "\n",
    "    # Clean phone numbers\n",
    "    if 'phone' in df.columns:\n",
    "        df[['phone', 'phone_ext']] = df['phone'].apply(clean_phone_number)\n",
    "\n",
    "    # Extract email domain\n",
    "    if 'email' in df.columns:\n",
    "        df['email'] = df['email'].str.lower()\n",
    "        df['email_domain'] = df['email'].str.extract(r'@([\\w\\.-]+)', expand=False)\n",
    "\n",
    "    # To make entire DataFrame consistent\n",
    "    df = df.where(pd.notnull(df), np.nan)\n",
    "\n",
    "    # Create full name if missing\n",
    "    if 'full_name' not in df.columns and 'first_name' in df.columns and 'last_name' in df.columns:\n",
    "        df['full_name'] = df['first_name'].fillna('') + ' ' + df['last_name'].fillna('')\n",
    "    if 'full_name' in df.columns:\n",
    "        df['full_name'] = df['full_name'].astype(str).str.strip().str.lower()\n",
    "\n",
    "    # Create phonetic encodings\n",
    "    if 'first_name' in df.columns:\n",
    "        df['first_name_metaphone'] = df['first_name'].apply(\n",
    "            lambda x: doublemetaphone(x)[0] if pd.notnull(x) else np.nan\n",
    "        )\n",
    "    \n",
    "    if 'last_name' in df.columns:\n",
    "        df['last_name_metaphone'] = df['last_name'].apply(\n",
    "            lambda x: doublemetaphone(x)[0] if pd.notnull(x) else np.nan\n",
    "        )\n",
    "\n",
    "    return df"
   ]
  },
  {
   "cell_type": "code",
   "execution_count": 3,
   "metadata": {},
   "outputs": [],
   "source": [
    "def combine_dataframes(df1: pd.DataFrame, df2: pd.DataFrame) -> pd.DataFrame:\n",
    "    \"\"\"Combine two preprocessed DataFrames, reset index, and add unique ID.\"\"\"\n",
    "    combined_df = pd.concat([df1, df2], ignore_index=True)\n",
    "    combined_df.reset_index(drop=True)\n",
    "    combined_df[\"unique_id\"] = combined_df.index.astype(str)\n",
    "    return combined_df\n",
    "\n",
    "def identify_and_show_duplicates(df: pd.DataFrame, subset_cols: list) -> pd.DataFrame:\n",
    "    \"\"\"\n",
    "    Create a 'duplicate_of' column showing the duplicate occurrences.\n",
    "    \n",
    "    Args:\n",
    "        df (pd.DataFrame): Input DataFrame.\n",
    "        subset_cols (list): List of column names to check for duplicates.\n",
    "        \n",
    "    Returns:\n",
    "        pd.DataFrame: Updated DataFrame where 'duplicate_of' is 2 or more.\n",
    "    \"\"\"\n",
    "    duplicates = df[df.duplicated(subset=subset_cols)]\n",
    "    \n",
    "    return duplicates\n",
    "\n",
    "\n",
    "def analyze_completeness(df: pd.DataFrame, db_api: DuckDBAPI):\n",
    "    \"\"\"Generate completeness chart.\"\"\"\n",
    "    return completeness_chart(df, db_api=db_api)\n",
    "\n",
    "def profile_data(df: pd.DataFrame, db_api: DuckDBAPI, top_n: int = 10, bottom_n: int = 5):\n",
    "    \"\"\"Profile selected columns using DuckDBAPI.\"\"\"\n",
    "    return profile_columns(df, db_api=db_api, top_n=top_n, bottom_n=bottom_n)\n"
   ]
  },
  {
   "cell_type": "code",
   "execution_count": 4,
   "metadata": {},
   "outputs": [],
   "source": [
    "# Helpers compatible with pandas DataFrames AND DuckDB views\n",
    "from typing import Union\n",
    "\n",
    "PandasOrView = Union[pd.DataFrame, str]\n",
    "\n",
    "\n",
    "def combine_dataframes(df1: PandasOrView, df2: PandasOrView, db_api: DuckDBAPI = None, view_name: str = \"combined_view\") -> PandasOrView:\n",
    "    \"\"\"\n",
    "    Combine two datasets and add a unique_id.\n",
    "\n",
    "    - If df1/df2 are pandas DataFrames: return a pandas DataFrame with unique_id.\n",
    "    - If df1/df2 are DuckDB view/table names (str) and db_api is provided: create/replace\n",
    "      a DuckDB view that unions them and adds unique_id via row_number(). Returns the view name.\n",
    "    \"\"\"\n",
    "    if isinstance(df1, pd.DataFrame) and isinstance(df2, pd.DataFrame):\n",
    "        combined_df = pd.concat([df1, df2], ignore_index=True)\n",
    "        combined_df.reset_index(drop=True)\n",
    "        combined_df[\"unique_id\"] = combined_df.index.astype(str)\n",
    "        return combined_df\n",
    "\n",
    "    if isinstance(df1, str) and isinstance(df2, str) and db_api is not None:\n",
    "        conn = db_api.connection  # type: ignore[attr-defined]\n",
    "        conn.execute(f\"\"\"\n",
    "            CREATE OR REPLACE VIEW {view_name} AS\n",
    "            SELECT *, CAST(row_number() OVER () - 1 AS VARCHAR) AS unique_id\n",
    "            FROM (\n",
    "                SELECT * FROM {df1}\n",
    "                UNION ALL\n",
    "                SELECT * FROM {df2}\n",
    "            )\n",
    "        \"\"\")\n",
    "        return view_name\n",
    "\n",
    "    raise ValueError(\"combine_dataframes expects two pandas DataFrames OR two DuckDB table/view names with db_api provided.\")\n",
    "\n",
    "\n",
    "def identify_and_show_duplicates(df_or_view: PandasOrView, subset_cols: list, db_api: DuckDBAPI = None, sample_limit: int = 1000) -> pd.DataFrame:\n",
    "    \"\"\"\n",
    "    Identify duplicate rows based on subset_cols.\n",
    "\n",
    "    - If given a pandas DataFrame: returns a pandas DataFrame of duplicates.\n",
    "    - If given a DuckDB view/table name (str) and db_api: returns a pandas sample from DuckDB (up to sample_limit).\n",
    "    \"\"\"\n",
    "    if not subset_cols:\n",
    "        raise ValueError(\"subset_cols must be a non-empty list of column names\")\n",
    "\n",
    "    if isinstance(df_or_view, pd.DataFrame):\n",
    "        return df_or_view[df_or_view.duplicated(subset=subset_cols, keep=False)]\n",
    "\n",
    "    if isinstance(df_or_view, str) and db_api is not None:\n",
    "        cols = \", \".join(subset_cols)\n",
    "        conn = db_api.connection  # type: ignore[attr-defined]\n",
    "        query = f\"\"\"\n",
    "            WITH dup_keys AS (\n",
    "                SELECT {cols}, COUNT(*) AS cnt\n",
    "                FROM {df_or_view}\n",
    "                GROUP BY {cols}\n",
    "                HAVING COUNT(*) > 1\n",
    "            )\n",
    "            SELECT s.*\n",
    "            FROM {df_or_view} s\n",
    "            INNER JOIN dup_keys d\n",
    "            USING ({cols})\n",
    "            LIMIT {int(sample_limit)}\n",
    "        \"\"\"\n",
    "        return conn.execute(query).fetch_df()\n",
    "\n",
    "    raise ValueError(\"identify_and_show_duplicates expects a pandas DataFrame OR a DuckDB table/view name with db_api provided.\")\n",
    "\n",
    "\n",
    "def analyze_completeness(df_or_view: PandasOrView, db_api: DuckDBAPI):\n",
    "    return completeness_chart(df_or_view, db_api=db_api)\n",
    "\n",
    "\n",
    "def profile_data(df_or_view: PandasOrView, db_api: DuckDBAPI, top_n: int = 10, bottom_n: int = 5):\n",
    "    return profile_columns(df_or_view, db_api=db_api, top_n=top_n, bottom_n=bottom_n)\n",
    "\n"
   ]
  },
  {
   "cell_type": "code",
   "execution_count": 5,
   "metadata": {},
   "outputs": [
    {
     "name": "stdout",
     "output_type": "stream",
     "text": [
      "Available schemas:\n",
      "  1. archive\n",
      "  2. default\n",
      "  3. information_schema\n",
      "  4. ml\n",
      "  5. new_schema\n",
      "  6. sample\n",
      "  7. test\n",
      "  8. test11\n",
      "  9. test_schema\n",
      "  10. testing\n",
      "  11. tpch_1\n",
      "Tables in hive.ml:\n",
      "  1. _schema\n",
      "  2. _schema_23062023_091242\n",
      "  3. abc\n",
      "  4. abc_20220131\n",
      "  5. abc_20230605\n",
      "  6. availableequipment3g\n",
      "  7. availableequipment3g_03012024_072141\n",
      "  8. call_center\n",
      "  9. call_center_01162024_100823\n",
      "  10. call_center_02062023_092201\n",
      "  11. call_center_02062023_092201_20230602\n",
      "  12. call_center_02062023_092201_20230603\n",
      "  13. call_center_02062023_092201_20230604\n",
      "  14. call_center_02062023_092201_20230606\n",
      "  15. call_center_06302023_103513\n",
      "  16. call_center_08112023_104615\n",
      "  17. call_center_08302023_085409\n",
      "  18. call_center_09192024_113326\n",
      "  19. call_center_11052024_045634\n",
      "  20. call_center_12052023_062939\n",
      "  21. call_center_12052023_120858\n",
      "  22. call_center_20230602\n",
      "  23. call_center_20230603\n",
      "  24. call_center_20230604\n",
      "  25. call_center_20230605\n",
      "  26. call_center_20230609\n",
      "  27. call_center_20230610\n",
      "  28. call_center_20230611\n",
      "  29. call_center_20230612\n",
      "  30. call_center_view\n",
      "  31. catalog_page\n",
      "  32. catalog_page_01162024_100824\n",
      "  33. catalog_page_02062023_092201\n",
      "  34. catalog_page_02062023_092201_20230602\n",
      "  35. catalog_page_02062023_092201_20230603\n",
      "  36. catalog_page_02062023_092201_20230604\n",
      "  37. catalog_page_02062023_092201_20230606\n",
      "  38. catalog_page_07062023_122355\n",
      "  39. catalog_page_08112023_104616\n",
      "  40. catalog_page_12052023_062940\n",
      "  41. catalog_page_12052023_120901\n",
      "  42. catalog_page_20230602\n",
      "  43. catalog_page_20230603\n",
      "  44. catalog_page_20230604\n",
      "  45. catalog_page_20230605\n",
      "  46. catalog_returns\n",
      "  47. catalog_returns_01162024_100828\n",
      "  48. catalog_returns_02062023_092202\n",
      "  49. catalog_returns_02062023_092202_20230602\n",
      "  50. catalog_returns_02062023_092202_20230603\n",
      "  51. catalog_returns_02062023_092202_20230604\n",
      "  52. catalog_returns_02062023_092202_20230606\n",
      "  53. catalog_returns_07062023_122355\n",
      "  54. catalog_returns_08112023_104616\n",
      "  55. catalog_returns_12052023_062938\n",
      "  56. catalog_returns_12052023_120857\n",
      "  57. catalog_returns_20230602\n",
      "  58. catalog_returns_20230603\n",
      "  59. catalog_returns_20230604\n",
      "  60. catalog_returns_20230605\n",
      "  61. catalog_sales\n",
      "  62. catalog_sales_01162024_100822\n",
      "  63. catalog_sales_08112023_104617\n",
      "  64. catalog_sales_12052023_062937\n",
      "  65. catalog_sales_12052023_120900\n",
      "  66. catalog_sales_20230602\n",
      "  67. catalog_sales_20230603\n",
      "  68. catalog_sales_20230604\n",
      "  69. catalog_sales_20230605\n",
      "  70. category\n",
      "  71. category_01162024_100820\n",
      "  72. category_11222023_102829\n",
      "  73. category_11302023_060839\n",
      "  74. category_11302023_061931\n",
      "  75. category_12072023_045710\n",
      "  76. cp_20230623\n",
      "  77. cp_20230624\n",
      "  78. createdtable\n",
      "  79. createdtable_01162024_100829\n",
      "  80. createdtable_20230602\n",
      "  81. createdtable_20230603\n",
      "  82. createdtable_20230604\n",
      "  83. createdtable_20230605\n",
      "  84. customer\n",
      "  85. customer1012\n",
      "  86. customer10dec\n",
      "  87. customer_01012024_101818\n",
      "  88. customer_01012024_101822\n",
      "  89. customer_01012024_101822customer_01022024_082043\n",
      "  90. customer_01012024_103139\n",
      "  91. customer_01012024_112104\n",
      "  92. customer_01022024_091623\n",
      "  93. customer_01152024_100108\n",
      "  94. customer_01162024_100834\n",
      "  95. customer_01172024_090028\n",
      "  96. customer_02062023_072647\n",
      "  97. customer_02062023_072647_20230528\n",
      "  98. customer_02062023_072647_20230602\n",
      "  99. customer_02062023_072647_20230603\n",
      "  100. customer_02062023_072647_20230604\n",
      "  101. customer_02062023_072647_20230606\n",
      "  102. customer_02132024_085733\n",
      "  103. customer_02142024_065901\n",
      "  104. customer_02142025_112757\n",
      "  105. customer_02152024_071712\n",
      "  106. customer_02152024_073709\n",
      "  107. customer_02152024_0737091\n",
      "  108. customer_02192024_054934\n",
      "  109. customer_02202024_050353\n",
      "  110. customer_02202024_054613\n",
      "  111. customer_02202024_055613\n",
      "  112. customer_03012024_072143\n",
      "  113. customer_03042024_052202\n",
      "  114. customer_03042024_054407\n",
      "  115. customer_03042024_054407customer_03042024_062049\n",
      "  116. customer_03042024_054640\n",
      "  117. customer_03042024_105933\n",
      "  118. customer_03052024_052321\n",
      "  119. customer_03052024_053820\n",
      "  120. customer_04112025_063246\n",
      "  121. customer_04182024_102137\n",
      "  122. customer_04192024_060648\n",
      "  123. customer_04232025_084055\n",
      "  124. customer_04242025_104152\n",
      "  125. customer_05062024_084629\n",
      "  126. customer_05062024_085128\n",
      "  127. customer_05212025_054455\n",
      "  128. customer_05212025_063451\n",
      "  129. customer_06062023_061257\n",
      "  130. customer_06302023_103514\n",
      "  131. customer_07042025_043820\n",
      "  132. customer_07092025_053525\n",
      "  133. customer_07112025_094446\n",
      "  134. customer_07182023_065601\n",
      "  135. customer_08042025_041422\n",
      "  136. customer_08062025_103319\n",
      "  137. customer_08092023_070231\n",
      "  138. customer_08112023_051827\n",
      "  139. customer_08222023_084122\n",
      "  140. customer_08222024_104842\n",
      "  141. customer_08232023_114556\n",
      "  142. customer_09192024_095844\n",
      "  143. customer_09192024_102658\n",
      "  144. customer_11112024_070809\n",
      "  145. customer_11112024_090832\n",
      "  146. customer_11222023_100557\n",
      "  147. customer_11222023_101928\n",
      "  148. customer_12052023_062940\n",
      "  149. customer_12052023_120858\n",
      "  150. customer_12112023_092041\n",
      "  151. customer_12122023_072159\n",
      "  152. customer_12122023_093923\n",
      "  153. customer_12132023_092112\n",
      "  154. customer_12132023_094247\n",
      "  155. customer_12132023_094858\n",
      "  156. customer_12132023_101818\n",
      "  157. customer_12132023_102043\n",
      "  158. customer_12282023_055457\n",
      "  159. customer_12282023_055506\n",
      "  160. customer_12292023_120516\n",
      "  161. customer_12292023_120715\n",
      "  162. customer_13\n",
      "  163. customer_13062023_065119\n",
      "  164. customer_13062023_065119_20230622\n",
      "  165. customer_13062023_065119_20230623\n",
      "  166. customer_13062023_065119_20230624\n",
      "  167. customer_13062023_065119_20230625\n",
      "  168. customer_20062023_075136_20230621\n",
      "  169. customer_20062023_075136_20230622\n",
      "  170. customer_20062023_075136_20230623\n",
      "  171. customer_20062023_075136_20230624\n",
      "  172. customer_20062023_075136_20230626\n",
      "  173. customer_20062023_075136_20230627\n",
      "  174. customer_20230601\n",
      "  175. customer_20230602\n",
      "  176. customer_20230603\n",
      "  177. customer_20230604\n",
      "  178. customer_20230605\n",
      "  179. customer_20230607\n",
      "  180. customer_20230608\n",
      "  181. customer_20230609\n",
      "  182. customer_20230610\n",
      "  183. customer_20230611\n",
      "  184. customer_20230612\n",
      "  185. customer_20230620\n",
      "  186. customer_20230622\n",
      "  187. customer_26062023_063205\n",
      "  188. customer_address\n",
      "  189. customer_address_01162024_100826\n",
      "  190. customer_address_12052023_062937\n",
      "  191. customer_address_12052023_120856\n",
      "  192. customer_address_20230528\n",
      "  193. customer_address_20230602\n",
      "  194. customer_address_20230603\n",
      "  195. customer_address_20230604\n",
      "  196. customer_address_20230605\n",
      "  197. customer_demographics\n",
      "  198. customer_demographics_01162024_100827\n",
      "  199. customer_demographics_12052023_062938\n",
      "  200. customer_demographics_12052023_120859\n",
      "  201. customer_demographics_20230602\n",
      "  202. customer_demographics_20230603\n",
      "  203. customer_demographics_20230604\n",
      "  204. customer_demographics_20230605\n",
      "  205. customer_view\n",
      "  206. customer_view1\n",
      "  207. customer_view2\n",
      "  208. customer_view23\n",
      "  209. customer_view2306\n",
      "  210. customer_view23062025\n",
      "  211. customer_view230625\n",
      "  212. customer_view230626\n",
      "  213. customerminio21\n",
      "  214. customersf1\n",
      "  215. customersf10\n",
      "  216. customersf1_12062023_093516\n",
      "  217. customersf1_20230605\n",
      "  218. customertable_20230623\n",
      "  219. customertable_20230624\n",
      "  220. customertable_20230626\n",
      "  221. customertable_sc_20230623\n",
      "  222. customertable_sc_20230624\n",
      "  223. customertable_sc_20230626\n",
      "  224. customertable_sc_20240220\n",
      "  225. customertest23\n",
      "  226. customertest2306\n",
      "  227. customertest24\n",
      "  228. customertest25\n",
      "  229. customertest26\n",
      "  230. cxzxzcxcxz_20230621\n",
      "  231. cxzxzcxcxz_20230622\n",
      "  232. cxzxzcxcxz_20230623\n",
      "  233. cxzxzcxcxz_20230624\n",
      "  234. cxzxzcxcxz_20230626\n",
      "  235. cxzxzcxcxz_20230627\n",
      "  236. date_dim\n",
      "  237. date_dim_01162024_100825\n",
      "  238. date_dim_12052023_062936\n",
      "  239. date_dim_12052023_120901\n",
      "  240. date_dim_20230602\n",
      "  241. date_dim_20230603\n",
      "  242. date_dim_20230604\n",
      "  243. date_dim_20230605\n",
      "  244. departments\n",
      "  245. departments_01162024_100817\n",
      "  246. departments_12072023_045708\n",
      "  247. employee\n",
      "  248. employee_table\n",
      "  249. employee_table_05022024_081221\n",
      "  250. employee_table_08142023_073559\n",
      "  251. employee_table_08312023_061640\n",
      "  252. employee_table_12072023_103521\n",
      "  253. employee_table_12132023_100843\n",
      "  254. employee_table_28062023_051957\n",
      "  255. employees_17\n",
      "  256. employees_18\n",
      "  257. employees_180\n",
      "  258. employees_1802\n",
      "  259. employees_1825\n",
      "  260. employees_19\n",
      "  261. household_demographics\n",
      "  262. household_demographics_01162024_100830\n",
      "  263. household_demographics_12052023_062935\n",
      "  264. household_demographics_12052023_120857\n",
      "  265. household_demographics_20230602\n",
      "  266. household_demographics_20230603\n",
      "  267. household_demographics_20230604\n",
      "  268. household_demographics_20230605\n",
      "  269. inc\n",
      "  270. income_band\n",
      "  271. income_band_01162024_100835\n",
      "  272. income_band_12052023_062936\n",
      "  273. income_band_12052023_120901\n",
      "  274. income_band_20230602\n",
      "  275. income_band_20230603\n",
      "  276. income_band_20230604\n",
      "  277. income_band_20230605\n",
      "  278. increment03\n",
      "  279. increment04\n",
      "  280. incrementalsakshi\n",
      "  281. inventory\n",
      "  282. inventory_01012024_103140\n",
      "  283. inventory_01162024_100831\n",
      "  284. inventory_03042024_052507\n",
      "  285. inventory_12052023_062935\n",
      "  286. inventory_12052023_120859\n",
      "  287. inventory_12132023_102044\n",
      "  288. inventory_20230602\n",
      "  289. inventory_20230603\n",
      "  290. inventory_20230604\n",
      "  291. inventory_20230605\n",
      "  292. item\n",
      "  293. item_01012024_102225\n",
      "  294. item_01012024_103141\n",
      "  295. item_01162024_100832\n",
      "  296. item_02062023_072648\n",
      "  297. item_02062023_072648_20230602\n",
      "  298. item_02062023_072648_20230603\n",
      "  299. item_02062023_072648_20230604\n",
      "  300. item_02062023_072648_20230606\n",
      "  301. item_03042024_052506\n",
      "  302. item_0522\n",
      "  303. item_12052023_062939\n",
      "  304. item_12052023_120902\n",
      "  305. item_20230602\n",
      "  306. item_20230603\n",
      "  307. item_20230604\n",
      "  308. item_20230605\n",
      "  309. items\n",
      "  310. items_05\n",
      "  311. items_0502\n",
      "  312. items_05021\n",
      "  313. items_05022\n",
      "  314. items_050221\n",
      "  315. items_0502212\n",
      "  316. items_050222025\n",
      "  317. items_0522\n",
      "  318. items_07112025_092122\n",
      "  319. items_08042025_041423\n",
      "  320. items_21\n",
      "  321. items_incremental\n",
      "  322. lineitem\n",
      "  323. lineitem1\n",
      "  324. lineitem1208\n",
      "  325. lineitem_02062023_051603\n",
      "  326. lineitem_02062023_051603_20230602\n",
      "  327. lineitem_02062023_051603_20230605\n",
      "  328. lineitem_02062023_051603_20230607\n",
      "  329. lineitem_02062023_051603_20230608\n",
      "  330. lineitem_02062023_051603_20230609\n",
      "  331. lineitem_02062023_051603_20230610\n",
      "  332. lineitem_02062023_051603_20230612\n",
      "  333. lineitem_02132024_085734\n",
      "  334. lineitem_02202024_054616\n",
      "  335. lineitem_03052024_053822\n",
      "  336. lineitem_04232025_084056\n",
      "  337. lineitem_04242025_104153\n",
      "  338. lineitem_05062023_091435\n",
      "  339. lineitem_05062023_091435_20230605\n",
      "  340. lineitem_05062023_100052\n",
      "  341. lineitem_06062023_070759\n",
      "  342. lineitem_06062023_070759_20230605\n",
      "  343. lineitem_08012025_092810\n",
      "  344. lineitem_12112023_114313\n",
      "  345. lineitem_13\n",
      "  346. lineitemnew_1208\n",
      "  347. lineitemsf10\n",
      "  348. links\n",
      "  349. links_01012024_102226\n",
      "  350. links_01162024_100833\n",
      "  351. links_08292024_054647\n",
      "  352. links_08302024_043131\n",
      "  353. links_08302024_110641\n",
      "  354. links_20230601\n",
      "  355. links_20230602\n",
      "  356. links_20230603\n",
      "  357. links_20230604\n",
      "  358. links_20230605\n",
      "  359. movies\n",
      "  360. movies_08302024_043132\n",
      "  361. movies_08302024_110641\n",
      "  362. movies_08302024_115424\n",
      "  363. movies_09192024_043932\n",
      "  364. movies_09192024_065027\n",
      "  365. mycollection_05062023_091439\n",
      "  366. mycollection_05062023_091439_20230605\n",
      "  367. nation\n",
      "  368. nation_01152024_100109\n",
      "  369. nation_01152024_100110\n",
      "  370. nation_01172024_091806\n",
      "  371. nation_02142024_065902\n",
      "  372. nation_02152024_073710\n",
      "  373. nation_03042024_054659\n",
      "  374. nation_04182024_102137\n",
      "  375. nation_04192024_055520\n",
      "  376. nation_04192024_060649\n",
      "  377. nation_05062024_085128\n",
      "  378. nation_0521\n",
      "  379. nation_07032023_105653\n",
      "  380. nation_07052023_114029\n",
      "  381. nation_07112025_091713\n",
      "  382. nation_07182023_065601\n",
      "  383. nation_08092023_070232\n",
      "  384. nation_08222024_104843\n",
      "  385. nation_08232023_114556\n",
      "  386. nation_11112024_070811\n",
      "  387. nation_13062023_065119\n",
      "  388. nation_13062023_065119_20230622\n",
      "  389. nation_13062023_065119_20230623\n",
      "  390. nation_13062023_065119_20230624\n",
      "  391. nation_13062023_065119_20230625\n",
      "  392. nation_20062023_075136_20230621\n",
      "  393. nation_20062023_075136_20230622\n",
      "  394. nation_20062023_075136_20230623\n",
      "  395. nation_20062023_075136_20230624\n",
      "  396. nation_20062023_075136_20230626\n",
      "  397. nation_20062023_075136_20230627\n",
      "  398. nation_20230608\n",
      "  399. nation_20230609\n",
      "  400. nation_20230611\n",
      "  401. nation_20230622\n",
      "  402. nation_26062023_063206\n",
      "  403. nationsf10\n",
      "  404. nationsf10_05062023_102442\n",
      "  405. nationtable_12062023_092416\n",
      "  406. nationtable_20230623\n",
      "  407. nationtable_20230624\n",
      "  408. nationtable_20230626\n",
      "  409. newcustomer\n",
      "  410. orders\n",
      "  411. orders_01012024_101512\n",
      "  412. orders_01012024_101819\n",
      "  413. orders_01172024_090027\n",
      "  414. orders_03042024_052203\n",
      "  415. orders_03052024_052321\n",
      "  416. orders_03052024_060652\n",
      "  417. orders_03052024_062341\n",
      "  418. orders_07182023_065602\n",
      "  419. orders_08092023_070232\n",
      "  420. orders_09192024_095845\n",
      "  421. orders_11222023_095142\n",
      "  422. orders_12072023_105947\n",
      "  423. orders_12112023_103523\n",
      "  424. orders_12122023_072200\n",
      "  425. orders_13062023_065119\n",
      "  426. orders_13062023_065119_20230622\n",
      "  427. orders_13062023_065119_20230623\n",
      "  428. orders_13062023_065119_20230624\n",
      "  429. orders_13062023_065119_20230625\n",
      "  430. orders_20230622\n",
      "  431. orders_20230623\n",
      "  432. orders_20230624\n",
      "  433. orders_20230626\n",
      "  434. orders_20230627\n",
      "  435. orders_tiny\n",
      "  436. orders_tiny_03052024_062342\n",
      "  437. orders_tiny_08092023_070232\n",
      "  438. orderstable\n",
      "  439. p10\n",
      "  440. p10_20230623\n",
      "  441. p10_20230624\n",
      "  442. p1_20230623\n",
      "  443. p1_20230624\n",
      "  444. p2\n",
      "  445. p23\n",
      "  446. p23_20230623\n",
      "  447. p23_20230624\n",
      "  448. p23_20230626\n",
      "  449. p23_20230627\n",
      "  450. p2_20230623\n",
      "  451. p2_20230624\n",
      "  452. p4_20230623\n",
      "  453. p4_20230624\n",
      "  454. p_20230623\n",
      "  455. p_20230624\n",
      "  456. part\n",
      "  457. part_01012024_101513\n",
      "  458. part_01012024_102749\n",
      "  459. part_07182023_065602\n",
      "  460. part_08092023_070233\n",
      "  461. part_11112024_070812\n",
      "  462. part_12132023_100818\n",
      "  463. part_13062023_065119\n",
      "  464. part_13062023_065119_20230622\n",
      "  465. part_13062023_065119_20230623\n",
      "  466. part_13062023_065119_20230624\n",
      "  467. part_13062023_065119_20230625\n",
      "  468. partsupp\n",
      "  469. partsupp_07182023_065603\n",
      "  470. partsupp_07202023_101348\n",
      "  471. partsupp_08092023_070233\n",
      "  472. partsupp_13062023_065119\n",
      "  473. partsupp_13062023_065119_20230622\n",
      "  474. partsupp_13062023_065119_20230623\n",
      "  475. partsupp_13062023_065119_20230624\n",
      "  476. partsupp_13062023_065119_20230625\n",
      "  477. partsupp_20062023_075135_20230621\n",
      "  478. partsupp_20062023_075135_20230622\n",
      "  479. partsupp_20062023_075135_20230623\n",
      "  480. partsupp_20062023_075135_20230624\n",
      "  481. partsupp_20062023_075135_20230626\n",
      "  482. partsupp_20062023_075135_20230627\n",
      "  483. partsupp_20230620\n",
      "  484. people_data\n",
      "  485. people_data_09112025_035743\n",
      "  486. people_data_2003\n",
      "  487. person11\n",
      "  488. persons\n",
      "  489. persons1\n",
      "  490. persons10\n",
      "  491. persons10_01162024_100807\n",
      "  492. persons10_12072023_045707\n",
      "  493. persons10_12132023_100841\n",
      "  494. persons1_01012024_101155\n",
      "  495. persons1_01042024_050733\n",
      "  496. persons1_01162024_100809\n",
      "  497. persons1_05212025_053208\n",
      "  498. persons1_12072023_045657\n",
      "  499. persons1_12132023_092824\n",
      "  500. persons1_12132023_100841\n",
      "  501. persons1_20230623\n",
      "  502. persons1_20230624\n",
      "  503. persons1_20230626\n",
      "  504. persons1_20230627\n",
      "  505. persons2\n",
      "  506. persons2_01162024_100810\n",
      "  507. persons2_12072023_045712\n",
      "  508. persons3\n",
      "  509. persons3_01162024_100811\n",
      "  510. persons3_12072023_045714\n",
      "  511. persons4\n",
      "  512. persons4_01162024_100812\n",
      "  513. persons4_02152024_070816\n",
      "  514. persons4_12072023_045716\n",
      "  515. persons5\n",
      "  516. persons5_01162024_100813\n",
      "  517. persons5_12072023_045659\n",
      "  518. persons5_12132023_100842\n",
      "  519. persons6\n",
      "  520. persons6_01162024_100814\n",
      "  521. persons6_12072023_045716\n",
      "  522. persons7\n",
      "  523. persons7_01162024_100815\n",
      "  524. persons7_12072023_045704\n",
      "  525. persons8\n",
      "  526. persons8_01162024_100817\n",
      "  527. persons8_12072023_045718\n",
      "  528. persons9\n",
      "  529. persons9_01162024_100818\n",
      "  530. persons9_12072023_045654\n",
      "  531. persons_01012024_101154\n",
      "  532. persons_01042024_050732\n",
      "  533. persons_01162024_100808\n",
      "  534. persons_01162024_100821\n",
      "  535. persons_01162024_102728\n",
      "  536. persons_01222025_084112\n",
      "  537. persons_03042024_052438\n",
      "  538. persons_04292024_065546\n",
      "  539. persons_06112024_100503\n",
      "  540. persons_06182025_110024\n",
      "  541. persons_08072023_104422\n",
      "  542. persons_08182023_101411\n",
      "  543. persons_08222023_084629\n",
      "  544. persons_08242023_055236\n",
      "  545. persons_08302023_085409\n",
      "  546. persons_08302023_111032\n",
      "  547. persons_08312023_061639\n",
      "  548. persons_09012023_100650\n",
      "  549. persons_11062024_111927\n",
      "  550. persons_11282024_094116\n",
      "  551. persons_12012023_063941\n",
      "  552. persons_12072023_045702\n",
      "  553. persons_12072023_103520\n",
      "  554. persons_12132023_092823\n",
      "  555. persons_12132023_100843\n",
      "  556. persons_20230602\n",
      "  557. persons_20230603\n",
      "  558. persons_20230604\n",
      "  559. persons_20230605\n",
      "  560. persons_20230606\n",
      "  561. persons_20230607\n",
      "  562. persons_20230623\n",
      "  563. persons_20230624\n",
      "  564. persons_20230626\n",
      "  565. persons_20230627\n",
      "  566. persons_23062023_062350\n",
      "  567. persons_23062023_062350_20230623\n",
      "  568. persons_23062023_062350_20230624\n",
      "  569. persons_23062023_062350_20230626\n",
      "  570. persons_23062023_062350_20230627\n",
      "  571. promotion\n",
      "  572. promotion_12052023_120902\n",
      "  573. purchase_bev\n",
      "  574. qvi_transactions\n",
      "  575. ratings\n",
      "  576. ratings_08302024_043130\n",
      "  577. ratings_09192024_065027\n",
      "  578. reason\n",
      "  579. reason_12052023_120900\n",
      "  580. region\n",
      "  581. region_01172024_091807\n",
      "  582. region_03042024_062049\n",
      "  583. region_03042024_110300\n",
      "  584. region_03182024_110117\n",
      "  585. region_07182023_065603\n",
      "  586. region_08092023_070234\n",
      "  587. region_09192024_102659\n",
      "  588. region_11112024_070813\n",
      "  589. region_12132023_100819\n",
      "  590. region_12132023_101819\n",
      "  591. region_13062023_065119\n",
      "  592. region_13062023_065119_20230622\n",
      "  593. region_13062023_065119_20230623\n",
      "  594. region_13062023_065119_20230624\n",
      "  595. region_13062023_065119_20230625\n",
      "  596. region_20230622\n",
      "  597. region_20230623\n",
      "  598. region_20230624\n",
      "  599. region_20230626\n",
      "  600. region_20230627\n",
      "  601. sakshidata\n",
      "  602. saksitest\n",
      "  603. sampletable\n",
      "  604. ship_mode\n",
      "  605. ship_mode_12052023_120858\n",
      "  606. shraddhatest\n",
      "  607. store\n",
      "  608. store_12052023_062934\n",
      "  609. store_20230623\n",
      "  610. store_20230624\n",
      "  611. store_returns\n",
      "  612. store_returns_2024\n",
      "  613. supplier\n",
      "  614. supplier_01012024_102747\n",
      "  615. supplier_04142025_053454\n",
      "  616. supplier_07182023_065604\n",
      "  617. supplier_08092023_070234\n",
      "  618. supplier_11112024_070813\n",
      "  619. supplier_13062023_065119\n",
      "  620. supplier_13062023_065119_20230622\n",
      "  621. supplier_13062023_065119_20230623\n",
      "  622. supplier_13062023_065119_20230624\n",
      "  623. supplier_13062023_065119_20230625\n",
      "  624. tags\n",
      "  625. tags_08302024_043131\n",
      "  626. tags_08302024_115424\n",
      "  627. tblemployee\n",
      "  628. tblemployee_08112023_080011\n",
      "  629. tblemployee_20230609\n",
      "  630. tblemployee_20230610\n",
      "  631. tblemployee_20230611\n",
      "  632. tblemployee_20230612\n",
      "  633. tblemployee_28062023_054349\n",
      "  634. tbltest\n",
      "  635. tbltest_20230609\n",
      "  636. tbltest_20230610\n",
      "  637. tbltest_20230611\n",
      "  638. tbltest_20230612\n",
      "  639. tbltest_28062023_054349\n",
      "  640. te1\n",
      "  641. time_dim\n",
      "  642. tmp_trino_6b303b59_8cb00991\n",
      "  643. tmp_trino_86d6e343_7526c2e6\n",
      "  644. user\n",
      "  645. user1_20230626\n",
      "  646. user1_20230627\n",
      "  647. user_20230623\n",
      "  648. vedikapatil\n",
      "  649. warehouse\n",
      "  650. warehouse_12132023_102045\n",
      "  651. web_page\n",
      "  652. web_returns\n",
      "  653. web_sales\n",
      "  654. web_sales_12132023_102045\n",
      "  655. web_site\n",
      "Loading: SELECT * FROM hive.ml.people_data_2003\n",
      "Preprocessing table: people_data_2003 (rows=50,578)\n",
      "combined_df ready: 50,578 rows; columns: 24\n"
     ]
    }
   ],
   "source": [
    "try:\n",
    "    import trino\n",
    "    from trino.dbapi import connect as trino_connect\n",
    "    from trino.auth import BasicAuthentication\n",
    "except Exception as e:\n",
    "    raise ImportError(\"trino Python package is required. Add 'trino' to requirements and pip install it.\")\n",
    "\n",
    "# --- Connection config (edit defaults as needed) ---\n",
    "TRINO_HOST = os.getenv(\"TRINO_HOST\", \"3.108.199.0\")\n",
    "TRINO_PORT = int(os.getenv(\"TRINO_PORT\", \"32092\"))\n",
    "TRINO_USER = os.getenv(\"TRINO_USER\", \"root\")\n",
    "TRINO_CATALOG = os.getenv(\"TRINO_CATALOG\", \"hive\")  # Hive connector pointing to MinIO-backed data\n",
    "TRINO_HTTP_SCHEME = os.getenv(\"TRINO_HTTP_SCHEME\", \"http\")  # or \"https\"\n",
    "# No auth required per your setup\n",
    "auth = None\n",
    "\n",
    "conn = trino_connect(\n",
    "    host=TRINO_HOST,\n",
    "    port=TRINO_PORT,\n",
    "    user=TRINO_USER,\n",
    "    catalog=TRINO_CATALOG,\n",
    "    http_scheme=TRINO_HTTP_SCHEME,\n",
    "    auth=auth,\n",
    ")\n",
    "\n",
    "cur = conn.cursor()\n",
    "\n",
    "# --- List schemas and prompt user ---\n",
    "cur.execute(\"SHOW SCHEMAS\")\n",
    "schemas = sorted([r[0] for r in cur.fetchall()])\n",
    "print(f\"Available schemas:\")\n",
    "for i, s in enumerate(schemas):\n",
    "    print(f\"  {i+1}. {s}\")\n",
    "\n",
    "schema_input = input(\"Enter schema name (exact) from the list above: \").strip()\n",
    "if schema_input not in schemas:\n",
    "    raise ValueError(f\"Schema '{schema_input}' not found in catalog {TRINO_CATALOG}\")\n",
    "\n",
    "# --- List tables in chosen schema ---\n",
    "cur.execute(f\"SHOW TABLES FROM {TRINO_CATALOG}.{schema_input}\")\n",
    "tables = sorted([r[0] for r in cur.fetchall()])\n",
    "print(f\"Tables in {TRINO_CATALOG}.{schema_input}:\")\n",
    "for i, t in enumerate(tables):\n",
    "    print(f\"  {i+1}. {t}\")\n",
    "\n",
    "raw_tables = input(\"Enter one or more table names (comma-separated) to dedupe: \").strip()\n",
    "selected_tables = [t.strip() for t in raw_tables.split(\",\") if t.strip()]\n",
    "if len(selected_tables) < 1:\n",
    "    raise ValueError(\"Please provide at least 1 table name.\")\n",
    "\n",
    "# --- Load tables to pandas (optionally limit rows for speed) ---\n",
    "row_limit = input(\"Optional row limit per table (blank for no limit): \").strip()\n",
    "limit_sql = \"\"\n",
    "if row_limit:\n",
    "    try:\n",
    "        limit_n = int(row_limit)\n",
    "        limit_sql = f\" LIMIT {limit_n}\"\n",
    "    except Exception:\n",
    "        print(\"Invalid limit provided; loading full tables.\")\n",
    "        limit_sql = \"\"\n",
    "\n",
    "loaded_dfs = []\n",
    "for tbl in selected_tables:\n",
    "    q = f\"SELECT * FROM {TRINO_CATALOG}.{schema_input}.{tbl}{limit_sql}\"\n",
    "    print(f\"Loading: {q}\")\n",
    "    cur.execute(q)\n",
    "    rows = cur.fetchall()\n",
    "    cols = [d[0] for d in cur.description]\n",
    "    df_tbl = pd.DataFrame(rows, columns=cols)\n",
    "    loaded_dfs.append((tbl, df_tbl))\n",
    "\n",
    "# --- Map/clean using existing preprocess and combine logic ---\n",
    "preprocessed = []\n",
    "for tbl, df in loaded_dfs:\n",
    "    print(f\"Preprocessing table: {tbl} (rows={len(df):,})\")\n",
    "    preprocessed.append(preprocess_data(df))\n",
    "\n",
    "# Concatenate any number of tables into one combined_df\n",
    "combined_df = pd.concat(preprocessed, ignore_index=True)\n",
    "combined_df[\"unique_id\"] = combined_df.index.astype(str)\n",
    "\n",
    "print(f\"combined_df ready: {len(combined_df):,} rows; columns: {len(combined_df.columns)}\")"
   ]
  },
  {
   "cell_type": "code",
   "execution_count": null,
   "metadata": {},
   "outputs": [],
   "source": [
    "# # Combine data\n",
    "# combined_df = combine_dataframes(preprocessed_data_a, preprocessed_data_b)\n",
    "\n",
    "# # Identify and show duplicates\n",
    "# duplicates = identify_and_show_duplicates(combined_df, subset_cols=[\"first_name\", \"last_name\"])\n",
    "# print(f\"Sample of duplicate records are: \\n{duplicates} \")"
   ]
  },
  {
   "cell_type": "code",
   "execution_count": 6,
   "metadata": {},
   "outputs": [
    {
     "data": {
      "text/html": [
       "\n",
       "<style>\n",
       "  #altair-viz-71691bcad54d43cdbc41b47d9c0a82a2.vega-embed {\n",
       "    width: 100%;\n",
       "    display: flex;\n",
       "  }\n",
       "\n",
       "  #altair-viz-71691bcad54d43cdbc41b47d9c0a82a2.vega-embed details,\n",
       "  #altair-viz-71691bcad54d43cdbc41b47d9c0a82a2.vega-embed details summary {\n",
       "    position: relative;\n",
       "  }\n",
       "</style>\n",
       "<div id=\"altair-viz-71691bcad54d43cdbc41b47d9c0a82a2\"></div>\n",
       "<script type=\"text/javascript\">\n",
       "  var VEGA_DEBUG = (typeof VEGA_DEBUG == \"undefined\") ? {} : VEGA_DEBUG;\n",
       "  (function(spec, embedOpt){\n",
       "    let outputDiv = document.currentScript.previousElementSibling;\n",
       "    if (outputDiv.id !== \"altair-viz-71691bcad54d43cdbc41b47d9c0a82a2\") {\n",
       "      outputDiv = document.getElementById(\"altair-viz-71691bcad54d43cdbc41b47d9c0a82a2\");\n",
       "    }\n",
       "\n",
       "    const paths = {\n",
       "      \"vega\": \"https://cdn.jsdelivr.net/npm/vega@5?noext\",\n",
       "      \"vega-lib\": \"https://cdn.jsdelivr.net/npm/vega-lib?noext\",\n",
       "      \"vega-lite\": \"https://cdn.jsdelivr.net/npm/vega-lite@5.20.1?noext\",\n",
       "      \"vega-embed\": \"https://cdn.jsdelivr.net/npm/vega-embed@6?noext\",\n",
       "    };\n",
       "\n",
       "    function maybeLoadScript(lib, version) {\n",
       "      var key = `${lib.replace(\"-\", \"\")}_version`;\n",
       "      return (VEGA_DEBUG[key] == version) ?\n",
       "        Promise.resolve(paths[lib]) :\n",
       "        new Promise(function(resolve, reject) {\n",
       "          var s = document.createElement('script');\n",
       "          document.getElementsByTagName(\"head\")[0].appendChild(s);\n",
       "          s.async = true;\n",
       "          s.onload = () => {\n",
       "            VEGA_DEBUG[key] = version;\n",
       "            return resolve(paths[lib]);\n",
       "          };\n",
       "          s.onerror = () => reject(`Error loading script: ${paths[lib]}`);\n",
       "          s.src = paths[lib];\n",
       "        });\n",
       "    }\n",
       "\n",
       "    function showError(err) {\n",
       "      outputDiv.innerHTML = `<div class=\"error\" style=\"color:red;\">${err}</div>`;\n",
       "      throw err;\n",
       "    }\n",
       "\n",
       "    function displayChart(vegaEmbed) {\n",
       "      vegaEmbed(outputDiv, spec, embedOpt)\n",
       "        .catch(err => showError(`Javascript Error: ${err.message}<br>This usually means there's a typo in your chart specification. See the javascript console for the full traceback.`));\n",
       "    }\n",
       "\n",
       "    if(typeof define === \"function\" && define.amd) {\n",
       "      requirejs.config({paths});\n",
       "      let deps = [\"vega-embed\"];\n",
       "      require(deps, displayChart, err => showError(`Error loading script: ${err.message}`));\n",
       "    } else {\n",
       "      maybeLoadScript(\"vega\", \"5\")\n",
       "        .then(() => maybeLoadScript(\"vega-lite\", \"5.20.1\"))\n",
       "        .then(() => maybeLoadScript(\"vega-embed\", \"6\"))\n",
       "        .catch(showError)\n",
       "        .then(() => displayChart(vegaEmbed));\n",
       "    }\n",
       "  })({\"config\": {\"view\": {\"continuousWidth\": 400, \"continuousHeight\": 300}}, \"layer\": [{\"mark\": \"rect\", \"encoding\": {\"color\": {\"field\": \"completeness\", \"legend\": null, \"scale\": {\"scheme\": \"darkred\", \"zero\": true}, \"type\": \"quantitative\"}, \"tooltip\": [{\"field\": \"source_dataset\", \"title\": \"Source dataset\", \"type\": \"nominal\"}, {\"field\": \"total_rows_inc_nulls\", \"format\": \",\", \"title\": \"# of records\", \"type\": \"quantitative\"}, {\"field\": \"column_name\", \"title\": \"Column name\", \"type\": \"nominal\"}, {\"field\": \"total_null_rows\", \"format\": \",\", \"title\": \"# of nulls\", \"type\": \"quantitative\"}, {\"field\": \"completeness\", \"format\": \".1%\", \"type\": \"quantitative\"}], \"x\": {\"axis\": {\"labelAngle\": 20}, \"field\": \"column_name\", \"sort\": {\"field\": \"mean_comp\", \"order\": \"descending\"}, \"title\": \"Column name\", \"type\": \"nominal\"}, \"y\": {\"field\": \"source_dataset\", \"title\": \"Source dataset\", \"type\": \"nominal\"}}, \"title\": \"Column completeness by source dataset\", \"transform\": [{\"joinaggregate\": [{\"op\": \"mean\", \"field\": \"completeness\", \"as\": \"mean_comp\"}], \"groupby\": [\"column_name\"]}]}, {\"mark\": {\"type\": \"text\"}, \"encoding\": {\"color\": {\"condition\": {\"test\": \"datum['completeness'] < 0.5\", \"value\": \"white\"}, \"value\": \"black\"}, \"text\": {\"field\": \"completeness\", \"format\": \".0%\", \"type\": \"quantitative\"}, \"x\": {\"axis\": {\"labelAngle\": 0}, \"field\": \"column_name\", \"sort\": {\"field\": \"mean_comp\", \"order\": \"descending\"}, \"type\": \"nominal\"}, \"y\": {\"field\": \"source_dataset\", \"type\": \"nominal\"}}, \"transform\": [{\"joinaggregate\": [{\"op\": \"mean\", \"field\": \"completeness\", \"as\": \"mean_comp\"}], \"groupby\": [\"column_name\"]}]}], \"data\": {\"name\": \"data-d66a4f3a1f59a179435a291aa0c6aaed\"}, \"height\": {\"step\": 40}, \"width\": {\"step\": 40}, \"$schema\": \"https://vega.github.io/schema/vega-lite/v5.9.3.json\", \"datasets\": {\"data-d66a4f3a1f59a179435a291aa0c6aaed\": [{\"source_dataset\": \"input_data_1\", \"column_name\": \"full_name\", \"total_null_rows\": 0, \"total_rows_inc_nulls\": 50578, \"completeness\": 1.0}, {\"source_dataset\": \"input_data_1\", \"column_name\": \"first_and_surname\", \"total_null_rows\": 67, \"total_rows_inc_nulls\": 50578, \"completeness\": 0.9986752867698669}, {\"source_dataset\": \"input_data_1\", \"column_name\": \"first_name\", \"total_null_rows\": 0, \"total_rows_inc_nulls\": 50578, \"completeness\": 1.0}, {\"source_dataset\": \"input_data_1\", \"column_name\": \"surname\", \"total_null_rows\": 4515, \"total_rows_inc_nulls\": 50578, \"completeness\": 0.9107319116592407}, {\"source_dataset\": \"input_data_1\", \"column_name\": \"dob\", \"total_null_rows\": 0, \"total_rows_inc_nulls\": 50578, \"completeness\": 1.0}, {\"source_dataset\": \"input_data_1\", \"column_name\": \"birth_place\", \"total_null_rows\": 6927, \"total_rows_inc_nulls\": 50578, \"completeness\": 0.8630432486534119}, {\"source_dataset\": \"input_data_1\", \"column_name\": \"postcode_fake\", \"total_null_rows\": 11426, \"total_rows_inc_nulls\": 50578, \"completeness\": 0.7740914821624756}, {\"source_dataset\": \"input_data_1\", \"column_name\": \"gender\", \"total_null_rows\": 11230, \"total_rows_inc_nulls\": 50578, \"completeness\": 0.7779666781425476}, {\"source_dataset\": \"input_data_1\", \"column_name\": \"occupation\", \"total_null_rows\": 25289, \"total_rows_inc_nulls\": 50578, \"completeness\": 0.5}, {\"source_dataset\": \"input_data_1\", \"column_name\": \"email\", \"total_null_rows\": 0, \"total_rows_inc_nulls\": 50578, \"completeness\": 1.0}, {\"source_dataset\": \"input_data_1\", \"column_name\": \"phone\", \"total_null_rows\": 0, \"total_rows_inc_nulls\": 50578, \"completeness\": 1.0}, {\"source_dataset\": \"input_data_1\", \"column_name\": \"address\", \"total_null_rows\": 0, \"total_rows_inc_nulls\": 50578, \"completeness\": 1.0}, {\"source_dataset\": \"input_data_1\", \"column_name\": \"city\", \"total_null_rows\": 0, \"total_rows_inc_nulls\": 50578, \"completeness\": 1.0}, {\"source_dataset\": \"input_data_1\", \"column_name\": \"country\", \"total_null_rows\": 0, \"total_rows_inc_nulls\": 50578, \"completeness\": 1.0}, {\"source_dataset\": \"input_data_1\", \"column_name\": \"postal_code\", \"total_null_rows\": 11426, \"total_rows_inc_nulls\": 50578, \"completeness\": 0.7740914821624756}, {\"source_dataset\": \"input_data_1\", \"column_name\": \"last_name\", \"total_null_rows\": 0, \"total_rows_inc_nulls\": 50578, \"completeness\": 1.0}, {\"source_dataset\": \"input_data_1\", \"column_name\": \"street\", \"total_null_rows\": 0, \"total_rows_inc_nulls\": 50578, \"completeness\": 1.0}, {\"source_dataset\": \"input_data_1\", \"column_name\": \"zip\", \"total_null_rows\": 0, \"total_rows_inc_nulls\": 50578, \"completeness\": 1.0}, {\"source_dataset\": \"input_data_1\", \"column_name\": \"state\", \"total_null_rows\": 0, \"total_rows_inc_nulls\": 50578, \"completeness\": 1.0}, {\"source_dataset\": \"input_data_1\", \"column_name\": \"phone_ext\", \"total_null_rows\": 42298, \"total_rows_inc_nulls\": 50578, \"completeness\": 0.16370753943920135}, {\"source_dataset\": \"input_data_1\", \"column_name\": \"email_domain\", \"total_null_rows\": 10143, \"total_rows_inc_nulls\": 50578, \"completeness\": 0.7994582653045654}, {\"source_dataset\": \"input_data_1\", \"column_name\": \"first_name_metaphone\", \"total_null_rows\": 0, \"total_rows_inc_nulls\": 50578, \"completeness\": 1.0}, {\"source_dataset\": \"input_data_1\", \"column_name\": \"last_name_metaphone\", \"total_null_rows\": 0, \"total_rows_inc_nulls\": 50578, \"completeness\": 1.0}, {\"source_dataset\": \"input_data_1\", \"column_name\": \"unique_id\", \"total_null_rows\": 0, \"total_rows_inc_nulls\": 50578, \"completeness\": 1.0}]}}, {\"mode\": \"vega-lite\"});\n",
       "</script>"
      ],
      "text/plain": [
       "alt.LayerChart(...)"
      ]
     },
     "execution_count": 6,
     "metadata": {},
     "output_type": "execute_result"
    }
   ],
   "source": [
    "# Analyze completeness of data\n",
    "db_api = DuckDBAPI()\n",
    "analyze_completeness(combined_df, db_api)"
   ]
  },
  {
   "cell_type": "code",
   "execution_count": 7,
   "metadata": {},
   "outputs": [
    {
     "data": {
      "text/html": [
       "\n",
       "<style>\n",
       "  #altair-viz-3032f2644ea041a989700092bbb4e1dc.vega-embed {\n",
       "    width: 100%;\n",
       "    display: flex;\n",
       "  }\n",
       "\n",
       "  #altair-viz-3032f2644ea041a989700092bbb4e1dc.vega-embed details,\n",
       "  #altair-viz-3032f2644ea041a989700092bbb4e1dc.vega-embed details summary {\n",
       "    position: relative;\n",
       "  }\n",
       "</style>\n",
       "<div id=\"altair-viz-3032f2644ea041a989700092bbb4e1dc\"></div>\n",
       "<script type=\"text/javascript\">\n",
       "  var VEGA_DEBUG = (typeof VEGA_DEBUG == \"undefined\") ? {} : VEGA_DEBUG;\n",
       "  (function(spec, embedOpt){\n",
       "    let outputDiv = document.currentScript.previousElementSibling;\n",
       "    if (outputDiv.id !== \"altair-viz-3032f2644ea041a989700092bbb4e1dc\") {\n",
       "      outputDiv = document.getElementById(\"altair-viz-3032f2644ea041a989700092bbb4e1dc\");\n",
       "    }\n",
       "\n",
       "    const paths = {\n",
       "      \"vega\": \"https://cdn.jsdelivr.net/npm/vega@5?noext\",\n",
       "      \"vega-lib\": \"https://cdn.jsdelivr.net/npm/vega-lib?noext\",\n",
       "      \"vega-lite\": \"https://cdn.jsdelivr.net/npm/vega-lite@5.20.1?noext\",\n",
       "      \"vega-embed\": \"https://cdn.jsdelivr.net/npm/vega-embed@6?noext\",\n",
       "    };\n",
       "\n",
       "    function maybeLoadScript(lib, version) {\n",
       "      var key = `${lib.replace(\"-\", \"\")}_version`;\n",
       "      return (VEGA_DEBUG[key] == version) ?\n",
       "        Promise.resolve(paths[lib]) :\n",
       "        new Promise(function(resolve, reject) {\n",
       "          var s = document.createElement('script');\n",
       "          document.getElementsByTagName(\"head\")[0].appendChild(s);\n",
       "          s.async = true;\n",
       "          s.onload = () => {\n",
       "            VEGA_DEBUG[key] = version;\n",
       "            return resolve(paths[lib]);\n",
       "          };\n",
       "          s.onerror = () => reject(`Error loading script: ${paths[lib]}`);\n",
       "          s.src = paths[lib];\n",
       "        });\n",
       "    }\n",
       "\n",
       "    function showError(err) {\n",
       "      outputDiv.innerHTML = `<div class=\"error\" style=\"color:red;\">${err}</div>`;\n",
       "      throw err;\n",
       "    }\n",
       "\n",
       "    function displayChart(vegaEmbed) {\n",
       "      vegaEmbed(outputDiv, spec, embedOpt)\n",
       "        .catch(err => showError(`Javascript Error: ${err.message}<br>This usually means there's a typo in your chart specification. See the javascript console for the full traceback.`));\n",
       "    }\n",
       "\n",
       "    if(typeof define === \"function\" && define.amd) {\n",
       "      requirejs.config({paths});\n",
       "      let deps = [\"vega-embed\"];\n",
       "      require(deps, displayChart, err => showError(`Error loading script: ${err.message}`));\n",
       "    } else {\n",
       "      maybeLoadScript(\"vega\", \"5\")\n",
       "        .then(() => maybeLoadScript(\"vega-lite\", \"5.20.1\"))\n",
       "        .then(() => maybeLoadScript(\"vega-embed\", \"6\"))\n",
       "        .catch(showError)\n",
       "        .then(() => displayChart(vegaEmbed));\n",
       "    }\n",
       "  })({\"config\": {\"view\": {\"continuousWidth\": 400, \"continuousHeight\": 300}}, \"vconcat\": [{\"hconcat\": [{\"mark\": {\"type\": \"line\", \"interpolate\": \"step-before\"}, \"data\": {\"values\": [{\"percentile_ex_nulls\": 0.9983787536621094, \"percentile_inc_nulls\": 0.9983787536621094, \"value_count\": 82, \"group_name\": \"_full_name_\", \"total_non_null_rows\": 50578, \"total_rows_inc_nulls\": 50578, \"sum_tokens_in_value_count_group\": 82, \"distinct_value_count\": 25574}, {\"percentile_ex_nulls\": 0.9968761205673218, \"percentile_inc_nulls\": 0.9968761205673218, \"value_count\": 76, \"group_name\": \"_full_name_\", \"total_non_null_rows\": 50578, \"total_rows_inc_nulls\": 50578, \"sum_tokens_in_value_count_group\": 76, \"distinct_value_count\": 25574}, {\"percentile_ex_nulls\": 0.9955514073371887, \"percentile_inc_nulls\": 0.9955514073371887, \"value_count\": 67, \"group_name\": \"_full_name_\", \"total_non_null_rows\": 50578, \"total_rows_inc_nulls\": 50578, \"sum_tokens_in_value_count_group\": 67, \"distinct_value_count\": 25574}, {\"percentile_ex_nulls\": 0.994325578212738, \"percentile_inc_nulls\": 0.994325578212738, \"value_count\": 62, \"group_name\": \"_full_name_\", \"total_non_null_rows\": 50578, \"total_rows_inc_nulls\": 50578, \"sum_tokens_in_value_count_group\": 62, \"distinct_value_count\": 25574}, {\"percentile_ex_nulls\": 0.9933172464370728, \"percentile_inc_nulls\": 0.9933172464370728, \"value_count\": 51, \"group_name\": \"_full_name_\", \"total_non_null_rows\": 50578, \"total_rows_inc_nulls\": 50578, \"sum_tokens_in_value_count_group\": 51, \"distinct_value_count\": 25574}, {\"percentile_ex_nulls\": 0.992368221282959, \"percentile_inc_nulls\": 0.992368221282959, \"value_count\": 48, \"group_name\": \"_full_name_\", \"total_non_null_rows\": 50578, \"total_rows_inc_nulls\": 50578, \"sum_tokens_in_value_count_group\": 48, \"distinct_value_count\": 25574}, {\"percentile_ex_nulls\": 0.9915575981140137, \"percentile_inc_nulls\": 0.9915575981140137, \"value_count\": 41, \"group_name\": \"_full_name_\", \"total_non_null_rows\": 50578, \"total_rows_inc_nulls\": 50578, \"sum_tokens_in_value_count_group\": 41, \"distinct_value_count\": 25574}, {\"percentile_ex_nulls\": 0.9907864928245544, \"percentile_inc_nulls\": 0.9907864928245544, \"value_count\": 39, \"group_name\": \"_full_name_\", \"total_non_null_rows\": 50578, \"total_rows_inc_nulls\": 50578, \"sum_tokens_in_value_count_group\": 39, \"distinct_value_count\": 25574}, {\"percentile_ex_nulls\": 0.988532543182373, \"percentile_inc_nulls\": 0.988532543182373, \"value_count\": 38, \"group_name\": \"_full_name_\", \"total_non_null_rows\": 50578, \"total_rows_inc_nulls\": 50578, \"sum_tokens_in_value_count_group\": 114, \"distinct_value_count\": 25574}, {\"percentile_ex_nulls\": 0.9878208041191101, \"percentile_inc_nulls\": 0.9878208041191101, \"value_count\": 36, \"group_name\": \"_full_name_\", \"total_non_null_rows\": 50578, \"total_rows_inc_nulls\": 50578, \"sum_tokens_in_value_count_group\": 36, \"distinct_value_count\": 25574}, {\"percentile_ex_nulls\": 0.9871287941932678, \"percentile_inc_nulls\": 0.9871287941932678, \"value_count\": 35, \"group_name\": \"_full_name_\", \"total_non_null_rows\": 50578, \"total_rows_inc_nulls\": 50578, \"sum_tokens_in_value_count_group\": 35, \"distinct_value_count\": 25574}, {\"percentile_ex_nulls\": 0.9864763617515564, \"percentile_inc_nulls\": 0.9864763617515564, \"value_count\": 33, \"group_name\": \"_full_name_\", \"total_non_null_rows\": 50578, \"total_rows_inc_nulls\": 50578, \"sum_tokens_in_value_count_group\": 33, \"distinct_value_count\": 25574}, {\"percentile_ex_nulls\": 0.9859029650688171, \"percentile_inc_nulls\": 0.9859029650688171, \"value_count\": 29, \"group_name\": \"_full_name_\", \"total_non_null_rows\": 50578, \"total_rows_inc_nulls\": 50578, \"sum_tokens_in_value_count_group\": 29, \"distinct_value_count\": 25574}, {\"percentile_ex_nulls\": 0.9849143624305725, \"percentile_inc_nulls\": 0.9849143624305725, \"value_count\": 25, \"group_name\": \"_full_name_\", \"total_non_null_rows\": 50578, \"total_rows_inc_nulls\": 50578, \"sum_tokens_in_value_count_group\": 50, \"distinct_value_count\": 25574}, {\"percentile_ex_nulls\": 0.984459638595581, \"percentile_inc_nulls\": 0.984459638595581, \"value_count\": 23, \"group_name\": \"_full_name_\", \"total_non_null_rows\": 50578, \"total_rows_inc_nulls\": 50578, \"sum_tokens_in_value_count_group\": 23, \"distinct_value_count\": 25574}, {\"percentile_ex_nulls\": 0.9819684624671936, \"percentile_inc_nulls\": 0.9819684624671936, \"value_count\": 21, \"group_name\": \"_full_name_\", \"total_non_null_rows\": 50578, \"total_rows_inc_nulls\": 50578, \"sum_tokens_in_value_count_group\": 126, \"distinct_value_count\": 25574}, {\"percentile_ex_nulls\": 0.9815729856491089, \"percentile_inc_nulls\": 0.9815729856491089, \"value_count\": 20, \"group_name\": \"_full_name_\", \"total_non_null_rows\": 50578, \"total_rows_inc_nulls\": 50578, \"sum_tokens_in_value_count_group\": 20, \"distinct_value_count\": 25574}, {\"percentile_ex_nulls\": 0.9804460406303406, \"percentile_inc_nulls\": 0.9804460406303406, \"value_count\": 19, \"group_name\": \"_full_name_\", \"total_non_null_rows\": 50578, \"total_rows_inc_nulls\": 50578, \"sum_tokens_in_value_count_group\": 57, \"distinct_value_count\": 25574}, {\"percentile_ex_nulls\": 0.9790225028991699, \"percentile_inc_nulls\": 0.9790225028991699, \"value_count\": 18, \"group_name\": \"_full_name_\", \"total_non_null_rows\": 50578, \"total_rows_inc_nulls\": 50578, \"sum_tokens_in_value_count_group\": 72, \"distinct_value_count\": 25574}, {\"percentile_ex_nulls\": 0.9783502817153931, \"percentile_inc_nulls\": 0.9783502817153931, \"value_count\": 17, \"group_name\": \"_full_name_\", \"total_non_null_rows\": 50578, \"total_rows_inc_nulls\": 50578, \"sum_tokens_in_value_count_group\": 34, \"distinct_value_count\": 25574}, {\"percentile_ex_nulls\": 0.9770848751068115, \"percentile_inc_nulls\": 0.9770848751068115, \"value_count\": 16, \"group_name\": \"_full_name_\", \"total_non_null_rows\": 50578, \"total_rows_inc_nulls\": 50578, \"sum_tokens_in_value_count_group\": 64, \"distinct_value_count\": 25574}, {\"percentile_ex_nulls\": 0.9747123122215271, \"percentile_inc_nulls\": 0.9747123122215271, \"value_count\": 15, \"group_name\": \"_full_name_\", \"total_non_null_rows\": 50578, \"total_rows_inc_nulls\": 50578, \"sum_tokens_in_value_count_group\": 120, \"distinct_value_count\": 25574}, {\"percentile_ex_nulls\": 0.9719443321228027, \"percentile_inc_nulls\": 0.9719443321228027, \"value_count\": 14, \"group_name\": \"_full_name_\", \"total_non_null_rows\": 50578, \"total_rows_inc_nulls\": 50578, \"sum_tokens_in_value_count_group\": 140, \"distinct_value_count\": 25574}, {\"percentile_ex_nulls\": 0.9675748348236084, \"percentile_inc_nulls\": 0.9675748348236084, \"value_count\": 13, \"group_name\": \"_full_name_\", \"total_non_null_rows\": 50578, \"total_rows_inc_nulls\": 50578, \"sum_tokens_in_value_count_group\": 221, \"distinct_value_count\": 25574}, {\"percentile_ex_nulls\": 0.9566609859466553, \"percentile_inc_nulls\": 0.9566609859466553, \"value_count\": 12, \"group_name\": \"_full_name_\", \"total_non_null_rows\": 50578, \"total_rows_inc_nulls\": 50578, \"sum_tokens_in_value_count_group\": 552, \"distinct_value_count\": 25574}, {\"percentile_ex_nulls\": 0.9405670166015625, \"percentile_inc_nulls\": 0.9405670166015625, \"value_count\": 11, \"group_name\": \"_full_name_\", \"total_non_null_rows\": 50578, \"total_rows_inc_nulls\": 50578, \"sum_tokens_in_value_count_group\": 814, \"distinct_value_count\": 25574}, {\"percentile_ex_nulls\": 0.9103167057037354, \"percentile_inc_nulls\": 0.9103167057037354, \"value_count\": 10, \"group_name\": \"_full_name_\", \"total_non_null_rows\": 50578, \"total_rows_inc_nulls\": 50578, \"sum_tokens_in_value_count_group\": 1530, \"distinct_value_count\": 25574}, {\"percentile_ex_nulls\": 0.8781090378761292, \"percentile_inc_nulls\": 0.8781090378761292, \"value_count\": 9, \"group_name\": \"_full_name_\", \"total_non_null_rows\": 50578, \"total_rows_inc_nulls\": 50578, \"sum_tokens_in_value_count_group\": 1629, \"distinct_value_count\": 25574}, {\"percentile_ex_nulls\": 0.8339791893959045, \"percentile_inc_nulls\": 0.8339791893959045, \"value_count\": 8, \"group_name\": \"_full_name_\", \"total_non_null_rows\": 50578, \"total_rows_inc_nulls\": 50578, \"sum_tokens_in_value_count_group\": 2232, \"distinct_value_count\": 25574}, {\"percentile_ex_nulls\": 0.7863695621490479, \"percentile_inc_nulls\": 0.7863695621490479, \"value_count\": 7, \"group_name\": \"_full_name_\", \"total_non_null_rows\": 50578, \"total_rows_inc_nulls\": 50578, \"sum_tokens_in_value_count_group\": 2408, \"distinct_value_count\": 25574}, {\"percentile_ex_nulls\": 0.7271738648414612, \"percentile_inc_nulls\": 0.7271738648414612, \"value_count\": 6, \"group_name\": \"_full_name_\", \"total_non_null_rows\": 50578, \"total_rows_inc_nulls\": 50578, \"sum_tokens_in_value_count_group\": 2994, \"distinct_value_count\": 25574}, {\"percentile_ex_nulls\": 0.6641029715538025, \"percentile_inc_nulls\": 0.6641029715538025, \"value_count\": 5, \"group_name\": \"_full_name_\", \"total_non_null_rows\": 50578, \"total_rows_inc_nulls\": 50578, \"sum_tokens_in_value_count_group\": 3190, \"distinct_value_count\": 25574}, {\"percentile_ex_nulls\": 0.5865198373794556, \"percentile_inc_nulls\": 0.5865198373794556, \"value_count\": 4, \"group_name\": \"_full_name_\", \"total_non_null_rows\": 50578, \"total_rows_inc_nulls\": 50578, \"sum_tokens_in_value_count_group\": 3924, \"distinct_value_count\": 25574}, {\"percentile_ex_nulls\": 0.4815334677696228, \"percentile_inc_nulls\": 0.4815334677696228, \"value_count\": 3, \"group_name\": \"_full_name_\", \"total_non_null_rows\": 50578, \"total_rows_inc_nulls\": 50578, \"sum_tokens_in_value_count_group\": 5310, \"distinct_value_count\": 25574}, {\"percentile_ex_nulls\": 0.3305191993713379, \"percentile_inc_nulls\": 0.3305191993713379, \"value_count\": 2, \"group_name\": \"_full_name_\", \"total_non_null_rows\": 50578, \"total_rows_inc_nulls\": 50578, \"sum_tokens_in_value_count_group\": 7638, \"distinct_value_count\": 25574}, {\"percentile_ex_nulls\": 0.0, \"percentile_inc_nulls\": 0.0, \"value_count\": 1, \"group_name\": \"_full_name_\", \"total_non_null_rows\": 50578, \"total_rows_inc_nulls\": 50578, \"sum_tokens_in_value_count_group\": 16717, \"distinct_value_count\": 25574}, {\"percentile_ex_nulls\": 1.0, \"percentile_inc_nulls\": 1.0, \"value_count\": 82, \"group_name\": \"_full_name_\", \"total_non_null_rows\": 50578, \"total_rows_inc_nulls\": 50578, \"sum_tokens_in_value_count_group\": 82, \"distinct_value_count\": 25574}]}, \"encoding\": {\"tooltip\": [{\"field\": \"value_count\", \"type\": \"quantitative\"}, {\"field\": \"percentile_ex_nulls\", \"type\": \"quantitative\"}, {\"field\": \"percentile_inc_nulls\", \"type\": \"quantitative\"}, {\"field\": \"total_non_null_rows\", \"type\": \"quantitative\"}, {\"field\": \"total_rows_inc_nulls\", \"type\": \"quantitative\"}], \"x\": {\"field\": \"percentile_ex_nulls\", \"sort\": \"descending\", \"title\": \"Percentile\", \"type\": \"quantitative\"}, \"y\": {\"field\": \"value_count\", \"title\": \"Count of values\", \"type\": \"quantitative\"}}, \"title\": {\"text\": \"Distribution of counts of values in column \\\"full_name\\\"\", \"subtitle\": \"In this col, 0 values (0.0%) are null and there are 25574 distinct values\"}}, {\"mark\": \"bar\", \"data\": {\"values\": [{\"value_count\": 82, \"group_name\": \"_full_name_\", \"value\": \"william\", \"total_non_null_rows\": 50578, \"total_rows_inc_nulls\": 50578, \"distinct_value_count\": 25574}, {\"value_count\": 76, \"group_name\": \"_full_name_\", \"value\": \"john\", \"total_non_null_rows\": 50578, \"total_rows_inc_nulls\": 50578, \"distinct_value_count\": 25574}, {\"value_count\": 67, \"group_name\": \"_full_name_\", \"value\": \"nan\", \"total_non_null_rows\": 50578, \"total_rows_inc_nulls\": 50578, \"distinct_value_count\": 25574}, {\"value_count\": 62, \"group_name\": \"_full_name_\", \"value\": \"sir baronet\", \"total_non_null_rows\": 50578, \"total_rows_inc_nulls\": 50578, \"distinct_value_count\": 25574}, {\"value_count\": 51, \"group_name\": \"_full_name_\", \"value\": \"thomas\", \"total_non_null_rows\": 50578, \"total_rows_inc_nulls\": 50578, \"distinct_value_count\": 25574}, {\"value_count\": 48, \"group_name\": \"_full_name_\", \"value\": \"sir 1st baronet\", \"total_non_null_rows\": 50578, \"total_rows_inc_nulls\": 50578, \"distinct_value_count\": 25574}, {\"value_count\": 41, \"group_name\": \"_full_name_\", \"value\": \"charles\", \"total_non_null_rows\": 50578, \"total_rows_inc_nulls\": 50578, \"distinct_value_count\": 25574}, {\"value_count\": 39, \"group_name\": \"_full_name_\", \"value\": \"tom\", \"total_non_null_rows\": 50578, \"total_rows_inc_nulls\": 50578, \"distinct_value_count\": 25574}, {\"value_count\": 38, \"group_name\": \"_full_name_\", \"value\": \"willie\", \"total_non_null_rows\": 50578, \"total_rows_inc_nulls\": 50578, \"distinct_value_count\": 25574}, {\"value_count\": 38, \"group_name\": \"_full_name_\", \"value\": \"1st bt.\", \"total_non_null_rows\": 50578, \"total_rows_inc_nulls\": 50578, \"distinct_value_count\": 25574}]}, \"encoding\": {\"tooltip\": [{\"field\": \"value\", \"type\": \"nominal\"}, {\"field\": \"value_count\", \"type\": \"quantitative\"}, {\"field\": \"total_non_null_rows\", \"type\": \"quantitative\"}, {\"field\": \"total_rows_inc_nulls\", \"type\": \"quantitative\"}], \"x\": {\"field\": \"value\", \"sort\": \"-y\", \"title\": null, \"type\": \"nominal\"}, \"y\": {\"field\": \"value_count\", \"title\": \"Value count\", \"type\": \"quantitative\"}}, \"title\": \"Top 10 values by value count\"}, {\"mark\": \"bar\", \"data\": {\"values\": [{\"value_count\": 1, \"group_name\": \"_full_name_\", \"value\": \"sir ronald ross\", \"total_non_null_rows\": 50578, \"total_rows_inc_nulls\": 50578, \"distinct_value_count\": 25574}, {\"value_count\": 1, \"group_name\": \"_full_name_\", \"value\": \"arthur englefiwld\", \"total_non_null_rows\": 50578, \"total_rows_inc_nulls\": 50578, \"distinct_value_count\": 25574}, {\"value_count\": 1, \"group_name\": \"_full_name_\", \"value\": \"wally jean bryant\", \"total_non_null_rows\": 50578, \"total_rows_inc_nulls\": 50578, \"distinct_value_count\": 25574}, {\"value_count\": 1, \"group_name\": \"_full_name_\", \"value\": \"walter joan bryant\", \"total_non_null_rows\": 50578, \"total_rows_inc_nulls\": 50578, \"distinct_value_count\": 25574}, {\"value_count\": 1, \"group_name\": \"_full_name_\", \"value\": \"hyrom bramwell\", \"total_non_null_rows\": 50578, \"total_rows_inc_nulls\": 50578, \"distinct_value_count\": 25574}]}, \"encoding\": {\"tooltip\": [{\"field\": \"value\", \"type\": \"nominal\"}, {\"field\": \"value_count\", \"type\": \"quantitative\"}, {\"field\": \"total_non_null_rows\", \"type\": \"quantitative\"}, {\"field\": \"total_rows_inc_nulls\", \"type\": \"quantitative\"}], \"x\": {\"field\": \"value\", \"sort\": \"-y\", \"title\": null, \"type\": \"nominal\"}, \"y\": {\"field\": \"value_count\", \"scale\": {\"domain\": [0, 82]}, \"title\": \"Value count\", \"type\": \"quantitative\"}}, \"title\": \"Bottom 5 values by value count\"}]}, {\"hconcat\": [{\"mark\": {\"type\": \"line\", \"interpolate\": \"step-before\"}, \"data\": {\"values\": [{\"percentile_ex_nulls\": 0.9892696738243103, \"percentile_inc_nulls\": 0.9892838597297668, \"value_count\": 542, \"group_name\": \"_first_and_surname_\", \"total_non_null_rows\": 50511, \"total_rows_inc_nulls\": 50578, \"sum_tokens_in_value_count_group\": 542, \"distinct_value_count\": 20479}, {\"percentile_ex_nulls\": 0.9876462817192078, \"percentile_inc_nulls\": 0.9876626133918762, \"value_count\": 82, \"group_name\": \"_first_and_surname_\", \"total_non_null_rows\": 50511, \"total_rows_inc_nulls\": 50578, \"sum_tokens_in_value_count_group\": 82, \"distinct_value_count\": 20479}, {\"percentile_ex_nulls\": 0.9861416220664978, \"percentile_inc_nulls\": 0.9861599802970886, \"value_count\": 76, \"group_name\": \"_first_and_surname_\", \"total_non_null_rows\": 50511, \"total_rows_inc_nulls\": 50578, \"sum_tokens_in_value_count_group\": 76, \"distinct_value_count\": 20479}, {\"percentile_ex_nulls\": 0.9850131869316101, \"percentile_inc_nulls\": 0.9850330352783203, \"value_count\": 57, \"group_name\": \"_first_and_surname_\", \"total_non_null_rows\": 50511, \"total_rows_inc_nulls\": 50578, \"sum_tokens_in_value_count_group\": 57, \"distinct_value_count\": 20479}, {\"percentile_ex_nulls\": 0.984003484249115, \"percentile_inc_nulls\": 0.984024703502655, \"value_count\": 51, \"group_name\": \"_first_and_surname_\", \"total_non_null_rows\": 50511, \"total_rows_inc_nulls\": 50578, \"sum_tokens_in_value_count_group\": 51, \"distinct_value_count\": 20479}, {\"percentile_ex_nulls\": 0.9831917881965637, \"percentile_inc_nulls\": 0.9832140207290649, \"value_count\": 41, \"group_name\": \"_first_and_surname_\", \"total_non_null_rows\": 50511, \"total_rows_inc_nulls\": 50578, \"sum_tokens_in_value_count_group\": 41, \"distinct_value_count\": 20479}, {\"percentile_ex_nulls\": 0.9823998808860779, \"percentile_inc_nulls\": 0.9824231863021851, \"value_count\": 40, \"group_name\": \"_first_and_surname_\", \"total_non_null_rows\": 50511, \"total_rows_inc_nulls\": 50578, \"sum_tokens_in_value_count_group\": 40, \"distinct_value_count\": 20479}, {\"percentile_ex_nulls\": 0.9816277623176575, \"percentile_inc_nulls\": 0.9816520810127258, \"value_count\": 39, \"group_name\": \"_first_and_surname_\", \"total_non_null_rows\": 50511, \"total_rows_inc_nulls\": 50578, \"sum_tokens_in_value_count_group\": 39, \"distinct_value_count\": 20479}, {\"percentile_ex_nulls\": 0.9801231622695923, \"percentile_inc_nulls\": 0.9801494479179382, \"value_count\": 38, \"group_name\": \"_first_and_surname_\", \"total_non_null_rows\": 50511, \"total_rows_inc_nulls\": 50578, \"sum_tokens_in_value_count_group\": 76, \"distinct_value_count\": 20479}, {\"percentile_ex_nulls\": 0.9794104099273682, \"percentile_inc_nulls\": 0.9794377088546753, \"value_count\": 36, \"group_name\": \"_first_and_surname_\", \"total_non_null_rows\": 50511, \"total_rows_inc_nulls\": 50578, \"sum_tokens_in_value_count_group\": 36, \"distinct_value_count\": 20479}, {\"percentile_ex_nulls\": 0.9787175059318542, \"percentile_inc_nulls\": 0.978745698928833, \"value_count\": 35, \"group_name\": \"_first_and_surname_\", \"total_non_null_rows\": 50511, \"total_rows_inc_nulls\": 50578, \"sum_tokens_in_value_count_group\": 35, \"distinct_value_count\": 20479}, {\"percentile_ex_nulls\": 0.9780641794204712, \"percentile_inc_nulls\": 0.9780932664871216, \"value_count\": 33, \"group_name\": \"_first_and_surname_\", \"total_non_null_rows\": 50511, \"total_rows_inc_nulls\": 50578, \"sum_tokens_in_value_count_group\": 33, \"distinct_value_count\": 20479}, {\"percentile_ex_nulls\": 0.9769158959388733, \"percentile_inc_nulls\": 0.9769464731216431, \"value_count\": 29, \"group_name\": \"_first_and_surname_\", \"total_non_null_rows\": 50511, \"total_rows_inc_nulls\": 50578, \"sum_tokens_in_value_count_group\": 58, \"distinct_value_count\": 20479}, {\"percentile_ex_nulls\": 0.9764012098312378, \"percentile_inc_nulls\": 0.9764324426651001, \"value_count\": 26, \"group_name\": \"_first_and_surname_\", \"total_non_null_rows\": 50511, \"total_rows_inc_nulls\": 50578, \"sum_tokens_in_value_count_group\": 26, \"distinct_value_count\": 20479}, {\"percentile_ex_nulls\": 0.975906252861023, \"percentile_inc_nulls\": 0.9759381413459778, \"value_count\": 25, \"group_name\": \"_first_and_surname_\", \"total_non_null_rows\": 50511, \"total_rows_inc_nulls\": 50578, \"sum_tokens_in_value_count_group\": 25, \"distinct_value_count\": 20479}, {\"percentile_ex_nulls\": 0.9754310846328735, \"percentile_inc_nulls\": 0.9754636287689209, \"value_count\": 24, \"group_name\": \"_first_and_surname_\", \"total_non_null_rows\": 50511, \"total_rows_inc_nulls\": 50578, \"sum_tokens_in_value_count_group\": 24, \"distinct_value_count\": 20479}, {\"percentile_ex_nulls\": 0.9740650653839111, \"percentile_inc_nulls\": 0.9740993976593018, \"value_count\": 23, \"group_name\": \"_first_and_surname_\", \"total_non_null_rows\": 50511, \"total_rows_inc_nulls\": 50578, \"sum_tokens_in_value_count_group\": 69, \"distinct_value_count\": 20479}, {\"percentile_ex_nulls\": 0.9736295342445374, \"percentile_inc_nulls\": 0.9736644625663757, \"value_count\": 22, \"group_name\": \"_first_and_surname_\", \"total_non_null_rows\": 50511, \"total_rows_inc_nulls\": 50578, \"sum_tokens_in_value_count_group\": 22, \"distinct_value_count\": 20479}, {\"percentile_ex_nulls\": 0.9707192778587341, \"percentile_inc_nulls\": 0.9707580208778381, \"value_count\": 21, \"group_name\": \"_first_and_surname_\", \"total_non_null_rows\": 50511, \"total_rows_inc_nulls\": 50578, \"sum_tokens_in_value_count_group\": 147, \"distinct_value_count\": 20479}, {\"percentile_ex_nulls\": 0.9687395095825195, \"percentile_inc_nulls\": 0.9687808752059937, \"value_count\": 20, \"group_name\": \"_first_and_surname_\", \"total_non_null_rows\": 50511, \"total_rows_inc_nulls\": 50578, \"sum_tokens_in_value_count_group\": 100, \"distinct_value_count\": 20479}, {\"percentile_ex_nulls\": 0.9679871797561646, \"percentile_inc_nulls\": 0.9680295586585999, \"value_count\": 19, \"group_name\": \"_first_and_surname_\", \"total_non_null_rows\": 50511, \"total_rows_inc_nulls\": 50578, \"sum_tokens_in_value_count_group\": 38, \"distinct_value_count\": 20479}, {\"percentile_ex_nulls\": 0.9651362895965576, \"percentile_inc_nulls\": 0.9651824831962585, \"value_count\": 18, \"group_name\": \"_first_and_surname_\", \"total_non_null_rows\": 50511, \"total_rows_inc_nulls\": 50578, \"sum_tokens_in_value_count_group\": 144, \"distinct_value_count\": 20479}, {\"percentile_ex_nulls\": 0.9624438285827637, \"percentile_inc_nulls\": 0.9624935984611511, \"value_count\": 17, \"group_name\": \"_first_and_surname_\", \"total_non_null_rows\": 50511, \"total_rows_inc_nulls\": 50578, \"sum_tokens_in_value_count_group\": 136, \"distinct_value_count\": 20479}, {\"percentile_ex_nulls\": 0.9592761993408203, \"percentile_inc_nulls\": 0.959330141544342, \"value_count\": 16, \"group_name\": \"_first_and_surname_\", \"total_non_null_rows\": 50511, \"total_rows_inc_nulls\": 50578, \"sum_tokens_in_value_count_group\": 160, \"distinct_value_count\": 20479}, {\"percentile_ex_nulls\": 0.9530399441719055, \"percentile_inc_nulls\": 0.9531021118164062, \"value_count\": 15, \"group_name\": \"_first_and_surname_\", \"total_non_null_rows\": 50511, \"total_rows_inc_nulls\": 50578, \"sum_tokens_in_value_count_group\": 315, \"distinct_value_count\": 20479}, {\"percentile_ex_nulls\": 0.9436162710189819, \"percentile_inc_nulls\": 0.9436909556388855, \"value_count\": 14, \"group_name\": \"_first_and_surname_\", \"total_non_null_rows\": 50511, \"total_rows_inc_nulls\": 50578, \"sum_tokens_in_value_count_group\": 476, \"distinct_value_count\": 20479}, {\"percentile_ex_nulls\": 0.9302330017089844, \"percentile_inc_nulls\": 0.930325448513031, \"value_count\": 13, \"group_name\": \"_first_and_surname_\", \"total_non_null_rows\": 50511, \"total_rows_inc_nulls\": 50578, \"sum_tokens_in_value_count_group\": 676, \"distinct_value_count\": 20479}, {\"percentile_ex_nulls\": 0.9093266725540161, \"percentile_inc_nulls\": 0.9094467759132385, \"value_count\": 12, \"group_name\": \"_first_and_surname_\", \"total_non_null_rows\": 50511, \"total_rows_inc_nulls\": 50578, \"sum_tokens_in_value_count_group\": 1056, \"distinct_value_count\": 20479}, {\"percentile_ex_nulls\": 0.8775316476821899, \"percentile_inc_nulls\": 0.8776938915252686, \"value_count\": 11, \"group_name\": \"_first_and_surname_\", \"total_non_null_rows\": 50511, \"total_rows_inc_nulls\": 50578, \"sum_tokens_in_value_count_group\": 1606, \"distinct_value_count\": 20479}, {\"percentile_ex_nulls\": 0.8314030766487122, \"percentile_inc_nulls\": 0.8316264152526855, \"value_count\": 10, \"group_name\": \"_first_and_surname_\", \"total_non_null_rows\": 50511, \"total_rows_inc_nulls\": 50578, \"sum_tokens_in_value_count_group\": 2330, \"distinct_value_count\": 20479}, {\"percentile_ex_nulls\": 0.7775930166244507, \"percentile_inc_nulls\": 0.7778875827789307, \"value_count\": 9, \"group_name\": \"_first_and_surname_\", \"total_non_null_rows\": 50511, \"total_rows_inc_nulls\": 50578, \"sum_tokens_in_value_count_group\": 2718, \"distinct_value_count\": 20479}, {\"percentile_ex_nulls\": 0.7178832292556763, \"percentile_inc_nulls\": 0.718256950378418, \"value_count\": 8, \"group_name\": \"_first_and_surname_\", \"total_non_null_rows\": 50511, \"total_rows_inc_nulls\": 50578, \"sum_tokens_in_value_count_group\": 3016, \"distinct_value_count\": 20479}, {\"percentile_ex_nulls\": 0.6616182327270508, \"percentile_inc_nulls\": 0.6620665192604065, \"value_count\": 7, \"group_name\": \"_first_and_surname_\", \"total_non_null_rows\": 50511, \"total_rows_inc_nulls\": 50578, \"sum_tokens_in_value_count_group\": 2842, \"distinct_value_count\": 20479}, {\"percentile_ex_nulls\": 0.5968798995018005, \"percentile_inc_nulls\": 0.5974138975143433, \"value_count\": 6, \"group_name\": \"_first_and_surname_\", \"total_non_null_rows\": 50511, \"total_rows_inc_nulls\": 50578, \"sum_tokens_in_value_count_group\": 3270, \"distinct_value_count\": 20479}, {\"percentile_ex_nulls\": 0.5302607417106628, \"percentile_inc_nulls\": 0.5308829545974731, \"value_count\": 5, \"group_name\": \"_first_and_surname_\", \"total_non_null_rows\": 50511, \"total_rows_inc_nulls\": 50578, \"sum_tokens_in_value_count_group\": 3365, \"distinct_value_count\": 20479}, {\"percentile_ex_nulls\": 0.45550471544265747, \"percentile_inc_nulls\": 0.45622605085372925, \"value_count\": 4, \"group_name\": \"_first_and_surname_\", \"total_non_null_rows\": 50511, \"total_rows_inc_nulls\": 50578, \"sum_tokens_in_value_count_group\": 3776, \"distinct_value_count\": 20479}, {\"percentile_ex_nulls\": 0.35750627517700195, \"percentile_inc_nulls\": 0.35835736989974976, \"value_count\": 3, \"group_name\": \"_first_and_surname_\", \"total_non_null_rows\": 50511, \"total_rows_inc_nulls\": 50578, \"sum_tokens_in_value_count_group\": 4950, \"distinct_value_count\": 20479}, {\"percentile_ex_nulls\": 0.23428559303283691, \"percentile_inc_nulls\": 0.2352999448776245, \"value_count\": 2, \"group_name\": \"_first_and_surname_\", \"total_non_null_rows\": 50511, \"total_rows_inc_nulls\": 50578, \"sum_tokens_in_value_count_group\": 6224, \"distinct_value_count\": 20479}, {\"percentile_ex_nulls\": 0.0, \"percentile_inc_nulls\": 0.0013247132301330566, \"value_count\": 1, \"group_name\": \"_first_and_surname_\", \"total_non_null_rows\": 50511, \"total_rows_inc_nulls\": 50578, \"sum_tokens_in_value_count_group\": 11834, \"distinct_value_count\": 20479}, {\"percentile_ex_nulls\": 1.0, \"percentile_inc_nulls\": 1.0, \"value_count\": 542, \"group_name\": \"_first_and_surname_\", \"total_non_null_rows\": 50511, \"total_rows_inc_nulls\": 50578, \"sum_tokens_in_value_count_group\": 542, \"distinct_value_count\": 20479}]}, \"encoding\": {\"tooltip\": [{\"field\": \"value_count\", \"type\": \"quantitative\"}, {\"field\": \"percentile_ex_nulls\", \"type\": \"quantitative\"}, {\"field\": \"percentile_inc_nulls\", \"type\": \"quantitative\"}, {\"field\": \"total_non_null_rows\", \"type\": \"quantitative\"}, {\"field\": \"total_rows_inc_nulls\", \"type\": \"quantitative\"}], \"x\": {\"field\": \"percentile_ex_nulls\", \"sort\": \"descending\", \"title\": \"Percentile\", \"type\": \"quantitative\"}, \"y\": {\"field\": \"value_count\", \"title\": \"Count of values\", \"type\": \"quantitative\"}}, \"title\": {\"text\": \"Distribution of counts of values in column \\\"first_and_surname\\\"\", \"subtitle\": \"In this col, 67 values (0.1%) are null and there are 20479 distinct values\"}}, {\"mark\": \"bar\", \"data\": {\"values\": [{\"value_count\": 542, \"group_name\": \"_first_and_surname_\", \"value\": \"sir baronet\", \"total_non_null_rows\": 50511, \"total_rows_inc_nulls\": 50578, \"distinct_value_count\": 20479}, {\"value_count\": 82, \"group_name\": \"_first_and_surname_\", \"value\": \"william\", \"total_non_null_rows\": 50511, \"total_rows_inc_nulls\": 50578, \"distinct_value_count\": 20479}, {\"value_count\": 76, \"group_name\": \"_first_and_surname_\", \"value\": \"john\", \"total_non_null_rows\": 50511, \"total_rows_inc_nulls\": 50578, \"distinct_value_count\": 20479}, {\"value_count\": 57, \"group_name\": \"_first_and_surname_\", \"value\": \"1st bt.\", \"total_non_null_rows\": 50511, \"total_rows_inc_nulls\": 50578, \"distinct_value_count\": 20479}, {\"value_count\": 51, \"group_name\": \"_first_and_surname_\", \"value\": \"thomas\", \"total_non_null_rows\": 50511, \"total_rows_inc_nulls\": 50578, \"distinct_value_count\": 20479}, {\"value_count\": 41, \"group_name\": \"_first_and_surname_\", \"value\": \"charles\", \"total_non_null_rows\": 50511, \"total_rows_inc_nulls\": 50578, \"distinct_value_count\": 20479}, {\"value_count\": 40, \"group_name\": \"_first_and_surname_\", \"value\": \"1st baronet\", \"total_non_null_rows\": 50511, \"total_rows_inc_nulls\": 50578, \"distinct_value_count\": 20479}, {\"value_count\": 39, \"group_name\": \"_first_and_surname_\", \"value\": \"tom\", \"total_non_null_rows\": 50511, \"total_rows_inc_nulls\": 50578, \"distinct_value_count\": 20479}, {\"value_count\": 38, \"group_name\": \"_first_and_surname_\", \"value\": \"willie\", \"total_non_null_rows\": 50511, \"total_rows_inc_nulls\": 50578, \"distinct_value_count\": 20479}, {\"value_count\": 38, \"group_name\": \"_first_and_surname_\", \"value\": \"james\", \"total_non_null_rows\": 50511, \"total_rows_inc_nulls\": 50578, \"distinct_value_count\": 20479}]}, \"encoding\": {\"tooltip\": [{\"field\": \"value\", \"type\": \"nominal\"}, {\"field\": \"value_count\", \"type\": \"quantitative\"}, {\"field\": \"total_non_null_rows\", \"type\": \"quantitative\"}, {\"field\": \"total_rows_inc_nulls\", \"type\": \"quantitative\"}], \"x\": {\"field\": \"value\", \"sort\": \"-y\", \"title\": null, \"type\": \"nominal\"}, \"y\": {\"field\": \"value_count\", \"title\": \"Value count\", \"type\": \"quantitative\"}}, \"title\": \"Top 10 values by value count\"}, {\"mark\": \"bar\", \"data\": {\"values\": [{\"value_count\": 1, \"group_name\": \"_first_and_surname_\", \"value\": \"walter john\", \"total_non_null_rows\": 50511, \"total_rows_inc_nulls\": 50578, \"distinct_value_count\": 20479}, {\"value_count\": 1, \"group_name\": \"_first_and_surname_\", \"value\": \"ron.ross\", \"total_non_null_rows\": 50511, \"total_rows_inc_nulls\": 50578, \"distinct_value_count\": 20479}, {\"value_count\": 1, \"group_name\": \"_first_and_surname_\", \"value\": \"ernest frederick\", \"total_non_null_rows\": 50511, \"total_rows_inc_nulls\": 50578, \"distinct_value_count\": 20479}, {\"value_count\": 1, \"group_name\": \"_first_and_surname_\", \"value\": \"g. yates\", \"total_non_null_rows\": 50511, \"total_rows_inc_nulls\": 50578, \"distinct_value_count\": 20479}, {\"value_count\": 1, \"group_name\": \"_first_and_surname_\", \"value\": \"jo bradshaw\", \"total_non_null_rows\": 50511, \"total_rows_inc_nulls\": 50578, \"distinct_value_count\": 20479}]}, \"encoding\": {\"tooltip\": [{\"field\": \"value\", \"type\": \"nominal\"}, {\"field\": \"value_count\", \"type\": \"quantitative\"}, {\"field\": \"total_non_null_rows\", \"type\": \"quantitative\"}, {\"field\": \"total_rows_inc_nulls\", \"type\": \"quantitative\"}], \"x\": {\"field\": \"value\", \"sort\": \"-y\", \"title\": null, \"type\": \"nominal\"}, \"y\": {\"field\": \"value_count\", \"scale\": {\"domain\": [0, 542]}, \"title\": \"Value count\", \"type\": \"quantitative\"}}, \"title\": \"Bottom 5 values by value count\"}]}, {\"hconcat\": [{\"mark\": {\"type\": \"line\", \"interpolate\": \"step-before\"}, \"data\": {\"values\": [{\"percentile_ex_nulls\": 0.9450353980064392, \"percentile_inc_nulls\": 0.9450353980064392, \"value_count\": 2780, \"group_name\": \"_first_name_\", \"total_non_null_rows\": 50578, \"total_rows_inc_nulls\": 50578, \"sum_tokens_in_value_count_group\": 2780, \"distinct_value_count\": 4414}, {\"percentile_ex_nulls\": 0.8909407258033752, \"percentile_inc_nulls\": 0.8909407258033752, \"value_count\": 2736, \"group_name\": \"_first_name_\", \"total_non_null_rows\": 50578, \"total_rows_inc_nulls\": 50578, \"sum_tokens_in_value_count_group\": 2736, \"distinct_value_count\": 4414}, {\"percentile_ex_nulls\": 0.8623116612434387, \"percentile_inc_nulls\": 0.8623116612434387, \"value_count\": 1448, \"group_name\": \"_first_name_\", \"total_non_null_rows\": 50578, \"total_rows_inc_nulls\": 50578, \"sum_tokens_in_value_count_group\": 1448, \"distinct_value_count\": 4414}, {\"percentile_ex_nulls\": 0.8343350887298584, \"percentile_inc_nulls\": 0.8343350887298584, \"value_count\": 1415, \"group_name\": \"_first_name_\", \"total_non_null_rows\": 50578, \"total_rows_inc_nulls\": 50578, \"sum_tokens_in_value_count_group\": 1415, \"distinct_value_count\": 4414}, {\"percentile_ex_nulls\": 0.8085135817527771, \"percentile_inc_nulls\": 0.8085135817527771, \"value_count\": 1306, \"group_name\": \"_first_name_\", \"total_non_null_rows\": 50578, \"total_rows_inc_nulls\": 50578, \"sum_tokens_in_value_count_group\": 1306, \"distinct_value_count\": 4414}, {\"percentile_ex_nulls\": 0.7835026979446411, \"percentile_inc_nulls\": 0.7835026979446411, \"value_count\": 1265, \"group_name\": \"_first_name_\", \"total_non_null_rows\": 50578, \"total_rows_inc_nulls\": 50578, \"sum_tokens_in_value_count_group\": 1265, \"distinct_value_count\": 4414}, {\"percentile_ex_nulls\": 0.7585511207580566, \"percentile_inc_nulls\": 0.7585511207580566, \"value_count\": 1262, \"group_name\": \"_first_name_\", \"total_non_null_rows\": 50578, \"total_rows_inc_nulls\": 50578, \"sum_tokens_in_value_count_group\": 1262, \"distinct_value_count\": 4414}, {\"percentile_ex_nulls\": 0.7345091104507446, \"percentile_inc_nulls\": 0.7345091104507446, \"value_count\": 1216, \"group_name\": \"_first_name_\", \"total_non_null_rows\": 50578, \"total_rows_inc_nulls\": 50578, \"sum_tokens_in_value_count_group\": 1216, \"distinct_value_count\": 4414}, {\"percentile_ex_nulls\": 0.7164973020553589, \"percentile_inc_nulls\": 0.7164973020553589, \"value_count\": 911, \"group_name\": \"_first_name_\", \"total_non_null_rows\": 50578, \"total_rows_inc_nulls\": 50578, \"sum_tokens_in_value_count_group\": 911, \"distinct_value_count\": 4414}, {\"percentile_ex_nulls\": 0.6990193128585815, \"percentile_inc_nulls\": 0.6990193128585815, \"value_count\": 884, \"group_name\": \"_first_name_\", \"total_non_null_rows\": 50578, \"total_rows_inc_nulls\": 50578, \"sum_tokens_in_value_count_group\": 884, \"distinct_value_count\": 4414}, {\"percentile_ex_nulls\": 0.6830835342407227, \"percentile_inc_nulls\": 0.6830835342407227, \"value_count\": 806, \"group_name\": \"_first_name_\", \"total_non_null_rows\": 50578, \"total_rows_inc_nulls\": 50578, \"sum_tokens_in_value_count_group\": 806, \"distinct_value_count\": 4414}, {\"percentile_ex_nulls\": 0.670153021812439, \"percentile_inc_nulls\": 0.670153021812439, \"value_count\": 654, \"group_name\": \"_first_name_\", \"total_non_null_rows\": 50578, \"total_rows_inc_nulls\": 50578, \"sum_tokens_in_value_count_group\": 654, \"distinct_value_count\": 4414}, {\"percentile_ex_nulls\": 0.6577761173248291, \"percentile_inc_nulls\": 0.6577761173248291, \"value_count\": 626, \"group_name\": \"_first_name_\", \"total_non_null_rows\": 50578, \"total_rows_inc_nulls\": 50578, \"sum_tokens_in_value_count_group\": 626, \"distinct_value_count\": 4414}, {\"percentile_ex_nulls\": 0.6476531028747559, \"percentile_inc_nulls\": 0.6476531028747559, \"value_count\": 512, \"group_name\": \"_first_name_\", \"total_non_null_rows\": 50578, \"total_rows_inc_nulls\": 50578, \"sum_tokens_in_value_count_group\": 512, \"distinct_value_count\": 4414}, {\"percentile_ex_nulls\": 0.6375499367713928, \"percentile_inc_nulls\": 0.6375499367713928, \"value_count\": 511, \"group_name\": \"_first_name_\", \"total_non_null_rows\": 50578, \"total_rows_inc_nulls\": 50578, \"sum_tokens_in_value_count_group\": 511, \"distinct_value_count\": 4414}, {\"percentile_ex_nulls\": 0.6274862289428711, \"percentile_inc_nulls\": 0.6274862289428711, \"value_count\": 509, \"group_name\": \"_first_name_\", \"total_non_null_rows\": 50578, \"total_rows_inc_nulls\": 50578, \"sum_tokens_in_value_count_group\": 509, \"distinct_value_count\": 4414}, {\"percentile_ex_nulls\": 0.6176400780677795, \"percentile_inc_nulls\": 0.6176400780677795, \"value_count\": 498, \"group_name\": \"_first_name_\", \"total_non_null_rows\": 50578, \"total_rows_inc_nulls\": 50578, \"sum_tokens_in_value_count_group\": 498, \"distinct_value_count\": 4414}, {\"percentile_ex_nulls\": 0.6084463596343994, \"percentile_inc_nulls\": 0.6084463596343994, \"value_count\": 465, \"group_name\": \"_first_name_\", \"total_non_null_rows\": 50578, \"total_rows_inc_nulls\": 50578, \"sum_tokens_in_value_count_group\": 465, \"distinct_value_count\": 4414}, {\"percentile_ex_nulls\": 0.5992723703384399, \"percentile_inc_nulls\": 0.5992723703384399, \"value_count\": 464, \"group_name\": \"_first_name_\", \"total_non_null_rows\": 50578, \"total_rows_inc_nulls\": 50578, \"sum_tokens_in_value_count_group\": 464, \"distinct_value_count\": 4414}, {\"percentile_ex_nulls\": 0.5909881591796875, \"percentile_inc_nulls\": 0.5909881591796875, \"value_count\": 419, \"group_name\": \"_first_name_\", \"total_non_null_rows\": 50578, \"total_rows_inc_nulls\": 50578, \"sum_tokens_in_value_count_group\": 419, \"distinct_value_count\": 4414}, {\"percentile_ex_nulls\": 0.5836925506591797, \"percentile_inc_nulls\": 0.5836925506591797, \"value_count\": 369, \"group_name\": \"_first_name_\", \"total_non_null_rows\": 50578, \"total_rows_inc_nulls\": 50578, \"sum_tokens_in_value_count_group\": 369, \"distinct_value_count\": 4414}, {\"percentile_ex_nulls\": 0.5767922401428223, \"percentile_inc_nulls\": 0.5767922401428223, \"value_count\": 349, \"group_name\": \"_first_name_\", \"total_non_null_rows\": 50578, \"total_rows_inc_nulls\": 50578, \"sum_tokens_in_value_count_group\": 349, \"distinct_value_count\": 4414}, {\"percentile_ex_nulls\": 0.5703862905502319, \"percentile_inc_nulls\": 0.5703862905502319, \"value_count\": 324, \"group_name\": \"_first_name_\", \"total_non_null_rows\": 50578, \"total_rows_inc_nulls\": 50578, \"sum_tokens_in_value_count_group\": 324, \"distinct_value_count\": 4414}, {\"percentile_ex_nulls\": 0.5640594959259033, \"percentile_inc_nulls\": 0.5640594959259033, \"value_count\": 320, \"group_name\": \"_first_name_\", \"total_non_null_rows\": 50578, \"total_rows_inc_nulls\": 50578, \"sum_tokens_in_value_count_group\": 320, \"distinct_value_count\": 4414}, {\"percentile_ex_nulls\": 0.557890772819519, \"percentile_inc_nulls\": 0.557890772819519, \"value_count\": 312, \"group_name\": \"_first_name_\", \"total_non_null_rows\": 50578, \"total_rows_inc_nulls\": 50578, \"sum_tokens_in_value_count_group\": 312, \"distinct_value_count\": 4414}, {\"percentile_ex_nulls\": 0.551979124546051, \"percentile_inc_nulls\": 0.551979124546051, \"value_count\": 299, \"group_name\": \"_first_name_\", \"total_non_null_rows\": 50578, \"total_rows_inc_nulls\": 50578, \"sum_tokens_in_value_count_group\": 299, \"distinct_value_count\": 4414}, {\"percentile_ex_nulls\": 0.5463047027587891, \"percentile_inc_nulls\": 0.5463047027587891, \"value_count\": 287, \"group_name\": \"_first_name_\", \"total_non_null_rows\": 50578, \"total_rows_inc_nulls\": 50578, \"sum_tokens_in_value_count_group\": 287, \"distinct_value_count\": 4414}, {\"percentile_ex_nulls\": 0.5408082604408264, \"percentile_inc_nulls\": 0.5408082604408264, \"value_count\": 278, \"group_name\": \"_first_name_\", \"total_non_null_rows\": 50578, \"total_rows_inc_nulls\": 50578, \"sum_tokens_in_value_count_group\": 278, \"distinct_value_count\": 4414}, {\"percentile_ex_nulls\": 0.5354700088500977, \"percentile_inc_nulls\": 0.5354700088500977, \"value_count\": 270, \"group_name\": \"_first_name_\", \"total_non_null_rows\": 50578, \"total_rows_inc_nulls\": 50578, \"sum_tokens_in_value_count_group\": 270, \"distinct_value_count\": 4414}, {\"percentile_ex_nulls\": 0.5304480195045471, \"percentile_inc_nulls\": 0.5304480195045471, \"value_count\": 254, \"group_name\": \"_first_name_\", \"total_non_null_rows\": 50578, \"total_rows_inc_nulls\": 50578, \"sum_tokens_in_value_count_group\": 254, \"distinct_value_count\": 4414}, {\"percentile_ex_nulls\": 0.5257226228713989, \"percentile_inc_nulls\": 0.5257226228713989, \"value_count\": 239, \"group_name\": \"_first_name_\", \"total_non_null_rows\": 50578, \"total_rows_inc_nulls\": 50578, \"sum_tokens_in_value_count_group\": 239, \"distinct_value_count\": 4414}, {\"percentile_ex_nulls\": 0.5211158990859985, \"percentile_inc_nulls\": 0.5211158990859985, \"value_count\": 233, \"group_name\": \"_first_name_\", \"total_non_null_rows\": 50578, \"total_rows_inc_nulls\": 50578, \"sum_tokens_in_value_count_group\": 233, \"distinct_value_count\": 4414}, {\"percentile_ex_nulls\": 0.5171220302581787, \"percentile_inc_nulls\": 0.5171220302581787, \"value_count\": 202, \"group_name\": \"_first_name_\", \"total_non_null_rows\": 50578, \"total_rows_inc_nulls\": 50578, \"sum_tokens_in_value_count_group\": 202, \"distinct_value_count\": 4414}, {\"percentile_ex_nulls\": 0.5135236978530884, \"percentile_inc_nulls\": 0.5135236978530884, \"value_count\": 182, \"group_name\": \"_first_name_\", \"total_non_null_rows\": 50578, \"total_rows_inc_nulls\": 50578, \"sum_tokens_in_value_count_group\": 182, \"distinct_value_count\": 4414}, {\"percentile_ex_nulls\": 0.5099450349807739, \"percentile_inc_nulls\": 0.5099450349807739, \"value_count\": 181, \"group_name\": \"_first_name_\", \"total_non_null_rows\": 50578, \"total_rows_inc_nulls\": 50578, \"sum_tokens_in_value_count_group\": 181, \"distinct_value_count\": 4414}, {\"percentile_ex_nulls\": 0.5064850449562073, \"percentile_inc_nulls\": 0.5064850449562073, \"value_count\": 175, \"group_name\": \"_first_name_\", \"total_non_null_rows\": 50578, \"total_rows_inc_nulls\": 50578, \"sum_tokens_in_value_count_group\": 175, \"distinct_value_count\": 4414}, {\"percentile_ex_nulls\": 0.49964410066604614, \"percentile_inc_nulls\": 0.49964410066604614, \"value_count\": 173, \"group_name\": \"_first_name_\", \"total_non_null_rows\": 50578, \"total_rows_inc_nulls\": 50578, \"sum_tokens_in_value_count_group\": 346, \"distinct_value_count\": 4414}, {\"percentile_ex_nulls\": 0.4963027238845825, \"percentile_inc_nulls\": 0.4963027238845825, \"value_count\": 169, \"group_name\": \"_first_name_\", \"total_non_null_rows\": 50578, \"total_rows_inc_nulls\": 50578, \"sum_tokens_in_value_count_group\": 169, \"distinct_value_count\": 4414}, {\"percentile_ex_nulls\": 0.4929811358451843, \"percentile_inc_nulls\": 0.4929811358451843, \"value_count\": 168, \"group_name\": \"_first_name_\", \"total_non_null_rows\": 50578, \"total_rows_inc_nulls\": 50578, \"sum_tokens_in_value_count_group\": 168, \"distinct_value_count\": 4414}, {\"percentile_ex_nulls\": 0.4896990656852722, \"percentile_inc_nulls\": 0.4896990656852722, \"value_count\": 166, \"group_name\": \"_first_name_\", \"total_non_null_rows\": 50578, \"total_rows_inc_nulls\": 50578, \"sum_tokens_in_value_count_group\": 166, \"distinct_value_count\": 4414}, {\"percentile_ex_nulls\": 0.48655539751052856, \"percentile_inc_nulls\": 0.48655539751052856, \"value_count\": 159, \"group_name\": \"_first_name_\", \"total_non_null_rows\": 50578, \"total_rows_inc_nulls\": 50578, \"sum_tokens_in_value_count_group\": 159, \"distinct_value_count\": 4414}, {\"percentile_ex_nulls\": 0.4834710955619812, \"percentile_inc_nulls\": 0.4834710955619812, \"value_count\": 156, \"group_name\": \"_first_name_\", \"total_non_null_rows\": 50578, \"total_rows_inc_nulls\": 50578, \"sum_tokens_in_value_count_group\": 156, \"distinct_value_count\": 4414}, {\"percentile_ex_nulls\": 0.4773419499397278, \"percentile_inc_nulls\": 0.4773419499397278, \"value_count\": 155, \"group_name\": \"_first_name_\", \"total_non_null_rows\": 50578, \"total_rows_inc_nulls\": 50578, \"sum_tokens_in_value_count_group\": 310, \"distinct_value_count\": 4414}, {\"percentile_ex_nulls\": 0.47125232219696045, \"percentile_inc_nulls\": 0.47125232219696045, \"value_count\": 154, \"group_name\": \"_first_name_\", \"total_non_null_rows\": 50578, \"total_rows_inc_nulls\": 50578, \"sum_tokens_in_value_count_group\": 308, \"distinct_value_count\": 4414}, {\"percentile_ex_nulls\": 0.4682866334915161, \"percentile_inc_nulls\": 0.4682866334915161, \"value_count\": 150, \"group_name\": \"_first_name_\", \"total_non_null_rows\": 50578, \"total_rows_inc_nulls\": 50578, \"sum_tokens_in_value_count_group\": 150, \"distinct_value_count\": 4414}, {\"percentile_ex_nulls\": 0.4654197692871094, \"percentile_inc_nulls\": 0.4654197692871094, \"value_count\": 145, \"group_name\": \"_first_name_\", \"total_non_null_rows\": 50578, \"total_rows_inc_nulls\": 50578, \"sum_tokens_in_value_count_group\": 145, \"distinct_value_count\": 4414}, {\"percentile_ex_nulls\": 0.46267151832580566, \"percentile_inc_nulls\": 0.46267151832580566, \"value_count\": 139, \"group_name\": \"_first_name_\", \"total_non_null_rows\": 50578, \"total_rows_inc_nulls\": 50578, \"sum_tokens_in_value_count_group\": 139, \"distinct_value_count\": 4414}, {\"percentile_ex_nulls\": 0.4600023627281189, \"percentile_inc_nulls\": 0.4600023627281189, \"value_count\": 135, \"group_name\": \"_first_name_\", \"total_non_null_rows\": 50578, \"total_rows_inc_nulls\": 50578, \"sum_tokens_in_value_count_group\": 135, \"distinct_value_count\": 4414}, {\"percentile_ex_nulls\": 0.45478272438049316, \"percentile_inc_nulls\": 0.45478272438049316, \"value_count\": 132, \"group_name\": \"_first_name_\", \"total_non_null_rows\": 50578, \"total_rows_inc_nulls\": 50578, \"sum_tokens_in_value_count_group\": 264, \"distinct_value_count\": 4414}, {\"percentile_ex_nulls\": 0.45221245288848877, \"percentile_inc_nulls\": 0.45221245288848877, \"value_count\": 130, \"group_name\": \"_first_name_\", \"total_non_null_rows\": 50578, \"total_rows_inc_nulls\": 50578, \"sum_tokens_in_value_count_group\": 130, \"distinct_value_count\": 4414}, {\"percentile_ex_nulls\": 0.44719046354293823, \"percentile_inc_nulls\": 0.44719046354293823, \"value_count\": 127, \"group_name\": \"_first_name_\", \"total_non_null_rows\": 50578, \"total_rows_inc_nulls\": 50578, \"sum_tokens_in_value_count_group\": 254, \"distinct_value_count\": 4414}, {\"percentile_ex_nulls\": 0.4447585940361023, \"percentile_inc_nulls\": 0.4447585940361023, \"value_count\": 123, \"group_name\": \"_first_name_\", \"total_non_null_rows\": 50578, \"total_rows_inc_nulls\": 50578, \"sum_tokens_in_value_count_group\": 123, \"distinct_value_count\": 4414}, {\"percentile_ex_nulls\": 0.44238603115081787, \"percentile_inc_nulls\": 0.44238603115081787, \"value_count\": 120, \"group_name\": \"_first_name_\", \"total_non_null_rows\": 50578, \"total_rows_inc_nulls\": 50578, \"sum_tokens_in_value_count_group\": 120, \"distinct_value_count\": 4414}, {\"percentile_ex_nulls\": 0.44005298614501953, \"percentile_inc_nulls\": 0.44005298614501953, \"value_count\": 118, \"group_name\": \"_first_name_\", \"total_non_null_rows\": 50578, \"total_rows_inc_nulls\": 50578, \"sum_tokens_in_value_count_group\": 118, \"distinct_value_count\": 4414}, {\"percentile_ex_nulls\": 0.4377792477607727, \"percentile_inc_nulls\": 0.4377792477607727, \"value_count\": 115, \"group_name\": \"_first_name_\", \"total_non_null_rows\": 50578, \"total_rows_inc_nulls\": 50578, \"sum_tokens_in_value_count_group\": 115, \"distinct_value_count\": 4414}, {\"percentile_ex_nulls\": 0.4355252981185913, \"percentile_inc_nulls\": 0.4355252981185913, \"value_count\": 114, \"group_name\": \"_first_name_\", \"total_non_null_rows\": 50578, \"total_rows_inc_nulls\": 50578, \"sum_tokens_in_value_count_group\": 114, \"distinct_value_count\": 4414}, {\"percentile_ex_nulls\": 0.43331092596054077, \"percentile_inc_nulls\": 0.43331092596054077, \"value_count\": 112, \"group_name\": \"_first_name_\", \"total_non_null_rows\": 50578, \"total_rows_inc_nulls\": 50578, \"sum_tokens_in_value_count_group\": 112, \"distinct_value_count\": 4414}, {\"percentile_ex_nulls\": 0.43115586042404175, \"percentile_inc_nulls\": 0.43115586042404175, \"value_count\": 109, \"group_name\": \"_first_name_\", \"total_non_null_rows\": 50578, \"total_rows_inc_nulls\": 50578, \"sum_tokens_in_value_count_group\": 109, \"distinct_value_count\": 4414}, {\"percentile_ex_nulls\": 0.42911940813064575, \"percentile_inc_nulls\": 0.42911940813064575, \"value_count\": 103, \"group_name\": \"_first_name_\", \"total_non_null_rows\": 50578, \"total_rows_inc_nulls\": 50578, \"sum_tokens_in_value_count_group\": 103, \"distinct_value_count\": 4414}, {\"percentile_ex_nulls\": 0.4271026849746704, \"percentile_inc_nulls\": 0.4271026849746704, \"value_count\": 102, \"group_name\": \"_first_name_\", \"total_non_null_rows\": 50578, \"total_rows_inc_nulls\": 50578, \"sum_tokens_in_value_count_group\": 102, \"distinct_value_count\": 4414}, {\"percentile_ex_nulls\": 0.42310887575149536, \"percentile_inc_nulls\": 0.42310887575149536, \"value_count\": 101, \"group_name\": \"_first_name_\", \"total_non_null_rows\": 50578, \"total_rows_inc_nulls\": 50578, \"sum_tokens_in_value_count_group\": 202, \"distinct_value_count\": 4414}, {\"percentile_ex_nulls\": 0.4211317300796509, \"percentile_inc_nulls\": 0.4211317300796509, \"value_count\": 100, \"group_name\": \"_first_name_\", \"total_non_null_rows\": 50578, \"total_rows_inc_nulls\": 50578, \"sum_tokens_in_value_count_group\": 100, \"distinct_value_count\": 4414}, {\"percentile_ex_nulls\": 0.4192138910293579, \"percentile_inc_nulls\": 0.4192138910293579, \"value_count\": 97, \"group_name\": \"_first_name_\", \"total_non_null_rows\": 50578, \"total_rows_inc_nulls\": 50578, \"sum_tokens_in_value_count_group\": 97, \"distinct_value_count\": 4414}, {\"percentile_ex_nulls\": 0.41731584072113037, \"percentile_inc_nulls\": 0.41731584072113037, \"value_count\": 96, \"group_name\": \"_first_name_\", \"total_non_null_rows\": 50578, \"total_rows_inc_nulls\": 50578, \"sum_tokens_in_value_count_group\": 96, \"distinct_value_count\": 4414}, {\"percentile_ex_nulls\": 0.4154375195503235, \"percentile_inc_nulls\": 0.4154375195503235, \"value_count\": 95, \"group_name\": \"_first_name_\", \"total_non_null_rows\": 50578, \"total_rows_inc_nulls\": 50578, \"sum_tokens_in_value_count_group\": 95, \"distinct_value_count\": 4414}, {\"percentile_ex_nulls\": 0.4135790467262268, \"percentile_inc_nulls\": 0.4135790467262268, \"value_count\": 94, \"group_name\": \"_first_name_\", \"total_non_null_rows\": 50578, \"total_rows_inc_nulls\": 50578, \"sum_tokens_in_value_count_group\": 94, \"distinct_value_count\": 4414}, {\"percentile_ex_nulls\": 0.4063031077384949, \"percentile_inc_nulls\": 0.4063031077384949, \"value_count\": 92, \"group_name\": \"_first_name_\", \"total_non_null_rows\": 50578, \"total_rows_inc_nulls\": 50578, \"sum_tokens_in_value_count_group\": 368, \"distinct_value_count\": 4414}, {\"percentile_ex_nulls\": 0.4009055495262146, \"percentile_inc_nulls\": 0.4009055495262146, \"value_count\": 91, \"group_name\": \"_first_name_\", \"total_non_null_rows\": 50578, \"total_rows_inc_nulls\": 50578, \"sum_tokens_in_value_count_group\": 273, \"distinct_value_count\": 4414}, {\"percentile_ex_nulls\": 0.3991261124610901, \"percentile_inc_nulls\": 0.3991261124610901, \"value_count\": 90, \"group_name\": \"_first_name_\", \"total_non_null_rows\": 50578, \"total_rows_inc_nulls\": 50578, \"sum_tokens_in_value_count_group\": 90, \"distinct_value_count\": 4414}, {\"percentile_ex_nulls\": 0.395646333694458, \"percentile_inc_nulls\": 0.395646333694458, \"value_count\": 88, \"group_name\": \"_first_name_\", \"total_non_null_rows\": 50578, \"total_rows_inc_nulls\": 50578, \"sum_tokens_in_value_count_group\": 176, \"distinct_value_count\": 4414}, {\"percentile_ex_nulls\": 0.392206072807312, \"percentile_inc_nulls\": 0.392206072807312, \"value_count\": 87, \"group_name\": \"_first_name_\", \"total_non_null_rows\": 50578, \"total_rows_inc_nulls\": 50578, \"sum_tokens_in_value_count_group\": 174, \"distinct_value_count\": 4414}, {\"percentile_ex_nulls\": 0.3905255198478699, \"percentile_inc_nulls\": 0.3905255198478699, \"value_count\": 85, \"group_name\": \"_first_name_\", \"total_non_null_rows\": 50578, \"total_rows_inc_nulls\": 50578, \"sum_tokens_in_value_count_group\": 85, \"distinct_value_count\": 4414}, {\"percentile_ex_nulls\": 0.3872830271720886, \"percentile_inc_nulls\": 0.3872830271720886, \"value_count\": 82, \"group_name\": \"_first_name_\", \"total_non_null_rows\": 50578, \"total_rows_inc_nulls\": 50578, \"sum_tokens_in_value_count_group\": 164, \"distinct_value_count\": 4414}, {\"percentile_ex_nulls\": 0.38568150997161865, \"percentile_inc_nulls\": 0.38568150997161865, \"value_count\": 81, \"group_name\": \"_first_name_\", \"total_non_null_rows\": 50578, \"total_rows_inc_nulls\": 50578, \"sum_tokens_in_value_count_group\": 81, \"distinct_value_count\": 4414}, {\"percentile_ex_nulls\": 0.38251811265945435, \"percentile_inc_nulls\": 0.38251811265945435, \"value_count\": 80, \"group_name\": \"_first_name_\", \"total_non_null_rows\": 50578, \"total_rows_inc_nulls\": 50578, \"sum_tokens_in_value_count_group\": 160, \"distinct_value_count\": 4414}, {\"percentile_ex_nulls\": 0.38095617294311523, \"percentile_inc_nulls\": 0.38095617294311523, \"value_count\": 79, \"group_name\": \"_first_name_\", \"total_non_null_rows\": 50578, \"total_rows_inc_nulls\": 50578, \"sum_tokens_in_value_count_group\": 79, \"distinct_value_count\": 4414}, {\"percentile_ex_nulls\": 0.3794139623641968, \"percentile_inc_nulls\": 0.3794139623641968, \"value_count\": 78, \"group_name\": \"_first_name_\", \"total_non_null_rows\": 50578, \"total_rows_inc_nulls\": 50578, \"sum_tokens_in_value_count_group\": 78, \"distinct_value_count\": 4414}, {\"percentile_ex_nulls\": 0.3778916001319885, \"percentile_inc_nulls\": 0.3778916001319885, \"value_count\": 77, \"group_name\": \"_first_name_\", \"total_non_null_rows\": 50578, \"total_rows_inc_nulls\": 50578, \"sum_tokens_in_value_count_group\": 77, \"distinct_value_count\": 4414}, {\"percentile_ex_nulls\": 0.3763889670372009, \"percentile_inc_nulls\": 0.3763889670372009, \"value_count\": 76, \"group_name\": \"_first_name_\", \"total_non_null_rows\": 50578, \"total_rows_inc_nulls\": 50578, \"sum_tokens_in_value_count_group\": 76, \"distinct_value_count\": 4414}, {\"percentile_ex_nulls\": 0.374906063079834, \"percentile_inc_nulls\": 0.374906063079834, \"value_count\": 75, \"group_name\": \"_first_name_\", \"total_non_null_rows\": 50578, \"total_rows_inc_nulls\": 50578, \"sum_tokens_in_value_count_group\": 75, \"distinct_value_count\": 4414}, {\"percentile_ex_nulls\": 0.37344300746917725, \"percentile_inc_nulls\": 0.37344300746917725, \"value_count\": 74, \"group_name\": \"_first_name_\", \"total_non_null_rows\": 50578, \"total_rows_inc_nulls\": 50578, \"sum_tokens_in_value_count_group\": 74, \"distinct_value_count\": 4414}, {\"percentile_ex_nulls\": 0.3705563545227051, \"percentile_inc_nulls\": 0.3705563545227051, \"value_count\": 73, \"group_name\": \"_first_name_\", \"total_non_null_rows\": 50578, \"total_rows_inc_nulls\": 50578, \"sum_tokens_in_value_count_group\": 146, \"distinct_value_count\": 4414}, {\"percentile_ex_nulls\": 0.36770927906036377, \"percentile_inc_nulls\": 0.36770927906036377, \"value_count\": 72, \"group_name\": \"_first_name_\", \"total_non_null_rows\": 50578, \"total_rows_inc_nulls\": 50578, \"sum_tokens_in_value_count_group\": 144, \"distinct_value_count\": 4414}, {\"percentile_ex_nulls\": 0.36630553007125854, \"percentile_inc_nulls\": 0.36630553007125854, \"value_count\": 71, \"group_name\": \"_first_name_\", \"total_non_null_rows\": 50578, \"total_rows_inc_nulls\": 50578, \"sum_tokens_in_value_count_group\": 71, \"distinct_value_count\": 4414}, {\"percentile_ex_nulls\": 0.364921510219574, \"percentile_inc_nulls\": 0.364921510219574, \"value_count\": 70, \"group_name\": \"_first_name_\", \"total_non_null_rows\": 50578, \"total_rows_inc_nulls\": 50578, \"sum_tokens_in_value_count_group\": 70, \"distinct_value_count\": 4414}, {\"percentile_ex_nulls\": 0.36355727910995483, \"percentile_inc_nulls\": 0.36355727910995483, \"value_count\": 69, \"group_name\": \"_first_name_\", \"total_non_null_rows\": 50578, \"total_rows_inc_nulls\": 50578, \"sum_tokens_in_value_count_group\": 69, \"distinct_value_count\": 4414}, {\"percentile_ex_nulls\": 0.3595238924026489, \"percentile_inc_nulls\": 0.3595238924026489, \"value_count\": 68, \"group_name\": \"_first_name_\", \"total_non_null_rows\": 50578, \"total_rows_inc_nulls\": 50578, \"sum_tokens_in_value_count_group\": 204, \"distinct_value_count\": 4414}, {\"percentile_ex_nulls\": 0.3568745255470276, \"percentile_inc_nulls\": 0.3568745255470276, \"value_count\": 67, \"group_name\": \"_first_name_\", \"total_non_null_rows\": 50578, \"total_rows_inc_nulls\": 50578, \"sum_tokens_in_value_count_group\": 134, \"distinct_value_count\": 4414}, {\"percentile_ex_nulls\": 0.3555893898010254, \"percentile_inc_nulls\": 0.3555893898010254, \"value_count\": 65, \"group_name\": \"_first_name_\", \"total_non_null_rows\": 50578, \"total_rows_inc_nulls\": 50578, \"sum_tokens_in_value_count_group\": 65, \"distinct_value_count\": 4414}, {\"percentile_ex_nulls\": 0.3543240427970886, \"percentile_inc_nulls\": 0.3543240427970886, \"value_count\": 64, \"group_name\": \"_first_name_\", \"total_non_null_rows\": 50578, \"total_rows_inc_nulls\": 50578, \"sum_tokens_in_value_count_group\": 64, \"distinct_value_count\": 4414}, {\"percentile_ex_nulls\": 0.3518328070640564, \"percentile_inc_nulls\": 0.3518328070640564, \"value_count\": 63, \"group_name\": \"_first_name_\", \"total_non_null_rows\": 50578, \"total_rows_inc_nulls\": 50578, \"sum_tokens_in_value_count_group\": 126, \"distinct_value_count\": 4414}, {\"percentile_ex_nulls\": 0.3506069779396057, \"percentile_inc_nulls\": 0.3506069779396057, \"value_count\": 62, \"group_name\": \"_first_name_\", \"total_non_null_rows\": 50578, \"total_rows_inc_nulls\": 50578, \"sum_tokens_in_value_count_group\": 62, \"distinct_value_count\": 4414}, {\"percentile_ex_nulls\": 0.3469887971878052, \"percentile_inc_nulls\": 0.3469887971878052, \"value_count\": 61, \"group_name\": \"_first_name_\", \"total_non_null_rows\": 50578, \"total_rows_inc_nulls\": 50578, \"sum_tokens_in_value_count_group\": 183, \"distinct_value_count\": 4414}, {\"percentile_ex_nulls\": 0.34232276678085327, \"percentile_inc_nulls\": 0.34232276678085327, \"value_count\": 59, \"group_name\": \"_first_name_\", \"total_non_null_rows\": 50578, \"total_rows_inc_nulls\": 50578, \"sum_tokens_in_value_count_group\": 236, \"distinct_value_count\": 4414}, {\"percentile_ex_nulls\": 0.3388825058937073, \"percentile_inc_nulls\": 0.3388825058937073, \"value_count\": 58, \"group_name\": \"_first_name_\", \"total_non_null_rows\": 50578, \"total_rows_inc_nulls\": 50578, \"sum_tokens_in_value_count_group\": 174, \"distinct_value_count\": 4414}, {\"percentile_ex_nulls\": 0.33775556087493896, \"percentile_inc_nulls\": 0.33775556087493896, \"value_count\": 57, \"group_name\": \"_first_name_\", \"total_non_null_rows\": 50578, \"total_rows_inc_nulls\": 50578, \"sum_tokens_in_value_count_group\": 57, \"distinct_value_count\": 4414}, {\"percentile_ex_nulls\": 0.3366483449935913, \"percentile_inc_nulls\": 0.3366483449935913, \"value_count\": 56, \"group_name\": \"_first_name_\", \"total_non_null_rows\": 50578, \"total_rows_inc_nulls\": 50578, \"sum_tokens_in_value_count_group\": 56, \"distinct_value_count\": 4414}, {\"percentile_ex_nulls\": 0.3355807065963745, \"percentile_inc_nulls\": 0.3355807065963745, \"value_count\": 54, \"group_name\": \"_first_name_\", \"total_non_null_rows\": 50578, \"total_rows_inc_nulls\": 50578, \"sum_tokens_in_value_count_group\": 54, \"distinct_value_count\": 4414}, {\"percentile_ex_nulls\": 0.33243703842163086, \"percentile_inc_nulls\": 0.33243703842163086, \"value_count\": 53, \"group_name\": \"_first_name_\", \"total_non_null_rows\": 50578, \"total_rows_inc_nulls\": 50578, \"sum_tokens_in_value_count_group\": 159, \"distinct_value_count\": 4414}, {\"percentile_ex_nulls\": 0.328324556350708, \"percentile_inc_nulls\": 0.328324556350708, \"value_count\": 52, \"group_name\": \"_first_name_\", \"total_non_null_rows\": 50578, \"total_rows_inc_nulls\": 50578, \"sum_tokens_in_value_count_group\": 208, \"distinct_value_count\": 4414}, {\"percentile_ex_nulls\": 0.32630789279937744, \"percentile_inc_nulls\": 0.32630789279937744, \"value_count\": 51, \"group_name\": \"_first_name_\", \"total_non_null_rows\": 50578, \"total_rows_inc_nulls\": 50578, \"sum_tokens_in_value_count_group\": 102, \"distinct_value_count\": 4414}, {\"percentile_ex_nulls\": 0.3253192901611328, \"percentile_inc_nulls\": 0.3253192901611328, \"value_count\": 50, \"group_name\": \"_first_name_\", \"total_non_null_rows\": 50578, \"total_rows_inc_nulls\": 50578, \"sum_tokens_in_value_count_group\": 50, \"distinct_value_count\": 4414}, {\"percentile_ex_nulls\": 0.3233817219734192, \"percentile_inc_nulls\": 0.3233817219734192, \"value_count\": 49, \"group_name\": \"_first_name_\", \"total_non_null_rows\": 50578, \"total_rows_inc_nulls\": 50578, \"sum_tokens_in_value_count_group\": 98, \"distinct_value_count\": 4414}, {\"percentile_ex_nulls\": 0.3205346465110779, \"percentile_inc_nulls\": 0.3205346465110779, \"value_count\": 48, \"group_name\": \"_first_name_\", \"total_non_null_rows\": 50578, \"total_rows_inc_nulls\": 50578, \"sum_tokens_in_value_count_group\": 144, \"distinct_value_count\": 4414}, {\"percentile_ex_nulls\": 0.31960535049438477, \"percentile_inc_nulls\": 0.31960535049438477, \"value_count\": 47, \"group_name\": \"_first_name_\", \"total_non_null_rows\": 50578, \"total_rows_inc_nulls\": 50578, \"sum_tokens_in_value_count_group\": 47, \"distinct_value_count\": 4414}, {\"percentile_ex_nulls\": 0.3168768882751465, \"percentile_inc_nulls\": 0.3168768882751465, \"value_count\": 46, \"group_name\": \"_first_name_\", \"total_non_null_rows\": 50578, \"total_rows_inc_nulls\": 50578, \"sum_tokens_in_value_count_group\": 138, \"distinct_value_count\": 4414}, {\"percentile_ex_nulls\": 0.31331801414489746, \"percentile_inc_nulls\": 0.31331801414489746, \"value_count\": 45, \"group_name\": \"_first_name_\", \"total_non_null_rows\": 50578, \"total_rows_inc_nulls\": 50578, \"sum_tokens_in_value_count_group\": 180, \"distinct_value_count\": 4414}, {\"percentile_ex_nulls\": 0.30896830558776855, \"percentile_inc_nulls\": 0.30896830558776855, \"value_count\": 44, \"group_name\": \"_first_name_\", \"total_non_null_rows\": 50578, \"total_rows_inc_nulls\": 50578, \"sum_tokens_in_value_count_group\": 220, \"distinct_value_count\": 4414}, {\"percentile_ex_nulls\": 0.307267963886261, \"percentile_inc_nulls\": 0.307267963886261, \"value_count\": 43, \"group_name\": \"_first_name_\", \"total_non_null_rows\": 50578, \"total_rows_inc_nulls\": 50578, \"sum_tokens_in_value_count_group\": 86, \"distinct_value_count\": 4414}, {\"percentile_ex_nulls\": 0.3039463758468628, \"percentile_inc_nulls\": 0.3039463758468628, \"value_count\": 42, \"group_name\": \"_first_name_\", \"total_non_null_rows\": 50578, \"total_rows_inc_nulls\": 50578, \"sum_tokens_in_value_count_group\": 168, \"distinct_value_count\": 4414}, {\"percentile_ex_nulls\": 0.3031357526779175, \"percentile_inc_nulls\": 0.3031357526779175, \"value_count\": 41, \"group_name\": \"_first_name_\", \"total_non_null_rows\": 50578, \"total_rows_inc_nulls\": 50578, \"sum_tokens_in_value_count_group\": 41, \"distinct_value_count\": 4414}, {\"percentile_ex_nulls\": 0.29839062690734863, \"percentile_inc_nulls\": 0.29839062690734863, \"value_count\": 40, \"group_name\": \"_first_name_\", \"total_non_null_rows\": 50578, \"total_rows_inc_nulls\": 50578, \"sum_tokens_in_value_count_group\": 240, \"distinct_value_count\": 4414}, {\"percentile_ex_nulls\": 0.2953062653541565, \"percentile_inc_nulls\": 0.2953062653541565, \"value_count\": 39, \"group_name\": \"_first_name_\", \"total_non_null_rows\": 50578, \"total_rows_inc_nulls\": 50578, \"sum_tokens_in_value_count_group\": 156, \"distinct_value_count\": 4414}, {\"percentile_ex_nulls\": 0.2930523157119751, \"percentile_inc_nulls\": 0.2930523157119751, \"value_count\": 38, \"group_name\": \"_first_name_\", \"total_non_null_rows\": 50578, \"total_rows_inc_nulls\": 50578, \"sum_tokens_in_value_count_group\": 114, \"distinct_value_count\": 4414}, {\"percentile_ex_nulls\": 0.2908576726913452, \"percentile_inc_nulls\": 0.2908576726913452, \"value_count\": 37, \"group_name\": \"_first_name_\", \"total_non_null_rows\": 50578, \"total_rows_inc_nulls\": 50578, \"sum_tokens_in_value_count_group\": 111, \"distinct_value_count\": 4414}, {\"percentile_ex_nulls\": 0.28878170251846313, \"percentile_inc_nulls\": 0.28878170251846313, \"value_count\": 35, \"group_name\": \"_first_name_\", \"total_non_null_rows\": 50578, \"total_rows_inc_nulls\": 50578, \"sum_tokens_in_value_count_group\": 105, \"distinct_value_count\": 4414}, {\"percentile_ex_nulls\": 0.2854205369949341, \"percentile_inc_nulls\": 0.2854205369949341, \"value_count\": 34, \"group_name\": \"_first_name_\", \"total_non_null_rows\": 50578, \"total_rows_inc_nulls\": 50578, \"sum_tokens_in_value_count_group\": 170, \"distinct_value_count\": 4414}, {\"percentile_ex_nulls\": 0.2815057635307312, \"percentile_inc_nulls\": 0.2815057635307312, \"value_count\": 33, \"group_name\": \"_first_name_\", \"total_non_null_rows\": 50578, \"total_rows_inc_nulls\": 50578, \"sum_tokens_in_value_count_group\": 198, \"distinct_value_count\": 4414}, {\"percentile_ex_nulls\": 0.27960771322250366, \"percentile_inc_nulls\": 0.27960771322250366, \"value_count\": 32, \"group_name\": \"_first_name_\", \"total_non_null_rows\": 50578, \"total_rows_inc_nulls\": 50578, \"sum_tokens_in_value_count_group\": 96, \"distinct_value_count\": 4414}, {\"percentile_ex_nulls\": 0.2771560549736023, \"percentile_inc_nulls\": 0.2771560549736023, \"value_count\": 31, \"group_name\": \"_first_name_\", \"total_non_null_rows\": 50578, \"total_rows_inc_nulls\": 50578, \"sum_tokens_in_value_count_group\": 124, \"distinct_value_count\": 4414}, {\"percentile_ex_nulls\": 0.27300405502319336, \"percentile_inc_nulls\": 0.27300405502319336, \"value_count\": 30, \"group_name\": \"_first_name_\", \"total_non_null_rows\": 50578, \"total_rows_inc_nulls\": 50578, \"sum_tokens_in_value_count_group\": 210, \"distinct_value_count\": 4414}, {\"percentile_ex_nulls\": 0.2701371908187866, \"percentile_inc_nulls\": 0.2701371908187866, \"value_count\": 29, \"group_name\": \"_first_name_\", \"total_non_null_rows\": 50578, \"total_rows_inc_nulls\": 50578, \"sum_tokens_in_value_count_group\": 145, \"distinct_value_count\": 4414}, {\"percentile_ex_nulls\": 0.26736921072006226, \"percentile_inc_nulls\": 0.26736921072006226, \"value_count\": 28, \"group_name\": \"_first_name_\", \"total_non_null_rows\": 50578, \"total_rows_inc_nulls\": 50578, \"sum_tokens_in_value_count_group\": 140, \"distinct_value_count\": 4414}, {\"percentile_ex_nulls\": 0.2636324167251587, \"percentile_inc_nulls\": 0.2636324167251587, \"value_count\": 27, \"group_name\": \"_first_name_\", \"total_non_null_rows\": 50578, \"total_rows_inc_nulls\": 50578, \"sum_tokens_in_value_count_group\": 189, \"distinct_value_count\": 4414}, {\"percentile_ex_nulls\": 0.2600340247154236, \"percentile_inc_nulls\": 0.2600340247154236, \"value_count\": 26, \"group_name\": \"_first_name_\", \"total_non_null_rows\": 50578, \"total_rows_inc_nulls\": 50578, \"sum_tokens_in_value_count_group\": 182, \"distinct_value_count\": 4414}, {\"percentile_ex_nulls\": 0.2575625777244568, \"percentile_inc_nulls\": 0.2575625777244568, \"value_count\": 25, \"group_name\": \"_first_name_\", \"total_non_null_rows\": 50578, \"total_rows_inc_nulls\": 50578, \"sum_tokens_in_value_count_group\": 125, \"distinct_value_count\": 4414}, {\"percentile_ex_nulls\": 0.2537664771080017, \"percentile_inc_nulls\": 0.2537664771080017, \"value_count\": 24, \"group_name\": \"_first_name_\", \"total_non_null_rows\": 50578, \"total_rows_inc_nulls\": 50578, \"sum_tokens_in_value_count_group\": 192, \"distinct_value_count\": 4414}, {\"percentile_ex_nulls\": 0.2505832314491272, \"percentile_inc_nulls\": 0.2505832314491272, \"value_count\": 23, \"group_name\": \"_first_name_\", \"total_non_null_rows\": 50578, \"total_rows_inc_nulls\": 50578, \"sum_tokens_in_value_count_group\": 161, \"distinct_value_count\": 4414}, {\"percentile_ex_nulls\": 0.24579858779907227, \"percentile_inc_nulls\": 0.24579858779907227, \"value_count\": 22, \"group_name\": \"_first_name_\", \"total_non_null_rows\": 50578, \"total_rows_inc_nulls\": 50578, \"sum_tokens_in_value_count_group\": 242, \"distinct_value_count\": 4414}, {\"percentile_ex_nulls\": 0.2408161759376526, \"percentile_inc_nulls\": 0.2408161759376526, \"value_count\": 21, \"group_name\": \"_first_name_\", \"total_non_null_rows\": 50578, \"total_rows_inc_nulls\": 50578, \"sum_tokens_in_value_count_group\": 252, \"distinct_value_count\": 4414}, {\"percentile_ex_nulls\": 0.23607099056243896, \"percentile_inc_nulls\": 0.23607099056243896, \"value_count\": 20, \"group_name\": \"_first_name_\", \"total_non_null_rows\": 50578, \"total_rows_inc_nulls\": 50578, \"sum_tokens_in_value_count_group\": 240, \"distinct_value_count\": 4414}, {\"percentile_ex_nulls\": 0.22968482971191406, \"percentile_inc_nulls\": 0.22968482971191406, \"value_count\": 19, \"group_name\": \"_first_name_\", \"total_non_null_rows\": 50578, \"total_rows_inc_nulls\": 50578, \"sum_tokens_in_value_count_group\": 323, \"distinct_value_count\": 4414}, {\"percentile_ex_nulls\": 0.2225671410560608, \"percentile_inc_nulls\": 0.2225671410560608, \"value_count\": 18, \"group_name\": \"_first_name_\", \"total_non_null_rows\": 50578, \"total_rows_inc_nulls\": 50578, \"sum_tokens_in_value_count_group\": 360, \"distinct_value_count\": 4414}, {\"percentile_ex_nulls\": 0.21853375434875488, \"percentile_inc_nulls\": 0.21853375434875488, \"value_count\": 17, \"group_name\": \"_first_name_\", \"total_non_null_rows\": 50578, \"total_rows_inc_nulls\": 50578, \"sum_tokens_in_value_count_group\": 204, \"distinct_value_count\": 4414}, {\"percentile_ex_nulls\": 0.20967614650726318, \"percentile_inc_nulls\": 0.20967614650726318, \"value_count\": 16, \"group_name\": \"_first_name_\", \"total_non_null_rows\": 50578, \"total_rows_inc_nulls\": 50578, \"sum_tokens_in_value_count_group\": 448, \"distinct_value_count\": 4414}, {\"percentile_ex_nulls\": 0.20166873931884766, \"percentile_inc_nulls\": 0.20166873931884766, \"value_count\": 15, \"group_name\": \"_first_name_\", \"total_non_null_rows\": 50578, \"total_rows_inc_nulls\": 50578, \"sum_tokens_in_value_count_group\": 405, \"distinct_value_count\": 4414}, {\"percentile_ex_nulls\": 0.19419509172439575, \"percentile_inc_nulls\": 0.19419509172439575, \"value_count\": 14, \"group_name\": \"_first_name_\", \"total_non_null_rows\": 50578, \"total_rows_inc_nulls\": 50578, \"sum_tokens_in_value_count_group\": 378, \"distinct_value_count\": 4414}, {\"percentile_ex_nulls\": 0.181343674659729, \"percentile_inc_nulls\": 0.181343674659729, \"value_count\": 13, \"group_name\": \"_first_name_\", \"total_non_null_rows\": 50578, \"total_rows_inc_nulls\": 50578, \"sum_tokens_in_value_count_group\": 650, \"distinct_value_count\": 4414}, {\"percentile_ex_nulls\": 0.17256516218185425, \"percentile_inc_nulls\": 0.17256516218185425, \"value_count\": 12, \"group_name\": \"_first_name_\", \"total_non_null_rows\": 50578, \"total_rows_inc_nulls\": 50578, \"sum_tokens_in_value_count_group\": 444, \"distinct_value_count\": 4414}, {\"percentile_ex_nulls\": 0.1651706099510193, \"percentile_inc_nulls\": 0.1651706099510193, \"value_count\": 11, \"group_name\": \"_first_name_\", \"total_non_null_rows\": 50578, \"total_rows_inc_nulls\": 50578, \"sum_tokens_in_value_count_group\": 374, \"distinct_value_count\": 4414}, {\"percentile_ex_nulls\": 0.1556803584098816, \"percentile_inc_nulls\": 0.1556803584098816, \"value_count\": 10, \"group_name\": \"_first_name_\", \"total_non_null_rows\": 50578, \"total_rows_inc_nulls\": 50578, \"sum_tokens_in_value_count_group\": 480, \"distinct_value_count\": 4414}, {\"percentile_ex_nulls\": 0.14375817775726318, \"percentile_inc_nulls\": 0.14375817775726318, \"value_count\": 9, \"group_name\": \"_first_name_\", \"total_non_null_rows\": 50578, \"total_rows_inc_nulls\": 50578, \"sum_tokens_in_value_count_group\": 603, \"distinct_value_count\": 4414}, {\"percentile_ex_nulls\": 0.13126260042190552, \"percentile_inc_nulls\": 0.13126260042190552, \"value_count\": 8, \"group_name\": \"_first_name_\", \"total_non_null_rows\": 50578, \"total_rows_inc_nulls\": 50578, \"sum_tokens_in_value_count_group\": 632, \"distinct_value_count\": 4414}, {\"percentile_ex_nulls\": 0.12129777669906616, \"percentile_inc_nulls\": 0.12129777669906616, \"value_count\": 7, \"group_name\": \"_first_name_\", \"total_non_null_rows\": 50578, \"total_rows_inc_nulls\": 50578, \"sum_tokens_in_value_count_group\": 504, \"distinct_value_count\": 4414}, {\"percentile_ex_nulls\": 0.11062121391296387, \"percentile_inc_nulls\": 0.11062121391296387, \"value_count\": 6, \"group_name\": \"_first_name_\", \"total_non_null_rows\": 50578, \"total_rows_inc_nulls\": 50578, \"sum_tokens_in_value_count_group\": 540, \"distinct_value_count\": 4414}, {\"percentile_ex_nulls\": 0.10004347562789917, \"percentile_inc_nulls\": 0.10004347562789917, \"value_count\": 5, \"group_name\": \"_first_name_\", \"total_non_null_rows\": 50578, \"total_rows_inc_nulls\": 50578, \"sum_tokens_in_value_count_group\": 535, \"distinct_value_count\": 4414}, {\"percentile_ex_nulls\": 0.08644074201583862, \"percentile_inc_nulls\": 0.08644074201583862, \"value_count\": 4, \"group_name\": \"_first_name_\", \"total_non_null_rows\": 50578, \"total_rows_inc_nulls\": 50578, \"sum_tokens_in_value_count_group\": 688, \"distinct_value_count\": 4414}, {\"percentile_ex_nulls\": 0.07018864154815674, \"percentile_inc_nulls\": 0.07018864154815674, \"value_count\": 3, \"group_name\": \"_first_name_\", \"total_non_null_rows\": 50578, \"total_rows_inc_nulls\": 50578, \"sum_tokens_in_value_count_group\": 822, \"distinct_value_count\": 4414}, {\"percentile_ex_nulls\": 0.04721421003341675, \"percentile_inc_nulls\": 0.04721421003341675, \"value_count\": 2, \"group_name\": \"_first_name_\", \"total_non_null_rows\": 50578, \"total_rows_inc_nulls\": 50578, \"sum_tokens_in_value_count_group\": 1162, \"distinct_value_count\": 4414}, {\"percentile_ex_nulls\": 0.0, \"percentile_inc_nulls\": 0.0, \"value_count\": 1, \"group_name\": \"_first_name_\", \"total_non_null_rows\": 50578, \"total_rows_inc_nulls\": 50578, \"sum_tokens_in_value_count_group\": 2388, \"distinct_value_count\": 4414}, {\"percentile_ex_nulls\": 1.0, \"percentile_inc_nulls\": 1.0, \"value_count\": 2780, \"group_name\": \"_first_name_\", \"total_non_null_rows\": 50578, \"total_rows_inc_nulls\": 50578, \"sum_tokens_in_value_count_group\": 2780, \"distinct_value_count\": 4414}]}, \"encoding\": {\"tooltip\": [{\"field\": \"value_count\", \"type\": \"quantitative\"}, {\"field\": \"percentile_ex_nulls\", \"type\": \"quantitative\"}, {\"field\": \"percentile_inc_nulls\", \"type\": \"quantitative\"}, {\"field\": \"total_non_null_rows\", \"type\": \"quantitative\"}, {\"field\": \"total_rows_inc_nulls\", \"type\": \"quantitative\"}], \"x\": {\"field\": \"percentile_ex_nulls\", \"sort\": \"descending\", \"title\": \"Percentile\", \"type\": \"quantitative\"}, \"y\": {\"field\": \"value_count\", \"title\": \"Count of values\", \"type\": \"quantitative\"}}, \"title\": {\"text\": \"Distribution of counts of values in column \\\"first_name\\\"\", \"subtitle\": \"In this col, 0 values (0.0%) are null and there are 4414 distinct values\"}}, {\"mark\": \"bar\", \"data\": {\"values\": [{\"value_count\": 2780, \"group_name\": \"_first_name_\", \"value\": \"william\", \"total_non_null_rows\": 50578, \"total_rows_inc_nulls\": 50578, \"distinct_value_count\": 4414}, {\"value_count\": 2736, \"group_name\": \"_first_name_\", \"value\": \"john\", \"total_non_null_rows\": 50578, \"total_rows_inc_nulls\": 50578, \"distinct_value_count\": 4414}, {\"value_count\": 1448, \"group_name\": \"_first_name_\", \"value\": \"thomas\", \"total_non_null_rows\": 50578, \"total_rows_inc_nulls\": 50578, \"distinct_value_count\": 4414}, {\"value_count\": 1415, \"group_name\": \"_first_name_\", \"value\": \"george\", \"total_non_null_rows\": 50578, \"total_rows_inc_nulls\": 50578, \"distinct_value_count\": 4414}, {\"value_count\": 1306, \"group_name\": \"_first_name_\", \"value\": \"henry\", \"total_non_null_rows\": 50578, \"total_rows_inc_nulls\": 50578, \"distinct_value_count\": 4414}, {\"value_count\": 1265, \"group_name\": \"_first_name_\", \"value\": \"james\", \"total_non_null_rows\": 50578, \"total_rows_inc_nulls\": 50578, \"distinct_value_count\": 4414}, {\"value_count\": 1262, \"group_name\": \"_first_name_\", \"value\": \"sir\", \"total_non_null_rows\": 50578, \"total_rows_inc_nulls\": 50578, \"distinct_value_count\": 4414}, {\"value_count\": 1216, \"group_name\": \"_first_name_\", \"value\": \"charles\", \"total_non_null_rows\": 50578, \"total_rows_inc_nulls\": 50578, \"distinct_value_count\": 4414}, {\"value_count\": 911, \"group_name\": \"_first_name_\", \"value\": \"edward\", \"total_non_null_rows\": 50578, \"total_rows_inc_nulls\": 50578, \"distinct_value_count\": 4414}, {\"value_count\": 884, \"group_name\": \"_first_name_\", \"value\": \"robert\", \"total_non_null_rows\": 50578, \"total_rows_inc_nulls\": 50578, \"distinct_value_count\": 4414}]}, \"encoding\": {\"tooltip\": [{\"field\": \"value\", \"type\": \"nominal\"}, {\"field\": \"value_count\", \"type\": \"quantitative\"}, {\"field\": \"total_non_null_rows\", \"type\": \"quantitative\"}, {\"field\": \"total_rows_inc_nulls\", \"type\": \"quantitative\"}], \"x\": {\"field\": \"value\", \"sort\": \"-y\", \"title\": null, \"type\": \"nominal\"}, \"y\": {\"field\": \"value_count\", \"title\": \"Value count\", \"type\": \"quantitative\"}}, \"title\": \"Top 10 values by value count\"}, {\"mark\": \"bar\", \"data\": {\"values\": [{\"value_count\": 1, \"group_name\": \"_first_name_\", \"value\": \"ron.ross\", \"total_non_null_rows\": 50578, \"total_rows_inc_nulls\": 50578, \"distinct_value_count\": 4414}, {\"value_count\": 1, \"group_name\": \"_first_name_\", \"value\": \"ma4garet\", \"total_non_null_rows\": 50578, \"total_rows_inc_nulls\": 50578, \"distinct_value_count\": 4414}, {\"value_count\": 1, \"group_name\": \"_first_name_\", \"value\": \"tichard\", \"total_non_null_rows\": 50578, \"total_rows_inc_nulls\": 50578, \"distinct_value_count\": 4414}, {\"value_count\": 1, \"group_name\": \"_first_name_\", \"value\": \"cevil\", \"total_non_null_rows\": 50578, \"total_rows_inc_nulls\": 50578, \"distinct_value_count\": 4414}, {\"value_count\": 1, \"group_name\": \"_first_name_\", \"value\": \"vince\", \"total_non_null_rows\": 50578, \"total_rows_inc_nulls\": 50578, \"distinct_value_count\": 4414}]}, \"encoding\": {\"tooltip\": [{\"field\": \"value\", \"type\": \"nominal\"}, {\"field\": \"value_count\", \"type\": \"quantitative\"}, {\"field\": \"total_non_null_rows\", \"type\": \"quantitative\"}, {\"field\": \"total_rows_inc_nulls\", \"type\": \"quantitative\"}], \"x\": {\"field\": \"value\", \"sort\": \"-y\", \"title\": null, \"type\": \"nominal\"}, \"y\": {\"field\": \"value_count\", \"scale\": {\"domain\": [0, 2780]}, \"title\": \"Value count\", \"type\": \"quantitative\"}}, \"title\": \"Bottom 5 values by value count\"}]}, {\"hconcat\": [{\"mark\": {\"type\": \"line\", \"interpolate\": \"step-before\"}, \"data\": {\"values\": [{\"percentile_ex_nulls\": 0.807589590549469, \"percentile_inc_nulls\": 0.824765682220459, \"value_count\": 41, \"group_name\": \"_surname_\", \"total_non_null_rows\": 46063, \"total_rows_inc_nulls\": 50578, \"sum_tokens_in_value_count_group\": 205, \"distinct_value_count\": 6195}, {\"percentile_ex_nulls\": 0.8006426095962524, \"percentile_inc_nulls\": 0.8184388279914856, \"value_count\": 40, \"group_name\": \"_surname_\", \"total_non_null_rows\": 46063, \"total_rows_inc_nulls\": 50578, \"sum_tokens_in_value_count_group\": 320, \"distinct_value_count\": 6195}, {\"percentile_ex_nulls\": 0.7913292646408081, \"percentile_inc_nulls\": 0.8099569082260132, \"value_count\": 39, \"group_name\": \"_surname_\", \"total_non_null_rows\": 46063, \"total_rows_inc_nulls\": 50578, \"sum_tokens_in_value_count_group\": 429, \"distinct_value_count\": 6195}, {\"percentile_ex_nulls\": 0.7872045040130615, \"percentile_inc_nulls\": 0.8062003254890442, \"value_count\": 38, \"group_name\": \"_surname_\", \"total_non_null_rows\": 46063, \"total_rows_inc_nulls\": 50578, \"sum_tokens_in_value_count_group\": 190, \"distinct_value_count\": 6195}, {\"percentile_ex_nulls\": 0.7839914560317993, \"percentile_inc_nulls\": 0.8032741546630859, \"value_count\": 37, \"group_name\": \"_surname_\", \"total_non_null_rows\": 46063, \"total_rows_inc_nulls\": 50578, \"sum_tokens_in_value_count_group\": 148, \"distinct_value_count\": 6195}, {\"percentile_ex_nulls\": 0.7738314867019653, \"percentile_inc_nulls\": 0.7940211296081543, \"value_count\": 36, \"group_name\": \"_surname_\", \"total_non_null_rows\": 46063, \"total_rows_inc_nulls\": 50578, \"sum_tokens_in_value_count_group\": 468, \"distinct_value_count\": 6195}, {\"percentile_ex_nulls\": 0.7669930458068848, \"percentile_inc_nulls\": 0.7877930998802185, \"value_count\": 35, \"group_name\": \"_surname_\", \"total_non_null_rows\": 46063, \"total_rows_inc_nulls\": 50578, \"sum_tokens_in_value_count_group\": 315, \"distinct_value_count\": 6195}, {\"percentile_ex_nulls\": 0.7618261575698853, \"percentile_inc_nulls\": 0.7830874919891357, \"value_count\": 34, \"group_name\": \"_surname_\", \"total_non_null_rows\": 46063, \"total_rows_inc_nulls\": 50578, \"sum_tokens_in_value_count_group\": 238, \"distinct_value_count\": 6195}, {\"percentile_ex_nulls\": 0.7532292604446411, \"percentile_inc_nulls\": 0.7752580046653748, \"value_count\": 33, \"group_name\": \"_surname_\", \"total_non_null_rows\": 46063, \"total_rows_inc_nulls\": 50578, \"sum_tokens_in_value_count_group\": 396, \"distinct_value_count\": 6195}, {\"percentile_ex_nulls\": 0.7435034513473511, \"percentile_inc_nulls\": 0.7664003968238831, \"value_count\": 32, \"group_name\": \"_surname_\", \"total_non_null_rows\": 46063, \"total_rows_inc_nulls\": 50578, \"sum_tokens_in_value_count_group\": 448, \"distinct_value_count\": 6195}, {\"percentile_ex_nulls\": 0.7381195425987244, \"percentile_inc_nulls\": 0.7614970803260803, \"value_count\": 31, \"group_name\": \"_surname_\", \"total_non_null_rows\": 46063, \"total_rows_inc_nulls\": 50578, \"sum_tokens_in_value_count_group\": 248, \"distinct_value_count\": 6195}, {\"percentile_ex_nulls\": 0.7309554219245911, \"percentile_inc_nulls\": 0.754972517490387, \"value_count\": 30, \"group_name\": \"_surname_\", \"total_non_null_rows\": 46063, \"total_rows_inc_nulls\": 50578, \"sum_tokens_in_value_count_group\": 330, \"distinct_value_count\": 6195}, {\"percentile_ex_nulls\": 0.7246596813201904, \"percentile_inc_nulls\": 0.7492387890815735, \"value_count\": 29, \"group_name\": \"_surname_\", \"total_non_null_rows\": 46063, \"total_rows_inc_nulls\": 50578, \"sum_tokens_in_value_count_group\": 290, \"distinct_value_count\": 6195}, {\"percentile_ex_nulls\": 0.7204046249389648, \"percentile_inc_nulls\": 0.7453635931015015, \"value_count\": 28, \"group_name\": \"_surname_\", \"total_non_null_rows\": 46063, \"total_rows_inc_nulls\": 50578, \"sum_tokens_in_value_count_group\": 196, \"distinct_value_count\": 6195}, {\"percentile_ex_nulls\": 0.708681583404541, \"percentile_inc_nulls\": 0.7346870303153992, \"value_count\": 27, \"group_name\": \"_surname_\", \"total_non_null_rows\": 46063, \"total_rows_inc_nulls\": 50578, \"sum_tokens_in_value_count_group\": 540, \"distinct_value_count\": 6195}, {\"percentile_ex_nulls\": 0.700779378414154, \"percentile_inc_nulls\": 0.7274901866912842, \"value_count\": 26, \"group_name\": \"_surname_\", \"total_non_null_rows\": 46063, \"total_rows_inc_nulls\": 50578, \"sum_tokens_in_value_count_group\": 364, \"distinct_value_count\": 6195}, {\"percentile_ex_nulls\": 0.6920956373214722, \"percentile_inc_nulls\": 0.7195816040039062, \"value_count\": 25, \"group_name\": \"_surname_\", \"total_non_null_rows\": 46063, \"total_rows_inc_nulls\": 50578, \"sum_tokens_in_value_count_group\": 400, \"distinct_value_count\": 6195}, {\"percentile_ex_nulls\": 0.6821961402893066, \"percentile_inc_nulls\": 0.7105658650398254, \"value_count\": 24, \"group_name\": \"_surname_\", \"total_non_null_rows\": 46063, \"total_rows_inc_nulls\": 50578, \"sum_tokens_in_value_count_group\": 456, \"distinct_value_count\": 6195}, {\"percentile_ex_nulls\": 0.668215274810791, \"percentile_inc_nulls\": 0.6978330612182617, \"value_count\": 23, \"group_name\": \"_surname_\", \"total_non_null_rows\": 46063, \"total_rows_inc_nulls\": 50578, \"sum_tokens_in_value_count_group\": 644, \"distinct_value_count\": 6195}, {\"percentile_ex_nulls\": 0.6543647050857544, \"percentile_inc_nulls\": 0.685218870639801, \"value_count\": 22, \"group_name\": \"_surname_\", \"total_non_null_rows\": 46063, \"total_rows_inc_nulls\": 50578, \"sum_tokens_in_value_count_group\": 638, \"distinct_value_count\": 6195}, {\"percentile_ex_nulls\": 0.6420554518699646, \"percentile_inc_nulls\": 0.6740084886550903, \"value_count\": 21, \"group_name\": \"_surname_\", \"total_non_null_rows\": 46063, \"total_rows_inc_nulls\": 50578, \"sum_tokens_in_value_count_group\": 567, \"distinct_value_count\": 6195}, {\"percentile_ex_nulls\": 0.6259905099868774, \"percentile_inc_nulls\": 0.6593775749206543, \"value_count\": 20, \"group_name\": \"_surname_\", \"total_non_null_rows\": 46063, \"total_rows_inc_nulls\": 50578, \"sum_tokens_in_value_count_group\": 740, \"distinct_value_count\": 6195}, {\"percentile_ex_nulls\": 0.6057790517807007, \"percentile_inc_nulls\": 0.6409703493118286, \"value_count\": 19, \"group_name\": \"_surname_\", \"total_non_null_rows\": 46063, \"total_rows_inc_nulls\": 50578, \"sum_tokens_in_value_count_group\": 931, \"distinct_value_count\": 6195}, {\"percentile_ex_nulls\": 0.5878036618232727, \"percentile_inc_nulls\": 0.6245996356010437, \"value_count\": 18, \"group_name\": \"_surname_\", \"total_non_null_rows\": 46063, \"total_rows_inc_nulls\": 50578, \"sum_tokens_in_value_count_group\": 828, \"distinct_value_count\": 6195}, {\"percentile_ex_nulls\": 0.5497905015945435, \"percentile_inc_nulls\": 0.5899798274040222, \"value_count\": 17, \"group_name\": \"_surname_\", \"total_non_null_rows\": 46063, \"total_rows_inc_nulls\": 50578, \"sum_tokens_in_value_count_group\": 1751, \"distinct_value_count\": 6195}, {\"percentile_ex_nulls\": 0.518528938293457, \"percentile_inc_nulls\": 0.5615089535713196, \"value_count\": 16, \"group_name\": \"_surname_\", \"total_non_null_rows\": 46063, \"total_rows_inc_nulls\": 50578, \"sum_tokens_in_value_count_group\": 1440, \"distinct_value_count\": 6195}, {\"percentile_ex_nulls\": 0.4797776937484741, \"percentile_inc_nulls\": 0.5262169241905212, \"value_count\": 15, \"group_name\": \"_surname_\", \"total_non_null_rows\": 46063, \"total_rows_inc_nulls\": 50578, \"sum_tokens_in_value_count_group\": 1785, \"distinct_value_count\": 6195}, {\"percentile_ex_nulls\": 0.4487766623497009, \"percentile_inc_nulls\": 0.49798333644866943, \"value_count\": 14, \"group_name\": \"_surname_\", \"total_non_null_rows\": 46063, \"total_rows_inc_nulls\": 50578, \"sum_tokens_in_value_count_group\": 1428, \"distinct_value_count\": 6195}, {\"percentile_ex_nulls\": 0.4109588861465454, \"percentile_inc_nulls\": 0.4635414481163025, \"value_count\": 13, \"group_name\": \"_surname_\", \"total_non_null_rows\": 46063, \"total_rows_inc_nulls\": 50578, \"sum_tokens_in_value_count_group\": 1742, \"distinct_value_count\": 6195}, {\"percentile_ex_nulls\": 0.36667174100875854, \"percentile_inc_nulls\": 0.42320770025253296, \"value_count\": 12, \"group_name\": \"_surname_\", \"total_non_null_rows\": 46063, \"total_rows_inc_nulls\": 50578, \"sum_tokens_in_value_count_group\": 2040, \"distinct_value_count\": 6195}, {\"percentile_ex_nulls\": 0.32655274868011475, \"percentile_inc_nulls\": 0.3866701126098633, \"value_count\": 11, \"group_name\": \"_surname_\", \"total_non_null_rows\": 46063, \"total_rows_inc_nulls\": 50578, \"sum_tokens_in_value_count_group\": 1848, \"distinct_value_count\": 6195}, {\"percentile_ex_nulls\": 0.29094934463500977, \"percentile_inc_nulls\": 0.3542449474334717, \"value_count\": 10, \"group_name\": \"_surname_\", \"total_non_null_rows\": 46063, \"total_rows_inc_nulls\": 50578, \"sum_tokens_in_value_count_group\": 1640, \"distinct_value_count\": 6195}, {\"percentile_ex_nulls\": 0.25519394874572754, \"percentile_inc_nulls\": 0.3216813802719116, \"value_count\": 9, \"group_name\": \"_surname_\", \"total_non_null_rows\": 46063, \"total_rows_inc_nulls\": 50578, \"sum_tokens_in_value_count_group\": 1647, \"distinct_value_count\": 6195}, {\"percentile_ex_nulls\": 0.2209799885749817, \"percentile_inc_nulls\": 0.2905215620994568, \"value_count\": 8, \"group_name\": \"_surname_\", \"total_non_null_rows\": 46063, \"total_rows_inc_nulls\": 50578, \"sum_tokens_in_value_count_group\": 1576, \"distinct_value_count\": 6195}, {\"percentile_ex_nulls\": 0.1918025016784668, \"percentile_inc_nulls\": 0.2639487385749817, \"value_count\": 7, \"group_name\": \"_surname_\", \"total_non_null_rows\": 46063, \"total_rows_inc_nulls\": 50578, \"sum_tokens_in_value_count_group\": 1344, \"distinct_value_count\": 6195}, {\"percentile_ex_nulls\": 0.1576753854751587, \"percentile_inc_nulls\": 0.2328680157661438, \"value_count\": 6, \"group_name\": \"_surname_\", \"total_non_null_rows\": 46063, \"total_rows_inc_nulls\": 50578, \"sum_tokens_in_value_count_group\": 1572, \"distinct_value_count\": 6195}, {\"percentile_ex_nulls\": 0.12858474254608154, \"percentile_inc_nulls\": 0.20637428760528564, \"value_count\": 5, \"group_name\": \"_surname_\", \"total_non_null_rows\": 46063, \"total_rows_inc_nulls\": 50578, \"sum_tokens_in_value_count_group\": 1340, \"distinct_value_count\": 6195}, {\"percentile_ex_nulls\": 0.09871262311935425, \"percentile_inc_nulls\": 0.17916882038116455, \"value_count\": 4, \"group_name\": \"_surname_\", \"total_non_null_rows\": 46063, \"total_rows_inc_nulls\": 50578, \"sum_tokens_in_value_count_group\": 1376, \"distinct_value_count\": 6195}, {\"percentile_ex_nulls\": 0.0692746639251709, \"percentile_inc_nulls\": 0.15235871076583862, \"value_count\": 3, \"group_name\": \"_surname_\", \"total_non_null_rows\": 46063, \"total_rows_inc_nulls\": 50578, \"sum_tokens_in_value_count_group\": 1356, \"distinct_value_count\": 6195}, {\"percentile_ex_nulls\": 0.04856389760971069, \"percentile_inc_nulls\": 0.13349676132202148, \"value_count\": 2, \"group_name\": \"_surname_\", \"total_non_null_rows\": 46063, \"total_rows_inc_nulls\": 50578, \"sum_tokens_in_value_count_group\": 954, \"distinct_value_count\": 6195}, {\"percentile_ex_nulls\": 0.0, \"percentile_inc_nulls\": 0.08926808834075928, \"value_count\": 1, \"group_name\": \"_surname_\", \"total_non_null_rows\": 46063, \"total_rows_inc_nulls\": 50578, \"sum_tokens_in_value_count_group\": 2237, \"distinct_value_count\": 6195}, {\"percentile_ex_nulls\": 0.9866487383842468, \"percentile_inc_nulls\": 0.9878405332565308, \"value_count\": 615, \"group_name\": \"_surname_\", \"total_non_null_rows\": 46063, \"total_rows_inc_nulls\": 50578, \"sum_tokens_in_value_count_group\": 615, \"distinct_value_count\": 6195}, {\"percentile_ex_nulls\": 0.982263445854187, \"percentile_inc_nulls\": 0.9838467240333557, \"value_count\": 202, \"group_name\": \"_surname_\", \"total_non_null_rows\": 46063, \"total_rows_inc_nulls\": 50578, \"sum_tokens_in_value_count_group\": 202, \"distinct_value_count\": 6195}, {\"percentile_ex_nulls\": 0.9794629216194153, \"percentile_inc_nulls\": 0.9812962412834167, \"value_count\": 129, \"group_name\": \"_surname_\", \"total_non_null_rows\": 46063, \"total_rows_inc_nulls\": 50578, \"sum_tokens_in_value_count_group\": 129, \"distinct_value_count\": 6195}, {\"percentile_ex_nulls\": 0.9768794775009155, \"percentile_inc_nulls\": 0.978943407535553, \"value_count\": 119, \"group_name\": \"_surname_\", \"total_non_null_rows\": 46063, \"total_rows_inc_nulls\": 50578, \"sum_tokens_in_value_count_group\": 119, \"distinct_value_count\": 6195}, {\"percentile_ex_nulls\": 0.974339485168457, \"percentile_inc_nulls\": 0.9766301512718201, \"value_count\": 117, \"group_name\": \"_surname_\", \"total_non_null_rows\": 46063, \"total_rows_inc_nulls\": 50578, \"sum_tokens_in_value_count_group\": 117, \"distinct_value_count\": 6195}, {\"percentile_ex_nulls\": 0.9718211889266968, \"percentile_inc_nulls\": 0.9743366837501526, \"value_count\": 116, \"group_name\": \"_surname_\", \"total_non_null_rows\": 46063, \"total_rows_inc_nulls\": 50578, \"sum_tokens_in_value_count_group\": 116, \"distinct_value_count\": 6195}, {\"percentile_ex_nulls\": 0.9693246483802795, \"percentile_inc_nulls\": 0.9720629453659058, \"value_count\": 115, \"group_name\": \"_surname_\", \"total_non_null_rows\": 46063, \"total_rows_inc_nulls\": 50578, \"sum_tokens_in_value_count_group\": 115, \"distinct_value_count\": 6195}, {\"percentile_ex_nulls\": 0.9668497443199158, \"percentile_inc_nulls\": 0.9698089957237244, \"value_count\": 114, \"group_name\": \"_surname_\", \"total_non_null_rows\": 46063, \"total_rows_inc_nulls\": 50578, \"sum_tokens_in_value_count_group\": 114, \"distinct_value_count\": 6195}, {\"percentile_ex_nulls\": 0.9594902396202087, \"percentile_inc_nulls\": 0.9631065130233765, \"value_count\": 113, \"group_name\": \"_surname_\", \"total_non_null_rows\": 46063, \"total_rows_inc_nulls\": 50578, \"sum_tokens_in_value_count_group\": 339, \"distinct_value_count\": 6195}, {\"percentile_ex_nulls\": 0.9571022391319275, \"percentile_inc_nulls\": 0.960931658744812, \"value_count\": 110, \"group_name\": \"_surname_\", \"total_non_null_rows\": 46063, \"total_rows_inc_nulls\": 50578, \"sum_tokens_in_value_count_group\": 110, \"distinct_value_count\": 6195}, {\"percentile_ex_nulls\": 0.9547358751296997, \"percentile_inc_nulls\": 0.9587765336036682, \"value_count\": 109, \"group_name\": \"_surname_\", \"total_non_null_rows\": 46063, \"total_rows_inc_nulls\": 50578, \"sum_tokens_in_value_count_group\": 109, \"distinct_value_count\": 6195}, {\"percentile_ex_nulls\": 0.952413022518158, \"percentile_inc_nulls\": 0.9566609859466553, \"value_count\": 107, \"group_name\": \"_surname_\", \"total_non_null_rows\": 46063, \"total_rows_inc_nulls\": 50578, \"sum_tokens_in_value_count_group\": 107, \"distinct_value_count\": 6195}, {\"percentile_ex_nulls\": 0.9501769542694092, \"percentile_inc_nulls\": 0.9546245336532593, \"value_count\": 103, \"group_name\": \"_surname_\", \"total_non_null_rows\": 46063, \"total_rows_inc_nulls\": 50578, \"sum_tokens_in_value_count_group\": 103, \"distinct_value_count\": 6195}, {\"percentile_ex_nulls\": 0.9458350539207458, \"percentile_inc_nulls\": 0.9506702423095703, \"value_count\": 100, \"group_name\": \"_surname_\", \"total_non_null_rows\": 46063, \"total_rows_inc_nulls\": 50578, \"sum_tokens_in_value_count_group\": 200, \"distinct_value_count\": 6195}, {\"percentile_ex_nulls\": 0.9436858296394348, \"percentile_inc_nulls\": 0.9487128853797913, \"value_count\": 99, \"group_name\": \"_surname_\", \"total_non_null_rows\": 46063, \"total_rows_inc_nulls\": 50578, \"sum_tokens_in_value_count_group\": 99, \"distinct_value_count\": 6195}, {\"percentile_ex_nulls\": 0.9415799975395203, \"percentile_inc_nulls\": 0.9467950463294983, \"value_count\": 97, \"group_name\": \"_surname_\", \"total_non_null_rows\": 46063, \"total_rows_inc_nulls\": 50578, \"sum_tokens_in_value_count_group\": 97, \"distinct_value_count\": 6195}, {\"percentile_ex_nulls\": 0.9374117851257324, \"percentile_inc_nulls\": 0.9429989457130432, \"value_count\": 96, \"group_name\": \"_surname_\", \"total_non_null_rows\": 46063, \"total_rows_inc_nulls\": 50578, \"sum_tokens_in_value_count_group\": 192, \"distinct_value_count\": 6195}, {\"percentile_ex_nulls\": 0.9355013966560364, \"percentile_inc_nulls\": 0.9412590265274048, \"value_count\": 88, \"group_name\": \"_surname_\", \"total_non_null_rows\": 46063, \"total_rows_inc_nulls\": 50578, \"sum_tokens_in_value_count_group\": 88, \"distinct_value_count\": 6195}, {\"percentile_ex_nulls\": 0.9317673444747925, \"percentile_inc_nulls\": 0.9378583431243896, \"value_count\": 86, \"group_name\": \"_surname_\", \"total_non_null_rows\": 46063, \"total_rows_inc_nulls\": 50578, \"sum_tokens_in_value_count_group\": 172, \"distinct_value_count\": 6195}, {\"percentile_ex_nulls\": 0.9299654960632324, \"percentile_inc_nulls\": 0.9362173080444336, \"value_count\": 83, \"group_name\": \"_surname_\", \"total_non_null_rows\": 46063, \"total_rows_inc_nulls\": 50578, \"sum_tokens_in_value_count_group\": 83, \"distinct_value_count\": 6195}, {\"percentile_ex_nulls\": 0.9281853437423706, \"percentile_inc_nulls\": 0.934596061706543, \"value_count\": 82, \"group_name\": \"_surname_\", \"total_non_null_rows\": 46063, \"total_rows_inc_nulls\": 50578, \"sum_tokens_in_value_count_group\": 82, \"distinct_value_count\": 6195}, {\"percentile_ex_nulls\": 0.9264268279075623, \"percentile_inc_nulls\": 0.9329946041107178, \"value_count\": 81, \"group_name\": \"_surname_\", \"total_non_null_rows\": 46063, \"total_rows_inc_nulls\": 50578, \"sum_tokens_in_value_count_group\": 81, \"distinct_value_count\": 6195}, {\"percentile_ex_nulls\": 0.9246901273727417, \"percentile_inc_nulls\": 0.9314128756523132, \"value_count\": 80, \"group_name\": \"_surname_\", \"total_non_null_rows\": 46063, \"total_rows_inc_nulls\": 50578, \"sum_tokens_in_value_count_group\": 80, \"distinct_value_count\": 6195}, {\"percentile_ex_nulls\": 0.9229967594146729, \"percentile_inc_nulls\": 0.9298707246780396, \"value_count\": 78, \"group_name\": \"_surname_\", \"total_non_null_rows\": 46063, \"total_rows_inc_nulls\": 50578, \"sum_tokens_in_value_count_group\": 78, \"distinct_value_count\": 6195}, {\"percentile_ex_nulls\": 0.9196535348892212, \"percentile_inc_nulls\": 0.9268258810043335, \"value_count\": 77, \"group_name\": \"_surname_\", \"total_non_null_rows\": 46063, \"total_rows_inc_nulls\": 50578, \"sum_tokens_in_value_count_group\": 154, \"distinct_value_count\": 6195}, {\"percentile_ex_nulls\": 0.9180253148078918, \"percentile_inc_nulls\": 0.9253430366516113, \"value_count\": 75, \"group_name\": \"_surname_\", \"total_non_null_rows\": 46063, \"total_rows_inc_nulls\": 50578, \"sum_tokens_in_value_count_group\": 75, \"distinct_value_count\": 6195}, {\"percentile_ex_nulls\": 0.9148123264312744, \"percentile_inc_nulls\": 0.9224168658256531, \"value_count\": 74, \"group_name\": \"_surname_\", \"total_non_null_rows\": 46063, \"total_rows_inc_nulls\": 50578, \"sum_tokens_in_value_count_group\": 148, \"distinct_value_count\": 6195}, {\"percentile_ex_nulls\": 0.9116861820220947, \"percentile_inc_nulls\": 0.9195697903633118, \"value_count\": 72, \"group_name\": \"_surname_\", \"total_non_null_rows\": 46063, \"total_rows_inc_nulls\": 50578, \"sum_tokens_in_value_count_group\": 144, \"distinct_value_count\": 6195}, {\"percentile_ex_nulls\": 0.9101665019989014, \"percentile_inc_nulls\": 0.9181857705116272, \"value_count\": 70, \"group_name\": \"_surname_\", \"total_non_null_rows\": 46063, \"total_rows_inc_nulls\": 50578, \"sum_tokens_in_value_count_group\": 70, \"distinct_value_count\": 6195}, {\"percentile_ex_nulls\": 0.9071705937385559, \"percentile_inc_nulls\": 0.9154573082923889, \"value_count\": 69, \"group_name\": \"_surname_\", \"total_non_null_rows\": 46063, \"total_rows_inc_nulls\": 50578, \"sum_tokens_in_value_count_group\": 138, \"distinct_value_count\": 6195}, {\"percentile_ex_nulls\": 0.905716061592102, \"percentile_inc_nulls\": 0.9141325950622559, \"value_count\": 67, \"group_name\": \"_surname_\", \"total_non_null_rows\": 46063, \"total_rows_inc_nulls\": 50578, \"sum_tokens_in_value_count_group\": 67, \"distinct_value_count\": 6195}, {\"percentile_ex_nulls\": 0.9042832851409912, \"percentile_inc_nulls\": 0.912827730178833, \"value_count\": 66, \"group_name\": \"_surname_\", \"total_non_null_rows\": 46063, \"total_rows_inc_nulls\": 50578, \"sum_tokens_in_value_count_group\": 66, \"distinct_value_count\": 6195}, {\"percentile_ex_nulls\": 0.9014610648155212, \"percentile_inc_nulls\": 0.9102573990821838, \"value_count\": 65, \"group_name\": \"_surname_\", \"total_non_null_rows\": 46063, \"total_rows_inc_nulls\": 50578, \"sum_tokens_in_value_count_group\": 130, \"distinct_value_count\": 6195}, {\"percentile_ex_nulls\": 0.8972928524017334, \"percentile_inc_nulls\": 0.9064612984657288, \"value_count\": 64, \"group_name\": \"_surname_\", \"total_non_null_rows\": 46063, \"total_rows_inc_nulls\": 50578, \"sum_tokens_in_value_count_group\": 192, \"distinct_value_count\": 6195}, {\"percentile_ex_nulls\": 0.8959251642227173, \"percentile_inc_nulls\": 0.9052156805992126, \"value_count\": 63, \"group_name\": \"_surname_\", \"total_non_null_rows\": 46063, \"total_rows_inc_nulls\": 50578, \"sum_tokens_in_value_count_group\": 63, \"distinct_value_count\": 6195}, {\"percentile_ex_nulls\": 0.8945791721343994, \"percentile_inc_nulls\": 0.903989851474762, \"value_count\": 62, \"group_name\": \"_surname_\", \"total_non_null_rows\": 46063, \"total_rows_inc_nulls\": 50578, \"sum_tokens_in_value_count_group\": 62, \"distinct_value_count\": 6195}, {\"percentile_ex_nulls\": 0.8919306397438049, \"percentile_inc_nulls\": 0.9015777707099915, \"value_count\": 61, \"group_name\": \"_surname_\", \"total_non_null_rows\": 46063, \"total_rows_inc_nulls\": 50578, \"sum_tokens_in_value_count_group\": 122, \"distinct_value_count\": 6195}, {\"percentile_ex_nulls\": 0.8880228996276855, \"percentile_inc_nulls\": 0.8980188965797424, \"value_count\": 60, \"group_name\": \"_surname_\", \"total_non_null_rows\": 46063, \"total_rows_inc_nulls\": 50578, \"sum_tokens_in_value_count_group\": 180, \"distinct_value_count\": 6195}, {\"percentile_ex_nulls\": 0.8867420554161072, \"percentile_inc_nulls\": 0.8968523740768433, \"value_count\": 59, \"group_name\": \"_surname_\", \"total_non_null_rows\": 46063, \"total_rows_inc_nulls\": 50578, \"sum_tokens_in_value_count_group\": 59, \"distinct_value_count\": 6195}, {\"percentile_ex_nulls\": 0.8804463148117065, \"percentile_inc_nulls\": 0.8911186456680298, \"value_count\": 58, \"group_name\": \"_surname_\", \"total_non_null_rows\": 46063, \"total_rows_inc_nulls\": 50578, \"sum_tokens_in_value_count_group\": 290, \"distinct_value_count\": 6195}, {\"percentile_ex_nulls\": 0.8792089223861694, \"percentile_inc_nulls\": 0.8899917006492615, \"value_count\": 57, \"group_name\": \"_surname_\", \"total_non_null_rows\": 46063, \"total_rows_inc_nulls\": 50578, \"sum_tokens_in_value_count_group\": 57, \"distinct_value_count\": 6195}, {\"percentile_ex_nulls\": 0.8731302618980408, \"percentile_inc_nulls\": 0.884455680847168, \"value_count\": 56, \"group_name\": \"_surname_\", \"total_non_null_rows\": 46063, \"total_rows_inc_nulls\": 50578, \"sum_tokens_in_value_count_group\": 280, \"distinct_value_count\": 6195}, {\"percentile_ex_nulls\": 0.8695482015609741, \"percentile_inc_nulls\": 0.8811933994293213, \"value_count\": 55, \"group_name\": \"_surname_\", \"total_non_null_rows\": 46063, \"total_rows_inc_nulls\": 50578, \"sum_tokens_in_value_count_group\": 165, \"distinct_value_count\": 6195}, {\"percentile_ex_nulls\": 0.8672035932540894, \"percentile_inc_nulls\": 0.8790580630302429, \"value_count\": 54, \"group_name\": \"_surname_\", \"total_non_null_rows\": 46063, \"total_rows_inc_nulls\": 50578, \"sum_tokens_in_value_count_group\": 108, \"distinct_value_count\": 6195}, {\"percentile_ex_nulls\": 0.8649024367332458, \"percentile_inc_nulls\": 0.8769623041152954, \"value_count\": 53, \"group_name\": \"_surname_\", \"total_non_null_rows\": 46063, \"total_rows_inc_nulls\": 50578, \"sum_tokens_in_value_count_group\": 106, \"distinct_value_count\": 6195}, {\"percentile_ex_nulls\": 0.8592579364776611, \"percentile_inc_nulls\": 0.8718217611312866, \"value_count\": 52, \"group_name\": \"_surname_\", \"total_non_null_rows\": 46063, \"total_rows_inc_nulls\": 50578, \"sum_tokens_in_value_count_group\": 260, \"distinct_value_count\": 6195}, {\"percentile_ex_nulls\": 0.8570436239242554, \"percentile_inc_nulls\": 0.8698050379753113, \"value_count\": 51, \"group_name\": \"_surname_\", \"total_non_null_rows\": 46063, \"total_rows_inc_nulls\": 50578, \"sum_tokens_in_value_count_group\": 102, \"distinct_value_count\": 6195}, {\"percentile_ex_nulls\": 0.852701723575592, \"percentile_inc_nulls\": 0.8658507466316223, \"value_count\": 50, \"group_name\": \"_surname_\", \"total_non_null_rows\": 46063, \"total_rows_inc_nulls\": 50578, \"sum_tokens_in_value_count_group\": 200, \"distinct_value_count\": 6195}, {\"percentile_ex_nulls\": 0.8473829030990601, \"percentile_inc_nulls\": 0.8610067367553711, \"value_count\": 49, \"group_name\": \"_surname_\", \"total_non_null_rows\": 46063, \"total_rows_inc_nulls\": 50578, \"sum_tokens_in_value_count_group\": 245, \"distinct_value_count\": 6195}, {\"percentile_ex_nulls\": 0.8411306142807007, \"percentile_inc_nulls\": 0.8553125858306885, \"value_count\": 48, \"group_name\": \"_surname_\", \"total_non_null_rows\": 46063, \"total_rows_inc_nulls\": 50578, \"sum_tokens_in_value_count_group\": 288, \"distinct_value_count\": 6195}, {\"percentile_ex_nulls\": 0.8360289335250854, \"percentile_inc_nulls\": 0.8506662845611572, \"value_count\": 47, \"group_name\": \"_surname_\", \"total_non_null_rows\": 46063, \"total_rows_inc_nulls\": 50578, \"sum_tokens_in_value_count_group\": 235, \"distinct_value_count\": 6195}, {\"percentile_ex_nulls\": 0.8280398845672607, \"percentile_inc_nulls\": 0.8433904051780701, \"value_count\": 46, \"group_name\": \"_surname_\", \"total_non_null_rows\": 46063, \"total_rows_inc_nulls\": 50578, \"sum_tokens_in_value_count_group\": 368, \"distinct_value_count\": 6195}, {\"percentile_ex_nulls\": 0.8251091241836548, \"percentile_inc_nulls\": 0.8407212495803833, \"value_count\": 45, \"group_name\": \"_surname_\", \"total_non_null_rows\": 46063, \"total_rows_inc_nulls\": 50578, \"sum_tokens_in_value_count_group\": 135, \"distinct_value_count\": 6195}, {\"percentile_ex_nulls\": 0.8193777799606323, \"percentile_inc_nulls\": 0.8355016112327576, \"value_count\": 44, \"group_name\": \"_surname_\", \"total_non_null_rows\": 46063, \"total_rows_inc_nulls\": 50578, \"sum_tokens_in_value_count_group\": 264, \"distinct_value_count\": 6195}, {\"percentile_ex_nulls\": 0.8175107836723328, \"percentile_inc_nulls\": 0.83380126953125, \"value_count\": 43, \"group_name\": \"_surname_\", \"total_non_null_rows\": 46063, \"total_rows_inc_nulls\": 50578, \"sum_tokens_in_value_count_group\": 86, \"distinct_value_count\": 6195}, {\"percentile_ex_nulls\": 0.8120400309562683, \"percentile_inc_nulls\": 0.8288188576698303, \"value_count\": 42, \"group_name\": \"_surname_\", \"total_non_null_rows\": 46063, \"total_rows_inc_nulls\": 50578, \"sum_tokens_in_value_count_group\": 252, \"distinct_value_count\": 6195}, {\"percentile_ex_nulls\": 1.0, \"percentile_inc_nulls\": 1.0, \"value_count\": 41, \"group_name\": \"_surname_\", \"total_non_null_rows\": 46063, \"total_rows_inc_nulls\": 50578, \"sum_tokens_in_value_count_group\": 205, \"distinct_value_count\": 6195}]}, \"encoding\": {\"tooltip\": [{\"field\": \"value_count\", \"type\": \"quantitative\"}, {\"field\": \"percentile_ex_nulls\", \"type\": \"quantitative\"}, {\"field\": \"percentile_inc_nulls\", \"type\": \"quantitative\"}, {\"field\": \"total_non_null_rows\", \"type\": \"quantitative\"}, {\"field\": \"total_rows_inc_nulls\", \"type\": \"quantitative\"}], \"x\": {\"field\": \"percentile_ex_nulls\", \"sort\": \"descending\", \"title\": \"Percentile\", \"type\": \"quantitative\"}, \"y\": {\"field\": \"value_count\", \"title\": \"Count of values\", \"type\": \"quantitative\"}}, \"title\": {\"text\": \"Distribution of counts of values in column \\\"surname\\\"\", \"subtitle\": \"In this col, 4,515 values (8.9%) are null and there are 6195 distinct values\"}}, {\"mark\": \"bar\", \"data\": {\"values\": [{\"value_count\": 615, \"group_name\": \"_surname_\", \"value\": \"baronet\", \"total_non_null_rows\": 46063, \"total_rows_inc_nulls\": 50578, \"distinct_value_count\": 6195}, {\"value_count\": 202, \"group_name\": \"_surname_\", \"value\": \"smith\", \"total_non_null_rows\": 46063, \"total_rows_inc_nulls\": 50578, \"distinct_value_count\": 6195}, {\"value_count\": 129, \"group_name\": \"_surname_\", \"value\": \"jones\", \"total_non_null_rows\": 46063, \"total_rows_inc_nulls\": 50578, \"distinct_value_count\": 6195}, {\"value_count\": 119, \"group_name\": \"_surname_\", \"value\": \"robinson\", \"total_non_null_rows\": 46063, \"total_rows_inc_nulls\": 50578, \"distinct_value_count\": 6195}, {\"value_count\": 117, \"group_name\": \"_surname_\", \"value\": \"taylor\", \"total_non_null_rows\": 46063, \"total_rows_inc_nulls\": 50578, \"distinct_value_count\": 6195}, {\"value_count\": 116, \"group_name\": \"_surname_\", \"value\": \"williams\", \"total_non_null_rows\": 46063, \"total_rows_inc_nulls\": 50578, \"distinct_value_count\": 6195}, {\"value_count\": 115, \"group_name\": \"_surname_\", \"value\": \"wilson\", \"total_non_null_rows\": 46063, \"total_rows_inc_nulls\": 50578, \"distinct_value_count\": 6195}, {\"value_count\": 114, \"group_name\": \"_surname_\", \"value\": \"thompson\", \"total_non_null_rows\": 46063, \"total_rows_inc_nulls\": 50578, \"distinct_value_count\": 6195}, {\"value_count\": 113, \"group_name\": \"_surname_\", \"value\": \"jackson\", \"total_non_null_rows\": 46063, \"total_rows_inc_nulls\": 50578, \"distinct_value_count\": 6195}, {\"value_count\": 113, \"group_name\": \"_surname_\", \"value\": \"murray\", \"total_non_null_rows\": 46063, \"total_rows_inc_nulls\": 50578, \"distinct_value_count\": 6195}]}, \"encoding\": {\"tooltip\": [{\"field\": \"value\", \"type\": \"nominal\"}, {\"field\": \"value_count\", \"type\": \"quantitative\"}, {\"field\": \"total_non_null_rows\", \"type\": \"quantitative\"}, {\"field\": \"total_rows_inc_nulls\", \"type\": \"quantitative\"}], \"x\": {\"field\": \"value\", \"sort\": \"-y\", \"title\": null, \"type\": \"nominal\"}, \"y\": {\"field\": \"value_count\", \"title\": \"Value count\", \"type\": \"quantitative\"}}, \"title\": \"Top 10 values by value count\"}, {\"mark\": \"bar\", \"data\": {\"values\": [{\"value_count\": 1, \"group_name\": \"_surname_\", \"value\": \"fairrield\", \"total_non_null_rows\": 46063, \"total_rows_inc_nulls\": 50578, \"distinct_value_count\": 6195}, {\"value_count\": 1, \"group_name\": \"_surname_\", \"value\": \"beamwell\", \"total_non_null_rows\": 46063, \"total_rows_inc_nulls\": 50578, \"distinct_value_count\": 6195}, {\"value_count\": 1, \"group_name\": \"_surname_\", \"value\": \"corboyld\", \"total_non_null_rows\": 46063, \"total_rows_inc_nulls\": 50578, \"distinct_value_count\": 6195}, {\"value_count\": 1, \"group_name\": \"_surname_\", \"value\": \"corhould\", \"total_non_null_rows\": 46063, \"total_rows_inc_nulls\": 50578, \"distinct_value_count\": 6195}, {\"value_count\": 1, \"group_name\": \"_surname_\", \"value\": \"emmy\", \"total_non_null_rows\": 46063, \"total_rows_inc_nulls\": 50578, \"distinct_value_count\": 6195}]}, \"encoding\": {\"tooltip\": [{\"field\": \"value\", \"type\": \"nominal\"}, {\"field\": \"value_count\", \"type\": \"quantitative\"}, {\"field\": \"total_non_null_rows\", \"type\": \"quantitative\"}, {\"field\": \"total_rows_inc_nulls\", \"type\": \"quantitative\"}], \"x\": {\"field\": \"value\", \"sort\": \"-y\", \"title\": null, \"type\": \"nominal\"}, \"y\": {\"field\": \"value_count\", \"scale\": {\"domain\": [0, 615]}, \"title\": \"Value count\", \"type\": \"quantitative\"}}, \"title\": \"Bottom 5 values by value count\"}]}, {\"hconcat\": [{\"mark\": {\"type\": \"line\", \"interpolate\": \"step-before\"}, \"data\": {\"values\": [{\"percentile_ex_nulls\": 0.9943651556968689, \"percentile_inc_nulls\": 0.9943651556968689, \"value_count\": 285, \"group_name\": \"_dob_\", \"total_non_null_rows\": 50578, \"total_rows_inc_nulls\": 50578, \"sum_tokens_in_value_count_group\": 285, \"distinct_value_count\": 16069}, {\"percentile_ex_nulls\": 0.9887500405311584, \"percentile_inc_nulls\": 0.9887500405311584, \"value_count\": 284, \"group_name\": \"_dob_\", \"total_non_null_rows\": 50578, \"total_rows_inc_nulls\": 50578, \"sum_tokens_in_value_count_group\": 284, \"distinct_value_count\": 16069}, {\"percentile_ex_nulls\": 0.9834117889404297, \"percentile_inc_nulls\": 0.9834117889404297, \"value_count\": 270, \"group_name\": \"_dob_\", \"total_non_null_rows\": 50578, \"total_rows_inc_nulls\": 50578, \"sum_tokens_in_value_count_group\": 270, \"distinct_value_count\": 16069}, {\"percentile_ex_nulls\": 0.9728537797927856, \"percentile_inc_nulls\": 0.9728537797927856, \"value_count\": 267, \"group_name\": \"_dob_\", \"total_non_null_rows\": 50578, \"total_rows_inc_nulls\": 50578, \"sum_tokens_in_value_count_group\": 534, \"distinct_value_count\": 16069}, {\"percentile_ex_nulls\": 0.9676341414451599, \"percentile_inc_nulls\": 0.9676341414451599, \"value_count\": 264, \"group_name\": \"_dob_\", \"total_non_null_rows\": 50578, \"total_rows_inc_nulls\": 50578, \"sum_tokens_in_value_count_group\": 264, \"distinct_value_count\": 16069}, {\"percentile_ex_nulls\": 0.9624342322349548, \"percentile_inc_nulls\": 0.9624342322349548, \"value_count\": 263, \"group_name\": \"_dob_\", \"total_non_null_rows\": 50578, \"total_rows_inc_nulls\": 50578, \"sum_tokens_in_value_count_group\": 263, \"distinct_value_count\": 16069}, {\"percentile_ex_nulls\": 0.9468939304351807, \"percentile_inc_nulls\": 0.9468939304351807, \"value_count\": 262, \"group_name\": \"_dob_\", \"total_non_null_rows\": 50578, \"total_rows_inc_nulls\": 50578, \"sum_tokens_in_value_count_group\": 786, \"distinct_value_count\": 16069}, {\"percentile_ex_nulls\": 0.9417335391044617, \"percentile_inc_nulls\": 0.9417335391044617, \"value_count\": 261, \"group_name\": \"_dob_\", \"total_non_null_rows\": 50578, \"total_rows_inc_nulls\": 50578, \"sum_tokens_in_value_count_group\": 261, \"distinct_value_count\": 16069}, {\"percentile_ex_nulls\": 0.9365929961204529, \"percentile_inc_nulls\": 0.9365929961204529, \"value_count\": 260, \"group_name\": \"_dob_\", \"total_non_null_rows\": 50578, \"total_rows_inc_nulls\": 50578, \"sum_tokens_in_value_count_group\": 260, \"distinct_value_count\": 16069}, {\"percentile_ex_nulls\": 0.9314721822738647, \"percentile_inc_nulls\": 0.9314721822738647, \"value_count\": 259, \"group_name\": \"_dob_\", \"total_non_null_rows\": 50578, \"total_rows_inc_nulls\": 50578, \"sum_tokens_in_value_count_group\": 259, \"distinct_value_count\": 16069}, {\"percentile_ex_nulls\": 0.926371157169342, \"percentile_inc_nulls\": 0.926371157169342, \"value_count\": 258, \"group_name\": \"_dob_\", \"total_non_null_rows\": 50578, \"total_rows_inc_nulls\": 50578, \"sum_tokens_in_value_count_group\": 258, \"distinct_value_count\": 16069}, {\"percentile_ex_nulls\": 0.9060460925102234, \"percentile_inc_nulls\": 0.9060460925102234, \"value_count\": 257, \"group_name\": \"_dob_\", \"total_non_null_rows\": 50578, \"total_rows_inc_nulls\": 50578, \"sum_tokens_in_value_count_group\": 1028, \"distinct_value_count\": 16069}, {\"percentile_ex_nulls\": 0.8858001232147217, \"percentile_inc_nulls\": 0.8858001232147217, \"value_count\": 256, \"group_name\": \"_dob_\", \"total_non_null_rows\": 50578, \"total_rows_inc_nulls\": 50578, \"sum_tokens_in_value_count_group\": 1024, \"distinct_value_count\": 16069}, {\"percentile_ex_nulls\": 0.8656332492828369, \"percentile_inc_nulls\": 0.8656332492828369, \"value_count\": 255, \"group_name\": \"_dob_\", \"total_non_null_rows\": 50578, \"total_rows_inc_nulls\": 50578, \"sum_tokens_in_value_count_group\": 1020, \"distinct_value_count\": 16069}, {\"percentile_ex_nulls\": 0.8606113195419312, \"percentile_inc_nulls\": 0.8606113195419312, \"value_count\": 254, \"group_name\": \"_dob_\", \"total_non_null_rows\": 50578, \"total_rows_inc_nulls\": 50578, \"sum_tokens_in_value_count_group\": 254, \"distinct_value_count\": 16069}, {\"percentile_ex_nulls\": 0.8506069779396057, \"percentile_inc_nulls\": 0.8506069779396057, \"value_count\": 253, \"group_name\": \"_dob_\", \"total_non_null_rows\": 50578, \"total_rows_inc_nulls\": 50578, \"sum_tokens_in_value_count_group\": 506, \"distinct_value_count\": 16069}, {\"percentile_ex_nulls\": 0.8406421542167664, \"percentile_inc_nulls\": 0.8406421542167664, \"value_count\": 252, \"group_name\": \"_dob_\", \"total_non_null_rows\": 50578, \"total_rows_inc_nulls\": 50578, \"sum_tokens_in_value_count_group\": 504, \"distinct_value_count\": 16069}, {\"percentile_ex_nulls\": 0.8207916617393494, \"percentile_inc_nulls\": 0.8207916617393494, \"value_count\": 251, \"group_name\": \"_dob_\", \"total_non_null_rows\": 50578, \"total_rows_inc_nulls\": 50578, \"sum_tokens_in_value_count_group\": 1004, \"distinct_value_count\": 16069}, {\"percentile_ex_nulls\": 0.8158487677574158, \"percentile_inc_nulls\": 0.8158487677574158, \"value_count\": 250, \"group_name\": \"_dob_\", \"total_non_null_rows\": 50578, \"total_rows_inc_nulls\": 50578, \"sum_tokens_in_value_count_group\": 250, \"distinct_value_count\": 16069}, {\"percentile_ex_nulls\": 0.8060026168823242, \"percentile_inc_nulls\": 0.8060026168823242, \"value_count\": 249, \"group_name\": \"_dob_\", \"total_non_null_rows\": 50578, \"total_rows_inc_nulls\": 50578, \"sum_tokens_in_value_count_group\": 498, \"distinct_value_count\": 16069}, {\"percentile_ex_nulls\": 0.8010993003845215, \"percentile_inc_nulls\": 0.8010993003845215, \"value_count\": 248, \"group_name\": \"_dob_\", \"total_non_null_rows\": 50578, \"total_rows_inc_nulls\": 50578, \"sum_tokens_in_value_count_group\": 248, \"distinct_value_count\": 16069}, {\"percentile_ex_nulls\": 0.7864486575126648, \"percentile_inc_nulls\": 0.7864486575126648, \"value_count\": 247, \"group_name\": \"_dob_\", \"total_non_null_rows\": 50578, \"total_rows_inc_nulls\": 50578, \"sum_tokens_in_value_count_group\": 741, \"distinct_value_count\": 16069}, {\"percentile_ex_nulls\": 0.766993522644043, \"percentile_inc_nulls\": 0.766993522644043, \"value_count\": 246, \"group_name\": \"_dob_\", \"total_non_null_rows\": 50578, \"total_rows_inc_nulls\": 50578, \"sum_tokens_in_value_count_group\": 984, \"distinct_value_count\": 16069}, {\"percentile_ex_nulls\": 0.7524615526199341, \"percentile_inc_nulls\": 0.7524615526199341, \"value_count\": 245, \"group_name\": \"_dob_\", \"total_non_null_rows\": 50578, \"total_rows_inc_nulls\": 50578, \"sum_tokens_in_value_count_group\": 735, \"distinct_value_count\": 16069}, {\"percentile_ex_nulls\": 0.7331646084785461, \"percentile_inc_nulls\": 0.7331646084785461, \"value_count\": 244, \"group_name\": \"_dob_\", \"total_non_null_rows\": 50578, \"total_rows_inc_nulls\": 50578, \"sum_tokens_in_value_count_group\": 976, \"distinct_value_count\": 16069}, {\"percentile_ex_nulls\": 0.7283601760864258, \"percentile_inc_nulls\": 0.7283601760864258, \"value_count\": 243, \"group_name\": \"_dob_\", \"total_non_null_rows\": 50578, \"total_rows_inc_nulls\": 50578, \"sum_tokens_in_value_count_group\": 243, \"distinct_value_count\": 16069}, {\"percentile_ex_nulls\": 0.7187907695770264, \"percentile_inc_nulls\": 0.7187907695770264, \"value_count\": 242, \"group_name\": \"_dob_\", \"total_non_null_rows\": 50578, \"total_rows_inc_nulls\": 50578, \"sum_tokens_in_value_count_group\": 484, \"distinct_value_count\": 16069}, {\"percentile_ex_nulls\": 0.7044960260391235, \"percentile_inc_nulls\": 0.7044960260391235, \"value_count\": 241, \"group_name\": \"_dob_\", \"total_non_null_rows\": 50578, \"total_rows_inc_nulls\": 50578, \"sum_tokens_in_value_count_group\": 723, \"distinct_value_count\": 16069}, {\"percentile_ex_nulls\": 0.6950057744979858, \"percentile_inc_nulls\": 0.6950057744979858, \"value_count\": 240, \"group_name\": \"_dob_\", \"total_non_null_rows\": 50578, \"total_rows_inc_nulls\": 50578, \"sum_tokens_in_value_count_group\": 480, \"distinct_value_count\": 16069}, {\"percentile_ex_nulls\": 0.680829644203186, \"percentile_inc_nulls\": 0.680829644203186, \"value_count\": 239, \"group_name\": \"_dob_\", \"total_non_null_rows\": 50578, \"total_rows_inc_nulls\": 50578, \"sum_tokens_in_value_count_group\": 717, \"distinct_value_count\": 16069}, {\"percentile_ex_nulls\": 0.662007212638855, \"percentile_inc_nulls\": 0.662007212638855, \"value_count\": 238, \"group_name\": \"_dob_\", \"total_non_null_rows\": 50578, \"total_rows_inc_nulls\": 50578, \"sum_tokens_in_value_count_group\": 952, \"distinct_value_count\": 16069}, {\"percentile_ex_nulls\": 0.6432638764381409, \"percentile_inc_nulls\": 0.6432638764381409, \"value_count\": 237, \"group_name\": \"_dob_\", \"total_non_null_rows\": 50578, \"total_rows_inc_nulls\": 50578, \"sum_tokens_in_value_count_group\": 948, \"distinct_value_count\": 16069}, {\"percentile_ex_nulls\": 0.6339317560195923, \"percentile_inc_nulls\": 0.6339317560195923, \"value_count\": 236, \"group_name\": \"_dob_\", \"total_non_null_rows\": 50578, \"total_rows_inc_nulls\": 50578, \"sum_tokens_in_value_count_group\": 472, \"distinct_value_count\": 16069}, {\"percentile_ex_nulls\": 0.6199928522109985, \"percentile_inc_nulls\": 0.6199928522109985, \"value_count\": 235, \"group_name\": \"_dob_\", \"total_non_null_rows\": 50578, \"total_rows_inc_nulls\": 50578, \"sum_tokens_in_value_count_group\": 705, \"distinct_value_count\": 16069}, {\"percentile_ex_nulls\": 0.6107398271560669, \"percentile_inc_nulls\": 0.6107398271560669, \"value_count\": 234, \"group_name\": \"_dob_\", \"total_non_null_rows\": 50578, \"total_rows_inc_nulls\": 50578, \"sum_tokens_in_value_count_group\": 468, \"distinct_value_count\": 16069}, {\"percentile_ex_nulls\": 0.6061331033706665, \"percentile_inc_nulls\": 0.6061331033706665, \"value_count\": 233, \"group_name\": \"_dob_\", \"total_non_null_rows\": 50578, \"total_rows_inc_nulls\": 50578, \"sum_tokens_in_value_count_group\": 233, \"distinct_value_count\": 16069}, {\"percentile_ex_nulls\": 0.6015461683273315, \"percentile_inc_nulls\": 0.6015461683273315, \"value_count\": 232, \"group_name\": \"_dob_\", \"total_non_null_rows\": 50578, \"total_rows_inc_nulls\": 50578, \"sum_tokens_in_value_count_group\": 232, \"distinct_value_count\": 16069}, {\"percentile_ex_nulls\": 0.5787100791931152, \"percentile_inc_nulls\": 0.5787100791931152, \"value_count\": 231, \"group_name\": \"_dob_\", \"total_non_null_rows\": 50578, \"total_rows_inc_nulls\": 50578, \"sum_tokens_in_value_count_group\": 1155, \"distinct_value_count\": 16069}, {\"percentile_ex_nulls\": 0.5696152448654175, \"percentile_inc_nulls\": 0.5696152448654175, \"value_count\": 230, \"group_name\": \"_dob_\", \"total_non_null_rows\": 50578, \"total_rows_inc_nulls\": 50578, \"sum_tokens_in_value_count_group\": 460, \"distinct_value_count\": 16069}, {\"percentile_ex_nulls\": 0.5515046119689941, \"percentile_inc_nulls\": 0.5515046119689941, \"value_count\": 229, \"group_name\": \"_dob_\", \"total_non_null_rows\": 50578, \"total_rows_inc_nulls\": 50578, \"sum_tokens_in_value_count_group\": 916, \"distinct_value_count\": 16069}, {\"percentile_ex_nulls\": 0.533473014831543, \"percentile_inc_nulls\": 0.533473014831543, \"value_count\": 228, \"group_name\": \"_dob_\", \"total_non_null_rows\": 50578, \"total_rows_inc_nulls\": 50578, \"sum_tokens_in_value_count_group\": 912, \"distinct_value_count\": 16069}, {\"percentile_ex_nulls\": 0.5200086832046509, \"percentile_inc_nulls\": 0.5200086832046509, \"value_count\": 227, \"group_name\": \"_dob_\", \"total_non_null_rows\": 50578, \"total_rows_inc_nulls\": 50578, \"sum_tokens_in_value_count_group\": 681, \"distinct_value_count\": 16069}, {\"percentile_ex_nulls\": 0.5021352767944336, \"percentile_inc_nulls\": 0.5021352767944336, \"value_count\": 226, \"group_name\": \"_dob_\", \"total_non_null_rows\": 50578, \"total_rows_inc_nulls\": 50578, \"sum_tokens_in_value_count_group\": 904, \"distinct_value_count\": 16069}, {\"percentile_ex_nulls\": 0.47989243268966675, \"percentile_inc_nulls\": 0.47989243268966675, \"value_count\": 225, \"group_name\": \"_dob_\", \"total_non_null_rows\": 50578, \"total_rows_inc_nulls\": 50578, \"sum_tokens_in_value_count_group\": 1125, \"distinct_value_count\": 16069}, {\"percentile_ex_nulls\": 0.47103482484817505, \"percentile_inc_nulls\": 0.47103482484817505, \"value_count\": 224, \"group_name\": \"_dob_\", \"total_non_null_rows\": 50578, \"total_rows_inc_nulls\": 50578, \"sum_tokens_in_value_count_group\": 448, \"distinct_value_count\": 16069}, {\"percentile_ex_nulls\": 0.4622167944908142, \"percentile_inc_nulls\": 0.4622167944908142, \"value_count\": 223, \"group_name\": \"_dob_\", \"total_non_null_rows\": 50578, \"total_rows_inc_nulls\": 50578, \"sum_tokens_in_value_count_group\": 446, \"distinct_value_count\": 16069}, {\"percentile_ex_nulls\": 0.4490489959716797, \"percentile_inc_nulls\": 0.4490489959716797, \"value_count\": 222, \"group_name\": \"_dob_\", \"total_non_null_rows\": 50578, \"total_rows_inc_nulls\": 50578, \"sum_tokens_in_value_count_group\": 666, \"distinct_value_count\": 16069}, {\"percentile_ex_nulls\": 0.44467949867248535, \"percentile_inc_nulls\": 0.44467949867248535, \"value_count\": 221, \"group_name\": \"_dob_\", \"total_non_null_rows\": 50578, \"total_rows_inc_nulls\": 50578, \"sum_tokens_in_value_count_group\": 221, \"distinct_value_count\": 16069}, {\"percentile_ex_nulls\": 0.44032979011535645, \"percentile_inc_nulls\": 0.44032979011535645, \"value_count\": 220, \"group_name\": \"_dob_\", \"total_non_null_rows\": 50578, \"total_rows_inc_nulls\": 50578, \"sum_tokens_in_value_count_group\": 220, \"distinct_value_count\": 16069}, {\"percentile_ex_nulls\": 0.43599987030029297, \"percentile_inc_nulls\": 0.43599987030029297, \"value_count\": 219, \"group_name\": \"_dob_\", \"total_non_null_rows\": 50578, \"total_rows_inc_nulls\": 50578, \"sum_tokens_in_value_count_group\": 219, \"distinct_value_count\": 16069}, {\"percentile_ex_nulls\": 0.4273794889450073, \"percentile_inc_nulls\": 0.4273794889450073, \"value_count\": 218, \"group_name\": \"_dob_\", \"total_non_null_rows\": 50578, \"total_rows_inc_nulls\": 50578, \"sum_tokens_in_value_count_group\": 436, \"distinct_value_count\": 16069}, {\"percentile_ex_nulls\": 0.42308908700942993, \"percentile_inc_nulls\": 0.42308908700942993, \"value_count\": 217, \"group_name\": \"_dob_\", \"total_non_null_rows\": 50578, \"total_rows_inc_nulls\": 50578, \"sum_tokens_in_value_count_group\": 217, \"distinct_value_count\": 16069}, {\"percentile_ex_nulls\": 0.41885799169540405, \"percentile_inc_nulls\": 0.41885799169540405, \"value_count\": 214, \"group_name\": \"_dob_\", \"total_non_null_rows\": 50578, \"total_rows_inc_nulls\": 50578, \"sum_tokens_in_value_count_group\": 214, \"distinct_value_count\": 16069}, {\"percentile_ex_nulls\": 0.41075170040130615, \"percentile_inc_nulls\": 0.41075170040130615, \"value_count\": 205, \"group_name\": \"_dob_\", \"total_non_null_rows\": 50578, \"total_rows_inc_nulls\": 50578, \"sum_tokens_in_value_count_group\": 410, \"distinct_value_count\": 16069}, {\"percentile_ex_nulls\": 0.40677767992019653, \"percentile_inc_nulls\": 0.40677767992019653, \"value_count\": 201, \"group_name\": \"_dob_\", \"total_non_null_rows\": 50578, \"total_rows_inc_nulls\": 50578, \"sum_tokens_in_value_count_group\": 201, \"distinct_value_count\": 16069}, {\"percentile_ex_nulls\": 0.40661948919296265, \"percentile_inc_nulls\": 0.40661948919296265, \"value_count\": 8, \"group_name\": \"_dob_\", \"total_non_null_rows\": 50578, \"total_rows_inc_nulls\": 50578, \"sum_tokens_in_value_count_group\": 8, \"distinct_value_count\": 16069}, {\"percentile_ex_nulls\": 0.4064810872077942, \"percentile_inc_nulls\": 0.4064810872077942, \"value_count\": 7, \"group_name\": \"_dob_\", \"total_non_null_rows\": 50578, \"total_rows_inc_nulls\": 50578, \"sum_tokens_in_value_count_group\": 7, \"distinct_value_count\": 16069}, {\"percentile_ex_nulls\": 0.4057692885398865, \"percentile_inc_nulls\": 0.4057692885398865, \"value_count\": 6, \"group_name\": \"_dob_\", \"total_non_null_rows\": 50578, \"total_rows_inc_nulls\": 50578, \"sum_tokens_in_value_count_group\": 36, \"distinct_value_count\": 16069}, {\"percentile_ex_nulls\": 0.40260589122772217, \"percentile_inc_nulls\": 0.40260589122772217, \"value_count\": 5, \"group_name\": \"_dob_\", \"total_non_null_rows\": 50578, \"total_rows_inc_nulls\": 50578, \"sum_tokens_in_value_count_group\": 160, \"distinct_value_count\": 16069}, {\"percentile_ex_nulls\": 0.3927992582321167, \"percentile_inc_nulls\": 0.3927992582321167, \"value_count\": 4, \"group_name\": \"_dob_\", \"total_non_null_rows\": 50578, \"total_rows_inc_nulls\": 50578, \"sum_tokens_in_value_count_group\": 496, \"distinct_value_count\": 16069}, {\"percentile_ex_nulls\": 0.358812153339386, \"percentile_inc_nulls\": 0.358812153339386, \"value_count\": 3, \"group_name\": \"_dob_\", \"total_non_null_rows\": 50578, \"total_rows_inc_nulls\": 50578, \"sum_tokens_in_value_count_group\": 1719, \"distinct_value_count\": 16069}, {\"percentile_ex_nulls\": 0.24251651763916016, \"percentile_inc_nulls\": 0.24251651763916016, \"value_count\": 2, \"group_name\": \"_dob_\", \"total_non_null_rows\": 50578, \"total_rows_inc_nulls\": 50578, \"sum_tokens_in_value_count_group\": 5882, \"distinct_value_count\": 16069}, {\"percentile_ex_nulls\": 0.0, \"percentile_inc_nulls\": 0.0, \"value_count\": 1, \"group_name\": \"_dob_\", \"total_non_null_rows\": 50578, \"total_rows_inc_nulls\": 50578, \"sum_tokens_in_value_count_group\": 12266, \"distinct_value_count\": 16069}, {\"percentile_ex_nulls\": 1.0, \"percentile_inc_nulls\": 1.0, \"value_count\": 285, \"group_name\": \"_dob_\", \"total_non_null_rows\": 50578, \"total_rows_inc_nulls\": 50578, \"sum_tokens_in_value_count_group\": 285, \"distinct_value_count\": 16069}]}, \"encoding\": {\"tooltip\": [{\"field\": \"value_count\", \"type\": \"quantitative\"}, {\"field\": \"percentile_ex_nulls\", \"type\": \"quantitative\"}, {\"field\": \"percentile_inc_nulls\", \"type\": \"quantitative\"}, {\"field\": \"total_non_null_rows\", \"type\": \"quantitative\"}, {\"field\": \"total_rows_inc_nulls\", \"type\": \"quantitative\"}], \"x\": {\"field\": \"percentile_ex_nulls\", \"sort\": \"descending\", \"title\": \"Percentile\", \"type\": \"quantitative\"}, \"y\": {\"field\": \"value_count\", \"title\": \"Count of values\", \"type\": \"quantitative\"}}, \"title\": {\"text\": \"Distribution of counts of values in column \\\"dob\\\"\", \"subtitle\": \"In this col, 0 values (0.0%) are null and there are 16069 distinct values\"}}, {\"mark\": \"bar\", \"data\": {\"values\": [{\"value_count\": 285, \"group_name\": \"_dob_\", \"value\": \"1985-01-01\", \"total_non_null_rows\": 50578, \"total_rows_inc_nulls\": 50578, \"distinct_value_count\": 16069}, {\"value_count\": 284, \"group_name\": \"_dob_\", \"value\": \"1962-01-01\", \"total_non_null_rows\": 50578, \"total_rows_inc_nulls\": 50578, \"distinct_value_count\": 16069}, {\"value_count\": 270, \"group_name\": \"_dob_\", \"value\": \"1998-01-01\", \"total_non_null_rows\": 50578, \"total_rows_inc_nulls\": 50578, \"distinct_value_count\": 16069}, {\"value_count\": 267, \"group_name\": \"_dob_\", \"value\": \"2013-01-01\", \"total_non_null_rows\": 50578, \"total_rows_inc_nulls\": 50578, \"distinct_value_count\": 16069}, {\"value_count\": 267, \"group_name\": \"_dob_\", \"value\": \"1965-01-01\", \"total_non_null_rows\": 50578, \"total_rows_inc_nulls\": 50578, \"distinct_value_count\": 16069}, {\"value_count\": 264, \"group_name\": \"_dob_\", \"value\": \"1900-01-01\", \"total_non_null_rows\": 50578, \"total_rows_inc_nulls\": 50578, \"distinct_value_count\": 16069}, {\"value_count\": 263, \"group_name\": \"_dob_\", \"value\": \"1982-01-01\", \"total_non_null_rows\": 50578, \"total_rows_inc_nulls\": 50578, \"distinct_value_count\": 16069}, {\"value_count\": 262, \"group_name\": \"_dob_\", \"value\": \"2005-01-01\", \"total_non_null_rows\": 50578, \"total_rows_inc_nulls\": 50578, \"distinct_value_count\": 16069}, {\"value_count\": 262, \"group_name\": \"_dob_\", \"value\": \"1901-01-01\", \"total_non_null_rows\": 50578, \"total_rows_inc_nulls\": 50578, \"distinct_value_count\": 16069}, {\"value_count\": 262, \"group_name\": \"_dob_\", \"value\": \"1968-01-01\", \"total_non_null_rows\": 50578, \"total_rows_inc_nulls\": 50578, \"distinct_value_count\": 16069}]}, \"encoding\": {\"tooltip\": [{\"field\": \"value\", \"type\": \"nominal\"}, {\"field\": \"value_count\", \"type\": \"quantitative\"}, {\"field\": \"total_non_null_rows\", \"type\": \"quantitative\"}, {\"field\": \"total_rows_inc_nulls\", \"type\": \"quantitative\"}], \"x\": {\"field\": \"value\", \"sort\": \"-y\", \"title\": null, \"type\": \"nominal\"}, \"y\": {\"field\": \"value_count\", \"title\": \"Value count\", \"type\": \"quantitative\"}}, \"title\": \"Top 10 values by value count\"}, {\"mark\": \"bar\", \"data\": {\"values\": [{\"value_count\": 1, \"group_name\": \"_dob_\", \"value\": \"1969-05-13\", \"total_non_null_rows\": 50578, \"total_rows_inc_nulls\": 50578, \"distinct_value_count\": 16069}, {\"value_count\": 1, \"group_name\": \"_dob_\", \"value\": \"2017-12-16\", \"total_non_null_rows\": 50578, \"total_rows_inc_nulls\": 50578, \"distinct_value_count\": 16069}, {\"value_count\": 1, \"group_name\": \"_dob_\", \"value\": \"1907-12-18\", \"total_non_null_rows\": 50578, \"total_rows_inc_nulls\": 50578, \"distinct_value_count\": 16069}, {\"value_count\": 1, \"group_name\": \"_dob_\", \"value\": \"1952-05-12\", \"total_non_null_rows\": 50578, \"total_rows_inc_nulls\": 50578, \"distinct_value_count\": 16069}, {\"value_count\": 1, \"group_name\": \"_dob_\", \"value\": \"1965-06-01\", \"total_non_null_rows\": 50578, \"total_rows_inc_nulls\": 50578, \"distinct_value_count\": 16069}]}, \"encoding\": {\"tooltip\": [{\"field\": \"value\", \"type\": \"nominal\"}, {\"field\": \"value_count\", \"type\": \"quantitative\"}, {\"field\": \"total_non_null_rows\", \"type\": \"quantitative\"}, {\"field\": \"total_rows_inc_nulls\", \"type\": \"quantitative\"}], \"x\": {\"field\": \"value\", \"sort\": \"-y\", \"title\": null, \"type\": \"nominal\"}, \"y\": {\"field\": \"value_count\", \"scale\": {\"domain\": [0, 285]}, \"title\": \"Value count\", \"type\": \"quantitative\"}}, \"title\": \"Bottom 5 values by value count\"}]}, {\"hconcat\": [{\"mark\": {\"type\": \"line\", \"interpolate\": \"step-before\"}, \"data\": {\"values\": [{\"percentile_ex_nulls\": 0.9468053579330444, \"percentile_inc_nulls\": 0.9540907144546509, \"value_count\": 2322, \"group_name\": \"_birth_place_\", \"total_non_null_rows\": 43651, \"total_rows_inc_nulls\": 50578, \"sum_tokens_in_value_count_group\": 2322, \"distinct_value_count\": 2373}, {\"percentile_ex_nulls\": 0.9294174313545227, \"percentile_inc_nulls\": 0.9390841722488403, \"value_count\": 759, \"group_name\": \"_birth_place_\", \"total_non_null_rows\": 43651, \"total_rows_inc_nulls\": 50578, \"sum_tokens_in_value_count_group\": 759, \"distinct_value_count\": 2373}, {\"percentile_ex_nulls\": 0.9164051413536072, \"percentile_inc_nulls\": 0.9278540015220642, \"value_count\": 568, \"group_name\": \"_birth_place_\", \"total_non_null_rows\": 43651, \"total_rows_inc_nulls\": 50578, \"sum_tokens_in_value_count_group\": 568, \"distinct_value_count\": 2373}, {\"percentile_ex_nulls\": 0.9061418771743774, \"percentile_inc_nulls\": 0.9189963936805725, \"value_count\": 448, \"group_name\": \"_birth_place_\", \"total_non_null_rows\": 43651, \"total_rows_inc_nulls\": 50578, \"sum_tokens_in_value_count_group\": 448, \"distinct_value_count\": 2373}, {\"percentile_ex_nulls\": 0.8960619568824768, \"percentile_inc_nulls\": 0.9102969765663147, \"value_count\": 440, \"group_name\": \"_birth_place_\", \"total_non_null_rows\": 43651, \"total_rows_inc_nulls\": 50578, \"sum_tokens_in_value_count_group\": 440, \"distinct_value_count\": 2373}, {\"percentile_ex_nulls\": 0.8866005539894104, \"percentile_inc_nulls\": 0.9021313786506653, \"value_count\": 413, \"group_name\": \"_birth_place_\", \"total_non_null_rows\": 43651, \"total_rows_inc_nulls\": 50578, \"sum_tokens_in_value_count_group\": 413, \"distinct_value_count\": 2373}, {\"percentile_ex_nulls\": 0.8786511421203613, \"percentile_inc_nulls\": 0.8952706456184387, \"value_count\": 347, \"group_name\": \"_birth_place_\", \"total_non_null_rows\": 43651, \"total_rows_inc_nulls\": 50578, \"sum_tokens_in_value_count_group\": 347, \"distinct_value_count\": 2373}, {\"percentile_ex_nulls\": 0.8713431358337402, \"percentile_inc_nulls\": 0.8889635801315308, \"value_count\": 319, \"group_name\": \"_birth_place_\", \"total_non_null_rows\": 43651, \"total_rows_inc_nulls\": 50578, \"sum_tokens_in_value_count_group\": 319, \"distinct_value_count\": 2373}, {\"percentile_ex_nulls\": 0.8641039133071899, \"percentile_inc_nulls\": 0.8827158212661743, \"value_count\": 316, \"group_name\": \"_birth_place_\", \"total_non_null_rows\": 43651, \"total_rows_inc_nulls\": 50578, \"sum_tokens_in_value_count_group\": 316, \"distinct_value_count\": 2373}, {\"percentile_ex_nulls\": 0.8575061559677124, \"percentile_inc_nulls\": 0.8770216107368469, \"value_count\": 288, \"group_name\": \"_birth_place_\", \"total_non_null_rows\": 43651, \"total_rows_inc_nulls\": 50578, \"sum_tokens_in_value_count_group\": 288, \"distinct_value_count\": 2373}, {\"percentile_ex_nulls\": 0.8509541749954224, \"percentile_inc_nulls\": 0.8713669776916504, \"value_count\": 286, \"group_name\": \"_birth_place_\", \"total_non_null_rows\": 43651, \"total_rows_inc_nulls\": 50578, \"sum_tokens_in_value_count_group\": 286, \"distinct_value_count\": 2373}, {\"percentile_ex_nulls\": 0.8450894355773926, \"percentile_inc_nulls\": 0.8663055300712585, \"value_count\": 256, \"group_name\": \"_birth_place_\", \"total_non_null_rows\": 43651, \"total_rows_inc_nulls\": 50578, \"sum_tokens_in_value_count_group\": 256, \"distinct_value_count\": 2373}, {\"percentile_ex_nulls\": 0.8394080400466919, \"percentile_inc_nulls\": 0.861402153968811, \"value_count\": 248, \"group_name\": \"_birth_place_\", \"total_non_null_rows\": 43651, \"total_rows_inc_nulls\": 50578, \"sum_tokens_in_value_count_group\": 248, \"distinct_value_count\": 2373}, {\"percentile_ex_nulls\": 0.8340702056884766, \"percentile_inc_nulls\": 0.8567954301834106, \"value_count\": 233, \"group_name\": \"_birth_place_\", \"total_non_null_rows\": 43651, \"total_rows_inc_nulls\": 50578, \"sum_tokens_in_value_count_group\": 233, \"distinct_value_count\": 2373}, {\"percentile_ex_nulls\": 0.8289615511894226, \"percentile_inc_nulls\": 0.8523864150047302, \"value_count\": 223, \"group_name\": \"_birth_place_\", \"total_non_null_rows\": 43651, \"total_rows_inc_nulls\": 50578, \"sum_tokens_in_value_count_group\": 223, \"distinct_value_count\": 2373}, {\"percentile_ex_nulls\": 0.8242193460464478, \"percentile_inc_nulls\": 0.8482937216758728, \"value_count\": 207, \"group_name\": \"_birth_place_\", \"total_non_null_rows\": 43651, \"total_rows_inc_nulls\": 50578, \"sum_tokens_in_value_count_group\": 207, \"distinct_value_count\": 2373}, {\"percentile_ex_nulls\": 0.8195459246635437, \"percentile_inc_nulls\": 0.8442603349685669, \"value_count\": 204, \"group_name\": \"_birth_place_\", \"total_non_null_rows\": 43651, \"total_rows_inc_nulls\": 50578, \"sum_tokens_in_value_count_group\": 204, \"distinct_value_count\": 2373}, {\"percentile_ex_nulls\": 0.8149412274360657, \"percentile_inc_nulls\": 0.8402862548828125, \"value_count\": 201, \"group_name\": \"_birth_place_\", \"total_non_null_rows\": 43651, \"total_rows_inc_nulls\": 50578, \"sum_tokens_in_value_count_group\": 201, \"distinct_value_count\": 2373}, {\"percentile_ex_nulls\": 0.8103594779968262, \"percentile_inc_nulls\": 0.8363320231437683, \"value_count\": 200, \"group_name\": \"_birth_place_\", \"total_non_null_rows\": 43651, \"total_rows_inc_nulls\": 50578, \"sum_tokens_in_value_count_group\": 200, \"distinct_value_count\": 2373}, {\"percentile_ex_nulls\": 0.8059608936309814, \"percentile_inc_nulls\": 0.8325358629226685, \"value_count\": 192, \"group_name\": \"_birth_place_\", \"total_non_null_rows\": 43651, \"total_rows_inc_nulls\": 50578, \"sum_tokens_in_value_count_group\": 192, \"distinct_value_count\": 2373}, {\"percentile_ex_nulls\": 0.8016998767852783, \"percentile_inc_nulls\": 0.8288583755493164, \"value_count\": 186, \"group_name\": \"_birth_place_\", \"total_non_null_rows\": 43651, \"total_rows_inc_nulls\": 50578, \"sum_tokens_in_value_count_group\": 186, \"distinct_value_count\": 2373}, {\"percentile_ex_nulls\": 0.7975762486457825, \"percentile_inc_nulls\": 0.8252995014190674, \"value_count\": 180, \"group_name\": \"_birth_place_\", \"total_non_null_rows\": 43651, \"total_rows_inc_nulls\": 50578, \"sum_tokens_in_value_count_group\": 180, \"distinct_value_count\": 2373}, {\"percentile_ex_nulls\": 0.7894206047058105, \"percentile_inc_nulls\": 0.818260908126831, \"value_count\": 178, \"group_name\": \"_birth_place_\", \"total_non_null_rows\": 43651, \"total_rows_inc_nulls\": 50578, \"sum_tokens_in_value_count_group\": 356, \"distinct_value_count\": 2373}, {\"percentile_ex_nulls\": 0.7853657603263855, \"percentile_inc_nulls\": 0.8147613406181335, \"value_count\": 177, \"group_name\": \"_birth_place_\", \"total_non_null_rows\": 43651, \"total_rows_inc_nulls\": 50578, \"sum_tokens_in_value_count_group\": 177, \"distinct_value_count\": 2373}, {\"percentile_ex_nulls\": 0.7814711928367615, \"percentile_inc_nulls\": 0.8114002346992493, \"value_count\": 170, \"group_name\": \"_birth_place_\", \"total_non_null_rows\": 43651, \"total_rows_inc_nulls\": 50578, \"sum_tokens_in_value_count_group\": 170, \"distinct_value_count\": 2373}, {\"percentile_ex_nulls\": 0.777599573135376, \"percentile_inc_nulls\": 0.8080588579177856, \"value_count\": 169, \"group_name\": \"_birth_place_\", \"total_non_null_rows\": 43651, \"total_rows_inc_nulls\": 50578, \"sum_tokens_in_value_count_group\": 169, \"distinct_value_count\": 2373}, {\"percentile_ex_nulls\": 0.7738654613494873, \"percentile_inc_nulls\": 0.804836094379425, \"value_count\": 163, \"group_name\": \"_birth_place_\", \"total_non_null_rows\": 43651, \"total_rows_inc_nulls\": 50578, \"sum_tokens_in_value_count_group\": 163, \"distinct_value_count\": 2373}, {\"percentile_ex_nulls\": 0.7701541781425476, \"percentile_inc_nulls\": 0.8016331195831299, \"value_count\": 162, \"group_name\": \"_birth_place_\", \"total_non_null_rows\": 43651, \"total_rows_inc_nulls\": 50578, \"sum_tokens_in_value_count_group\": 162, \"distinct_value_count\": 2373}, {\"percentile_ex_nulls\": 0.7665345668792725, \"percentile_inc_nulls\": 0.7985092401504517, \"value_count\": 158, \"group_name\": \"_birth_place_\", \"total_non_null_rows\": 43651, \"total_rows_inc_nulls\": 50578, \"sum_tokens_in_value_count_group\": 158, \"distinct_value_count\": 2373}, {\"percentile_ex_nulls\": 0.7629378437995911, \"percentile_inc_nulls\": 0.7954051494598389, \"value_count\": 157, \"group_name\": \"_birth_place_\", \"total_non_null_rows\": 43651, \"total_rows_inc_nulls\": 50578, \"sum_tokens_in_value_count_group\": 157, \"distinct_value_count\": 2373}, {\"percentile_ex_nulls\": 0.7593869566917419, \"percentile_inc_nulls\": 0.7923405170440674, \"value_count\": 155, \"group_name\": \"_birth_place_\", \"total_non_null_rows\": 43651, \"total_rows_inc_nulls\": 50578, \"sum_tokens_in_value_count_group\": 155, \"distinct_value_count\": 2373}, {\"percentile_ex_nulls\": 0.7489404678344727, \"percentile_inc_nulls\": 0.7833247780799866, \"value_count\": 152, \"group_name\": \"_birth_place_\", \"total_non_null_rows\": 43651, \"total_rows_inc_nulls\": 50578, \"sum_tokens_in_value_count_group\": 456, \"distinct_value_count\": 2373}, {\"percentile_ex_nulls\": 0.7455728054046631, \"percentile_inc_nulls\": 0.7804183959960938, \"value_count\": 147, \"group_name\": \"_birth_place_\", \"total_non_null_rows\": 43651, \"total_rows_inc_nulls\": 50578, \"sum_tokens_in_value_count_group\": 147, \"distinct_value_count\": 2373}, {\"percentile_ex_nulls\": 0.7422968149185181, \"percentile_inc_nulls\": 0.7775910496711731, \"value_count\": 143, \"group_name\": \"_birth_place_\", \"total_non_null_rows\": 43651, \"total_rows_inc_nulls\": 50578, \"sum_tokens_in_value_count_group\": 143, \"distinct_value_count\": 2373}, {\"percentile_ex_nulls\": 0.7390437722206116, \"percentile_inc_nulls\": 0.7747834920883179, \"value_count\": 142, \"group_name\": \"_birth_place_\", \"total_non_null_rows\": 43651, \"total_rows_inc_nulls\": 50578, \"sum_tokens_in_value_count_group\": 142, \"distinct_value_count\": 2373}, {\"percentile_ex_nulls\": 0.7358136177062988, \"percentile_inc_nulls\": 0.7719957232475281, \"value_count\": 141, \"group_name\": \"_birth_place_\", \"total_non_null_rows\": 43651, \"total_rows_inc_nulls\": 50578, \"sum_tokens_in_value_count_group\": 141, \"distinct_value_count\": 2373}, {\"percentile_ex_nulls\": 0.7326292991638184, \"percentile_inc_nulls\": 0.7692475318908691, \"value_count\": 139, \"group_name\": \"_birth_place_\", \"total_non_null_rows\": 43651, \"total_rows_inc_nulls\": 50578, \"sum_tokens_in_value_count_group\": 139, \"distinct_value_count\": 2373}, {\"percentile_ex_nulls\": 0.7294678688049316, \"percentile_inc_nulls\": 0.7665190696716309, \"value_count\": 138, \"group_name\": \"_birth_place_\", \"total_non_null_rows\": 43651, \"total_rows_inc_nulls\": 50578, \"sum_tokens_in_value_count_group\": 138, \"distinct_value_count\": 2373}, {\"percentile_ex_nulls\": 0.7263522148132324, \"percentile_inc_nulls\": 0.7638301253318787, \"value_count\": 136, \"group_name\": \"_birth_place_\", \"total_non_null_rows\": 43651, \"total_rows_inc_nulls\": 50578, \"sum_tokens_in_value_count_group\": 136, \"distinct_value_count\": 2373}, {\"percentile_ex_nulls\": 0.7233282327651978, \"percentile_inc_nulls\": 0.7612202763557434, \"value_count\": 132, \"group_name\": \"_birth_place_\", \"total_non_null_rows\": 43651, \"total_rows_inc_nulls\": 50578, \"sum_tokens_in_value_count_group\": 132, \"distinct_value_count\": 2373}, {\"percentile_ex_nulls\": 0.717463493347168, \"percentile_inc_nulls\": 0.7561588287353516, \"value_count\": 128, \"group_name\": \"_birth_place_\", \"total_non_null_rows\": 43651, \"total_rows_inc_nulls\": 50578, \"sum_tokens_in_value_count_group\": 256, \"distinct_value_count\": 2373}, {\"percentile_ex_nulls\": 0.7116446495056152, \"percentile_inc_nulls\": 0.751136839389801, \"value_count\": 127, \"group_name\": \"_birth_place_\", \"total_non_null_rows\": 43651, \"total_rows_inc_nulls\": 50578, \"sum_tokens_in_value_count_group\": 254, \"distinct_value_count\": 2373}, {\"percentile_ex_nulls\": 0.7087581157684326, \"percentile_inc_nulls\": 0.7486456632614136, \"value_count\": 126, \"group_name\": \"_birth_place_\", \"total_non_null_rows\": 43651, \"total_rows_inc_nulls\": 50578, \"sum_tokens_in_value_count_group\": 126, \"distinct_value_count\": 2373}, {\"percentile_ex_nulls\": 0.7001672387123108, \"percentile_inc_nulls\": 0.7412313222885132, \"value_count\": 125, \"group_name\": \"_birth_place_\", \"total_non_null_rows\": 43651, \"total_rows_inc_nulls\": 50578, \"sum_tokens_in_value_count_group\": 375, \"distinct_value_count\": 2373}, {\"percentile_ex_nulls\": 0.697372317314148, \"percentile_inc_nulls\": 0.7388192415237427, \"value_count\": 122, \"group_name\": \"_birth_place_\", \"total_non_null_rows\": 43651, \"total_rows_inc_nulls\": 50578, \"sum_tokens_in_value_count_group\": 122, \"distinct_value_count\": 2373}, {\"percentile_ex_nulls\": 0.6946003437042236, \"percentile_inc_nulls\": 0.7364269495010376, \"value_count\": 121, \"group_name\": \"_birth_place_\", \"total_non_null_rows\": 43651, \"total_rows_inc_nulls\": 50578, \"sum_tokens_in_value_count_group\": 121, \"distinct_value_count\": 2373}, {\"percentile_ex_nulls\": 0.6891021728515625, \"percentile_inc_nulls\": 0.731681764125824, \"value_count\": 120, \"group_name\": \"_birth_place_\", \"total_non_null_rows\": 43651, \"total_rows_inc_nulls\": 50578, \"sum_tokens_in_value_count_group\": 240, \"distinct_value_count\": 2373}, {\"percentile_ex_nulls\": 0.6836498975753784, \"percentile_inc_nulls\": 0.7269761562347412, \"value_count\": 119, \"group_name\": \"_birth_place_\", \"total_non_null_rows\": 43651, \"total_rows_inc_nulls\": 50578, \"sum_tokens_in_value_count_group\": 238, \"distinct_value_count\": 2373}, {\"percentile_ex_nulls\": 0.6809465885162354, \"percentile_inc_nulls\": 0.7246431112289429, \"value_count\": 118, \"group_name\": \"_birth_place_\", \"total_non_null_rows\": 43651, \"total_rows_inc_nulls\": 50578, \"sum_tokens_in_value_count_group\": 118, \"distinct_value_count\": 2373}, {\"percentile_ex_nulls\": 0.6782662868499756, \"percentile_inc_nulls\": 0.72232985496521, \"value_count\": 117, \"group_name\": \"_birth_place_\", \"total_non_null_rows\": 43651, \"total_rows_inc_nulls\": 50578, \"sum_tokens_in_value_count_group\": 117, \"distinct_value_count\": 2373}, {\"percentile_ex_nulls\": 0.6756088137626648, \"percentile_inc_nulls\": 0.7200363874435425, \"value_count\": 116, \"group_name\": \"_birth_place_\", \"total_non_null_rows\": 43651, \"total_rows_inc_nulls\": 50578, \"sum_tokens_in_value_count_group\": 116, \"distinct_value_count\": 2373}, {\"percentile_ex_nulls\": 0.6678426265716553, \"percentile_inc_nulls\": 0.7133338451385498, \"value_count\": 113, \"group_name\": \"_birth_place_\", \"total_non_null_rows\": 43651, \"total_rows_inc_nulls\": 50578, \"sum_tokens_in_value_count_group\": 339, \"distinct_value_count\": 2373}, {\"percentile_ex_nulls\": 0.6601452827453613, \"percentile_inc_nulls\": 0.7066906690597534, \"value_count\": 112, \"group_name\": \"_birth_place_\", \"total_non_null_rows\": 43651, \"total_rows_inc_nulls\": 50578, \"sum_tokens_in_value_count_group\": 336, \"distinct_value_count\": 2373}, {\"percentile_ex_nulls\": 0.6551511287689209, \"percentile_inc_nulls\": 0.7023804783821106, \"value_count\": 109, \"group_name\": \"_birth_place_\", \"total_non_null_rows\": 43651, \"total_rows_inc_nulls\": 50578, \"sum_tokens_in_value_count_group\": 218, \"distinct_value_count\": 2373}, {\"percentile_ex_nulls\": 0.650202751159668, \"percentile_inc_nulls\": 0.6981098651885986, \"value_count\": 108, \"group_name\": \"_birth_place_\", \"total_non_null_rows\": 43651, \"total_rows_inc_nulls\": 50578, \"sum_tokens_in_value_count_group\": 216, \"distinct_value_count\": 2373}, {\"percentile_ex_nulls\": 0.6453460454940796, \"percentile_inc_nulls\": 0.6939183473587036, \"value_count\": 106, \"group_name\": \"_birth_place_\", \"total_non_null_rows\": 43651, \"total_rows_inc_nulls\": 50578, \"sum_tokens_in_value_count_group\": 212, \"distinct_value_count\": 2373}, {\"percentile_ex_nulls\": 0.6406267881393433, \"percentile_inc_nulls\": 0.6898453831672668, \"value_count\": 103, \"group_name\": \"_birth_place_\", \"total_non_null_rows\": 43651, \"total_rows_inc_nulls\": 50578, \"sum_tokens_in_value_count_group\": 206, \"distinct_value_count\": 2373}, {\"percentile_ex_nulls\": 0.6359533667564392, \"percentile_inc_nulls\": 0.6858119964599609, \"value_count\": 102, \"group_name\": \"_birth_place_\", \"total_non_null_rows\": 43651, \"total_rows_inc_nulls\": 50578, \"sum_tokens_in_value_count_group\": 204, \"distinct_value_count\": 2373}, {\"percentile_ex_nulls\": 0.6336395740509033, \"percentile_inc_nulls\": 0.6838151216506958, \"value_count\": 101, \"group_name\": \"_birth_place_\", \"total_non_null_rows\": 43651, \"total_rows_inc_nulls\": 50578, \"sum_tokens_in_value_count_group\": 101, \"distinct_value_count\": 2373}, {\"percentile_ex_nulls\": 0.629057765007019, \"percentile_inc_nulls\": 0.6798608303070068, \"value_count\": 100, \"group_name\": \"_birth_place_\", \"total_non_null_rows\": 43651, \"total_rows_inc_nulls\": 50578, \"sum_tokens_in_value_count_group\": 200, \"distinct_value_count\": 2373}, {\"percentile_ex_nulls\": 0.6245217323303223, \"percentile_inc_nulls\": 0.675946056842804, \"value_count\": 99, \"group_name\": \"_birth_place_\", \"total_non_null_rows\": 43651, \"total_rows_inc_nulls\": 50578, \"sum_tokens_in_value_count_group\": 198, \"distinct_value_count\": 2373}, {\"percentile_ex_nulls\": 0.613296389579773, \"percentile_inc_nulls\": 0.6662580966949463, \"value_count\": 98, \"group_name\": \"_birth_place_\", \"total_non_null_rows\": 43651, \"total_rows_inc_nulls\": 50578, \"sum_tokens_in_value_count_group\": 490, \"distinct_value_count\": 2373}, {\"percentile_ex_nulls\": 0.6066298484802246, \"percentile_inc_nulls\": 0.6605045795440674, \"value_count\": 97, \"group_name\": \"_birth_place_\", \"total_non_null_rows\": 43651, \"total_rows_inc_nulls\": 50578, \"sum_tokens_in_value_count_group\": 291, \"distinct_value_count\": 2373}, {\"percentile_ex_nulls\": 0.6044305562973022, \"percentile_inc_nulls\": 0.6586065292358398, \"value_count\": 96, \"group_name\": \"_birth_place_\", \"total_non_null_rows\": 43651, \"total_rows_inc_nulls\": 50578, \"sum_tokens_in_value_count_group\": 96, \"distinct_value_count\": 2373}, {\"percentile_ex_nulls\": 0.6022771596908569, \"percentile_inc_nulls\": 0.6567479968070984, \"value_count\": 94, \"group_name\": \"_birth_place_\", \"total_non_null_rows\": 43651, \"total_rows_inc_nulls\": 50578, \"sum_tokens_in_value_count_group\": 94, \"distinct_value_count\": 2373}, {\"percentile_ex_nulls\": 0.598016083240509, \"percentile_inc_nulls\": 0.6530705094337463, \"value_count\": 93, \"group_name\": \"_birth_place_\", \"total_non_null_rows\": 43651, \"total_rows_inc_nulls\": 50578, \"sum_tokens_in_value_count_group\": 186, \"distinct_value_count\": 2373}, {\"percentile_ex_nulls\": 0.5938008427619934, \"percentile_inc_nulls\": 0.6494325399398804, \"value_count\": 92, \"group_name\": \"_birth_place_\", \"total_non_null_rows\": 43651, \"total_rows_inc_nulls\": 50578, \"sum_tokens_in_value_count_group\": 184, \"distinct_value_count\": 2373}, {\"percentile_ex_nulls\": 0.5917619466781616, \"percentile_inc_nulls\": 0.6476728916168213, \"value_count\": 89, \"group_name\": \"_birth_place_\", \"total_non_null_rows\": 43651, \"total_rows_inc_nulls\": 50578, \"sum_tokens_in_value_count_group\": 89, \"distinct_value_count\": 2373}, {\"percentile_ex_nulls\": 0.5857139825820923, \"percentile_inc_nulls\": 0.6424532532691956, \"value_count\": 88, \"group_name\": \"_birth_place_\", \"total_non_null_rows\": 43651, \"total_rows_inc_nulls\": 50578, \"sum_tokens_in_value_count_group\": 264, \"distinct_value_count\": 2373}, {\"percentile_ex_nulls\": 0.577924907207489, \"percentile_inc_nulls\": 0.6357309818267822, \"value_count\": 85, \"group_name\": \"_birth_place_\", \"total_non_null_rows\": 43651, \"total_rows_inc_nulls\": 50578, \"sum_tokens_in_value_count_group\": 340, \"distinct_value_count\": 2373}, {\"percentile_ex_nulls\": 0.5741220116615295, \"percentile_inc_nulls\": 0.6324489116668701, \"value_count\": 83, \"group_name\": \"_birth_place_\", \"total_non_null_rows\": 43651, \"total_rows_inc_nulls\": 50578, \"sum_tokens_in_value_count_group\": 166, \"distinct_value_count\": 2373}, {\"percentile_ex_nulls\": 0.562850832939148, \"percentile_inc_nulls\": 0.6227213144302368, \"value_count\": 82, \"group_name\": \"_birth_place_\", \"total_non_null_rows\": 43651, \"total_rows_inc_nulls\": 50578, \"sum_tokens_in_value_count_group\": 492, \"distinct_value_count\": 2373}, {\"percentile_ex_nulls\": 0.557283878326416, \"percentile_inc_nulls\": 0.6179168820381165, \"value_count\": 81, \"group_name\": \"_birth_place_\", \"total_non_null_rows\": 43651, \"total_rows_inc_nulls\": 50578, \"sum_tokens_in_value_count_group\": 243, \"distinct_value_count\": 2373}, {\"percentile_ex_nulls\": 0.5464250445365906, \"percentile_inc_nulls\": 0.608545184135437, \"value_count\": 79, \"group_name\": \"_birth_place_\", \"total_non_null_rows\": 43651, \"total_rows_inc_nulls\": 50578, \"sum_tokens_in_value_count_group\": 474, \"distinct_value_count\": 2373}, {\"percentile_ex_nulls\": 0.5392774343490601, \"percentile_inc_nulls\": 0.6023765206336975, \"value_count\": 78, \"group_name\": \"_birth_place_\", \"total_non_null_rows\": 43651, \"total_rows_inc_nulls\": 50578, \"sum_tokens_in_value_count_group\": 312, \"distinct_value_count\": 2373}, {\"percentile_ex_nulls\": 0.5304574966430664, \"percentile_inc_nulls\": 0.5947645306587219, \"value_count\": 77, \"group_name\": \"_birth_place_\", \"total_non_null_rows\": 43651, \"total_rows_inc_nulls\": 50578, \"sum_tokens_in_value_count_group\": 385, \"distinct_value_count\": 2373}, {\"percentile_ex_nulls\": 0.5234931707382202, \"percentile_inc_nulls\": 0.5887539982795715, \"value_count\": 76, \"group_name\": \"_birth_place_\", \"total_non_null_rows\": 43651, \"total_rows_inc_nulls\": 50578, \"sum_tokens_in_value_count_group\": 304, \"distinct_value_count\": 2373}, {\"percentile_ex_nulls\": 0.5150167942047119, \"percentile_inc_nulls\": 0.5814385414123535, \"value_count\": 74, \"group_name\": \"_birth_place_\", \"total_non_null_rows\": 43651, \"total_rows_inc_nulls\": 50578, \"sum_tokens_in_value_count_group\": 370, \"distinct_value_count\": 2373}, {\"percentile_ex_nulls\": 0.5083274245262146, \"percentile_inc_nulls\": 0.575665295124054, \"value_count\": 73, \"group_name\": \"_birth_place_\", \"total_non_null_rows\": 43651, \"total_rows_inc_nulls\": 50578, \"sum_tokens_in_value_count_group\": 292, \"distinct_value_count\": 2373}, {\"percentile_ex_nulls\": 0.5000801682472229, \"percentile_inc_nulls\": 0.5685476064682007, \"value_count\": 72, \"group_name\": \"_birth_place_\", \"total_non_null_rows\": 43651, \"total_rows_inc_nulls\": 50578, \"sum_tokens_in_value_count_group\": 360, \"distinct_value_count\": 2373}, {\"percentile_ex_nulls\": 0.4919474720954895, \"percentile_inc_nulls\": 0.561528742313385, \"value_count\": 71, \"group_name\": \"_birth_place_\", \"total_non_null_rows\": 43651, \"total_rows_inc_nulls\": 50578, \"sum_tokens_in_value_count_group\": 355, \"distinct_value_count\": 2373}, {\"percentile_ex_nulls\": 0.4871366024017334, \"percentile_inc_nulls\": 0.5573767423629761, \"value_count\": 70, \"group_name\": \"_birth_place_\", \"total_non_null_rows\": 43651, \"total_rows_inc_nulls\": 50578, \"sum_tokens_in_value_count_group\": 210, \"distinct_value_count\": 2373}, {\"percentile_ex_nulls\": 0.4792330265045166, \"percentile_inc_nulls\": 0.5505555868148804, \"value_count\": 69, \"group_name\": \"_birth_place_\", \"total_non_null_rows\": 43651, \"total_rows_inc_nulls\": 50578, \"sum_tokens_in_value_count_group\": 345, \"distinct_value_count\": 2373}, {\"percentile_ex_nulls\": 0.4761173725128174, \"percentile_inc_nulls\": 0.547866702079773, \"value_count\": 68, \"group_name\": \"_birth_place_\", \"total_non_null_rows\": 43651, \"total_rows_inc_nulls\": 50578, \"sum_tokens_in_value_count_group\": 136, \"distinct_value_count\": 2373}, {\"percentile_ex_nulls\": 0.47151267528533936, \"percentile_inc_nulls\": 0.5438926219940186, \"value_count\": 67, \"group_name\": \"_birth_place_\", \"total_non_null_rows\": 43651, \"total_rows_inc_nulls\": 50578, \"sum_tokens_in_value_count_group\": 201, \"distinct_value_count\": 2373}, {\"percentile_ex_nulls\": 0.4684886932373047, \"percentile_inc_nulls\": 0.5412827730178833, \"value_count\": 66, \"group_name\": \"_birth_place_\", \"total_non_null_rows\": 43651, \"total_rows_inc_nulls\": 50578, \"sum_tokens_in_value_count_group\": 132, \"distinct_value_count\": 2373}, {\"percentile_ex_nulls\": 0.4625323414802551, \"percentile_inc_nulls\": 0.5361422300338745, \"value_count\": 65, \"group_name\": \"_birth_place_\", \"total_non_null_rows\": 43651, \"total_rows_inc_nulls\": 50578, \"sum_tokens_in_value_count_group\": 260, \"distinct_value_count\": 2373}, {\"percentile_ex_nulls\": 0.4566676616668701, \"percentile_inc_nulls\": 0.5310807228088379, \"value_count\": 64, \"group_name\": \"_birth_place_\", \"total_non_null_rows\": 43651, \"total_rows_inc_nulls\": 50578, \"sum_tokens_in_value_count_group\": 256, \"distinct_value_count\": 2373}, {\"percentile_ex_nulls\": 0.4537811279296875, \"percentile_inc_nulls\": 0.5285894870758057, \"value_count\": 63, \"group_name\": \"_birth_place_\", \"total_non_null_rows\": 43651, \"total_rows_inc_nulls\": 50578, \"sum_tokens_in_value_count_group\": 126, \"distinct_value_count\": 2373}, {\"percentile_ex_nulls\": 0.44667935371398926, \"percentile_inc_nulls\": 0.5224603414535522, \"value_count\": 62, \"group_name\": \"_birth_place_\", \"total_non_null_rows\": 43651, \"total_rows_inc_nulls\": 50578, \"sum_tokens_in_value_count_group\": 310, \"distinct_value_count\": 2373}, {\"percentile_ex_nulls\": 0.4438844323158264, \"percentile_inc_nulls\": 0.5200482606887817, \"value_count\": 61, \"group_name\": \"_birth_place_\", \"total_non_null_rows\": 43651, \"total_rows_inc_nulls\": 50578, \"sum_tokens_in_value_count_group\": 122, \"distinct_value_count\": 2373}, {\"percentile_ex_nulls\": 0.43976080417633057, \"percentile_inc_nulls\": 0.5164893865585327, \"value_count\": 60, \"group_name\": \"_birth_place_\", \"total_non_null_rows\": 43651, \"total_rows_inc_nulls\": 50578, \"sum_tokens_in_value_count_group\": 180, \"distinct_value_count\": 2373}, {\"percentile_ex_nulls\": 0.434354305267334, \"percentile_inc_nulls\": 0.511823296546936, \"value_count\": 59, \"group_name\": \"_birth_place_\", \"total_non_null_rows\": 43651, \"total_rows_inc_nulls\": 50578, \"sum_tokens_in_value_count_group\": 236, \"distinct_value_count\": 2373}, {\"percentile_ex_nulls\": 0.43169689178466797, \"percentile_inc_nulls\": 0.5095298290252686, \"value_count\": 58, \"group_name\": \"_birth_place_\", \"total_non_null_rows\": 43651, \"total_rows_inc_nulls\": 50578, \"sum_tokens_in_value_count_group\": 116, \"distinct_value_count\": 2373}, {\"percentile_ex_nulls\": 0.4303910732269287, \"percentile_inc_nulls\": 0.5084028244018555, \"value_count\": 57, \"group_name\": \"_birth_place_\", \"total_non_null_rows\": 43651, \"total_rows_inc_nulls\": 50578, \"sum_tokens_in_value_count_group\": 57, \"distinct_value_count\": 2373}, {\"percentile_ex_nulls\": 0.4226936101913452, \"percentile_inc_nulls\": 0.5017596483230591, \"value_count\": 56, \"group_name\": \"_birth_place_\", \"total_non_null_rows\": 43651, \"total_rows_inc_nulls\": 50578, \"sum_tokens_in_value_count_group\": 336, \"distinct_value_count\": 2373}, {\"percentile_ex_nulls\": 0.4176536798477173, \"percentile_inc_nulls\": 0.4974099397659302, \"value_count\": 55, \"group_name\": \"_birth_place_\", \"total_non_null_rows\": 43651, \"total_rows_inc_nulls\": 50578, \"sum_tokens_in_value_count_group\": 220, \"distinct_value_count\": 2373}, {\"percentile_ex_nulls\": 0.4151794910430908, \"percentile_inc_nulls\": 0.4952746033668518, \"value_count\": 54, \"group_name\": \"_birth_place_\", \"total_non_null_rows\": 43651, \"total_rows_inc_nulls\": 50578, \"sum_tokens_in_value_count_group\": 108, \"distinct_value_count\": 2373}, {\"percentile_ex_nulls\": 0.4115369915962219, \"percentile_inc_nulls\": 0.49213099479675293, \"value_count\": 53, \"group_name\": \"_birth_place_\", \"total_non_null_rows\": 43651, \"total_rows_inc_nulls\": 50578, \"sum_tokens_in_value_count_group\": 159, \"distinct_value_count\": 2373}, {\"percentile_ex_nulls\": 0.4067718982696533, \"percentile_inc_nulls\": 0.4880185127258301, \"value_count\": 52, \"group_name\": \"_birth_place_\", \"total_non_null_rows\": 43651, \"total_rows_inc_nulls\": 50578, \"sum_tokens_in_value_count_group\": 208, \"distinct_value_count\": 2373}, {\"percentile_ex_nulls\": 0.40093010663986206, \"percentile_inc_nulls\": 0.4829767942428589, \"value_count\": 51, \"group_name\": \"_birth_place_\", \"total_non_null_rows\": 43651, \"total_rows_inc_nulls\": 50578, \"sum_tokens_in_value_count_group\": 255, \"distinct_value_count\": 2373}, {\"percentile_ex_nulls\": 0.3952028751373291, \"percentile_inc_nulls\": 0.4780339002609253, \"value_count\": 50, \"group_name\": \"_birth_place_\", \"total_non_null_rows\": 43651, \"total_rows_inc_nulls\": 50578, \"sum_tokens_in_value_count_group\": 250, \"distinct_value_count\": 2373}, {\"percentile_ex_nulls\": 0.3873450756072998, \"percentile_inc_nulls\": 0.47125232219696045, \"value_count\": 49, \"group_name\": \"_birth_place_\", \"total_non_null_rows\": 43651, \"total_rows_inc_nulls\": 50578, \"sum_tokens_in_value_count_group\": 343, \"distinct_value_count\": 2373}, {\"percentile_ex_nulls\": 0.38294655084609985, \"percentile_inc_nulls\": 0.46745622158050537, \"value_count\": 48, \"group_name\": \"_birth_place_\", \"total_non_null_rows\": 43651, \"total_rows_inc_nulls\": 50578, \"sum_tokens_in_value_count_group\": 192, \"distinct_value_count\": 2373}, {\"percentile_ex_nulls\": 0.3797163963317871, \"percentile_inc_nulls\": 0.4646684527397156, \"value_count\": 47, \"group_name\": \"_birth_place_\", \"total_non_null_rows\": 43651, \"total_rows_inc_nulls\": 50578, \"sum_tokens_in_value_count_group\": 141, \"distinct_value_count\": 2373}, {\"percentile_ex_nulls\": 0.3776087760925293, \"percentile_inc_nulls\": 0.4628494381904602, \"value_count\": 46, \"group_name\": \"_birth_place_\", \"total_non_null_rows\": 43651, \"total_rows_inc_nulls\": 50578, \"sum_tokens_in_value_count_group\": 92, \"distinct_value_count\": 2373}, {\"percentile_ex_nulls\": 0.37348514795303345, \"percentile_inc_nulls\": 0.45929062366485596, \"value_count\": 45, \"group_name\": \"_birth_place_\", \"total_non_null_rows\": 43651, \"total_rows_inc_nulls\": 50578, \"sum_tokens_in_value_count_group\": 180, \"distinct_value_count\": 2373}, {\"percentile_ex_nulls\": 0.3664291501045227, \"percentile_inc_nulls\": 0.4532009959220886, \"value_count\": 44, \"group_name\": \"_birth_place_\", \"total_non_null_rows\": 43651, \"total_rows_inc_nulls\": 50578, \"sum_tokens_in_value_count_group\": 308, \"distinct_value_count\": 2373}, {\"percentile_ex_nulls\": 0.35854846239089966, \"percentile_inc_nulls\": 0.44639962911605835, \"value_count\": 43, \"group_name\": \"_birth_place_\", \"total_non_null_rows\": 43651, \"total_rows_inc_nulls\": 50578, \"sum_tokens_in_value_count_group\": 344, \"distinct_value_count\": 2373}, {\"percentile_ex_nulls\": 0.3575863242149353, \"percentile_inc_nulls\": 0.4455692172050476, \"value_count\": 42, \"group_name\": \"_birth_place_\", \"total_non_null_rows\": 43651, \"total_rows_inc_nulls\": 50578, \"sum_tokens_in_value_count_group\": 42, \"distinct_value_count\": 2373}, {\"percentile_ex_nulls\": 0.3528899550437927, \"percentile_inc_nulls\": 0.44151610136032104, \"value_count\": 41, \"group_name\": \"_birth_place_\", \"total_non_null_rows\": 43651, \"total_rows_inc_nulls\": 50578, \"sum_tokens_in_value_count_group\": 205, \"distinct_value_count\": 2373}, {\"percentile_ex_nulls\": 0.34830814599990845, \"percentile_inc_nulls\": 0.4375618100166321, \"value_count\": 40, \"group_name\": \"_birth_place_\", \"total_non_null_rows\": 43651, \"total_rows_inc_nulls\": 50578, \"sum_tokens_in_value_count_group\": 200, \"distinct_value_count\": 2373}, {\"percentile_ex_nulls\": 0.34294748306274414, \"percentile_inc_nulls\": 0.43293529748916626, \"value_count\": 39, \"group_name\": \"_birth_place_\", \"total_non_null_rows\": 43651, \"total_rows_inc_nulls\": 50578, \"sum_tokens_in_value_count_group\": 234, \"distinct_value_count\": 2373}, {\"percentile_ex_nulls\": 0.33337152004241943, \"percentile_inc_nulls\": 0.4246708154678345, \"value_count\": 38, \"group_name\": \"_birth_place_\", \"total_non_null_rows\": 43651, \"total_rows_inc_nulls\": 50578, \"sum_tokens_in_value_count_group\": 418, \"distinct_value_count\": 2373}, {\"percentile_ex_nulls\": 0.3274381160736084, \"percentile_inc_nulls\": 0.41955000162124634, \"value_count\": 37, \"group_name\": \"_birth_place_\", \"total_non_null_rows\": 43651, \"total_rows_inc_nulls\": 50578, \"sum_tokens_in_value_count_group\": 259, \"distinct_value_count\": 2373}, {\"percentile_ex_nulls\": 0.32413917779922485, \"percentile_inc_nulls\": 0.41670292615890503, \"value_count\": 36, \"group_name\": \"_birth_place_\", \"total_non_null_rows\": 43651, \"total_rows_inc_nulls\": 50578, \"sum_tokens_in_value_count_group\": 144, \"distinct_value_count\": 2373}, {\"percentile_ex_nulls\": 0.3233373761177063, \"percentile_inc_nulls\": 0.41601091623306274, \"value_count\": 35, \"group_name\": \"_birth_place_\", \"total_non_null_rows\": 43651, \"total_rows_inc_nulls\": 50578, \"sum_tokens_in_value_count_group\": 35, \"distinct_value_count\": 2373}, {\"percentile_ex_nulls\": 0.32022178173065186, \"percentile_inc_nulls\": 0.41332197189331055, \"value_count\": 34, \"group_name\": \"_birth_place_\", \"total_non_null_rows\": 43651, \"total_rows_inc_nulls\": 50578, \"sum_tokens_in_value_count_group\": 136, \"distinct_value_count\": 2373}, {\"percentile_ex_nulls\": 0.3171977996826172, \"percentile_inc_nulls\": 0.41071218252182007, \"value_count\": 33, \"group_name\": \"_birth_place_\", \"total_non_null_rows\": 43651, \"total_rows_inc_nulls\": 50578, \"sum_tokens_in_value_count_group\": 132, \"distinct_value_count\": 2373}, {\"percentile_ex_nulls\": 0.3149985074996948, \"percentile_inc_nulls\": 0.40881413221359253, \"value_count\": 32, \"group_name\": \"_birth_place_\", \"total_non_null_rows\": 43651, \"total_rows_inc_nulls\": 50578, \"sum_tokens_in_value_count_group\": 96, \"distinct_value_count\": 2373}, {\"percentile_ex_nulls\": 0.306476354598999, \"percentile_inc_nulls\": 0.4014591574668884, \"value_count\": 31, \"group_name\": \"_birth_place_\", \"total_non_null_rows\": 43651, \"total_rows_inc_nulls\": 50578, \"sum_tokens_in_value_count_group\": 372, \"distinct_value_count\": 2373}, {\"percentile_ex_nulls\": 0.3030400276184082, \"percentile_inc_nulls\": 0.3984934091567993, \"value_count\": 30, \"group_name\": \"_birth_place_\", \"total_non_null_rows\": 43651, \"total_rows_inc_nulls\": 50578, \"sum_tokens_in_value_count_group\": 150, \"distinct_value_count\": 2373}, {\"percentile_ex_nulls\": 0.2957320809364319, \"percentile_inc_nulls\": 0.39218634366989136, \"value_count\": 29, \"group_name\": \"_birth_place_\", \"total_non_null_rows\": 43651, \"total_rows_inc_nulls\": 50578, \"sum_tokens_in_value_count_group\": 319, \"distinct_value_count\": 2373}, {\"percentile_ex_nulls\": 0.2880346179008484, \"percentile_inc_nulls\": 0.3855431079864502, \"value_count\": 28, \"group_name\": \"_birth_place_\", \"total_non_null_rows\": 43651, \"total_rows_inc_nulls\": 50578, \"sum_tokens_in_value_count_group\": 336, \"distinct_value_count\": 2373}, {\"percentile_ex_nulls\": 0.28370481729507446, \"percentile_inc_nulls\": 0.38180631399154663, \"value_count\": 27, \"group_name\": \"_birth_place_\", \"total_non_null_rows\": 43651, \"total_rows_inc_nulls\": 50578, \"sum_tokens_in_value_count_group\": 189, \"distinct_value_count\": 2373}, {\"percentile_ex_nulls\": 0.27834415435791016, \"percentile_inc_nulls\": 0.3771798014640808, \"value_count\": 26, \"group_name\": \"_birth_place_\", \"total_non_null_rows\": 43651, \"total_rows_inc_nulls\": 50578, \"sum_tokens_in_value_count_group\": 234, \"distinct_value_count\": 2373}, {\"percentile_ex_nulls\": 0.2737623453140259, \"percentile_inc_nulls\": 0.37322551012039185, \"value_count\": 25, \"group_name\": \"_birth_place_\", \"total_non_null_rows\": 43651, \"total_rows_inc_nulls\": 50578, \"sum_tokens_in_value_count_group\": 200, \"distinct_value_count\": 2373}, {\"percentile_ex_nulls\": 0.26826417446136475, \"percentile_inc_nulls\": 0.368480384349823, \"value_count\": 24, \"group_name\": \"_birth_place_\", \"total_non_null_rows\": 43651, \"total_rows_inc_nulls\": 50578, \"sum_tokens_in_value_count_group\": 240, \"distinct_value_count\": 2373}, {\"percentile_ex_nulls\": 0.265102744102478, \"percentile_inc_nulls\": 0.3657519221305847, \"value_count\": 23, \"group_name\": \"_birth_place_\", \"total_non_null_rows\": 43651, \"total_rows_inc_nulls\": 50578, \"sum_tokens_in_value_count_group\": 138, \"distinct_value_count\": 2373}, {\"percentile_ex_nulls\": 0.2565348148345947, \"percentile_inc_nulls\": 0.35835736989974976, \"value_count\": 22, \"group_name\": \"_birth_place_\", \"total_non_null_rows\": 43651, \"total_rows_inc_nulls\": 50578, \"sum_tokens_in_value_count_group\": 374, \"distinct_value_count\": 2373}, {\"percentile_ex_nulls\": 0.25172388553619385, \"percentile_inc_nulls\": 0.3542053699493408, \"value_count\": 21, \"group_name\": \"_birth_place_\", \"total_non_null_rows\": 43651, \"total_rows_inc_nulls\": 50578, \"sum_tokens_in_value_count_group\": 210, \"distinct_value_count\": 2373}, {\"percentile_ex_nulls\": 0.24530941247940063, \"percentile_inc_nulls\": 0.3486694097518921, \"value_count\": 20, \"group_name\": \"_birth_place_\", \"total_non_null_rows\": 43651, \"total_rows_inc_nulls\": 50578, \"sum_tokens_in_value_count_group\": 280, \"distinct_value_count\": 2373}, {\"percentile_ex_nulls\": 0.24095666408538818, \"percentile_inc_nulls\": 0.3449128270149231, \"value_count\": 19, \"group_name\": \"_birth_place_\", \"total_non_null_rows\": 43651, \"total_rows_inc_nulls\": 50578, \"sum_tokens_in_value_count_group\": 190, \"distinct_value_count\": 2373}, {\"percentile_ex_nulls\": 0.23229706287384033, \"percentile_inc_nulls\": 0.3374391794204712, \"value_count\": 18, \"group_name\": \"_birth_place_\", \"total_non_null_rows\": 43651, \"total_rows_inc_nulls\": 50578, \"sum_tokens_in_value_count_group\": 378, \"distinct_value_count\": 2373}, {\"percentile_ex_nulls\": 0.22372913360595703, \"percentile_inc_nulls\": 0.330044686794281, \"value_count\": 17, \"group_name\": \"_birth_place_\", \"total_non_null_rows\": 43651, \"total_rows_inc_nulls\": 50578, \"sum_tokens_in_value_count_group\": 374, \"distinct_value_count\": 2373}, {\"percentile_ex_nulls\": 0.21346592903137207, \"percentile_inc_nulls\": 0.3211870789527893, \"value_count\": 16, \"group_name\": \"_birth_place_\", \"total_non_null_rows\": 43651, \"total_rows_inc_nulls\": 50578, \"sum_tokens_in_value_count_group\": 448, \"distinct_value_count\": 2373}, {\"percentile_ex_nulls\": 0.20418775081634521, \"percentile_inc_nulls\": 0.3131796717643738, \"value_count\": 15, \"group_name\": \"_birth_place_\", \"total_non_null_rows\": 43651, \"total_rows_inc_nulls\": 50578, \"sum_tokens_in_value_count_group\": 405, \"distinct_value_count\": 2373}, {\"percentile_ex_nulls\": 0.18590641021728516, \"percentile_inc_nulls\": 0.297402024269104, \"value_count\": 14, \"group_name\": \"_birth_place_\", \"total_non_null_rows\": 43651, \"total_rows_inc_nulls\": 50578, \"sum_tokens_in_value_count_group\": 798, \"distinct_value_count\": 2373}, {\"percentile_ex_nulls\": 0.17339807748794556, \"percentile_inc_nulls\": 0.2866068482398987, \"value_count\": 13, \"group_name\": \"_birth_place_\", \"total_non_null_rows\": 43651, \"total_rows_inc_nulls\": 50578, \"sum_tokens_in_value_count_group\": 546, \"distinct_value_count\": 2373}, {\"percentile_ex_nulls\": 0.15635383129119873, \"percentile_inc_nulls\": 0.2718968987464905, \"value_count\": 12, \"group_name\": \"_birth_place_\", \"total_non_null_rows\": 43651, \"total_rows_inc_nulls\": 50578, \"sum_tokens_in_value_count_group\": 744, \"distinct_value_count\": 2373}, {\"percentile_ex_nulls\": 0.14274585247039795, \"percentile_inc_nulls\": 0.2601526379585266, \"value_count\": 11, \"group_name\": \"_birth_place_\", \"total_non_null_rows\": 43651, \"total_rows_inc_nulls\": 50578, \"sum_tokens_in_value_count_group\": 594, \"distinct_value_count\": 2373}, {\"percentile_ex_nulls\": 0.12739688158035278, \"percentile_inc_nulls\": 0.24690574407577515, \"value_count\": 10, \"group_name\": \"_birth_place_\", \"total_non_null_rows\": 43651, \"total_rows_inc_nulls\": 50578, \"sum_tokens_in_value_count_group\": 670, \"distinct_value_count\": 2373}, {\"percentile_ex_nulls\": 0.114407479763031, \"percentile_inc_nulls\": 0.23569536209106445, \"value_count\": 9, \"group_name\": \"_birth_place_\", \"total_non_null_rows\": 43651, \"total_rows_inc_nulls\": 50578, \"sum_tokens_in_value_count_group\": 567, \"distinct_value_count\": 2373}, {\"percentile_ex_nulls\": 0.09846282005310059, \"percentile_inc_nulls\": 0.22193443775177002, \"value_count\": 8, \"group_name\": \"_birth_place_\", \"total_non_null_rows\": 43651, \"total_rows_inc_nulls\": 50578, \"sum_tokens_in_value_count_group\": 696, \"distinct_value_count\": 2373}, {\"percentile_ex_nulls\": 0.08531302213668823, \"percentile_inc_nulls\": 0.21058565378189087, \"value_count\": 7, \"group_name\": \"_birth_place_\", \"total_non_null_rows\": 43651, \"total_rows_inc_nulls\": 50578, \"sum_tokens_in_value_count_group\": 574, \"distinct_value_count\": 2373}, {\"percentile_ex_nulls\": 0.07129275798797607, \"percentile_inc_nulls\": 0.19848549365997314, \"value_count\": 6, \"group_name\": \"_birth_place_\", \"total_non_null_rows\": 43651, \"total_rows_inc_nulls\": 50578, \"sum_tokens_in_value_count_group\": 612, \"distinct_value_count\": 2373}, {\"percentile_ex_nulls\": 0.05594372749328613, \"percentile_inc_nulls\": 0.18523865938186646, \"value_count\": 5, \"group_name\": \"_birth_place_\", \"total_non_null_rows\": 43651, \"total_rows_inc_nulls\": 50578, \"sum_tokens_in_value_count_group\": 670, \"distinct_value_count\": 2373}, {\"percentile_ex_nulls\": 0.03862452507019043, \"percentile_inc_nulls\": 0.17029142379760742, \"value_count\": 4, \"group_name\": \"_birth_place_\", \"total_non_null_rows\": 43651, \"total_rows_inc_nulls\": 50578, \"sum_tokens_in_value_count_group\": 756, \"distinct_value_count\": 2373}, {\"percentile_ex_nulls\": 0.021717727184295654, \"percentile_inc_nulls\": 0.15570008754730225, \"value_count\": 3, \"group_name\": \"_birth_place_\", \"total_non_null_rows\": 43651, \"total_rows_inc_nulls\": 50578, \"sum_tokens_in_value_count_group\": 738, \"distinct_value_count\": 2373}, {\"percentile_ex_nulls\": 0.008063971996307373, \"percentile_inc_nulls\": 0.1439163088798523, \"value_count\": 2, \"group_name\": \"_birth_place_\", \"total_non_null_rows\": 43651, \"total_rows_inc_nulls\": 50578, \"sum_tokens_in_value_count_group\": 596, \"distinct_value_count\": 2373}, {\"percentile_ex_nulls\": 0.0, \"percentile_inc_nulls\": 0.13695675134658813, \"value_count\": 1, \"group_name\": \"_birth_place_\", \"total_non_null_rows\": 43651, \"total_rows_inc_nulls\": 50578, \"sum_tokens_in_value_count_group\": 352, \"distinct_value_count\": 2373}, {\"percentile_ex_nulls\": 1.0, \"percentile_inc_nulls\": 1.0, \"value_count\": 2322, \"group_name\": \"_birth_place_\", \"total_non_null_rows\": 43651, \"total_rows_inc_nulls\": 50578, \"sum_tokens_in_value_count_group\": 2322, \"distinct_value_count\": 2373}]}, \"encoding\": {\"tooltip\": [{\"field\": \"value_count\", \"type\": \"quantitative\"}, {\"field\": \"percentile_ex_nulls\", \"type\": \"quantitative\"}, {\"field\": \"percentile_inc_nulls\", \"type\": \"quantitative\"}, {\"field\": \"total_non_null_rows\", \"type\": \"quantitative\"}, {\"field\": \"total_rows_inc_nulls\", \"type\": \"quantitative\"}], \"x\": {\"field\": \"percentile_ex_nulls\", \"sort\": \"descending\", \"title\": \"Percentile\", \"type\": \"quantitative\"}, \"y\": {\"field\": \"value_count\", \"title\": \"Count of values\", \"type\": \"quantitative\"}}, \"title\": {\"text\": \"Distribution of counts of values in column \\\"birth_place\\\"\", \"subtitle\": \"In this col, 6,927 values (13.7%) are null and there are 2373 distinct values\"}}, {\"mark\": \"bar\", \"data\": {\"values\": [{\"value_count\": 2322, \"group_name\": \"_birth_place_\", \"value\": \"london\", \"total_non_null_rows\": 43651, \"total_rows_inc_nulls\": 50578, \"distinct_value_count\": 2373}, {\"value_count\": 759, \"group_name\": \"_birth_place_\", \"value\": \"westminster\", \"total_non_null_rows\": 43651, \"total_rows_inc_nulls\": 50578, \"distinct_value_count\": 2373}, {\"value_count\": 568, \"group_name\": \"_birth_place_\", \"value\": \"birmingham\", \"total_non_null_rows\": 43651, \"total_rows_inc_nulls\": 50578, \"distinct_value_count\": 2373}, {\"value_count\": 448, \"group_name\": \"_birth_place_\", \"value\": \"manchester\", \"total_non_null_rows\": 43651, \"total_rows_inc_nulls\": 50578, \"distinct_value_count\": 2373}, {\"value_count\": 440, \"group_name\": \"_birth_place_\", \"value\": \"liverpool\", \"total_non_null_rows\": 43651, \"total_rows_inc_nulls\": 50578, \"distinct_value_count\": 2373}, {\"value_count\": 413, \"group_name\": \"_birth_place_\", \"value\": \"edinburgh\", \"total_non_null_rows\": 43651, \"total_rows_inc_nulls\": 50578, \"distinct_value_count\": 2373}, {\"value_count\": 347, \"group_name\": \"_birth_place_\", \"value\": \"leeds\", \"total_non_null_rows\": 43651, \"total_rows_inc_nulls\": 50578, \"distinct_value_count\": 2373}, {\"value_count\": 319, \"group_name\": \"_birth_place_\", \"value\": \"camden\", \"total_non_null_rows\": 43651, \"total_rows_inc_nulls\": 50578, \"distinct_value_count\": 2373}, {\"value_count\": 316, \"group_name\": \"_birth_place_\", \"value\": \"sheffield\", \"total_non_null_rows\": 43651, \"total_rows_inc_nulls\": 50578, \"distinct_value_count\": 2373}, {\"value_count\": 288, \"group_name\": \"_birth_place_\", \"value\": \"glasgow\", \"total_non_null_rows\": 43651, \"total_rows_inc_nulls\": 50578, \"distinct_value_count\": 2373}]}, \"encoding\": {\"tooltip\": [{\"field\": \"value\", \"type\": \"nominal\"}, {\"field\": \"value_count\", \"type\": \"quantitative\"}, {\"field\": \"total_non_null_rows\", \"type\": \"quantitative\"}, {\"field\": \"total_rows_inc_nulls\", \"type\": \"quantitative\"}], \"x\": {\"field\": \"value\", \"sort\": \"-y\", \"title\": null, \"type\": \"nominal\"}, \"y\": {\"field\": \"value_count\", \"title\": \"Value count\", \"type\": \"quantitative\"}}, \"title\": \"Top 10 values by value count\"}, {\"mark\": \"bar\", \"data\": {\"values\": [{\"value_count\": 1, \"group_name\": \"_birth_place_\", \"value\": \"walkington\", \"total_non_null_rows\": 43651, \"total_rows_inc_nulls\": 50578, \"distinct_value_count\": 2373}, {\"value_count\": 1, \"group_name\": \"_birth_place_\", \"value\": \"chandler's ford\", \"total_non_null_rows\": 43651, \"total_rows_inc_nulls\": 50578, \"distinct_value_count\": 2373}, {\"value_count\": 1, \"group_name\": \"_birth_place_\", \"value\": \"chipping campden\", \"total_non_null_rows\": 43651, \"total_rows_inc_nulls\": 50578, \"distinct_value_count\": 2373}, {\"value_count\": 1, \"group_name\": \"_birth_place_\", \"value\": \"herne and broomfield\", \"total_non_null_rows\": 43651, \"total_rows_inc_nulls\": 50578, \"distinct_value_count\": 2373}, {\"value_count\": 1, \"group_name\": \"_birth_place_\", \"value\": \"mark\", \"total_non_null_rows\": 43651, \"total_rows_inc_nulls\": 50578, \"distinct_value_count\": 2373}]}, \"encoding\": {\"tooltip\": [{\"field\": \"value\", \"type\": \"nominal\"}, {\"field\": \"value_count\", \"type\": \"quantitative\"}, {\"field\": \"total_non_null_rows\", \"type\": \"quantitative\"}, {\"field\": \"total_rows_inc_nulls\", \"type\": \"quantitative\"}], \"x\": {\"field\": \"value\", \"sort\": \"-y\", \"title\": null, \"type\": \"nominal\"}, \"y\": {\"field\": \"value_count\", \"scale\": {\"domain\": [0, 2322]}, \"title\": \"Value count\", \"type\": \"quantitative\"}}, \"title\": \"Bottom 5 values by value count\"}]}, {\"hconcat\": [{\"mark\": {\"type\": \"line\", \"interpolate\": \"step-before\"}, \"data\": {\"values\": [{\"percentile_ex_nulls\": 0.9991315603256226, \"percentile_inc_nulls\": 0.9993277788162231, \"value_count\": 34, \"group_name\": \"_postcode_fake_\", \"total_non_null_rows\": 39152, \"total_rows_inc_nulls\": 50578, \"sum_tokens_in_value_count_group\": 34, \"distinct_value_count\": 12363}, {\"percentile_ex_nulls\": 0.9955557584762573, \"percentile_inc_nulls\": 0.9965597987174988, \"value_count\": 28, \"group_name\": \"_postcode_fake_\", \"total_non_null_rows\": 39152, \"total_rows_inc_nulls\": 50578, \"sum_tokens_in_value_count_group\": 140, \"distinct_value_count\": 12363}, {\"percentile_ex_nulls\": 0.9941765666007996, \"percentile_inc_nulls\": 0.9954921007156372, \"value_count\": 27, \"group_name\": \"_postcode_fake_\", \"total_non_null_rows\": 39152, \"total_rows_inc_nulls\": 50578, \"sum_tokens_in_value_count_group\": 54, \"distinct_value_count\": 12363}, {\"percentile_ex_nulls\": 0.9935380220413208, \"percentile_inc_nulls\": 0.9949977993965149, \"value_count\": 25, \"group_name\": \"_postcode_fake_\", \"total_non_null_rows\": 39152, \"total_rows_inc_nulls\": 50578, \"sum_tokens_in_value_count_group\": 25, \"distinct_value_count\": 12363}, {\"percentile_ex_nulls\": 0.9929249882698059, \"percentile_inc_nulls\": 0.994523286819458, \"value_count\": 24, \"group_name\": \"_postcode_fake_\", \"total_non_null_rows\": 39152, \"total_rows_inc_nulls\": 50578, \"sum_tokens_in_value_count_group\": 24, \"distinct_value_count\": 12363}, {\"percentile_ex_nulls\": 0.9923630952835083, \"percentile_inc_nulls\": 0.994088351726532, \"value_count\": 22, \"group_name\": \"_postcode_fake_\", \"total_non_null_rows\": 39152, \"total_rows_inc_nulls\": 50578, \"sum_tokens_in_value_count_group\": 22, \"distinct_value_count\": 12363}, {\"percentile_ex_nulls\": 0.9912903308868408, \"percentile_inc_nulls\": 0.9932579398155212, \"value_count\": 21, \"group_name\": \"_postcode_fake_\", \"total_non_null_rows\": 39152, \"total_rows_inc_nulls\": 50578, \"sum_tokens_in_value_count_group\": 42, \"distinct_value_count\": 12363}, {\"percentile_ex_nulls\": 0.9902687072753906, \"percentile_inc_nulls\": 0.9924671053886414, \"value_count\": 20, \"group_name\": \"_postcode_fake_\", \"total_non_null_rows\": 39152, \"total_rows_inc_nulls\": 50578, \"sum_tokens_in_value_count_group\": 40, \"distinct_value_count\": 12363}, {\"percentile_ex_nulls\": 0.9892981052398682, \"percentile_inc_nulls\": 0.9917157888412476, \"value_count\": 19, \"group_name\": \"_postcode_fake_\", \"total_non_null_rows\": 39152, \"total_rows_inc_nulls\": 50578, \"sum_tokens_in_value_count_group\": 38, \"distinct_value_count\": 12363}, {\"percentile_ex_nulls\": 0.9856201410293579, \"percentile_inc_nulls\": 0.9888686537742615, \"value_count\": 18, \"group_name\": \"_postcode_fake_\", \"total_non_null_rows\": 39152, \"total_rows_inc_nulls\": 50578, \"sum_tokens_in_value_count_group\": 144, \"distinct_value_count\": 12363}, {\"percentile_ex_nulls\": 0.9830149412155151, \"percentile_inc_nulls\": 0.9868519902229309, \"value_count\": 17, \"group_name\": \"_postcode_fake_\", \"total_non_null_rows\": 39152, \"total_rows_inc_nulls\": 50578, \"sum_tokens_in_value_count_group\": 102, \"distinct_value_count\": 12363}, {\"percentile_ex_nulls\": 0.9772936105728149, \"percentile_inc_nulls\": 0.9824231863021851, \"value_count\": 16, \"group_name\": \"_postcode_fake_\", \"total_non_null_rows\": 39152, \"total_rows_inc_nulls\": 50578, \"sum_tokens_in_value_count_group\": 224, \"distinct_value_count\": 12363}, {\"percentile_ex_nulls\": 0.9642674922943115, \"percentile_inc_nulls\": 0.9723397493362427, \"value_count\": 15, \"group_name\": \"_postcode_fake_\", \"total_non_null_rows\": 39152, \"total_rows_inc_nulls\": 50578, \"sum_tokens_in_value_count_group\": 510, \"distinct_value_count\": 12363}, {\"percentile_ex_nulls\": 0.9413822889328003, \"percentile_inc_nulls\": 0.9546245336532593, \"value_count\": 14, \"group_name\": \"_postcode_fake_\", \"total_non_null_rows\": 39152, \"total_rows_inc_nulls\": 50578, \"sum_tokens_in_value_count_group\": 896, \"distinct_value_count\": 12363}, {\"percentile_ex_nulls\": 0.9061861634254456, \"percentile_inc_nulls\": 0.9273794889450073, \"value_count\": 13, \"group_name\": \"_postcode_fake_\", \"total_non_null_rows\": 39152, \"total_rows_inc_nulls\": 50578, \"sum_tokens_in_value_count_group\": 1378, \"distinct_value_count\": 12363}, {\"percentile_ex_nulls\": 0.8565335273742676, \"percentile_inc_nulls\": 0.8889437913894653, \"value_count\": 12, \"group_name\": \"_postcode_fake_\", \"total_non_null_rows\": 39152, \"total_rows_inc_nulls\": 50578, \"sum_tokens_in_value_count_group\": 1944, \"distinct_value_count\": 12363}, {\"percentile_ex_nulls\": 0.7893849611282349, \"percentile_inc_nulls\": 0.8369646668434143, \"value_count\": 11, \"group_name\": \"_postcode_fake_\", \"total_non_null_rows\": 39152, \"total_rows_inc_nulls\": 50578, \"sum_tokens_in_value_count_group\": 2629, \"distinct_value_count\": 12363}, {\"percentile_ex_nulls\": 0.7117388248443604, \"percentile_inc_nulls\": 0.7768595218658447, \"value_count\": 10, \"group_name\": \"_postcode_fake_\", \"total_non_null_rows\": 39152, \"total_rows_inc_nulls\": 50578, \"sum_tokens_in_value_count_group\": 3040, \"distinct_value_count\": 12363}, {\"percentile_ex_nulls\": 0.6372599005699158, \"percentile_inc_nulls\": 0.7192059755325317, \"value_count\": 9, \"group_name\": \"_postcode_fake_\", \"total_non_null_rows\": 39152, \"total_rows_inc_nulls\": 50578, \"sum_tokens_in_value_count_group\": 2916, \"distinct_value_count\": 12363}, {\"percentile_ex_nulls\": 0.5657438039779663, \"percentile_inc_nulls\": 0.6638458967208862, \"value_count\": 8, \"group_name\": \"_postcode_fake_\", \"total_non_null_rows\": 39152, \"total_rows_inc_nulls\": 50578, \"sum_tokens_in_value_count_group\": 2800, \"distinct_value_count\": 12363}, {\"percentile_ex_nulls\": 0.4999489188194275, \"percentile_inc_nulls\": 0.6129146814346313, \"value_count\": 7, \"group_name\": \"_postcode_fake_\", \"total_non_null_rows\": 39152, \"total_rows_inc_nulls\": 50578, \"sum_tokens_in_value_count_group\": 2576, \"distinct_value_count\": 12363}, {\"percentile_ex_nulls\": 0.4349713921546936, \"percentile_inc_nulls\": 0.5626161694526672, \"value_count\": 6, \"group_name\": \"_postcode_fake_\", \"total_non_null_rows\": 39152, \"total_rows_inc_nulls\": 50578, \"sum_tokens_in_value_count_group\": 2544, \"distinct_value_count\": 12363}, {\"percentile_ex_nulls\": 0.3731610178947449, \"percentile_inc_nulls\": 0.5147692561149597, \"value_count\": 5, \"group_name\": \"_postcode_fake_\", \"total_non_null_rows\": 39152, \"total_rows_inc_nulls\": 50578, \"sum_tokens_in_value_count_group\": 2420, \"distinct_value_count\": 12363}, {\"percentile_ex_nulls\": 0.3146199584007263, \"percentile_inc_nulls\": 0.4694530963897705, \"value_count\": 4, \"group_name\": \"_postcode_fake_\", \"total_non_null_rows\": 39152, \"total_rows_inc_nulls\": 50578, \"sum_tokens_in_value_count_group\": 2292, \"distinct_value_count\": 12363}, {\"percentile_ex_nulls\": 0.24496835470199585, \"percentile_inc_nulls\": 0.41553640365600586, \"value_count\": 3, \"group_name\": \"_postcode_fake_\", \"total_non_null_rows\": 39152, \"total_rows_inc_nulls\": 50578, \"sum_tokens_in_value_count_group\": 2727, \"distinct_value_count\": 12363}, {\"percentile_ex_nulls\": 0.1625204086303711, \"percentile_inc_nulls\": 0.35171419382095337, \"value_count\": 2, \"group_name\": \"_postcode_fake_\", \"total_non_null_rows\": 39152, \"total_rows_inc_nulls\": 50578, \"sum_tokens_in_value_count_group\": 3228, \"distinct_value_count\": 12363}, {\"percentile_ex_nulls\": 0.0, \"percentile_inc_nulls\": 0.22590851783752441, \"value_count\": 1, \"group_name\": \"_postcode_fake_\", \"total_non_null_rows\": 39152, \"total_rows_inc_nulls\": 50578, \"sum_tokens_in_value_count_group\": 6363, \"distinct_value_count\": 12363}, {\"percentile_ex_nulls\": 1.0, \"percentile_inc_nulls\": 1.0, \"value_count\": 34, \"group_name\": \"_postcode_fake_\", \"total_non_null_rows\": 39152, \"total_rows_inc_nulls\": 50578, \"sum_tokens_in_value_count_group\": 34, \"distinct_value_count\": 12363}]}, \"encoding\": {\"tooltip\": [{\"field\": \"value_count\", \"type\": \"quantitative\"}, {\"field\": \"percentile_ex_nulls\", \"type\": \"quantitative\"}, {\"field\": \"percentile_inc_nulls\", \"type\": \"quantitative\"}, {\"field\": \"total_non_null_rows\", \"type\": \"quantitative\"}, {\"field\": \"total_rows_inc_nulls\", \"type\": \"quantitative\"}], \"x\": {\"field\": \"percentile_ex_nulls\", \"sort\": \"descending\", \"title\": \"Percentile\", \"type\": \"quantitative\"}, \"y\": {\"field\": \"value_count\", \"title\": \"Count of values\", \"type\": \"quantitative\"}}, \"title\": {\"text\": \"Distribution of counts of values in column \\\"postcode_fake\\\"\", \"subtitle\": \"In this col, 11,426 values (22.6%) are null and there are 12363 distinct values\"}}, {\"mark\": \"bar\", \"data\": {\"values\": [{\"value_count\": 34, \"group_name\": \"_postcode_fake_\", \"value\": \"se1 7sg\", \"total_non_null_rows\": 39152, \"total_rows_inc_nulls\": 50578, \"distinct_value_count\": 12363}, {\"value_count\": 28, \"group_name\": \"_postcode_fake_\", \"value\": \"sw1a 2jh\", \"total_non_null_rows\": 39152, \"total_rows_inc_nulls\": 50578, \"distinct_value_count\": 12363}, {\"value_count\": 28, \"group_name\": \"_postcode_fake_\", \"value\": \"sw1p 3pl\", \"total_non_null_rows\": 39152, \"total_rows_inc_nulls\": 50578, \"distinct_value_count\": 12363}, {\"value_count\": 28, \"group_name\": \"_postcode_fake_\", \"value\": \"sw1h 9aa\", \"total_non_null_rows\": 39152, \"total_rows_inc_nulls\": 50578, \"distinct_value_count\": 12363}, {\"value_count\": 28, \"group_name\": \"_postcode_fake_\", \"value\": \"se1 8xz\", \"total_non_null_rows\": 39152, \"total_rows_inc_nulls\": 50578, \"distinct_value_count\": 12363}, {\"value_count\": 28, \"group_name\": \"_postcode_fake_\", \"value\": \"l3 0ah\", \"total_non_null_rows\": 39152, \"total_rows_inc_nulls\": 50578, \"distinct_value_count\": 12363}, {\"value_count\": 27, \"group_name\": \"_postcode_fake_\", \"value\": \"pl1 3dq\", \"total_non_null_rows\": 39152, \"total_rows_inc_nulls\": 50578, \"distinct_value_count\": 12363}, {\"value_count\": 27, \"group_name\": \"_postcode_fake_\", \"value\": \"sw1a 2bj\", \"total_non_null_rows\": 39152, \"total_rows_inc_nulls\": 50578, \"distinct_value_count\": 12363}, {\"value_count\": 25, \"group_name\": \"_postcode_fake_\", \"value\": \"se1 7eh\", \"total_non_null_rows\": 39152, \"total_rows_inc_nulls\": 50578, \"distinct_value_count\": 12363}, {\"value_count\": 24, \"group_name\": \"_postcode_fake_\", \"value\": \"s8 8ly\", \"total_non_null_rows\": 39152, \"total_rows_inc_nulls\": 50578, \"distinct_value_count\": 12363}]}, \"encoding\": {\"tooltip\": [{\"field\": \"value\", \"type\": \"nominal\"}, {\"field\": \"value_count\", \"type\": \"quantitative\"}, {\"field\": \"total_non_null_rows\", \"type\": \"quantitative\"}, {\"field\": \"total_rows_inc_nulls\", \"type\": \"quantitative\"}], \"x\": {\"field\": \"value\", \"sort\": \"-y\", \"title\": null, \"type\": \"nominal\"}, \"y\": {\"field\": \"value_count\", \"title\": \"Value count\", \"type\": \"quantitative\"}}, \"title\": \"Top 10 values by value count\"}, {\"mark\": \"bar\", \"data\": {\"values\": [{\"value_count\": 1, \"group_name\": \"_postcode_fake_\", \"value\": \"tr1r 1jt\", \"total_non_null_rows\": 39152, \"total_rows_inc_nulls\": 50578, \"distinct_value_count\": 12363}, {\"value_count\": 1, \"group_name\": \"_postcode_fake_\", \"value\": \"dh9 7hh\", \"total_non_null_rows\": 39152, \"total_rows_inc_nulls\": 50578, \"distinct_value_count\": 12363}, {\"value_count\": 1, \"group_name\": \"_postcode_fake_\", \"value\": \"ex33 1pp\", \"total_non_null_rows\": 39152, \"total_rows_inc_nulls\": 50578, \"distinct_value_count\": 12363}, {\"value_count\": 1, \"group_name\": \"_postcode_fake_\", \"value\": \"ex33 1fh\", \"total_non_null_rows\": 39152, \"total_rows_inc_nulls\": 50578, \"distinct_value_count\": 12363}, {\"value_count\": 1, \"group_name\": \"_postcode_fake_\", \"value\": \"b42 3ny\", \"total_non_null_rows\": 39152, \"total_rows_inc_nulls\": 50578, \"distinct_value_count\": 12363}]}, \"encoding\": {\"tooltip\": [{\"field\": \"value\", \"type\": \"nominal\"}, {\"field\": \"value_count\", \"type\": \"quantitative\"}, {\"field\": \"total_non_null_rows\", \"type\": \"quantitative\"}, {\"field\": \"total_rows_inc_nulls\", \"type\": \"quantitative\"}], \"x\": {\"field\": \"value\", \"sort\": \"-y\", \"title\": null, \"type\": \"nominal\"}, \"y\": {\"field\": \"value_count\", \"scale\": {\"domain\": [0, 34]}, \"title\": \"Value count\", \"type\": \"quantitative\"}}, \"title\": \"Bottom 5 values by value count\"}]}, {\"hconcat\": [{\"mark\": {\"type\": \"line\", \"interpolate\": \"step-before\"}, \"data\": {\"values\": [{\"percentile_ex_nulls\": 0.16399818658828735, \"percentile_inc_nulls\": 0.34961843490600586, \"value_count\": 32895, \"group_name\": \"_gender_\", \"total_non_null_rows\": 39348, \"total_rows_inc_nulls\": 50578, \"sum_tokens_in_value_count_group\": 32895, \"distinct_value_count\": 7}, {\"percentile_ex_nulls\": 0.0007624030113220215, \"percentile_inc_nulls\": 0.2226264476776123, \"value_count\": 6423, \"group_name\": \"_gender_\", \"total_non_null_rows\": 39348, \"total_rows_inc_nulls\": 50578, \"sum_tokens_in_value_count_group\": 6423, \"distinct_value_count\": 7}, {\"percentile_ex_nulls\": 0.00045746564865112305, \"percentile_inc_nulls\": 0.22238916158676147, \"value_count\": 12, \"group_name\": \"_gender_\", \"total_non_null_rows\": 39348, \"total_rows_inc_nulls\": 50578, \"sum_tokens_in_value_count_group\": 12, \"distinct_value_count\": 7}, {\"percentile_ex_nulls\": 0.00020331144332885742, \"percentile_inc_nulls\": 0.2221914529800415, \"value_count\": 10, \"group_name\": \"_gender_\", \"total_non_null_rows\": 39348, \"total_rows_inc_nulls\": 50578, \"sum_tokens_in_value_count_group\": 10, \"distinct_value_count\": 7}, {\"percentile_ex_nulls\": 5.08427619934082e-05, \"percentile_inc_nulls\": 0.22207283973693848, \"value_count\": 3, \"group_name\": \"_gender_\", \"total_non_null_rows\": 39348, \"total_rows_inc_nulls\": 50578, \"sum_tokens_in_value_count_group\": 6, \"distinct_value_count\": 7}, {\"percentile_ex_nulls\": 0.0, \"percentile_inc_nulls\": 0.2220333218574524, \"value_count\": 2, \"group_name\": \"_gender_\", \"total_non_null_rows\": 39348, \"total_rows_inc_nulls\": 50578, \"sum_tokens_in_value_count_group\": 2, \"distinct_value_count\": 7}, {\"percentile_ex_nulls\": 1.0, \"percentile_inc_nulls\": 1.0, \"value_count\": 32895, \"group_name\": \"_gender_\", \"total_non_null_rows\": 39348, \"total_rows_inc_nulls\": 50578, \"sum_tokens_in_value_count_group\": 32895, \"distinct_value_count\": 7}]}, \"encoding\": {\"tooltip\": [{\"field\": \"value_count\", \"type\": \"quantitative\"}, {\"field\": \"percentile_ex_nulls\", \"type\": \"quantitative\"}, {\"field\": \"percentile_inc_nulls\", \"type\": \"quantitative\"}, {\"field\": \"total_non_null_rows\", \"type\": \"quantitative\"}, {\"field\": \"total_rows_inc_nulls\", \"type\": \"quantitative\"}], \"x\": {\"field\": \"percentile_ex_nulls\", \"sort\": \"descending\", \"title\": \"Percentile\", \"type\": \"quantitative\"}, \"y\": {\"field\": \"value_count\", \"title\": \"Count of values\", \"type\": \"quantitative\"}}, \"title\": {\"text\": \"Distribution of counts of values in column \\\"gender\\\"\", \"subtitle\": \"In this col, 11,230 values (22.2%) are null and there are 7 distinct values\"}}, {\"mark\": \"bar\", \"data\": {\"values\": [{\"value_count\": 32895, \"group_name\": \"_gender_\", \"value\": \"male\", \"total_non_null_rows\": 39348, \"total_rows_inc_nulls\": 50578, \"distinct_value_count\": 7}, {\"value_count\": 6423, \"group_name\": \"_gender_\", \"value\": \"female\", \"total_non_null_rows\": 39348, \"total_rows_inc_nulls\": 50578, \"distinct_value_count\": 7}, {\"value_count\": 12, \"group_name\": \"_gender_\", \"value\": \"t2227949966\", \"total_non_null_rows\": 39348, \"total_rows_inc_nulls\": 50578, \"distinct_value_count\": 7}, {\"value_count\": 10, \"group_name\": \"_gender_\", \"value\": \"t2227949951\", \"total_non_null_rows\": 39348, \"total_rows_inc_nulls\": 50578, \"distinct_value_count\": 7}, {\"value_count\": 3, \"group_name\": \"_gender_\", \"value\": \"female | male\", \"total_non_null_rows\": 39348, \"total_rows_inc_nulls\": 50578, \"distinct_value_count\": 7}, {\"value_count\": 3, \"group_name\": \"_gender_\", \"value\": \"t2227949953\", \"total_non_null_rows\": 39348, \"total_rows_inc_nulls\": 50578, \"distinct_value_count\": 7}, {\"value_count\": 2, \"group_name\": \"_gender_\", \"value\": \"t2227949974\", \"total_non_null_rows\": 39348, \"total_rows_inc_nulls\": 50578, \"distinct_value_count\": 7}]}, \"encoding\": {\"tooltip\": [{\"field\": \"value\", \"type\": \"nominal\"}, {\"field\": \"value_count\", \"type\": \"quantitative\"}, {\"field\": \"total_non_null_rows\", \"type\": \"quantitative\"}, {\"field\": \"total_rows_inc_nulls\", \"type\": \"quantitative\"}], \"x\": {\"field\": \"value\", \"sort\": \"-y\", \"title\": null, \"type\": \"nominal\"}, \"y\": {\"field\": \"value_count\", \"title\": \"Value count\", \"type\": \"quantitative\"}}, \"title\": \"Top 7 values by value count\"}, {\"mark\": \"bar\", \"data\": {\"values\": [{\"value_count\": 2, \"group_name\": \"_gender_\", \"value\": \"t2227949974\", \"total_non_null_rows\": 39348, \"total_rows_inc_nulls\": 50578, \"distinct_value_count\": 7}, {\"value_count\": 3, \"group_name\": \"_gender_\", \"value\": \"female | male\", \"total_non_null_rows\": 39348, \"total_rows_inc_nulls\": 50578, \"distinct_value_count\": 7}, {\"value_count\": 3, \"group_name\": \"_gender_\", \"value\": \"t2227949953\", \"total_non_null_rows\": 39348, \"total_rows_inc_nulls\": 50578, \"distinct_value_count\": 7}, {\"value_count\": 10, \"group_name\": \"_gender_\", \"value\": \"t2227949951\", \"total_non_null_rows\": 39348, \"total_rows_inc_nulls\": 50578, \"distinct_value_count\": 7}, {\"value_count\": 12, \"group_name\": \"_gender_\", \"value\": \"t2227949966\", \"total_non_null_rows\": 39348, \"total_rows_inc_nulls\": 50578, \"distinct_value_count\": 7}]}, \"encoding\": {\"tooltip\": [{\"field\": \"value\", \"type\": \"nominal\"}, {\"field\": \"value_count\", \"type\": \"quantitative\"}, {\"field\": \"total_non_null_rows\", \"type\": \"quantitative\"}, {\"field\": \"total_rows_inc_nulls\", \"type\": \"quantitative\"}], \"x\": {\"field\": \"value\", \"sort\": \"-y\", \"title\": null, \"type\": \"nominal\"}, \"y\": {\"field\": \"value_count\", \"scale\": {\"domain\": [0, 32895]}, \"title\": \"Value count\", \"type\": \"quantitative\"}}, \"title\": \"Bottom 5 values by value count\"}]}, {\"hconcat\": [{\"mark\": {\"type\": \"line\", \"interpolate\": \"step-before\"}, \"data\": {\"values\": [{\"percentile_ex_nulls\": 0.8789987564086914, \"percentile_inc_nulls\": 0.9394993782043457, \"value_count\": 3060, \"group_name\": \"_occupation_\", \"total_non_null_rows\": 25289, \"total_rows_inc_nulls\": 50578, \"sum_tokens_in_value_count_group\": 3060, \"distinct_value_count\": 453}, {\"percentile_ex_nulls\": 0.7846494317054749, \"percentile_inc_nulls\": 0.8923247456550598, \"value_count\": 2386, \"group_name\": \"_occupation_\", \"total_non_null_rows\": 25289, \"total_rows_inc_nulls\": 50578, \"sum_tokens_in_value_count_group\": 2386, \"distinct_value_count\": 453}, {\"percentile_ex_nulls\": 0.6957175135612488, \"percentile_inc_nulls\": 0.8478587865829468, \"value_count\": 2249, \"group_name\": \"_occupation_\", \"total_non_null_rows\": 25289, \"total_rows_inc_nulls\": 50578, \"sum_tokens_in_value_count_group\": 2249, \"distinct_value_count\": 453}, {\"percentile_ex_nulls\": 0.6424532532691956, \"percentile_inc_nulls\": 0.8212265968322754, \"value_count\": 1347, \"group_name\": \"_occupation_\", \"total_non_null_rows\": 25289, \"total_rows_inc_nulls\": 50578, \"sum_tokens_in_value_count_group\": 1347, \"distinct_value_count\": 453}, {\"percentile_ex_nulls\": 0.6150104999542236, \"percentile_inc_nulls\": 0.8075052499771118, \"value_count\": 694, \"group_name\": \"_occupation_\", \"total_non_null_rows\": 25289, \"total_rows_inc_nulls\": 50578, \"sum_tokens_in_value_count_group\": 694, \"distinct_value_count\": 453}, {\"percentile_ex_nulls\": 0.5932223796844482, \"percentile_inc_nulls\": 0.7966111898422241, \"value_count\": 551, \"group_name\": \"_occupation_\", \"total_non_null_rows\": 25289, \"total_rows_inc_nulls\": 50578, \"sum_tokens_in_value_count_group\": 551, \"distinct_value_count\": 453}, {\"percentile_ex_nulls\": 0.5743603706359863, \"percentile_inc_nulls\": 0.7871801853179932, \"value_count\": 477, \"group_name\": \"_occupation_\", \"total_non_null_rows\": 25289, \"total_rows_inc_nulls\": 50578, \"sum_tokens_in_value_count_group\": 477, \"distinct_value_count\": 453}, {\"percentile_ex_nulls\": 0.5571592450141907, \"percentile_inc_nulls\": 0.778579592704773, \"value_count\": 435, \"group_name\": \"_occupation_\", \"total_non_null_rows\": 25289, \"total_rows_inc_nulls\": 50578, \"sum_tokens_in_value_count_group\": 435, \"distinct_value_count\": 453}, {\"percentile_ex_nulls\": 0.5414211750030518, \"percentile_inc_nulls\": 0.7707105875015259, \"value_count\": 398, \"group_name\": \"_occupation_\", \"total_non_null_rows\": 25289, \"total_rows_inc_nulls\": 50578, \"sum_tokens_in_value_count_group\": 398, \"distinct_value_count\": 453}, {\"percentile_ex_nulls\": 0.5262367129325867, \"percentile_inc_nulls\": 0.7631183862686157, \"value_count\": 384, \"group_name\": \"_occupation_\", \"total_non_null_rows\": 25289, \"total_rows_inc_nulls\": 50578, \"sum_tokens_in_value_count_group\": 384, \"distinct_value_count\": 453}, {\"percentile_ex_nulls\": 0.513227105140686, \"percentile_inc_nulls\": 0.756613552570343, \"value_count\": 329, \"group_name\": \"_occupation_\", \"total_non_null_rows\": 25289, \"total_rows_inc_nulls\": 50578, \"sum_tokens_in_value_count_group\": 329, \"distinct_value_count\": 453}, {\"percentile_ex_nulls\": 0.5005733966827393, \"percentile_inc_nulls\": 0.7502866983413696, \"value_count\": 320, \"group_name\": \"_occupation_\", \"total_non_null_rows\": 25289, \"total_rows_inc_nulls\": 50578, \"sum_tokens_in_value_count_group\": 320, \"distinct_value_count\": 453}, {\"percentile_ex_nulls\": 0.4881173372268677, \"percentile_inc_nulls\": 0.7440586686134338, \"value_count\": 315, \"group_name\": \"_occupation_\", \"total_non_null_rows\": 25289, \"total_rows_inc_nulls\": 50578, \"sum_tokens_in_value_count_group\": 315, \"distinct_value_count\": 453}, {\"percentile_ex_nulls\": 0.4761754274368286, \"percentile_inc_nulls\": 0.7380877137184143, \"value_count\": 302, \"group_name\": \"_occupation_\", \"total_non_null_rows\": 25289, \"total_rows_inc_nulls\": 50578, \"sum_tokens_in_value_count_group\": 302, \"distinct_value_count\": 453}, {\"percentile_ex_nulls\": 0.4653010964393616, \"percentile_inc_nulls\": 0.7326505184173584, \"value_count\": 275, \"group_name\": \"_occupation_\", \"total_non_null_rows\": 25289, \"total_rows_inc_nulls\": 50578, \"sum_tokens_in_value_count_group\": 275, \"distinct_value_count\": 453}, {\"percentile_ex_nulls\": 0.45454543828964233, \"percentile_inc_nulls\": 0.7272727489471436, \"value_count\": 272, \"group_name\": \"_occupation_\", \"total_non_null_rows\": 25289, \"total_rows_inc_nulls\": 50578, \"sum_tokens_in_value_count_group\": 272, \"distinct_value_count\": 453}, {\"percentile_ex_nulls\": 0.4335877299308777, \"percentile_inc_nulls\": 0.7167938947677612, \"value_count\": 265, \"group_name\": \"_occupation_\", \"total_non_null_rows\": 25289, \"total_rows_inc_nulls\": 50578, \"sum_tokens_in_value_count_group\": 530, \"distinct_value_count\": 453}, {\"percentile_ex_nulls\": 0.4237020015716553, \"percentile_inc_nulls\": 0.7118510007858276, \"value_count\": 250, \"group_name\": \"_occupation_\", \"total_non_null_rows\": 25289, \"total_rows_inc_nulls\": 50578, \"sum_tokens_in_value_count_group\": 250, \"distinct_value_count\": 453}, {\"percentile_ex_nulls\": 0.4141721725463867, \"percentile_inc_nulls\": 0.7070860862731934, \"value_count\": 241, \"group_name\": \"_occupation_\", \"total_non_null_rows\": 25289, \"total_rows_inc_nulls\": 50578, \"sum_tokens_in_value_count_group\": 241, \"distinct_value_count\": 453}, {\"percentile_ex_nulls\": 0.4047214388847351, \"percentile_inc_nulls\": 0.7023607492446899, \"value_count\": 239, \"group_name\": \"_occupation_\", \"total_non_null_rows\": 25289, \"total_rows_inc_nulls\": 50578, \"sum_tokens_in_value_count_group\": 239, \"distinct_value_count\": 453}, {\"percentile_ex_nulls\": 0.39554744958877563, \"percentile_inc_nulls\": 0.6977736949920654, \"value_count\": 232, \"group_name\": \"_occupation_\", \"total_non_null_rows\": 25289, \"total_rows_inc_nulls\": 50578, \"sum_tokens_in_value_count_group\": 232, \"distinct_value_count\": 453}, {\"percentile_ex_nulls\": 0.3865712285041809, \"percentile_inc_nulls\": 0.6932855844497681, \"value_count\": 227, \"group_name\": \"_occupation_\", \"total_non_null_rows\": 25289, \"total_rows_inc_nulls\": 50578, \"sum_tokens_in_value_count_group\": 227, \"distinct_value_count\": 453}, {\"percentile_ex_nulls\": 0.37826722860336304, \"percentile_inc_nulls\": 0.6891336441040039, \"value_count\": 210, \"group_name\": \"_occupation_\", \"total_non_null_rows\": 25289, \"total_rows_inc_nulls\": 50578, \"sum_tokens_in_value_count_group\": 210, \"distinct_value_count\": 453}, {\"percentile_ex_nulls\": 0.3702400326728821, \"percentile_inc_nulls\": 0.6851199865341187, \"value_count\": 203, \"group_name\": \"_occupation_\", \"total_non_null_rows\": 25289, \"total_rows_inc_nulls\": 50578, \"sum_tokens_in_value_count_group\": 203, \"distinct_value_count\": 453}, {\"percentile_ex_nulls\": 0.3624500632286072, \"percentile_inc_nulls\": 0.681225061416626, \"value_count\": 197, \"group_name\": \"_occupation_\", \"total_non_null_rows\": 25289, \"total_rows_inc_nulls\": 50578, \"sum_tokens_in_value_count_group\": 197, \"distinct_value_count\": 453}, {\"percentile_ex_nulls\": 0.3547391891479492, \"percentile_inc_nulls\": 0.6773695945739746, \"value_count\": 195, \"group_name\": \"_occupation_\", \"total_non_null_rows\": 25289, \"total_rows_inc_nulls\": 50578, \"sum_tokens_in_value_count_group\": 195, \"distinct_value_count\": 453}, {\"percentile_ex_nulls\": 0.34766101837158203, \"percentile_inc_nulls\": 0.673830509185791, \"value_count\": 179, \"group_name\": \"_occupation_\", \"total_non_null_rows\": 25289, \"total_rows_inc_nulls\": 50578, \"sum_tokens_in_value_count_group\": 179, \"distinct_value_count\": 453}, {\"percentile_ex_nulls\": 0.3415318727493286, \"percentile_inc_nulls\": 0.6707659363746643, \"value_count\": 155, \"group_name\": \"_occupation_\", \"total_non_null_rows\": 25289, \"total_rows_inc_nulls\": 50578, \"sum_tokens_in_value_count_group\": 155, \"distinct_value_count\": 453}, {\"percentile_ex_nulls\": 0.33548182249069214, \"percentile_inc_nulls\": 0.6677409410476685, \"value_count\": 153, \"group_name\": \"_occupation_\", \"total_non_null_rows\": 25289, \"total_rows_inc_nulls\": 50578, \"sum_tokens_in_value_count_group\": 153, \"distinct_value_count\": 453}, {\"percentile_ex_nulls\": 0.3295503854751587, \"percentile_inc_nulls\": 0.6647751927375793, \"value_count\": 150, \"group_name\": \"_occupation_\", \"total_non_null_rows\": 25289, \"total_rows_inc_nulls\": 50578, \"sum_tokens_in_value_count_group\": 150, \"distinct_value_count\": 453}, {\"percentile_ex_nulls\": 0.3180829882621765, \"percentile_inc_nulls\": 0.6590415239334106, \"value_count\": 145, \"group_name\": \"_occupation_\", \"total_non_null_rows\": 25289, \"total_rows_inc_nulls\": 50578, \"sum_tokens_in_value_count_group\": 290, \"distinct_value_count\": 453}, {\"percentile_ex_nulls\": 0.31266558170318604, \"percentile_inc_nulls\": 0.656332790851593, \"value_count\": 137, \"group_name\": \"_occupation_\", \"total_non_null_rows\": 25289, \"total_rows_inc_nulls\": 50578, \"sum_tokens_in_value_count_group\": 137, \"distinct_value_count\": 453}, {\"percentile_ex_nulls\": 0.30752503871917725, \"percentile_inc_nulls\": 0.6537625193595886, \"value_count\": 130, \"group_name\": \"_occupation_\", \"total_non_null_rows\": 25289, \"total_rows_inc_nulls\": 50578, \"sum_tokens_in_value_count_group\": 130, \"distinct_value_count\": 453}, {\"percentile_ex_nulls\": 0.30285894870758057, \"percentile_inc_nulls\": 0.6514294743537903, \"value_count\": 118, \"group_name\": \"_occupation_\", \"total_non_null_rows\": 25289, \"total_rows_inc_nulls\": 50578, \"sum_tokens_in_value_count_group\": 118, \"distinct_value_count\": 453}, {\"percentile_ex_nulls\": 0.2937641143798828, \"percentile_inc_nulls\": 0.6468820571899414, \"value_count\": 115, \"group_name\": \"_occupation_\", \"total_non_null_rows\": 25289, \"total_rows_inc_nulls\": 50578, \"sum_tokens_in_value_count_group\": 230, \"distinct_value_count\": 453}, {\"percentile_ex_nulls\": 0.2892957329750061, \"percentile_inc_nulls\": 0.6446478366851807, \"value_count\": 113, \"group_name\": \"_occupation_\", \"total_non_null_rows\": 25289, \"total_rows_inc_nulls\": 50578, \"sum_tokens_in_value_count_group\": 113, \"distinct_value_count\": 453}, {\"percentile_ex_nulls\": 0.28486692905426025, \"percentile_inc_nulls\": 0.6424334645271301, \"value_count\": 112, \"group_name\": \"_occupation_\", \"total_non_null_rows\": 25289, \"total_rows_inc_nulls\": 50578, \"sum_tokens_in_value_count_group\": 112, \"distinct_value_count\": 453}, {\"percentile_ex_nulls\": 0.2760884165763855, \"percentile_inc_nulls\": 0.6380442380905151, \"value_count\": 111, \"group_name\": \"_occupation_\", \"total_non_null_rows\": 25289, \"total_rows_inc_nulls\": 50578, \"sum_tokens_in_value_count_group\": 222, \"distinct_value_count\": 453}, {\"percentile_ex_nulls\": 0.2680216431617737, \"percentile_inc_nulls\": 0.6340107917785645, \"value_count\": 102, \"group_name\": \"_occupation_\", \"total_non_null_rows\": 25289, \"total_rows_inc_nulls\": 50578, \"sum_tokens_in_value_count_group\": 204, \"distinct_value_count\": 453}, {\"percentile_ex_nulls\": 0.26402783393859863, \"percentile_inc_nulls\": 0.6320139169692993, \"value_count\": 101, \"group_name\": \"_occupation_\", \"total_non_null_rows\": 25289, \"total_rows_inc_nulls\": 50578, \"sum_tokens_in_value_count_group\": 101, \"distinct_value_count\": 453}, {\"percentile_ex_nulls\": 0.2561192512512207, \"percentile_inc_nulls\": 0.6280596256256104, \"value_count\": 100, \"group_name\": \"_occupation_\", \"total_non_null_rows\": 25289, \"total_rows_inc_nulls\": 50578, \"sum_tokens_in_value_count_group\": 200, \"distinct_value_count\": 453}, {\"percentile_ex_nulls\": 0.24836885929107666, \"percentile_inc_nulls\": 0.6241844296455383, \"value_count\": 98, \"group_name\": \"_occupation_\", \"total_non_null_rows\": 25289, \"total_rows_inc_nulls\": 50578, \"sum_tokens_in_value_count_group\": 196, \"distinct_value_count\": 453}, {\"percentile_ex_nulls\": 0.24453318119049072, \"percentile_inc_nulls\": 0.6222665905952454, \"value_count\": 97, \"group_name\": \"_occupation_\", \"total_non_null_rows\": 25289, \"total_rows_inc_nulls\": 50578, \"sum_tokens_in_value_count_group\": 97, \"distinct_value_count\": 453}, {\"percentile_ex_nulls\": 0.24073708057403564, \"percentile_inc_nulls\": 0.6203685402870178, \"value_count\": 96, \"group_name\": \"_occupation_\", \"total_non_null_rows\": 25289, \"total_rows_inc_nulls\": 50578, \"sum_tokens_in_value_count_group\": 96, \"distinct_value_count\": 453}, {\"percentile_ex_nulls\": 0.2370200753211975, \"percentile_inc_nulls\": 0.6185100078582764, \"value_count\": 94, \"group_name\": \"_occupation_\", \"total_non_null_rows\": 25289, \"total_rows_inc_nulls\": 50578, \"sum_tokens_in_value_count_group\": 94, \"distinct_value_count\": 453}, {\"percentile_ex_nulls\": 0.23338210582733154, \"percentile_inc_nulls\": 0.6166910529136658, \"value_count\": 92, \"group_name\": \"_occupation_\", \"total_non_null_rows\": 25289, \"total_rows_inc_nulls\": 50578, \"sum_tokens_in_value_count_group\": 92, \"distinct_value_count\": 453}, {\"percentile_ex_nulls\": 0.22978371381759644, \"percentile_inc_nulls\": 0.6148918867111206, \"value_count\": 91, \"group_name\": \"_occupation_\", \"total_non_null_rows\": 25289, \"total_rows_inc_nulls\": 50578, \"sum_tokens_in_value_count_group\": 91, \"distinct_value_count\": 453}, {\"percentile_ex_nulls\": 0.2262643575668335, \"percentile_inc_nulls\": 0.6131321787834167, \"value_count\": 89, \"group_name\": \"_occupation_\", \"total_non_null_rows\": 25289, \"total_rows_inc_nulls\": 50578, \"sum_tokens_in_value_count_group\": 89, \"distinct_value_count\": 453}, {\"percentile_ex_nulls\": 0.22282415628433228, \"percentile_inc_nulls\": 0.6114120483398438, \"value_count\": 87, \"group_name\": \"_occupation_\", \"total_non_null_rows\": 25289, \"total_rows_inc_nulls\": 50578, \"sum_tokens_in_value_count_group\": 87, \"distinct_value_count\": 453}, {\"percentile_ex_nulls\": 0.21942347288131714, \"percentile_inc_nulls\": 0.609711766242981, \"value_count\": 86, \"group_name\": \"_occupation_\", \"total_non_null_rows\": 25289, \"total_rows_inc_nulls\": 50578, \"sum_tokens_in_value_count_group\": 86, \"distinct_value_count\": 453}, {\"percentile_ex_nulls\": 0.21629959344863892, \"percentile_inc_nulls\": 0.6081497669219971, \"value_count\": 79, \"group_name\": \"_occupation_\", \"total_non_null_rows\": 25289, \"total_rows_inc_nulls\": 50578, \"sum_tokens_in_value_count_group\": 79, \"distinct_value_count\": 453}, {\"percentile_ex_nulls\": 0.21321523189544678, \"percentile_inc_nulls\": 0.6066076159477234, \"value_count\": 78, \"group_name\": \"_occupation_\", \"total_non_null_rows\": 25289, \"total_rows_inc_nulls\": 50578, \"sum_tokens_in_value_count_group\": 78, \"distinct_value_count\": 453}, {\"percentile_ex_nulls\": 0.20744198560714722, \"percentile_inc_nulls\": 0.603721022605896, \"value_count\": 73, \"group_name\": \"_occupation_\", \"total_non_null_rows\": 25289, \"total_rows_inc_nulls\": 50578, \"sum_tokens_in_value_count_group\": 146, \"distinct_value_count\": 453}, {\"percentile_ex_nulls\": 0.2045949101448059, \"percentile_inc_nulls\": 0.6022974252700806, \"value_count\": 72, \"group_name\": \"_occupation_\", \"total_non_null_rows\": 25289, \"total_rows_inc_nulls\": 50578, \"sum_tokens_in_value_count_group\": 72, \"distinct_value_count\": 453}, {\"percentile_ex_nulls\": 0.20186644792556763, \"percentile_inc_nulls\": 0.6009331941604614, \"value_count\": 69, \"group_name\": \"_occupation_\", \"total_non_null_rows\": 25289, \"total_rows_inc_nulls\": 50578, \"sum_tokens_in_value_count_group\": 69, \"distinct_value_count\": 453}, {\"percentile_ex_nulls\": 0.1992170214653015, \"percentile_inc_nulls\": 0.5996085405349731, \"value_count\": 67, \"group_name\": \"_occupation_\", \"total_non_null_rows\": 25289, \"total_rows_inc_nulls\": 50578, \"sum_tokens_in_value_count_group\": 67, \"distinct_value_count\": 453}, {\"percentile_ex_nulls\": 0.19660723209381104, \"percentile_inc_nulls\": 0.5983036160469055, \"value_count\": 66, \"group_name\": \"_occupation_\", \"total_non_null_rows\": 25289, \"total_rows_inc_nulls\": 50578, \"sum_tokens_in_value_count_group\": 66, \"distinct_value_count\": 453}, {\"percentile_ex_nulls\": 0.18889635801315308, \"percentile_inc_nulls\": 0.5944482088088989, \"value_count\": 65, \"group_name\": \"_occupation_\", \"total_non_null_rows\": 25289, \"total_rows_inc_nulls\": 50578, \"sum_tokens_in_value_count_group\": 195, \"distinct_value_count\": 453}, {\"percentile_ex_nulls\": 0.18640518188476562, \"percentile_inc_nulls\": 0.5932025909423828, \"value_count\": 63, \"group_name\": \"_occupation_\", \"total_non_null_rows\": 25289, \"total_rows_inc_nulls\": 50578, \"sum_tokens_in_value_count_group\": 63, \"distinct_value_count\": 453}, {\"percentile_ex_nulls\": 0.17928743362426758, \"percentile_inc_nulls\": 0.5896437168121338, \"value_count\": 60, \"group_name\": \"_occupation_\", \"total_non_null_rows\": 25289, \"total_rows_inc_nulls\": 50578, \"sum_tokens_in_value_count_group\": 180, \"distinct_value_count\": 453}, {\"percentile_ex_nulls\": 0.17695438861846924, \"percentile_inc_nulls\": 0.5884771943092346, \"value_count\": 59, \"group_name\": \"_occupation_\", \"total_non_null_rows\": 25289, \"total_rows_inc_nulls\": 50578, \"sum_tokens_in_value_count_group\": 59, \"distinct_value_count\": 453}, {\"percentile_ex_nulls\": 0.17466092109680176, \"percentile_inc_nulls\": 0.5873304605484009, \"value_count\": 58, \"group_name\": \"_occupation_\", \"total_non_null_rows\": 25289, \"total_rows_inc_nulls\": 50578, \"sum_tokens_in_value_count_group\": 58, \"distinct_value_count\": 453}, {\"percentile_ex_nulls\": 0.17240697145462036, \"percentile_inc_nulls\": 0.5862034559249878, \"value_count\": 57, \"group_name\": \"_occupation_\", \"total_non_null_rows\": 25289, \"total_rows_inc_nulls\": 50578, \"sum_tokens_in_value_count_group\": 57, \"distinct_value_count\": 453}, {\"percentile_ex_nulls\": 0.1679781675338745, \"percentile_inc_nulls\": 0.5839890837669373, \"value_count\": 56, \"group_name\": \"_occupation_\", \"total_non_null_rows\": 25289, \"total_rows_inc_nulls\": 50578, \"sum_tokens_in_value_count_group\": 112, \"distinct_value_count\": 453}, {\"percentile_ex_nulls\": 0.16584283113479614, \"percentile_inc_nulls\": 0.5829213857650757, \"value_count\": 54, \"group_name\": \"_occupation_\", \"total_non_null_rows\": 25289, \"total_rows_inc_nulls\": 50578, \"sum_tokens_in_value_count_group\": 54, \"distinct_value_count\": 453}, {\"percentile_ex_nulls\": 0.15967416763305664, \"percentile_inc_nulls\": 0.5798370838165283, \"value_count\": 52, \"group_name\": \"_occupation_\", \"total_non_null_rows\": 25289, \"total_rows_inc_nulls\": 50578, \"sum_tokens_in_value_count_group\": 156, \"distinct_value_count\": 453}, {\"percentile_ex_nulls\": 0.15765750408172607, \"percentile_inc_nulls\": 0.578828752040863, \"value_count\": 51, \"group_name\": \"_occupation_\", \"total_non_null_rows\": 25289, \"total_rows_inc_nulls\": 50578, \"sum_tokens_in_value_count_group\": 51, \"distinct_value_count\": 453}, {\"percentile_ex_nulls\": 0.1556803584098816, \"percentile_inc_nulls\": 0.5778402090072632, \"value_count\": 50, \"group_name\": \"_occupation_\", \"total_non_null_rows\": 25289, \"total_rows_inc_nulls\": 50578, \"sum_tokens_in_value_count_group\": 50, \"distinct_value_count\": 453}, {\"percentile_ex_nulls\": 0.1537427306175232, \"percentile_inc_nulls\": 0.576871395111084, \"value_count\": 49, \"group_name\": \"_occupation_\", \"total_non_null_rows\": 25289, \"total_rows_inc_nulls\": 50578, \"sum_tokens_in_value_count_group\": 49, \"distinct_value_count\": 453}, {\"percentile_ex_nulls\": 0.1481671929359436, \"percentile_inc_nulls\": 0.5740835666656494, \"value_count\": 47, \"group_name\": \"_occupation_\", \"total_non_null_rows\": 25289, \"total_rows_inc_nulls\": 50578, \"sum_tokens_in_value_count_group\": 141, \"distinct_value_count\": 453}, {\"percentile_ex_nulls\": 0.14271026849746704, \"percentile_inc_nulls\": 0.5713551044464111, \"value_count\": 46, \"group_name\": \"_occupation_\", \"total_non_null_rows\": 25289, \"total_rows_inc_nulls\": 50578, \"sum_tokens_in_value_count_group\": 138, \"distinct_value_count\": 453}, {\"percentile_ex_nulls\": 0.1373719573020935, \"percentile_inc_nulls\": 0.5686860084533691, \"value_count\": 45, \"group_name\": \"_occupation_\", \"total_non_null_rows\": 25289, \"total_rows_inc_nulls\": 50578, \"sum_tokens_in_value_count_group\": 135, \"distinct_value_count\": 453}, {\"percentile_ex_nulls\": 0.13567161560058594, \"percentile_inc_nulls\": 0.567835807800293, \"value_count\": 43, \"group_name\": \"_occupation_\", \"total_non_null_rows\": 25289, \"total_rows_inc_nulls\": 50578, \"sum_tokens_in_value_count_group\": 43, \"distinct_value_count\": 453}, {\"percentile_ex_nulls\": 0.1340503692626953, \"percentile_inc_nulls\": 0.5670251846313477, \"value_count\": 41, \"group_name\": \"_occupation_\", \"total_non_null_rows\": 25289, \"total_rows_inc_nulls\": 50578, \"sum_tokens_in_value_count_group\": 41, \"distinct_value_count\": 453}, {\"percentile_ex_nulls\": 0.12930524349212646, \"percentile_inc_nulls\": 0.5646526217460632, \"value_count\": 40, \"group_name\": \"_occupation_\", \"total_non_null_rows\": 25289, \"total_rows_inc_nulls\": 50578, \"sum_tokens_in_value_count_group\": 120, \"distinct_value_count\": 453}, {\"percentile_ex_nulls\": 0.12313652038574219, \"percentile_inc_nulls\": 0.5615682601928711, \"value_count\": 39, \"group_name\": \"_occupation_\", \"total_non_null_rows\": 25289, \"total_rows_inc_nulls\": 50578, \"sum_tokens_in_value_count_group\": 156, \"distinct_value_count\": 453}, {\"percentile_ex_nulls\": 0.11562341451644897, \"percentile_inc_nulls\": 0.5578117370605469, \"value_count\": 38, \"group_name\": \"_occupation_\", \"total_non_null_rows\": 25289, \"total_rows_inc_nulls\": 50578, \"sum_tokens_in_value_count_group\": 190, \"distinct_value_count\": 453}, {\"percentile_ex_nulls\": 0.11416029930114746, \"percentile_inc_nulls\": 0.5570801496505737, \"value_count\": 37, \"group_name\": \"_occupation_\", \"total_non_null_rows\": 25289, \"total_rows_inc_nulls\": 50578, \"sum_tokens_in_value_count_group\": 37, \"distinct_value_count\": 453}, {\"percentile_ex_nulls\": 0.1127367615699768, \"percentile_inc_nulls\": 0.556368350982666, \"value_count\": 36, \"group_name\": \"_occupation_\", \"total_non_null_rows\": 25289, \"total_rows_inc_nulls\": 50578, \"sum_tokens_in_value_count_group\": 36, \"distinct_value_count\": 453}, {\"percentile_ex_nulls\": 0.11135274171829224, \"percentile_inc_nulls\": 0.5556763410568237, \"value_count\": 35, \"group_name\": \"_occupation_\", \"total_non_null_rows\": 25289, \"total_rows_inc_nulls\": 50578, \"sum_tokens_in_value_count_group\": 35, \"distinct_value_count\": 453}, {\"percentile_ex_nulls\": 0.10597491264343262, \"percentile_inc_nulls\": 0.5529874563217163, \"value_count\": 34, \"group_name\": \"_occupation_\", \"total_non_null_rows\": 25289, \"total_rows_inc_nulls\": 50578, \"sum_tokens_in_value_count_group\": 136, \"distinct_value_count\": 453}, {\"percentile_ex_nulls\": 0.10217881202697754, \"percentile_inc_nulls\": 0.5510894060134888, \"value_count\": 32, \"group_name\": \"_occupation_\", \"total_non_null_rows\": 25289, \"total_rows_inc_nulls\": 50578, \"sum_tokens_in_value_count_group\": 96, \"distinct_value_count\": 453}, {\"percentile_ex_nulls\": 0.09972715377807617, \"percentile_inc_nulls\": 0.5498635768890381, \"value_count\": 31, \"group_name\": \"_occupation_\", \"total_non_null_rows\": 25289, \"total_rows_inc_nulls\": 50578, \"sum_tokens_in_value_count_group\": 62, \"distinct_value_count\": 453}, {\"percentile_ex_nulls\": 0.09616827964782715, \"percentile_inc_nulls\": 0.5480841398239136, \"value_count\": 30, \"group_name\": \"_occupation_\", \"total_non_null_rows\": 25289, \"total_rows_inc_nulls\": 50578, \"sum_tokens_in_value_count_group\": 90, \"distinct_value_count\": 453}, {\"percentile_ex_nulls\": 0.09387481212615967, \"percentile_inc_nulls\": 0.5469374060630798, \"value_count\": 29, \"group_name\": \"_occupation_\", \"total_non_null_rows\": 25289, \"total_rows_inc_nulls\": 50578, \"sum_tokens_in_value_count_group\": 58, \"distinct_value_count\": 453}, {\"percentile_ex_nulls\": 0.0917394757270813, \"percentile_inc_nulls\": 0.5458697080612183, \"value_count\": 27, \"group_name\": \"_occupation_\", \"total_non_null_rows\": 25289, \"total_rows_inc_nulls\": 50578, \"sum_tokens_in_value_count_group\": 54, \"distinct_value_count\": 453}, {\"percentile_ex_nulls\": 0.09071135520935059, \"percentile_inc_nulls\": 0.5453556776046753, \"value_count\": 26, \"group_name\": \"_occupation_\", \"total_non_null_rows\": 25289, \"total_rows_inc_nulls\": 50578, \"sum_tokens_in_value_count_group\": 26, \"distinct_value_count\": 453}, {\"percentile_ex_nulls\": 0.08379137516021729, \"percentile_inc_nulls\": 0.5418956875801086, \"value_count\": 25, \"group_name\": \"_occupation_\", \"total_non_null_rows\": 25289, \"total_rows_inc_nulls\": 50578, \"sum_tokens_in_value_count_group\": 175, \"distinct_value_count\": 453}, {\"percentile_ex_nulls\": 0.08189332485198975, \"percentile_inc_nulls\": 0.5409466624259949, \"value_count\": 24, \"group_name\": \"_occupation_\", \"total_non_null_rows\": 25289, \"total_rows_inc_nulls\": 50578, \"sum_tokens_in_value_count_group\": 48, \"distinct_value_count\": 453}, {\"percentile_ex_nulls\": 0.08098381757736206, \"percentile_inc_nulls\": 0.5404919385910034, \"value_count\": 23, \"group_name\": \"_occupation_\", \"total_non_null_rows\": 25289, \"total_rows_inc_nulls\": 50578, \"sum_tokens_in_value_count_group\": 23, \"distinct_value_count\": 453}, {\"percentile_ex_nulls\": 0.07924395799636841, \"percentile_inc_nulls\": 0.5396219491958618, \"value_count\": 22, \"group_name\": \"_occupation_\", \"total_non_null_rows\": 25289, \"total_rows_inc_nulls\": 50578, \"sum_tokens_in_value_count_group\": 44, \"distinct_value_count\": 453}, {\"percentile_ex_nulls\": 0.07675272226333618, \"percentile_inc_nulls\": 0.5383763313293457, \"value_count\": 21, \"group_name\": \"_occupation_\", \"total_non_null_rows\": 25289, \"total_rows_inc_nulls\": 50578, \"sum_tokens_in_value_count_group\": 63, \"distinct_value_count\": 453}, {\"percentile_ex_nulls\": 0.07358932495117188, \"percentile_inc_nulls\": 0.5367946624755859, \"value_count\": 20, \"group_name\": \"_occupation_\", \"total_non_null_rows\": 25289, \"total_rows_inc_nulls\": 50578, \"sum_tokens_in_value_count_group\": 80, \"distinct_value_count\": 453}, {\"percentile_ex_nulls\": 0.07208669185638428, \"percentile_inc_nulls\": 0.5360433459281921, \"value_count\": 19, \"group_name\": \"_occupation_\", \"total_non_null_rows\": 25289, \"total_rows_inc_nulls\": 50578, \"sum_tokens_in_value_count_group\": 38, \"distinct_value_count\": 453}, {\"percentile_ex_nulls\": 0.06923961639404297, \"percentile_inc_nulls\": 0.5346198081970215, \"value_count\": 18, \"group_name\": \"_occupation_\", \"total_non_null_rows\": 25289, \"total_rows_inc_nulls\": 50578, \"sum_tokens_in_value_count_group\": 72, \"distinct_value_count\": 453}, {\"percentile_ex_nulls\": 0.06655067205429077, \"percentile_inc_nulls\": 0.5332753658294678, \"value_count\": 17, \"group_name\": \"_occupation_\", \"total_non_null_rows\": 25289, \"total_rows_inc_nulls\": 50578, \"sum_tokens_in_value_count_group\": 68, \"distinct_value_count\": 453}, {\"percentile_ex_nulls\": 0.06401991844177246, \"percentile_inc_nulls\": 0.5320099592208862, \"value_count\": 16, \"group_name\": \"_occupation_\", \"total_non_null_rows\": 25289, \"total_rows_inc_nulls\": 50578, \"sum_tokens_in_value_count_group\": 64, \"distinct_value_count\": 453}, {\"percentile_ex_nulls\": 0.059867918491363525, \"percentile_inc_nulls\": 0.5299339294433594, \"value_count\": 15, \"group_name\": \"_occupation_\", \"total_non_null_rows\": 25289, \"total_rows_inc_nulls\": 50578, \"sum_tokens_in_value_count_group\": 105, \"distinct_value_count\": 453}, {\"percentile_ex_nulls\": 0.05433189868927002, \"percentile_inc_nulls\": 0.527165949344635, \"value_count\": 14, \"group_name\": \"_occupation_\", \"total_non_null_rows\": 25289, \"total_rows_inc_nulls\": 50578, \"sum_tokens_in_value_count_group\": 140, \"distinct_value_count\": 453}, {\"percentile_ex_nulls\": 0.05073350667953491, \"percentile_inc_nulls\": 0.5253667831420898, \"value_count\": 13, \"group_name\": \"_occupation_\", \"total_non_null_rows\": 25289, \"total_rows_inc_nulls\": 50578, \"sum_tokens_in_value_count_group\": 91, \"distinct_value_count\": 453}, {\"percentile_ex_nulls\": 0.04551386833190918, \"percentile_inc_nulls\": 0.5227569341659546, \"value_count\": 12, \"group_name\": \"_occupation_\", \"total_non_null_rows\": 25289, \"total_rows_inc_nulls\": 50578, \"sum_tokens_in_value_count_group\": 132, \"distinct_value_count\": 453}, {\"percentile_ex_nulls\": 0.0415990948677063, \"percentile_inc_nulls\": 0.5207995176315308, \"value_count\": 11, \"group_name\": \"_occupation_\", \"total_non_null_rows\": 25289, \"total_rows_inc_nulls\": 50578, \"sum_tokens_in_value_count_group\": 99, \"distinct_value_count\": 453}, {\"percentile_ex_nulls\": 0.03843569755554199, \"percentile_inc_nulls\": 0.519217848777771, \"value_count\": 10, \"group_name\": \"_occupation_\", \"total_non_null_rows\": 25289, \"total_rows_inc_nulls\": 50578, \"sum_tokens_in_value_count_group\": 80, \"distinct_value_count\": 453}, {\"percentile_ex_nulls\": 0.0316738486289978, \"percentile_inc_nulls\": 0.5158369541168213, \"value_count\": 9, \"group_name\": \"_occupation_\", \"total_non_null_rows\": 25289, \"total_rows_inc_nulls\": 50578, \"sum_tokens_in_value_count_group\": 171, \"distinct_value_count\": 453}, {\"percentile_ex_nulls\": 0.026928722858428955, \"percentile_inc_nulls\": 0.5134643316268921, \"value_count\": 8, \"group_name\": \"_occupation_\", \"total_non_null_rows\": 25289, \"total_rows_inc_nulls\": 50578, \"sum_tokens_in_value_count_group\": 120, \"distinct_value_count\": 453}, {\"percentile_ex_nulls\": 0.02277672290802002, \"percentile_inc_nulls\": 0.51138836145401, \"value_count\": 7, \"group_name\": \"_occupation_\", \"total_non_null_rows\": 25289, \"total_rows_inc_nulls\": 50578, \"sum_tokens_in_value_count_group\": 105, \"distinct_value_count\": 453}, {\"percentile_ex_nulls\": 0.017794311046600342, \"percentile_inc_nulls\": 0.5088971853256226, \"value_count\": 6, \"group_name\": \"_occupation_\", \"total_non_null_rows\": 25289, \"total_rows_inc_nulls\": 50578, \"sum_tokens_in_value_count_group\": 126, \"distinct_value_count\": 453}, {\"percentile_ex_nulls\": 0.013049125671386719, \"percentile_inc_nulls\": 0.5065245628356934, \"value_count\": 5, \"group_name\": \"_occupation_\", \"total_non_null_rows\": 25289, \"total_rows_inc_nulls\": 50578, \"sum_tokens_in_value_count_group\": 120, \"distinct_value_count\": 453}, {\"percentile_ex_nulls\": 0.008936703205108643, \"percentile_inc_nulls\": 0.5044683218002319, \"value_count\": 4, \"group_name\": \"_occupation_\", \"total_non_null_rows\": 25289, \"total_rows_inc_nulls\": 50578, \"sum_tokens_in_value_count_group\": 104, \"distinct_value_count\": 453}, {\"percentile_ex_nulls\": 0.005259215831756592, \"percentile_inc_nulls\": 0.5026296377182007, \"value_count\": 3, \"group_name\": \"_occupation_\", \"total_non_null_rows\": 25289, \"total_rows_inc_nulls\": 50578, \"sum_tokens_in_value_count_group\": 93, \"distinct_value_count\": 453}, {\"percentile_ex_nulls\": 0.001858532428741455, \"percentile_inc_nulls\": 0.5009292364120483, \"value_count\": 2, \"group_name\": \"_occupation_\", \"total_non_null_rows\": 25289, \"total_rows_inc_nulls\": 50578, \"sum_tokens_in_value_count_group\": 86, \"distinct_value_count\": 453}, {\"percentile_ex_nulls\": 0.0, \"percentile_inc_nulls\": 0.5, \"value_count\": 1, \"group_name\": \"_occupation_\", \"total_non_null_rows\": 25289, \"total_rows_inc_nulls\": 50578, \"sum_tokens_in_value_count_group\": 47, \"distinct_value_count\": 453}, {\"percentile_ex_nulls\": 1.0, \"percentile_inc_nulls\": 1.0, \"value_count\": 3060, \"group_name\": \"_occupation_\", \"total_non_null_rows\": 25289, \"total_rows_inc_nulls\": 50578, \"sum_tokens_in_value_count_group\": 3060, \"distinct_value_count\": 453}]}, \"encoding\": {\"tooltip\": [{\"field\": \"value_count\", \"type\": \"quantitative\"}, {\"field\": \"percentile_ex_nulls\", \"type\": \"quantitative\"}, {\"field\": \"percentile_inc_nulls\", \"type\": \"quantitative\"}, {\"field\": \"total_non_null_rows\", \"type\": \"quantitative\"}, {\"field\": \"total_rows_inc_nulls\", \"type\": \"quantitative\"}], \"x\": {\"field\": \"percentile_ex_nulls\", \"sort\": \"descending\", \"title\": \"Percentile\", \"type\": \"quantitative\"}, \"y\": {\"field\": \"value_count\", \"title\": \"Count of values\", \"type\": \"quantitative\"}}, \"title\": {\"text\": \"Distribution of counts of values in column \\\"occupation\\\"\", \"subtitle\": \"In this col, 25,289 values (50.0%) are null and there are 453 distinct values\"}}, {\"mark\": \"bar\", \"data\": {\"values\": [{\"value_count\": 3060, \"group_name\": \"_occupation_\", \"value\": \"cricketer\", \"total_non_null_rows\": 25289, \"total_rows_inc_nulls\": 50578, \"distinct_value_count\": 453}, {\"value_count\": 2386, \"group_name\": \"_occupation_\", \"value\": \"painter\", \"total_non_null_rows\": 25289, \"total_rows_inc_nulls\": 50578, \"distinct_value_count\": 453}, {\"value_count\": 2249, \"group_name\": \"_occupation_\", \"value\": \"politician\", \"total_non_null_rows\": 25289, \"total_rows_inc_nulls\": 50578, \"distinct_value_count\": 453}, {\"value_count\": 1347, \"group_name\": \"_occupation_\", \"value\": \"writer\", \"total_non_null_rows\": 25289, \"total_rows_inc_nulls\": 50578, \"distinct_value_count\": 453}, {\"value_count\": 694, \"group_name\": \"_occupation_\", \"value\": \"association football player\", \"total_non_null_rows\": 25289, \"total_rows_inc_nulls\": 50578, \"distinct_value_count\": 453}, {\"value_count\": 551, \"group_name\": \"_occupation_\", \"value\": \"priest\", \"total_non_null_rows\": 25289, \"total_rows_inc_nulls\": 50578, \"distinct_value_count\": 453}, {\"value_count\": 477, \"group_name\": \"_occupation_\", \"value\": \"photographer\", \"total_non_null_rows\": 25289, \"total_rows_inc_nulls\": 50578, \"distinct_value_count\": 453}, {\"value_count\": 435, \"group_name\": \"_occupation_\", \"value\": \"military personnel\", \"total_non_null_rows\": 25289, \"total_rows_inc_nulls\": 50578, \"distinct_value_count\": 453}, {\"value_count\": 398, \"group_name\": \"_occupation_\", \"value\": \"businessperson\", \"total_non_null_rows\": 25289, \"total_rows_inc_nulls\": 50578, \"distinct_value_count\": 453}, {\"value_count\": 384, \"group_name\": \"_occupation_\", \"value\": \"poet\", \"total_non_null_rows\": 25289, \"total_rows_inc_nulls\": 50578, \"distinct_value_count\": 453}]}, \"encoding\": {\"tooltip\": [{\"field\": \"value\", \"type\": \"nominal\"}, {\"field\": \"value_count\", \"type\": \"quantitative\"}, {\"field\": \"total_non_null_rows\", \"type\": \"quantitative\"}, {\"field\": \"total_rows_inc_nulls\", \"type\": \"quantitative\"}], \"x\": {\"field\": \"value\", \"sort\": \"-y\", \"title\": null, \"type\": \"nominal\"}, \"y\": {\"field\": \"value_count\", \"title\": \"Value count\", \"type\": \"quantitative\"}}, \"title\": \"Top 10 values by value count\"}, {\"mark\": \"bar\", \"data\": {\"values\": [{\"value_count\": 1, \"group_name\": \"_occupation_\", \"value\": \"long-distance runner\", \"total_non_null_rows\": 25289, \"total_rows_inc_nulls\": 50578, \"distinct_value_count\": 453}, {\"value_count\": 1, \"group_name\": \"_occupation_\", \"value\": \"memoirist\", \"total_non_null_rows\": 25289, \"total_rows_inc_nulls\": 50578, \"distinct_value_count\": 453}, {\"value_count\": 1, \"group_name\": \"_occupation_\", \"value\": \"mammalogist\", \"total_non_null_rows\": 25289, \"total_rows_inc_nulls\": 50578, \"distinct_value_count\": 453}, {\"value_count\": 1, \"group_name\": \"_occupation_\", \"value\": \"knight\", \"total_non_null_rows\": 25289, \"total_rows_inc_nulls\": 50578, \"distinct_value_count\": 453}, {\"value_count\": 1, \"group_name\": \"_occupation_\", \"value\": \"runologist\", \"total_non_null_rows\": 25289, \"total_rows_inc_nulls\": 50578, \"distinct_value_count\": 453}]}, \"encoding\": {\"tooltip\": [{\"field\": \"value\", \"type\": \"nominal\"}, {\"field\": \"value_count\", \"type\": \"quantitative\"}, {\"field\": \"total_non_null_rows\", \"type\": \"quantitative\"}, {\"field\": \"total_rows_inc_nulls\", \"type\": \"quantitative\"}], \"x\": {\"field\": \"value\", \"sort\": \"-y\", \"title\": null, \"type\": \"nominal\"}, \"y\": {\"field\": \"value_count\", \"scale\": {\"domain\": [0, 3060]}, \"title\": \"Value count\", \"type\": \"quantitative\"}}, \"title\": \"Bottom 5 values by value count\"}]}, {\"hconcat\": [{\"mark\": {\"type\": \"line\", \"interpolate\": \"step-before\"}, \"data\": {\"values\": [{\"percentile_ex_nulls\": 0.9997627139091492, \"percentile_inc_nulls\": 0.9997627139091492, \"value_count\": 2, \"group_name\": \"_email_\", \"total_non_null_rows\": 50578, \"total_rows_inc_nulls\": 50578, \"sum_tokens_in_value_count_group\": 12, \"distinct_value_count\": 50572}, {\"percentile_ex_nulls\": 0.0, \"percentile_inc_nulls\": 0.0, \"value_count\": 1, \"group_name\": \"_email_\", \"total_non_null_rows\": 50578, \"total_rows_inc_nulls\": 50578, \"sum_tokens_in_value_count_group\": 50566, \"distinct_value_count\": 50572}, {\"percentile_ex_nulls\": 1.0, \"percentile_inc_nulls\": 1.0, \"value_count\": 2, \"group_name\": \"_email_\", \"total_non_null_rows\": 50578, \"total_rows_inc_nulls\": 50578, \"sum_tokens_in_value_count_group\": 12, \"distinct_value_count\": 50572}]}, \"encoding\": {\"tooltip\": [{\"field\": \"value_count\", \"type\": \"quantitative\"}, {\"field\": \"percentile_ex_nulls\", \"type\": \"quantitative\"}, {\"field\": \"percentile_inc_nulls\", \"type\": \"quantitative\"}, {\"field\": \"total_non_null_rows\", \"type\": \"quantitative\"}, {\"field\": \"total_rows_inc_nulls\", \"type\": \"quantitative\"}], \"x\": {\"field\": \"percentile_ex_nulls\", \"sort\": \"descending\", \"title\": \"Percentile\", \"type\": \"quantitative\"}, \"y\": {\"field\": \"value_count\", \"title\": \"Count of values\", \"type\": \"quantitative\"}}, \"title\": {\"text\": \"Distribution of counts of values in column \\\"email\\\"\", \"subtitle\": \"In this col, 0 values (0.0%) are null and there are 50572 distinct values\"}}, {\"mark\": \"bar\", \"data\": {\"values\": [{\"value_count\": 2, \"group_name\": \"_email_\", \"value\": \"sirbaronet3374@gmail.com\", \"total_non_null_rows\": 50578, \"total_rows_inc_nulls\": 50578, \"distinct_value_count\": 50572}, {\"value_count\": 2, \"group_name\": \"_email_\", \"value\": \"cook4368@yahoo.co.uk\", \"total_non_null_rows\": 50578, \"total_rows_inc_nulls\": 50578, \"distinct_value_count\": 50572}, {\"value_count\": 2, \"group_name\": \"_email_\", \"value\": \"fredericquin9207@randommail.net\", \"total_non_null_rows\": 50578, \"total_rows_inc_nulls\": 50578, \"distinct_value_count\": 50572}, {\"value_count\": 2, \"group_name\": \"_email_\", \"value\": \"sirbaronet7455@outlook.in\", \"total_non_null_rows\": 50578, \"total_rows_inc_nulls\": 50578, \"distinct_value_count\": 50572}, {\"value_count\": 2, \"group_name\": \"_email_\", \"value\": \"sibellamiles1748@outlook.in\", \"total_non_null_rows\": 50578, \"total_rows_inc_nulls\": 50578, \"distinct_value_count\": 50572}, {\"value_count\": 2, \"group_name\": \"_email_\", \"value\": \"sirbaronet527@randommail.net\", \"total_non_null_rows\": 50578, \"total_rows_inc_nulls\": 50578, \"distinct_value_count\": 50572}, {\"value_count\": 1, \"group_name\": \"_email_\", \"value\": \"sirbramwell4139@gmail.com\", \"total_non_null_rows\": 50578, \"total_rows_inc_nulls\": 50578, \"distinct_value_count\": 50572}, {\"value_count\": 1, \"group_name\": \"_email_\", \"value\": \"byrombramwell2271@randommail.net\", \"total_non_null_rows\": 50578, \"total_rows_inc_nulls\": 50578, \"distinct_value_count\": 50572}, {\"value_count\": 1, \"group_name\": \"_email_\", \"value\": \"rudolfblaschka3642@hotmail.com\", \"total_non_null_rows\": 50578, \"total_rows_inc_nulls\": 50578, \"distinct_value_count\": 50572}, {\"value_count\": 1, \"group_name\": \"_email_\", \"value\": \"rudolfblaschka4185@outlook.in\", \"total_non_null_rows\": 50578, \"total_rows_inc_nulls\": 50578, \"distinct_value_count\": 50572}]}, \"encoding\": {\"tooltip\": [{\"field\": \"value\", \"type\": \"nominal\"}, {\"field\": \"value_count\", \"type\": \"quantitative\"}, {\"field\": \"total_non_null_rows\", \"type\": \"quantitative\"}, {\"field\": \"total_rows_inc_nulls\", \"type\": \"quantitative\"}], \"x\": {\"field\": \"value\", \"sort\": \"-y\", \"title\": null, \"type\": \"nominal\"}, \"y\": {\"field\": \"value_count\", \"title\": \"Value count\", \"type\": \"quantitative\"}}, \"title\": \"Top 10 values by value count\"}, {\"mark\": \"bar\", \"data\": {\"values\": [{\"value_count\": 1, \"group_name\": \"_email_\", \"value\": \"walterbryant4322@yahoo.co.uk\", \"total_non_null_rows\": 50578, \"total_rows_inc_nulls\": 50578, \"distinct_value_count\": 50572}, {\"value_count\": 1, \"group_name\": \"_email_\", \"value\": \"josephbennett1513_at_yahoo.co.uk\", \"total_non_null_rows\": 50578, \"total_rows_inc_nulls\": 50578, \"distinct_value_count\": 50572}, {\"value_count\": 1, \"group_name\": \"_email_\", \"value\": \"j.bennett7400@hotmail.com\", \"total_non_null_rows\": 50578, \"total_rows_inc_nulls\": 50578, \"distinct_value_count\": 50572}, {\"value_count\": 1, \"group_name\": \"_email_\", \"value\": \"sirbramwell4139@gmail.com\", \"total_non_null_rows\": 50578, \"total_rows_inc_nulls\": 50578, \"distinct_value_count\": 50572}, {\"value_count\": 1, \"group_name\": \"_email_\", \"value\": \"byrombramwell2271@randommail.net\", \"total_non_null_rows\": 50578, \"total_rows_inc_nulls\": 50578, \"distinct_value_count\": 50572}]}, \"encoding\": {\"tooltip\": [{\"field\": \"value\", \"type\": \"nominal\"}, {\"field\": \"value_count\", \"type\": \"quantitative\"}, {\"field\": \"total_non_null_rows\", \"type\": \"quantitative\"}, {\"field\": \"total_rows_inc_nulls\", \"type\": \"quantitative\"}], \"x\": {\"field\": \"value\", \"sort\": \"-y\", \"title\": null, \"type\": \"nominal\"}, \"y\": {\"field\": \"value_count\", \"scale\": {\"domain\": [0, 2]}, \"title\": \"Value count\", \"type\": \"quantitative\"}}, \"title\": \"Bottom 5 values by value count\"}]}, {\"hconcat\": [{\"mark\": {\"type\": \"line\", \"interpolate\": \"step-before\"}, \"data\": {\"values\": [{\"percentile_ex_nulls\": 0.9999209046363831, \"percentile_inc_nulls\": 0.9999209046363831, \"value_count\": 4, \"group_name\": \"_phone_\", \"total_non_null_rows\": 50578, \"total_rows_inc_nulls\": 50578, \"sum_tokens_in_value_count_group\": 4, \"distinct_value_count\": 49697}, {\"percentile_ex_nulls\": 0.9965400099754333, \"percentile_inc_nulls\": 0.9965400099754333, \"value_count\": 3, \"group_name\": \"_phone_\", \"total_non_null_rows\": 50578, \"total_rows_inc_nulls\": 50578, \"sum_tokens_in_value_count_group\": 171, \"distinct_value_count\": 49697}, {\"percentile_ex_nulls\": 0.9663292169570923, \"percentile_inc_nulls\": 0.9663292169570923, \"value_count\": 2, \"group_name\": \"_phone_\", \"total_non_null_rows\": 50578, \"total_rows_inc_nulls\": 50578, \"sum_tokens_in_value_count_group\": 1528, \"distinct_value_count\": 49697}, {\"percentile_ex_nulls\": 0.0, \"percentile_inc_nulls\": 0.0, \"value_count\": 1, \"group_name\": \"_phone_\", \"total_non_null_rows\": 50578, \"total_rows_inc_nulls\": 50578, \"sum_tokens_in_value_count_group\": 48875, \"distinct_value_count\": 49697}, {\"percentile_ex_nulls\": 1.0, \"percentile_inc_nulls\": 1.0, \"value_count\": 4, \"group_name\": \"_phone_\", \"total_non_null_rows\": 50578, \"total_rows_inc_nulls\": 50578, \"sum_tokens_in_value_count_group\": 4, \"distinct_value_count\": 49697}]}, \"encoding\": {\"tooltip\": [{\"field\": \"value_count\", \"type\": \"quantitative\"}, {\"field\": \"percentile_ex_nulls\", \"type\": \"quantitative\"}, {\"field\": \"percentile_inc_nulls\", \"type\": \"quantitative\"}, {\"field\": \"total_non_null_rows\", \"type\": \"quantitative\"}, {\"field\": \"total_rows_inc_nulls\", \"type\": \"quantitative\"}], \"x\": {\"field\": \"percentile_ex_nulls\", \"sort\": \"descending\", \"title\": \"Percentile\", \"type\": \"quantitative\"}, \"y\": {\"field\": \"value_count\", \"title\": \"Count of values\", \"type\": \"quantitative\"}}, \"title\": {\"text\": \"Distribution of counts of values in column \\\"phone\\\"\", \"subtitle\": \"In this col, 0 values (0.0%) are null and there are 49697 distinct values\"}}, {\"mark\": \"bar\", \"data\": {\"values\": [{\"value_count\": 4, \"group_name\": \"_phone_\", \"value\": \"00657\", \"total_non_null_rows\": 50578, \"total_rows_inc_nulls\": 50578, \"distinct_value_count\": 49697}, {\"value_count\": 3, \"group_name\": \"_phone_\", \"value\": \"07908\", \"total_non_null_rows\": 50578, \"total_rows_inc_nulls\": 50578, \"distinct_value_count\": 49697}, {\"value_count\": 3, \"group_name\": \"_phone_\", \"value\": \"02718\", \"total_non_null_rows\": 50578, \"total_rows_inc_nulls\": 50578, \"distinct_value_count\": 49697}, {\"value_count\": 3, \"group_name\": \"_phone_\", \"value\": \"04270\", \"total_non_null_rows\": 50578, \"total_rows_inc_nulls\": 50578, \"distinct_value_count\": 49697}, {\"value_count\": 3, \"group_name\": \"_phone_\", \"value\": \"01134960966\", \"total_non_null_rows\": 50578, \"total_rows_inc_nulls\": 50578, \"distinct_value_count\": 49697}, {\"value_count\": 3, \"group_name\": \"_phone_\", \"value\": \"03069990240\", \"total_non_null_rows\": 50578, \"total_rows_inc_nulls\": 50578, \"distinct_value_count\": 49697}, {\"value_count\": 3, \"group_name\": \"_phone_\", \"value\": \"08474\", \"total_non_null_rows\": 50578, \"total_rows_inc_nulls\": 50578, \"distinct_value_count\": 49697}, {\"value_count\": 3, \"group_name\": \"_phone_\", \"value\": \"09098790812\", \"total_non_null_rows\": 50578, \"total_rows_inc_nulls\": 50578, \"distinct_value_count\": 49697}, {\"value_count\": 3, \"group_name\": \"_phone_\", \"value\": \"014960595\", \"total_non_null_rows\": 50578, \"total_rows_inc_nulls\": 50578, \"distinct_value_count\": 49697}, {\"value_count\": 3, \"group_name\": \"_phone_\", \"value\": \"08829\", \"total_non_null_rows\": 50578, \"total_rows_inc_nulls\": 50578, \"distinct_value_count\": 49697}]}, \"encoding\": {\"tooltip\": [{\"field\": \"value\", \"type\": \"nominal\"}, {\"field\": \"value_count\", \"type\": \"quantitative\"}, {\"field\": \"total_non_null_rows\", \"type\": \"quantitative\"}, {\"field\": \"total_rows_inc_nulls\", \"type\": \"quantitative\"}], \"x\": {\"field\": \"value\", \"sort\": \"-y\", \"title\": null, \"type\": \"nominal\"}, \"y\": {\"field\": \"value_count\", \"title\": \"Value count\", \"type\": \"quantitative\"}}, \"title\": \"Top 10 values by value count\"}, {\"mark\": \"bar\", \"data\": {\"values\": [{\"value_count\": 1, \"group_name\": \"_phone_\", \"value\": \"1090355878\", \"total_non_null_rows\": 50578, \"total_rows_inc_nulls\": 50578, \"distinct_value_count\": 49697}, {\"value_count\": 1, \"group_name\": \"_phone_\", \"value\": \"83469360\", \"total_non_null_rows\": 50578, \"total_rows_inc_nulls\": 50578, \"distinct_value_count\": 49697}, {\"value_count\": 1, \"group_name\": \"_phone_\", \"value\": \"9918810015\", \"total_non_null_rows\": 50578, \"total_rows_inc_nulls\": 50578, \"distinct_value_count\": 49697}, {\"value_count\": 1, \"group_name\": \"_phone_\", \"value\": \"01514960070\", \"total_non_null_rows\": 50578, \"total_rows_inc_nulls\": 50578, \"distinct_value_count\": 49697}, {\"value_count\": 1, \"group_name\": \"_phone_\", \"value\": \"01545260744\", \"total_non_null_rows\": 50578, \"total_rows_inc_nulls\": 50578, \"distinct_value_count\": 49697}]}, \"encoding\": {\"tooltip\": [{\"field\": \"value\", \"type\": \"nominal\"}, {\"field\": \"value_count\", \"type\": \"quantitative\"}, {\"field\": \"total_non_null_rows\", \"type\": \"quantitative\"}, {\"field\": \"total_rows_inc_nulls\", \"type\": \"quantitative\"}], \"x\": {\"field\": \"value\", \"sort\": \"-y\", \"title\": null, \"type\": \"nominal\"}, \"y\": {\"field\": \"value_count\", \"scale\": {\"domain\": [0, 4]}, \"title\": \"Value count\", \"type\": \"quantitative\"}}, \"title\": \"Bottom 5 values by value count\"}]}, {\"hconcat\": [{\"mark\": {\"type\": \"line\", \"interpolate\": \"step-before\"}, \"data\": {\"values\": [{\"percentile_ex_nulls\": 0.9588951468467712, \"percentile_inc_nulls\": 0.9588951468467712, \"value_count\": 2079, \"group_name\": \"_address_\", \"total_non_null_rows\": 50578, \"total_rows_inc_nulls\": 50578, \"sum_tokens_in_value_count_group\": 2079, \"distinct_value_count\": 35364}, {\"percentile_ex_nulls\": 0.9455494284629822, \"percentile_inc_nulls\": 0.9455494284629822, \"value_count\": 675, \"group_name\": \"_address_\", \"total_non_null_rows\": 50578, \"total_rows_inc_nulls\": 50578, \"sum_tokens_in_value_count_group\": 675, \"distinct_value_count\": 35364}, {\"percentile_ex_nulls\": 0.9412195086479187, \"percentile_inc_nulls\": 0.9412195086479187, \"value_count\": 219, \"group_name\": \"_address_\", \"total_non_null_rows\": 50578, \"total_rows_inc_nulls\": 50578, \"sum_tokens_in_value_count_group\": 219, \"distinct_value_count\": 35364}, {\"percentile_ex_nulls\": 0.938036322593689, \"percentile_inc_nulls\": 0.938036322593689, \"value_count\": 161, \"group_name\": \"_address_\", \"total_non_null_rows\": 50578, \"total_rows_inc_nulls\": 50578, \"sum_tokens_in_value_count_group\": 161, \"distinct_value_count\": 35364}, {\"percentile_ex_nulls\": 0.9352287650108337, \"percentile_inc_nulls\": 0.9352287650108337, \"value_count\": 142, \"group_name\": \"_address_\", \"total_non_null_rows\": 50578, \"total_rows_inc_nulls\": 50578, \"sum_tokens_in_value_count_group\": 142, \"distinct_value_count\": 35364}, {\"percentile_ex_nulls\": 0.932440996170044, \"percentile_inc_nulls\": 0.932440996170044, \"value_count\": 141, \"group_name\": \"_address_\", \"total_non_null_rows\": 50578, \"total_rows_inc_nulls\": 50578, \"sum_tokens_in_value_count_group\": 141, \"distinct_value_count\": 35364}, {\"percentile_ex_nulls\": 0.9296927452087402, \"percentile_inc_nulls\": 0.9296927452087402, \"value_count\": 139, \"group_name\": \"_address_\", \"total_non_null_rows\": 50578, \"total_rows_inc_nulls\": 50578, \"sum_tokens_in_value_count_group\": 139, \"distinct_value_count\": 35364}, {\"percentile_ex_nulls\": 0.9274387955665588, \"percentile_inc_nulls\": 0.9274387955665588, \"value_count\": 114, \"group_name\": \"_address_\", \"total_non_null_rows\": 50578, \"total_rows_inc_nulls\": 50578, \"sum_tokens_in_value_count_group\": 114, \"distinct_value_count\": 35364}, {\"percentile_ex_nulls\": 0.9255209565162659, \"percentile_inc_nulls\": 0.9255209565162659, \"value_count\": 97, \"group_name\": \"_address_\", \"total_non_null_rows\": 50578, \"total_rows_inc_nulls\": 50578, \"sum_tokens_in_value_count_group\": 97, \"distinct_value_count\": 35364}, {\"percentile_ex_nulls\": 0.9237020015716553, \"percentile_inc_nulls\": 0.9237020015716553, \"value_count\": 92, \"group_name\": \"_address_\", \"total_non_null_rows\": 50578, \"total_rows_inc_nulls\": 50578, \"sum_tokens_in_value_count_group\": 92, \"distinct_value_count\": 35364}, {\"percentile_ex_nulls\": 0.9202617406845093, \"percentile_inc_nulls\": 0.9202617406845093, \"value_count\": 87, \"group_name\": \"_address_\", \"total_non_null_rows\": 50578, \"total_rows_inc_nulls\": 50578, \"sum_tokens_in_value_count_group\": 174, \"distinct_value_count\": 35364}, {\"percentile_ex_nulls\": 0.918818473815918, \"percentile_inc_nulls\": 0.918818473815918, \"value_count\": 73, \"group_name\": \"_address_\", \"total_non_null_rows\": 50578, \"total_rows_inc_nulls\": 50578, \"sum_tokens_in_value_count_group\": 73, \"distinct_value_count\": 35364}, {\"percentile_ex_nulls\": 0.9174344539642334, \"percentile_inc_nulls\": 0.9174344539642334, \"value_count\": 70, \"group_name\": \"_address_\", \"total_non_null_rows\": 50578, \"total_rows_inc_nulls\": 50578, \"sum_tokens_in_value_count_group\": 70, \"distinct_value_count\": 35364}, {\"percentile_ex_nulls\": 0.9161691069602966, \"percentile_inc_nulls\": 0.9161691069602966, \"value_count\": 64, \"group_name\": \"_address_\", \"total_non_null_rows\": 50578, \"total_rows_inc_nulls\": 50578, \"sum_tokens_in_value_count_group\": 64, \"distinct_value_count\": 35364}, {\"percentile_ex_nulls\": 0.9149234890937805, \"percentile_inc_nulls\": 0.9149234890937805, \"value_count\": 63, \"group_name\": \"_address_\", \"total_non_null_rows\": 50578, \"total_rows_inc_nulls\": 50578, \"sum_tokens_in_value_count_group\": 63, \"distinct_value_count\": 35364}, {\"percentile_ex_nulls\": 0.9137371778488159, \"percentile_inc_nulls\": 0.9137371778488159, \"value_count\": 60, \"group_name\": \"_address_\", \"total_non_null_rows\": 50578, \"total_rows_inc_nulls\": 50578, \"sum_tokens_in_value_count_group\": 60, \"distinct_value_count\": 35364}, {\"percentile_ex_nulls\": 0.9114041924476624, \"percentile_inc_nulls\": 0.9114041924476624, \"value_count\": 59, \"group_name\": \"_address_\", \"total_non_null_rows\": 50578, \"total_rows_inc_nulls\": 50578, \"sum_tokens_in_value_count_group\": 118, \"distinct_value_count\": 35364}, {\"percentile_ex_nulls\": 0.9079639315605164, \"percentile_inc_nulls\": 0.9079639315605164, \"value_count\": 58, \"group_name\": \"_address_\", \"total_non_null_rows\": 50578, \"total_rows_inc_nulls\": 50578, \"sum_tokens_in_value_count_group\": 174, \"distinct_value_count\": 35364}, {\"percentile_ex_nulls\": 0.905709981918335, \"percentile_inc_nulls\": 0.905709981918335, \"value_count\": 57, \"group_name\": \"_address_\", \"total_non_null_rows\": 50578, \"total_rows_inc_nulls\": 50578, \"sum_tokens_in_value_count_group\": 114, \"distinct_value_count\": 35364}, {\"percentile_ex_nulls\": 0.9035747051239014, \"percentile_inc_nulls\": 0.9035747051239014, \"value_count\": 54, \"group_name\": \"_address_\", \"total_non_null_rows\": 50578, \"total_rows_inc_nulls\": 50578, \"sum_tokens_in_value_count_group\": 108, \"distinct_value_count\": 35364}, {\"percentile_ex_nulls\": 0.9025267958641052, \"percentile_inc_nulls\": 0.9025267958641052, \"value_count\": 53, \"group_name\": \"_address_\", \"total_non_null_rows\": 50578, \"total_rows_inc_nulls\": 50578, \"sum_tokens_in_value_count_group\": 53, \"distinct_value_count\": 35364}, {\"percentile_ex_nulls\": 0.9014986753463745, \"percentile_inc_nulls\": 0.9014986753463745, \"value_count\": 52, \"group_name\": \"_address_\", \"total_non_null_rows\": 50578, \"total_rows_inc_nulls\": 50578, \"sum_tokens_in_value_count_group\": 52, \"distinct_value_count\": 35364}, {\"percentile_ex_nulls\": 0.9005100727081299, \"percentile_inc_nulls\": 0.9005100727081299, \"value_count\": 50, \"group_name\": \"_address_\", \"total_non_null_rows\": 50578, \"total_rows_inc_nulls\": 50578, \"sum_tokens_in_value_count_group\": 50, \"distinct_value_count\": 35364}, {\"percentile_ex_nulls\": 0.8986120223999023, \"percentile_inc_nulls\": 0.8986120223999023, \"value_count\": 48, \"group_name\": \"_address_\", \"total_non_null_rows\": 50578, \"total_rows_inc_nulls\": 50578, \"sum_tokens_in_value_count_group\": 96, \"distinct_value_count\": 35364}, {\"percentile_ex_nulls\": 0.8958242535591125, \"percentile_inc_nulls\": 0.8958242535591125, \"value_count\": 47, \"group_name\": \"_address_\", \"total_non_null_rows\": 50578, \"total_rows_inc_nulls\": 50578, \"sum_tokens_in_value_count_group\": 141, \"distinct_value_count\": 35364}, {\"percentile_ex_nulls\": 0.8949148058891296, \"percentile_inc_nulls\": 0.8949148058891296, \"value_count\": 46, \"group_name\": \"_address_\", \"total_non_null_rows\": 50578, \"total_rows_inc_nulls\": 50578, \"sum_tokens_in_value_count_group\": 46, \"distinct_value_count\": 35364}, {\"percentile_ex_nulls\": 0.8931353688240051, \"percentile_inc_nulls\": 0.8931353688240051, \"value_count\": 45, \"group_name\": \"_address_\", \"total_non_null_rows\": 50578, \"total_rows_inc_nulls\": 50578, \"sum_tokens_in_value_count_group\": 90, \"distinct_value_count\": 35364}, {\"percentile_ex_nulls\": 0.8905255198478699, \"percentile_inc_nulls\": 0.8905255198478699, \"value_count\": 44, \"group_name\": \"_address_\", \"total_non_null_rows\": 50578, \"total_rows_inc_nulls\": 50578, \"sum_tokens_in_value_count_group\": 132, \"distinct_value_count\": 35364}, {\"percentile_ex_nulls\": 0.8888251781463623, \"percentile_inc_nulls\": 0.8888251781463623, \"value_count\": 43, \"group_name\": \"_address_\", \"total_non_null_rows\": 50578, \"total_rows_inc_nulls\": 50578, \"sum_tokens_in_value_count_group\": 86, \"distinct_value_count\": 35364}, {\"percentile_ex_nulls\": 0.8871643543243408, \"percentile_inc_nulls\": 0.8871643543243408, \"value_count\": 42, \"group_name\": \"_address_\", \"total_non_null_rows\": 50578, \"total_rows_inc_nulls\": 50578, \"sum_tokens_in_value_count_group\": 84, \"distinct_value_count\": 35364}, {\"percentile_ex_nulls\": 0.882419228553772, \"percentile_inc_nulls\": 0.882419228553772, \"value_count\": 40, \"group_name\": \"_address_\", \"total_non_null_rows\": 50578, \"total_rows_inc_nulls\": 50578, \"sum_tokens_in_value_count_group\": 240, \"distinct_value_count\": 35364}, {\"percentile_ex_nulls\": 0.8801059722900391, \"percentile_inc_nulls\": 0.8801059722900391, \"value_count\": 39, \"group_name\": \"_address_\", \"total_non_null_rows\": 50578, \"total_rows_inc_nulls\": 50578, \"sum_tokens_in_value_count_group\": 117, \"distinct_value_count\": 35364}, {\"percentile_ex_nulls\": 0.8771007061004639, \"percentile_inc_nulls\": 0.8771007061004639, \"value_count\": 38, \"group_name\": \"_address_\", \"total_non_null_rows\": 50578, \"total_rows_inc_nulls\": 50578, \"sum_tokens_in_value_count_group\": 152, \"distinct_value_count\": 35364}, {\"percentile_ex_nulls\": 0.8734430074691772, \"percentile_inc_nulls\": 0.8734430074691772, \"value_count\": 37, \"group_name\": \"_address_\", \"total_non_null_rows\": 50578, \"total_rows_inc_nulls\": 50578, \"sum_tokens_in_value_count_group\": 185, \"distinct_value_count\": 35364}, {\"percentile_ex_nulls\": 0.8691723346710205, \"percentile_inc_nulls\": 0.8691723346710205, \"value_count\": 36, \"group_name\": \"_address_\", \"total_non_null_rows\": 50578, \"total_rows_inc_nulls\": 50578, \"sum_tokens_in_value_count_group\": 216, \"distinct_value_count\": 35364}, {\"percentile_ex_nulls\": 0.8664043545722961, \"percentile_inc_nulls\": 0.8664043545722961, \"value_count\": 35, \"group_name\": \"_address_\", \"total_non_null_rows\": 50578, \"total_rows_inc_nulls\": 50578, \"sum_tokens_in_value_count_group\": 140, \"distinct_value_count\": 35364}, {\"percentile_ex_nulls\": 0.8630431890487671, \"percentile_inc_nulls\": 0.8630431890487671, \"value_count\": 34, \"group_name\": \"_address_\", \"total_non_null_rows\": 50578, \"total_rows_inc_nulls\": 50578, \"sum_tokens_in_value_count_group\": 170, \"distinct_value_count\": 35364}, {\"percentile_ex_nulls\": 0.8597809076309204, \"percentile_inc_nulls\": 0.8597809076309204, \"value_count\": 33, \"group_name\": \"_address_\", \"total_non_null_rows\": 50578, \"total_rows_inc_nulls\": 50578, \"sum_tokens_in_value_count_group\": 165, \"distinct_value_count\": 35364}, {\"percentile_ex_nulls\": 0.8572502136230469, \"percentile_inc_nulls\": 0.8572502136230469, \"value_count\": 32, \"group_name\": \"_address_\", \"total_non_null_rows\": 50578, \"total_rows_inc_nulls\": 50578, \"sum_tokens_in_value_count_group\": 128, \"distinct_value_count\": 35364}, {\"percentile_ex_nulls\": 0.8535727262496948, \"percentile_inc_nulls\": 0.8535727262496948, \"value_count\": 31, \"group_name\": \"_address_\", \"total_non_null_rows\": 50578, \"total_rows_inc_nulls\": 50578, \"sum_tokens_in_value_count_group\": 186, \"distinct_value_count\": 35364}, {\"percentile_ex_nulls\": 0.8517932891845703, \"percentile_inc_nulls\": 0.8517932891845703, \"value_count\": 30, \"group_name\": \"_address_\", \"total_non_null_rows\": 50578, \"total_rows_inc_nulls\": 50578, \"sum_tokens_in_value_count_group\": 90, \"distinct_value_count\": 35364}, {\"percentile_ex_nulls\": 0.8466329574584961, \"percentile_inc_nulls\": 0.8466329574584961, \"value_count\": 29, \"group_name\": \"_address_\", \"total_non_null_rows\": 50578, \"total_rows_inc_nulls\": 50578, \"sum_tokens_in_value_count_group\": 261, \"distinct_value_count\": 35364}, {\"percentile_ex_nulls\": 0.8444185256958008, \"percentile_inc_nulls\": 0.8444185256958008, \"value_count\": 28, \"group_name\": \"_address_\", \"total_non_null_rows\": 50578, \"total_rows_inc_nulls\": 50578, \"sum_tokens_in_value_count_group\": 112, \"distinct_value_count\": 35364}, {\"percentile_ex_nulls\": 0.8428170680999756, \"percentile_inc_nulls\": 0.8428170680999756, \"value_count\": 27, \"group_name\": \"_address_\", \"total_non_null_rows\": 50578, \"total_rows_inc_nulls\": 50578, \"sum_tokens_in_value_count_group\": 81, \"distinct_value_count\": 35364}, {\"percentile_ex_nulls\": 0.8371623754501343, \"percentile_inc_nulls\": 0.8371623754501343, \"value_count\": 26, \"group_name\": \"_address_\", \"total_non_null_rows\": 50578, \"total_rows_inc_nulls\": 50578, \"sum_tokens_in_value_count_group\": 286, \"distinct_value_count\": 35364}, {\"percentile_ex_nulls\": 0.8322195410728455, \"percentile_inc_nulls\": 0.8322195410728455, \"value_count\": 25, \"group_name\": \"_address_\", \"total_non_null_rows\": 50578, \"total_rows_inc_nulls\": 50578, \"sum_tokens_in_value_count_group\": 250, \"distinct_value_count\": 35364}, {\"percentile_ex_nulls\": 0.8293724656105042, \"percentile_inc_nulls\": 0.8293724656105042, \"value_count\": 24, \"group_name\": \"_address_\", \"total_non_null_rows\": 50578, \"total_rows_inc_nulls\": 50578, \"sum_tokens_in_value_count_group\": 144, \"distinct_value_count\": 35364}, {\"percentile_ex_nulls\": 0.8266440033912659, \"percentile_inc_nulls\": 0.8266440033912659, \"value_count\": 23, \"group_name\": \"_address_\", \"total_non_null_rows\": 50578, \"total_rows_inc_nulls\": 50578, \"sum_tokens_in_value_count_group\": 138, \"distinct_value_count\": 35364}, {\"percentile_ex_nulls\": 0.8214243650436401, \"percentile_inc_nulls\": 0.8214243650436401, \"value_count\": 22, \"group_name\": \"_address_\", \"total_non_null_rows\": 50578, \"total_rows_inc_nulls\": 50578, \"sum_tokens_in_value_count_group\": 264, \"distinct_value_count\": 35364}, {\"percentile_ex_nulls\": 0.8164419531822205, \"percentile_inc_nulls\": 0.8164419531822205, \"value_count\": 21, \"group_name\": \"_address_\", \"total_non_null_rows\": 50578, \"total_rows_inc_nulls\": 50578, \"sum_tokens_in_value_count_group\": 252, \"distinct_value_count\": 35364}, {\"percentile_ex_nulls\": 0.8101150989532471, \"percentile_inc_nulls\": 0.8101150989532471, \"value_count\": 20, \"group_name\": \"_address_\", \"total_non_null_rows\": 50578, \"total_rows_inc_nulls\": 50578, \"sum_tokens_in_value_count_group\": 320, \"distinct_value_count\": 35364}, {\"percentile_ex_nulls\": 0.8029775619506836, \"percentile_inc_nulls\": 0.8029775619506836, \"value_count\": 19, \"group_name\": \"_address_\", \"total_non_null_rows\": 50578, \"total_rows_inc_nulls\": 50578, \"sum_tokens_in_value_count_group\": 361, \"distinct_value_count\": 35364}, {\"percentile_ex_nulls\": 0.8015540242195129, \"percentile_inc_nulls\": 0.8015540242195129, \"value_count\": 18, \"group_name\": \"_address_\", \"total_non_null_rows\": 50578, \"total_rows_inc_nulls\": 50578, \"sum_tokens_in_value_count_group\": 72, \"distinct_value_count\": 35364}, {\"percentile_ex_nulls\": 0.7968484163284302, \"percentile_inc_nulls\": 0.7968484163284302, \"value_count\": 17, \"group_name\": \"_address_\", \"total_non_null_rows\": 50578, \"total_rows_inc_nulls\": 50578, \"sum_tokens_in_value_count_group\": 238, \"distinct_value_count\": 35364}, {\"percentile_ex_nulls\": 0.7943177223205566, \"percentile_inc_nulls\": 0.7943177223205566, \"value_count\": 16, \"group_name\": \"_address_\", \"total_non_null_rows\": 50578, \"total_rows_inc_nulls\": 50578, \"sum_tokens_in_value_count_group\": 128, \"distinct_value_count\": 35364}, {\"percentile_ex_nulls\": 0.7898691296577454, \"percentile_inc_nulls\": 0.7898691296577454, \"value_count\": 15, \"group_name\": \"_address_\", \"total_non_null_rows\": 50578, \"total_rows_inc_nulls\": 50578, \"sum_tokens_in_value_count_group\": 225, \"distinct_value_count\": 35364}, {\"percentile_ex_nulls\": 0.7862707376480103, \"percentile_inc_nulls\": 0.7862707376480103, \"value_count\": 14, \"group_name\": \"_address_\", \"total_non_null_rows\": 50578, \"total_rows_inc_nulls\": 50578, \"sum_tokens_in_value_count_group\": 182, \"distinct_value_count\": 35364}, {\"percentile_ex_nulls\": 0.780616044998169, \"percentile_inc_nulls\": 0.780616044998169, \"value_count\": 13, \"group_name\": \"_address_\", \"total_non_null_rows\": 50578, \"total_rows_inc_nulls\": 50578, \"sum_tokens_in_value_count_group\": 286, \"distinct_value_count\": 35364}, {\"percentile_ex_nulls\": 0.7768199443817139, \"percentile_inc_nulls\": 0.7768199443817139, \"value_count\": 12, \"group_name\": \"_address_\", \"total_non_null_rows\": 50578, \"total_rows_inc_nulls\": 50578, \"sum_tokens_in_value_count_group\": 192, \"distinct_value_count\": 35364}, {\"percentile_ex_nulls\": 0.7718178033828735, \"percentile_inc_nulls\": 0.7718178033828735, \"value_count\": 11, \"group_name\": \"_address_\", \"total_non_null_rows\": 50578, \"total_rows_inc_nulls\": 50578, \"sum_tokens_in_value_count_group\": 253, \"distinct_value_count\": 35364}, {\"percentile_ex_nulls\": 0.7682589292526245, \"percentile_inc_nulls\": 0.7682589292526245, \"value_count\": 10, \"group_name\": \"_address_\", \"total_non_null_rows\": 50578, \"total_rows_inc_nulls\": 50578, \"sum_tokens_in_value_count_group\": 180, \"distinct_value_count\": 35364}, {\"percentile_ex_nulls\": 0.7625647783279419, \"percentile_inc_nulls\": 0.7625647783279419, \"value_count\": 9, \"group_name\": \"_address_\", \"total_non_null_rows\": 50578, \"total_rows_inc_nulls\": 50578, \"sum_tokens_in_value_count_group\": 288, \"distinct_value_count\": 35364}, {\"percentile_ex_nulls\": 0.7560797333717346, \"percentile_inc_nulls\": 0.7560797333717346, \"value_count\": 8, \"group_name\": \"_address_\", \"total_non_null_rows\": 50578, \"total_rows_inc_nulls\": 50578, \"sum_tokens_in_value_count_group\": 328, \"distinct_value_count\": 35364}, {\"percentile_ex_nulls\": 0.7490212917327881, \"percentile_inc_nulls\": 0.7490212917327881, \"value_count\": 7, \"group_name\": \"_address_\", \"total_non_null_rows\": 50578, \"total_rows_inc_nulls\": 50578, \"sum_tokens_in_value_count_group\": 357, \"distinct_value_count\": 35364}, {\"percentile_ex_nulls\": 0.7411918640136719, \"percentile_inc_nulls\": 0.7411918640136719, \"value_count\": 6, \"group_name\": \"_address_\", \"total_non_null_rows\": 50578, \"total_rows_inc_nulls\": 50578, \"sum_tokens_in_value_count_group\": 396, \"distinct_value_count\": 35364}, {\"percentile_ex_nulls\": 0.7285380959510803, \"percentile_inc_nulls\": 0.7285380959510803, \"value_count\": 5, \"group_name\": \"_address_\", \"total_non_null_rows\": 50578, \"total_rows_inc_nulls\": 50578, \"sum_tokens_in_value_count_group\": 640, \"distinct_value_count\": 35364}, {\"percentile_ex_nulls\": 0.7150934934616089, \"percentile_inc_nulls\": 0.7150934934616089, \"value_count\": 4, \"group_name\": \"_address_\", \"total_non_null_rows\": 50578, \"total_rows_inc_nulls\": 50578, \"sum_tokens_in_value_count_group\": 680, \"distinct_value_count\": 35364}, {\"percentile_ex_nulls\": 0.6940369606018066, \"percentile_inc_nulls\": 0.6940369606018066, \"value_count\": 3, \"group_name\": \"_address_\", \"total_non_null_rows\": 50578, \"total_rows_inc_nulls\": 50578, \"sum_tokens_in_value_count_group\": 1065, \"distinct_value_count\": 35364}, {\"percentile_ex_nulls\": 0.6577365398406982, \"percentile_inc_nulls\": 0.6577365398406982, \"value_count\": 2, \"group_name\": \"_address_\", \"total_non_null_rows\": 50578, \"total_rows_inc_nulls\": 50578, \"sum_tokens_in_value_count_group\": 1836, \"distinct_value_count\": 35364}, {\"percentile_ex_nulls\": 0.0, \"percentile_inc_nulls\": 0.0, \"value_count\": 1, \"group_name\": \"_address_\", \"total_non_null_rows\": 50578, \"total_rows_inc_nulls\": 50578, \"sum_tokens_in_value_count_group\": 33267, \"distinct_value_count\": 35364}, {\"percentile_ex_nulls\": 1.0, \"percentile_inc_nulls\": 1.0, \"value_count\": 2079, \"group_name\": \"_address_\", \"total_non_null_rows\": 50578, \"total_rows_inc_nulls\": 50578, \"sum_tokens_in_value_count_group\": 2079, \"distinct_value_count\": 35364}]}, \"encoding\": {\"tooltip\": [{\"field\": \"value_count\", \"type\": \"quantitative\"}, {\"field\": \"percentile_ex_nulls\", \"type\": \"quantitative\"}, {\"field\": \"percentile_inc_nulls\", \"type\": \"quantitative\"}, {\"field\": \"total_non_null_rows\", \"type\": \"quantitative\"}, {\"field\": \"total_rows_inc_nulls\", \"type\": \"quantitative\"}], \"x\": {\"field\": \"percentile_ex_nulls\", \"sort\": \"descending\", \"title\": \"Percentile\", \"type\": \"quantitative\"}, \"y\": {\"field\": \"value_count\", \"title\": \"Count of values\", \"type\": \"quantitative\"}}, \"title\": {\"text\": \"Distribution of counts of values in column \\\"address\\\"\", \"subtitle\": \"In this col, 0 values (0.0%) are null and there are 35364 distinct values\"}}, {\"mark\": \"bar\", \"data\": {\"values\": [{\"value_count\": 2079, \"group_name\": \"_address_\", \"value\": \"\\\\N Streeet\", \"total_non_null_rows\": 50578, \"total_rows_inc_nulls\": 50578, \"distinct_value_count\": 35364}, {\"value_count\": 675, \"group_name\": \"_address_\", \"value\": \"london Streeet\", \"total_non_null_rows\": 50578, \"total_rows_inc_nulls\": 50578, \"distinct_value_count\": 35364}, {\"value_count\": 219, \"group_name\": \"_address_\", \"value\": \"westminster Streeet\", \"total_non_null_rows\": 50578, \"total_rows_inc_nulls\": 50578, \"distinct_value_count\": 35364}, {\"value_count\": 161, \"group_name\": \"_address_\", \"value\": \"birmingham Streeet\", \"total_non_null_rows\": 50578, \"total_rows_inc_nulls\": 50578, \"distinct_value_count\": 35364}, {\"value_count\": 142, \"group_name\": \"_address_\", \"value\": \"liverpool Streeet\", \"total_non_null_rows\": 50578, \"total_rows_inc_nulls\": 50578, \"distinct_value_count\": 35364}, {\"value_count\": 141, \"group_name\": \"_address_\", \"value\": \"edinburgh Streeet\", \"total_non_null_rows\": 50578, \"total_rows_inc_nulls\": 50578, \"distinct_value_count\": 35364}, {\"value_count\": 139, \"group_name\": \"_address_\", \"value\": \"manchester Streeet\", \"total_non_null_rows\": 50578, \"total_rows_inc_nulls\": 50578, \"distinct_value_count\": 35364}, {\"value_count\": 114, \"group_name\": \"_address_\", \"value\": \"leeds Streeet\", \"total_non_null_rows\": 50578, \"total_rows_inc_nulls\": 50578, \"distinct_value_count\": 35364}, {\"value_count\": 97, \"group_name\": \"_address_\", \"value\": \"sheffield Streeet\", \"total_non_null_rows\": 50578, \"total_rows_inc_nulls\": 50578, \"distinct_value_count\": 35364}, {\"value_count\": 92, \"group_name\": \"_address_\", \"value\": \"camden Streeet\", \"total_non_null_rows\": 50578, \"total_rows_inc_nulls\": 50578, \"distinct_value_count\": 35364}]}, \"encoding\": {\"tooltip\": [{\"field\": \"value\", \"type\": \"nominal\"}, {\"field\": \"value_count\", \"type\": \"quantitative\"}, {\"field\": \"total_non_null_rows\", \"type\": \"quantitative\"}, {\"field\": \"total_rows_inc_nulls\", \"type\": \"quantitative\"}], \"x\": {\"field\": \"value\", \"sort\": \"-y\", \"title\": null, \"type\": \"nominal\"}, \"y\": {\"field\": \"value_count\", \"title\": \"Value count\", \"type\": \"quantitative\"}}, \"title\": \"Top 10 values by value count\"}, {\"mark\": \"bar\", \"data\": {\"values\": [{\"value_count\": 1, \"group_name\": \"_address_\", \"value\": \"7584 Andersen Flat\", \"total_non_null_rows\": 50578, \"total_rows_inc_nulls\": 50578, \"distinct_value_count\": 35364}, {\"value_count\": 1, \"group_name\": \"_address_\", \"value\": \"189 /\\n 590 Rogers Run\", \"total_non_null_rows\": 50578, \"total_rows_inc_nulls\": 50578, \"distinct_value_count\": 35364}, {\"value_count\": 1, \"group_name\": \"_address_\", \"value\": \"11149 sheffield\", \"total_non_null_rows\": 50578, \"total_rows_inc_nulls\": 50578, \"distinct_value_count\": 35364}, {\"value_count\": 1, \"group_name\": \"_address_\", \"value\": \"7271 east lindsey\", \"total_non_null_rows\": 50578, \"total_rows_inc_nulls\": 50578, \"distinct_value_count\": 35364}, {\"value_count\": 1, \"group_name\": \"_address_\", \"value\": \"737 north devon\", \"total_non_null_rows\": 50578, \"total_rows_inc_nulls\": 50578, \"distinct_value_count\": 35364}]}, \"encoding\": {\"tooltip\": [{\"field\": \"value\", \"type\": \"nominal\"}, {\"field\": \"value_count\", \"type\": \"quantitative\"}, {\"field\": \"total_non_null_rows\", \"type\": \"quantitative\"}, {\"field\": \"total_rows_inc_nulls\", \"type\": \"quantitative\"}], \"x\": {\"field\": \"value\", \"sort\": \"-y\", \"title\": null, \"type\": \"nominal\"}, \"y\": {\"field\": \"value_count\", \"scale\": {\"domain\": [0, 2079]}, \"title\": \"Value count\", \"type\": \"quantitative\"}}, \"title\": \"Bottom 5 values by value count\"}]}, {\"hconcat\": [{\"mark\": {\"type\": \"line\", \"interpolate\": \"step-before\"}, \"data\": {\"values\": [{\"percentile_ex_nulls\": 0.9085175395011902, \"percentile_inc_nulls\": 0.9085175395011902, \"value_count\": 4627, \"group_name\": \"_city_\", \"total_non_null_rows\": 50578, \"total_rows_inc_nulls\": 50578, \"sum_tokens_in_value_count_group\": 4627, \"distinct_value_count\": 2375}, {\"percentile_ex_nulls\": 0.8626082539558411, \"percentile_inc_nulls\": 0.8626082539558411, \"value_count\": 2322, \"group_name\": \"_city_\", \"total_non_null_rows\": 50578, \"total_rows_inc_nulls\": 50578, \"sum_tokens_in_value_count_group\": 2322, \"distinct_value_count\": 2375}, {\"percentile_ex_nulls\": 0.817133903503418, \"percentile_inc_nulls\": 0.817133903503418, \"value_count\": 2300, \"group_name\": \"_city_\", \"total_non_null_rows\": 50578, \"total_rows_inc_nulls\": 50578, \"sum_tokens_in_value_count_group\": 2300, \"distinct_value_count\": 2375}, {\"percentile_ex_nulls\": 0.8021274209022522, \"percentile_inc_nulls\": 0.8021274209022522, \"value_count\": 759, \"group_name\": \"_city_\", \"total_non_null_rows\": 50578, \"total_rows_inc_nulls\": 50578, \"sum_tokens_in_value_count_group\": 759, \"distinct_value_count\": 2375}, {\"percentile_ex_nulls\": 0.7908972501754761, \"percentile_inc_nulls\": 0.7908972501754761, \"value_count\": 568, \"group_name\": \"_city_\", \"total_non_null_rows\": 50578, \"total_rows_inc_nulls\": 50578, \"sum_tokens_in_value_count_group\": 568, \"distinct_value_count\": 2375}, {\"percentile_ex_nulls\": 0.7820396423339844, \"percentile_inc_nulls\": 0.7820396423339844, \"value_count\": 448, \"group_name\": \"_city_\", \"total_non_null_rows\": 50578, \"total_rows_inc_nulls\": 50578, \"sum_tokens_in_value_count_group\": 448, \"distinct_value_count\": 2375}, {\"percentile_ex_nulls\": 0.7733401656150818, \"percentile_inc_nulls\": 0.7733401656150818, \"value_count\": 440, \"group_name\": \"_city_\", \"total_non_null_rows\": 50578, \"total_rows_inc_nulls\": 50578, \"sum_tokens_in_value_count_group\": 440, \"distinct_value_count\": 2375}, {\"percentile_ex_nulls\": 0.7651745676994324, \"percentile_inc_nulls\": 0.7651745676994324, \"value_count\": 413, \"group_name\": \"_city_\", \"total_non_null_rows\": 50578, \"total_rows_inc_nulls\": 50578, \"sum_tokens_in_value_count_group\": 413, \"distinct_value_count\": 2375}, {\"percentile_ex_nulls\": 0.7583138942718506, \"percentile_inc_nulls\": 0.7583138942718506, \"value_count\": 347, \"group_name\": \"_city_\", \"total_non_null_rows\": 50578, \"total_rows_inc_nulls\": 50578, \"sum_tokens_in_value_count_group\": 347, \"distinct_value_count\": 2375}, {\"percentile_ex_nulls\": 0.7520067691802979, \"percentile_inc_nulls\": 0.7520067691802979, \"value_count\": 319, \"group_name\": \"_city_\", \"total_non_null_rows\": 50578, \"total_rows_inc_nulls\": 50578, \"sum_tokens_in_value_count_group\": 319, \"distinct_value_count\": 2375}, {\"percentile_ex_nulls\": 0.7457590103149414, \"percentile_inc_nulls\": 0.7457590103149414, \"value_count\": 316, \"group_name\": \"_city_\", \"total_non_null_rows\": 50578, \"total_rows_inc_nulls\": 50578, \"sum_tokens_in_value_count_group\": 316, \"distinct_value_count\": 2375}, {\"percentile_ex_nulls\": 0.7400648593902588, \"percentile_inc_nulls\": 0.7400648593902588, \"value_count\": 288, \"group_name\": \"_city_\", \"total_non_null_rows\": 50578, \"total_rows_inc_nulls\": 50578, \"sum_tokens_in_value_count_group\": 288, \"distinct_value_count\": 2375}, {\"percentile_ex_nulls\": 0.7344102263450623, \"percentile_inc_nulls\": 0.7344102263450623, \"value_count\": 286, \"group_name\": \"_city_\", \"total_non_null_rows\": 50578, \"total_rows_inc_nulls\": 50578, \"sum_tokens_in_value_count_group\": 286, \"distinct_value_count\": 2375}, {\"percentile_ex_nulls\": 0.7293487191200256, \"percentile_inc_nulls\": 0.7293487191200256, \"value_count\": 256, \"group_name\": \"_city_\", \"total_non_null_rows\": 50578, \"total_rows_inc_nulls\": 50578, \"sum_tokens_in_value_count_group\": 256, \"distinct_value_count\": 2375}, {\"percentile_ex_nulls\": 0.7244454026222229, \"percentile_inc_nulls\": 0.7244454026222229, \"value_count\": 248, \"group_name\": \"_city_\", \"total_non_null_rows\": 50578, \"total_rows_inc_nulls\": 50578, \"sum_tokens_in_value_count_group\": 248, \"distinct_value_count\": 2375}, {\"percentile_ex_nulls\": 0.7198386788368225, \"percentile_inc_nulls\": 0.7198386788368225, \"value_count\": 233, \"group_name\": \"_city_\", \"total_non_null_rows\": 50578, \"total_rows_inc_nulls\": 50578, \"sum_tokens_in_value_count_group\": 233, \"distinct_value_count\": 2375}, {\"percentile_ex_nulls\": 0.7154296636581421, \"percentile_inc_nulls\": 0.7154296636581421, \"value_count\": 223, \"group_name\": \"_city_\", \"total_non_null_rows\": 50578, \"total_rows_inc_nulls\": 50578, \"sum_tokens_in_value_count_group\": 223, \"distinct_value_count\": 2375}, {\"percentile_ex_nulls\": 0.7113369703292847, \"percentile_inc_nulls\": 0.7113369703292847, \"value_count\": 207, \"group_name\": \"_city_\", \"total_non_null_rows\": 50578, \"total_rows_inc_nulls\": 50578, \"sum_tokens_in_value_count_group\": 207, \"distinct_value_count\": 2375}, {\"percentile_ex_nulls\": 0.7073035836219788, \"percentile_inc_nulls\": 0.7073035836219788, \"value_count\": 204, \"group_name\": \"_city_\", \"total_non_null_rows\": 50578, \"total_rows_inc_nulls\": 50578, \"sum_tokens_in_value_count_group\": 204, \"distinct_value_count\": 2375}, {\"percentile_ex_nulls\": 0.7033295035362244, \"percentile_inc_nulls\": 0.7033295035362244, \"value_count\": 201, \"group_name\": \"_city_\", \"total_non_null_rows\": 50578, \"total_rows_inc_nulls\": 50578, \"sum_tokens_in_value_count_group\": 201, \"distinct_value_count\": 2375}, {\"percentile_ex_nulls\": 0.6993752121925354, \"percentile_inc_nulls\": 0.6993752121925354, \"value_count\": 200, \"group_name\": \"_city_\", \"total_non_null_rows\": 50578, \"total_rows_inc_nulls\": 50578, \"sum_tokens_in_value_count_group\": 200, \"distinct_value_count\": 2375}, {\"percentile_ex_nulls\": 0.6955791115760803, \"percentile_inc_nulls\": 0.6955791115760803, \"value_count\": 192, \"group_name\": \"_city_\", \"total_non_null_rows\": 50578, \"total_rows_inc_nulls\": 50578, \"sum_tokens_in_value_count_group\": 192, \"distinct_value_count\": 2375}, {\"percentile_ex_nulls\": 0.6919016242027283, \"percentile_inc_nulls\": 0.6919016242027283, \"value_count\": 186, \"group_name\": \"_city_\", \"total_non_null_rows\": 50578, \"total_rows_inc_nulls\": 50578, \"sum_tokens_in_value_count_group\": 186, \"distinct_value_count\": 2375}, {\"percentile_ex_nulls\": 0.6883427500724792, \"percentile_inc_nulls\": 0.6883427500724792, \"value_count\": 180, \"group_name\": \"_city_\", \"total_non_null_rows\": 50578, \"total_rows_inc_nulls\": 50578, \"sum_tokens_in_value_count_group\": 180, \"distinct_value_count\": 2375}, {\"percentile_ex_nulls\": 0.6813040971755981, \"percentile_inc_nulls\": 0.6813040971755981, \"value_count\": 178, \"group_name\": \"_city_\", \"total_non_null_rows\": 50578, \"total_rows_inc_nulls\": 50578, \"sum_tokens_in_value_count_group\": 356, \"distinct_value_count\": 2375}, {\"percentile_ex_nulls\": 0.6778045892715454, \"percentile_inc_nulls\": 0.6778045892715454, \"value_count\": 177, \"group_name\": \"_city_\", \"total_non_null_rows\": 50578, \"total_rows_inc_nulls\": 50578, \"sum_tokens_in_value_count_group\": 177, \"distinct_value_count\": 2375}, {\"percentile_ex_nulls\": 0.6744434237480164, \"percentile_inc_nulls\": 0.6744434237480164, \"value_count\": 170, \"group_name\": \"_city_\", \"total_non_null_rows\": 50578, \"total_rows_inc_nulls\": 50578, \"sum_tokens_in_value_count_group\": 170, \"distinct_value_count\": 2375}, {\"percentile_ex_nulls\": 0.6711020469665527, \"percentile_inc_nulls\": 0.6711020469665527, \"value_count\": 169, \"group_name\": \"_city_\", \"total_non_null_rows\": 50578, \"total_rows_inc_nulls\": 50578, \"sum_tokens_in_value_count_group\": 169, \"distinct_value_count\": 2375}, {\"percentile_ex_nulls\": 0.6678793430328369, \"percentile_inc_nulls\": 0.6678793430328369, \"value_count\": 163, \"group_name\": \"_city_\", \"total_non_null_rows\": 50578, \"total_rows_inc_nulls\": 50578, \"sum_tokens_in_value_count_group\": 163, \"distinct_value_count\": 2375}, {\"percentile_ex_nulls\": 0.664676308631897, \"percentile_inc_nulls\": 0.664676308631897, \"value_count\": 162, \"group_name\": \"_city_\", \"total_non_null_rows\": 50578, \"total_rows_inc_nulls\": 50578, \"sum_tokens_in_value_count_group\": 162, \"distinct_value_count\": 2375}, {\"percentile_ex_nulls\": 0.6615524291992188, \"percentile_inc_nulls\": 0.6615524291992188, \"value_count\": 158, \"group_name\": \"_city_\", \"total_non_null_rows\": 50578, \"total_rows_inc_nulls\": 50578, \"sum_tokens_in_value_count_group\": 158, \"distinct_value_count\": 2375}, {\"percentile_ex_nulls\": 0.658448338508606, \"percentile_inc_nulls\": 0.658448338508606, \"value_count\": 157, \"group_name\": \"_city_\", \"total_non_null_rows\": 50578, \"total_rows_inc_nulls\": 50578, \"sum_tokens_in_value_count_group\": 157, \"distinct_value_count\": 2375}, {\"percentile_ex_nulls\": 0.6553837656974792, \"percentile_inc_nulls\": 0.6553837656974792, \"value_count\": 155, \"group_name\": \"_city_\", \"total_non_null_rows\": 50578, \"total_rows_inc_nulls\": 50578, \"sum_tokens_in_value_count_group\": 155, \"distinct_value_count\": 2375}, {\"percentile_ex_nulls\": 0.6463680267333984, \"percentile_inc_nulls\": 0.6463680267333984, \"value_count\": 152, \"group_name\": \"_city_\", \"total_non_null_rows\": 50578, \"total_rows_inc_nulls\": 50578, \"sum_tokens_in_value_count_group\": 456, \"distinct_value_count\": 2375}, {\"percentile_ex_nulls\": 0.6434615850448608, \"percentile_inc_nulls\": 0.6434615850448608, \"value_count\": 147, \"group_name\": \"_city_\", \"total_non_null_rows\": 50578, \"total_rows_inc_nulls\": 50578, \"sum_tokens_in_value_count_group\": 147, \"distinct_value_count\": 2375}, {\"percentile_ex_nulls\": 0.640634298324585, \"percentile_inc_nulls\": 0.640634298324585, \"value_count\": 143, \"group_name\": \"_city_\", \"total_non_null_rows\": 50578, \"total_rows_inc_nulls\": 50578, \"sum_tokens_in_value_count_group\": 143, \"distinct_value_count\": 2375}, {\"percentile_ex_nulls\": 0.637826681137085, \"percentile_inc_nulls\": 0.637826681137085, \"value_count\": 142, \"group_name\": \"_city_\", \"total_non_null_rows\": 50578, \"total_rows_inc_nulls\": 50578, \"sum_tokens_in_value_count_group\": 142, \"distinct_value_count\": 2375}, {\"percentile_ex_nulls\": 0.6350389719009399, \"percentile_inc_nulls\": 0.6350389719009399, \"value_count\": 141, \"group_name\": \"_city_\", \"total_non_null_rows\": 50578, \"total_rows_inc_nulls\": 50578, \"sum_tokens_in_value_count_group\": 141, \"distinct_value_count\": 2375}, {\"percentile_ex_nulls\": 0.6322907209396362, \"percentile_inc_nulls\": 0.6322907209396362, \"value_count\": 139, \"group_name\": \"_city_\", \"total_non_null_rows\": 50578, \"total_rows_inc_nulls\": 50578, \"sum_tokens_in_value_count_group\": 139, \"distinct_value_count\": 2375}, {\"percentile_ex_nulls\": 0.629562258720398, \"percentile_inc_nulls\": 0.629562258720398, \"value_count\": 138, \"group_name\": \"_city_\", \"total_non_null_rows\": 50578, \"total_rows_inc_nulls\": 50578, \"sum_tokens_in_value_count_group\": 138, \"distinct_value_count\": 2375}, {\"percentile_ex_nulls\": 0.6268733739852905, \"percentile_inc_nulls\": 0.6268733739852905, \"value_count\": 136, \"group_name\": \"_city_\", \"total_non_null_rows\": 50578, \"total_rows_inc_nulls\": 50578, \"sum_tokens_in_value_count_group\": 136, \"distinct_value_count\": 2375}, {\"percentile_ex_nulls\": 0.6242635250091553, \"percentile_inc_nulls\": 0.6242635250091553, \"value_count\": 132, \"group_name\": \"_city_\", \"total_non_null_rows\": 50578, \"total_rows_inc_nulls\": 50578, \"sum_tokens_in_value_count_group\": 132, \"distinct_value_count\": 2375}, {\"percentile_ex_nulls\": 0.6192020177841187, \"percentile_inc_nulls\": 0.6192020177841187, \"value_count\": 128, \"group_name\": \"_city_\", \"total_non_null_rows\": 50578, \"total_rows_inc_nulls\": 50578, \"sum_tokens_in_value_count_group\": 256, \"distinct_value_count\": 2375}, {\"percentile_ex_nulls\": 0.6141800880432129, \"percentile_inc_nulls\": 0.6141800880432129, \"value_count\": 127, \"group_name\": \"_city_\", \"total_non_null_rows\": 50578, \"total_rows_inc_nulls\": 50578, \"sum_tokens_in_value_count_group\": 254, \"distinct_value_count\": 2375}, {\"percentile_ex_nulls\": 0.6116888523101807, \"percentile_inc_nulls\": 0.6116888523101807, \"value_count\": 126, \"group_name\": \"_city_\", \"total_non_null_rows\": 50578, \"total_rows_inc_nulls\": 50578, \"sum_tokens_in_value_count_group\": 126, \"distinct_value_count\": 2375}, {\"percentile_ex_nulls\": 0.604274570941925, \"percentile_inc_nulls\": 0.604274570941925, \"value_count\": 125, \"group_name\": \"_city_\", \"total_non_null_rows\": 50578, \"total_rows_inc_nulls\": 50578, \"sum_tokens_in_value_count_group\": 375, \"distinct_value_count\": 2375}, {\"percentile_ex_nulls\": 0.6018624305725098, \"percentile_inc_nulls\": 0.6018624305725098, \"value_count\": 122, \"group_name\": \"_city_\", \"total_non_null_rows\": 50578, \"total_rows_inc_nulls\": 50578, \"sum_tokens_in_value_count_group\": 122, \"distinct_value_count\": 2375}, {\"percentile_ex_nulls\": 0.5994701385498047, \"percentile_inc_nulls\": 0.5994701385498047, \"value_count\": 121, \"group_name\": \"_city_\", \"total_non_null_rows\": 50578, \"total_rows_inc_nulls\": 50578, \"sum_tokens_in_value_count_group\": 121, \"distinct_value_count\": 2375}, {\"percentile_ex_nulls\": 0.5947250127792358, \"percentile_inc_nulls\": 0.5947250127792358, \"value_count\": 120, \"group_name\": \"_city_\", \"total_non_null_rows\": 50578, \"total_rows_inc_nulls\": 50578, \"sum_tokens_in_value_count_group\": 240, \"distinct_value_count\": 2375}, {\"percentile_ex_nulls\": 0.5900193452835083, \"percentile_inc_nulls\": 0.5900193452835083, \"value_count\": 119, \"group_name\": \"_city_\", \"total_non_null_rows\": 50578, \"total_rows_inc_nulls\": 50578, \"sum_tokens_in_value_count_group\": 238, \"distinct_value_count\": 2375}, {\"percentile_ex_nulls\": 0.5876863598823547, \"percentile_inc_nulls\": 0.5876863598823547, \"value_count\": 118, \"group_name\": \"_city_\", \"total_non_null_rows\": 50578, \"total_rows_inc_nulls\": 50578, \"sum_tokens_in_value_count_group\": 118, \"distinct_value_count\": 2375}, {\"percentile_ex_nulls\": 0.585373044013977, \"percentile_inc_nulls\": 0.585373044013977, \"value_count\": 117, \"group_name\": \"_city_\", \"total_non_null_rows\": 50578, \"total_rows_inc_nulls\": 50578, \"sum_tokens_in_value_count_group\": 117, \"distinct_value_count\": 2375}, {\"percentile_ex_nulls\": 0.5830795764923096, \"percentile_inc_nulls\": 0.5830795764923096, \"value_count\": 116, \"group_name\": \"_city_\", \"total_non_null_rows\": 50578, \"total_rows_inc_nulls\": 50578, \"sum_tokens_in_value_count_group\": 116, \"distinct_value_count\": 2375}, {\"percentile_ex_nulls\": 0.5763770937919617, \"percentile_inc_nulls\": 0.5763770937919617, \"value_count\": 113, \"group_name\": \"_city_\", \"total_non_null_rows\": 50578, \"total_rows_inc_nulls\": 50578, \"sum_tokens_in_value_count_group\": 339, \"distinct_value_count\": 2375}, {\"percentile_ex_nulls\": 0.5697338581085205, \"percentile_inc_nulls\": 0.5697338581085205, \"value_count\": 112, \"group_name\": \"_city_\", \"total_non_null_rows\": 50578, \"total_rows_inc_nulls\": 50578, \"sum_tokens_in_value_count_group\": 336, \"distinct_value_count\": 2375}, {\"percentile_ex_nulls\": 0.5654237270355225, \"percentile_inc_nulls\": 0.5654237270355225, \"value_count\": 109, \"group_name\": \"_city_\", \"total_non_null_rows\": 50578, \"total_rows_inc_nulls\": 50578, \"sum_tokens_in_value_count_group\": 218, \"distinct_value_count\": 2375}, {\"percentile_ex_nulls\": 0.5611530542373657, \"percentile_inc_nulls\": 0.5611530542373657, \"value_count\": 108, \"group_name\": \"_city_\", \"total_non_null_rows\": 50578, \"total_rows_inc_nulls\": 50578, \"sum_tokens_in_value_count_group\": 216, \"distinct_value_count\": 2375}, {\"percentile_ex_nulls\": 0.5569615364074707, \"percentile_inc_nulls\": 0.5569615364074707, \"value_count\": 106, \"group_name\": \"_city_\", \"total_non_null_rows\": 50578, \"total_rows_inc_nulls\": 50578, \"sum_tokens_in_value_count_group\": 212, \"distinct_value_count\": 2375}, {\"percentile_ex_nulls\": 0.5528886318206787, \"percentile_inc_nulls\": 0.5528886318206787, \"value_count\": 103, \"group_name\": \"_city_\", \"total_non_null_rows\": 50578, \"total_rows_inc_nulls\": 50578, \"sum_tokens_in_value_count_group\": 206, \"distinct_value_count\": 2375}, {\"percentile_ex_nulls\": 0.5488552451133728, \"percentile_inc_nulls\": 0.5488552451133728, \"value_count\": 102, \"group_name\": \"_city_\", \"total_non_null_rows\": 50578, \"total_rows_inc_nulls\": 50578, \"sum_tokens_in_value_count_group\": 204, \"distinct_value_count\": 2375}, {\"percentile_ex_nulls\": 0.5468583106994629, \"percentile_inc_nulls\": 0.5468583106994629, \"value_count\": 101, \"group_name\": \"_city_\", \"total_non_null_rows\": 50578, \"total_rows_inc_nulls\": 50578, \"sum_tokens_in_value_count_group\": 101, \"distinct_value_count\": 2375}, {\"percentile_ex_nulls\": 0.5429040193557739, \"percentile_inc_nulls\": 0.5429040193557739, \"value_count\": 100, \"group_name\": \"_city_\", \"total_non_null_rows\": 50578, \"total_rows_inc_nulls\": 50578, \"sum_tokens_in_value_count_group\": 200, \"distinct_value_count\": 2375}, {\"percentile_ex_nulls\": 0.5389893054962158, \"percentile_inc_nulls\": 0.5389893054962158, \"value_count\": 99, \"group_name\": \"_city_\", \"total_non_null_rows\": 50578, \"total_rows_inc_nulls\": 50578, \"sum_tokens_in_value_count_group\": 198, \"distinct_value_count\": 2375}, {\"percentile_ex_nulls\": 0.5293012857437134, \"percentile_inc_nulls\": 0.5293012857437134, \"value_count\": 98, \"group_name\": \"_city_\", \"total_non_null_rows\": 50578, \"total_rows_inc_nulls\": 50578, \"sum_tokens_in_value_count_group\": 490, \"distinct_value_count\": 2375}, {\"percentile_ex_nulls\": 0.5235477685928345, \"percentile_inc_nulls\": 0.5235477685928345, \"value_count\": 97, \"group_name\": \"_city_\", \"total_non_null_rows\": 50578, \"total_rows_inc_nulls\": 50578, \"sum_tokens_in_value_count_group\": 291, \"distinct_value_count\": 2375}, {\"percentile_ex_nulls\": 0.5216497182846069, \"percentile_inc_nulls\": 0.5216497182846069, \"value_count\": 96, \"group_name\": \"_city_\", \"total_non_null_rows\": 50578, \"total_rows_inc_nulls\": 50578, \"sum_tokens_in_value_count_group\": 96, \"distinct_value_count\": 2375}, {\"percentile_ex_nulls\": 0.5197912454605103, \"percentile_inc_nulls\": 0.5197912454605103, \"value_count\": 94, \"group_name\": \"_city_\", \"total_non_null_rows\": 50578, \"total_rows_inc_nulls\": 50578, \"sum_tokens_in_value_count_group\": 94, \"distinct_value_count\": 2375}, {\"percentile_ex_nulls\": 0.5161137580871582, \"percentile_inc_nulls\": 0.5161137580871582, \"value_count\": 93, \"group_name\": \"_city_\", \"total_non_null_rows\": 50578, \"total_rows_inc_nulls\": 50578, \"sum_tokens_in_value_count_group\": 186, \"distinct_value_count\": 2375}, {\"percentile_ex_nulls\": 0.5124757885932922, \"percentile_inc_nulls\": 0.5124757885932922, \"value_count\": 92, \"group_name\": \"_city_\", \"total_non_null_rows\": 50578, \"total_rows_inc_nulls\": 50578, \"sum_tokens_in_value_count_group\": 184, \"distinct_value_count\": 2375}, {\"percentile_ex_nulls\": 0.5107160806655884, \"percentile_inc_nulls\": 0.5107160806655884, \"value_count\": 89, \"group_name\": \"_city_\", \"total_non_null_rows\": 50578, \"total_rows_inc_nulls\": 50578, \"sum_tokens_in_value_count_group\": 89, \"distinct_value_count\": 2375}, {\"percentile_ex_nulls\": 0.5054965019226074, \"percentile_inc_nulls\": 0.5054965019226074, \"value_count\": 88, \"group_name\": \"_city_\", \"total_non_null_rows\": 50578, \"total_rows_inc_nulls\": 50578, \"sum_tokens_in_value_count_group\": 264, \"distinct_value_count\": 2375}, {\"percentile_ex_nulls\": 0.4987741708755493, \"percentile_inc_nulls\": 0.4987741708755493, \"value_count\": 85, \"group_name\": \"_city_\", \"total_non_null_rows\": 50578, \"total_rows_inc_nulls\": 50578, \"sum_tokens_in_value_count_group\": 340, \"distinct_value_count\": 2375}, {\"percentile_ex_nulls\": 0.4954921007156372, \"percentile_inc_nulls\": 0.4954921007156372, \"value_count\": 83, \"group_name\": \"_city_\", \"total_non_null_rows\": 50578, \"total_rows_inc_nulls\": 50578, \"sum_tokens_in_value_count_group\": 166, \"distinct_value_count\": 2375}, {\"percentile_ex_nulls\": 0.4857645630836487, \"percentile_inc_nulls\": 0.4857645630836487, \"value_count\": 82, \"group_name\": \"_city_\", \"total_non_null_rows\": 50578, \"total_rows_inc_nulls\": 50578, \"sum_tokens_in_value_count_group\": 492, \"distinct_value_count\": 2375}, {\"percentile_ex_nulls\": 0.4809601306915283, \"percentile_inc_nulls\": 0.4809601306915283, \"value_count\": 81, \"group_name\": \"_city_\", \"total_non_null_rows\": 50578, \"total_rows_inc_nulls\": 50578, \"sum_tokens_in_value_count_group\": 243, \"distinct_value_count\": 2375}, {\"percentile_ex_nulls\": 0.4715884327888489, \"percentile_inc_nulls\": 0.4715884327888489, \"value_count\": 79, \"group_name\": \"_city_\", \"total_non_null_rows\": 50578, \"total_rows_inc_nulls\": 50578, \"sum_tokens_in_value_count_group\": 474, \"distinct_value_count\": 2375}, {\"percentile_ex_nulls\": 0.4654197692871094, \"percentile_inc_nulls\": 0.4654197692871094, \"value_count\": 78, \"group_name\": \"_city_\", \"total_non_null_rows\": 50578, \"total_rows_inc_nulls\": 50578, \"sum_tokens_in_value_count_group\": 312, \"distinct_value_count\": 2375}, {\"percentile_ex_nulls\": 0.457807719707489, \"percentile_inc_nulls\": 0.457807719707489, \"value_count\": 77, \"group_name\": \"_city_\", \"total_non_null_rows\": 50578, \"total_rows_inc_nulls\": 50578, \"sum_tokens_in_value_count_group\": 385, \"distinct_value_count\": 2375}, {\"percentile_ex_nulls\": 0.4517972469329834, \"percentile_inc_nulls\": 0.4517972469329834, \"value_count\": 76, \"group_name\": \"_city_\", \"total_non_null_rows\": 50578, \"total_rows_inc_nulls\": 50578, \"sum_tokens_in_value_count_group\": 304, \"distinct_value_count\": 2375}, {\"percentile_ex_nulls\": 0.4444817900657654, \"percentile_inc_nulls\": 0.4444817900657654, \"value_count\": 74, \"group_name\": \"_city_\", \"total_non_null_rows\": 50578, \"total_rows_inc_nulls\": 50578, \"sum_tokens_in_value_count_group\": 370, \"distinct_value_count\": 2375}, {\"percentile_ex_nulls\": 0.4387085437774658, \"percentile_inc_nulls\": 0.4387085437774658, \"value_count\": 73, \"group_name\": \"_city_\", \"total_non_null_rows\": 50578, \"total_rows_inc_nulls\": 50578, \"sum_tokens_in_value_count_group\": 292, \"distinct_value_count\": 2375}, {\"percentile_ex_nulls\": 0.4315907955169678, \"percentile_inc_nulls\": 0.4315907955169678, \"value_count\": 72, \"group_name\": \"_city_\", \"total_non_null_rows\": 50578, \"total_rows_inc_nulls\": 50578, \"sum_tokens_in_value_count_group\": 360, \"distinct_value_count\": 2375}, {\"percentile_ex_nulls\": 0.4245719313621521, \"percentile_inc_nulls\": 0.4245719313621521, \"value_count\": 71, \"group_name\": \"_city_\", \"total_non_null_rows\": 50578, \"total_rows_inc_nulls\": 50578, \"sum_tokens_in_value_count_group\": 355, \"distinct_value_count\": 2375}, {\"percentile_ex_nulls\": 0.42041993141174316, \"percentile_inc_nulls\": 0.42041993141174316, \"value_count\": 70, \"group_name\": \"_city_\", \"total_non_null_rows\": 50578, \"total_rows_inc_nulls\": 50578, \"sum_tokens_in_value_count_group\": 210, \"distinct_value_count\": 2375}, {\"percentile_ex_nulls\": 0.41359877586364746, \"percentile_inc_nulls\": 0.41359877586364746, \"value_count\": 69, \"group_name\": \"_city_\", \"total_non_null_rows\": 50578, \"total_rows_inc_nulls\": 50578, \"sum_tokens_in_value_count_group\": 345, \"distinct_value_count\": 2375}, {\"percentile_ex_nulls\": 0.41090989112854004, \"percentile_inc_nulls\": 0.41090989112854004, \"value_count\": 68, \"group_name\": \"_city_\", \"total_non_null_rows\": 50578, \"total_rows_inc_nulls\": 50578, \"sum_tokens_in_value_count_group\": 136, \"distinct_value_count\": 2375}, {\"percentile_ex_nulls\": 0.40693581104278564, \"percentile_inc_nulls\": 0.40693581104278564, \"value_count\": 67, \"group_name\": \"_city_\", \"total_non_null_rows\": 50578, \"total_rows_inc_nulls\": 50578, \"sum_tokens_in_value_count_group\": 201, \"distinct_value_count\": 2375}, {\"percentile_ex_nulls\": 0.4043259620666504, \"percentile_inc_nulls\": 0.4043259620666504, \"value_count\": 66, \"group_name\": \"_city_\", \"total_non_null_rows\": 50578, \"total_rows_inc_nulls\": 50578, \"sum_tokens_in_value_count_group\": 132, \"distinct_value_count\": 2375}, {\"percentile_ex_nulls\": 0.3991854190826416, \"percentile_inc_nulls\": 0.3991854190826416, \"value_count\": 65, \"group_name\": \"_city_\", \"total_non_null_rows\": 50578, \"total_rows_inc_nulls\": 50578, \"sum_tokens_in_value_count_group\": 260, \"distinct_value_count\": 2375}, {\"percentile_ex_nulls\": 0.394123911857605, \"percentile_inc_nulls\": 0.394123911857605, \"value_count\": 64, \"group_name\": \"_city_\", \"total_non_null_rows\": 50578, \"total_rows_inc_nulls\": 50578, \"sum_tokens_in_value_count_group\": 256, \"distinct_value_count\": 2375}, {\"percentile_ex_nulls\": 0.39163273572921753, \"percentile_inc_nulls\": 0.39163273572921753, \"value_count\": 63, \"group_name\": \"_city_\", \"total_non_null_rows\": 50578, \"total_rows_inc_nulls\": 50578, \"sum_tokens_in_value_count_group\": 126, \"distinct_value_count\": 2375}, {\"percentile_ex_nulls\": 0.3855035901069641, \"percentile_inc_nulls\": 0.3855035901069641, \"value_count\": 62, \"group_name\": \"_city_\", \"total_non_null_rows\": 50578, \"total_rows_inc_nulls\": 50578, \"sum_tokens_in_value_count_group\": 310, \"distinct_value_count\": 2375}, {\"percentile_ex_nulls\": 0.38309144973754883, \"percentile_inc_nulls\": 0.38309144973754883, \"value_count\": 61, \"group_name\": \"_city_\", \"total_non_null_rows\": 50578, \"total_rows_inc_nulls\": 50578, \"sum_tokens_in_value_count_group\": 122, \"distinct_value_count\": 2375}, {\"percentile_ex_nulls\": 0.3795325756072998, \"percentile_inc_nulls\": 0.3795325756072998, \"value_count\": 60, \"group_name\": \"_city_\", \"total_non_null_rows\": 50578, \"total_rows_inc_nulls\": 50578, \"sum_tokens_in_value_count_group\": 180, \"distinct_value_count\": 2375}, {\"percentile_ex_nulls\": 0.3748665452003479, \"percentile_inc_nulls\": 0.3748665452003479, \"value_count\": 59, \"group_name\": \"_city_\", \"total_non_null_rows\": 50578, \"total_rows_inc_nulls\": 50578, \"sum_tokens_in_value_count_group\": 236, \"distinct_value_count\": 2375}, {\"percentile_ex_nulls\": 0.3725730776786804, \"percentile_inc_nulls\": 0.3725730776786804, \"value_count\": 58, \"group_name\": \"_city_\", \"total_non_null_rows\": 50578, \"total_rows_inc_nulls\": 50578, \"sum_tokens_in_value_count_group\": 116, \"distinct_value_count\": 2375}, {\"percentile_ex_nulls\": 0.37144607305526733, \"percentile_inc_nulls\": 0.37144607305526733, \"value_count\": 57, \"group_name\": \"_city_\", \"total_non_null_rows\": 50578, \"total_rows_inc_nulls\": 50578, \"sum_tokens_in_value_count_group\": 57, \"distinct_value_count\": 2375}, {\"percentile_ex_nulls\": 0.36480289697647095, \"percentile_inc_nulls\": 0.36480289697647095, \"value_count\": 56, \"group_name\": \"_city_\", \"total_non_null_rows\": 50578, \"total_rows_inc_nulls\": 50578, \"sum_tokens_in_value_count_group\": 336, \"distinct_value_count\": 2375}, {\"percentile_ex_nulls\": 0.36045318841934204, \"percentile_inc_nulls\": 0.36045318841934204, \"value_count\": 55, \"group_name\": \"_city_\", \"total_non_null_rows\": 50578, \"total_rows_inc_nulls\": 50578, \"sum_tokens_in_value_count_group\": 220, \"distinct_value_count\": 2375}, {\"percentile_ex_nulls\": 0.35831785202026367, \"percentile_inc_nulls\": 0.35831785202026367, \"value_count\": 54, \"group_name\": \"_city_\", \"total_non_null_rows\": 50578, \"total_rows_inc_nulls\": 50578, \"sum_tokens_in_value_count_group\": 108, \"distinct_value_count\": 2375}, {\"percentile_ex_nulls\": 0.35517418384552, \"percentile_inc_nulls\": 0.35517418384552, \"value_count\": 53, \"group_name\": \"_city_\", \"total_non_null_rows\": 50578, \"total_rows_inc_nulls\": 50578, \"sum_tokens_in_value_count_group\": 159, \"distinct_value_count\": 2375}, {\"percentile_ex_nulls\": 0.35106170177459717, \"percentile_inc_nulls\": 0.35106170177459717, \"value_count\": 52, \"group_name\": \"_city_\", \"total_non_null_rows\": 50578, \"total_rows_inc_nulls\": 50578, \"sum_tokens_in_value_count_group\": 208, \"distinct_value_count\": 2375}, {\"percentile_ex_nulls\": 0.346019983291626, \"percentile_inc_nulls\": 0.346019983291626, \"value_count\": 51, \"group_name\": \"_city_\", \"total_non_null_rows\": 50578, \"total_rows_inc_nulls\": 50578, \"sum_tokens_in_value_count_group\": 255, \"distinct_value_count\": 2375}, {\"percentile_ex_nulls\": 0.34107714891433716, \"percentile_inc_nulls\": 0.34107714891433716, \"value_count\": 50, \"group_name\": \"_city_\", \"total_non_null_rows\": 50578, \"total_rows_inc_nulls\": 50578, \"sum_tokens_in_value_count_group\": 250, \"distinct_value_count\": 2375}, {\"percentile_ex_nulls\": 0.3342955708503723, \"percentile_inc_nulls\": 0.3342955708503723, \"value_count\": 49, \"group_name\": \"_city_\", \"total_non_null_rows\": 50578, \"total_rows_inc_nulls\": 50578, \"sum_tokens_in_value_count_group\": 343, \"distinct_value_count\": 2375}, {\"percentile_ex_nulls\": 0.33049941062927246, \"percentile_inc_nulls\": 0.33049941062927246, \"value_count\": 48, \"group_name\": \"_city_\", \"total_non_null_rows\": 50578, \"total_rows_inc_nulls\": 50578, \"sum_tokens_in_value_count_group\": 192, \"distinct_value_count\": 2375}, {\"percentile_ex_nulls\": 0.32771164178848267, \"percentile_inc_nulls\": 0.32771164178848267, \"value_count\": 47, \"group_name\": \"_city_\", \"total_non_null_rows\": 50578, \"total_rows_inc_nulls\": 50578, \"sum_tokens_in_value_count_group\": 141, \"distinct_value_count\": 2375}, {\"percentile_ex_nulls\": 0.32589268684387207, \"percentile_inc_nulls\": 0.32589268684387207, \"value_count\": 46, \"group_name\": \"_city_\", \"total_non_null_rows\": 50578, \"total_rows_inc_nulls\": 50578, \"sum_tokens_in_value_count_group\": 92, \"distinct_value_count\": 2375}, {\"percentile_ex_nulls\": 0.32233381271362305, \"percentile_inc_nulls\": 0.32233381271362305, \"value_count\": 45, \"group_name\": \"_city_\", \"total_non_null_rows\": 50578, \"total_rows_inc_nulls\": 50578, \"sum_tokens_in_value_count_group\": 180, \"distinct_value_count\": 2375}, {\"percentile_ex_nulls\": 0.3162442445755005, \"percentile_inc_nulls\": 0.3162442445755005, \"value_count\": 44, \"group_name\": \"_city_\", \"total_non_null_rows\": 50578, \"total_rows_inc_nulls\": 50578, \"sum_tokens_in_value_count_group\": 308, \"distinct_value_count\": 2375}, {\"percentile_ex_nulls\": 0.30944281816482544, \"percentile_inc_nulls\": 0.30944281816482544, \"value_count\": 43, \"group_name\": \"_city_\", \"total_non_null_rows\": 50578, \"total_rows_inc_nulls\": 50578, \"sum_tokens_in_value_count_group\": 344, \"distinct_value_count\": 2375}, {\"percentile_ex_nulls\": 0.3086124658584595, \"percentile_inc_nulls\": 0.3086124658584595, \"value_count\": 42, \"group_name\": \"_city_\", \"total_non_null_rows\": 50578, \"total_rows_inc_nulls\": 50578, \"sum_tokens_in_value_count_group\": 42, \"distinct_value_count\": 2375}, {\"percentile_ex_nulls\": 0.30455929040908813, \"percentile_inc_nulls\": 0.30455929040908813, \"value_count\": 41, \"group_name\": \"_city_\", \"total_non_null_rows\": 50578, \"total_rows_inc_nulls\": 50578, \"sum_tokens_in_value_count_group\": 205, \"distinct_value_count\": 2375}, {\"percentile_ex_nulls\": 0.30060499906539917, \"percentile_inc_nulls\": 0.30060499906539917, \"value_count\": 40, \"group_name\": \"_city_\", \"total_non_null_rows\": 50578, \"total_rows_inc_nulls\": 50578, \"sum_tokens_in_value_count_group\": 200, \"distinct_value_count\": 2375}, {\"percentile_ex_nulls\": 0.29597848653793335, \"percentile_inc_nulls\": 0.29597848653793335, \"value_count\": 39, \"group_name\": \"_city_\", \"total_non_null_rows\": 50578, \"total_rows_inc_nulls\": 50578, \"sum_tokens_in_value_count_group\": 234, \"distinct_value_count\": 2375}, {\"percentile_ex_nulls\": 0.28771400451660156, \"percentile_inc_nulls\": 0.28771400451660156, \"value_count\": 38, \"group_name\": \"_city_\", \"total_non_null_rows\": 50578, \"total_rows_inc_nulls\": 50578, \"sum_tokens_in_value_count_group\": 418, \"distinct_value_count\": 2375}, {\"percentile_ex_nulls\": 0.2825932502746582, \"percentile_inc_nulls\": 0.2825932502746582, \"value_count\": 37, \"group_name\": \"_city_\", \"total_non_null_rows\": 50578, \"total_rows_inc_nulls\": 50578, \"sum_tokens_in_value_count_group\": 259, \"distinct_value_count\": 2375}, {\"percentile_ex_nulls\": 0.2797461152076721, \"percentile_inc_nulls\": 0.2797461152076721, \"value_count\": 36, \"group_name\": \"_city_\", \"total_non_null_rows\": 50578, \"total_rows_inc_nulls\": 50578, \"sum_tokens_in_value_count_group\": 144, \"distinct_value_count\": 2375}, {\"percentile_ex_nulls\": 0.27905410528182983, \"percentile_inc_nulls\": 0.27905410528182983, \"value_count\": 35, \"group_name\": \"_city_\", \"total_non_null_rows\": 50578, \"total_rows_inc_nulls\": 50578, \"sum_tokens_in_value_count_group\": 35, \"distinct_value_count\": 2375}, {\"percentile_ex_nulls\": 0.2763652205467224, \"percentile_inc_nulls\": 0.2763652205467224, \"value_count\": 34, \"group_name\": \"_city_\", \"total_non_null_rows\": 50578, \"total_rows_inc_nulls\": 50578, \"sum_tokens_in_value_count_group\": 136, \"distinct_value_count\": 2375}, {\"percentile_ex_nulls\": 0.27375537157058716, \"percentile_inc_nulls\": 0.27375537157058716, \"value_count\": 33, \"group_name\": \"_city_\", \"total_non_null_rows\": 50578, \"total_rows_inc_nulls\": 50578, \"sum_tokens_in_value_count_group\": 132, \"distinct_value_count\": 2375}, {\"percentile_ex_nulls\": 0.2718573212623596, \"percentile_inc_nulls\": 0.2718573212623596, \"value_count\": 32, \"group_name\": \"_city_\", \"total_non_null_rows\": 50578, \"total_rows_inc_nulls\": 50578, \"sum_tokens_in_value_count_group\": 96, \"distinct_value_count\": 2375}, {\"percentile_ex_nulls\": 0.2645023465156555, \"percentile_inc_nulls\": 0.2645023465156555, \"value_count\": 31, \"group_name\": \"_city_\", \"total_non_null_rows\": 50578, \"total_rows_inc_nulls\": 50578, \"sum_tokens_in_value_count_group\": 372, \"distinct_value_count\": 2375}, {\"percentile_ex_nulls\": 0.2615366578102112, \"percentile_inc_nulls\": 0.2615366578102112, \"value_count\": 30, \"group_name\": \"_city_\", \"total_non_null_rows\": 50578, \"total_rows_inc_nulls\": 50578, \"sum_tokens_in_value_count_group\": 150, \"distinct_value_count\": 2375}, {\"percentile_ex_nulls\": 0.25522953271865845, \"percentile_inc_nulls\": 0.25522953271865845, \"value_count\": 29, \"group_name\": \"_city_\", \"total_non_null_rows\": 50578, \"total_rows_inc_nulls\": 50578, \"sum_tokens_in_value_count_group\": 319, \"distinct_value_count\": 2375}, {\"percentile_ex_nulls\": 0.24858635663986206, \"percentile_inc_nulls\": 0.24858635663986206, \"value_count\": 28, \"group_name\": \"_city_\", \"total_non_null_rows\": 50578, \"total_rows_inc_nulls\": 50578, \"sum_tokens_in_value_count_group\": 336, \"distinct_value_count\": 2375}, {\"percentile_ex_nulls\": 0.2448495626449585, \"percentile_inc_nulls\": 0.2448495626449585, \"value_count\": 27, \"group_name\": \"_city_\", \"total_non_null_rows\": 50578, \"total_rows_inc_nulls\": 50578, \"sum_tokens_in_value_count_group\": 189, \"distinct_value_count\": 2375}, {\"percentile_ex_nulls\": 0.24022305011749268, \"percentile_inc_nulls\": 0.24022305011749268, \"value_count\": 26, \"group_name\": \"_city_\", \"total_non_null_rows\": 50578, \"total_rows_inc_nulls\": 50578, \"sum_tokens_in_value_count_group\": 234, \"distinct_value_count\": 2375}, {\"percentile_ex_nulls\": 0.2362687587738037, \"percentile_inc_nulls\": 0.2362687587738037, \"value_count\": 25, \"group_name\": \"_city_\", \"total_non_null_rows\": 50578, \"total_rows_inc_nulls\": 50578, \"sum_tokens_in_value_count_group\": 200, \"distinct_value_count\": 2375}, {\"percentile_ex_nulls\": 0.2315235733985901, \"percentile_inc_nulls\": 0.2315235733985901, \"value_count\": 24, \"group_name\": \"_city_\", \"total_non_null_rows\": 50578, \"total_rows_inc_nulls\": 50578, \"sum_tokens_in_value_count_group\": 240, \"distinct_value_count\": 2375}, {\"percentile_ex_nulls\": 0.2287951111793518, \"percentile_inc_nulls\": 0.2287951111793518, \"value_count\": 23, \"group_name\": \"_city_\", \"total_non_null_rows\": 50578, \"total_rows_inc_nulls\": 50578, \"sum_tokens_in_value_count_group\": 138, \"distinct_value_count\": 2375}, {\"percentile_ex_nulls\": 0.22140061855316162, \"percentile_inc_nulls\": 0.22140061855316162, \"value_count\": 22, \"group_name\": \"_city_\", \"total_non_null_rows\": 50578, \"total_rows_inc_nulls\": 50578, \"sum_tokens_in_value_count_group\": 374, \"distinct_value_count\": 2375}, {\"percentile_ex_nulls\": 0.21724861860275269, \"percentile_inc_nulls\": 0.21724861860275269, \"value_count\": 21, \"group_name\": \"_city_\", \"total_non_null_rows\": 50578, \"total_rows_inc_nulls\": 50578, \"sum_tokens_in_value_count_group\": 210, \"distinct_value_count\": 2375}, {\"percentile_ex_nulls\": 0.21171259880065918, \"percentile_inc_nulls\": 0.21171259880065918, \"value_count\": 20, \"group_name\": \"_city_\", \"total_non_null_rows\": 50578, \"total_rows_inc_nulls\": 50578, \"sum_tokens_in_value_count_group\": 280, \"distinct_value_count\": 2375}, {\"percentile_ex_nulls\": 0.20795601606369019, \"percentile_inc_nulls\": 0.20795601606369019, \"value_count\": 19, \"group_name\": \"_city_\", \"total_non_null_rows\": 50578, \"total_rows_inc_nulls\": 50578, \"sum_tokens_in_value_count_group\": 190, \"distinct_value_count\": 2375}, {\"percentile_ex_nulls\": 0.20048242807388306, \"percentile_inc_nulls\": 0.20048242807388306, \"value_count\": 18, \"group_name\": \"_city_\", \"total_non_null_rows\": 50578, \"total_rows_inc_nulls\": 50578, \"sum_tokens_in_value_count_group\": 378, \"distinct_value_count\": 2375}, {\"percentile_ex_nulls\": 0.1930878758430481, \"percentile_inc_nulls\": 0.1930878758430481, \"value_count\": 17, \"group_name\": \"_city_\", \"total_non_null_rows\": 50578, \"total_rows_inc_nulls\": 50578, \"sum_tokens_in_value_count_group\": 374, \"distinct_value_count\": 2375}, {\"percentile_ex_nulls\": 0.1842302680015564, \"percentile_inc_nulls\": 0.1842302680015564, \"value_count\": 16, \"group_name\": \"_city_\", \"total_non_null_rows\": 50578, \"total_rows_inc_nulls\": 50578, \"sum_tokens_in_value_count_group\": 448, \"distinct_value_count\": 2375}, {\"percentile_ex_nulls\": 0.17622286081314087, \"percentile_inc_nulls\": 0.17622286081314087, \"value_count\": 15, \"group_name\": \"_city_\", \"total_non_null_rows\": 50578, \"total_rows_inc_nulls\": 50578, \"sum_tokens_in_value_count_group\": 405, \"distinct_value_count\": 2375}, {\"percentile_ex_nulls\": 0.16044527292251587, \"percentile_inc_nulls\": 0.16044527292251587, \"value_count\": 14, \"group_name\": \"_city_\", \"total_non_null_rows\": 50578, \"total_rows_inc_nulls\": 50578, \"sum_tokens_in_value_count_group\": 798, \"distinct_value_count\": 2375}, {\"percentile_ex_nulls\": 0.14965003728866577, \"percentile_inc_nulls\": 0.14965003728866577, \"value_count\": 13, \"group_name\": \"_city_\", \"total_non_null_rows\": 50578, \"total_rows_inc_nulls\": 50578, \"sum_tokens_in_value_count_group\": 546, \"distinct_value_count\": 2375}, {\"percentile_ex_nulls\": 0.13494008779525757, \"percentile_inc_nulls\": 0.13494008779525757, \"value_count\": 12, \"group_name\": \"_city_\", \"total_non_null_rows\": 50578, \"total_rows_inc_nulls\": 50578, \"sum_tokens_in_value_count_group\": 744, \"distinct_value_count\": 2375}, {\"percentile_ex_nulls\": 0.1231958270072937, \"percentile_inc_nulls\": 0.1231958270072937, \"value_count\": 11, \"group_name\": \"_city_\", \"total_non_null_rows\": 50578, \"total_rows_inc_nulls\": 50578, \"sum_tokens_in_value_count_group\": 594, \"distinct_value_count\": 2375}, {\"percentile_ex_nulls\": 0.10994899272918701, \"percentile_inc_nulls\": 0.10994899272918701, \"value_count\": 10, \"group_name\": \"_city_\", \"total_non_null_rows\": 50578, \"total_rows_inc_nulls\": 50578, \"sum_tokens_in_value_count_group\": 670, \"distinct_value_count\": 2375}, {\"percentile_ex_nulls\": 0.09873861074447632, \"percentile_inc_nulls\": 0.09873861074447632, \"value_count\": 9, \"group_name\": \"_city_\", \"total_non_null_rows\": 50578, \"total_rows_inc_nulls\": 50578, \"sum_tokens_in_value_count_group\": 567, \"distinct_value_count\": 2375}, {\"percentile_ex_nulls\": 0.08497768640518188, \"percentile_inc_nulls\": 0.08497768640518188, \"value_count\": 8, \"group_name\": \"_city_\", \"total_non_null_rows\": 50578, \"total_rows_inc_nulls\": 50578, \"sum_tokens_in_value_count_group\": 696, \"distinct_value_count\": 2375}, {\"percentile_ex_nulls\": 0.07362884283065796, \"percentile_inc_nulls\": 0.07362884283065796, \"value_count\": 7, \"group_name\": \"_city_\", \"total_non_null_rows\": 50578, \"total_rows_inc_nulls\": 50578, \"sum_tokens_in_value_count_group\": 574, \"distinct_value_count\": 2375}, {\"percentile_ex_nulls\": 0.06152874231338501, \"percentile_inc_nulls\": 0.06152874231338501, \"value_count\": 6, \"group_name\": \"_city_\", \"total_non_null_rows\": 50578, \"total_rows_inc_nulls\": 50578, \"sum_tokens_in_value_count_group\": 612, \"distinct_value_count\": 2375}, {\"percentile_ex_nulls\": 0.048281848430633545, \"percentile_inc_nulls\": 0.048281848430633545, \"value_count\": 5, \"group_name\": \"_city_\", \"total_non_null_rows\": 50578, \"total_rows_inc_nulls\": 50578, \"sum_tokens_in_value_count_group\": 670, \"distinct_value_count\": 2375}, {\"percentile_ex_nulls\": 0.03333467245101929, \"percentile_inc_nulls\": 0.03333467245101929, \"value_count\": 4, \"group_name\": \"_city_\", \"total_non_null_rows\": 50578, \"total_rows_inc_nulls\": 50578, \"sum_tokens_in_value_count_group\": 756, \"distinct_value_count\": 2375}, {\"percentile_ex_nulls\": 0.01874333620071411, \"percentile_inc_nulls\": 0.01874333620071411, \"value_count\": 3, \"group_name\": \"_city_\", \"total_non_null_rows\": 50578, \"total_rows_inc_nulls\": 50578, \"sum_tokens_in_value_count_group\": 738, \"distinct_value_count\": 2375}, {\"percentile_ex_nulls\": 0.00695955753326416, \"percentile_inc_nulls\": 0.00695955753326416, \"value_count\": 2, \"group_name\": \"_city_\", \"total_non_null_rows\": 50578, \"total_rows_inc_nulls\": 50578, \"sum_tokens_in_value_count_group\": 596, \"distinct_value_count\": 2375}, {\"percentile_ex_nulls\": 0.0, \"percentile_inc_nulls\": 0.0, \"value_count\": 1, \"group_name\": \"_city_\", \"total_non_null_rows\": 50578, \"total_rows_inc_nulls\": 50578, \"sum_tokens_in_value_count_group\": 352, \"distinct_value_count\": 2375}, {\"percentile_ex_nulls\": 1.0, \"percentile_inc_nulls\": 1.0, \"value_count\": 4627, \"group_name\": \"_city_\", \"total_non_null_rows\": 50578, \"total_rows_inc_nulls\": 50578, \"sum_tokens_in_value_count_group\": 4627, \"distinct_value_count\": 2375}]}, \"encoding\": {\"tooltip\": [{\"field\": \"value_count\", \"type\": \"quantitative\"}, {\"field\": \"percentile_ex_nulls\", \"type\": \"quantitative\"}, {\"field\": \"percentile_inc_nulls\", \"type\": \"quantitative\"}, {\"field\": \"total_non_null_rows\", \"type\": \"quantitative\"}, {\"field\": \"total_rows_inc_nulls\", \"type\": \"quantitative\"}], \"x\": {\"field\": \"percentile_ex_nulls\", \"sort\": \"descending\", \"title\": \"Percentile\", \"type\": \"quantitative\"}, \"y\": {\"field\": \"value_count\", \"title\": \"Count of values\", \"type\": \"quantitative\"}}, \"title\": {\"text\": \"Distribution of counts of values in column \\\"city\\\"\", \"subtitle\": \"In this col, 0 values (0.0%) are null and there are 2375 distinct values\"}}, {\"mark\": \"bar\", \"data\": {\"values\": [{\"value_count\": 4627, \"group_name\": \"_city_\", \"value\": \"none\", \"total_non_null_rows\": 50578, \"total_rows_inc_nulls\": 50578, \"distinct_value_count\": 2375}, {\"value_count\": 2322, \"group_name\": \"_city_\", \"value\": \"london\", \"total_non_null_rows\": 50578, \"total_rows_inc_nulls\": 50578, \"distinct_value_count\": 2375}, {\"value_count\": 2300, \"group_name\": \"_city_\", \"value\": \"\\\\n\", \"total_non_null_rows\": 50578, \"total_rows_inc_nulls\": 50578, \"distinct_value_count\": 2375}, {\"value_count\": 759, \"group_name\": \"_city_\", \"value\": \"westminster\", \"total_non_null_rows\": 50578, \"total_rows_inc_nulls\": 50578, \"distinct_value_count\": 2375}, {\"value_count\": 568, \"group_name\": \"_city_\", \"value\": \"birmingham\", \"total_non_null_rows\": 50578, \"total_rows_inc_nulls\": 50578, \"distinct_value_count\": 2375}, {\"value_count\": 448, \"group_name\": \"_city_\", \"value\": \"manchester\", \"total_non_null_rows\": 50578, \"total_rows_inc_nulls\": 50578, \"distinct_value_count\": 2375}, {\"value_count\": 440, \"group_name\": \"_city_\", \"value\": \"liverpool\", \"total_non_null_rows\": 50578, \"total_rows_inc_nulls\": 50578, \"distinct_value_count\": 2375}, {\"value_count\": 413, \"group_name\": \"_city_\", \"value\": \"edinburgh\", \"total_non_null_rows\": 50578, \"total_rows_inc_nulls\": 50578, \"distinct_value_count\": 2375}, {\"value_count\": 347, \"group_name\": \"_city_\", \"value\": \"leeds\", \"total_non_null_rows\": 50578, \"total_rows_inc_nulls\": 50578, \"distinct_value_count\": 2375}, {\"value_count\": 319, \"group_name\": \"_city_\", \"value\": \"camden\", \"total_non_null_rows\": 50578, \"total_rows_inc_nulls\": 50578, \"distinct_value_count\": 2375}]}, \"encoding\": {\"tooltip\": [{\"field\": \"value\", \"type\": \"nominal\"}, {\"field\": \"value_count\", \"type\": \"quantitative\"}, {\"field\": \"total_non_null_rows\", \"type\": \"quantitative\"}, {\"field\": \"total_rows_inc_nulls\", \"type\": \"quantitative\"}], \"x\": {\"field\": \"value\", \"sort\": \"-y\", \"title\": null, \"type\": \"nominal\"}, \"y\": {\"field\": \"value_count\", \"title\": \"Value count\", \"type\": \"quantitative\"}}, \"title\": \"Top 10 values by value count\"}, {\"mark\": \"bar\", \"data\": {\"values\": [{\"value_count\": 1, \"group_name\": \"_city_\", \"value\": \"gorseinon\", \"total_non_null_rows\": 50578, \"total_rows_inc_nulls\": 50578, \"distinct_value_count\": 2375}, {\"value_count\": 1, \"group_name\": \"_city_\", \"value\": \"weston underwood\", \"total_non_null_rows\": 50578, \"total_rows_inc_nulls\": 50578, \"distinct_value_count\": 2375}, {\"value_count\": 1, \"group_name\": \"_city_\", \"value\": \"rushden\", \"total_non_null_rows\": 50578, \"total_rows_inc_nulls\": 50578, \"distinct_value_count\": 2375}, {\"value_count\": 1, \"group_name\": \"_city_\", \"value\": \"nettleden with potten end\", \"total_non_null_rows\": 50578, \"total_rows_inc_nulls\": 50578, \"distinct_value_count\": 2375}, {\"value_count\": 1, \"group_name\": \"_city_\", \"value\": \"barton seagrave\", \"total_non_null_rows\": 50578, \"total_rows_inc_nulls\": 50578, \"distinct_value_count\": 2375}]}, \"encoding\": {\"tooltip\": [{\"field\": \"value\", \"type\": \"nominal\"}, {\"field\": \"value_count\", \"type\": \"quantitative\"}, {\"field\": \"total_non_null_rows\", \"type\": \"quantitative\"}, {\"field\": \"total_rows_inc_nulls\", \"type\": \"quantitative\"}], \"x\": {\"field\": \"value\", \"sort\": \"-y\", \"title\": null, \"type\": \"nominal\"}, \"y\": {\"field\": \"value_count\", \"scale\": {\"domain\": [0, 4627]}, \"title\": \"Value count\", \"type\": \"quantitative\"}}, \"title\": \"Bottom 5 values by value count\"}]}, {\"hconcat\": [{\"mark\": {\"type\": \"line\", \"interpolate\": \"step-before\"}, \"data\": {\"values\": [{\"percentile_ex_nulls\": 0.0, \"percentile_inc_nulls\": 0.0, \"value_count\": 20, \"group_name\": \"_country_\", \"total_non_null_rows\": 50578, \"total_rows_inc_nulls\": 50578, \"sum_tokens_in_value_count_group\": 20, \"distinct_value_count\": 269}, {\"percentile_ex_nulls\": 0.9935940504074097, \"percentile_inc_nulls\": 0.9935940504074097, \"value_count\": 324, \"group_name\": \"_country_\", \"total_non_null_rows\": 50578, \"total_rows_inc_nulls\": 50578, \"sum_tokens_in_value_count_group\": 324, \"distinct_value_count\": 269}, {\"percentile_ex_nulls\": 0.9876626133918762, \"percentile_inc_nulls\": 0.9876626133918762, \"value_count\": 300, \"group_name\": \"_country_\", \"total_non_null_rows\": 50578, \"total_rows_inc_nulls\": 50578, \"sum_tokens_in_value_count_group\": 300, \"distinct_value_count\": 269}, {\"percentile_ex_nulls\": 0.9822056889533997, \"percentile_inc_nulls\": 0.9822056889533997, \"value_count\": 276, \"group_name\": \"_country_\", \"total_non_null_rows\": 50578, \"total_rows_inc_nulls\": 50578, \"sum_tokens_in_value_count_group\": 276, \"distinct_value_count\": 269}, {\"percentile_ex_nulls\": 0.9771442413330078, \"percentile_inc_nulls\": 0.9771442413330078, \"value_count\": 256, \"group_name\": \"_country_\", \"total_non_null_rows\": 50578, \"total_rows_inc_nulls\": 50578, \"sum_tokens_in_value_count_group\": 256, \"distinct_value_count\": 269}, {\"percentile_ex_nulls\": 0.9671398401260376, \"percentile_inc_nulls\": 0.9671398401260376, \"value_count\": 253, \"group_name\": \"_country_\", \"total_non_null_rows\": 50578, \"total_rows_inc_nulls\": 50578, \"sum_tokens_in_value_count_group\": 506, \"distinct_value_count\": 269}, {\"percentile_ex_nulls\": 0.9621772170066833, \"percentile_inc_nulls\": 0.9621772170066833, \"value_count\": 251, \"group_name\": \"_country_\", \"total_non_null_rows\": 50578, \"total_rows_inc_nulls\": 50578, \"sum_tokens_in_value_count_group\": 251, \"distinct_value_count\": 269}, {\"percentile_ex_nulls\": 0.95725417137146, \"percentile_inc_nulls\": 0.95725417137146, \"value_count\": 249, \"group_name\": \"_country_\", \"total_non_null_rows\": 50578, \"total_rows_inc_nulls\": 50578, \"sum_tokens_in_value_count_group\": 249, \"distinct_value_count\": 269}, {\"percentile_ex_nulls\": 0.9523508548736572, \"percentile_inc_nulls\": 0.9523508548736572, \"value_count\": 248, \"group_name\": \"_country_\", \"total_non_null_rows\": 50578, \"total_rows_inc_nulls\": 50578, \"sum_tokens_in_value_count_group\": 248, \"distinct_value_count\": 269}, {\"percentile_ex_nulls\": 0.9474870562553406, \"percentile_inc_nulls\": 0.9474870562553406, \"value_count\": 246, \"group_name\": \"_country_\", \"total_non_null_rows\": 50578, \"total_rows_inc_nulls\": 50578, \"sum_tokens_in_value_count_group\": 246, \"distinct_value_count\": 269}, {\"percentile_ex_nulls\": 0.9426628351211548, \"percentile_inc_nulls\": 0.9426628351211548, \"value_count\": 244, \"group_name\": \"_country_\", \"total_non_null_rows\": 50578, \"total_rows_inc_nulls\": 50578, \"sum_tokens_in_value_count_group\": 244, \"distinct_value_count\": 269}, {\"percentile_ex_nulls\": 0.9378781318664551, \"percentile_inc_nulls\": 0.9378781318664551, \"value_count\": 242, \"group_name\": \"_country_\", \"total_non_null_rows\": 50578, \"total_rows_inc_nulls\": 50578, \"sum_tokens_in_value_count_group\": 242, \"distinct_value_count\": 269}, {\"percentile_ex_nulls\": 0.9283483028411865, \"percentile_inc_nulls\": 0.9283483028411865, \"value_count\": 241, \"group_name\": \"_country_\", \"total_non_null_rows\": 50578, \"total_rows_inc_nulls\": 50578, \"sum_tokens_in_value_count_group\": 482, \"distinct_value_count\": 269}, {\"percentile_ex_nulls\": 0.9236031770706177, \"percentile_inc_nulls\": 0.9236031770706177, \"value_count\": 240, \"group_name\": \"_country_\", \"total_non_null_rows\": 50578, \"total_rows_inc_nulls\": 50578, \"sum_tokens_in_value_count_group\": 240, \"distinct_value_count\": 269}, {\"percentile_ex_nulls\": 0.9189172983169556, \"percentile_inc_nulls\": 0.9189172983169556, \"value_count\": 237, \"group_name\": \"_country_\", \"total_non_null_rows\": 50578, \"total_rows_inc_nulls\": 50578, \"sum_tokens_in_value_count_group\": 237, \"distinct_value_count\": 269}, {\"percentile_ex_nulls\": 0.9142512679100037, \"percentile_inc_nulls\": 0.9142512679100037, \"value_count\": 236, \"group_name\": \"_country_\", \"total_non_null_rows\": 50578, \"total_rows_inc_nulls\": 50578, \"sum_tokens_in_value_count_group\": 236, \"distinct_value_count\": 269}, {\"percentile_ex_nulls\": 0.9003123641014099, \"percentile_inc_nulls\": 0.9003123641014099, \"value_count\": 235, \"group_name\": \"_country_\", \"total_non_null_rows\": 50578, \"total_rows_inc_nulls\": 50578, \"sum_tokens_in_value_count_group\": 705, \"distinct_value_count\": 269}, {\"percentile_ex_nulls\": 0.872553288936615, \"percentile_inc_nulls\": 0.872553288936615, \"value_count\": 234, \"group_name\": \"_country_\", \"total_non_null_rows\": 50578, \"total_rows_inc_nulls\": 50578, \"sum_tokens_in_value_count_group\": 1404, \"distinct_value_count\": 269}, {\"percentile_ex_nulls\": 0.8633397817611694, \"percentile_inc_nulls\": 0.8633397817611694, \"value_count\": 233, \"group_name\": \"_country_\", \"total_non_null_rows\": 50578, \"total_rows_inc_nulls\": 50578, \"sum_tokens_in_value_count_group\": 466, \"distinct_value_count\": 269}, {\"percentile_ex_nulls\": 0.8541658520698547, \"percentile_inc_nulls\": 0.8541658520698547, \"value_count\": 232, \"group_name\": \"_country_\", \"total_non_null_rows\": 50578, \"total_rows_inc_nulls\": 50578, \"sum_tokens_in_value_count_group\": 464, \"distinct_value_count\": 269}, {\"percentile_ex_nulls\": 0.8495986461639404, \"percentile_inc_nulls\": 0.8495986461639404, \"value_count\": 231, \"group_name\": \"_country_\", \"total_non_null_rows\": 50578, \"total_rows_inc_nulls\": 50578, \"sum_tokens_in_value_count_group\": 231, \"distinct_value_count\": 269}, {\"percentile_ex_nulls\": 0.8450512290000916, \"percentile_inc_nulls\": 0.8450512290000916, \"value_count\": 230, \"group_name\": \"_country_\", \"total_non_null_rows\": 50578, \"total_rows_inc_nulls\": 50578, \"sum_tokens_in_value_count_group\": 230, \"distinct_value_count\": 269}, {\"percentile_ex_nulls\": 0.8269405364990234, \"percentile_inc_nulls\": 0.8269405364990234, \"value_count\": 229, \"group_name\": \"_country_\", \"total_non_null_rows\": 50578, \"total_rows_inc_nulls\": 50578, \"sum_tokens_in_value_count_group\": 916, \"distinct_value_count\": 269}, {\"percentile_ex_nulls\": 0.808908998966217, \"percentile_inc_nulls\": 0.808908998966217, \"value_count\": 228, \"group_name\": \"_country_\", \"total_non_null_rows\": 50578, \"total_rows_inc_nulls\": 50578, \"sum_tokens_in_value_count_group\": 912, \"distinct_value_count\": 269}, {\"percentile_ex_nulls\": 0.8044208884239197, \"percentile_inc_nulls\": 0.8044208884239197, \"value_count\": 227, \"group_name\": \"_country_\", \"total_non_null_rows\": 50578, \"total_rows_inc_nulls\": 50578, \"sum_tokens_in_value_count_group\": 227, \"distinct_value_count\": 269}, {\"percentile_ex_nulls\": 0.7910158634185791, \"percentile_inc_nulls\": 0.7910158634185791, \"value_count\": 226, \"group_name\": \"_country_\", \"total_non_null_rows\": 50578, \"total_rows_inc_nulls\": 50578, \"sum_tokens_in_value_count_group\": 678, \"distinct_value_count\": 269}, {\"percentile_ex_nulls\": 0.7865672707557678, \"percentile_inc_nulls\": 0.7865672707557678, \"value_count\": 225, \"group_name\": \"_country_\", \"total_non_null_rows\": 50578, \"total_rows_inc_nulls\": 50578, \"sum_tokens_in_value_count_group\": 225, \"distinct_value_count\": 269}, {\"percentile_ex_nulls\": 0.7732808589935303, \"percentile_inc_nulls\": 0.7732808589935303, \"value_count\": 224, \"group_name\": \"_country_\", \"total_non_null_rows\": 50578, \"total_rows_inc_nulls\": 50578, \"sum_tokens_in_value_count_group\": 672, \"distinct_value_count\": 269}, {\"percentile_ex_nulls\": 0.7380086183547974, \"percentile_inc_nulls\": 0.7380086183547974, \"value_count\": 223, \"group_name\": \"_country_\", \"total_non_null_rows\": 50578, \"total_rows_inc_nulls\": 50578, \"sum_tokens_in_value_count_group\": 1784, \"distinct_value_count\": 269}, {\"percentile_ex_nulls\": 0.7160623073577881, \"percentile_inc_nulls\": 0.7160623073577881, \"value_count\": 222, \"group_name\": \"_country_\", \"total_non_null_rows\": 50578, \"total_rows_inc_nulls\": 50578, \"sum_tokens_in_value_count_group\": 1110, \"distinct_value_count\": 269}, {\"percentile_ex_nulls\": 0.7029538154602051, \"percentile_inc_nulls\": 0.7029538154602051, \"value_count\": 221, \"group_name\": \"_country_\", \"total_non_null_rows\": 50578, \"total_rows_inc_nulls\": 50578, \"sum_tokens_in_value_count_group\": 663, \"distinct_value_count\": 269}, {\"percentile_ex_nulls\": 0.6899046897888184, \"percentile_inc_nulls\": 0.6899046897888184, \"value_count\": 220, \"group_name\": \"_country_\", \"total_non_null_rows\": 50578, \"total_rows_inc_nulls\": 50578, \"sum_tokens_in_value_count_group\": 660, \"distinct_value_count\": 269}, {\"percentile_ex_nulls\": 0.6725848913192749, \"percentile_inc_nulls\": 0.6725848913192749, \"value_count\": 219, \"group_name\": \"_country_\", \"total_non_null_rows\": 50578, \"total_rows_inc_nulls\": 50578, \"sum_tokens_in_value_count_group\": 876, \"distinct_value_count\": 269}, {\"percentile_ex_nulls\": 0.6337933540344238, \"percentile_inc_nulls\": 0.6337933540344238, \"value_count\": 218, \"group_name\": \"_country_\", \"total_non_null_rows\": 50578, \"total_rows_inc_nulls\": 50578, \"sum_tokens_in_value_count_group\": 1962, \"distinct_value_count\": 269}, {\"percentile_ex_nulls\": 0.6209221482276917, \"percentile_inc_nulls\": 0.6209221482276917, \"value_count\": 217, \"group_name\": \"_country_\", \"total_non_null_rows\": 50578, \"total_rows_inc_nulls\": 50578, \"sum_tokens_in_value_count_group\": 651, \"distinct_value_count\": 269}, {\"percentile_ex_nulls\": 0.5995689630508423, \"percentile_inc_nulls\": 0.5995689630508423, \"value_count\": 216, \"group_name\": \"_country_\", \"total_non_null_rows\": 50578, \"total_rows_inc_nulls\": 50578, \"sum_tokens_in_value_count_group\": 1080, \"distinct_value_count\": 269}, {\"percentile_ex_nulls\": 0.5698129534721375, \"percentile_inc_nulls\": 0.5698129534721375, \"value_count\": 215, \"group_name\": \"_country_\", \"total_non_null_rows\": 50578, \"total_rows_inc_nulls\": 50578, \"sum_tokens_in_value_count_group\": 1505, \"distinct_value_count\": 269}, {\"percentile_ex_nulls\": 0.5317331552505493, \"percentile_inc_nulls\": 0.5317331552505493, \"value_count\": 214, \"group_name\": \"_country_\", \"total_non_null_rows\": 50578, \"total_rows_inc_nulls\": 50578, \"sum_tokens_in_value_count_group\": 1926, \"distinct_value_count\": 269}, {\"percentile_ex_nulls\": 0.5148879289627075, \"percentile_inc_nulls\": 0.5148879289627075, \"value_count\": 213, \"group_name\": \"_country_\", \"total_non_null_rows\": 50578, \"total_rows_inc_nulls\": 50578, \"sum_tokens_in_value_count_group\": 852, \"distinct_value_count\": 269}, {\"percentile_ex_nulls\": 0.4897386431694031, \"percentile_inc_nulls\": 0.4897386431694031, \"value_count\": 212, \"group_name\": \"_country_\", \"total_non_null_rows\": 50578, \"total_rows_inc_nulls\": 50578, \"sum_tokens_in_value_count_group\": 1272, \"distinct_value_count\": 269}, {\"percentile_ex_nulls\": 0.4730515480041504, \"percentile_inc_nulls\": 0.4730515480041504, \"value_count\": 211, \"group_name\": \"_country_\", \"total_non_null_rows\": 50578, \"total_rows_inc_nulls\": 50578, \"sum_tokens_in_value_count_group\": 844, \"distinct_value_count\": 269}, {\"percentile_ex_nulls\": 0.45229148864746094, \"percentile_inc_nulls\": 0.45229148864746094, \"value_count\": 210, \"group_name\": \"_country_\", \"total_non_null_rows\": 50578, \"total_rows_inc_nulls\": 50578, \"sum_tokens_in_value_count_group\": 1050, \"distinct_value_count\": 269}, {\"percentile_ex_nulls\": 0.43576258420944214, \"percentile_inc_nulls\": 0.43576258420944214, \"value_count\": 209, \"group_name\": \"_country_\", \"total_non_null_rows\": 50578, \"total_rows_inc_nulls\": 50578, \"sum_tokens_in_value_count_group\": 836, \"distinct_value_count\": 269}, {\"percentile_ex_nulls\": 0.4316501021385193, \"percentile_inc_nulls\": 0.4316501021385193, \"value_count\": 208, \"group_name\": \"_country_\", \"total_non_null_rows\": 50578, \"total_rows_inc_nulls\": 50578, \"sum_tokens_in_value_count_group\": 208, \"distinct_value_count\": 269}, {\"percentile_ex_nulls\": 0.42755740880966187, \"percentile_inc_nulls\": 0.42755740880966187, \"value_count\": 207, \"group_name\": \"_country_\", \"total_non_null_rows\": 50578, \"total_rows_inc_nulls\": 50578, \"sum_tokens_in_value_count_group\": 207, \"distinct_value_count\": 269}, {\"percentile_ex_nulls\": 0.4153386950492859, \"percentile_inc_nulls\": 0.4153386950492859, \"value_count\": 206, \"group_name\": \"_country_\", \"total_non_null_rows\": 50578, \"total_rows_inc_nulls\": 50578, \"sum_tokens_in_value_count_group\": 618, \"distinct_value_count\": 269}, {\"percentile_ex_nulls\": 0.3991261124610901, \"percentile_inc_nulls\": 0.3991261124610901, \"value_count\": 205, \"group_name\": \"_country_\", \"total_non_null_rows\": 50578, \"total_rows_inc_nulls\": 50578, \"sum_tokens_in_value_count_group\": 820, \"distinct_value_count\": 269}, {\"percentile_ex_nulls\": 0.38299262523651123, \"percentile_inc_nulls\": 0.38299262523651123, \"value_count\": 204, \"group_name\": \"_country_\", \"total_non_null_rows\": 50578, \"total_rows_inc_nulls\": 50578, \"sum_tokens_in_value_count_group\": 816, \"distinct_value_count\": 269}, {\"percentile_ex_nulls\": 0.37897902727127075, \"percentile_inc_nulls\": 0.37897902727127075, \"value_count\": 203, \"group_name\": \"_country_\", \"total_non_null_rows\": 50578, \"total_rows_inc_nulls\": 50578, \"sum_tokens_in_value_count_group\": 203, \"distinct_value_count\": 269}, {\"percentile_ex_nulls\": 0.363003671169281, \"percentile_inc_nulls\": 0.363003671169281, \"value_count\": 202, \"group_name\": \"_country_\", \"total_non_null_rows\": 50578, \"total_rows_inc_nulls\": 50578, \"sum_tokens_in_value_count_group\": 808, \"distinct_value_count\": 269}, {\"percentile_ex_nulls\": 0.3510814905166626, \"percentile_inc_nulls\": 0.3510814905166626, \"value_count\": 201, \"group_name\": \"_country_\", \"total_non_null_rows\": 50578, \"total_rows_inc_nulls\": 50578, \"sum_tokens_in_value_count_group\": 603, \"distinct_value_count\": 269}, {\"percentile_ex_nulls\": 0.3274744153022766, \"percentile_inc_nulls\": 0.3274744153022766, \"value_count\": 199, \"group_name\": \"_country_\", \"total_non_null_rows\": 50578, \"total_rows_inc_nulls\": 50578, \"sum_tokens_in_value_count_group\": 1194, \"distinct_value_count\": 269}, {\"percentile_ex_nulls\": 0.32355964183807373, \"percentile_inc_nulls\": 0.32355964183807373, \"value_count\": 198, \"group_name\": \"_country_\", \"total_non_null_rows\": 50578, \"total_rows_inc_nulls\": 50578, \"sum_tokens_in_value_count_group\": 198, \"distinct_value_count\": 269}, {\"percentile_ex_nulls\": 0.3157697319984436, \"percentile_inc_nulls\": 0.3157697319984436, \"value_count\": 197, \"group_name\": \"_country_\", \"total_non_null_rows\": 50578, \"total_rows_inc_nulls\": 50578, \"sum_tokens_in_value_count_group\": 394, \"distinct_value_count\": 269}, {\"percentile_ex_nulls\": 0.31191426515579224, \"percentile_inc_nulls\": 0.31191426515579224, \"value_count\": 195, \"group_name\": \"_country_\", \"total_non_null_rows\": 50578, \"total_rows_inc_nulls\": 50578, \"sum_tokens_in_value_count_group\": 195, \"distinct_value_count\": 269}, {\"percentile_ex_nulls\": 0.30424296855926514, \"percentile_inc_nulls\": 0.30424296855926514, \"value_count\": 194, \"group_name\": \"_country_\", \"total_non_null_rows\": 50578, \"total_rows_inc_nulls\": 50578, \"sum_tokens_in_value_count_group\": 388, \"distinct_value_count\": 269}, {\"percentile_ex_nulls\": 0.30042707920074463, \"percentile_inc_nulls\": 0.30042707920074463, \"value_count\": 193, \"group_name\": \"_country_\", \"total_non_null_rows\": 50578, \"total_rows_inc_nulls\": 50578, \"sum_tokens_in_value_count_group\": 193, \"distinct_value_count\": 269}, {\"percentile_ex_nulls\": 0.2966309189796448, \"percentile_inc_nulls\": 0.2966309189796448, \"value_count\": 192, \"group_name\": \"_country_\", \"total_non_null_rows\": 50578, \"total_rows_inc_nulls\": 50578, \"sum_tokens_in_value_count_group\": 192, \"distinct_value_count\": 269}, {\"percentile_ex_nulls\": 0.2928546071052551, \"percentile_inc_nulls\": 0.2928546071052551, \"value_count\": 191, \"group_name\": \"_country_\", \"total_non_null_rows\": 50578, \"total_rows_inc_nulls\": 50578, \"sum_tokens_in_value_count_group\": 191, \"distinct_value_count\": 269}, {\"percentile_ex_nulls\": 0.28534144163131714, \"percentile_inc_nulls\": 0.28534144163131714, \"value_count\": 190, \"group_name\": \"_country_\", \"total_non_null_rows\": 50578, \"total_rows_inc_nulls\": 50578, \"sum_tokens_in_value_count_group\": 380, \"distinct_value_count\": 269}, {\"percentile_ex_nulls\": 0.27413105964660645, \"percentile_inc_nulls\": 0.27413105964660645, \"value_count\": 189, \"group_name\": \"_country_\", \"total_non_null_rows\": 50578, \"total_rows_inc_nulls\": 50578, \"sum_tokens_in_value_count_group\": 567, \"distinct_value_count\": 269}, {\"percentile_ex_nulls\": 0.27043378353118896, \"percentile_inc_nulls\": 0.27043378353118896, \"value_count\": 187, \"group_name\": \"_country_\", \"total_non_null_rows\": 50578, \"total_rows_inc_nulls\": 50578, \"sum_tokens_in_value_count_group\": 187, \"distinct_value_count\": 269}, {\"percentile_ex_nulls\": 0.25572383403778076, \"percentile_inc_nulls\": 0.25572383403778076, \"value_count\": 186, \"group_name\": \"_country_\", \"total_non_null_rows\": 50578, \"total_rows_inc_nulls\": 50578, \"sum_tokens_in_value_count_group\": 744, \"distinct_value_count\": 269}, {\"percentile_ex_nulls\": 0.24475067853927612, \"percentile_inc_nulls\": 0.24475067853927612, \"value_count\": 185, \"group_name\": \"_country_\", \"total_non_null_rows\": 50578, \"total_rows_inc_nulls\": 50578, \"sum_tokens_in_value_count_group\": 555, \"distinct_value_count\": 269}, {\"percentile_ex_nulls\": 0.24111270904541016, \"percentile_inc_nulls\": 0.24111270904541016, \"value_count\": 184, \"group_name\": \"_country_\", \"total_non_null_rows\": 50578, \"total_rows_inc_nulls\": 50578, \"sum_tokens_in_value_count_group\": 184, \"distinct_value_count\": 269}, {\"percentile_ex_nulls\": 0.2374945878982544, \"percentile_inc_nulls\": 0.2374945878982544, \"value_count\": 183, \"group_name\": \"_country_\", \"total_non_null_rows\": 50578, \"total_rows_inc_nulls\": 50578, \"sum_tokens_in_value_count_group\": 183, \"distinct_value_count\": 269}, {\"percentile_ex_nulls\": 0.2302977442741394, \"percentile_inc_nulls\": 0.2302977442741394, \"value_count\": 182, \"group_name\": \"_country_\", \"total_non_null_rows\": 50578, \"total_rows_inc_nulls\": 50578, \"sum_tokens_in_value_count_group\": 364, \"distinct_value_count\": 269}, {\"percentile_ex_nulls\": 0.21598321199417114, \"percentile_inc_nulls\": 0.21598321199417114, \"value_count\": 181, \"group_name\": \"_country_\", \"total_non_null_rows\": 50578, \"total_rows_inc_nulls\": 50578, \"sum_tokens_in_value_count_group\": 724, \"distinct_value_count\": 269}, {\"percentile_ex_nulls\": 0.2124837040901184, \"percentile_inc_nulls\": 0.2124837040901184, \"value_count\": 177, \"group_name\": \"_country_\", \"total_non_null_rows\": 50578, \"total_rows_inc_nulls\": 50578, \"sum_tokens_in_value_count_group\": 177, \"distinct_value_count\": 269}, {\"percentile_ex_nulls\": 0.20552414655685425, \"percentile_inc_nulls\": 0.20552414655685425, \"value_count\": 176, \"group_name\": \"_country_\", \"total_non_null_rows\": 50578, \"total_rows_inc_nulls\": 50578, \"sum_tokens_in_value_count_group\": 352, \"distinct_value_count\": 269}, {\"percentile_ex_nulls\": 0.2020641565322876, \"percentile_inc_nulls\": 0.2020641565322876, \"value_count\": 175, \"group_name\": \"_country_\", \"total_non_null_rows\": 50578, \"total_rows_inc_nulls\": 50578, \"sum_tokens_in_value_count_group\": 175, \"distinct_value_count\": 269}, {\"percentile_ex_nulls\": 0.1986238956451416, \"percentile_inc_nulls\": 0.1986238956451416, \"value_count\": 174, \"group_name\": \"_country_\", \"total_non_null_rows\": 50578, \"total_rows_inc_nulls\": 50578, \"sum_tokens_in_value_count_group\": 174, \"distinct_value_count\": 269}, {\"percentile_ex_nulls\": 0.19178301095962524, \"percentile_inc_nulls\": 0.19178301095962524, \"value_count\": 173, \"group_name\": \"_country_\", \"total_non_null_rows\": 50578, \"total_rows_inc_nulls\": 50578, \"sum_tokens_in_value_count_group\": 346, \"distinct_value_count\": 269}, {\"percentile_ex_nulls\": 0.1883823275566101, \"percentile_inc_nulls\": 0.1883823275566101, \"value_count\": 172, \"group_name\": \"_country_\", \"total_non_null_rows\": 50578, \"total_rows_inc_nulls\": 50578, \"sum_tokens_in_value_count_group\": 172, \"distinct_value_count\": 269}, {\"percentile_ex_nulls\": 0.18162047863006592, \"percentile_inc_nulls\": 0.18162047863006592, \"value_count\": 171, \"group_name\": \"_country_\", \"total_non_null_rows\": 50578, \"total_rows_inc_nulls\": 50578, \"sum_tokens_in_value_count_group\": 342, \"distinct_value_count\": 269}, {\"percentile_ex_nulls\": 0.16145360469818115, \"percentile_inc_nulls\": 0.16145360469818115, \"value_count\": 170, \"group_name\": \"_country_\", \"total_non_null_rows\": 50578, \"total_rows_inc_nulls\": 50578, \"sum_tokens_in_value_count_group\": 1020, \"distinct_value_count\": 269}, {\"percentile_ex_nulls\": 0.14474672079086304, \"percentile_inc_nulls\": 0.14474672079086304, \"value_count\": 169, \"group_name\": \"_country_\", \"total_non_null_rows\": 50578, \"total_rows_inc_nulls\": 50578, \"sum_tokens_in_value_count_group\": 845, \"distinct_value_count\": 269}, {\"percentile_ex_nulls\": 0.14142513275146484, \"percentile_inc_nulls\": 0.14142513275146484, \"value_count\": 168, \"group_name\": \"_country_\", \"total_non_null_rows\": 50578, \"total_rows_inc_nulls\": 50578, \"sum_tokens_in_value_count_group\": 168, \"distinct_value_count\": 269}, {\"percentile_ex_nulls\": 0.13157892227172852, \"percentile_inc_nulls\": 0.13157892227172852, \"value_count\": 166, \"group_name\": \"_country_\", \"total_non_null_rows\": 50578, \"total_rows_inc_nulls\": 50578, \"sum_tokens_in_value_count_group\": 498, \"distinct_value_count\": 269}, {\"percentile_ex_nulls\": 0.12505435943603516, \"percentile_inc_nulls\": 0.12505435943603516, \"value_count\": 165, \"group_name\": \"_country_\", \"total_non_null_rows\": 50578, \"total_rows_inc_nulls\": 50578, \"sum_tokens_in_value_count_group\": 330, \"distinct_value_count\": 269}, {\"percentile_ex_nulls\": 0.1218118667602539, \"percentile_inc_nulls\": 0.1218118667602539, \"value_count\": 164, \"group_name\": \"_country_\", \"total_non_null_rows\": 50578, \"total_rows_inc_nulls\": 50578, \"sum_tokens_in_value_count_group\": 164, \"distinct_value_count\": 269}, {\"percentile_ex_nulls\": 0.11536633968353271, \"percentile_inc_nulls\": 0.11536633968353271, \"value_count\": 163, \"group_name\": \"_country_\", \"total_non_null_rows\": 50578, \"total_rows_inc_nulls\": 50578, \"sum_tokens_in_value_count_group\": 326, \"distinct_value_count\": 269}, {\"percentile_ex_nulls\": 0.10255450010299683, \"percentile_inc_nulls\": 0.10255450010299683, \"value_count\": 162, \"group_name\": \"_country_\", \"total_non_null_rows\": 50578, \"total_rows_inc_nulls\": 50578, \"sum_tokens_in_value_count_group\": 648, \"distinct_value_count\": 269}, {\"percentile_ex_nulls\": 0.09300488233566284, \"percentile_inc_nulls\": 0.09300488233566284, \"value_count\": 161, \"group_name\": \"_country_\", \"total_non_null_rows\": 50578, \"total_rows_inc_nulls\": 50578, \"sum_tokens_in_value_count_group\": 483, \"distinct_value_count\": 269}, {\"percentile_ex_nulls\": 0.08351457118988037, \"percentile_inc_nulls\": 0.08351457118988037, \"value_count\": 160, \"group_name\": \"_country_\", \"total_non_null_rows\": 50578, \"total_rows_inc_nulls\": 50578, \"sum_tokens_in_value_count_group\": 480, \"distinct_value_count\": 269}, {\"percentile_ex_nulls\": 0.07722723484039307, \"percentile_inc_nulls\": 0.07722723484039307, \"value_count\": 159, \"group_name\": \"_country_\", \"total_non_null_rows\": 50578, \"total_rows_inc_nulls\": 50578, \"sum_tokens_in_value_count_group\": 318, \"distinct_value_count\": 269}, {\"percentile_ex_nulls\": 0.06791490316390991, \"percentile_inc_nulls\": 0.06791490316390991, \"value_count\": 157, \"group_name\": \"_country_\", \"total_non_null_rows\": 50578, \"total_rows_inc_nulls\": 50578, \"sum_tokens_in_value_count_group\": 471, \"distinct_value_count\": 269}, {\"percentile_ex_nulls\": 0.06174623966217041, \"percentile_inc_nulls\": 0.06174623966217041, \"value_count\": 156, \"group_name\": \"_country_\", \"total_non_null_rows\": 50578, \"total_rows_inc_nulls\": 50578, \"sum_tokens_in_value_count_group\": 312, \"distinct_value_count\": 269}, {\"percentile_ex_nulls\": 0.05561709403991699, \"percentile_inc_nulls\": 0.05561709403991699, \"value_count\": 155, \"group_name\": \"_country_\", \"total_non_null_rows\": 50578, \"total_rows_inc_nulls\": 50578, \"sum_tokens_in_value_count_group\": 310, \"distinct_value_count\": 269}, {\"percentile_ex_nulls\": 0.04648268222808838, \"percentile_inc_nulls\": 0.04648268222808838, \"value_count\": 154, \"group_name\": \"_country_\", \"total_non_null_rows\": 50578, \"total_rows_inc_nulls\": 50578, \"sum_tokens_in_value_count_group\": 462, \"distinct_value_count\": 269}, {\"percentile_ex_nulls\": 0.043477416038513184, \"percentile_inc_nulls\": 0.043477416038513184, \"value_count\": 152, \"group_name\": \"_country_\", \"total_non_null_rows\": 50578, \"total_rows_inc_nulls\": 50578, \"sum_tokens_in_value_count_group\": 152, \"distinct_value_count\": 269}, {\"percentile_ex_nulls\": 0.04049193859100342, \"percentile_inc_nulls\": 0.04049193859100342, \"value_count\": 151, \"group_name\": \"_country_\", \"total_non_null_rows\": 50578, \"total_rows_inc_nulls\": 50578, \"sum_tokens_in_value_count_group\": 151, \"distinct_value_count\": 269}, {\"percentile_ex_nulls\": 0.037545979022979736, \"percentile_inc_nulls\": 0.037545979022979736, \"value_count\": 149, \"group_name\": \"_country_\", \"total_non_null_rows\": 50578, \"total_rows_inc_nulls\": 50578, \"sum_tokens_in_value_count_group\": 149, \"distinct_value_count\": 269}, {\"percentile_ex_nulls\": 0.03463953733444214, \"percentile_inc_nulls\": 0.03463953733444214, \"value_count\": 147, \"group_name\": \"_country_\", \"total_non_null_rows\": 50578, \"total_rows_inc_nulls\": 50578, \"sum_tokens_in_value_count_group\": 147, \"distinct_value_count\": 269}, {\"percentile_ex_nulls\": 0.031772732734680176, \"percentile_inc_nulls\": 0.031772732734680176, \"value_count\": 145, \"group_name\": \"_country_\", \"total_non_null_rows\": 50578, \"total_rows_inc_nulls\": 50578, \"sum_tokens_in_value_count_group\": 145, \"distinct_value_count\": 269}, {\"percentile_ex_nulls\": 0.02894538640975952, \"percentile_inc_nulls\": 0.02894538640975952, \"value_count\": 143, \"group_name\": \"_country_\", \"total_non_null_rows\": 50578, \"total_rows_inc_nulls\": 50578, \"sum_tokens_in_value_count_group\": 143, \"distinct_value_count\": 269}, {\"percentile_ex_nulls\": 0.026177406311035156, \"percentile_inc_nulls\": 0.026177406311035156, \"value_count\": 140, \"group_name\": \"_country_\", \"total_non_null_rows\": 50578, \"total_rows_inc_nulls\": 50578, \"sum_tokens_in_value_count_group\": 140, \"distinct_value_count\": 269}, {\"percentile_ex_nulls\": 0.02465498447418213, \"percentile_inc_nulls\": 0.02465498447418213, \"value_count\": 77, \"group_name\": \"_country_\", \"total_non_null_rows\": 50578, \"total_rows_inc_nulls\": 50578, \"sum_tokens_in_value_count_group\": 77, \"distinct_value_count\": 269}, {\"percentile_ex_nulls\": 0.023409366607666016, \"percentile_inc_nulls\": 0.023409366607666016, \"value_count\": 63, \"group_name\": \"_country_\", \"total_non_null_rows\": 50578, \"total_rows_inc_nulls\": 50578, \"sum_tokens_in_value_count_group\": 63, \"distinct_value_count\": 269}, {\"percentile_ex_nulls\": 0.020997285842895508, \"percentile_inc_nulls\": 0.020997285842895508, \"value_count\": 61, \"group_name\": \"_country_\", \"total_non_null_rows\": 50578, \"total_rows_inc_nulls\": 50578, \"sum_tokens_in_value_count_group\": 122, \"distinct_value_count\": 269}, {\"percentile_ex_nulls\": 0.019830763339996338, \"percentile_inc_nulls\": 0.019830763339996338, \"value_count\": 59, \"group_name\": \"_country_\", \"total_non_null_rows\": 50578, \"total_rows_inc_nulls\": 50578, \"sum_tokens_in_value_count_group\": 59, \"distinct_value_count\": 269}, {\"percentile_ex_nulls\": 0.016390502452850342, \"percentile_inc_nulls\": 0.016390502452850342, \"value_count\": 58, \"group_name\": \"_country_\", \"total_non_null_rows\": 50578, \"total_rows_inc_nulls\": 50578, \"sum_tokens_in_value_count_group\": 174, \"distinct_value_count\": 269}, {\"percentile_ex_nulls\": 0.014136552810668945, \"percentile_inc_nulls\": 0.014136552810668945, \"value_count\": 57, \"group_name\": \"_country_\", \"total_non_null_rows\": 50578, \"total_rows_inc_nulls\": 50578, \"sum_tokens_in_value_count_group\": 114, \"distinct_value_count\": 269}, {\"percentile_ex_nulls\": 0.013029396533966064, \"percentile_inc_nulls\": 0.013029396533966064, \"value_count\": 56, \"group_name\": \"_country_\", \"total_non_null_rows\": 50578, \"total_rows_inc_nulls\": 50578, \"sum_tokens_in_value_count_group\": 56, \"distinct_value_count\": 269}, {\"percentile_ex_nulls\": 0.011941969394683838, \"percentile_inc_nulls\": 0.011941969394683838, \"value_count\": 55, \"group_name\": \"_country_\", \"total_non_null_rows\": 50578, \"total_rows_inc_nulls\": 50578, \"sum_tokens_in_value_count_group\": 55, \"distinct_value_count\": 269}, {\"percentile_ex_nulls\": 0.010874271392822266, \"percentile_inc_nulls\": 0.010874271392822266, \"value_count\": 54, \"group_name\": \"_country_\", \"total_non_null_rows\": 50578, \"total_rows_inc_nulls\": 50578, \"sum_tokens_in_value_count_group\": 54, \"distinct_value_count\": 269}, {\"percentile_ex_nulls\": 0.008778512477874756, \"percentile_inc_nulls\": 0.008778512477874756, \"value_count\": 53, \"group_name\": \"_country_\", \"total_non_null_rows\": 50578, \"total_rows_inc_nulls\": 50578, \"sum_tokens_in_value_count_group\": 106, \"distinct_value_count\": 269}, {\"percentile_ex_nulls\": 0.007750391960144043, \"percentile_inc_nulls\": 0.007750391960144043, \"value_count\": 52, \"group_name\": \"_country_\", \"total_non_null_rows\": 50578, \"total_rows_inc_nulls\": 50578, \"sum_tokens_in_value_count_group\": 52, \"distinct_value_count\": 269}, {\"percentile_ex_nulls\": 0.0057732462882995605, \"percentile_inc_nulls\": 0.0057732462882995605, \"value_count\": 50, \"group_name\": \"_country_\", \"total_non_null_rows\": 50578, \"total_rows_inc_nulls\": 50578, \"sum_tokens_in_value_count_group\": 100, \"distinct_value_count\": 269}, {\"percentile_ex_nulls\": 0.004844009876251221, \"percentile_inc_nulls\": 0.004844009876251221, \"value_count\": 47, \"group_name\": \"_country_\", \"total_non_null_rows\": 50578, \"total_rows_inc_nulls\": 50578, \"sum_tokens_in_value_count_group\": 47, \"distinct_value_count\": 269}, {\"percentile_ex_nulls\": 0.003954291343688965, \"percentile_inc_nulls\": 0.003954291343688965, \"value_count\": 45, \"group_name\": \"_country_\", \"total_non_null_rows\": 50578, \"total_rows_inc_nulls\": 50578, \"sum_tokens_in_value_count_group\": 45, \"distinct_value_count\": 269}, {\"percentile_ex_nulls\": 0.0030843615531921387, \"percentile_inc_nulls\": 0.0030843615531921387, \"value_count\": 44, \"group_name\": \"_country_\", \"total_non_null_rows\": 50578, \"total_rows_inc_nulls\": 50578, \"sum_tokens_in_value_count_group\": 44, \"distinct_value_count\": 269}, {\"percentile_ex_nulls\": 0.002273738384246826, \"percentile_inc_nulls\": 0.002273738384246826, \"value_count\": 41, \"group_name\": \"_country_\", \"total_non_null_rows\": 50578, \"total_rows_inc_nulls\": 50578, \"sum_tokens_in_value_count_group\": 41, \"distinct_value_count\": 269}, {\"percentile_ex_nulls\": 0.0015224218368530273, \"percentile_inc_nulls\": 0.0015224218368530273, \"value_count\": 38, \"group_name\": \"_country_\", \"total_non_null_rows\": 50578, \"total_rows_inc_nulls\": 50578, \"sum_tokens_in_value_count_group\": 38, \"distinct_value_count\": 269}, {\"percentile_ex_nulls\": 0.0008304119110107422, \"percentile_inc_nulls\": 0.0008304119110107422, \"value_count\": 35, \"group_name\": \"_country_\", \"total_non_null_rows\": 50578, \"total_rows_inc_nulls\": 50578, \"sum_tokens_in_value_count_group\": 35, \"distinct_value_count\": 269}, {\"percentile_ex_nulls\": 0.0003954172134399414, \"percentile_inc_nulls\": 0.0003954172134399414, \"value_count\": 22, \"group_name\": \"_country_\", \"total_non_null_rows\": 50578, \"total_rows_inc_nulls\": 50578, \"sum_tokens_in_value_count_group\": 22, \"distinct_value_count\": 269}, {\"percentile_ex_nulls\": 1.0, \"percentile_inc_nulls\": 1.0, \"value_count\": 20, \"group_name\": \"_country_\", \"total_non_null_rows\": 50578, \"total_rows_inc_nulls\": 50578, \"sum_tokens_in_value_count_group\": 20, \"distinct_value_count\": 269}]}, \"encoding\": {\"tooltip\": [{\"field\": \"value_count\", \"type\": \"quantitative\"}, {\"field\": \"percentile_ex_nulls\", \"type\": \"quantitative\"}, {\"field\": \"percentile_inc_nulls\", \"type\": \"quantitative\"}, {\"field\": \"total_non_null_rows\", \"type\": \"quantitative\"}, {\"field\": \"total_rows_inc_nulls\", \"type\": \"quantitative\"}], \"x\": {\"field\": \"percentile_ex_nulls\", \"sort\": \"descending\", \"title\": \"Percentile\", \"type\": \"quantitative\"}, \"y\": {\"field\": \"value_count\", \"title\": \"Count of values\", \"type\": \"quantitative\"}}, \"title\": {\"text\": \"Distribution of counts of values in column \\\"country\\\"\", \"subtitle\": \"In this col, 0 values (0.0%) are null and there are 269 distinct values\"}}, {\"mark\": \"bar\", \"data\": {\"values\": [{\"value_count\": 324, \"group_name\": \"_country_\", \"value\": \"Congo\", \"total_non_null_rows\": 50578, \"total_rows_inc_nulls\": 50578, \"distinct_value_count\": 269}, {\"value_count\": 300, \"group_name\": \"_country_\", \"value\": \"Korea\", \"total_non_null_rows\": 50578, \"total_rows_inc_nulls\": 50578, \"distinct_value_count\": 269}, {\"value_count\": 276, \"group_name\": \"_country_\", \"value\": \"United Kingdom\", \"total_non_null_rows\": 50578, \"total_rows_inc_nulls\": 50578, \"distinct_value_count\": 269}, {\"value_count\": 256, \"group_name\": \"_country_\", \"value\": \"Morocco\", \"total_non_null_rows\": 50578, \"total_rows_inc_nulls\": 50578, \"distinct_value_count\": 269}, {\"value_count\": 253, \"group_name\": \"_country_\", \"value\": \"India\", \"total_non_null_rows\": 50578, \"total_rows_inc_nulls\": 50578, \"distinct_value_count\": 269}, {\"value_count\": 253, \"group_name\": \"_country_\", \"value\": \"Vanuatu\", \"total_non_null_rows\": 50578, \"total_rows_inc_nulls\": 50578, \"distinct_value_count\": 269}, {\"value_count\": 251, \"group_name\": \"_country_\", \"value\": \"Samoa\", \"total_non_null_rows\": 50578, \"total_rows_inc_nulls\": 50578, \"distinct_value_count\": 269}, {\"value_count\": 249, \"group_name\": \"_country_\", \"value\": \"Nigeria\", \"total_non_null_rows\": 50578, \"total_rows_inc_nulls\": 50578, \"distinct_value_count\": 269}, {\"value_count\": 248, \"group_name\": \"_country_\", \"value\": \"Philippines\", \"total_non_null_rows\": 50578, \"total_rows_inc_nulls\": 50578, \"distinct_value_count\": 269}, {\"value_count\": 246, \"group_name\": \"_country_\", \"value\": \"Guinea\", \"total_non_null_rows\": 50578, \"total_rows_inc_nulls\": 50578, \"distinct_value_count\": 269}]}, \"encoding\": {\"tooltip\": [{\"field\": \"value\", \"type\": \"nominal\"}, {\"field\": \"value_count\", \"type\": \"quantitative\"}, {\"field\": \"total_non_null_rows\", \"type\": \"quantitative\"}, {\"field\": \"total_rows_inc_nulls\", \"type\": \"quantitative\"}], \"x\": {\"field\": \"value\", \"sort\": \"-y\", \"title\": null, \"type\": \"nominal\"}, \"y\": {\"field\": \"value_count\", \"title\": \"Value count\", \"type\": \"quantitative\"}}, \"title\": \"Top 10 values by value count\"}, {\"mark\": \"bar\", \"data\": {\"values\": [{\"value_count\": 20, \"group_name\": \"_country_\", \"value\": \"IND\", \"total_non_null_rows\": 50578, \"total_rows_inc_nulls\": 50578, \"distinct_value_count\": 269}, {\"value_count\": 22, \"group_name\": \"_country_\", \"value\": \"Bharat\", \"total_non_null_rows\": 50578, \"total_rows_inc_nulls\": 50578, \"distinct_value_count\": 269}, {\"value_count\": 35, \"group_name\": \"_country_\", \"value\": \"United States\", \"total_non_null_rows\": 50578, \"total_rows_inc_nulls\": 50578, \"distinct_value_count\": 269}, {\"value_count\": 38, \"group_name\": \"_country_\", \"value\": \"Russia\", \"total_non_null_rows\": 50578, \"total_rows_inc_nulls\": 50578, \"distinct_value_count\": 269}, {\"value_count\": 41, \"group_name\": \"_country_\", \"value\": \"Kyrgyzstan\", \"total_non_null_rows\": 50578, \"total_rows_inc_nulls\": 50578, \"distinct_value_count\": 269}]}, \"encoding\": {\"tooltip\": [{\"field\": \"value\", \"type\": \"nominal\"}, {\"field\": \"value_count\", \"type\": \"quantitative\"}, {\"field\": \"total_non_null_rows\", \"type\": \"quantitative\"}, {\"field\": \"total_rows_inc_nulls\", \"type\": \"quantitative\"}], \"x\": {\"field\": \"value\", \"sort\": \"-y\", \"title\": null, \"type\": \"nominal\"}, \"y\": {\"field\": \"value_count\", \"scale\": {\"domain\": [0, 324]}, \"title\": \"Value count\", \"type\": \"quantitative\"}}, \"title\": \"Bottom 5 values by value count\"}]}, {\"hconcat\": [{\"mark\": {\"type\": \"line\", \"interpolate\": \"step-before\"}, \"data\": {\"values\": [{\"percentile_ex_nulls\": 0.8617184162139893, \"percentile_inc_nulls\": 0.8929573893547058, \"value_count\": 6, \"group_name\": \"_postal_code_\", \"total_non_null_rows\": 39152, \"total_rows_inc_nulls\": 50578, \"sum_tokens_in_value_count_group\": 2472, \"distinct_value_count\": 20083}, {\"percentile_ex_nulls\": 0.7646608352661133, \"percentile_inc_nulls\": 0.8178259134292603, \"value_count\": 5, \"group_name\": \"_postal_code_\", \"total_non_null_rows\": 39152, \"total_rows_inc_nulls\": 50578, \"sum_tokens_in_value_count_group\": 3800, \"distinct_value_count\": 20083}, {\"percentile_ex_nulls\": 0.6386902332305908, \"percentile_inc_nulls\": 0.7203131914138794, \"value_count\": 4, \"group_name\": \"_postal_code_\", \"total_non_null_rows\": 39152, \"total_rows_inc_nulls\": 50578, \"sum_tokens_in_value_count_group\": 4932, \"distinct_value_count\": 20083}, {\"percentile_ex_nulls\": 0.4795413017272949, \"percentile_inc_nulls\": 0.5971173048019409, \"value_count\": 3, \"group_name\": \"_postal_code_\", \"total_non_null_rows\": 39152, \"total_rows_inc_nulls\": 50578, \"sum_tokens_in_value_count_group\": 6231, \"distinct_value_count\": 20083}, {\"percentile_ex_nulls\": 0.29819679260253906, \"percentile_inc_nulls\": 0.4567400813102722, \"value_count\": 2, \"group_name\": \"_postal_code_\", \"total_non_null_rows\": 39152, \"total_rows_inc_nulls\": 50578, \"sum_tokens_in_value_count_group\": 7100, \"distinct_value_count\": 20083}, {\"percentile_ex_nulls\": 0.0, \"percentile_inc_nulls\": 0.22590851783752441, \"value_count\": 1, \"group_name\": \"_postal_code_\", \"total_non_null_rows\": 39152, \"total_rows_inc_nulls\": 50578, \"sum_tokens_in_value_count_group\": 11675, \"distinct_value_count\": 20083}, {\"percentile_ex_nulls\": 0.9995913505554199, \"percentile_inc_nulls\": 0.999683678150177, \"value_count\": 16, \"group_name\": \"_postal_code_\", \"total_non_null_rows\": 39152, \"total_rows_inc_nulls\": 50578, \"sum_tokens_in_value_count_group\": 16, \"distinct_value_count\": 20083}, {\"percentile_ex_nulls\": 0.9992082118988037, \"percentile_inc_nulls\": 0.9993870854377747, \"value_count\": 15, \"group_name\": \"_postal_code_\", \"total_non_null_rows\": 39152, \"total_rows_inc_nulls\": 50578, \"sum_tokens_in_value_count_group\": 15, \"distinct_value_count\": 20083}, {\"percentile_ex_nulls\": 0.9981354475021362, \"percentile_inc_nulls\": 0.9985566735267639, \"value_count\": 14, \"group_name\": \"_postal_code_\", \"total_non_null_rows\": 39152, \"total_rows_inc_nulls\": 50578, \"sum_tokens_in_value_count_group\": 42, \"distinct_value_count\": 20083}, {\"percentile_ex_nulls\": 0.996807336807251, \"percentile_inc_nulls\": 0.9975285530090332, \"value_count\": 13, \"group_name\": \"_postal_code_\", \"total_non_null_rows\": 39152, \"total_rows_inc_nulls\": 50578, \"sum_tokens_in_value_count_group\": 52, \"distinct_value_count\": 20083}, {\"percentile_ex_nulls\": 0.995581328868866, \"percentile_inc_nulls\": 0.9965795278549194, \"value_count\": 12, \"group_name\": \"_postal_code_\", \"total_non_null_rows\": 39152, \"total_rows_inc_nulls\": 50578, \"sum_tokens_in_value_count_group\": 48, \"distinct_value_count\": 20083}, {\"percentile_ex_nulls\": 0.9938955903053284, \"percentile_inc_nulls\": 0.9952746033668518, \"value_count\": 11, \"group_name\": \"_postal_code_\", \"total_non_null_rows\": 39152, \"total_rows_inc_nulls\": 50578, \"sum_tokens_in_value_count_group\": 66, \"distinct_value_count\": 20083}, {\"percentile_ex_nulls\": 0.9900643825531006, \"percentile_inc_nulls\": 0.9923089146614075, \"value_count\": 10, \"group_name\": \"_postal_code_\", \"total_non_null_rows\": 39152, \"total_rows_inc_nulls\": 50578, \"sum_tokens_in_value_count_group\": 150, \"distinct_value_count\": 20083}, {\"percentile_ex_nulls\": 0.9813292026519775, \"percentile_inc_nulls\": 0.9855470657348633, \"value_count\": 9, \"group_name\": \"_postal_code_\", \"total_non_null_rows\": 39152, \"total_rows_inc_nulls\": 50578, \"sum_tokens_in_value_count_group\": 342, \"distinct_value_count\": 20083}, {\"percentile_ex_nulls\": 0.9643696546554565, \"percentile_inc_nulls\": 0.9724188446998596, \"value_count\": 8, \"group_name\": \"_postal_code_\", \"total_non_null_rows\": 39152, \"total_rows_inc_nulls\": 50578, \"sum_tokens_in_value_count_group\": 664, \"distinct_value_count\": 20083}, {\"percentile_ex_nulls\": 0.924856960773468, \"percentile_inc_nulls\": 0.941832423210144, \"value_count\": 7, \"group_name\": \"_postal_code_\", \"total_non_null_rows\": 39152, \"total_rows_inc_nulls\": 50578, \"sum_tokens_in_value_count_group\": 1547, \"distinct_value_count\": 20083}, {\"percentile_ex_nulls\": 1.0, \"percentile_inc_nulls\": 1.0, \"value_count\": 6, \"group_name\": \"_postal_code_\", \"total_non_null_rows\": 39152, \"total_rows_inc_nulls\": 50578, \"sum_tokens_in_value_count_group\": 2472, \"distinct_value_count\": 20083}]}, \"encoding\": {\"tooltip\": [{\"field\": \"value_count\", \"type\": \"quantitative\"}, {\"field\": \"percentile_ex_nulls\", \"type\": \"quantitative\"}, {\"field\": \"percentile_inc_nulls\", \"type\": \"quantitative\"}, {\"field\": \"total_non_null_rows\", \"type\": \"quantitative\"}, {\"field\": \"total_rows_inc_nulls\", \"type\": \"quantitative\"}], \"x\": {\"field\": \"percentile_ex_nulls\", \"sort\": \"descending\", \"title\": \"Percentile\", \"type\": \"quantitative\"}, \"y\": {\"field\": \"value_count\", \"title\": \"Count of values\", \"type\": \"quantitative\"}}, \"title\": {\"text\": \"Distribution of counts of values in column \\\"postal_code\\\"\", \"subtitle\": \"In this col, 11,426 values (22.6%) are null and there are 20083 distinct values\"}}, {\"mark\": \"bar\", \"data\": {\"values\": [{\"value_count\": 16, \"group_name\": \"_postal_code_\", \"value\": \"SE1 7SG\", \"total_non_null_rows\": 39152, \"total_rows_inc_nulls\": 50578, \"distinct_value_count\": 20083}, {\"value_count\": 15, \"group_name\": \"_postal_code_\", \"value\": \"sw1h9aa\", \"total_non_null_rows\": 39152, \"total_rows_inc_nulls\": 50578, \"distinct_value_count\": 20083}, {\"value_count\": 14, \"group_name\": \"_postal_code_\", \"value\": \"PL1 3DQ\", \"total_non_null_rows\": 39152, \"total_rows_inc_nulls\": 50578, \"distinct_value_count\": 20083}, {\"value_count\": 14, \"group_name\": \"_postal_code_\", \"value\": \"SW1A 2BJ\", \"total_non_null_rows\": 39152, \"total_rows_inc_nulls\": 50578, \"distinct_value_count\": 20083}, {\"value_count\": 14, \"group_name\": \"_postal_code_\", \"value\": \"SW1A 2JH\", \"total_non_null_rows\": 39152, \"total_rows_inc_nulls\": 50578, \"distinct_value_count\": 20083}, {\"value_count\": 13, \"group_name\": \"_postal_code_\", \"value\": \"SW1P 3PL\", \"total_non_null_rows\": 39152, \"total_rows_inc_nulls\": 50578, \"distinct_value_count\": 20083}, {\"value_count\": 13, \"group_name\": \"_postal_code_\", \"value\": \"sw1y5hu\", \"total_non_null_rows\": 39152, \"total_rows_inc_nulls\": 50578, \"distinct_value_count\": 20083}, {\"value_count\": 13, \"group_name\": \"_postal_code_\", \"value\": \"se17sg\", \"total_non_null_rows\": 39152, \"total_rows_inc_nulls\": 50578, \"distinct_value_count\": 20083}, {\"value_count\": 13, \"group_name\": \"_postal_code_\", \"value\": \"SE1 8XZ\", \"total_non_null_rows\": 39152, \"total_rows_inc_nulls\": 50578, \"distinct_value_count\": 20083}, {\"value_count\": 12, \"group_name\": \"_postal_code_\", \"value\": \"e179sw\", \"total_non_null_rows\": 39152, \"total_rows_inc_nulls\": 50578, \"distinct_value_count\": 20083}]}, \"encoding\": {\"tooltip\": [{\"field\": \"value\", \"type\": \"nominal\"}, {\"field\": \"value_count\", \"type\": \"quantitative\"}, {\"field\": \"total_non_null_rows\", \"type\": \"quantitative\"}, {\"field\": \"total_rows_inc_nulls\", \"type\": \"quantitative\"}], \"x\": {\"field\": \"value\", \"sort\": \"-y\", \"title\": null, \"type\": \"nominal\"}, \"y\": {\"field\": \"value_count\", \"title\": \"Value count\", \"type\": \"quantitative\"}}, \"title\": \"Top 10 values by value count\"}, {\"mark\": \"bar\", \"data\": {\"values\": [{\"value_count\": 1, \"group_name\": \"_postal_code_\", \"value\": \"pe227ng\", \"total_non_null_rows\": 39152, \"total_rows_inc_nulls\": 50578, \"distinct_value_count\": 20083}, {\"value_count\": 1, \"group_name\": \"_postal_code_\", \"value\": \"TS1O 0SH\", \"total_non_null_rows\": 39152, \"total_rows_inc_nulls\": 50578, \"distinct_value_count\": 20083}, {\"value_count\": 1, \"group_name\": \"_postal_code_\", \"value\": \"S80 3FY\", \"total_non_null_rows\": 39152, \"total_rows_inc_nulls\": 50578, \"distinct_value_count\": 20083}, {\"value_count\": 1, \"group_name\": \"_postal_code_\", \"value\": \"pe235au\", \"total_non_null_rows\": 39152, \"total_rows_inc_nulls\": 50578, \"distinct_value_count\": 20083}, {\"value_count\": 1, \"group_name\": \"_postal_code_\", \"value\": \"PE22 7NG\", \"total_non_null_rows\": 39152, \"total_rows_inc_nulls\": 50578, \"distinct_value_count\": 20083}]}, \"encoding\": {\"tooltip\": [{\"field\": \"value\", \"type\": \"nominal\"}, {\"field\": \"value_count\", \"type\": \"quantitative\"}, {\"field\": \"total_non_null_rows\", \"type\": \"quantitative\"}, {\"field\": \"total_rows_inc_nulls\", \"type\": \"quantitative\"}], \"x\": {\"field\": \"value\", \"sort\": \"-y\", \"title\": null, \"type\": \"nominal\"}, \"y\": {\"field\": \"value_count\", \"scale\": {\"domain\": [0, 16]}, \"title\": \"Value count\", \"type\": \"quantitative\"}}, \"title\": \"Bottom 5 values by value count\"}]}, {\"hconcat\": [{\"mark\": {\"type\": \"line\", \"interpolate\": \"step-before\"}, \"data\": {\"values\": [{\"percentile_ex_nulls\": 0.9107319116592407, \"percentile_inc_nulls\": 0.9107319116592407, \"value_count\": 4515, \"group_name\": \"_last_name_\", \"total_non_null_rows\": 50578, \"total_rows_inc_nulls\": 50578, \"sum_tokens_in_value_count_group\": 4515, \"distinct_value_count\": 6196}, {\"percentile_ex_nulls\": 0.8985725045204163, \"percentile_inc_nulls\": 0.8985725045204163, \"value_count\": 615, \"group_name\": \"_last_name_\", \"total_non_null_rows\": 50578, \"total_rows_inc_nulls\": 50578, \"sum_tokens_in_value_count_group\": 615, \"distinct_value_count\": 6196}, {\"percentile_ex_nulls\": 0.8945786952972412, \"percentile_inc_nulls\": 0.8945786952972412, \"value_count\": 202, \"group_name\": \"_last_name_\", \"total_non_null_rows\": 50578, \"total_rows_inc_nulls\": 50578, \"sum_tokens_in_value_count_group\": 202, \"distinct_value_count\": 6196}, {\"percentile_ex_nulls\": 0.8920281529426575, \"percentile_inc_nulls\": 0.8920281529426575, \"value_count\": 129, \"group_name\": \"_last_name_\", \"total_non_null_rows\": 50578, \"total_rows_inc_nulls\": 50578, \"sum_tokens_in_value_count_group\": 129, \"distinct_value_count\": 6196}, {\"percentile_ex_nulls\": 0.8896753787994385, \"percentile_inc_nulls\": 0.8896753787994385, \"value_count\": 119, \"group_name\": \"_last_name_\", \"total_non_null_rows\": 50578, \"total_rows_inc_nulls\": 50578, \"sum_tokens_in_value_count_group\": 119, \"distinct_value_count\": 6196}, {\"percentile_ex_nulls\": 0.8873621225357056, \"percentile_inc_nulls\": 0.8873621225357056, \"value_count\": 117, \"group_name\": \"_last_name_\", \"total_non_null_rows\": 50578, \"total_rows_inc_nulls\": 50578, \"sum_tokens_in_value_count_group\": 117, \"distinct_value_count\": 6196}, {\"percentile_ex_nulls\": 0.8850685954093933, \"percentile_inc_nulls\": 0.8850685954093933, \"value_count\": 116, \"group_name\": \"_last_name_\", \"total_non_null_rows\": 50578, \"total_rows_inc_nulls\": 50578, \"sum_tokens_in_value_count_group\": 116, \"distinct_value_count\": 6196}, {\"percentile_ex_nulls\": 0.8827949166297913, \"percentile_inc_nulls\": 0.8827949166297913, \"value_count\": 115, \"group_name\": \"_last_name_\", \"total_non_null_rows\": 50578, \"total_rows_inc_nulls\": 50578, \"sum_tokens_in_value_count_group\": 115, \"distinct_value_count\": 6196}, {\"percentile_ex_nulls\": 0.8805409669876099, \"percentile_inc_nulls\": 0.8805409669876099, \"value_count\": 114, \"group_name\": \"_last_name_\", \"total_non_null_rows\": 50578, \"total_rows_inc_nulls\": 50578, \"sum_tokens_in_value_count_group\": 114, \"distinct_value_count\": 6196}, {\"percentile_ex_nulls\": 0.8738384246826172, \"percentile_inc_nulls\": 0.8738384246826172, \"value_count\": 113, \"group_name\": \"_last_name_\", \"total_non_null_rows\": 50578, \"total_rows_inc_nulls\": 50578, \"sum_tokens_in_value_count_group\": 339, \"distinct_value_count\": 6196}, {\"percentile_ex_nulls\": 0.8716635704040527, \"percentile_inc_nulls\": 0.8716635704040527, \"value_count\": 110, \"group_name\": \"_last_name_\", \"total_non_null_rows\": 50578, \"total_rows_inc_nulls\": 50578, \"sum_tokens_in_value_count_group\": 110, \"distinct_value_count\": 6196}, {\"percentile_ex_nulls\": 0.8695085048675537, \"percentile_inc_nulls\": 0.8695085048675537, \"value_count\": 109, \"group_name\": \"_last_name_\", \"total_non_null_rows\": 50578, \"total_rows_inc_nulls\": 50578, \"sum_tokens_in_value_count_group\": 109, \"distinct_value_count\": 6196}, {\"percentile_ex_nulls\": 0.8673929572105408, \"percentile_inc_nulls\": 0.8673929572105408, \"value_count\": 107, \"group_name\": \"_last_name_\", \"total_non_null_rows\": 50578, \"total_rows_inc_nulls\": 50578, \"sum_tokens_in_value_count_group\": 107, \"distinct_value_count\": 6196}, {\"percentile_ex_nulls\": 0.8653564453125, \"percentile_inc_nulls\": 0.8653564453125, \"value_count\": 103, \"group_name\": \"_last_name_\", \"total_non_null_rows\": 50578, \"total_rows_inc_nulls\": 50578, \"sum_tokens_in_value_count_group\": 103, \"distinct_value_count\": 6196}, {\"percentile_ex_nulls\": 0.861402153968811, \"percentile_inc_nulls\": 0.861402153968811, \"value_count\": 100, \"group_name\": \"_last_name_\", \"total_non_null_rows\": 50578, \"total_rows_inc_nulls\": 50578, \"sum_tokens_in_value_count_group\": 200, \"distinct_value_count\": 6196}, {\"percentile_ex_nulls\": 0.859444797039032, \"percentile_inc_nulls\": 0.859444797039032, \"value_count\": 99, \"group_name\": \"_last_name_\", \"total_non_null_rows\": 50578, \"total_rows_inc_nulls\": 50578, \"sum_tokens_in_value_count_group\": 99, \"distinct_value_count\": 6196}, {\"percentile_ex_nulls\": 0.8575270175933838, \"percentile_inc_nulls\": 0.8575270175933838, \"value_count\": 97, \"group_name\": \"_last_name_\", \"total_non_null_rows\": 50578, \"total_rows_inc_nulls\": 50578, \"sum_tokens_in_value_count_group\": 97, \"distinct_value_count\": 6196}, {\"percentile_ex_nulls\": 0.8537308573722839, \"percentile_inc_nulls\": 0.8537308573722839, \"value_count\": 96, \"group_name\": \"_last_name_\", \"total_non_null_rows\": 50578, \"total_rows_inc_nulls\": 50578, \"sum_tokens_in_value_count_group\": 192, \"distinct_value_count\": 6196}, {\"percentile_ex_nulls\": 0.8519909977912903, \"percentile_inc_nulls\": 0.8519909977912903, \"value_count\": 88, \"group_name\": \"_last_name_\", \"total_non_null_rows\": 50578, \"total_rows_inc_nulls\": 50578, \"sum_tokens_in_value_count_group\": 88, \"distinct_value_count\": 6196}, {\"percentile_ex_nulls\": 0.8485903143882751, \"percentile_inc_nulls\": 0.8485903143882751, \"value_count\": 86, \"group_name\": \"_last_name_\", \"total_non_null_rows\": 50578, \"total_rows_inc_nulls\": 50578, \"sum_tokens_in_value_count_group\": 172, \"distinct_value_count\": 6196}, {\"percentile_ex_nulls\": 0.8469492793083191, \"percentile_inc_nulls\": 0.8469492793083191, \"value_count\": 83, \"group_name\": \"_last_name_\", \"total_non_null_rows\": 50578, \"total_rows_inc_nulls\": 50578, \"sum_tokens_in_value_count_group\": 83, \"distinct_value_count\": 6196}, {\"percentile_ex_nulls\": 0.8453279733657837, \"percentile_inc_nulls\": 0.8453279733657837, \"value_count\": 82, \"group_name\": \"_last_name_\", \"total_non_null_rows\": 50578, \"total_rows_inc_nulls\": 50578, \"sum_tokens_in_value_count_group\": 82, \"distinct_value_count\": 6196}, {\"percentile_ex_nulls\": 0.8437265157699585, \"percentile_inc_nulls\": 0.8437265157699585, \"value_count\": 81, \"group_name\": \"_last_name_\", \"total_non_null_rows\": 50578, \"total_rows_inc_nulls\": 50578, \"sum_tokens_in_value_count_group\": 81, \"distinct_value_count\": 6196}, {\"percentile_ex_nulls\": 0.842144787311554, \"percentile_inc_nulls\": 0.842144787311554, \"value_count\": 80, \"group_name\": \"_last_name_\", \"total_non_null_rows\": 50578, \"total_rows_inc_nulls\": 50578, \"sum_tokens_in_value_count_group\": 80, \"distinct_value_count\": 6196}, {\"percentile_ex_nulls\": 0.8406026363372803, \"percentile_inc_nulls\": 0.8406026363372803, \"value_count\": 78, \"group_name\": \"_last_name_\", \"total_non_null_rows\": 50578, \"total_rows_inc_nulls\": 50578, \"sum_tokens_in_value_count_group\": 78, \"distinct_value_count\": 6196}, {\"percentile_ex_nulls\": 0.837557852268219, \"percentile_inc_nulls\": 0.837557852268219, \"value_count\": 77, \"group_name\": \"_last_name_\", \"total_non_null_rows\": 50578, \"total_rows_inc_nulls\": 50578, \"sum_tokens_in_value_count_group\": 154, \"distinct_value_count\": 6196}, {\"percentile_ex_nulls\": 0.836074948310852, \"percentile_inc_nulls\": 0.836074948310852, \"value_count\": 75, \"group_name\": \"_last_name_\", \"total_non_null_rows\": 50578, \"total_rows_inc_nulls\": 50578, \"sum_tokens_in_value_count_group\": 75, \"distinct_value_count\": 6196}, {\"percentile_ex_nulls\": 0.8331488370895386, \"percentile_inc_nulls\": 0.8331488370895386, \"value_count\": 74, \"group_name\": \"_last_name_\", \"total_non_null_rows\": 50578, \"total_rows_inc_nulls\": 50578, \"sum_tokens_in_value_count_group\": 148, \"distinct_value_count\": 6196}, {\"percentile_ex_nulls\": 0.8303017020225525, \"percentile_inc_nulls\": 0.8303017020225525, \"value_count\": 72, \"group_name\": \"_last_name_\", \"total_non_null_rows\": 50578, \"total_rows_inc_nulls\": 50578, \"sum_tokens_in_value_count_group\": 144, \"distinct_value_count\": 6196}, {\"percentile_ex_nulls\": 0.8289177417755127, \"percentile_inc_nulls\": 0.8289177417755127, \"value_count\": 70, \"group_name\": \"_last_name_\", \"total_non_null_rows\": 50578, \"total_rows_inc_nulls\": 50578, \"sum_tokens_in_value_count_group\": 70, \"distinct_value_count\": 6196}, {\"percentile_ex_nulls\": 0.8261892795562744, \"percentile_inc_nulls\": 0.8261892795562744, \"value_count\": 69, \"group_name\": \"_last_name_\", \"total_non_null_rows\": 50578, \"total_rows_inc_nulls\": 50578, \"sum_tokens_in_value_count_group\": 138, \"distinct_value_count\": 6196}, {\"percentile_ex_nulls\": 0.8248645663261414, \"percentile_inc_nulls\": 0.8248645663261414, \"value_count\": 67, \"group_name\": \"_last_name_\", \"total_non_null_rows\": 50578, \"total_rows_inc_nulls\": 50578, \"sum_tokens_in_value_count_group\": 67, \"distinct_value_count\": 6196}, {\"percentile_ex_nulls\": 0.8235596418380737, \"percentile_inc_nulls\": 0.8235596418380737, \"value_count\": 66, \"group_name\": \"_last_name_\", \"total_non_null_rows\": 50578, \"total_rows_inc_nulls\": 50578, \"sum_tokens_in_value_count_group\": 66, \"distinct_value_count\": 6196}, {\"percentile_ex_nulls\": 0.8209893703460693, \"percentile_inc_nulls\": 0.8209893703460693, \"value_count\": 65, \"group_name\": \"_last_name_\", \"total_non_null_rows\": 50578, \"total_rows_inc_nulls\": 50578, \"sum_tokens_in_value_count_group\": 130, \"distinct_value_count\": 6196}, {\"percentile_ex_nulls\": 0.8171932697296143, \"percentile_inc_nulls\": 0.8171932697296143, \"value_count\": 64, \"group_name\": \"_last_name_\", \"total_non_null_rows\": 50578, \"total_rows_inc_nulls\": 50578, \"sum_tokens_in_value_count_group\": 192, \"distinct_value_count\": 6196}, {\"percentile_ex_nulls\": 0.8159476518630981, \"percentile_inc_nulls\": 0.8159476518630981, \"value_count\": 63, \"group_name\": \"_last_name_\", \"total_non_null_rows\": 50578, \"total_rows_inc_nulls\": 50578, \"sum_tokens_in_value_count_group\": 63, \"distinct_value_count\": 6196}, {\"percentile_ex_nulls\": 0.8147218227386475, \"percentile_inc_nulls\": 0.8147218227386475, \"value_count\": 62, \"group_name\": \"_last_name_\", \"total_non_null_rows\": 50578, \"total_rows_inc_nulls\": 50578, \"sum_tokens_in_value_count_group\": 62, \"distinct_value_count\": 6196}, {\"percentile_ex_nulls\": 0.8123096823692322, \"percentile_inc_nulls\": 0.8123096823692322, \"value_count\": 61, \"group_name\": \"_last_name_\", \"total_non_null_rows\": 50578, \"total_rows_inc_nulls\": 50578, \"sum_tokens_in_value_count_group\": 122, \"distinct_value_count\": 6196}, {\"percentile_ex_nulls\": 0.8087508678436279, \"percentile_inc_nulls\": 0.8087508678436279, \"value_count\": 60, \"group_name\": \"_last_name_\", \"total_non_null_rows\": 50578, \"total_rows_inc_nulls\": 50578, \"sum_tokens_in_value_count_group\": 180, \"distinct_value_count\": 6196}, {\"percentile_ex_nulls\": 0.8075843453407288, \"percentile_inc_nulls\": 0.8075843453407288, \"value_count\": 59, \"group_name\": \"_last_name_\", \"total_non_null_rows\": 50578, \"total_rows_inc_nulls\": 50578, \"sum_tokens_in_value_count_group\": 59, \"distinct_value_count\": 6196}, {\"percentile_ex_nulls\": 0.8018506169319153, \"percentile_inc_nulls\": 0.8018506169319153, \"value_count\": 58, \"group_name\": \"_last_name_\", \"total_non_null_rows\": 50578, \"total_rows_inc_nulls\": 50578, \"sum_tokens_in_value_count_group\": 290, \"distinct_value_count\": 6196}, {\"percentile_ex_nulls\": 0.800723671913147, \"percentile_inc_nulls\": 0.800723671913147, \"value_count\": 57, \"group_name\": \"_last_name_\", \"total_non_null_rows\": 50578, \"total_rows_inc_nulls\": 50578, \"sum_tokens_in_value_count_group\": 57, \"distinct_value_count\": 6196}, {\"percentile_ex_nulls\": 0.7951876521110535, \"percentile_inc_nulls\": 0.7951876521110535, \"value_count\": 56, \"group_name\": \"_last_name_\", \"total_non_null_rows\": 50578, \"total_rows_inc_nulls\": 50578, \"sum_tokens_in_value_count_group\": 280, \"distinct_value_count\": 6196}, {\"percentile_ex_nulls\": 0.791925311088562, \"percentile_inc_nulls\": 0.791925311088562, \"value_count\": 55, \"group_name\": \"_last_name_\", \"total_non_null_rows\": 50578, \"total_rows_inc_nulls\": 50578, \"sum_tokens_in_value_count_group\": 165, \"distinct_value_count\": 6196}, {\"percentile_ex_nulls\": 0.7897900342941284, \"percentile_inc_nulls\": 0.7897900342941284, \"value_count\": 54, \"group_name\": \"_last_name_\", \"total_non_null_rows\": 50578, \"total_rows_inc_nulls\": 50578, \"sum_tokens_in_value_count_group\": 108, \"distinct_value_count\": 6196}, {\"percentile_ex_nulls\": 0.7876942753791809, \"percentile_inc_nulls\": 0.7876942753791809, \"value_count\": 53, \"group_name\": \"_last_name_\", \"total_non_null_rows\": 50578, \"total_rows_inc_nulls\": 50578, \"sum_tokens_in_value_count_group\": 106, \"distinct_value_count\": 6196}, {\"percentile_ex_nulls\": 0.7825536727905273, \"percentile_inc_nulls\": 0.7825536727905273, \"value_count\": 52, \"group_name\": \"_last_name_\", \"total_non_null_rows\": 50578, \"total_rows_inc_nulls\": 50578, \"sum_tokens_in_value_count_group\": 260, \"distinct_value_count\": 6196}, {\"percentile_ex_nulls\": 0.7805370092391968, \"percentile_inc_nulls\": 0.7805370092391968, \"value_count\": 51, \"group_name\": \"_last_name_\", \"total_non_null_rows\": 50578, \"total_rows_inc_nulls\": 50578, \"sum_tokens_in_value_count_group\": 102, \"distinct_value_count\": 6196}, {\"percentile_ex_nulls\": 0.7765827178955078, \"percentile_inc_nulls\": 0.7765827178955078, \"value_count\": 50, \"group_name\": \"_last_name_\", \"total_non_null_rows\": 50578, \"total_rows_inc_nulls\": 50578, \"sum_tokens_in_value_count_group\": 200, \"distinct_value_count\": 6196}, {\"percentile_ex_nulls\": 0.7717387080192566, \"percentile_inc_nulls\": 0.7717387080192566, \"value_count\": 49, \"group_name\": \"_last_name_\", \"total_non_null_rows\": 50578, \"total_rows_inc_nulls\": 50578, \"sum_tokens_in_value_count_group\": 245, \"distinct_value_count\": 6196}, {\"percentile_ex_nulls\": 0.7660444974899292, \"percentile_inc_nulls\": 0.7660444974899292, \"value_count\": 48, \"group_name\": \"_last_name_\", \"total_non_null_rows\": 50578, \"total_rows_inc_nulls\": 50578, \"sum_tokens_in_value_count_group\": 288, \"distinct_value_count\": 6196}, {\"percentile_ex_nulls\": 0.7613982558250427, \"percentile_inc_nulls\": 0.7613982558250427, \"value_count\": 47, \"group_name\": \"_last_name_\", \"total_non_null_rows\": 50578, \"total_rows_inc_nulls\": 50578, \"sum_tokens_in_value_count_group\": 235, \"distinct_value_count\": 6196}, {\"percentile_ex_nulls\": 0.7541223764419556, \"percentile_inc_nulls\": 0.7541223764419556, \"value_count\": 46, \"group_name\": \"_last_name_\", \"total_non_null_rows\": 50578, \"total_rows_inc_nulls\": 50578, \"sum_tokens_in_value_count_group\": 368, \"distinct_value_count\": 6196}, {\"percentile_ex_nulls\": 0.7514532208442688, \"percentile_inc_nulls\": 0.7514532208442688, \"value_count\": 45, \"group_name\": \"_last_name_\", \"total_non_null_rows\": 50578, \"total_rows_inc_nulls\": 50578, \"sum_tokens_in_value_count_group\": 135, \"distinct_value_count\": 6196}, {\"percentile_ex_nulls\": 0.7462335824966431, \"percentile_inc_nulls\": 0.7462335824966431, \"value_count\": 44, \"group_name\": \"_last_name_\", \"total_non_null_rows\": 50578, \"total_rows_inc_nulls\": 50578, \"sum_tokens_in_value_count_group\": 264, \"distinct_value_count\": 6196}, {\"percentile_ex_nulls\": 0.7445331811904907, \"percentile_inc_nulls\": 0.7445331811904907, \"value_count\": 43, \"group_name\": \"_last_name_\", \"total_non_null_rows\": 50578, \"total_rows_inc_nulls\": 50578, \"sum_tokens_in_value_count_group\": 86, \"distinct_value_count\": 6196}, {\"percentile_ex_nulls\": 0.7395508289337158, \"percentile_inc_nulls\": 0.7395508289337158, \"value_count\": 42, \"group_name\": \"_last_name_\", \"total_non_null_rows\": 50578, \"total_rows_inc_nulls\": 50578, \"sum_tokens_in_value_count_group\": 252, \"distinct_value_count\": 6196}, {\"percentile_ex_nulls\": 0.7354976534843445, \"percentile_inc_nulls\": 0.7354976534843445, \"value_count\": 41, \"group_name\": \"_last_name_\", \"total_non_null_rows\": 50578, \"total_rows_inc_nulls\": 50578, \"sum_tokens_in_value_count_group\": 205, \"distinct_value_count\": 6196}, {\"percentile_ex_nulls\": 0.7291707992553711, \"percentile_inc_nulls\": 0.7291707992553711, \"value_count\": 40, \"group_name\": \"_last_name_\", \"total_non_null_rows\": 50578, \"total_rows_inc_nulls\": 50578, \"sum_tokens_in_value_count_group\": 320, \"distinct_value_count\": 6196}, {\"percentile_ex_nulls\": 0.7206888198852539, \"percentile_inc_nulls\": 0.7206888198852539, \"value_count\": 39, \"group_name\": \"_last_name_\", \"total_non_null_rows\": 50578, \"total_rows_inc_nulls\": 50578, \"sum_tokens_in_value_count_group\": 429, \"distinct_value_count\": 6196}, {\"percentile_ex_nulls\": 0.7169322967529297, \"percentile_inc_nulls\": 0.7169322967529297, \"value_count\": 38, \"group_name\": \"_last_name_\", \"total_non_null_rows\": 50578, \"total_rows_inc_nulls\": 50578, \"sum_tokens_in_value_count_group\": 190, \"distinct_value_count\": 6196}, {\"percentile_ex_nulls\": 0.7140060663223267, \"percentile_inc_nulls\": 0.7140060663223267, \"value_count\": 37, \"group_name\": \"_last_name_\", \"total_non_null_rows\": 50578, \"total_rows_inc_nulls\": 50578, \"sum_tokens_in_value_count_group\": 148, \"distinct_value_count\": 6196}, {\"percentile_ex_nulls\": 0.704753041267395, \"percentile_inc_nulls\": 0.704753041267395, \"value_count\": 36, \"group_name\": \"_last_name_\", \"total_non_null_rows\": 50578, \"total_rows_inc_nulls\": 50578, \"sum_tokens_in_value_count_group\": 468, \"distinct_value_count\": 6196}, {\"percentile_ex_nulls\": 0.698525071144104, \"percentile_inc_nulls\": 0.698525071144104, \"value_count\": 35, \"group_name\": \"_last_name_\", \"total_non_null_rows\": 50578, \"total_rows_inc_nulls\": 50578, \"sum_tokens_in_value_count_group\": 315, \"distinct_value_count\": 6196}, {\"percentile_ex_nulls\": 0.6938194036483765, \"percentile_inc_nulls\": 0.6938194036483765, \"value_count\": 34, \"group_name\": \"_last_name_\", \"total_non_null_rows\": 50578, \"total_rows_inc_nulls\": 50578, \"sum_tokens_in_value_count_group\": 238, \"distinct_value_count\": 6196}, {\"percentile_ex_nulls\": 0.6859899759292603, \"percentile_inc_nulls\": 0.6859899759292603, \"value_count\": 33, \"group_name\": \"_last_name_\", \"total_non_null_rows\": 50578, \"total_rows_inc_nulls\": 50578, \"sum_tokens_in_value_count_group\": 396, \"distinct_value_count\": 6196}, {\"percentile_ex_nulls\": 0.6771323680877686, \"percentile_inc_nulls\": 0.6771323680877686, \"value_count\": 32, \"group_name\": \"_last_name_\", \"total_non_null_rows\": 50578, \"total_rows_inc_nulls\": 50578, \"sum_tokens_in_value_count_group\": 448, \"distinct_value_count\": 6196}, {\"percentile_ex_nulls\": 0.6722290515899658, \"percentile_inc_nulls\": 0.6722290515899658, \"value_count\": 31, \"group_name\": \"_last_name_\", \"total_non_null_rows\": 50578, \"total_rows_inc_nulls\": 50578, \"sum_tokens_in_value_count_group\": 248, \"distinct_value_count\": 6196}, {\"percentile_ex_nulls\": 0.6657044887542725, \"percentile_inc_nulls\": 0.6657044887542725, \"value_count\": 30, \"group_name\": \"_last_name_\", \"total_non_null_rows\": 50578, \"total_rows_inc_nulls\": 50578, \"sum_tokens_in_value_count_group\": 330, \"distinct_value_count\": 6196}, {\"percentile_ex_nulls\": 0.659970760345459, \"percentile_inc_nulls\": 0.659970760345459, \"value_count\": 29, \"group_name\": \"_last_name_\", \"total_non_null_rows\": 50578, \"total_rows_inc_nulls\": 50578, \"sum_tokens_in_value_count_group\": 290, \"distinct_value_count\": 6196}, {\"percentile_ex_nulls\": 0.6560955047607422, \"percentile_inc_nulls\": 0.6560955047607422, \"value_count\": 28, \"group_name\": \"_last_name_\", \"total_non_null_rows\": 50578, \"total_rows_inc_nulls\": 50578, \"sum_tokens_in_value_count_group\": 196, \"distinct_value_count\": 6196}, {\"percentile_ex_nulls\": 0.6454189419746399, \"percentile_inc_nulls\": 0.6454189419746399, \"value_count\": 27, \"group_name\": \"_last_name_\", \"total_non_null_rows\": 50578, \"total_rows_inc_nulls\": 50578, \"sum_tokens_in_value_count_group\": 540, \"distinct_value_count\": 6196}, {\"percentile_ex_nulls\": 0.6382221579551697, \"percentile_inc_nulls\": 0.6382221579551697, \"value_count\": 26, \"group_name\": \"_last_name_\", \"total_non_null_rows\": 50578, \"total_rows_inc_nulls\": 50578, \"sum_tokens_in_value_count_group\": 364, \"distinct_value_count\": 6196}, {\"percentile_ex_nulls\": 0.6303135752677917, \"percentile_inc_nulls\": 0.6303135752677917, \"value_count\": 25, \"group_name\": \"_last_name_\", \"total_non_null_rows\": 50578, \"total_rows_inc_nulls\": 50578, \"sum_tokens_in_value_count_group\": 400, \"distinct_value_count\": 6196}, {\"percentile_ex_nulls\": 0.6212978363037109, \"percentile_inc_nulls\": 0.6212978363037109, \"value_count\": 24, \"group_name\": \"_last_name_\", \"total_non_null_rows\": 50578, \"total_rows_inc_nulls\": 50578, \"sum_tokens_in_value_count_group\": 456, \"distinct_value_count\": 6196}, {\"percentile_ex_nulls\": 0.6085649728775024, \"percentile_inc_nulls\": 0.6085649728775024, \"value_count\": 23, \"group_name\": \"_last_name_\", \"total_non_null_rows\": 50578, \"total_rows_inc_nulls\": 50578, \"sum_tokens_in_value_count_group\": 644, \"distinct_value_count\": 6196}, {\"percentile_ex_nulls\": 0.5959508419036865, \"percentile_inc_nulls\": 0.5959508419036865, \"value_count\": 22, \"group_name\": \"_last_name_\", \"total_non_null_rows\": 50578, \"total_rows_inc_nulls\": 50578, \"sum_tokens_in_value_count_group\": 638, \"distinct_value_count\": 6196}, {\"percentile_ex_nulls\": 0.584740400314331, \"percentile_inc_nulls\": 0.584740400314331, \"value_count\": 21, \"group_name\": \"_last_name_\", \"total_non_null_rows\": 50578, \"total_rows_inc_nulls\": 50578, \"sum_tokens_in_value_count_group\": 567, \"distinct_value_count\": 6196}, {\"percentile_ex_nulls\": 0.5701095461845398, \"percentile_inc_nulls\": 0.5701095461845398, \"value_count\": 20, \"group_name\": \"_last_name_\", \"total_non_null_rows\": 50578, \"total_rows_inc_nulls\": 50578, \"sum_tokens_in_value_count_group\": 740, \"distinct_value_count\": 6196}, {\"percentile_ex_nulls\": 0.5517023205757141, \"percentile_inc_nulls\": 0.5517023205757141, \"value_count\": 19, \"group_name\": \"_last_name_\", \"total_non_null_rows\": 50578, \"total_rows_inc_nulls\": 50578, \"sum_tokens_in_value_count_group\": 931, \"distinct_value_count\": 6196}, {\"percentile_ex_nulls\": 0.5353316068649292, \"percentile_inc_nulls\": 0.5353316068649292, \"value_count\": 18, \"group_name\": \"_last_name_\", \"total_non_null_rows\": 50578, \"total_rows_inc_nulls\": 50578, \"sum_tokens_in_value_count_group\": 828, \"distinct_value_count\": 6196}, {\"percentile_ex_nulls\": 0.5007117986679077, \"percentile_inc_nulls\": 0.5007117986679077, \"value_count\": 17, \"group_name\": \"_last_name_\", \"total_non_null_rows\": 50578, \"total_rows_inc_nulls\": 50578, \"sum_tokens_in_value_count_group\": 1751, \"distinct_value_count\": 6196}, {\"percentile_ex_nulls\": 0.4722409248352051, \"percentile_inc_nulls\": 0.4722409248352051, \"value_count\": 16, \"group_name\": \"_last_name_\", \"total_non_null_rows\": 50578, \"total_rows_inc_nulls\": 50578, \"sum_tokens_in_value_count_group\": 1440, \"distinct_value_count\": 6196}, {\"percentile_ex_nulls\": 0.43694889545440674, \"percentile_inc_nulls\": 0.43694889545440674, \"value_count\": 15, \"group_name\": \"_last_name_\", \"total_non_null_rows\": 50578, \"total_rows_inc_nulls\": 50578, \"sum_tokens_in_value_count_group\": 1785, \"distinct_value_count\": 6196}, {\"percentile_ex_nulls\": 0.40871524810791016, \"percentile_inc_nulls\": 0.40871524810791016, \"value_count\": 14, \"group_name\": \"_last_name_\", \"total_non_null_rows\": 50578, \"total_rows_inc_nulls\": 50578, \"sum_tokens_in_value_count_group\": 1428, \"distinct_value_count\": 6196}, {\"percentile_ex_nulls\": 0.374273419380188, \"percentile_inc_nulls\": 0.374273419380188, \"value_count\": 13, \"group_name\": \"_last_name_\", \"total_non_null_rows\": 50578, \"total_rows_inc_nulls\": 50578, \"sum_tokens_in_value_count_group\": 1742, \"distinct_value_count\": 6196}, {\"percentile_ex_nulls\": 0.33393967151641846, \"percentile_inc_nulls\": 0.33393967151641846, \"value_count\": 12, \"group_name\": \"_last_name_\", \"total_non_null_rows\": 50578, \"total_rows_inc_nulls\": 50578, \"sum_tokens_in_value_count_group\": 2040, \"distinct_value_count\": 6196}, {\"percentile_ex_nulls\": 0.297402024269104, \"percentile_inc_nulls\": 0.297402024269104, \"value_count\": 11, \"group_name\": \"_last_name_\", \"total_non_null_rows\": 50578, \"total_rows_inc_nulls\": 50578, \"sum_tokens_in_value_count_group\": 1848, \"distinct_value_count\": 6196}, {\"percentile_ex_nulls\": 0.2649768590927124, \"percentile_inc_nulls\": 0.2649768590927124, \"value_count\": 10, \"group_name\": \"_last_name_\", \"total_non_null_rows\": 50578, \"total_rows_inc_nulls\": 50578, \"sum_tokens_in_value_count_group\": 1640, \"distinct_value_count\": 6196}, {\"percentile_ex_nulls\": 0.23241329193115234, \"percentile_inc_nulls\": 0.23241329193115234, \"value_count\": 9, \"group_name\": \"_last_name_\", \"total_non_null_rows\": 50578, \"total_rows_inc_nulls\": 50578, \"sum_tokens_in_value_count_group\": 1647, \"distinct_value_count\": 6196}, {\"percentile_ex_nulls\": 0.20125353336334229, \"percentile_inc_nulls\": 0.20125353336334229, \"value_count\": 8, \"group_name\": \"_last_name_\", \"total_non_null_rows\": 50578, \"total_rows_inc_nulls\": 50578, \"sum_tokens_in_value_count_group\": 1576, \"distinct_value_count\": 6196}, {\"percentile_ex_nulls\": 0.1746807098388672, \"percentile_inc_nulls\": 0.1746807098388672, \"value_count\": 7, \"group_name\": \"_last_name_\", \"total_non_null_rows\": 50578, \"total_rows_inc_nulls\": 50578, \"sum_tokens_in_value_count_group\": 1344, \"distinct_value_count\": 6196}, {\"percentile_ex_nulls\": 0.1435999870300293, \"percentile_inc_nulls\": 0.1435999870300293, \"value_count\": 6, \"group_name\": \"_last_name_\", \"total_non_null_rows\": 50578, \"total_rows_inc_nulls\": 50578, \"sum_tokens_in_value_count_group\": 1572, \"distinct_value_count\": 6196}, {\"percentile_ex_nulls\": 0.11710625886917114, \"percentile_inc_nulls\": 0.11710625886917114, \"value_count\": 5, \"group_name\": \"_last_name_\", \"total_non_null_rows\": 50578, \"total_rows_inc_nulls\": 50578, \"sum_tokens_in_value_count_group\": 1340, \"distinct_value_count\": 6196}, {\"percentile_ex_nulls\": 0.08990073204040527, \"percentile_inc_nulls\": 0.08990073204040527, \"value_count\": 4, \"group_name\": \"_last_name_\", \"total_non_null_rows\": 50578, \"total_rows_inc_nulls\": 50578, \"sum_tokens_in_value_count_group\": 1376, \"distinct_value_count\": 6196}, {\"percentile_ex_nulls\": 0.06309068202972412, \"percentile_inc_nulls\": 0.06309068202972412, \"value_count\": 3, \"group_name\": \"_last_name_\", \"total_non_null_rows\": 50578, \"total_rows_inc_nulls\": 50578, \"sum_tokens_in_value_count_group\": 1356, \"distinct_value_count\": 6196}, {\"percentile_ex_nulls\": 0.04422873258590698, \"percentile_inc_nulls\": 0.04422873258590698, \"value_count\": 2, \"group_name\": \"_last_name_\", \"total_non_null_rows\": 50578, \"total_rows_inc_nulls\": 50578, \"sum_tokens_in_value_count_group\": 954, \"distinct_value_count\": 6196}, {\"percentile_ex_nulls\": 0.0, \"percentile_inc_nulls\": 0.0, \"value_count\": 1, \"group_name\": \"_last_name_\", \"total_non_null_rows\": 50578, \"total_rows_inc_nulls\": 50578, \"sum_tokens_in_value_count_group\": 2237, \"distinct_value_count\": 6196}, {\"percentile_ex_nulls\": 1.0, \"percentile_inc_nulls\": 1.0, \"value_count\": 4515, \"group_name\": \"_last_name_\", \"total_non_null_rows\": 50578, \"total_rows_inc_nulls\": 50578, \"sum_tokens_in_value_count_group\": 4515, \"distinct_value_count\": 6196}]}, \"encoding\": {\"tooltip\": [{\"field\": \"value_count\", \"type\": \"quantitative\"}, {\"field\": \"percentile_ex_nulls\", \"type\": \"quantitative\"}, {\"field\": \"percentile_inc_nulls\", \"type\": \"quantitative\"}, {\"field\": \"total_non_null_rows\", \"type\": \"quantitative\"}, {\"field\": \"total_rows_inc_nulls\", \"type\": \"quantitative\"}], \"x\": {\"field\": \"percentile_ex_nulls\", \"sort\": \"descending\", \"title\": \"Percentile\", \"type\": \"quantitative\"}, \"y\": {\"field\": \"value_count\", \"title\": \"Count of values\", \"type\": \"quantitative\"}}, \"title\": {\"text\": \"Distribution of counts of values in column \\\"last_name\\\"\", \"subtitle\": \"In this col, 0 values (0.0%) are null and there are 6196 distinct values\"}}, {\"mark\": \"bar\", \"data\": {\"values\": [{\"value_count\": 4515, \"group_name\": \"_last_name_\", \"value\": \"none\", \"total_non_null_rows\": 50578, \"total_rows_inc_nulls\": 50578, \"distinct_value_count\": 6196}, {\"value_count\": 615, \"group_name\": \"_last_name_\", \"value\": \"baronet\", \"total_non_null_rows\": 50578, \"total_rows_inc_nulls\": 50578, \"distinct_value_count\": 6196}, {\"value_count\": 202, \"group_name\": \"_last_name_\", \"value\": \"smith\", \"total_non_null_rows\": 50578, \"total_rows_inc_nulls\": 50578, \"distinct_value_count\": 6196}, {\"value_count\": 129, \"group_name\": \"_last_name_\", \"value\": \"jones\", \"total_non_null_rows\": 50578, \"total_rows_inc_nulls\": 50578, \"distinct_value_count\": 6196}, {\"value_count\": 119, \"group_name\": \"_last_name_\", \"value\": \"robinson\", \"total_non_null_rows\": 50578, \"total_rows_inc_nulls\": 50578, \"distinct_value_count\": 6196}, {\"value_count\": 117, \"group_name\": \"_last_name_\", \"value\": \"taylor\", \"total_non_null_rows\": 50578, \"total_rows_inc_nulls\": 50578, \"distinct_value_count\": 6196}, {\"value_count\": 116, \"group_name\": \"_last_name_\", \"value\": \"williams\", \"total_non_null_rows\": 50578, \"total_rows_inc_nulls\": 50578, \"distinct_value_count\": 6196}, {\"value_count\": 115, \"group_name\": \"_last_name_\", \"value\": \"wilson\", \"total_non_null_rows\": 50578, \"total_rows_inc_nulls\": 50578, \"distinct_value_count\": 6196}, {\"value_count\": 114, \"group_name\": \"_last_name_\", \"value\": \"thompson\", \"total_non_null_rows\": 50578, \"total_rows_inc_nulls\": 50578, \"distinct_value_count\": 6196}, {\"value_count\": 113, \"group_name\": \"_last_name_\", \"value\": \"murray\", \"total_non_null_rows\": 50578, \"total_rows_inc_nulls\": 50578, \"distinct_value_count\": 6196}]}, \"encoding\": {\"tooltip\": [{\"field\": \"value\", \"type\": \"nominal\"}, {\"field\": \"value_count\", \"type\": \"quantitative\"}, {\"field\": \"total_non_null_rows\", \"type\": \"quantitative\"}, {\"field\": \"total_rows_inc_nulls\", \"type\": \"quantitative\"}], \"x\": {\"field\": \"value\", \"sort\": \"-y\", \"title\": null, \"type\": \"nominal\"}, \"y\": {\"field\": \"value_count\", \"title\": \"Value count\", \"type\": \"quantitative\"}}, \"title\": \"Top 10 values by value count\"}, {\"mark\": \"bar\", \"data\": {\"values\": [{\"value_count\": 1, \"group_name\": \"_last_name_\", \"value\": \"fairrield\", \"total_non_null_rows\": 50578, \"total_rows_inc_nulls\": 50578, \"distinct_value_count\": 6196}, {\"value_count\": 1, \"group_name\": \"_last_name_\", \"value\": \"bramwelk\", \"total_non_null_rows\": 50578, \"total_rows_inc_nulls\": 50578, \"distinct_value_count\": 6196}, {\"value_count\": 1, \"group_name\": \"_last_name_\", \"value\": \"sewwll\", \"total_non_null_rows\": 50578, \"total_rows_inc_nulls\": 50578, \"distinct_value_count\": 6196}, {\"value_count\": 1, \"group_name\": \"_last_name_\", \"value\": \"vradshaw\", \"total_non_null_rows\": 50578, \"total_rows_inc_nulls\": 50578, \"distinct_value_count\": 6196}, {\"value_count\": 1, \"group_name\": \"_last_name_\", \"value\": \"javo\", \"total_non_null_rows\": 50578, \"total_rows_inc_nulls\": 50578, \"distinct_value_count\": 6196}]}, \"encoding\": {\"tooltip\": [{\"field\": \"value\", \"type\": \"nominal\"}, {\"field\": \"value_count\", \"type\": \"quantitative\"}, {\"field\": \"total_non_null_rows\", \"type\": \"quantitative\"}, {\"field\": \"total_rows_inc_nulls\", \"type\": \"quantitative\"}], \"x\": {\"field\": \"value\", \"sort\": \"-y\", \"title\": null, \"type\": \"nominal\"}, \"y\": {\"field\": \"value_count\", \"scale\": {\"domain\": [0, 4515]}, \"title\": \"Value count\", \"type\": \"quantitative\"}}, \"title\": \"Bottom 5 values by value count\"}]}, {\"hconcat\": [{\"mark\": {\"type\": \"line\", \"interpolate\": \"step-before\"}, \"data\": {\"values\": [{\"percentile_ex_nulls\": 0.9588951468467712, \"percentile_inc_nulls\": 0.9588951468467712, \"value_count\": 2079, \"group_name\": \"_street_\", \"total_non_null_rows\": 50578, \"total_rows_inc_nulls\": 50578, \"sum_tokens_in_value_count_group\": 2079, \"distinct_value_count\": 35364}, {\"percentile_ex_nulls\": 0.9455494284629822, \"percentile_inc_nulls\": 0.9455494284629822, \"value_count\": 675, \"group_name\": \"_street_\", \"total_non_null_rows\": 50578, \"total_rows_inc_nulls\": 50578, \"sum_tokens_in_value_count_group\": 675, \"distinct_value_count\": 35364}, {\"percentile_ex_nulls\": 0.9412195086479187, \"percentile_inc_nulls\": 0.9412195086479187, \"value_count\": 219, \"group_name\": \"_street_\", \"total_non_null_rows\": 50578, \"total_rows_inc_nulls\": 50578, \"sum_tokens_in_value_count_group\": 219, \"distinct_value_count\": 35364}, {\"percentile_ex_nulls\": 0.938036322593689, \"percentile_inc_nulls\": 0.938036322593689, \"value_count\": 161, \"group_name\": \"_street_\", \"total_non_null_rows\": 50578, \"total_rows_inc_nulls\": 50578, \"sum_tokens_in_value_count_group\": 161, \"distinct_value_count\": 35364}, {\"percentile_ex_nulls\": 0.9352287650108337, \"percentile_inc_nulls\": 0.9352287650108337, \"value_count\": 142, \"group_name\": \"_street_\", \"total_non_null_rows\": 50578, \"total_rows_inc_nulls\": 50578, \"sum_tokens_in_value_count_group\": 142, \"distinct_value_count\": 35364}, {\"percentile_ex_nulls\": 0.932440996170044, \"percentile_inc_nulls\": 0.932440996170044, \"value_count\": 141, \"group_name\": \"_street_\", \"total_non_null_rows\": 50578, \"total_rows_inc_nulls\": 50578, \"sum_tokens_in_value_count_group\": 141, \"distinct_value_count\": 35364}, {\"percentile_ex_nulls\": 0.9296927452087402, \"percentile_inc_nulls\": 0.9296927452087402, \"value_count\": 139, \"group_name\": \"_street_\", \"total_non_null_rows\": 50578, \"total_rows_inc_nulls\": 50578, \"sum_tokens_in_value_count_group\": 139, \"distinct_value_count\": 35364}, {\"percentile_ex_nulls\": 0.9274387955665588, \"percentile_inc_nulls\": 0.9274387955665588, \"value_count\": 114, \"group_name\": \"_street_\", \"total_non_null_rows\": 50578, \"total_rows_inc_nulls\": 50578, \"sum_tokens_in_value_count_group\": 114, \"distinct_value_count\": 35364}, {\"percentile_ex_nulls\": 0.9255209565162659, \"percentile_inc_nulls\": 0.9255209565162659, \"value_count\": 97, \"group_name\": \"_street_\", \"total_non_null_rows\": 50578, \"total_rows_inc_nulls\": 50578, \"sum_tokens_in_value_count_group\": 97, \"distinct_value_count\": 35364}, {\"percentile_ex_nulls\": 0.9237020015716553, \"percentile_inc_nulls\": 0.9237020015716553, \"value_count\": 92, \"group_name\": \"_street_\", \"total_non_null_rows\": 50578, \"total_rows_inc_nulls\": 50578, \"sum_tokens_in_value_count_group\": 92, \"distinct_value_count\": 35364}, {\"percentile_ex_nulls\": 0.9202617406845093, \"percentile_inc_nulls\": 0.9202617406845093, \"value_count\": 87, \"group_name\": \"_street_\", \"total_non_null_rows\": 50578, \"total_rows_inc_nulls\": 50578, \"sum_tokens_in_value_count_group\": 174, \"distinct_value_count\": 35364}, {\"percentile_ex_nulls\": 0.918818473815918, \"percentile_inc_nulls\": 0.918818473815918, \"value_count\": 73, \"group_name\": \"_street_\", \"total_non_null_rows\": 50578, \"total_rows_inc_nulls\": 50578, \"sum_tokens_in_value_count_group\": 73, \"distinct_value_count\": 35364}, {\"percentile_ex_nulls\": 0.9174344539642334, \"percentile_inc_nulls\": 0.9174344539642334, \"value_count\": 70, \"group_name\": \"_street_\", \"total_non_null_rows\": 50578, \"total_rows_inc_nulls\": 50578, \"sum_tokens_in_value_count_group\": 70, \"distinct_value_count\": 35364}, {\"percentile_ex_nulls\": 0.9161691069602966, \"percentile_inc_nulls\": 0.9161691069602966, \"value_count\": 64, \"group_name\": \"_street_\", \"total_non_null_rows\": 50578, \"total_rows_inc_nulls\": 50578, \"sum_tokens_in_value_count_group\": 64, \"distinct_value_count\": 35364}, {\"percentile_ex_nulls\": 0.9149234890937805, \"percentile_inc_nulls\": 0.9149234890937805, \"value_count\": 63, \"group_name\": \"_street_\", \"total_non_null_rows\": 50578, \"total_rows_inc_nulls\": 50578, \"sum_tokens_in_value_count_group\": 63, \"distinct_value_count\": 35364}, {\"percentile_ex_nulls\": 0.9137371778488159, \"percentile_inc_nulls\": 0.9137371778488159, \"value_count\": 60, \"group_name\": \"_street_\", \"total_non_null_rows\": 50578, \"total_rows_inc_nulls\": 50578, \"sum_tokens_in_value_count_group\": 60, \"distinct_value_count\": 35364}, {\"percentile_ex_nulls\": 0.9114041924476624, \"percentile_inc_nulls\": 0.9114041924476624, \"value_count\": 59, \"group_name\": \"_street_\", \"total_non_null_rows\": 50578, \"total_rows_inc_nulls\": 50578, \"sum_tokens_in_value_count_group\": 118, \"distinct_value_count\": 35364}, {\"percentile_ex_nulls\": 0.9079639315605164, \"percentile_inc_nulls\": 0.9079639315605164, \"value_count\": 58, \"group_name\": \"_street_\", \"total_non_null_rows\": 50578, \"total_rows_inc_nulls\": 50578, \"sum_tokens_in_value_count_group\": 174, \"distinct_value_count\": 35364}, {\"percentile_ex_nulls\": 0.905709981918335, \"percentile_inc_nulls\": 0.905709981918335, \"value_count\": 57, \"group_name\": \"_street_\", \"total_non_null_rows\": 50578, \"total_rows_inc_nulls\": 50578, \"sum_tokens_in_value_count_group\": 114, \"distinct_value_count\": 35364}, {\"percentile_ex_nulls\": 0.9035747051239014, \"percentile_inc_nulls\": 0.9035747051239014, \"value_count\": 54, \"group_name\": \"_street_\", \"total_non_null_rows\": 50578, \"total_rows_inc_nulls\": 50578, \"sum_tokens_in_value_count_group\": 108, \"distinct_value_count\": 35364}, {\"percentile_ex_nulls\": 0.9025267958641052, \"percentile_inc_nulls\": 0.9025267958641052, \"value_count\": 53, \"group_name\": \"_street_\", \"total_non_null_rows\": 50578, \"total_rows_inc_nulls\": 50578, \"sum_tokens_in_value_count_group\": 53, \"distinct_value_count\": 35364}, {\"percentile_ex_nulls\": 0.9014986753463745, \"percentile_inc_nulls\": 0.9014986753463745, \"value_count\": 52, \"group_name\": \"_street_\", \"total_non_null_rows\": 50578, \"total_rows_inc_nulls\": 50578, \"sum_tokens_in_value_count_group\": 52, \"distinct_value_count\": 35364}, {\"percentile_ex_nulls\": 0.9005100727081299, \"percentile_inc_nulls\": 0.9005100727081299, \"value_count\": 50, \"group_name\": \"_street_\", \"total_non_null_rows\": 50578, \"total_rows_inc_nulls\": 50578, \"sum_tokens_in_value_count_group\": 50, \"distinct_value_count\": 35364}, {\"percentile_ex_nulls\": 0.8986120223999023, \"percentile_inc_nulls\": 0.8986120223999023, \"value_count\": 48, \"group_name\": \"_street_\", \"total_non_null_rows\": 50578, \"total_rows_inc_nulls\": 50578, \"sum_tokens_in_value_count_group\": 96, \"distinct_value_count\": 35364}, {\"percentile_ex_nulls\": 0.8958242535591125, \"percentile_inc_nulls\": 0.8958242535591125, \"value_count\": 47, \"group_name\": \"_street_\", \"total_non_null_rows\": 50578, \"total_rows_inc_nulls\": 50578, \"sum_tokens_in_value_count_group\": 141, \"distinct_value_count\": 35364}, {\"percentile_ex_nulls\": 0.8949148058891296, \"percentile_inc_nulls\": 0.8949148058891296, \"value_count\": 46, \"group_name\": \"_street_\", \"total_non_null_rows\": 50578, \"total_rows_inc_nulls\": 50578, \"sum_tokens_in_value_count_group\": 46, \"distinct_value_count\": 35364}, {\"percentile_ex_nulls\": 0.8931353688240051, \"percentile_inc_nulls\": 0.8931353688240051, \"value_count\": 45, \"group_name\": \"_street_\", \"total_non_null_rows\": 50578, \"total_rows_inc_nulls\": 50578, \"sum_tokens_in_value_count_group\": 90, \"distinct_value_count\": 35364}, {\"percentile_ex_nulls\": 0.8905255198478699, \"percentile_inc_nulls\": 0.8905255198478699, \"value_count\": 44, \"group_name\": \"_street_\", \"total_non_null_rows\": 50578, \"total_rows_inc_nulls\": 50578, \"sum_tokens_in_value_count_group\": 132, \"distinct_value_count\": 35364}, {\"percentile_ex_nulls\": 0.8888251781463623, \"percentile_inc_nulls\": 0.8888251781463623, \"value_count\": 43, \"group_name\": \"_street_\", \"total_non_null_rows\": 50578, \"total_rows_inc_nulls\": 50578, \"sum_tokens_in_value_count_group\": 86, \"distinct_value_count\": 35364}, {\"percentile_ex_nulls\": 0.8871643543243408, \"percentile_inc_nulls\": 0.8871643543243408, \"value_count\": 42, \"group_name\": \"_street_\", \"total_non_null_rows\": 50578, \"total_rows_inc_nulls\": 50578, \"sum_tokens_in_value_count_group\": 84, \"distinct_value_count\": 35364}, {\"percentile_ex_nulls\": 0.882419228553772, \"percentile_inc_nulls\": 0.882419228553772, \"value_count\": 40, \"group_name\": \"_street_\", \"total_non_null_rows\": 50578, \"total_rows_inc_nulls\": 50578, \"sum_tokens_in_value_count_group\": 240, \"distinct_value_count\": 35364}, {\"percentile_ex_nulls\": 0.8801059722900391, \"percentile_inc_nulls\": 0.8801059722900391, \"value_count\": 39, \"group_name\": \"_street_\", \"total_non_null_rows\": 50578, \"total_rows_inc_nulls\": 50578, \"sum_tokens_in_value_count_group\": 117, \"distinct_value_count\": 35364}, {\"percentile_ex_nulls\": 0.8771007061004639, \"percentile_inc_nulls\": 0.8771007061004639, \"value_count\": 38, \"group_name\": \"_street_\", \"total_non_null_rows\": 50578, \"total_rows_inc_nulls\": 50578, \"sum_tokens_in_value_count_group\": 152, \"distinct_value_count\": 35364}, {\"percentile_ex_nulls\": 0.8734430074691772, \"percentile_inc_nulls\": 0.8734430074691772, \"value_count\": 37, \"group_name\": \"_street_\", \"total_non_null_rows\": 50578, \"total_rows_inc_nulls\": 50578, \"sum_tokens_in_value_count_group\": 185, \"distinct_value_count\": 35364}, {\"percentile_ex_nulls\": 0.8691723346710205, \"percentile_inc_nulls\": 0.8691723346710205, \"value_count\": 36, \"group_name\": \"_street_\", \"total_non_null_rows\": 50578, \"total_rows_inc_nulls\": 50578, \"sum_tokens_in_value_count_group\": 216, \"distinct_value_count\": 35364}, {\"percentile_ex_nulls\": 0.8664043545722961, \"percentile_inc_nulls\": 0.8664043545722961, \"value_count\": 35, \"group_name\": \"_street_\", \"total_non_null_rows\": 50578, \"total_rows_inc_nulls\": 50578, \"sum_tokens_in_value_count_group\": 140, \"distinct_value_count\": 35364}, {\"percentile_ex_nulls\": 0.8630431890487671, \"percentile_inc_nulls\": 0.8630431890487671, \"value_count\": 34, \"group_name\": \"_street_\", \"total_non_null_rows\": 50578, \"total_rows_inc_nulls\": 50578, \"sum_tokens_in_value_count_group\": 170, \"distinct_value_count\": 35364}, {\"percentile_ex_nulls\": 0.8597809076309204, \"percentile_inc_nulls\": 0.8597809076309204, \"value_count\": 33, \"group_name\": \"_street_\", \"total_non_null_rows\": 50578, \"total_rows_inc_nulls\": 50578, \"sum_tokens_in_value_count_group\": 165, \"distinct_value_count\": 35364}, {\"percentile_ex_nulls\": 0.8572502136230469, \"percentile_inc_nulls\": 0.8572502136230469, \"value_count\": 32, \"group_name\": \"_street_\", \"total_non_null_rows\": 50578, \"total_rows_inc_nulls\": 50578, \"sum_tokens_in_value_count_group\": 128, \"distinct_value_count\": 35364}, {\"percentile_ex_nulls\": 0.8535727262496948, \"percentile_inc_nulls\": 0.8535727262496948, \"value_count\": 31, \"group_name\": \"_street_\", \"total_non_null_rows\": 50578, \"total_rows_inc_nulls\": 50578, \"sum_tokens_in_value_count_group\": 186, \"distinct_value_count\": 35364}, {\"percentile_ex_nulls\": 0.8517932891845703, \"percentile_inc_nulls\": 0.8517932891845703, \"value_count\": 30, \"group_name\": \"_street_\", \"total_non_null_rows\": 50578, \"total_rows_inc_nulls\": 50578, \"sum_tokens_in_value_count_group\": 90, \"distinct_value_count\": 35364}, {\"percentile_ex_nulls\": 0.8466329574584961, \"percentile_inc_nulls\": 0.8466329574584961, \"value_count\": 29, \"group_name\": \"_street_\", \"total_non_null_rows\": 50578, \"total_rows_inc_nulls\": 50578, \"sum_tokens_in_value_count_group\": 261, \"distinct_value_count\": 35364}, {\"percentile_ex_nulls\": 0.8444185256958008, \"percentile_inc_nulls\": 0.8444185256958008, \"value_count\": 28, \"group_name\": \"_street_\", \"total_non_null_rows\": 50578, \"total_rows_inc_nulls\": 50578, \"sum_tokens_in_value_count_group\": 112, \"distinct_value_count\": 35364}, {\"percentile_ex_nulls\": 0.8428170680999756, \"percentile_inc_nulls\": 0.8428170680999756, \"value_count\": 27, \"group_name\": \"_street_\", \"total_non_null_rows\": 50578, \"total_rows_inc_nulls\": 50578, \"sum_tokens_in_value_count_group\": 81, \"distinct_value_count\": 35364}, {\"percentile_ex_nulls\": 0.8371623754501343, \"percentile_inc_nulls\": 0.8371623754501343, \"value_count\": 26, \"group_name\": \"_street_\", \"total_non_null_rows\": 50578, \"total_rows_inc_nulls\": 50578, \"sum_tokens_in_value_count_group\": 286, \"distinct_value_count\": 35364}, {\"percentile_ex_nulls\": 0.8322195410728455, \"percentile_inc_nulls\": 0.8322195410728455, \"value_count\": 25, \"group_name\": \"_street_\", \"total_non_null_rows\": 50578, \"total_rows_inc_nulls\": 50578, \"sum_tokens_in_value_count_group\": 250, \"distinct_value_count\": 35364}, {\"percentile_ex_nulls\": 0.8293724656105042, \"percentile_inc_nulls\": 0.8293724656105042, \"value_count\": 24, \"group_name\": \"_street_\", \"total_non_null_rows\": 50578, \"total_rows_inc_nulls\": 50578, \"sum_tokens_in_value_count_group\": 144, \"distinct_value_count\": 35364}, {\"percentile_ex_nulls\": 0.8266440033912659, \"percentile_inc_nulls\": 0.8266440033912659, \"value_count\": 23, \"group_name\": \"_street_\", \"total_non_null_rows\": 50578, \"total_rows_inc_nulls\": 50578, \"sum_tokens_in_value_count_group\": 138, \"distinct_value_count\": 35364}, {\"percentile_ex_nulls\": 0.8214243650436401, \"percentile_inc_nulls\": 0.8214243650436401, \"value_count\": 22, \"group_name\": \"_street_\", \"total_non_null_rows\": 50578, \"total_rows_inc_nulls\": 50578, \"sum_tokens_in_value_count_group\": 264, \"distinct_value_count\": 35364}, {\"percentile_ex_nulls\": 0.8164419531822205, \"percentile_inc_nulls\": 0.8164419531822205, \"value_count\": 21, \"group_name\": \"_street_\", \"total_non_null_rows\": 50578, \"total_rows_inc_nulls\": 50578, \"sum_tokens_in_value_count_group\": 252, \"distinct_value_count\": 35364}, {\"percentile_ex_nulls\": 0.8101150989532471, \"percentile_inc_nulls\": 0.8101150989532471, \"value_count\": 20, \"group_name\": \"_street_\", \"total_non_null_rows\": 50578, \"total_rows_inc_nulls\": 50578, \"sum_tokens_in_value_count_group\": 320, \"distinct_value_count\": 35364}, {\"percentile_ex_nulls\": 0.8029775619506836, \"percentile_inc_nulls\": 0.8029775619506836, \"value_count\": 19, \"group_name\": \"_street_\", \"total_non_null_rows\": 50578, \"total_rows_inc_nulls\": 50578, \"sum_tokens_in_value_count_group\": 361, \"distinct_value_count\": 35364}, {\"percentile_ex_nulls\": 0.8015540242195129, \"percentile_inc_nulls\": 0.8015540242195129, \"value_count\": 18, \"group_name\": \"_street_\", \"total_non_null_rows\": 50578, \"total_rows_inc_nulls\": 50578, \"sum_tokens_in_value_count_group\": 72, \"distinct_value_count\": 35364}, {\"percentile_ex_nulls\": 0.7968484163284302, \"percentile_inc_nulls\": 0.7968484163284302, \"value_count\": 17, \"group_name\": \"_street_\", \"total_non_null_rows\": 50578, \"total_rows_inc_nulls\": 50578, \"sum_tokens_in_value_count_group\": 238, \"distinct_value_count\": 35364}, {\"percentile_ex_nulls\": 0.7943177223205566, \"percentile_inc_nulls\": 0.7943177223205566, \"value_count\": 16, \"group_name\": \"_street_\", \"total_non_null_rows\": 50578, \"total_rows_inc_nulls\": 50578, \"sum_tokens_in_value_count_group\": 128, \"distinct_value_count\": 35364}, {\"percentile_ex_nulls\": 0.7898691296577454, \"percentile_inc_nulls\": 0.7898691296577454, \"value_count\": 15, \"group_name\": \"_street_\", \"total_non_null_rows\": 50578, \"total_rows_inc_nulls\": 50578, \"sum_tokens_in_value_count_group\": 225, \"distinct_value_count\": 35364}, {\"percentile_ex_nulls\": 0.7862707376480103, \"percentile_inc_nulls\": 0.7862707376480103, \"value_count\": 14, \"group_name\": \"_street_\", \"total_non_null_rows\": 50578, \"total_rows_inc_nulls\": 50578, \"sum_tokens_in_value_count_group\": 182, \"distinct_value_count\": 35364}, {\"percentile_ex_nulls\": 0.780616044998169, \"percentile_inc_nulls\": 0.780616044998169, \"value_count\": 13, \"group_name\": \"_street_\", \"total_non_null_rows\": 50578, \"total_rows_inc_nulls\": 50578, \"sum_tokens_in_value_count_group\": 286, \"distinct_value_count\": 35364}, {\"percentile_ex_nulls\": 0.7768199443817139, \"percentile_inc_nulls\": 0.7768199443817139, \"value_count\": 12, \"group_name\": \"_street_\", \"total_non_null_rows\": 50578, \"total_rows_inc_nulls\": 50578, \"sum_tokens_in_value_count_group\": 192, \"distinct_value_count\": 35364}, {\"percentile_ex_nulls\": 0.7718178033828735, \"percentile_inc_nulls\": 0.7718178033828735, \"value_count\": 11, \"group_name\": \"_street_\", \"total_non_null_rows\": 50578, \"total_rows_inc_nulls\": 50578, \"sum_tokens_in_value_count_group\": 253, \"distinct_value_count\": 35364}, {\"percentile_ex_nulls\": 0.7682589292526245, \"percentile_inc_nulls\": 0.7682589292526245, \"value_count\": 10, \"group_name\": \"_street_\", \"total_non_null_rows\": 50578, \"total_rows_inc_nulls\": 50578, \"sum_tokens_in_value_count_group\": 180, \"distinct_value_count\": 35364}, {\"percentile_ex_nulls\": 0.7625647783279419, \"percentile_inc_nulls\": 0.7625647783279419, \"value_count\": 9, \"group_name\": \"_street_\", \"total_non_null_rows\": 50578, \"total_rows_inc_nulls\": 50578, \"sum_tokens_in_value_count_group\": 288, \"distinct_value_count\": 35364}, {\"percentile_ex_nulls\": 0.7560797333717346, \"percentile_inc_nulls\": 0.7560797333717346, \"value_count\": 8, \"group_name\": \"_street_\", \"total_non_null_rows\": 50578, \"total_rows_inc_nulls\": 50578, \"sum_tokens_in_value_count_group\": 328, \"distinct_value_count\": 35364}, {\"percentile_ex_nulls\": 0.7490212917327881, \"percentile_inc_nulls\": 0.7490212917327881, \"value_count\": 7, \"group_name\": \"_street_\", \"total_non_null_rows\": 50578, \"total_rows_inc_nulls\": 50578, \"sum_tokens_in_value_count_group\": 357, \"distinct_value_count\": 35364}, {\"percentile_ex_nulls\": 0.7411918640136719, \"percentile_inc_nulls\": 0.7411918640136719, \"value_count\": 6, \"group_name\": \"_street_\", \"total_non_null_rows\": 50578, \"total_rows_inc_nulls\": 50578, \"sum_tokens_in_value_count_group\": 396, \"distinct_value_count\": 35364}, {\"percentile_ex_nulls\": 0.7285380959510803, \"percentile_inc_nulls\": 0.7285380959510803, \"value_count\": 5, \"group_name\": \"_street_\", \"total_non_null_rows\": 50578, \"total_rows_inc_nulls\": 50578, \"sum_tokens_in_value_count_group\": 640, \"distinct_value_count\": 35364}, {\"percentile_ex_nulls\": 0.7150934934616089, \"percentile_inc_nulls\": 0.7150934934616089, \"value_count\": 4, \"group_name\": \"_street_\", \"total_non_null_rows\": 50578, \"total_rows_inc_nulls\": 50578, \"sum_tokens_in_value_count_group\": 680, \"distinct_value_count\": 35364}, {\"percentile_ex_nulls\": 0.6940369606018066, \"percentile_inc_nulls\": 0.6940369606018066, \"value_count\": 3, \"group_name\": \"_street_\", \"total_non_null_rows\": 50578, \"total_rows_inc_nulls\": 50578, \"sum_tokens_in_value_count_group\": 1065, \"distinct_value_count\": 35364}, {\"percentile_ex_nulls\": 0.6577365398406982, \"percentile_inc_nulls\": 0.6577365398406982, \"value_count\": 2, \"group_name\": \"_street_\", \"total_non_null_rows\": 50578, \"total_rows_inc_nulls\": 50578, \"sum_tokens_in_value_count_group\": 1836, \"distinct_value_count\": 35364}, {\"percentile_ex_nulls\": 0.0, \"percentile_inc_nulls\": 0.0, \"value_count\": 1, \"group_name\": \"_street_\", \"total_non_null_rows\": 50578, \"total_rows_inc_nulls\": 50578, \"sum_tokens_in_value_count_group\": 33267, \"distinct_value_count\": 35364}, {\"percentile_ex_nulls\": 1.0, \"percentile_inc_nulls\": 1.0, \"value_count\": 2079, \"group_name\": \"_street_\", \"total_non_null_rows\": 50578, \"total_rows_inc_nulls\": 50578, \"sum_tokens_in_value_count_group\": 2079, \"distinct_value_count\": 35364}]}, \"encoding\": {\"tooltip\": [{\"field\": \"value_count\", \"type\": \"quantitative\"}, {\"field\": \"percentile_ex_nulls\", \"type\": \"quantitative\"}, {\"field\": \"percentile_inc_nulls\", \"type\": \"quantitative\"}, {\"field\": \"total_non_null_rows\", \"type\": \"quantitative\"}, {\"field\": \"total_rows_inc_nulls\", \"type\": \"quantitative\"}], \"x\": {\"field\": \"percentile_ex_nulls\", \"sort\": \"descending\", \"title\": \"Percentile\", \"type\": \"quantitative\"}, \"y\": {\"field\": \"value_count\", \"title\": \"Count of values\", \"type\": \"quantitative\"}}, \"title\": {\"text\": \"Distribution of counts of values in column \\\"street\\\"\", \"subtitle\": \"In this col, 0 values (0.0%) are null and there are 35364 distinct values\"}}, {\"mark\": \"bar\", \"data\": {\"values\": [{\"value_count\": 2079, \"group_name\": \"_street_\", \"value\": \"\\\\n streeet\", \"total_non_null_rows\": 50578, \"total_rows_inc_nulls\": 50578, \"distinct_value_count\": 35364}, {\"value_count\": 675, \"group_name\": \"_street_\", \"value\": \"london streeet\", \"total_non_null_rows\": 50578, \"total_rows_inc_nulls\": 50578, \"distinct_value_count\": 35364}, {\"value_count\": 219, \"group_name\": \"_street_\", \"value\": \"westminster streeet\", \"total_non_null_rows\": 50578, \"total_rows_inc_nulls\": 50578, \"distinct_value_count\": 35364}, {\"value_count\": 161, \"group_name\": \"_street_\", \"value\": \"birmingham streeet\", \"total_non_null_rows\": 50578, \"total_rows_inc_nulls\": 50578, \"distinct_value_count\": 35364}, {\"value_count\": 142, \"group_name\": \"_street_\", \"value\": \"liverpool streeet\", \"total_non_null_rows\": 50578, \"total_rows_inc_nulls\": 50578, \"distinct_value_count\": 35364}, {\"value_count\": 141, \"group_name\": \"_street_\", \"value\": \"edinburgh streeet\", \"total_non_null_rows\": 50578, \"total_rows_inc_nulls\": 50578, \"distinct_value_count\": 35364}, {\"value_count\": 139, \"group_name\": \"_street_\", \"value\": \"manchester streeet\", \"total_non_null_rows\": 50578, \"total_rows_inc_nulls\": 50578, \"distinct_value_count\": 35364}, {\"value_count\": 114, \"group_name\": \"_street_\", \"value\": \"leeds streeet\", \"total_non_null_rows\": 50578, \"total_rows_inc_nulls\": 50578, \"distinct_value_count\": 35364}, {\"value_count\": 97, \"group_name\": \"_street_\", \"value\": \"sheffield streeet\", \"total_non_null_rows\": 50578, \"total_rows_inc_nulls\": 50578, \"distinct_value_count\": 35364}, {\"value_count\": 92, \"group_name\": \"_street_\", \"value\": \"camden streeet\", \"total_non_null_rows\": 50578, \"total_rows_inc_nulls\": 50578, \"distinct_value_count\": 35364}]}, \"encoding\": {\"tooltip\": [{\"field\": \"value\", \"type\": \"nominal\"}, {\"field\": \"value_count\", \"type\": \"quantitative\"}, {\"field\": \"total_non_null_rows\", \"type\": \"quantitative\"}, {\"field\": \"total_rows_inc_nulls\", \"type\": \"quantitative\"}], \"x\": {\"field\": \"value\", \"sort\": \"-y\", \"title\": null, \"type\": \"nominal\"}, \"y\": {\"field\": \"value_count\", \"title\": \"Value count\", \"type\": \"quantitative\"}}, \"title\": \"Top 10 values by value count\"}, {\"mark\": \"bar\", \"data\": {\"values\": [{\"value_count\": 1, \"group_name\": \"_street_\", \"value\": \"17 stockton-on-tees\", \"total_non_null_rows\": 50578, \"total_rows_inc_nulls\": 50578, \"distinct_value_count\": 35364}, {\"value_count\": 1, \"group_name\": \"_street_\", \"value\": \"studio 8\\nlowe island\", \"total_non_null_rows\": 50578, \"total_rows_inc_nulls\": 50578, \"distinct_value_count\": 35364}, {\"value_count\": 1, \"group_name\": \"_street_\", \"value\": \"214 bradfield\", \"total_non_null_rows\": 50578, \"total_rows_inc_nulls\": 50578, \"distinct_value_count\": 35364}, {\"value_count\": 1, \"group_name\": \"_street_\", \"value\": \"8258 ilfracombe\", \"total_non_null_rows\": 50578, \"total_rows_inc_nulls\": 50578, \"distinct_value_count\": 35364}, {\"value_count\": 1, \"group_name\": \"_street_\", \"value\": \"6773 ilfracombe\", \"total_non_null_rows\": 50578, \"total_rows_inc_nulls\": 50578, \"distinct_value_count\": 35364}]}, \"encoding\": {\"tooltip\": [{\"field\": \"value\", \"type\": \"nominal\"}, {\"field\": \"value_count\", \"type\": \"quantitative\"}, {\"field\": \"total_non_null_rows\", \"type\": \"quantitative\"}, {\"field\": \"total_rows_inc_nulls\", \"type\": \"quantitative\"}], \"x\": {\"field\": \"value\", \"sort\": \"-y\", \"title\": null, \"type\": \"nominal\"}, \"y\": {\"field\": \"value_count\", \"scale\": {\"domain\": [0, 2079]}, \"title\": \"Value count\", \"type\": \"quantitative\"}}, \"title\": \"Bottom 5 values by value count\"}]}, {\"hconcat\": [{\"mark\": {\"type\": \"line\", \"interpolate\": \"step-before\"}, \"data\": {\"values\": [{\"percentile_ex_nulls\": 0.7740914821624756, \"percentile_inc_nulls\": 0.7740914821624756, \"value_count\": 11426, \"group_name\": \"_zip_\", \"total_non_null_rows\": 50578, \"total_rows_inc_nulls\": 50578, \"sum_tokens_in_value_count_group\": 11426, \"distinct_value_count\": 12364}, {\"percentile_ex_nulls\": 0.7734192609786987, \"percentile_inc_nulls\": 0.7734192609786987, \"value_count\": 34, \"group_name\": \"_zip_\", \"total_non_null_rows\": 50578, \"total_rows_inc_nulls\": 50578, \"sum_tokens_in_value_count_group\": 34, \"distinct_value_count\": 12364}, {\"percentile_ex_nulls\": 0.7706512808799744, \"percentile_inc_nulls\": 0.7706512808799744, \"value_count\": 28, \"group_name\": \"_zip_\", \"total_non_null_rows\": 50578, \"total_rows_inc_nulls\": 50578, \"sum_tokens_in_value_count_group\": 140, \"distinct_value_count\": 12364}, {\"percentile_ex_nulls\": 0.7695835828781128, \"percentile_inc_nulls\": 0.7695835828781128, \"value_count\": 27, \"group_name\": \"_zip_\", \"total_non_null_rows\": 50578, \"total_rows_inc_nulls\": 50578, \"sum_tokens_in_value_count_group\": 54, \"distinct_value_count\": 12364}, {\"percentile_ex_nulls\": 0.7690893411636353, \"percentile_inc_nulls\": 0.7690893411636353, \"value_count\": 25, \"group_name\": \"_zip_\", \"total_non_null_rows\": 50578, \"total_rows_inc_nulls\": 50578, \"sum_tokens_in_value_count_group\": 25, \"distinct_value_count\": 12364}, {\"percentile_ex_nulls\": 0.7686148285865784, \"percentile_inc_nulls\": 0.7686148285865784, \"value_count\": 24, \"group_name\": \"_zip_\", \"total_non_null_rows\": 50578, \"total_rows_inc_nulls\": 50578, \"sum_tokens_in_value_count_group\": 24, \"distinct_value_count\": 12364}, {\"percentile_ex_nulls\": 0.7681798338890076, \"percentile_inc_nulls\": 0.7681798338890076, \"value_count\": 22, \"group_name\": \"_zip_\", \"total_non_null_rows\": 50578, \"total_rows_inc_nulls\": 50578, \"sum_tokens_in_value_count_group\": 22, \"distinct_value_count\": 12364}, {\"percentile_ex_nulls\": 0.7673494219779968, \"percentile_inc_nulls\": 0.7673494219779968, \"value_count\": 21, \"group_name\": \"_zip_\", \"total_non_null_rows\": 50578, \"total_rows_inc_nulls\": 50578, \"sum_tokens_in_value_count_group\": 42, \"distinct_value_count\": 12364}, {\"percentile_ex_nulls\": 0.7665585875511169, \"percentile_inc_nulls\": 0.7665585875511169, \"value_count\": 20, \"group_name\": \"_zip_\", \"total_non_null_rows\": 50578, \"total_rows_inc_nulls\": 50578, \"sum_tokens_in_value_count_group\": 40, \"distinct_value_count\": 12364}, {\"percentile_ex_nulls\": 0.7658072710037231, \"percentile_inc_nulls\": 0.7658072710037231, \"value_count\": 19, \"group_name\": \"_zip_\", \"total_non_null_rows\": 50578, \"total_rows_inc_nulls\": 50578, \"sum_tokens_in_value_count_group\": 38, \"distinct_value_count\": 12364}, {\"percentile_ex_nulls\": 0.7629601955413818, \"percentile_inc_nulls\": 0.7629601955413818, \"value_count\": 18, \"group_name\": \"_zip_\", \"total_non_null_rows\": 50578, \"total_rows_inc_nulls\": 50578, \"sum_tokens_in_value_count_group\": 144, \"distinct_value_count\": 12364}, {\"percentile_ex_nulls\": 0.7609434723854065, \"percentile_inc_nulls\": 0.7609434723854065, \"value_count\": 17, \"group_name\": \"_zip_\", \"total_non_null_rows\": 50578, \"total_rows_inc_nulls\": 50578, \"sum_tokens_in_value_count_group\": 102, \"distinct_value_count\": 12364}, {\"percentile_ex_nulls\": 0.7565146684646606, \"percentile_inc_nulls\": 0.7565146684646606, \"value_count\": 16, \"group_name\": \"_zip_\", \"total_non_null_rows\": 50578, \"total_rows_inc_nulls\": 50578, \"sum_tokens_in_value_count_group\": 224, \"distinct_value_count\": 12364}, {\"percentile_ex_nulls\": 0.7464312314987183, \"percentile_inc_nulls\": 0.7464312314987183, \"value_count\": 15, \"group_name\": \"_zip_\", \"total_non_null_rows\": 50578, \"total_rows_inc_nulls\": 50578, \"sum_tokens_in_value_count_group\": 510, \"distinct_value_count\": 12364}, {\"percentile_ex_nulls\": 0.7287160158157349, \"percentile_inc_nulls\": 0.7287160158157349, \"value_count\": 14, \"group_name\": \"_zip_\", \"total_non_null_rows\": 50578, \"total_rows_inc_nulls\": 50578, \"sum_tokens_in_value_count_group\": 896, \"distinct_value_count\": 12364}, {\"percentile_ex_nulls\": 0.7014709711074829, \"percentile_inc_nulls\": 0.7014709711074829, \"value_count\": 13, \"group_name\": \"_zip_\", \"total_non_null_rows\": 50578, \"total_rows_inc_nulls\": 50578, \"sum_tokens_in_value_count_group\": 1378, \"distinct_value_count\": 12364}, {\"percentile_ex_nulls\": 0.6630352735519409, \"percentile_inc_nulls\": 0.6630352735519409, \"value_count\": 12, \"group_name\": \"_zip_\", \"total_non_null_rows\": 50578, \"total_rows_inc_nulls\": 50578, \"sum_tokens_in_value_count_group\": 1944, \"distinct_value_count\": 12364}, {\"percentile_ex_nulls\": 0.6110562086105347, \"percentile_inc_nulls\": 0.6110562086105347, \"value_count\": 11, \"group_name\": \"_zip_\", \"total_non_null_rows\": 50578, \"total_rows_inc_nulls\": 50578, \"sum_tokens_in_value_count_group\": 2629, \"distinct_value_count\": 12364}, {\"percentile_ex_nulls\": 0.5509510040283203, \"percentile_inc_nulls\": 0.5509510040283203, \"value_count\": 10, \"group_name\": \"_zip_\", \"total_non_null_rows\": 50578, \"total_rows_inc_nulls\": 50578, \"sum_tokens_in_value_count_group\": 3040, \"distinct_value_count\": 12364}, {\"percentile_ex_nulls\": 0.4932974576950073, \"percentile_inc_nulls\": 0.4932974576950073, \"value_count\": 9, \"group_name\": \"_zip_\", \"total_non_null_rows\": 50578, \"total_rows_inc_nulls\": 50578, \"sum_tokens_in_value_count_group\": 2916, \"distinct_value_count\": 12364}, {\"percentile_ex_nulls\": 0.4379374384880066, \"percentile_inc_nulls\": 0.4379374384880066, \"value_count\": 8, \"group_name\": \"_zip_\", \"total_non_null_rows\": 50578, \"total_rows_inc_nulls\": 50578, \"sum_tokens_in_value_count_group\": 2800, \"distinct_value_count\": 12364}, {\"percentile_ex_nulls\": 0.3870062232017517, \"percentile_inc_nulls\": 0.3870062232017517, \"value_count\": 7, \"group_name\": \"_zip_\", \"total_non_null_rows\": 50578, \"total_rows_inc_nulls\": 50578, \"sum_tokens_in_value_count_group\": 2576, \"distinct_value_count\": 12364}, {\"percentile_ex_nulls\": 0.3367076516151428, \"percentile_inc_nulls\": 0.3367076516151428, \"value_count\": 6, \"group_name\": \"_zip_\", \"total_non_null_rows\": 50578, \"total_rows_inc_nulls\": 50578, \"sum_tokens_in_value_count_group\": 2544, \"distinct_value_count\": 12364}, {\"percentile_ex_nulls\": 0.2888607978820801, \"percentile_inc_nulls\": 0.2888607978820801, \"value_count\": 5, \"group_name\": \"_zip_\", \"total_non_null_rows\": 50578, \"total_rows_inc_nulls\": 50578, \"sum_tokens_in_value_count_group\": 2420, \"distinct_value_count\": 12364}, {\"percentile_ex_nulls\": 0.24354463815689087, \"percentile_inc_nulls\": 0.24354463815689087, \"value_count\": 4, \"group_name\": \"_zip_\", \"total_non_null_rows\": 50578, \"total_rows_inc_nulls\": 50578, \"sum_tokens_in_value_count_group\": 2292, \"distinct_value_count\": 12364}, {\"percentile_ex_nulls\": 0.18962788581848145, \"percentile_inc_nulls\": 0.18962788581848145, \"value_count\": 3, \"group_name\": \"_zip_\", \"total_non_null_rows\": 50578, \"total_rows_inc_nulls\": 50578, \"sum_tokens_in_value_count_group\": 2727, \"distinct_value_count\": 12364}, {\"percentile_ex_nulls\": 0.12580567598342896, \"percentile_inc_nulls\": 0.12580567598342896, \"value_count\": 2, \"group_name\": \"_zip_\", \"total_non_null_rows\": 50578, \"total_rows_inc_nulls\": 50578, \"sum_tokens_in_value_count_group\": 3228, \"distinct_value_count\": 12364}, {\"percentile_ex_nulls\": 0.0, \"percentile_inc_nulls\": 0.0, \"value_count\": 1, \"group_name\": \"_zip_\", \"total_non_null_rows\": 50578, \"total_rows_inc_nulls\": 50578, \"sum_tokens_in_value_count_group\": 6363, \"distinct_value_count\": 12364}, {\"percentile_ex_nulls\": 1.0, \"percentile_inc_nulls\": 1.0, \"value_count\": 11426, \"group_name\": \"_zip_\", \"total_non_null_rows\": 50578, \"total_rows_inc_nulls\": 50578, \"sum_tokens_in_value_count_group\": 11426, \"distinct_value_count\": 12364}]}, \"encoding\": {\"tooltip\": [{\"field\": \"value_count\", \"type\": \"quantitative\"}, {\"field\": \"percentile_ex_nulls\", \"type\": \"quantitative\"}, {\"field\": \"percentile_inc_nulls\", \"type\": \"quantitative\"}, {\"field\": \"total_non_null_rows\", \"type\": \"quantitative\"}, {\"field\": \"total_rows_inc_nulls\", \"type\": \"quantitative\"}], \"x\": {\"field\": \"percentile_ex_nulls\", \"sort\": \"descending\", \"title\": \"Percentile\", \"type\": \"quantitative\"}, \"y\": {\"field\": \"value_count\", \"title\": \"Count of values\", \"type\": \"quantitative\"}}, \"title\": {\"text\": \"Distribution of counts of values in column \\\"zip\\\"\", \"subtitle\": \"In this col, 0 values (0.0%) are null and there are 12364 distinct values\"}}, {\"mark\": \"bar\", \"data\": {\"values\": [{\"value_count\": 11426, \"group_name\": \"_zip_\", \"value\": \"NONE\", \"total_non_null_rows\": 50578, \"total_rows_inc_nulls\": 50578, \"distinct_value_count\": 12364}, {\"value_count\": 34, \"group_name\": \"_zip_\", \"value\": \"SE17SG\", \"total_non_null_rows\": 50578, \"total_rows_inc_nulls\": 50578, \"distinct_value_count\": 12364}, {\"value_count\": 28, \"group_name\": \"_zip_\", \"value\": \"SW1A2JH\", \"total_non_null_rows\": 50578, \"total_rows_inc_nulls\": 50578, \"distinct_value_count\": 12364}, {\"value_count\": 28, \"group_name\": \"_zip_\", \"value\": \"L30AH\", \"total_non_null_rows\": 50578, \"total_rows_inc_nulls\": 50578, \"distinct_value_count\": 12364}, {\"value_count\": 28, \"group_name\": \"_zip_\", \"value\": \"SE18XZ\", \"total_non_null_rows\": 50578, \"total_rows_inc_nulls\": 50578, \"distinct_value_count\": 12364}, {\"value_count\": 28, \"group_name\": \"_zip_\", \"value\": \"SW1P3PL\", \"total_non_null_rows\": 50578, \"total_rows_inc_nulls\": 50578, \"distinct_value_count\": 12364}, {\"value_count\": 28, \"group_name\": \"_zip_\", \"value\": \"SW1H9AA\", \"total_non_null_rows\": 50578, \"total_rows_inc_nulls\": 50578, \"distinct_value_count\": 12364}, {\"value_count\": 27, \"group_name\": \"_zip_\", \"value\": \"SW1A2BJ\", \"total_non_null_rows\": 50578, \"total_rows_inc_nulls\": 50578, \"distinct_value_count\": 12364}, {\"value_count\": 27, \"group_name\": \"_zip_\", \"value\": \"PL13DQ\", \"total_non_null_rows\": 50578, \"total_rows_inc_nulls\": 50578, \"distinct_value_count\": 12364}, {\"value_count\": 25, \"group_name\": \"_zip_\", \"value\": \"SE17EH\", \"total_non_null_rows\": 50578, \"total_rows_inc_nulls\": 50578, \"distinct_value_count\": 12364}]}, \"encoding\": {\"tooltip\": [{\"field\": \"value\", \"type\": \"nominal\"}, {\"field\": \"value_count\", \"type\": \"quantitative\"}, {\"field\": \"total_non_null_rows\", \"type\": \"quantitative\"}, {\"field\": \"total_rows_inc_nulls\", \"type\": \"quantitative\"}], \"x\": {\"field\": \"value\", \"sort\": \"-y\", \"title\": null, \"type\": \"nominal\"}, \"y\": {\"field\": \"value_count\", \"title\": \"Value count\", \"type\": \"quantitative\"}}, \"title\": \"Top 10 values by value count\"}, {\"mark\": \"bar\", \"data\": {\"values\": [{\"value_count\": 1, \"group_name\": \"_zip_\", \"value\": \"TW62AA\", \"total_non_null_rows\": 50578, \"total_rows_inc_nulls\": 50578, \"distinct_value_count\": 12364}, {\"value_count\": 1, \"group_name\": \"_zip_\", \"value\": \"DH97HH\", \"total_non_null_rows\": 50578, \"total_rows_inc_nulls\": 50578, \"distinct_value_count\": 12364}, {\"value_count\": 1, \"group_name\": \"_zip_\", \"value\": \"CB225LA\", \"total_non_null_rows\": 50578, \"total_rows_inc_nulls\": 50578, \"distinct_value_count\": 12364}, {\"value_count\": 1, \"group_name\": \"_zip_\", \"value\": \"CH51XL\", \"total_non_null_rows\": 50578, \"total_rows_inc_nulls\": 50578, \"distinct_value_count\": 12364}, {\"value_count\": 1, \"group_name\": \"_zip_\", \"value\": \"HR13QQ\", \"total_non_null_rows\": 50578, \"total_rows_inc_nulls\": 50578, \"distinct_value_count\": 12364}]}, \"encoding\": {\"tooltip\": [{\"field\": \"value\", \"type\": \"nominal\"}, {\"field\": \"value_count\", \"type\": \"quantitative\"}, {\"field\": \"total_non_null_rows\", \"type\": \"quantitative\"}, {\"field\": \"total_rows_inc_nulls\", \"type\": \"quantitative\"}], \"x\": {\"field\": \"value\", \"sort\": \"-y\", \"title\": null, \"type\": \"nominal\"}, \"y\": {\"field\": \"value_count\", \"scale\": {\"domain\": [0, 11426]}, \"title\": \"Value count\", \"type\": \"quantitative\"}}, \"title\": \"Bottom 5 values by value count\"}]}, {\"hconcat\": [{\"mark\": {\"type\": \"line\", \"interpolate\": \"step-before\"}, \"data\": {\"values\": [{\"percentile_ex_nulls\": 0.0, \"percentile_inc_nulls\": 0.0, \"value_count\": 50578, \"group_name\": \"_state_\", \"total_non_null_rows\": 50578, \"total_rows_inc_nulls\": 50578, \"sum_tokens_in_value_count_group\": 50578, \"distinct_value_count\": 1}, {\"percentile_ex_nulls\": 1.0, \"percentile_inc_nulls\": 1.0, \"value_count\": 50578, \"group_name\": \"_state_\", \"total_non_null_rows\": 50578, \"total_rows_inc_nulls\": 50578, \"sum_tokens_in_value_count_group\": 50578, \"distinct_value_count\": 1}]}, \"encoding\": {\"tooltip\": [{\"field\": \"value_count\", \"type\": \"quantitative\"}, {\"field\": \"percentile_ex_nulls\", \"type\": \"quantitative\"}, {\"field\": \"percentile_inc_nulls\", \"type\": \"quantitative\"}, {\"field\": \"total_non_null_rows\", \"type\": \"quantitative\"}, {\"field\": \"total_rows_inc_nulls\", \"type\": \"quantitative\"}], \"x\": {\"field\": \"percentile_ex_nulls\", \"sort\": \"descending\", \"title\": \"Percentile\", \"type\": \"quantitative\"}, \"y\": {\"field\": \"value_count\", \"title\": \"Count of values\", \"type\": \"quantitative\"}}, \"title\": {\"text\": \"Distribution of counts of values in column \\\"state\\\"\", \"subtitle\": \"In this col, 0 values (0.0%) are null and there are 1 distinct values\"}}, {\"mark\": \"bar\", \"data\": {\"values\": [{\"value_count\": 50578, \"group_name\": \"_state_\", \"value\": \"nan\", \"total_non_null_rows\": 50578, \"total_rows_inc_nulls\": 50578, \"distinct_value_count\": 1}]}, \"encoding\": {\"tooltip\": [{\"field\": \"value\", \"type\": \"nominal\"}, {\"field\": \"value_count\", \"type\": \"quantitative\"}, {\"field\": \"total_non_null_rows\", \"type\": \"quantitative\"}, {\"field\": \"total_rows_inc_nulls\", \"type\": \"quantitative\"}], \"x\": {\"field\": \"value\", \"sort\": \"-y\", \"title\": null, \"type\": \"nominal\"}, \"y\": {\"field\": \"value_count\", \"title\": \"Value count\", \"type\": \"quantitative\"}}, \"title\": \"Top 1 values by value count\"}, {\"mark\": \"bar\", \"data\": {\"values\": [{\"value_count\": 50578, \"group_name\": \"_state_\", \"value\": \"nan\", \"total_non_null_rows\": 50578, \"total_rows_inc_nulls\": 50578, \"distinct_value_count\": 1}]}, \"encoding\": {\"tooltip\": [{\"field\": \"value\", \"type\": \"nominal\"}, {\"field\": \"value_count\", \"type\": \"quantitative\"}, {\"field\": \"total_non_null_rows\", \"type\": \"quantitative\"}, {\"field\": \"total_rows_inc_nulls\", \"type\": \"quantitative\"}], \"x\": {\"field\": \"value\", \"sort\": \"-y\", \"title\": null, \"type\": \"nominal\"}, \"y\": {\"field\": \"value_count\", \"scale\": {\"domain\": [0, 50578]}, \"title\": \"Value count\", \"type\": \"quantitative\"}}, \"title\": \"Bottom 1 values by value count\"}]}, {\"hconcat\": [{\"mark\": {\"type\": \"line\", \"interpolate\": \"step-before\"}, \"data\": {\"values\": [{\"percentile_ex_nulls\": 0.9985507130622864, \"percentile_inc_nulls\": 0.9997627139091492, \"value_count\": 12, \"group_name\": \"_phone_ext_\", \"total_non_null_rows\": 8280, \"total_rows_inc_nulls\": 50578, \"sum_tokens_in_value_count_group\": 12, \"distinct_value_count\": 4800}, {\"percentile_ex_nulls\": 0.9919081926345825, \"percentile_inc_nulls\": 0.9986752867698669, \"value_count\": 11, \"group_name\": \"_phone_ext_\", \"total_non_null_rows\": 8280, \"total_rows_inc_nulls\": 50578, \"sum_tokens_in_value_count_group\": 55, \"distinct_value_count\": 4800}, {\"percentile_ex_nulls\": 0.9894927740097046, \"percentile_inc_nulls\": 0.998279869556427, \"value_count\": 10, \"group_name\": \"_phone_ext_\", \"total_non_null_rows\": 8280, \"total_rows_inc_nulls\": 50578, \"sum_tokens_in_value_count_group\": 20, \"distinct_value_count\": 4800}, {\"percentile_ex_nulls\": 0.9677536487579346, \"percentile_inc_nulls\": 0.994720995426178, \"value_count\": 9, \"group_name\": \"_phone_ext_\", \"total_non_null_rows\": 8280, \"total_rows_inc_nulls\": 50578, \"sum_tokens_in_value_count_group\": 180, \"distinct_value_count\": 4800}, {\"percentile_ex_nulls\": 0.9252415299415588, \"percentile_inc_nulls\": 0.9877614974975586, \"value_count\": 8, \"group_name\": \"_phone_ext_\", \"total_non_null_rows\": 8280, \"total_rows_inc_nulls\": 50578, \"sum_tokens_in_value_count_group\": 352, \"distinct_value_count\": 4800}, {\"percentile_ex_nulls\": 0.8694444298744202, \"percentile_inc_nulls\": 0.97862708568573, \"value_count\": 7, \"group_name\": \"_phone_ext_\", \"total_non_null_rows\": 8280, \"total_rows_inc_nulls\": 50578, \"sum_tokens_in_value_count_group\": 462, \"distinct_value_count\": 4800}, {\"percentile_ex_nulls\": 0.7716183662414551, \"percentile_inc_nulls\": 0.9626122117042542, \"value_count\": 6, \"group_name\": \"_phone_ext_\", \"total_non_null_rows\": 8280, \"total_rows_inc_nulls\": 50578, \"sum_tokens_in_value_count_group\": 810, \"distinct_value_count\": 4800}, {\"percentile_ex_nulls\": 0.6828502416610718, \"percentile_inc_nulls\": 0.9480801820755005, \"value_count\": 5, \"group_name\": \"_phone_ext_\", \"total_non_null_rows\": 8280, \"total_rows_inc_nulls\": 50578, \"sum_tokens_in_value_count_group\": 735, \"distinct_value_count\": 4800}, {\"percentile_ex_nulls\": 0.5896135568618774, \"percentile_inc_nulls\": 0.9328166246414185, \"value_count\": 4, \"group_name\": \"_phone_ext_\", \"total_non_null_rows\": 8280, \"total_rows_inc_nulls\": 50578, \"sum_tokens_in_value_count_group\": 772, \"distinct_value_count\": 4800}, {\"percentile_ex_nulls\": 0.5164251327514648, \"percentile_inc_nulls\": 0.9208351373672485, \"value_count\": 3, \"group_name\": \"_phone_ext_\", \"total_non_null_rows\": 8280, \"total_rows_inc_nulls\": 50578, \"sum_tokens_in_value_count_group\": 606, \"distinct_value_count\": 4800}, {\"percentile_ex_nulls\": 0.4461352825164795, \"percentile_inc_nulls\": 0.9093281626701355, \"value_count\": 2, \"group_name\": \"_phone_ext_\", \"total_non_null_rows\": 8280, \"total_rows_inc_nulls\": 50578, \"sum_tokens_in_value_count_group\": 582, \"distinct_value_count\": 4800}, {\"percentile_ex_nulls\": 0.0, \"percentile_inc_nulls\": 0.8362924456596375, \"value_count\": 1, \"group_name\": \"_phone_ext_\", \"total_non_null_rows\": 8280, \"total_rows_inc_nulls\": 50578, \"sum_tokens_in_value_count_group\": 3694, \"distinct_value_count\": 4800}, {\"percentile_ex_nulls\": 1.0, \"percentile_inc_nulls\": 1.0, \"value_count\": 12, \"group_name\": \"_phone_ext_\", \"total_non_null_rows\": 8280, \"total_rows_inc_nulls\": 50578, \"sum_tokens_in_value_count_group\": 12, \"distinct_value_count\": 4800}]}, \"encoding\": {\"tooltip\": [{\"field\": \"value_count\", \"type\": \"quantitative\"}, {\"field\": \"percentile_ex_nulls\", \"type\": \"quantitative\"}, {\"field\": \"percentile_inc_nulls\", \"type\": \"quantitative\"}, {\"field\": \"total_non_null_rows\", \"type\": \"quantitative\"}, {\"field\": \"total_rows_inc_nulls\", \"type\": \"quantitative\"}], \"x\": {\"field\": \"percentile_ex_nulls\", \"sort\": \"descending\", \"title\": \"Percentile\", \"type\": \"quantitative\"}, \"y\": {\"field\": \"value_count\", \"title\": \"Count of values\", \"type\": \"quantitative\"}}, \"title\": {\"text\": \"Distribution of counts of values in column \\\"phone_ext\\\"\", \"subtitle\": \"In this col, 42,298 values (83.6%) are null and there are 4800 distinct values\"}}, {\"mark\": \"bar\", \"data\": {\"values\": [{\"value_count\": 12, \"group_name\": \"_phone_ext_\", \"value\": \"713\", \"total_non_null_rows\": 8280, \"total_rows_inc_nulls\": 50578, \"distinct_value_count\": 4800}, {\"value_count\": 11, \"group_name\": \"_phone_ext_\", \"value\": \"540\", \"total_non_null_rows\": 8280, \"total_rows_inc_nulls\": 50578, \"distinct_value_count\": 4800}, {\"value_count\": 11, \"group_name\": \"_phone_ext_\", \"value\": \"869\", \"total_non_null_rows\": 8280, \"total_rows_inc_nulls\": 50578, \"distinct_value_count\": 4800}, {\"value_count\": 11, \"group_name\": \"_phone_ext_\", \"value\": \"461\", \"total_non_null_rows\": 8280, \"total_rows_inc_nulls\": 50578, \"distinct_value_count\": 4800}, {\"value_count\": 11, \"group_name\": \"_phone_ext_\", \"value\": \"471\", \"total_non_null_rows\": 8280, \"total_rows_inc_nulls\": 50578, \"distinct_value_count\": 4800}, {\"value_count\": 11, \"group_name\": \"_phone_ext_\", \"value\": \"051\", \"total_non_null_rows\": 8280, \"total_rows_inc_nulls\": 50578, \"distinct_value_count\": 4800}, {\"value_count\": 10, \"group_name\": \"_phone_ext_\", \"value\": \"824\", \"total_non_null_rows\": 8280, \"total_rows_inc_nulls\": 50578, \"distinct_value_count\": 4800}, {\"value_count\": 10, \"group_name\": \"_phone_ext_\", \"value\": \"578\", \"total_non_null_rows\": 8280, \"total_rows_inc_nulls\": 50578, \"distinct_value_count\": 4800}, {\"value_count\": 9, \"group_name\": \"_phone_ext_\", \"value\": \"330\", \"total_non_null_rows\": 8280, \"total_rows_inc_nulls\": 50578, \"distinct_value_count\": 4800}, {\"value_count\": 9, \"group_name\": \"_phone_ext_\", \"value\": \"563\", \"total_non_null_rows\": 8280, \"total_rows_inc_nulls\": 50578, \"distinct_value_count\": 4800}]}, \"encoding\": {\"tooltip\": [{\"field\": \"value\", \"type\": \"nominal\"}, {\"field\": \"value_count\", \"type\": \"quantitative\"}, {\"field\": \"total_non_null_rows\", \"type\": \"quantitative\"}, {\"field\": \"total_rows_inc_nulls\", \"type\": \"quantitative\"}], \"x\": {\"field\": \"value\", \"sort\": \"-y\", \"title\": null, \"type\": \"nominal\"}, \"y\": {\"field\": \"value_count\", \"title\": \"Value count\", \"type\": \"quantitative\"}}, \"title\": \"Top 10 values by value count\"}, {\"mark\": \"bar\", \"data\": {\"values\": [{\"value_count\": 1, \"group_name\": \"_phone_ext_\", \"value\": \"27528\", \"total_non_null_rows\": 8280, \"total_rows_inc_nulls\": 50578, \"distinct_value_count\": 4800}, {\"value_count\": 1, \"group_name\": \"_phone_ext_\", \"value\": \"2587\", \"total_non_null_rows\": 8280, \"total_rows_inc_nulls\": 50578, \"distinct_value_count\": 4800}, {\"value_count\": 1, \"group_name\": \"_phone_ext_\", \"value\": \"995\", \"total_non_null_rows\": 8280, \"total_rows_inc_nulls\": 50578, \"distinct_value_count\": 4800}, {\"value_count\": 1, \"group_name\": \"_phone_ext_\", \"value\": \"9593\", \"total_non_null_rows\": 8280, \"total_rows_inc_nulls\": 50578, \"distinct_value_count\": 4800}, {\"value_count\": 1, \"group_name\": \"_phone_ext_\", \"value\": \"64552\", \"total_non_null_rows\": 8280, \"total_rows_inc_nulls\": 50578, \"distinct_value_count\": 4800}]}, \"encoding\": {\"tooltip\": [{\"field\": \"value\", \"type\": \"nominal\"}, {\"field\": \"value_count\", \"type\": \"quantitative\"}, {\"field\": \"total_non_null_rows\", \"type\": \"quantitative\"}, {\"field\": \"total_rows_inc_nulls\", \"type\": \"quantitative\"}], \"x\": {\"field\": \"value\", \"sort\": \"-y\", \"title\": null, \"type\": \"nominal\"}, \"y\": {\"field\": \"value_count\", \"scale\": {\"domain\": [0, 12]}, \"title\": \"Value count\", \"type\": \"quantitative\"}}, \"title\": \"Bottom 5 values by value count\"}]}, {\"hconcat\": [{\"mark\": {\"type\": \"line\", \"interpolate\": \"step-before\"}, \"data\": {\"values\": [{\"percentile_ex_nulls\": 0.7974774241447449, \"percentile_inc_nulls\": 0.8380916714668274, \"value_count\": 8189, \"group_name\": \"_email_domain_\", \"total_non_null_rows\": 40435, \"total_rows_inc_nulls\": 50578, \"sum_tokens_in_value_count_group\": 8189, \"distinct_value_count\": 5}, {\"percentile_ex_nulls\": 0.5967602729797363, \"percentile_inc_nulls\": 0.6776266098022461, \"value_count\": 8116, \"group_name\": \"_email_domain_\", \"total_non_null_rows\": 40435, \"total_rows_inc_nulls\": 50578, \"sum_tokens_in_value_count_group\": 8116, \"distinct_value_count\": 5}, {\"percentile_ex_nulls\": 0.39606773853302, \"percentile_inc_nulls\": 0.517181396484375, \"value_count\": 8115, \"group_name\": \"_email_domain_\", \"total_non_null_rows\": 40435, \"total_rows_inc_nulls\": 50578, \"sum_tokens_in_value_count_group\": 8115, \"distinct_value_count\": 5}, {\"percentile_ex_nulls\": 0.19705700874328613, \"percentile_inc_nulls\": 0.35808056592941284, \"value_count\": 8047, \"group_name\": \"_email_domain_\", \"total_non_null_rows\": 40435, \"total_rows_inc_nulls\": 50578, \"sum_tokens_in_value_count_group\": 8047, \"distinct_value_count\": 5}, {\"percentile_ex_nulls\": 0.0, \"percentile_inc_nulls\": 0.20054173469543457, \"value_count\": 7968, \"group_name\": \"_email_domain_\", \"total_non_null_rows\": 40435, \"total_rows_inc_nulls\": 50578, \"sum_tokens_in_value_count_group\": 7968, \"distinct_value_count\": 5}, {\"percentile_ex_nulls\": 1.0, \"percentile_inc_nulls\": 1.0, \"value_count\": 8189, \"group_name\": \"_email_domain_\", \"total_non_null_rows\": 40435, \"total_rows_inc_nulls\": 50578, \"sum_tokens_in_value_count_group\": 8189, \"distinct_value_count\": 5}]}, \"encoding\": {\"tooltip\": [{\"field\": \"value_count\", \"type\": \"quantitative\"}, {\"field\": \"percentile_ex_nulls\", \"type\": \"quantitative\"}, {\"field\": \"percentile_inc_nulls\", \"type\": \"quantitative\"}, {\"field\": \"total_non_null_rows\", \"type\": \"quantitative\"}, {\"field\": \"total_rows_inc_nulls\", \"type\": \"quantitative\"}], \"x\": {\"field\": \"percentile_ex_nulls\", \"sort\": \"descending\", \"title\": \"Percentile\", \"type\": \"quantitative\"}, \"y\": {\"field\": \"value_count\", \"title\": \"Count of values\", \"type\": \"quantitative\"}}, \"title\": {\"text\": \"Distribution of counts of values in column \\\"email_domain\\\"\", \"subtitle\": \"In this col, 10,143 values (20.1%) are null and there are 5 distinct values\"}}, {\"mark\": \"bar\", \"data\": {\"values\": [{\"value_count\": 8189, \"group_name\": \"_email_domain_\", \"value\": \"hotmail.com\", \"total_non_null_rows\": 40435, \"total_rows_inc_nulls\": 50578, \"distinct_value_count\": 5}, {\"value_count\": 8116, \"group_name\": \"_email_domain_\", \"value\": \"gmail.com\", \"total_non_null_rows\": 40435, \"total_rows_inc_nulls\": 50578, \"distinct_value_count\": 5}, {\"value_count\": 8115, \"group_name\": \"_email_domain_\", \"value\": \"randommail.net\", \"total_non_null_rows\": 40435, \"total_rows_inc_nulls\": 50578, \"distinct_value_count\": 5}, {\"value_count\": 8047, \"group_name\": \"_email_domain_\", \"value\": \"outlook.in\", \"total_non_null_rows\": 40435, \"total_rows_inc_nulls\": 50578, \"distinct_value_count\": 5}, {\"value_count\": 7968, \"group_name\": \"_email_domain_\", \"value\": \"yahoo.co.uk\", \"total_non_null_rows\": 40435, \"total_rows_inc_nulls\": 50578, \"distinct_value_count\": 5}]}, \"encoding\": {\"tooltip\": [{\"field\": \"value\", \"type\": \"nominal\"}, {\"field\": \"value_count\", \"type\": \"quantitative\"}, {\"field\": \"total_non_null_rows\", \"type\": \"quantitative\"}, {\"field\": \"total_rows_inc_nulls\", \"type\": \"quantitative\"}], \"x\": {\"field\": \"value\", \"sort\": \"-y\", \"title\": null, \"type\": \"nominal\"}, \"y\": {\"field\": \"value_count\", \"title\": \"Value count\", \"type\": \"quantitative\"}}, \"title\": \"Top 5 values by value count\"}, {\"mark\": \"bar\", \"data\": {\"values\": [{\"value_count\": 7968, \"group_name\": \"_email_domain_\", \"value\": \"yahoo.co.uk\", \"total_non_null_rows\": 40435, \"total_rows_inc_nulls\": 50578, \"distinct_value_count\": 5}, {\"value_count\": 8047, \"group_name\": \"_email_domain_\", \"value\": \"outlook.in\", \"total_non_null_rows\": 40435, \"total_rows_inc_nulls\": 50578, \"distinct_value_count\": 5}, {\"value_count\": 8115, \"group_name\": \"_email_domain_\", \"value\": \"randommail.net\", \"total_non_null_rows\": 40435, \"total_rows_inc_nulls\": 50578, \"distinct_value_count\": 5}, {\"value_count\": 8116, \"group_name\": \"_email_domain_\", \"value\": \"gmail.com\", \"total_non_null_rows\": 40435, \"total_rows_inc_nulls\": 50578, \"distinct_value_count\": 5}, {\"value_count\": 8189, \"group_name\": \"_email_domain_\", \"value\": \"hotmail.com\", \"total_non_null_rows\": 40435, \"total_rows_inc_nulls\": 50578, \"distinct_value_count\": 5}]}, \"encoding\": {\"tooltip\": [{\"field\": \"value\", \"type\": \"nominal\"}, {\"field\": \"value_count\", \"type\": \"quantitative\"}, {\"field\": \"total_non_null_rows\", \"type\": \"quantitative\"}, {\"field\": \"total_rows_inc_nulls\", \"type\": \"quantitative\"}], \"x\": {\"field\": \"value\", \"sort\": \"-y\", \"title\": null, \"type\": \"nominal\"}, \"y\": {\"field\": \"value_count\", \"scale\": {\"domain\": [0, 8189]}, \"title\": \"Value count\", \"type\": \"quantitative\"}}, \"title\": \"Bottom 5 values by value count\"}]}, {\"hconcat\": [{\"mark\": {\"type\": \"line\", \"interpolate\": \"step-before\"}, \"data\": {\"values\": [{\"percentile_ex_nulls\": 0.14476650953292847, \"percentile_inc_nulls\": 0.14476650953292847, \"value_count\": 22, \"group_name\": \"_first_name_metaphone_\", \"total_non_null_rows\": 50578, \"total_rows_inc_nulls\": 50578, \"sum_tokens_in_value_count_group\": 88, \"distinct_value_count\": 2418}, {\"percentile_ex_nulls\": 0.14019930362701416, \"percentile_inc_nulls\": 0.14019930362701416, \"value_count\": 21, \"group_name\": \"_first_name_metaphone_\", \"total_non_null_rows\": 50578, \"total_rows_inc_nulls\": 50578, \"sum_tokens_in_value_count_group\": 231, \"distinct_value_count\": 2418}, {\"percentile_ex_nulls\": 0.13466328382492065, \"percentile_inc_nulls\": 0.13466328382492065, \"value_count\": 20, \"group_name\": \"_first_name_metaphone_\", \"total_non_null_rows\": 50578, \"total_rows_inc_nulls\": 50578, \"sum_tokens_in_value_count_group\": 280, \"distinct_value_count\": 2418}, {\"percentile_ex_nulls\": 0.13203370571136475, \"percentile_inc_nulls\": 0.13203370571136475, \"value_count\": 19, \"group_name\": \"_first_name_metaphone_\", \"total_non_null_rows\": 50578, \"total_rows_inc_nulls\": 50578, \"sum_tokens_in_value_count_group\": 133, \"distinct_value_count\": 2418}, {\"percentile_ex_nulls\": 0.12349241971969604, \"percentile_inc_nulls\": 0.12349241971969604, \"value_count\": 18, \"group_name\": \"_first_name_metaphone_\", \"total_non_null_rows\": 50578, \"total_rows_inc_nulls\": 50578, \"sum_tokens_in_value_count_group\": 432, \"distinct_value_count\": 2418}, {\"percentile_ex_nulls\": 0.11912292242050171, \"percentile_inc_nulls\": 0.11912292242050171, \"value_count\": 17, \"group_name\": \"_first_name_metaphone_\", \"total_non_null_rows\": 50578, \"total_rows_inc_nulls\": 50578, \"sum_tokens_in_value_count_group\": 221, \"distinct_value_count\": 2418}, {\"percentile_ex_nulls\": 0.11501049995422363, \"percentile_inc_nulls\": 0.11501049995422363, \"value_count\": 16, \"group_name\": \"_first_name_metaphone_\", \"total_non_null_rows\": 50578, \"total_rows_inc_nulls\": 50578, \"sum_tokens_in_value_count_group\": 208, \"distinct_value_count\": 2418}, {\"percentile_ex_nulls\": 0.10878247022628784, \"percentile_inc_nulls\": 0.10878247022628784, \"value_count\": 15, \"group_name\": \"_first_name_metaphone_\", \"total_non_null_rows\": 50578, \"total_rows_inc_nulls\": 50578, \"sum_tokens_in_value_count_group\": 315, \"distinct_value_count\": 2418}, {\"percentile_ex_nulls\": 0.1046304702758789, \"percentile_inc_nulls\": 0.1046304702758789, \"value_count\": 14, \"group_name\": \"_first_name_metaphone_\", \"total_non_null_rows\": 50578, \"total_rows_inc_nulls\": 50578, \"sum_tokens_in_value_count_group\": 210, \"distinct_value_count\": 2418}, {\"percentile_ex_nulls\": 0.09769070148468018, \"percentile_inc_nulls\": 0.09769070148468018, \"value_count\": 13, \"group_name\": \"_first_name_metaphone_\", \"total_non_null_rows\": 50578, \"total_rows_inc_nulls\": 50578, \"sum_tokens_in_value_count_group\": 351, \"distinct_value_count\": 2418}, {\"percentile_ex_nulls\": 0.09318280220031738, \"percentile_inc_nulls\": 0.09318280220031738, \"value_count\": 12, \"group_name\": \"_first_name_metaphone_\", \"total_non_null_rows\": 50578, \"total_rows_inc_nulls\": 50578, \"sum_tokens_in_value_count_group\": 228, \"distinct_value_count\": 2418}, {\"percentile_ex_nulls\": 0.08709317445755005, \"percentile_inc_nulls\": 0.08709317445755005, \"value_count\": 11, \"group_name\": \"_first_name_metaphone_\", \"total_non_null_rows\": 50578, \"total_rows_inc_nulls\": 50578, \"sum_tokens_in_value_count_group\": 308, \"distinct_value_count\": 2418}, {\"percentile_ex_nulls\": 0.08155721426010132, \"percentile_inc_nulls\": 0.08155721426010132, \"value_count\": 10, \"group_name\": \"_first_name_metaphone_\", \"total_non_null_rows\": 50578, \"total_rows_inc_nulls\": 50578, \"sum_tokens_in_value_count_group\": 280, \"distinct_value_count\": 2418}, {\"percentile_ex_nulls\": 0.07675272226333618, \"percentile_inc_nulls\": 0.07675272226333618, \"value_count\": 9, \"group_name\": \"_first_name_metaphone_\", \"total_non_null_rows\": 50578, \"total_rows_inc_nulls\": 50578, \"sum_tokens_in_value_count_group\": 243, \"distinct_value_count\": 2418}, {\"percentile_ex_nulls\": 0.07121676206588745, \"percentile_inc_nulls\": 0.07121676206588745, \"value_count\": 8, \"group_name\": \"_first_name_metaphone_\", \"total_non_null_rows\": 50578, \"total_rows_inc_nulls\": 50578, \"sum_tokens_in_value_count_group\": 280, \"distinct_value_count\": 2418}, {\"percentile_ex_nulls\": 0.06651115417480469, \"percentile_inc_nulls\": 0.06651115417480469, \"value_count\": 7, \"group_name\": \"_first_name_metaphone_\", \"total_non_null_rows\": 50578, \"total_rows_inc_nulls\": 50578, \"sum_tokens_in_value_count_group\": 238, \"distinct_value_count\": 2418}, {\"percentile_ex_nulls\": 0.05951201915740967, \"percentile_inc_nulls\": 0.05951201915740967, \"value_count\": 6, \"group_name\": \"_first_name_metaphone_\", \"total_non_null_rows\": 50578, \"total_rows_inc_nulls\": 50578, \"sum_tokens_in_value_count_group\": 354, \"distinct_value_count\": 2418}, {\"percentile_ex_nulls\": 0.05288863182067871, \"percentile_inc_nulls\": 0.05288863182067871, \"value_count\": 5, \"group_name\": \"_first_name_metaphone_\", \"total_non_null_rows\": 50578, \"total_rows_inc_nulls\": 50578, \"sum_tokens_in_value_count_group\": 335, \"distinct_value_count\": 2418}, {\"percentile_ex_nulls\": 0.04466366767883301, \"percentile_inc_nulls\": 0.04466366767883301, \"value_count\": 4, \"group_name\": \"_first_name_metaphone_\", \"total_non_null_rows\": 50578, \"total_rows_inc_nulls\": 50578, \"sum_tokens_in_value_count_group\": 416, \"distinct_value_count\": 2418}, {\"percentile_ex_nulls\": 0.034165024757385254, \"percentile_inc_nulls\": 0.034165024757385254, \"value_count\": 3, \"group_name\": \"_first_name_metaphone_\", \"total_non_null_rows\": 50578, \"total_rows_inc_nulls\": 50578, \"sum_tokens_in_value_count_group\": 531, \"distinct_value_count\": 2418}, {\"percentile_ex_nulls\": 0.022658050060272217, \"percentile_inc_nulls\": 0.022658050060272217, \"value_count\": 2, \"group_name\": \"_first_name_metaphone_\", \"total_non_null_rows\": 50578, \"total_rows_inc_nulls\": 50578, \"sum_tokens_in_value_count_group\": 582, \"distinct_value_count\": 2418}, {\"percentile_ex_nulls\": 0.0, \"percentile_inc_nulls\": 0.0, \"value_count\": 1, \"group_name\": \"_first_name_metaphone_\", \"total_non_null_rows\": 50578, \"total_rows_inc_nulls\": 50578, \"sum_tokens_in_value_count_group\": 1146, \"distinct_value_count\": 2418}, {\"percentile_ex_nulls\": 0.9296927452087402, \"percentile_inc_nulls\": 0.9296927452087402, \"value_count\": 3556, \"group_name\": \"_first_name_metaphone_\", \"total_non_null_rows\": 50578, \"total_rows_inc_nulls\": 50578, \"sum_tokens_in_value_count_group\": 3556, \"distinct_value_count\": 2418}, {\"percentile_ex_nulls\": 0.8728300929069519, \"percentile_inc_nulls\": 0.8728300929069519, \"value_count\": 2876, \"group_name\": \"_first_name_metaphone_\", \"total_non_null_rows\": 50578, \"total_rows_inc_nulls\": 50578, \"sum_tokens_in_value_count_group\": 2876, \"distinct_value_count\": 2418}, {\"percentile_ex_nulls\": 0.8401676416397095, \"percentile_inc_nulls\": 0.8401676416397095, \"value_count\": 1652, \"group_name\": \"_first_name_metaphone_\", \"total_non_null_rows\": 50578, \"total_rows_inc_nulls\": 50578, \"sum_tokens_in_value_count_group\": 1652, \"distinct_value_count\": 2418}, {\"percentile_ex_nulls\": 0.8110443353652954, \"percentile_inc_nulls\": 0.8110443353652954, \"value_count\": 1473, \"group_name\": \"_first_name_metaphone_\", \"total_non_null_rows\": 50578, \"total_rows_inc_nulls\": 50578, \"sum_tokens_in_value_count_group\": 1473, \"distinct_value_count\": 2418}, {\"percentile_ex_nulls\": 0.7836410999298096, \"percentile_inc_nulls\": 0.7836410999298096, \"value_count\": 1386, \"group_name\": \"_first_name_metaphone_\", \"total_non_null_rows\": 50578, \"total_rows_inc_nulls\": 50578, \"sum_tokens_in_value_count_group\": 1386, \"distinct_value_count\": 2418}, {\"percentile_ex_nulls\": 0.7576811909675598, \"percentile_inc_nulls\": 0.7576811909675598, \"value_count\": 1313, \"group_name\": \"_first_name_metaphone_\", \"total_non_null_rows\": 50578, \"total_rows_inc_nulls\": 50578, \"sum_tokens_in_value_count_group\": 1313, \"distinct_value_count\": 2418}, {\"percentile_ex_nulls\": 0.7324726581573486, \"percentile_inc_nulls\": 0.7324726581573486, \"value_count\": 1275, \"group_name\": \"_first_name_metaphone_\", \"total_non_null_rows\": 50578, \"total_rows_inc_nulls\": 50578, \"sum_tokens_in_value_count_group\": 1275, \"distinct_value_count\": 2418}, {\"percentile_ex_nulls\": 0.7082921266555786, \"percentile_inc_nulls\": 0.7082921266555786, \"value_count\": 1223, \"group_name\": \"_first_name_metaphone_\", \"total_non_null_rows\": 50578, \"total_rows_inc_nulls\": 50578, \"sum_tokens_in_value_count_group\": 1223, \"distinct_value_count\": 2418}, {\"percentile_ex_nulls\": 0.6881846189498901, \"percentile_inc_nulls\": 0.6881846189498901, \"value_count\": 1017, \"group_name\": \"_first_name_metaphone_\", \"total_non_null_rows\": 50578, \"total_rows_inc_nulls\": 50578, \"sum_tokens_in_value_count_group\": 1017, \"distinct_value_count\": 2418}, {\"percentile_ex_nulls\": 0.669243574142456, \"percentile_inc_nulls\": 0.669243574142456, \"value_count\": 958, \"group_name\": \"_first_name_metaphone_\", \"total_non_null_rows\": 50578, \"total_rows_inc_nulls\": 50578, \"sum_tokens_in_value_count_group\": 958, \"distinct_value_count\": 2418}, {\"percentile_ex_nulls\": 0.6508956551551819, \"percentile_inc_nulls\": 0.6508956551551819, \"value_count\": 928, \"group_name\": \"_first_name_metaphone_\", \"total_non_null_rows\": 50578, \"total_rows_inc_nulls\": 50578, \"sum_tokens_in_value_count_group\": 928, \"distinct_value_count\": 2418}, {\"percentile_ex_nulls\": 0.6349005699157715, \"percentile_inc_nulls\": 0.6349005699157715, \"value_count\": 809, \"group_name\": \"_first_name_metaphone_\", \"total_non_null_rows\": 50578, \"total_rows_inc_nulls\": 50578, \"sum_tokens_in_value_count_group\": 809, \"distinct_value_count\": 2418}, {\"percentile_ex_nulls\": 0.6204871535301208, \"percentile_inc_nulls\": 0.6204871535301208, \"value_count\": 729, \"group_name\": \"_first_name_metaphone_\", \"total_non_null_rows\": 50578, \"total_rows_inc_nulls\": 50578, \"sum_tokens_in_value_count_group\": 729, \"distinct_value_count\": 2418}, {\"percentile_ex_nulls\": 0.6063506007194519, \"percentile_inc_nulls\": 0.6063506007194519, \"value_count\": 715, \"group_name\": \"_first_name_metaphone_\", \"total_non_null_rows\": 50578, \"total_rows_inc_nulls\": 50578, \"sum_tokens_in_value_count_group\": 715, \"distinct_value_count\": 2418}, {\"percentile_ex_nulls\": 0.5933409929275513, \"percentile_inc_nulls\": 0.5933409929275513, \"value_count\": 658, \"group_name\": \"_first_name_metaphone_\", \"total_non_null_rows\": 50578, \"total_rows_inc_nulls\": 50578, \"sum_tokens_in_value_count_group\": 658, \"distinct_value_count\": 2418}, {\"percentile_ex_nulls\": 0.5810827016830444, \"percentile_inc_nulls\": 0.5810827016830444, \"value_count\": 620, \"group_name\": \"_first_name_metaphone_\", \"total_non_null_rows\": 50578, \"total_rows_inc_nulls\": 50578, \"sum_tokens_in_value_count_group\": 620, \"distinct_value_count\": 2418}, {\"percentile_ex_nulls\": 0.5690418481826782, \"percentile_inc_nulls\": 0.5690418481826782, \"value_count\": 609, \"group_name\": \"_first_name_metaphone_\", \"total_non_null_rows\": 50578, \"total_rows_inc_nulls\": 50578, \"sum_tokens_in_value_count_group\": 609, \"distinct_value_count\": 2418}, {\"percentile_ex_nulls\": 0.5578314661979675, \"percentile_inc_nulls\": 0.5578314661979675, \"value_count\": 567, \"group_name\": \"_first_name_metaphone_\", \"total_non_null_rows\": 50578, \"total_rows_inc_nulls\": 50578, \"sum_tokens_in_value_count_group\": 567, \"distinct_value_count\": 2418}, {\"percentile_ex_nulls\": 0.5474910140037537, \"percentile_inc_nulls\": 0.5474910140037537, \"value_count\": 523, \"group_name\": \"_first_name_metaphone_\", \"total_non_null_rows\": 50578, \"total_rows_inc_nulls\": 50578, \"sum_tokens_in_value_count_group\": 523, \"distinct_value_count\": 2418}, {\"percentile_ex_nulls\": 0.5374470949172974, \"percentile_inc_nulls\": 0.5374470949172974, \"value_count\": 508, \"group_name\": \"_first_name_metaphone_\", \"total_non_null_rows\": 50578, \"total_rows_inc_nulls\": 50578, \"sum_tokens_in_value_count_group\": 508, \"distinct_value_count\": 2418}, {\"percentile_ex_nulls\": 0.5278974771499634, \"percentile_inc_nulls\": 0.5278974771499634, \"value_count\": 483, \"group_name\": \"_first_name_metaphone_\", \"total_non_null_rows\": 50578, \"total_rows_inc_nulls\": 50578, \"sum_tokens_in_value_count_group\": 483, \"distinct_value_count\": 2418}, {\"percentile_ex_nulls\": 0.5194946527481079, \"percentile_inc_nulls\": 0.5194946527481079, \"value_count\": 425, \"group_name\": \"_first_name_metaphone_\", \"total_non_null_rows\": 50578, \"total_rows_inc_nulls\": 50578, \"sum_tokens_in_value_count_group\": 425, \"distinct_value_count\": 2418}, {\"percentile_ex_nulls\": 0.5119616985321045, \"percentile_inc_nulls\": 0.5119616985321045, \"value_count\": 381, \"group_name\": \"_first_name_metaphone_\", \"total_non_null_rows\": 50578, \"total_rows_inc_nulls\": 50578, \"sum_tokens_in_value_count_group\": 381, \"distinct_value_count\": 2418}, {\"percentile_ex_nulls\": 0.5046660900115967, \"percentile_inc_nulls\": 0.5046660900115967, \"value_count\": 369, \"group_name\": \"_first_name_metaphone_\", \"total_non_null_rows\": 50578, \"total_rows_inc_nulls\": 50578, \"sum_tokens_in_value_count_group\": 369, \"distinct_value_count\": 2418}, {\"percentile_ex_nulls\": 0.4974692463874817, \"percentile_inc_nulls\": 0.4974692463874817, \"value_count\": 364, \"group_name\": \"_first_name_metaphone_\", \"total_non_null_rows\": 50578, \"total_rows_inc_nulls\": 50578, \"sum_tokens_in_value_count_group\": 364, \"distinct_value_count\": 2418}, {\"percentile_ex_nulls\": 0.4903515577316284, \"percentile_inc_nulls\": 0.4903515577316284, \"value_count\": 360, \"group_name\": \"_first_name_metaphone_\", \"total_non_null_rows\": 50578, \"total_rows_inc_nulls\": 50578, \"sum_tokens_in_value_count_group\": 360, \"distinct_value_count\": 2418}, {\"percentile_ex_nulls\": 0.4834117889404297, \"percentile_inc_nulls\": 0.4834117889404297, \"value_count\": 351, \"group_name\": \"_first_name_metaphone_\", \"total_non_null_rows\": 50578, \"total_rows_inc_nulls\": 50578, \"sum_tokens_in_value_count_group\": 351, \"distinct_value_count\": 2418}, {\"percentile_ex_nulls\": 0.47651153802871704, \"percentile_inc_nulls\": 0.47651153802871704, \"value_count\": 349, \"group_name\": \"_first_name_metaphone_\", \"total_non_null_rows\": 50578, \"total_rows_inc_nulls\": 50578, \"sum_tokens_in_value_count_group\": 349, \"distinct_value_count\": 2418}, {\"percentile_ex_nulls\": 0.46990787982940674, \"percentile_inc_nulls\": 0.46990787982940674, \"value_count\": 334, \"group_name\": \"_first_name_metaphone_\", \"total_non_null_rows\": 50578, \"total_rows_inc_nulls\": 50578, \"sum_tokens_in_value_count_group\": 334, \"distinct_value_count\": 2418}, {\"percentile_ex_nulls\": 0.46389734745025635, \"percentile_inc_nulls\": 0.46389734745025635, \"value_count\": 304, \"group_name\": \"_first_name_metaphone_\", \"total_non_null_rows\": 50578, \"total_rows_inc_nulls\": 50578, \"sum_tokens_in_value_count_group\": 304, \"distinct_value_count\": 2418}, {\"percentile_ex_nulls\": 0.4579659104347229, \"percentile_inc_nulls\": 0.4579659104347229, \"value_count\": 300, \"group_name\": \"_first_name_metaphone_\", \"total_non_null_rows\": 50578, \"total_rows_inc_nulls\": 50578, \"sum_tokens_in_value_count_group\": 300, \"distinct_value_count\": 2418}, {\"percentile_ex_nulls\": 0.4521135687828064, \"percentile_inc_nulls\": 0.4521135687828064, \"value_count\": 296, \"group_name\": \"_first_name_metaphone_\", \"total_non_null_rows\": 50578, \"total_rows_inc_nulls\": 50578, \"sum_tokens_in_value_count_group\": 296, \"distinct_value_count\": 2418}, {\"percentile_ex_nulls\": 0.44076478481292725, \"percentile_inc_nulls\": 0.44076478481292725, \"value_count\": 287, \"group_name\": \"_first_name_metaphone_\", \"total_non_null_rows\": 50578, \"total_rows_inc_nulls\": 50578, \"sum_tokens_in_value_count_group\": 574, \"distinct_value_count\": 2418}, {\"percentile_ex_nulls\": 0.43524855375289917, \"percentile_inc_nulls\": 0.43524855375289917, \"value_count\": 279, \"group_name\": \"_first_name_metaphone_\", \"total_non_null_rows\": 50578, \"total_rows_inc_nulls\": 50578, \"sum_tokens_in_value_count_group\": 279, \"distinct_value_count\": 2418}, {\"percentile_ex_nulls\": 0.4301079511642456, \"percentile_inc_nulls\": 0.4301079511642456, \"value_count\": 260, \"group_name\": \"_first_name_metaphone_\", \"total_non_null_rows\": 50578, \"total_rows_inc_nulls\": 50578, \"sum_tokens_in_value_count_group\": 260, \"distinct_value_count\": 2418}, {\"percentile_ex_nulls\": 0.42508602142333984, \"percentile_inc_nulls\": 0.42508602142333984, \"value_count\": 254, \"group_name\": \"_first_name_metaphone_\", \"total_non_null_rows\": 50578, \"total_rows_inc_nulls\": 50578, \"sum_tokens_in_value_count_group\": 254, \"distinct_value_count\": 2418}, {\"percentile_ex_nulls\": 0.42026180028915405, \"percentile_inc_nulls\": 0.42026180028915405, \"value_count\": 244, \"group_name\": \"_first_name_metaphone_\", \"total_non_null_rows\": 50578, \"total_rows_inc_nulls\": 50578, \"sum_tokens_in_value_count_group\": 244, \"distinct_value_count\": 2418}, {\"percentile_ex_nulls\": 0.4154573082923889, \"percentile_inc_nulls\": 0.4154573082923889, \"value_count\": 243, \"group_name\": \"_first_name_metaphone_\", \"total_non_null_rows\": 50578, \"total_rows_inc_nulls\": 50578, \"sum_tokens_in_value_count_group\": 243, \"distinct_value_count\": 2418}, {\"percentile_ex_nulls\": 0.41096919775009155, \"percentile_inc_nulls\": 0.41096919775009155, \"value_count\": 227, \"group_name\": \"_first_name_metaphone_\", \"total_non_null_rows\": 50578, \"total_rows_inc_nulls\": 50578, \"sum_tokens_in_value_count_group\": 227, \"distinct_value_count\": 2418}, {\"percentile_ex_nulls\": 0.40667879581451416, \"percentile_inc_nulls\": 0.40667879581451416, \"value_count\": 217, \"group_name\": \"_first_name_metaphone_\", \"total_non_null_rows\": 50578, \"total_rows_inc_nulls\": 50578, \"sum_tokens_in_value_count_group\": 217, \"distinct_value_count\": 2418}, {\"percentile_ex_nulls\": 0.4029420018196106, \"percentile_inc_nulls\": 0.4029420018196106, \"value_count\": 189, \"group_name\": \"_first_name_metaphone_\", \"total_non_null_rows\": 50578, \"total_rows_inc_nulls\": 50578, \"sum_tokens_in_value_count_group\": 189, \"distinct_value_count\": 2418}, {\"percentile_ex_nulls\": 0.39926451444625854, \"percentile_inc_nulls\": 0.39926451444625854, \"value_count\": 186, \"group_name\": \"_first_name_metaphone_\", \"total_non_null_rows\": 50578, \"total_rows_inc_nulls\": 50578, \"sum_tokens_in_value_count_group\": 186, \"distinct_value_count\": 2418}, {\"percentile_ex_nulls\": 0.3956265449523926, \"percentile_inc_nulls\": 0.3956265449523926, \"value_count\": 184, \"group_name\": \"_first_name_metaphone_\", \"total_non_null_rows\": 50578, \"total_rows_inc_nulls\": 50578, \"sum_tokens_in_value_count_group\": 184, \"distinct_value_count\": 2418}, {\"percentile_ex_nulls\": 0.3921072483062744, \"percentile_inc_nulls\": 0.3921072483062744, \"value_count\": 178, \"group_name\": \"_first_name_metaphone_\", \"total_non_null_rows\": 50578, \"total_rows_inc_nulls\": 50578, \"sum_tokens_in_value_count_group\": 178, \"distinct_value_count\": 2418}, {\"percentile_ex_nulls\": 0.38862746953964233, \"percentile_inc_nulls\": 0.38862746953964233, \"value_count\": 176, \"group_name\": \"_first_name_metaphone_\", \"total_non_null_rows\": 50578, \"total_rows_inc_nulls\": 50578, \"sum_tokens_in_value_count_group\": 176, \"distinct_value_count\": 2418}, {\"percentile_ex_nulls\": 0.38186562061309814, \"percentile_inc_nulls\": 0.38186562061309814, \"value_count\": 171, \"group_name\": \"_first_name_metaphone_\", \"total_non_null_rows\": 50578, \"total_rows_inc_nulls\": 50578, \"sum_tokens_in_value_count_group\": 342, \"distinct_value_count\": 2418}, {\"percentile_ex_nulls\": 0.3786824345588684, \"percentile_inc_nulls\": 0.3786824345588684, \"value_count\": 161, \"group_name\": \"_first_name_metaphone_\", \"total_non_null_rows\": 50578, \"total_rows_inc_nulls\": 50578, \"sum_tokens_in_value_count_group\": 161, \"distinct_value_count\": 2418}, {\"percentile_ex_nulls\": 0.37559807300567627, \"percentile_inc_nulls\": 0.37559807300567627, \"value_count\": 156, \"group_name\": \"_first_name_metaphone_\", \"total_non_null_rows\": 50578, \"total_rows_inc_nulls\": 50578, \"sum_tokens_in_value_count_group\": 156, \"distinct_value_count\": 2418}, {\"percentile_ex_nulls\": 0.37253350019454956, \"percentile_inc_nulls\": 0.37253350019454956, \"value_count\": 155, \"group_name\": \"_first_name_metaphone_\", \"total_non_null_rows\": 50578, \"total_rows_inc_nulls\": 50578, \"sum_tokens_in_value_count_group\": 155, \"distinct_value_count\": 2418}, {\"percentile_ex_nulls\": 0.3694887161254883, \"percentile_inc_nulls\": 0.3694887161254883, \"value_count\": 154, \"group_name\": \"_first_name_metaphone_\", \"total_non_null_rows\": 50578, \"total_rows_inc_nulls\": 50578, \"sum_tokens_in_value_count_group\": 154, \"distinct_value_count\": 2418}, {\"percentile_ex_nulls\": 0.3665032386779785, \"percentile_inc_nulls\": 0.3665032386779785, \"value_count\": 151, \"group_name\": \"_first_name_metaphone_\", \"total_non_null_rows\": 50578, \"total_rows_inc_nulls\": 50578, \"sum_tokens_in_value_count_group\": 151, \"distinct_value_count\": 2418}, {\"percentile_ex_nulls\": 0.36061131954193115, \"percentile_inc_nulls\": 0.36061131954193115, \"value_count\": 149, \"group_name\": \"_first_name_metaphone_\", \"total_non_null_rows\": 50578, \"total_rows_inc_nulls\": 50578, \"sum_tokens_in_value_count_group\": 298, \"distinct_value_count\": 2418}, {\"percentile_ex_nulls\": 0.35772472620010376, \"percentile_inc_nulls\": 0.35772472620010376, \"value_count\": 146, \"group_name\": \"_first_name_metaphone_\", \"total_non_null_rows\": 50578, \"total_rows_inc_nulls\": 50578, \"sum_tokens_in_value_count_group\": 146, \"distinct_value_count\": 2418}, {\"percentile_ex_nulls\": 0.3549566864967346, \"percentile_inc_nulls\": 0.3549566864967346, \"value_count\": 140, \"group_name\": \"_first_name_metaphone_\", \"total_non_null_rows\": 50578, \"total_rows_inc_nulls\": 50578, \"sum_tokens_in_value_count_group\": 140, \"distinct_value_count\": 2418}, {\"percentile_ex_nulls\": 0.3522084951400757, \"percentile_inc_nulls\": 0.3522084951400757, \"value_count\": 139, \"group_name\": \"_first_name_metaphone_\", \"total_non_null_rows\": 50578, \"total_rows_inc_nulls\": 50578, \"sum_tokens_in_value_count_group\": 139, \"distinct_value_count\": 2418}, {\"percentile_ex_nulls\": 0.34949976205825806, \"percentile_inc_nulls\": 0.34949976205825806, \"value_count\": 137, \"group_name\": \"_first_name_metaphone_\", \"total_non_null_rows\": 50578, \"total_rows_inc_nulls\": 50578, \"sum_tokens_in_value_count_group\": 137, \"distinct_value_count\": 2418}, {\"percentile_ex_nulls\": 0.34690970182418823, \"percentile_inc_nulls\": 0.34690970182418823, \"value_count\": 131, \"group_name\": \"_first_name_metaphone_\", \"total_non_null_rows\": 50578, \"total_rows_inc_nulls\": 50578, \"sum_tokens_in_value_count_group\": 131, \"distinct_value_count\": 2418}, {\"percentile_ex_nulls\": 0.34433943033218384, \"percentile_inc_nulls\": 0.34433943033218384, \"value_count\": 130, \"group_name\": \"_first_name_metaphone_\", \"total_non_null_rows\": 50578, \"total_rows_inc_nulls\": 50578, \"sum_tokens_in_value_count_group\": 130, \"distinct_value_count\": 2418}, {\"percentile_ex_nulls\": 0.3417889475822449, \"percentile_inc_nulls\": 0.3417889475822449, \"value_count\": 129, \"group_name\": \"_first_name_metaphone_\", \"total_non_null_rows\": 50578, \"total_rows_inc_nulls\": 50578, \"sum_tokens_in_value_count_group\": 129, \"distinct_value_count\": 2418}, {\"percentile_ex_nulls\": 0.33935701847076416, \"percentile_inc_nulls\": 0.33935701847076416, \"value_count\": 123, \"group_name\": \"_first_name_metaphone_\", \"total_non_null_rows\": 50578, \"total_rows_inc_nulls\": 50578, \"sum_tokens_in_value_count_group\": 123, \"distinct_value_count\": 2418}, {\"percentile_ex_nulls\": 0.33694493770599365, \"percentile_inc_nulls\": 0.33694493770599365, \"value_count\": 122, \"group_name\": \"_first_name_metaphone_\", \"total_non_null_rows\": 50578, \"total_rows_inc_nulls\": 50578, \"sum_tokens_in_value_count_group\": 122, \"distinct_value_count\": 2418}, {\"percentile_ex_nulls\": 0.33231842517852783, \"percentile_inc_nulls\": 0.33231842517852783, \"value_count\": 117, \"group_name\": \"_first_name_metaphone_\", \"total_non_null_rows\": 50578, \"total_rows_inc_nulls\": 50578, \"sum_tokens_in_value_count_group\": 234, \"distinct_value_count\": 2418}, {\"percentile_ex_nulls\": 0.3277314305305481, \"percentile_inc_nulls\": 0.3277314305305481, \"value_count\": 116, \"group_name\": \"_first_name_metaphone_\", \"total_non_null_rows\": 50578, \"total_rows_inc_nulls\": 50578, \"sum_tokens_in_value_count_group\": 232, \"distinct_value_count\": 2418}, {\"percentile_ex_nulls\": 0.3255169987678528, \"percentile_inc_nulls\": 0.3255169987678528, \"value_count\": 112, \"group_name\": \"_first_name_metaphone_\", \"total_non_null_rows\": 50578, \"total_rows_inc_nulls\": 50578, \"sum_tokens_in_value_count_group\": 112, \"distinct_value_count\": 2418}, {\"percentile_ex_nulls\": 0.3233224153518677, \"percentile_inc_nulls\": 0.3233224153518677, \"value_count\": 111, \"group_name\": \"_first_name_metaphone_\", \"total_non_null_rows\": 50578, \"total_rows_inc_nulls\": 50578, \"sum_tokens_in_value_count_group\": 111, \"distinct_value_count\": 2418}, {\"percentile_ex_nulls\": 0.318972647190094, \"percentile_inc_nulls\": 0.318972647190094, \"value_count\": 110, \"group_name\": \"_first_name_metaphone_\", \"total_non_null_rows\": 50578, \"total_rows_inc_nulls\": 50578, \"sum_tokens_in_value_count_group\": 220, \"distinct_value_count\": 2418}, {\"percentile_ex_nulls\": 0.3147416114807129, \"percentile_inc_nulls\": 0.3147416114807129, \"value_count\": 107, \"group_name\": \"_first_name_metaphone_\", \"total_non_null_rows\": 50578, \"total_rows_inc_nulls\": 50578, \"sum_tokens_in_value_count_group\": 214, \"distinct_value_count\": 2418}, {\"percentile_ex_nulls\": 0.3105500340461731, \"percentile_inc_nulls\": 0.3105500340461731, \"value_count\": 106, \"group_name\": \"_first_name_metaphone_\", \"total_non_null_rows\": 50578, \"total_rows_inc_nulls\": 50578, \"sum_tokens_in_value_count_group\": 212, \"distinct_value_count\": 2418}, {\"percentile_ex_nulls\": 0.3064771294593811, \"percentile_inc_nulls\": 0.3064771294593811, \"value_count\": 103, \"group_name\": \"_first_name_metaphone_\", \"total_non_null_rows\": 50578, \"total_rows_inc_nulls\": 50578, \"sum_tokens_in_value_count_group\": 206, \"distinct_value_count\": 2418}, {\"percentile_ex_nulls\": 0.30054569244384766, \"percentile_inc_nulls\": 0.30054569244384766, \"value_count\": 100, \"group_name\": \"_first_name_metaphone_\", \"total_non_null_rows\": 50578, \"total_rows_inc_nulls\": 50578, \"sum_tokens_in_value_count_group\": 300, \"distinct_value_count\": 2418}, {\"percentile_ex_nulls\": 0.2985883355140686, \"percentile_inc_nulls\": 0.2985883355140686, \"value_count\": 99, \"group_name\": \"_first_name_metaphone_\", \"total_non_null_rows\": 50578, \"total_rows_inc_nulls\": 50578, \"sum_tokens_in_value_count_group\": 99, \"distinct_value_count\": 2418}, {\"percentile_ex_nulls\": 0.2966507077217102, \"percentile_inc_nulls\": 0.2966507077217102, \"value_count\": 98, \"group_name\": \"_first_name_metaphone_\", \"total_non_null_rows\": 50578, \"total_rows_inc_nulls\": 50578, \"sum_tokens_in_value_count_group\": 98, \"distinct_value_count\": 2418}, {\"percentile_ex_nulls\": 0.29119378328323364, \"percentile_inc_nulls\": 0.29119378328323364, \"value_count\": 92, \"group_name\": \"_first_name_metaphone_\", \"total_non_null_rows\": 50578, \"total_rows_inc_nulls\": 50578, \"sum_tokens_in_value_count_group\": 276, \"distinct_value_count\": 2418}, {\"percentile_ex_nulls\": 0.28771400451660156, \"percentile_inc_nulls\": 0.28771400451660156, \"value_count\": 88, \"group_name\": \"_first_name_metaphone_\", \"total_non_null_rows\": 50578, \"total_rows_inc_nulls\": 50578, \"sum_tokens_in_value_count_group\": 176, \"distinct_value_count\": 2418}, {\"percentile_ex_nulls\": 0.2843528985977173, \"percentile_inc_nulls\": 0.2843528985977173, \"value_count\": 85, \"group_name\": \"_first_name_metaphone_\", \"total_non_null_rows\": 50578, \"total_rows_inc_nulls\": 50578, \"sum_tokens_in_value_count_group\": 170, \"distinct_value_count\": 2418}, {\"percentile_ex_nulls\": 0.2826920747756958, \"percentile_inc_nulls\": 0.2826920747756958, \"value_count\": 84, \"group_name\": \"_first_name_metaphone_\", \"total_non_null_rows\": 50578, \"total_rows_inc_nulls\": 50578, \"sum_tokens_in_value_count_group\": 84, \"distinct_value_count\": 2418}, {\"percentile_ex_nulls\": 0.27944958209991455, \"percentile_inc_nulls\": 0.27944958209991455, \"value_count\": 82, \"group_name\": \"_first_name_metaphone_\", \"total_non_null_rows\": 50578, \"total_rows_inc_nulls\": 50578, \"sum_tokens_in_value_count_group\": 164, \"distinct_value_count\": 2418}, {\"percentile_ex_nulls\": 0.2762466073036194, \"percentile_inc_nulls\": 0.2762466073036194, \"value_count\": 81, \"group_name\": \"_first_name_metaphone_\", \"total_non_null_rows\": 50578, \"total_rows_inc_nulls\": 50578, \"sum_tokens_in_value_count_group\": 162, \"distinct_value_count\": 2418}, {\"percentile_ex_nulls\": 0.27466487884521484, \"percentile_inc_nulls\": 0.27466487884521484, \"value_count\": 80, \"group_name\": \"_first_name_metaphone_\", \"total_non_null_rows\": 50578, \"total_rows_inc_nulls\": 50578, \"sum_tokens_in_value_count_group\": 80, \"distinct_value_count\": 2418}, {\"percentile_ex_nulls\": 0.26849615573883057, \"percentile_inc_nulls\": 0.26849615573883057, \"value_count\": 78, \"group_name\": \"_first_name_metaphone_\", \"total_non_null_rows\": 50578, \"total_rows_inc_nulls\": 50578, \"sum_tokens_in_value_count_group\": 312, \"distinct_value_count\": 2418}, {\"percentile_ex_nulls\": 0.2669737935066223, \"percentile_inc_nulls\": 0.2669737935066223, \"value_count\": 77, \"group_name\": \"_first_name_metaphone_\", \"total_non_null_rows\": 50578, \"total_rows_inc_nulls\": 50578, \"sum_tokens_in_value_count_group\": 77, \"distinct_value_count\": 2418}, {\"percentile_ex_nulls\": 0.2654711604118347, \"percentile_inc_nulls\": 0.2654711604118347, \"value_count\": 76, \"group_name\": \"_first_name_metaphone_\", \"total_non_null_rows\": 50578, \"total_rows_inc_nulls\": 50578, \"sum_tokens_in_value_count_group\": 76, \"distinct_value_count\": 2418}, {\"percentile_ex_nulls\": 0.26398831605911255, \"percentile_inc_nulls\": 0.26398831605911255, \"value_count\": 75, \"group_name\": \"_first_name_metaphone_\", \"total_non_null_rows\": 50578, \"total_rows_inc_nulls\": 50578, \"sum_tokens_in_value_count_group\": 75, \"distinct_value_count\": 2418}, {\"percentile_ex_nulls\": 0.26252520084381104, \"percentile_inc_nulls\": 0.26252520084381104, \"value_count\": 74, \"group_name\": \"_first_name_metaphone_\", \"total_non_null_rows\": 50578, \"total_rows_inc_nulls\": 50578, \"sum_tokens_in_value_count_group\": 74, \"distinct_value_count\": 2418}, {\"percentile_ex_nulls\": 0.2596781253814697, \"percentile_inc_nulls\": 0.2596781253814697, \"value_count\": 72, \"group_name\": \"_first_name_metaphone_\", \"total_non_null_rows\": 50578, \"total_rows_inc_nulls\": 50578, \"sum_tokens_in_value_count_group\": 144, \"distinct_value_count\": 2418}, {\"percentile_ex_nulls\": 0.25829410552978516, \"percentile_inc_nulls\": 0.25829410552978516, \"value_count\": 70, \"group_name\": \"_first_name_metaphone_\", \"total_non_null_rows\": 50578, \"total_rows_inc_nulls\": 50578, \"sum_tokens_in_value_count_group\": 70, \"distinct_value_count\": 2418}, {\"percentile_ex_nulls\": 0.256929874420166, \"percentile_inc_nulls\": 0.256929874420166, \"value_count\": 69, \"group_name\": \"_first_name_metaphone_\", \"total_non_null_rows\": 50578, \"total_rows_inc_nulls\": 50578, \"sum_tokens_in_value_count_group\": 69, \"distinct_value_count\": 2418}, {\"percentile_ex_nulls\": 0.2542409896850586, \"percentile_inc_nulls\": 0.2542409896850586, \"value_count\": 68, \"group_name\": \"_first_name_metaphone_\", \"total_non_null_rows\": 50578, \"total_rows_inc_nulls\": 50578, \"sum_tokens_in_value_count_group\": 136, \"distinct_value_count\": 2418}, {\"percentile_ex_nulls\": 0.25291627645492554, \"percentile_inc_nulls\": 0.25291627645492554, \"value_count\": 67, \"group_name\": \"_first_name_metaphone_\", \"total_non_null_rows\": 50578, \"total_rows_inc_nulls\": 50578, \"sum_tokens_in_value_count_group\": 67, \"distinct_value_count\": 2418}, {\"percentile_ex_nulls\": 0.25165092945098877, \"percentile_inc_nulls\": 0.25165092945098877, \"value_count\": 64, \"group_name\": \"_first_name_metaphone_\", \"total_non_null_rows\": 50578, \"total_rows_inc_nulls\": 50578, \"sum_tokens_in_value_count_group\": 64, \"distinct_value_count\": 2418}, {\"percentile_ex_nulls\": 0.25040531158447266, \"percentile_inc_nulls\": 0.25040531158447266, \"value_count\": 63, \"group_name\": \"_first_name_metaphone_\", \"total_non_null_rows\": 50578, \"total_rows_inc_nulls\": 50578, \"sum_tokens_in_value_count_group\": 63, \"distinct_value_count\": 2418}, {\"percentile_ex_nulls\": 0.24917948246002197, \"percentile_inc_nulls\": 0.24917948246002197, \"value_count\": 62, \"group_name\": \"_first_name_metaphone_\", \"total_non_null_rows\": 50578, \"total_rows_inc_nulls\": 50578, \"sum_tokens_in_value_count_group\": 62, \"distinct_value_count\": 2418}, {\"percentile_ex_nulls\": 0.24797344207763672, \"percentile_inc_nulls\": 0.24797344207763672, \"value_count\": 61, \"group_name\": \"_first_name_metaphone_\", \"total_non_null_rows\": 50578, \"total_rows_inc_nulls\": 50578, \"sum_tokens_in_value_count_group\": 61, \"distinct_value_count\": 2418}, {\"percentile_ex_nulls\": 0.2456008791923523, \"percentile_inc_nulls\": 0.2456008791923523, \"value_count\": 60, \"group_name\": \"_first_name_metaphone_\", \"total_non_null_rows\": 50578, \"total_rows_inc_nulls\": 50578, \"sum_tokens_in_value_count_group\": 120, \"distinct_value_count\": 2418}, {\"percentile_ex_nulls\": 0.24093478918075562, \"percentile_inc_nulls\": 0.24093478918075562, \"value_count\": 59, \"group_name\": \"_first_name_metaphone_\", \"total_non_null_rows\": 50578, \"total_rows_inc_nulls\": 50578, \"sum_tokens_in_value_count_group\": 236, \"distinct_value_count\": 2418}, {\"percentile_ex_nulls\": 0.23634779453277588, \"percentile_inc_nulls\": 0.23634779453277588, \"value_count\": 58, \"group_name\": \"_first_name_metaphone_\", \"total_non_null_rows\": 50578, \"total_rows_inc_nulls\": 50578, \"sum_tokens_in_value_count_group\": 232, \"distinct_value_count\": 2418}, {\"percentile_ex_nulls\": 0.233204185962677, \"percentile_inc_nulls\": 0.233204185962677, \"value_count\": 53, \"group_name\": \"_first_name_metaphone_\", \"total_non_null_rows\": 50578, \"total_rows_inc_nulls\": 50578, \"sum_tokens_in_value_count_group\": 159, \"distinct_value_count\": 2418}, {\"percentile_ex_nulls\": 0.23114794492721558, \"percentile_inc_nulls\": 0.23114794492721558, \"value_count\": 52, \"group_name\": \"_first_name_metaphone_\", \"total_non_null_rows\": 50578, \"total_rows_inc_nulls\": 50578, \"sum_tokens_in_value_count_group\": 104, \"distinct_value_count\": 2418}, {\"percentile_ex_nulls\": 0.2301396131515503, \"percentile_inc_nulls\": 0.2301396131515503, \"value_count\": 51, \"group_name\": \"_first_name_metaphone_\", \"total_non_null_rows\": 50578, \"total_rows_inc_nulls\": 50578, \"sum_tokens_in_value_count_group\": 51, \"distinct_value_count\": 2418}, {\"percentile_ex_nulls\": 0.22717386484146118, \"percentile_inc_nulls\": 0.22717386484146118, \"value_count\": 50, \"group_name\": \"_first_name_metaphone_\", \"total_non_null_rows\": 50578, \"total_rows_inc_nulls\": 50578, \"sum_tokens_in_value_count_group\": 150, \"distinct_value_count\": 2418}, {\"percentile_ex_nulls\": 0.22620505094528198, \"percentile_inc_nulls\": 0.22620505094528198, \"value_count\": 49, \"group_name\": \"_first_name_metaphone_\", \"total_non_null_rows\": 50578, \"total_rows_inc_nulls\": 50578, \"sum_tokens_in_value_count_group\": 49, \"distinct_value_count\": 2418}, {\"percentile_ex_nulls\": 0.22145992517471313, \"percentile_inc_nulls\": 0.22145992517471313, \"value_count\": 48, \"group_name\": \"_first_name_metaphone_\", \"total_non_null_rows\": 50578, \"total_rows_inc_nulls\": 50578, \"sum_tokens_in_value_count_group\": 240, \"distinct_value_count\": 2418}, {\"percentile_ex_nulls\": 0.2205306887626648, \"percentile_inc_nulls\": 0.2205306887626648, \"value_count\": 47, \"group_name\": \"_first_name_metaphone_\", \"total_non_null_rows\": 50578, \"total_rows_inc_nulls\": 50578, \"sum_tokens_in_value_count_group\": 47, \"distinct_value_count\": 2418}, {\"percentile_ex_nulls\": 0.2196211814880371, \"percentile_inc_nulls\": 0.2196211814880371, \"value_count\": 46, \"group_name\": \"_first_name_metaphone_\", \"total_non_null_rows\": 50578, \"total_rows_inc_nulls\": 50578, \"sum_tokens_in_value_count_group\": 46, \"distinct_value_count\": 2418}, {\"percentile_ex_nulls\": 0.2178417444229126, \"percentile_inc_nulls\": 0.2178417444229126, \"value_count\": 45, \"group_name\": \"_first_name_metaphone_\", \"total_non_null_rows\": 50578, \"total_rows_inc_nulls\": 50578, \"sum_tokens_in_value_count_group\": 90, \"distinct_value_count\": 2418}, {\"percentile_ex_nulls\": 0.21088218688964844, \"percentile_inc_nulls\": 0.21088218688964844, \"value_count\": 44, \"group_name\": \"_first_name_metaphone_\", \"total_non_null_rows\": 50578, \"total_rows_inc_nulls\": 50578, \"sum_tokens_in_value_count_group\": 352, \"distinct_value_count\": 2418}, {\"percentile_ex_nulls\": 0.20918184518814087, \"percentile_inc_nulls\": 0.20918184518814087, \"value_count\": 43, \"group_name\": \"_first_name_metaphone_\", \"total_non_null_rows\": 50578, \"total_rows_inc_nulls\": 50578, \"sum_tokens_in_value_count_group\": 86, \"distinct_value_count\": 2418}, {\"percentile_ex_nulls\": 0.20336908102035522, \"percentile_inc_nulls\": 0.20336908102035522, \"value_count\": 42, \"group_name\": \"_first_name_metaphone_\", \"total_non_null_rows\": 50578, \"total_rows_inc_nulls\": 50578, \"sum_tokens_in_value_count_group\": 294, \"distinct_value_count\": 2418}, {\"percentile_ex_nulls\": 0.2001265287399292, \"percentile_inc_nulls\": 0.2001265287399292, \"value_count\": 41, \"group_name\": \"_first_name_metaphone_\", \"total_non_null_rows\": 50578, \"total_rows_inc_nulls\": 50578, \"sum_tokens_in_value_count_group\": 164, \"distinct_value_count\": 2418}, {\"percentile_ex_nulls\": 0.19854480028152466, \"percentile_inc_nulls\": 0.19854480028152466, \"value_count\": 40, \"group_name\": \"_first_name_metaphone_\", \"total_non_null_rows\": 50578, \"total_rows_inc_nulls\": 50578, \"sum_tokens_in_value_count_group\": 80, \"distinct_value_count\": 2418}, {\"percentile_ex_nulls\": 0.19623154401779175, \"percentile_inc_nulls\": 0.19623154401779175, \"value_count\": 39, \"group_name\": \"_first_name_metaphone_\", \"total_non_null_rows\": 50578, \"total_rows_inc_nulls\": 50578, \"sum_tokens_in_value_count_group\": 117, \"distinct_value_count\": 2418}, {\"percentile_ex_nulls\": 0.19172364473342896, \"percentile_inc_nulls\": 0.19172364473342896, \"value_count\": 38, \"group_name\": \"_first_name_metaphone_\", \"total_non_null_rows\": 50578, \"total_rows_inc_nulls\": 50578, \"sum_tokens_in_value_count_group\": 228, \"distinct_value_count\": 2418}, {\"percentile_ex_nulls\": 0.18952906131744385, \"percentile_inc_nulls\": 0.18952906131744385, \"value_count\": 37, \"group_name\": \"_first_name_metaphone_\", \"total_non_null_rows\": 50578, \"total_rows_inc_nulls\": 50578, \"sum_tokens_in_value_count_group\": 111, \"distinct_value_count\": 2418}, {\"percentile_ex_nulls\": 0.18881726264953613, \"percentile_inc_nulls\": 0.18881726264953613, \"value_count\": 36, \"group_name\": \"_first_name_metaphone_\", \"total_non_null_rows\": 50578, \"total_rows_inc_nulls\": 50578, \"sum_tokens_in_value_count_group\": 36, \"distinct_value_count\": 2418}, {\"percentile_ex_nulls\": 0.1839732527732849, \"percentile_inc_nulls\": 0.1839732527732849, \"value_count\": 35, \"group_name\": \"_first_name_metaphone_\", \"total_non_null_rows\": 50578, \"total_rows_inc_nulls\": 50578, \"sum_tokens_in_value_count_group\": 245, \"distinct_value_count\": 2418}, {\"percentile_ex_nulls\": 0.18061214685440063, \"percentile_inc_nulls\": 0.18061214685440063, \"value_count\": 34, \"group_name\": \"_first_name_metaphone_\", \"total_non_null_rows\": 50578, \"total_rows_inc_nulls\": 50578, \"sum_tokens_in_value_count_group\": 170, \"distinct_value_count\": 2418}, {\"percentile_ex_nulls\": 0.17734986543655396, \"percentile_inc_nulls\": 0.17734986543655396, \"value_count\": 33, \"group_name\": \"_first_name_metaphone_\", \"total_non_null_rows\": 50578, \"total_rows_inc_nulls\": 50578, \"sum_tokens_in_value_count_group\": 165, \"distinct_value_count\": 2418}, {\"percentile_ex_nulls\": 0.17545175552368164, \"percentile_inc_nulls\": 0.17545175552368164, \"value_count\": 32, \"group_name\": \"_first_name_metaphone_\", \"total_non_null_rows\": 50578, \"total_rows_inc_nulls\": 50578, \"sum_tokens_in_value_count_group\": 96, \"distinct_value_count\": 2418}, {\"percentile_ex_nulls\": 0.17116135358810425, \"percentile_inc_nulls\": 0.17116135358810425, \"value_count\": 31, \"group_name\": \"_first_name_metaphone_\", \"total_non_null_rows\": 50578, \"total_rows_inc_nulls\": 50578, \"sum_tokens_in_value_count_group\": 217, \"distinct_value_count\": 2418}, {\"percentile_ex_nulls\": 0.1681956648826599, \"percentile_inc_nulls\": 0.1681956648826599, \"value_count\": 30, \"group_name\": \"_first_name_metaphone_\", \"total_non_null_rows\": 50578, \"total_rows_inc_nulls\": 50578, \"sum_tokens_in_value_count_group\": 150, \"distinct_value_count\": 2418}, {\"percentile_ex_nulls\": 0.16246193647384644, \"percentile_inc_nulls\": 0.16246193647384644, \"value_count\": 29, \"group_name\": \"_first_name_metaphone_\", \"total_non_null_rows\": 50578, \"total_rows_inc_nulls\": 50578, \"sum_tokens_in_value_count_group\": 290, \"distinct_value_count\": 2418}, {\"percentile_ex_nulls\": 0.15914034843444824, \"percentile_inc_nulls\": 0.15914034843444824, \"value_count\": 28, \"group_name\": \"_first_name_metaphone_\", \"total_non_null_rows\": 50578, \"total_rows_inc_nulls\": 50578, \"sum_tokens_in_value_count_group\": 168, \"distinct_value_count\": 2418}, {\"percentile_ex_nulls\": 0.15753883123397827, \"percentile_inc_nulls\": 0.15753883123397827, \"value_count\": 27, \"group_name\": \"_first_name_metaphone_\", \"total_non_null_rows\": 50578, \"total_rows_inc_nulls\": 50578, \"sum_tokens_in_value_count_group\": 81, \"distinct_value_count\": 2418}, {\"percentile_ex_nulls\": 0.15548264980316162, \"percentile_inc_nulls\": 0.15548264980316162, \"value_count\": 26, \"group_name\": \"_first_name_metaphone_\", \"total_non_null_rows\": 50578, \"total_rows_inc_nulls\": 50578, \"sum_tokens_in_value_count_group\": 104, \"distinct_value_count\": 2418}, {\"percentile_ex_nulls\": 0.15350550413131714, \"percentile_inc_nulls\": 0.15350550413131714, \"value_count\": 25, \"group_name\": \"_first_name_metaphone_\", \"total_non_null_rows\": 50578, \"total_rows_inc_nulls\": 50578, \"sum_tokens_in_value_count_group\": 100, \"distinct_value_count\": 2418}, {\"percentile_ex_nulls\": 0.1492348313331604, \"percentile_inc_nulls\": 0.1492348313331604, \"value_count\": 24, \"group_name\": \"_first_name_metaphone_\", \"total_non_null_rows\": 50578, \"total_rows_inc_nulls\": 50578, \"sum_tokens_in_value_count_group\": 216, \"distinct_value_count\": 2418}, {\"percentile_ex_nulls\": 0.14650636911392212, \"percentile_inc_nulls\": 0.14650636911392212, \"value_count\": 23, \"group_name\": \"_first_name_metaphone_\", \"total_non_null_rows\": 50578, \"total_rows_inc_nulls\": 50578, \"sum_tokens_in_value_count_group\": 138, \"distinct_value_count\": 2418}, {\"percentile_ex_nulls\": 1.0, \"percentile_inc_nulls\": 1.0, \"value_count\": 22, \"group_name\": \"_first_name_metaphone_\", \"total_non_null_rows\": 50578, \"total_rows_inc_nulls\": 50578, \"sum_tokens_in_value_count_group\": 88, \"distinct_value_count\": 2418}]}, \"encoding\": {\"tooltip\": [{\"field\": \"value_count\", \"type\": \"quantitative\"}, {\"field\": \"percentile_ex_nulls\", \"type\": \"quantitative\"}, {\"field\": \"percentile_inc_nulls\", \"type\": \"quantitative\"}, {\"field\": \"total_non_null_rows\", \"type\": \"quantitative\"}, {\"field\": \"total_rows_inc_nulls\", \"type\": \"quantitative\"}], \"x\": {\"field\": \"percentile_ex_nulls\", \"sort\": \"descending\", \"title\": \"Percentile\", \"type\": \"quantitative\"}, \"y\": {\"field\": \"value_count\", \"title\": \"Count of values\", \"type\": \"quantitative\"}}, \"title\": {\"text\": \"Distribution of counts of values in column \\\"first_name_metaphone\\\"\", \"subtitle\": \"In this col, 0 values (0.0%) are null and there are 2418 distinct values\"}}, {\"mark\": \"bar\", \"data\": {\"values\": [{\"value_count\": 3556, \"group_name\": \"_first_name_metaphone_\", \"value\": \"JN\", \"total_non_null_rows\": 50578, \"total_rows_inc_nulls\": 50578, \"distinct_value_count\": 2418}, {\"value_count\": 2876, \"group_name\": \"_first_name_metaphone_\", \"value\": \"ALM\", \"total_non_null_rows\": 50578, \"total_rows_inc_nulls\": 50578, \"distinct_value_count\": 2418}, {\"value_count\": 1652, \"group_name\": \"_first_name_metaphone_\", \"value\": \"JRJ\", \"total_non_null_rows\": 50578, \"total_rows_inc_nulls\": 50578, \"distinct_value_count\": 2418}, {\"value_count\": 1473, \"group_name\": \"_first_name_metaphone_\", \"value\": \"TMS\", \"total_non_null_rows\": 50578, \"total_rows_inc_nulls\": 50578, \"distinct_value_count\": 2418}, {\"value_count\": 1386, \"group_name\": \"_first_name_metaphone_\", \"value\": \"SR\", \"total_non_null_rows\": 50578, \"total_rows_inc_nulls\": 50578, \"distinct_value_count\": 2418}, {\"value_count\": 1313, \"group_name\": \"_first_name_metaphone_\", \"value\": \"HNR\", \"total_non_null_rows\": 50578, \"total_rows_inc_nulls\": 50578, \"distinct_value_count\": 2418}, {\"value_count\": 1275, \"group_name\": \"_first_name_metaphone_\", \"value\": \"JMS\", \"total_non_null_rows\": 50578, \"total_rows_inc_nulls\": 50578, \"distinct_value_count\": 2418}, {\"value_count\": 1223, \"group_name\": \"_first_name_metaphone_\", \"value\": \"XRLS\", \"total_non_null_rows\": 50578, \"total_rows_inc_nulls\": 50578, \"distinct_value_count\": 2418}, {\"value_count\": 1017, \"group_name\": \"_first_name_metaphone_\", \"value\": \"AL\", \"total_non_null_rows\": 50578, \"total_rows_inc_nulls\": 50578, \"distinct_value_count\": 2418}, {\"value_count\": 958, \"group_name\": \"_first_name_metaphone_\", \"value\": \"RPRT\", \"total_non_null_rows\": 50578, \"total_rows_inc_nulls\": 50578, \"distinct_value_count\": 2418}]}, \"encoding\": {\"tooltip\": [{\"field\": \"value\", \"type\": \"nominal\"}, {\"field\": \"value_count\", \"type\": \"quantitative\"}, {\"field\": \"total_non_null_rows\", \"type\": \"quantitative\"}, {\"field\": \"total_rows_inc_nulls\", \"type\": \"quantitative\"}], \"x\": {\"field\": \"value\", \"sort\": \"-y\", \"title\": null, \"type\": \"nominal\"}, \"y\": {\"field\": \"value_count\", \"title\": \"Value count\", \"type\": \"quantitative\"}}, \"title\": \"Top 10 values by value count\"}, {\"mark\": \"bar\", \"data\": {\"values\": [{\"value_count\": 1, \"group_name\": \"_first_name_metaphone_\", \"value\": \"RTMNT\", \"total_non_null_rows\": 50578, \"total_rows_inc_nulls\": 50578, \"distinct_value_count\": 2418}, {\"value_count\": 1, \"group_name\": \"_first_name_metaphone_\", \"value\": \"KRSTMS\", \"total_non_null_rows\": 50578, \"total_rows_inc_nulls\": 50578, \"distinct_value_count\": 2418}, {\"value_count\": 1, \"group_name\": \"_first_name_metaphone_\", \"value\": \"PFNX\", \"total_non_null_rows\": 50578, \"total_rows_inc_nulls\": 50578, \"distinct_value_count\": 2418}, {\"value_count\": 1, \"group_name\": \"_first_name_metaphone_\", \"value\": \"AKRMN\", \"total_non_null_rows\": 50578, \"total_rows_inc_nulls\": 50578, \"distinct_value_count\": 2418}, {\"value_count\": 1, \"group_name\": \"_first_name_metaphone_\", \"value\": \"S0PRT\", \"total_non_null_rows\": 50578, \"total_rows_inc_nulls\": 50578, \"distinct_value_count\": 2418}]}, \"encoding\": {\"tooltip\": [{\"field\": \"value\", \"type\": \"nominal\"}, {\"field\": \"value_count\", \"type\": \"quantitative\"}, {\"field\": \"total_non_null_rows\", \"type\": \"quantitative\"}, {\"field\": \"total_rows_inc_nulls\", \"type\": \"quantitative\"}], \"x\": {\"field\": \"value\", \"sort\": \"-y\", \"title\": null, \"type\": \"nominal\"}, \"y\": {\"field\": \"value_count\", \"scale\": {\"domain\": [0, 3556]}, \"title\": \"Value count\", \"type\": \"quantitative\"}}, \"title\": \"Bottom 5 values by value count\"}]}, {\"hconcat\": [{\"mark\": {\"type\": \"line\", \"interpolate\": \"step-before\"}, \"data\": {\"values\": [{\"percentile_ex_nulls\": 0.9106726050376892, \"percentile_inc_nulls\": 0.9106726050376892, \"value_count\": 4518, \"group_name\": \"_last_name_metaphone_\", \"total_non_null_rows\": 50578, \"total_rows_inc_nulls\": 50578, \"sum_tokens_in_value_count_group\": 4518, \"distinct_value_count\": 3485}, {\"percentile_ex_nulls\": 0.8959033489227295, \"percentile_inc_nulls\": 0.8959033489227295, \"value_count\": 747, \"group_name\": \"_last_name_metaphone_\", \"total_non_null_rows\": 50578, \"total_rows_inc_nulls\": 50578, \"sum_tokens_in_value_count_group\": 747, \"distinct_value_count\": 3485}, {\"percentile_ex_nulls\": 0.8879947662353516, \"percentile_inc_nulls\": 0.8879947662353516, \"value_count\": 400, \"group_name\": \"_last_name_metaphone_\", \"total_non_null_rows\": 50578, \"total_rows_inc_nulls\": 50578, \"sum_tokens_in_value_count_group\": 400, \"distinct_value_count\": 3485}, {\"percentile_ex_nulls\": 0.8810352087020874, \"percentile_inc_nulls\": 0.8810352087020874, \"value_count\": 352, \"group_name\": \"_last_name_metaphone_\", \"total_non_null_rows\": 50578, \"total_rows_inc_nulls\": 50578, \"sum_tokens_in_value_count_group\": 352, \"distinct_value_count\": 3485}, {\"percentile_ex_nulls\": 0.8674720525741577, \"percentile_inc_nulls\": 0.8674720525741577, \"value_count\": 343, \"group_name\": \"_last_name_metaphone_\", \"total_non_null_rows\": 50578, \"total_rows_inc_nulls\": 50578, \"sum_tokens_in_value_count_group\": 686, \"distinct_value_count\": 3485}, {\"percentile_ex_nulls\": 0.8607102036476135, \"percentile_inc_nulls\": 0.8607102036476135, \"value_count\": 342, \"group_name\": \"_last_name_metaphone_\", \"total_non_null_rows\": 50578, \"total_rows_inc_nulls\": 50578, \"sum_tokens_in_value_count_group\": 342, \"distinct_value_count\": 3485}, {\"percentile_ex_nulls\": 0.8544623851776123, \"percentile_inc_nulls\": 0.8544623851776123, \"value_count\": 316, \"group_name\": \"_last_name_metaphone_\", \"total_non_null_rows\": 50578, \"total_rows_inc_nulls\": 50578, \"sum_tokens_in_value_count_group\": 316, \"distinct_value_count\": 3485}, {\"percentile_ex_nulls\": 0.8489659428596497, \"percentile_inc_nulls\": 0.8489659428596497, \"value_count\": 278, \"group_name\": \"_last_name_metaphone_\", \"total_non_null_rows\": 50578, \"total_rows_inc_nulls\": 50578, \"sum_tokens_in_value_count_group\": 278, \"distinct_value_count\": 3485}, {\"percentile_ex_nulls\": 0.8434892892837524, \"percentile_inc_nulls\": 0.8434892892837524, \"value_count\": 277, \"group_name\": \"_last_name_metaphone_\", \"total_non_null_rows\": 50578, \"total_rows_inc_nulls\": 50578, \"sum_tokens_in_value_count_group\": 277, \"distinct_value_count\": 3485}, {\"percentile_ex_nulls\": 0.8383684754371643, \"percentile_inc_nulls\": 0.8383684754371643, \"value_count\": 259, \"group_name\": \"_last_name_metaphone_\", \"total_non_null_rows\": 50578, \"total_rows_inc_nulls\": 50578, \"sum_tokens_in_value_count_group\": 259, \"distinct_value_count\": 3485}, {\"percentile_ex_nulls\": 0.8340582847595215, \"percentile_inc_nulls\": 0.8340582847595215, \"value_count\": 218, \"group_name\": \"_last_name_metaphone_\", \"total_non_null_rows\": 50578, \"total_rows_inc_nulls\": 50578, \"sum_tokens_in_value_count_group\": 218, \"distinct_value_count\": 3485}, {\"percentile_ex_nulls\": 0.8298271894454956, \"percentile_inc_nulls\": 0.8298271894454956, \"value_count\": 214, \"group_name\": \"_last_name_metaphone_\", \"total_non_null_rows\": 50578, \"total_rows_inc_nulls\": 50578, \"sum_tokens_in_value_count_group\": 214, \"distinct_value_count\": 3485}, {\"percentile_ex_nulls\": 0.8257344961166382, \"percentile_inc_nulls\": 0.8257344961166382, \"value_count\": 207, \"group_name\": \"_last_name_metaphone_\", \"total_non_null_rows\": 50578, \"total_rows_inc_nulls\": 50578, \"sum_tokens_in_value_count_group\": 207, \"distinct_value_count\": 3485}, {\"percentile_ex_nulls\": 0.8218197822570801, \"percentile_inc_nulls\": 0.8218197822570801, \"value_count\": 198, \"group_name\": \"_last_name_metaphone_\", \"total_non_null_rows\": 50578, \"total_rows_inc_nulls\": 50578, \"sum_tokens_in_value_count_group\": 198, \"distinct_value_count\": 3485}, {\"percentile_ex_nulls\": 0.8179643154144287, \"percentile_inc_nulls\": 0.8179643154144287, \"value_count\": 195, \"group_name\": \"_last_name_metaphone_\", \"total_non_null_rows\": 50578, \"total_rows_inc_nulls\": 50578, \"sum_tokens_in_value_count_group\": 195, \"distinct_value_count\": 3485}, {\"percentile_ex_nulls\": 0.8141286373138428, \"percentile_inc_nulls\": 0.8141286373138428, \"value_count\": 194, \"group_name\": \"_last_name_metaphone_\", \"total_non_null_rows\": 50578, \"total_rows_inc_nulls\": 50578, \"sum_tokens_in_value_count_group\": 194, \"distinct_value_count\": 3485}, {\"percentile_ex_nulls\": 0.8107477426528931, \"percentile_inc_nulls\": 0.8107477426528931, \"value_count\": 171, \"group_name\": \"_last_name_metaphone_\", \"total_non_null_rows\": 50578, \"total_rows_inc_nulls\": 50578, \"sum_tokens_in_value_count_group\": 171, \"distinct_value_count\": 3485}, {\"percentile_ex_nulls\": 0.8073866367340088, \"percentile_inc_nulls\": 0.8073866367340088, \"value_count\": 170, \"group_name\": \"_last_name_metaphone_\", \"total_non_null_rows\": 50578, \"total_rows_inc_nulls\": 50578, \"sum_tokens_in_value_count_group\": 170, \"distinct_value_count\": 3485}, {\"percentile_ex_nulls\": 0.8041243553161621, \"percentile_inc_nulls\": 0.8041243553161621, \"value_count\": 165, \"group_name\": \"_last_name_metaphone_\", \"total_non_null_rows\": 50578, \"total_rows_inc_nulls\": 50578, \"sum_tokens_in_value_count_group\": 165, \"distinct_value_count\": 3485}, {\"percentile_ex_nulls\": 0.8009806871414185, \"percentile_inc_nulls\": 0.8009806871414185, \"value_count\": 159, \"group_name\": \"_last_name_metaphone_\", \"total_non_null_rows\": 50578, \"total_rows_inc_nulls\": 50578, \"sum_tokens_in_value_count_group\": 159, \"distinct_value_count\": 3485}, {\"percentile_ex_nulls\": 0.7979754209518433, \"percentile_inc_nulls\": 0.7979754209518433, \"value_count\": 152, \"group_name\": \"_last_name_metaphone_\", \"total_non_null_rows\": 50578, \"total_rows_inc_nulls\": 50578, \"sum_tokens_in_value_count_group\": 152, \"distinct_value_count\": 3485}, {\"percentile_ex_nulls\": 0.7950689792633057, \"percentile_inc_nulls\": 0.7950689792633057, \"value_count\": 147, \"group_name\": \"_last_name_metaphone_\", \"total_non_null_rows\": 50578, \"total_rows_inc_nulls\": 50578, \"sum_tokens_in_value_count_group\": 147, \"distinct_value_count\": 3485}, {\"percentile_ex_nulls\": 0.7921823859214783, \"percentile_inc_nulls\": 0.7921823859214783, \"value_count\": 146, \"group_name\": \"_last_name_metaphone_\", \"total_non_null_rows\": 50578, \"total_rows_inc_nulls\": 50578, \"sum_tokens_in_value_count_group\": 146, \"distinct_value_count\": 3485}, {\"percentile_ex_nulls\": 0.7895527482032776, \"percentile_inc_nulls\": 0.7895527482032776, \"value_count\": 133, \"group_name\": \"_last_name_metaphone_\", \"total_non_null_rows\": 50578, \"total_rows_inc_nulls\": 50578, \"sum_tokens_in_value_count_group\": 133, \"distinct_value_count\": 3485}, {\"percentile_ex_nulls\": 0.7869429588317871, \"percentile_inc_nulls\": 0.7869429588317871, \"value_count\": 132, \"group_name\": \"_last_name_metaphone_\", \"total_non_null_rows\": 50578, \"total_rows_inc_nulls\": 50578, \"sum_tokens_in_value_count_group\": 132, \"distinct_value_count\": 3485}, {\"percentile_ex_nulls\": 0.7843528985977173, \"percentile_inc_nulls\": 0.7843528985977173, \"value_count\": 131, \"group_name\": \"_last_name_metaphone_\", \"total_non_null_rows\": 50578, \"total_rows_inc_nulls\": 50578, \"sum_tokens_in_value_count_group\": 131, \"distinct_value_count\": 3485}, {\"percentile_ex_nulls\": 0.7817826271057129, \"percentile_inc_nulls\": 0.7817826271057129, \"value_count\": 130, \"group_name\": \"_last_name_metaphone_\", \"total_non_null_rows\": 50578, \"total_rows_inc_nulls\": 50578, \"sum_tokens_in_value_count_group\": 130, \"distinct_value_count\": 3485}, {\"percentile_ex_nulls\": 0.7767606377601624, \"percentile_inc_nulls\": 0.7767606377601624, \"value_count\": 127, \"group_name\": \"_last_name_metaphone_\", \"total_non_null_rows\": 50578, \"total_rows_inc_nulls\": 50578, \"sum_tokens_in_value_count_group\": 254, \"distinct_value_count\": 3485}, {\"percentile_ex_nulls\": 0.7743287682533264, \"percentile_inc_nulls\": 0.7743287682533264, \"value_count\": 123, \"group_name\": \"_last_name_metaphone_\", \"total_non_null_rows\": 50578, \"total_rows_inc_nulls\": 50578, \"sum_tokens_in_value_count_group\": 123, \"distinct_value_count\": 3485}, {\"percentile_ex_nulls\": 0.7670924067497253, \"percentile_inc_nulls\": 0.7670924067497253, \"value_count\": 122, \"group_name\": \"_last_name_metaphone_\", \"total_non_null_rows\": 50578, \"total_rows_inc_nulls\": 50578, \"sum_tokens_in_value_count_group\": 366, \"distinct_value_count\": 3485}, {\"percentile_ex_nulls\": 0.7647000551223755, \"percentile_inc_nulls\": 0.7647000551223755, \"value_count\": 121, \"group_name\": \"_last_name_metaphone_\", \"total_non_null_rows\": 50578, \"total_rows_inc_nulls\": 50578, \"sum_tokens_in_value_count_group\": 121, \"distinct_value_count\": 3485}, {\"percentile_ex_nulls\": 0.7623274922370911, \"percentile_inc_nulls\": 0.7623274922370911, \"value_count\": 120, \"group_name\": \"_last_name_metaphone_\", \"total_non_null_rows\": 50578, \"total_rows_inc_nulls\": 50578, \"sum_tokens_in_value_count_group\": 120, \"distinct_value_count\": 3485}, {\"percentile_ex_nulls\": 0.7599747180938721, \"percentile_inc_nulls\": 0.7599747180938721, \"value_count\": 119, \"group_name\": \"_last_name_metaphone_\", \"total_non_null_rows\": 50578, \"total_rows_inc_nulls\": 50578, \"sum_tokens_in_value_count_group\": 119, \"distinct_value_count\": 3485}, {\"percentile_ex_nulls\": 0.752975583076477, \"percentile_inc_nulls\": 0.752975583076477, \"value_count\": 118, \"group_name\": \"_last_name_metaphone_\", \"total_non_null_rows\": 50578, \"total_rows_inc_nulls\": 50578, \"sum_tokens_in_value_count_group\": 354, \"distinct_value_count\": 3485}, {\"percentile_ex_nulls\": 0.7506623268127441, \"percentile_inc_nulls\": 0.7506623268127441, \"value_count\": 117, \"group_name\": \"_last_name_metaphone_\", \"total_non_null_rows\": 50578, \"total_rows_inc_nulls\": 50578, \"sum_tokens_in_value_count_group\": 117, \"distinct_value_count\": 3485}, {\"percentile_ex_nulls\": 0.7461544275283813, \"percentile_inc_nulls\": 0.7461544275283813, \"value_count\": 114, \"group_name\": \"_last_name_metaphone_\", \"total_non_null_rows\": 50578, \"total_rows_inc_nulls\": 50578, \"sum_tokens_in_value_count_group\": 228, \"distinct_value_count\": 3485}, {\"percentile_ex_nulls\": 0.7416861057281494, \"percentile_inc_nulls\": 0.7416861057281494, \"value_count\": 113, \"group_name\": \"_last_name_metaphone_\", \"total_non_null_rows\": 50578, \"total_rows_inc_nulls\": 50578, \"sum_tokens_in_value_count_group\": 226, \"distinct_value_count\": 3485}, {\"percentile_ex_nulls\": 0.7372968196868896, \"percentile_inc_nulls\": 0.7372968196868896, \"value_count\": 111, \"group_name\": \"_last_name_metaphone_\", \"total_non_null_rows\": 50578, \"total_rows_inc_nulls\": 50578, \"sum_tokens_in_value_count_group\": 222, \"distinct_value_count\": 3485}, {\"percentile_ex_nulls\": 0.7351219654083252, \"percentile_inc_nulls\": 0.7351219654083252, \"value_count\": 110, \"group_name\": \"_last_name_metaphone_\", \"total_non_null_rows\": 50578, \"total_rows_inc_nulls\": 50578, \"sum_tokens_in_value_count_group\": 110, \"distinct_value_count\": 3485}, {\"percentile_ex_nulls\": 0.7308513522148132, \"percentile_inc_nulls\": 0.7308513522148132, \"value_count\": 108, \"group_name\": \"_last_name_metaphone_\", \"total_non_null_rows\": 50578, \"total_rows_inc_nulls\": 50578, \"sum_tokens_in_value_count_group\": 216, \"distinct_value_count\": 3485}, {\"percentile_ex_nulls\": 0.7287358045578003, \"percentile_inc_nulls\": 0.7287358045578003, \"value_count\": 107, \"group_name\": \"_last_name_metaphone_\", \"total_non_null_rows\": 50578, \"total_rows_inc_nulls\": 50578, \"sum_tokens_in_value_count_group\": 107, \"distinct_value_count\": 3485}, {\"percentile_ex_nulls\": 0.7266400456428528, \"percentile_inc_nulls\": 0.7266400456428528, \"value_count\": 106, \"group_name\": \"_last_name_metaphone_\", \"total_non_null_rows\": 50578, \"total_rows_inc_nulls\": 50578, \"sum_tokens_in_value_count_group\": 106, \"distinct_value_count\": 3485}, {\"percentile_ex_nulls\": 0.7246035933494568, \"percentile_inc_nulls\": 0.7246035933494568, \"value_count\": 103, \"group_name\": \"_last_name_metaphone_\", \"total_non_null_rows\": 50578, \"total_rows_inc_nulls\": 50578, \"sum_tokens_in_value_count_group\": 103, \"distinct_value_count\": 3485}, {\"percentile_ex_nulls\": 0.7225868701934814, \"percentile_inc_nulls\": 0.7225868701934814, \"value_count\": 102, \"group_name\": \"_last_name_metaphone_\", \"total_non_null_rows\": 50578, \"total_rows_inc_nulls\": 50578, \"sum_tokens_in_value_count_group\": 102, \"distinct_value_count\": 3485}, {\"percentile_ex_nulls\": 0.7205899953842163, \"percentile_inc_nulls\": 0.7205899953842163, \"value_count\": 101, \"group_name\": \"_last_name_metaphone_\", \"total_non_null_rows\": 50578, \"total_rows_inc_nulls\": 50578, \"sum_tokens_in_value_count_group\": 101, \"distinct_value_count\": 3485}, {\"percentile_ex_nulls\": 0.7186325788497925, \"percentile_inc_nulls\": 0.7186325788497925, \"value_count\": 99, \"group_name\": \"_last_name_metaphone_\", \"total_non_null_rows\": 50578, \"total_rows_inc_nulls\": 50578, \"sum_tokens_in_value_count_group\": 99, \"distinct_value_count\": 3485}, {\"percentile_ex_nulls\": 0.7166950106620789, \"percentile_inc_nulls\": 0.7166950106620789, \"value_count\": 98, \"group_name\": \"_last_name_metaphone_\", \"total_non_null_rows\": 50578, \"total_rows_inc_nulls\": 50578, \"sum_tokens_in_value_count_group\": 98, \"distinct_value_count\": 3485}, {\"percentile_ex_nulls\": 0.7147771716117859, \"percentile_inc_nulls\": 0.7147771716117859, \"value_count\": 97, \"group_name\": \"_last_name_metaphone_\", \"total_non_null_rows\": 50578, \"total_rows_inc_nulls\": 50578, \"sum_tokens_in_value_count_group\": 97, \"distinct_value_count\": 3485}, {\"percentile_ex_nulls\": 0.7109810709953308, \"percentile_inc_nulls\": 0.7109810709953308, \"value_count\": 96, \"group_name\": \"_last_name_metaphone_\", \"total_non_null_rows\": 50578, \"total_rows_inc_nulls\": 50578, \"sum_tokens_in_value_count_group\": 192, \"distinct_value_count\": 3485}, {\"percentile_ex_nulls\": 0.7091027498245239, \"percentile_inc_nulls\": 0.7091027498245239, \"value_count\": 95, \"group_name\": \"_last_name_metaphone_\", \"total_non_null_rows\": 50578, \"total_rows_inc_nulls\": 50578, \"sum_tokens_in_value_count_group\": 95, \"distinct_value_count\": 3485}, {\"percentile_ex_nulls\": 0.7072640657424927, \"percentile_inc_nulls\": 0.7072640657424927, \"value_count\": 93, \"group_name\": \"_last_name_metaphone_\", \"total_non_null_rows\": 50578, \"total_rows_inc_nulls\": 50578, \"sum_tokens_in_value_count_group\": 93, \"distinct_value_count\": 3485}, {\"percentile_ex_nulls\": 0.7054846286773682, \"percentile_inc_nulls\": 0.7054846286773682, \"value_count\": 90, \"group_name\": \"_last_name_metaphone_\", \"total_non_null_rows\": 50578, \"total_rows_inc_nulls\": 50578, \"sum_tokens_in_value_count_group\": 90, \"distinct_value_count\": 3485}, {\"percentile_ex_nulls\": 0.7037249803543091, \"percentile_inc_nulls\": 0.7037249803543091, \"value_count\": 89, \"group_name\": \"_last_name_metaphone_\", \"total_non_null_rows\": 50578, \"total_rows_inc_nulls\": 50578, \"sum_tokens_in_value_count_group\": 89, \"distinct_value_count\": 3485}, {\"percentile_ex_nulls\": 0.6985052824020386, \"percentile_inc_nulls\": 0.6985052824020386, \"value_count\": 88, \"group_name\": \"_last_name_metaphone_\", \"total_non_null_rows\": 50578, \"total_rows_inc_nulls\": 50578, \"sum_tokens_in_value_count_group\": 264, \"distinct_value_count\": 3485}, {\"percentile_ex_nulls\": 0.6968246698379517, \"percentile_inc_nulls\": 0.6968246698379517, \"value_count\": 85, \"group_name\": \"_last_name_metaphone_\", \"total_non_null_rows\": 50578, \"total_rows_inc_nulls\": 50578, \"sum_tokens_in_value_count_group\": 85, \"distinct_value_count\": 3485}, {\"percentile_ex_nulls\": 0.6918423175811768, \"percentile_inc_nulls\": 0.6918423175811768, \"value_count\": 84, \"group_name\": \"_last_name_metaphone_\", \"total_non_null_rows\": 50578, \"total_rows_inc_nulls\": 50578, \"sum_tokens_in_value_count_group\": 252, \"distinct_value_count\": 3485}, {\"percentile_ex_nulls\": 0.6885602474212646, \"percentile_inc_nulls\": 0.6885602474212646, \"value_count\": 83, \"group_name\": \"_last_name_metaphone_\", \"total_non_null_rows\": 50578, \"total_rows_inc_nulls\": 50578, \"sum_tokens_in_value_count_group\": 166, \"distinct_value_count\": 3485}, {\"percentile_ex_nulls\": 0.686939001083374, \"percentile_inc_nulls\": 0.686939001083374, \"value_count\": 82, \"group_name\": \"_last_name_metaphone_\", \"total_non_null_rows\": 50578, \"total_rows_inc_nulls\": 50578, \"sum_tokens_in_value_count_group\": 82, \"distinct_value_count\": 3485}, {\"percentile_ex_nulls\": 0.685337483882904, \"percentile_inc_nulls\": 0.685337483882904, \"value_count\": 81, \"group_name\": \"_last_name_metaphone_\", \"total_non_null_rows\": 50578, \"total_rows_inc_nulls\": 50578, \"sum_tokens_in_value_count_group\": 81, \"distinct_value_count\": 3485}, {\"percentile_ex_nulls\": 0.6821740865707397, \"percentile_inc_nulls\": 0.6821740865707397, \"value_count\": 80, \"group_name\": \"_last_name_metaphone_\", \"total_non_null_rows\": 50578, \"total_rows_inc_nulls\": 50578, \"sum_tokens_in_value_count_group\": 160, \"distinct_value_count\": 3485}, {\"percentile_ex_nulls\": 0.6806120872497559, \"percentile_inc_nulls\": 0.6806120872497559, \"value_count\": 79, \"group_name\": \"_last_name_metaphone_\", \"total_non_null_rows\": 50578, \"total_rows_inc_nulls\": 50578, \"sum_tokens_in_value_count_group\": 79, \"distinct_value_count\": 3485}, {\"percentile_ex_nulls\": 0.6744434237480164, \"percentile_inc_nulls\": 0.6744434237480164, \"value_count\": 78, \"group_name\": \"_last_name_metaphone_\", \"total_non_null_rows\": 50578, \"total_rows_inc_nulls\": 50578, \"sum_tokens_in_value_count_group\": 312, \"distinct_value_count\": 3485}, {\"percentile_ex_nulls\": 0.6668314337730408, \"percentile_inc_nulls\": 0.6668314337730408, \"value_count\": 77, \"group_name\": \"_last_name_metaphone_\", \"total_non_null_rows\": 50578, \"total_rows_inc_nulls\": 50578, \"sum_tokens_in_value_count_group\": 385, \"distinct_value_count\": 3485}, {\"percentile_ex_nulls\": 0.6608209013938904, \"percentile_inc_nulls\": 0.6608209013938904, \"value_count\": 76, \"group_name\": \"_last_name_metaphone_\", \"total_non_null_rows\": 50578, \"total_rows_inc_nulls\": 50578, \"sum_tokens_in_value_count_group\": 304, \"distinct_value_count\": 3485}, {\"percentile_ex_nulls\": 0.6593380570411682, \"percentile_inc_nulls\": 0.6593380570411682, \"value_count\": 75, \"group_name\": \"_last_name_metaphone_\", \"total_non_null_rows\": 50578, \"total_rows_inc_nulls\": 50578, \"sum_tokens_in_value_count_group\": 75, \"distinct_value_count\": 3485}, {\"percentile_ex_nulls\": 0.6549488306045532, \"percentile_inc_nulls\": 0.6549488306045532, \"value_count\": 74, \"group_name\": \"_last_name_metaphone_\", \"total_non_null_rows\": 50578, \"total_rows_inc_nulls\": 50578, \"sum_tokens_in_value_count_group\": 222, \"distinct_value_count\": 3485}, {\"percentile_ex_nulls\": 0.6521016955375671, \"percentile_inc_nulls\": 0.6521016955375671, \"value_count\": 72, \"group_name\": \"_last_name_metaphone_\", \"total_non_null_rows\": 50578, \"total_rows_inc_nulls\": 50578, \"sum_tokens_in_value_count_group\": 144, \"distinct_value_count\": 3485}, {\"percentile_ex_nulls\": 0.6478903889656067, \"percentile_inc_nulls\": 0.6478903889656067, \"value_count\": 71, \"group_name\": \"_last_name_metaphone_\", \"total_non_null_rows\": 50578, \"total_rows_inc_nulls\": 50578, \"sum_tokens_in_value_count_group\": 213, \"distinct_value_count\": 3485}, {\"percentile_ex_nulls\": 0.6465064287185669, \"percentile_inc_nulls\": 0.6465064287185669, \"value_count\": 70, \"group_name\": \"_last_name_metaphone_\", \"total_non_null_rows\": 50578, \"total_rows_inc_nulls\": 50578, \"sum_tokens_in_value_count_group\": 70, \"distinct_value_count\": 3485}, {\"percentile_ex_nulls\": 0.6437779664993286, \"percentile_inc_nulls\": 0.6437779664993286, \"value_count\": 69, \"group_name\": \"_last_name_metaphone_\", \"total_non_null_rows\": 50578, \"total_rows_inc_nulls\": 50578, \"sum_tokens_in_value_count_group\": 138, \"distinct_value_count\": 3485}, {\"percentile_ex_nulls\": 0.6410890221595764, \"percentile_inc_nulls\": 0.6410890221595764, \"value_count\": 68, \"group_name\": \"_last_name_metaphone_\", \"total_non_null_rows\": 50578, \"total_rows_inc_nulls\": 50578, \"sum_tokens_in_value_count_group\": 136, \"distinct_value_count\": 3485}, {\"percentile_ex_nulls\": 0.635790228843689, \"percentile_inc_nulls\": 0.635790228843689, \"value_count\": 67, \"group_name\": \"_last_name_metaphone_\", \"total_non_null_rows\": 50578, \"total_rows_inc_nulls\": 50578, \"sum_tokens_in_value_count_group\": 268, \"distinct_value_count\": 3485}, {\"percentile_ex_nulls\": 0.6305705904960632, \"percentile_inc_nulls\": 0.6305705904960632, \"value_count\": 66, \"group_name\": \"_last_name_metaphone_\", \"total_non_null_rows\": 50578, \"total_rows_inc_nulls\": 50578, \"sum_tokens_in_value_count_group\": 264, \"distinct_value_count\": 3485}, {\"percentile_ex_nulls\": 0.6241449117660522, \"percentile_inc_nulls\": 0.6241449117660522, \"value_count\": 65, \"group_name\": \"_last_name_metaphone_\", \"total_non_null_rows\": 50578, \"total_rows_inc_nulls\": 50578, \"sum_tokens_in_value_count_group\": 325, \"distinct_value_count\": 3485}, {\"percentile_ex_nulls\": 0.6190834045410156, \"percentile_inc_nulls\": 0.6190834045410156, \"value_count\": 64, \"group_name\": \"_last_name_metaphone_\", \"total_non_null_rows\": 50578, \"total_rows_inc_nulls\": 50578, \"sum_tokens_in_value_count_group\": 256, \"distinct_value_count\": 3485}, {\"percentile_ex_nulls\": 0.6153465509414673, \"percentile_inc_nulls\": 0.6153465509414673, \"value_count\": 63, \"group_name\": \"_last_name_metaphone_\", \"total_non_null_rows\": 50578, \"total_rows_inc_nulls\": 50578, \"sum_tokens_in_value_count_group\": 189, \"distinct_value_count\": 3485}, {\"percentile_ex_nulls\": 0.6043140888214111, \"percentile_inc_nulls\": 0.6043140888214111, \"value_count\": 62, \"group_name\": \"_last_name_metaphone_\", \"total_non_null_rows\": 50578, \"total_rows_inc_nulls\": 50578, \"sum_tokens_in_value_count_group\": 558, \"distinct_value_count\": 3485}, {\"percentile_ex_nulls\": 0.5994899272918701, \"percentile_inc_nulls\": 0.5994899272918701, \"value_count\": 61, \"group_name\": \"_last_name_metaphone_\", \"total_non_null_rows\": 50578, \"total_rows_inc_nulls\": 50578, \"sum_tokens_in_value_count_group\": 244, \"distinct_value_count\": 3485}, {\"percentile_ex_nulls\": 0.5971173048019409, \"percentile_inc_nulls\": 0.5971173048019409, \"value_count\": 60, \"group_name\": \"_last_name_metaphone_\", \"total_non_null_rows\": 50578, \"total_rows_inc_nulls\": 50578, \"sum_tokens_in_value_count_group\": 120, \"distinct_value_count\": 3485}, {\"percentile_ex_nulls\": 0.5947842597961426, \"percentile_inc_nulls\": 0.5947842597961426, \"value_count\": 59, \"group_name\": \"_last_name_metaphone_\", \"total_non_null_rows\": 50578, \"total_rows_inc_nulls\": 50578, \"sum_tokens_in_value_count_group\": 118, \"distinct_value_count\": 3485}, {\"percentile_ex_nulls\": 0.5901973247528076, \"percentile_inc_nulls\": 0.5901973247528076, \"value_count\": 58, \"group_name\": \"_last_name_metaphone_\", \"total_non_null_rows\": 50578, \"total_rows_inc_nulls\": 50578, \"sum_tokens_in_value_count_group\": 232, \"distinct_value_count\": 3485}, {\"percentile_ex_nulls\": 0.5823085308074951, \"percentile_inc_nulls\": 0.5823085308074951, \"value_count\": 57, \"group_name\": \"_last_name_metaphone_\", \"total_non_null_rows\": 50578, \"total_rows_inc_nulls\": 50578, \"sum_tokens_in_value_count_group\": 399, \"distinct_value_count\": 3485}, {\"percentile_ex_nulls\": 0.5778796672821045, \"percentile_inc_nulls\": 0.5778796672821045, \"value_count\": 56, \"group_name\": \"_last_name_metaphone_\", \"total_non_null_rows\": 50578, \"total_rows_inc_nulls\": 50578, \"sum_tokens_in_value_count_group\": 224, \"distinct_value_count\": 3485}, {\"percentile_ex_nulls\": 0.5702676773071289, \"percentile_inc_nulls\": 0.5702676773071289, \"value_count\": 55, \"group_name\": \"_last_name_metaphone_\", \"total_non_null_rows\": 50578, \"total_rows_inc_nulls\": 50578, \"sum_tokens_in_value_count_group\": 385, \"distinct_value_count\": 3485}, {\"percentile_ex_nulls\": 0.5659970641136169, \"percentile_inc_nulls\": 0.5659970641136169, \"value_count\": 54, \"group_name\": \"_last_name_metaphone_\", \"total_non_null_rows\": 50578, \"total_rows_inc_nulls\": 50578, \"sum_tokens_in_value_count_group\": 216, \"distinct_value_count\": 3485}, {\"percentile_ex_nulls\": 0.5628534555435181, \"percentile_inc_nulls\": 0.5628534555435181, \"value_count\": 53, \"group_name\": \"_last_name_metaphone_\", \"total_non_null_rows\": 50578, \"total_rows_inc_nulls\": 50578, \"sum_tokens_in_value_count_group\": 159, \"distinct_value_count\": 3485}, {\"percentile_ex_nulls\": 0.5597690343856812, \"percentile_inc_nulls\": 0.5597690343856812, \"value_count\": 52, \"group_name\": \"_last_name_metaphone_\", \"total_non_null_rows\": 50578, \"total_rows_inc_nulls\": 50578, \"sum_tokens_in_value_count_group\": 156, \"distinct_value_count\": 3485}, {\"percentile_ex_nulls\": 0.55573570728302, \"percentile_inc_nulls\": 0.55573570728302, \"value_count\": 51, \"group_name\": \"_last_name_metaphone_\", \"total_non_null_rows\": 50578, \"total_rows_inc_nulls\": 50578, \"sum_tokens_in_value_count_group\": 204, \"distinct_value_count\": 3485}, {\"percentile_ex_nulls\": 0.5498042702674866, \"percentile_inc_nulls\": 0.5498042702674866, \"value_count\": 50, \"group_name\": \"_last_name_metaphone_\", \"total_non_null_rows\": 50578, \"total_rows_inc_nulls\": 50578, \"sum_tokens_in_value_count_group\": 300, \"distinct_value_count\": 3485}, {\"percentile_ex_nulls\": 0.5468978881835938, \"percentile_inc_nulls\": 0.5468978881835938, \"value_count\": 49, \"group_name\": \"_last_name_metaphone_\", \"total_non_null_rows\": 50578, \"total_rows_inc_nulls\": 50578, \"sum_tokens_in_value_count_group\": 147, \"distinct_value_count\": 3485}, {\"percentile_ex_nulls\": 0.5393056273460388, \"percentile_inc_nulls\": 0.5393056273460388, \"value_count\": 48, \"group_name\": \"_last_name_metaphone_\", \"total_non_null_rows\": 50578, \"total_rows_inc_nulls\": 50578, \"sum_tokens_in_value_count_group\": 384, \"distinct_value_count\": 3485}, {\"percentile_ex_nulls\": 0.5355886220932007, \"percentile_inc_nulls\": 0.5355886220932007, \"value_count\": 47, \"group_name\": \"_last_name_metaphone_\", \"total_non_null_rows\": 50578, \"total_rows_inc_nulls\": 50578, \"sum_tokens_in_value_count_group\": 188, \"distinct_value_count\": 3485}, {\"percentile_ex_nulls\": 0.5292221903800964, \"percentile_inc_nulls\": 0.5292221903800964, \"value_count\": 46, \"group_name\": \"_last_name_metaphone_\", \"total_non_null_rows\": 50578, \"total_rows_inc_nulls\": 50578, \"sum_tokens_in_value_count_group\": 322, \"distinct_value_count\": 3485}, {\"percentile_ex_nulls\": 0.5229941606521606, \"percentile_inc_nulls\": 0.5229941606521606, \"value_count\": 45, \"group_name\": \"_last_name_metaphone_\", \"total_non_null_rows\": 50578, \"total_rows_inc_nulls\": 50578, \"sum_tokens_in_value_count_group\": 315, \"distinct_value_count\": 3485}, {\"percentile_ex_nulls\": 0.5177745223045349, \"percentile_inc_nulls\": 0.5177745223045349, \"value_count\": 44, \"group_name\": \"_last_name_metaphone_\", \"total_non_null_rows\": 50578, \"total_rows_inc_nulls\": 50578, \"sum_tokens_in_value_count_group\": 264, \"distinct_value_count\": 3485}, {\"percentile_ex_nulls\": 0.5067223310470581, \"percentile_inc_nulls\": 0.5067223310470581, \"value_count\": 43, \"group_name\": \"_last_name_metaphone_\", \"total_non_null_rows\": 50578, \"total_rows_inc_nulls\": 50578, \"sum_tokens_in_value_count_group\": 559, \"distinct_value_count\": 3485}, {\"percentile_ex_nulls\": 0.4992486834526062, \"percentile_inc_nulls\": 0.4992486834526062, \"value_count\": 42, \"group_name\": \"_last_name_metaphone_\", \"total_non_null_rows\": 50578, \"total_rows_inc_nulls\": 50578, \"sum_tokens_in_value_count_group\": 378, \"distinct_value_count\": 3485}, {\"percentile_ex_nulls\": 0.49600619077682495, \"percentile_inc_nulls\": 0.49600619077682495, \"value_count\": 41, \"group_name\": \"_last_name_metaphone_\", \"total_non_null_rows\": 50578, \"total_rows_inc_nulls\": 50578, \"sum_tokens_in_value_count_group\": 164, \"distinct_value_count\": 3485}, {\"percentile_ex_nulls\": 0.49284273386001587, \"percentile_inc_nulls\": 0.49284273386001587, \"value_count\": 40, \"group_name\": \"_last_name_metaphone_\", \"total_non_null_rows\": 50578, \"total_rows_inc_nulls\": 50578, \"sum_tokens_in_value_count_group\": 160, \"distinct_value_count\": 3485}, {\"percentile_ex_nulls\": 0.4874451160430908, \"percentile_inc_nulls\": 0.4874451160430908, \"value_count\": 39, \"group_name\": \"_last_name_metaphone_\", \"total_non_null_rows\": 50578, \"total_rows_inc_nulls\": 50578, \"sum_tokens_in_value_count_group\": 273, \"distinct_value_count\": 3485}, {\"percentile_ex_nulls\": 0.4814346432685852, \"percentile_inc_nulls\": 0.4814346432685852, \"value_count\": 38, \"group_name\": \"_last_name_metaphone_\", \"total_non_null_rows\": 50578, \"total_rows_inc_nulls\": 50578, \"sum_tokens_in_value_count_group\": 304, \"distinct_value_count\": 3485}, {\"percentile_ex_nulls\": 0.4755822420120239, \"percentile_inc_nulls\": 0.4755822420120239, \"value_count\": 37, \"group_name\": \"_last_name_metaphone_\", \"total_non_null_rows\": 50578, \"total_rows_inc_nulls\": 50578, \"sum_tokens_in_value_count_group\": 296, \"distinct_value_count\": 3485}, {\"percentile_ex_nulls\": 0.4663292169570923, \"percentile_inc_nulls\": 0.4663292169570923, \"value_count\": 36, \"group_name\": \"_last_name_metaphone_\", \"total_non_null_rows\": 50578, \"total_rows_inc_nulls\": 50578, \"sum_tokens_in_value_count_group\": 468, \"distinct_value_count\": 3485}, {\"percentile_ex_nulls\": 0.4580252170562744, \"percentile_inc_nulls\": 0.4580252170562744, \"value_count\": 35, \"group_name\": \"_last_name_metaphone_\", \"total_non_null_rows\": 50578, \"total_rows_inc_nulls\": 50578, \"sum_tokens_in_value_count_group\": 420, \"distinct_value_count\": 3485}, {\"percentile_ex_nulls\": 0.45063072443008423, \"percentile_inc_nulls\": 0.45063072443008423, \"value_count\": 34, \"group_name\": \"_last_name_metaphone_\", \"total_non_null_rows\": 50578, \"total_rows_inc_nulls\": 50578, \"sum_tokens_in_value_count_group\": 374, \"distinct_value_count\": 3485}, {\"percentile_ex_nulls\": 0.440191388130188, \"percentile_inc_nulls\": 0.440191388130188, \"value_count\": 33, \"group_name\": \"_last_name_metaphone_\", \"total_non_null_rows\": 50578, \"total_rows_inc_nulls\": 50578, \"sum_tokens_in_value_count_group\": 528, \"distinct_value_count\": 3485}, {\"percentile_ex_nulls\": 0.4307010769844055, \"percentile_inc_nulls\": 0.4307010769844055, \"value_count\": 32, \"group_name\": \"_last_name_metaphone_\", \"total_non_null_rows\": 50578, \"total_rows_inc_nulls\": 50578, \"sum_tokens_in_value_count_group\": 480, \"distinct_value_count\": 3485}, {\"percentile_ex_nulls\": 0.4245719313621521, \"percentile_inc_nulls\": 0.4245719313621521, \"value_count\": 31, \"group_name\": \"_last_name_metaphone_\", \"total_non_null_rows\": 50578, \"total_rows_inc_nulls\": 50578, \"sum_tokens_in_value_count_group\": 310, \"distinct_value_count\": 3485}, {\"percentile_ex_nulls\": 0.41745424270629883, \"percentile_inc_nulls\": 0.41745424270629883, \"value_count\": 30, \"group_name\": \"_last_name_metaphone_\", \"total_non_null_rows\": 50578, \"total_rows_inc_nulls\": 50578, \"sum_tokens_in_value_count_group\": 360, \"distinct_value_count\": 3485}, {\"percentile_ex_nulls\": 0.40942704677581787, \"percentile_inc_nulls\": 0.40942704677581787, \"value_count\": 29, \"group_name\": \"_last_name_metaphone_\", \"total_non_null_rows\": 50578, \"total_rows_inc_nulls\": 50578, \"sum_tokens_in_value_count_group\": 406, \"distinct_value_count\": 3485}, {\"percentile_ex_nulls\": 0.4027838110923767, \"percentile_inc_nulls\": 0.4027838110923767, \"value_count\": 28, \"group_name\": \"_last_name_metaphone_\", \"total_non_null_rows\": 50578, \"total_rows_inc_nulls\": 50578, \"sum_tokens_in_value_count_group\": 336, \"distinct_value_count\": 3485}, {\"percentile_ex_nulls\": 0.3953102231025696, \"percentile_inc_nulls\": 0.3953102231025696, \"value_count\": 27, \"group_name\": \"_last_name_metaphone_\", \"total_non_null_rows\": 50578, \"total_rows_inc_nulls\": 50578, \"sum_tokens_in_value_count_group\": 378, \"distinct_value_count\": 3485}, {\"percentile_ex_nulls\": 0.38708531856536865, \"percentile_inc_nulls\": 0.38708531856536865, \"value_count\": 26, \"group_name\": \"_last_name_metaphone_\", \"total_non_null_rows\": 50578, \"total_rows_inc_nulls\": 50578, \"sum_tokens_in_value_count_group\": 416, \"distinct_value_count\": 3485}, {\"percentile_ex_nulls\": 0.3757166862487793, \"percentile_inc_nulls\": 0.3757166862487793, \"value_count\": 25, \"group_name\": \"_last_name_metaphone_\", \"total_non_null_rows\": 50578, \"total_rows_inc_nulls\": 50578, \"sum_tokens_in_value_count_group\": 575, \"distinct_value_count\": 3485}, {\"percentile_ex_nulls\": 0.3629048466682434, \"percentile_inc_nulls\": 0.3629048466682434, \"value_count\": 24, \"group_name\": \"_last_name_metaphone_\", \"total_non_null_rows\": 50578, \"total_rows_inc_nulls\": 50578, \"sum_tokens_in_value_count_group\": 648, \"distinct_value_count\": 3485}, {\"percentile_ex_nulls\": 0.35426467657089233, \"percentile_inc_nulls\": 0.35426467657089233, \"value_count\": 23, \"group_name\": \"_last_name_metaphone_\", \"total_non_null_rows\": 50578, \"total_rows_inc_nulls\": 50578, \"sum_tokens_in_value_count_group\": 437, \"distinct_value_count\": 3485}, {\"percentile_ex_nulls\": 0.3412155508995056, \"percentile_inc_nulls\": 0.3412155508995056, \"value_count\": 22, \"group_name\": \"_last_name_metaphone_\", \"total_non_null_rows\": 50578, \"total_rows_inc_nulls\": 50578, \"sum_tokens_in_value_count_group\": 660, \"distinct_value_count\": 3485}, {\"percentile_ex_nulls\": 0.32834434509277344, \"percentile_inc_nulls\": 0.32834434509277344, \"value_count\": 21, \"group_name\": \"_last_name_metaphone_\", \"total_non_null_rows\": 50578, \"total_rows_inc_nulls\": 50578, \"sum_tokens_in_value_count_group\": 651, \"distinct_value_count\": 3485}, {\"percentile_ex_nulls\": 0.314899742603302, \"percentile_inc_nulls\": 0.314899742603302, \"value_count\": 20, \"group_name\": \"_last_name_metaphone_\", \"total_non_null_rows\": 50578, \"total_rows_inc_nulls\": 50578, \"sum_tokens_in_value_count_group\": 680, \"distinct_value_count\": 3485}, {\"percentile_ex_nulls\": 0.295365571975708, \"percentile_inc_nulls\": 0.295365571975708, \"value_count\": 19, \"group_name\": \"_last_name_metaphone_\", \"total_non_null_rows\": 50578, \"total_rows_inc_nulls\": 50578, \"sum_tokens_in_value_count_group\": 988, \"distinct_value_count\": 3485}, {\"percentile_ex_nulls\": 0.2793506979942322, \"percentile_inc_nulls\": 0.2793506979942322, \"value_count\": 18, \"group_name\": \"_last_name_metaphone_\", \"total_non_null_rows\": 50578, \"total_rows_inc_nulls\": 50578, \"sum_tokens_in_value_count_group\": 810, \"distinct_value_count\": 3485}, {\"percentile_ex_nulls\": 0.2578393816947937, \"percentile_inc_nulls\": 0.2578393816947937, \"value_count\": 17, \"group_name\": \"_last_name_metaphone_\", \"total_non_null_rows\": 50578, \"total_rows_inc_nulls\": 50578, \"sum_tokens_in_value_count_group\": 1088, \"distinct_value_count\": 3485}, {\"percentile_ex_nulls\": 0.23885881900787354, \"percentile_inc_nulls\": 0.23885881900787354, \"value_count\": 16, \"group_name\": \"_last_name_metaphone_\", \"total_non_null_rows\": 50578, \"total_rows_inc_nulls\": 50578, \"sum_tokens_in_value_count_group\": 960, \"distinct_value_count\": 3485}, {\"percentile_ex_nulls\": 0.21839535236358643, \"percentile_inc_nulls\": 0.21839535236358643, \"value_count\": 15, \"group_name\": \"_last_name_metaphone_\", \"total_non_null_rows\": 50578, \"total_rows_inc_nulls\": 50578, \"sum_tokens_in_value_count_group\": 1035, \"distinct_value_count\": 3485}, {\"percentile_ex_nulls\": 0.2004033327102661, \"percentile_inc_nulls\": 0.2004033327102661, \"value_count\": 14, \"group_name\": \"_last_name_metaphone_\", \"total_non_null_rows\": 50578, \"total_rows_inc_nulls\": 50578, \"sum_tokens_in_value_count_group\": 910, \"distinct_value_count\": 3485}, {\"percentile_ex_nulls\": 0.18292540311813354, \"percentile_inc_nulls\": 0.18292540311813354, \"value_count\": 13, \"group_name\": \"_last_name_metaphone_\", \"total_non_null_rows\": 50578, \"total_rows_inc_nulls\": 50578, \"sum_tokens_in_value_count_group\": 884, \"distinct_value_count\": 3485}, {\"percentile_ex_nulls\": 0.16347026824951172, \"percentile_inc_nulls\": 0.16347026824951172, \"value_count\": 12, \"group_name\": \"_last_name_metaphone_\", \"total_non_null_rows\": 50578, \"total_rows_inc_nulls\": 50578, \"sum_tokens_in_value_count_group\": 984, \"distinct_value_count\": 3485}, {\"percentile_ex_nulls\": 0.14498400688171387, \"percentile_inc_nulls\": 0.14498400688171387, \"value_count\": 11, \"group_name\": \"_last_name_metaphone_\", \"total_non_null_rows\": 50578, \"total_rows_inc_nulls\": 50578, \"sum_tokens_in_value_count_group\": 935, \"distinct_value_count\": 3485}, {\"percentile_ex_nulls\": 0.12975996732711792, \"percentile_inc_nulls\": 0.12975996732711792, \"value_count\": 10, \"group_name\": \"_last_name_metaphone_\", \"total_non_null_rows\": 50578, \"total_rows_inc_nulls\": 50578, \"sum_tokens_in_value_count_group\": 770, \"distinct_value_count\": 3485}, {\"percentile_ex_nulls\": 0.11303335428237915, \"percentile_inc_nulls\": 0.11303335428237915, \"value_count\": 9, \"group_name\": \"_last_name_metaphone_\", \"total_non_null_rows\": 50578, \"total_rows_inc_nulls\": 50578, \"sum_tokens_in_value_count_group\": 846, \"distinct_value_count\": 3485}, {\"percentile_ex_nulls\": 0.09531813859939575, \"percentile_inc_nulls\": 0.09531813859939575, \"value_count\": 8, \"group_name\": \"_last_name_metaphone_\", \"total_non_null_rows\": 50578, \"total_rows_inc_nulls\": 50578, \"sum_tokens_in_value_count_group\": 896, \"distinct_value_count\": 3485}, {\"percentile_ex_nulls\": 0.08189332485198975, \"percentile_inc_nulls\": 0.08189332485198975, \"value_count\": 7, \"group_name\": \"_last_name_metaphone_\", \"total_non_null_rows\": 50578, \"total_rows_inc_nulls\": 50578, \"sum_tokens_in_value_count_group\": 679, \"distinct_value_count\": 3485}, {\"percentile_ex_nulls\": 0.06872552633285522, \"percentile_inc_nulls\": 0.06872552633285522, \"value_count\": 6, \"group_name\": \"_last_name_metaphone_\", \"total_non_null_rows\": 50578, \"total_rows_inc_nulls\": 50578, \"sum_tokens_in_value_count_group\": 666, \"distinct_value_count\": 3485}, {\"percentile_ex_nulls\": 0.05587410926818848, \"percentile_inc_nulls\": 0.05587410926818848, \"value_count\": 5, \"group_name\": \"_last_name_metaphone_\", \"total_non_null_rows\": 50578, \"total_rows_inc_nulls\": 50578, \"sum_tokens_in_value_count_group\": 650, \"distinct_value_count\": 3485}, {\"percentile_ex_nulls\": 0.0432204008102417, \"percentile_inc_nulls\": 0.0432204008102417, \"value_count\": 4, \"group_name\": \"_last_name_metaphone_\", \"total_non_null_rows\": 50578, \"total_rows_inc_nulls\": 50578, \"sum_tokens_in_value_count_group\": 640, \"distinct_value_count\": 3485}, {\"percentile_ex_nulls\": 0.030823707580566406, \"percentile_inc_nulls\": 0.030823707580566406, \"value_count\": 3, \"group_name\": \"_last_name_metaphone_\", \"total_non_null_rows\": 50578, \"total_rows_inc_nulls\": 50578, \"sum_tokens_in_value_count_group\": 627, \"distinct_value_count\": 3485}, {\"percentile_ex_nulls\": 0.021531105041503906, \"percentile_inc_nulls\": 0.021531105041503906, \"value_count\": 2, \"group_name\": \"_last_name_metaphone_\", \"total_non_null_rows\": 50578, \"total_rows_inc_nulls\": 50578, \"sum_tokens_in_value_count_group\": 470, \"distinct_value_count\": 3485}, {\"percentile_ex_nulls\": 0.0, \"percentile_inc_nulls\": 0.0, \"value_count\": 1, \"group_name\": \"_last_name_metaphone_\", \"total_non_null_rows\": 50578, \"total_rows_inc_nulls\": 50578, \"sum_tokens_in_value_count_group\": 1089, \"distinct_value_count\": 3485}, {\"percentile_ex_nulls\": 1.0, \"percentile_inc_nulls\": 1.0, \"value_count\": 4518, \"group_name\": \"_last_name_metaphone_\", \"total_non_null_rows\": 50578, \"total_rows_inc_nulls\": 50578, \"sum_tokens_in_value_count_group\": 4518, \"distinct_value_count\": 3485}]}, \"encoding\": {\"tooltip\": [{\"field\": \"value_count\", \"type\": \"quantitative\"}, {\"field\": \"percentile_ex_nulls\", \"type\": \"quantitative\"}, {\"field\": \"percentile_inc_nulls\", \"type\": \"quantitative\"}, {\"field\": \"total_non_null_rows\", \"type\": \"quantitative\"}, {\"field\": \"total_rows_inc_nulls\", \"type\": \"quantitative\"}], \"x\": {\"field\": \"percentile_ex_nulls\", \"sort\": \"descending\", \"title\": \"Percentile\", \"type\": \"quantitative\"}, \"y\": {\"field\": \"value_count\", \"title\": \"Count of values\", \"type\": \"quantitative\"}}, \"title\": {\"text\": \"Distribution of counts of values in column \\\"last_name_metaphone\\\"\", \"subtitle\": \"In this col, 0 values (0.0%) are null and there are 3485 distinct values\"}}, {\"mark\": \"bar\", \"data\": {\"values\": [{\"value_count\": 4518, \"group_name\": \"_last_name_metaphone_\", \"value\": \"NN\", \"total_non_null_rows\": 50578, \"total_rows_inc_nulls\": 50578, \"distinct_value_count\": 3485}, {\"value_count\": 747, \"group_name\": \"_last_name_metaphone_\", \"value\": \"PRNT\", \"total_non_null_rows\": 50578, \"total_rows_inc_nulls\": 50578, \"distinct_value_count\": 3485}, {\"value_count\": 400, \"group_name\": \"_last_name_metaphone_\", \"value\": \"PL\", \"total_non_null_rows\": 50578, \"total_rows_inc_nulls\": 50578, \"distinct_value_count\": 3485}, {\"value_count\": 352, \"group_name\": \"_last_name_metaphone_\", \"value\": \"MR\", \"total_non_null_rows\": 50578, \"total_rows_inc_nulls\": 50578, \"distinct_value_count\": 3485}, {\"value_count\": 343, \"group_name\": \"_last_name_metaphone_\", \"value\": \"KR\", \"total_non_null_rows\": 50578, \"total_rows_inc_nulls\": 50578, \"distinct_value_count\": 3485}, {\"value_count\": 343, \"group_name\": \"_last_name_metaphone_\", \"value\": \"PRN\", \"total_non_null_rows\": 50578, \"total_rows_inc_nulls\": 50578, \"distinct_value_count\": 3485}, {\"value_count\": 342, \"group_name\": \"_last_name_metaphone_\", \"value\": \"HL\", \"total_non_null_rows\": 50578, \"total_rows_inc_nulls\": 50578, \"distinct_value_count\": 3485}, {\"value_count\": 316, \"group_name\": \"_last_name_metaphone_\", \"value\": \"AT\", \"total_non_null_rows\": 50578, \"total_rows_inc_nulls\": 50578, \"distinct_value_count\": 3485}, {\"value_count\": 278, \"group_name\": \"_last_name_metaphone_\", \"value\": \"SM0\", \"total_non_null_rows\": 50578, \"total_rows_inc_nulls\": 50578, \"distinct_value_count\": 3485}, {\"value_count\": 277, \"group_name\": \"_last_name_metaphone_\", \"value\": \"KL\", \"total_non_null_rows\": 50578, \"total_rows_inc_nulls\": 50578, \"distinct_value_count\": 3485}]}, \"encoding\": {\"tooltip\": [{\"field\": \"value\", \"type\": \"nominal\"}, {\"field\": \"value_count\", \"type\": \"quantitative\"}, {\"field\": \"total_non_null_rows\", \"type\": \"quantitative\"}, {\"field\": \"total_rows_inc_nulls\", \"type\": \"quantitative\"}], \"x\": {\"field\": \"value\", \"sort\": \"-y\", \"title\": null, \"type\": \"nominal\"}, \"y\": {\"field\": \"value_count\", \"title\": \"Value count\", \"type\": \"quantitative\"}}, \"title\": \"Top 10 values by value count\"}, {\"mark\": \"bar\", \"data\": {\"values\": [{\"value_count\": 1, \"group_name\": \"_last_name_metaphone_\", \"value\": \"HSLJN\", \"total_non_null_rows\": 50578, \"total_rows_inc_nulls\": 50578, \"distinct_value_count\": 3485}, {\"value_count\": 1, \"group_name\": \"_last_name_metaphone_\", \"value\": \"HRPFTT\", \"total_non_null_rows\": 50578, \"total_rows_inc_nulls\": 50578, \"distinct_value_count\": 3485}, {\"value_count\": 1, \"group_name\": \"_last_name_metaphone_\", \"value\": \"PTNKR\", \"total_non_null_rows\": 50578, \"total_rows_inc_nulls\": 50578, \"distinct_value_count\": 3485}, {\"value_count\": 1, \"group_name\": \"_last_name_metaphone_\", \"value\": \"PXS\", \"total_non_null_rows\": 50578, \"total_rows_inc_nulls\": 50578, \"distinct_value_count\": 3485}, {\"value_count\": 1, \"group_name\": \"_last_name_metaphone_\", \"value\": \"STNSFFLT\", \"total_non_null_rows\": 50578, \"total_rows_inc_nulls\": 50578, \"distinct_value_count\": 3485}]}, \"encoding\": {\"tooltip\": [{\"field\": \"value\", \"type\": \"nominal\"}, {\"field\": \"value_count\", \"type\": \"quantitative\"}, {\"field\": \"total_non_null_rows\", \"type\": \"quantitative\"}, {\"field\": \"total_rows_inc_nulls\", \"type\": \"quantitative\"}], \"x\": {\"field\": \"value\", \"sort\": \"-y\", \"title\": null, \"type\": \"nominal\"}, \"y\": {\"field\": \"value_count\", \"scale\": {\"domain\": [0, 4518]}, \"title\": \"Value count\", \"type\": \"quantitative\"}}, \"title\": \"Bottom 5 values by value count\"}]}, {\"hconcat\": [{\"mark\": {\"type\": \"line\", \"interpolate\": \"step-before\"}, \"data\": {\"values\": [{\"percentile_ex_nulls\": 0.0, \"percentile_inc_nulls\": 0.0, \"value_count\": 1, \"group_name\": \"_unique_id_\", \"total_non_null_rows\": 50578, \"total_rows_inc_nulls\": 50578, \"sum_tokens_in_value_count_group\": 50578, \"distinct_value_count\": 50578}, {\"percentile_ex_nulls\": 1.0, \"percentile_inc_nulls\": 1.0, \"value_count\": 1, \"group_name\": \"_unique_id_\", \"total_non_null_rows\": 50578, \"total_rows_inc_nulls\": 50578, \"sum_tokens_in_value_count_group\": 50578, \"distinct_value_count\": 50578}]}, \"encoding\": {\"tooltip\": [{\"field\": \"value_count\", \"type\": \"quantitative\"}, {\"field\": \"percentile_ex_nulls\", \"type\": \"quantitative\"}, {\"field\": \"percentile_inc_nulls\", \"type\": \"quantitative\"}, {\"field\": \"total_non_null_rows\", \"type\": \"quantitative\"}, {\"field\": \"total_rows_inc_nulls\", \"type\": \"quantitative\"}], \"x\": {\"field\": \"percentile_ex_nulls\", \"sort\": \"descending\", \"title\": \"Percentile\", \"type\": \"quantitative\"}, \"y\": {\"field\": \"value_count\", \"title\": \"Count of values\", \"type\": \"quantitative\"}}, \"title\": {\"text\": \"Distribution of counts of values in column \\\"unique_id\\\"\", \"subtitle\": \"In this col, 0 values (0.0%) are null and there are 50578 distinct values\"}}, {\"mark\": \"bar\", \"data\": {\"values\": [{\"value_count\": 1, \"group_name\": \"_unique_id_\", \"value\": \"33717\", \"total_non_null_rows\": 50578, \"total_rows_inc_nulls\": 50578, \"distinct_value_count\": 50578}, {\"value_count\": 1, \"group_name\": \"_unique_id_\", \"value\": \"33721\", \"total_non_null_rows\": 50578, \"total_rows_inc_nulls\": 50578, \"distinct_value_count\": 50578}, {\"value_count\": 1, \"group_name\": \"_unique_id_\", \"value\": \"33734\", \"total_non_null_rows\": 50578, \"total_rows_inc_nulls\": 50578, \"distinct_value_count\": 50578}, {\"value_count\": 1, \"group_name\": \"_unique_id_\", \"value\": \"33762\", \"total_non_null_rows\": 50578, \"total_rows_inc_nulls\": 50578, \"distinct_value_count\": 50578}, {\"value_count\": 1, \"group_name\": \"_unique_id_\", \"value\": \"33764\", \"total_non_null_rows\": 50578, \"total_rows_inc_nulls\": 50578, \"distinct_value_count\": 50578}, {\"value_count\": 1, \"group_name\": \"_unique_id_\", \"value\": \"33771\", \"total_non_null_rows\": 50578, \"total_rows_inc_nulls\": 50578, \"distinct_value_count\": 50578}, {\"value_count\": 1, \"group_name\": \"_unique_id_\", \"value\": \"33787\", \"total_non_null_rows\": 50578, \"total_rows_inc_nulls\": 50578, \"distinct_value_count\": 50578}, {\"value_count\": 1, \"group_name\": \"_unique_id_\", \"value\": \"33788\", \"total_non_null_rows\": 50578, \"total_rows_inc_nulls\": 50578, \"distinct_value_count\": 50578}, {\"value_count\": 1, \"group_name\": \"_unique_id_\", \"value\": \"33791\", \"total_non_null_rows\": 50578, \"total_rows_inc_nulls\": 50578, \"distinct_value_count\": 50578}, {\"value_count\": 1, \"group_name\": \"_unique_id_\", \"value\": \"33802\", \"total_non_null_rows\": 50578, \"total_rows_inc_nulls\": 50578, \"distinct_value_count\": 50578}]}, \"encoding\": {\"tooltip\": [{\"field\": \"value\", \"type\": \"nominal\"}, {\"field\": \"value_count\", \"type\": \"quantitative\"}, {\"field\": \"total_non_null_rows\", \"type\": \"quantitative\"}, {\"field\": \"total_rows_inc_nulls\", \"type\": \"quantitative\"}], \"x\": {\"field\": \"value\", \"sort\": \"-y\", \"title\": null, \"type\": \"nominal\"}, \"y\": {\"field\": \"value_count\", \"title\": \"Value count\", \"type\": \"quantitative\"}}, \"title\": \"Top 10 values by value count\"}, {\"mark\": \"bar\", \"data\": {\"values\": [{\"value_count\": 1, \"group_name\": \"_unique_id_\", \"value\": \"33717\", \"total_non_null_rows\": 50578, \"total_rows_inc_nulls\": 50578, \"distinct_value_count\": 50578}, {\"value_count\": 1, \"group_name\": \"_unique_id_\", \"value\": \"33721\", \"total_non_null_rows\": 50578, \"total_rows_inc_nulls\": 50578, \"distinct_value_count\": 50578}, {\"value_count\": 1, \"group_name\": \"_unique_id_\", \"value\": \"33734\", \"total_non_null_rows\": 50578, \"total_rows_inc_nulls\": 50578, \"distinct_value_count\": 50578}, {\"value_count\": 1, \"group_name\": \"_unique_id_\", \"value\": \"33762\", \"total_non_null_rows\": 50578, \"total_rows_inc_nulls\": 50578, \"distinct_value_count\": 50578}, {\"value_count\": 1, \"group_name\": \"_unique_id_\", \"value\": \"33764\", \"total_non_null_rows\": 50578, \"total_rows_inc_nulls\": 50578, \"distinct_value_count\": 50578}]}, \"encoding\": {\"tooltip\": [{\"field\": \"value\", \"type\": \"nominal\"}, {\"field\": \"value_count\", \"type\": \"quantitative\"}, {\"field\": \"total_non_null_rows\", \"type\": \"quantitative\"}, {\"field\": \"total_rows_inc_nulls\", \"type\": \"quantitative\"}], \"x\": {\"field\": \"value\", \"sort\": \"-y\", \"title\": null, \"type\": \"nominal\"}, \"y\": {\"field\": \"value_count\", \"scale\": {\"domain\": [0, 1]}, \"title\": \"Value count\", \"type\": \"quantitative\"}}, \"title\": \"Bottom 5 values by value count\"}]}], \"$schema\": \"https://vega.github.io/schema/vega-lite/v5.9.3.json\"}, {\"mode\": \"vega-lite\"});\n",
       "</script>"
      ],
      "text/plain": [
       "alt.VConcatChart(...)"
      ]
     },
     "execution_count": 7,
     "metadata": {},
     "output_type": "execute_result"
    }
   ],
   "source": [
    "# Profile the data\n",
    "profile_data(combined_df, db_api)"
   ]
  },
  {
   "cell_type": "code",
   "execution_count": 8,
   "metadata": {},
   "outputs": [],
   "source": [
    "# --- Blocking Rule Utilities ---\n",
    "\n",
    "def create_blocking_rules() -> List[Tuple[str, str]]:\n",
    "    \"\"\"Create and return a list of named blocking rules.\"\"\"\n",
    "    return [\n",
    "        (\"first_name & last_name\", block_on(\"first_name\", \"last_name\")),\n",
    "        (\"zip\", block_on(\"zip\")),\n",
    "        (\"state\", block_on(\"state\")),\n",
    "        (\"city\", block_on(\"city\")),\n",
    "        (\"first_name_metaphone & last_name_metaphone\", block_on(\"first_name_metaphone\", \"last_name_metaphone\")),\n",
    "        (\"last_name_metaphone\", block_on(\"last_name_metaphone\")),\n",
    "        (\"first char of first_name\", block_on(\"substr(first_name, 1,1)\")),\n",
    "        (\"phone\", block_on(\"phone\")),\n",
    "    ]\n",
    "\n",
    "def count_blocking_rule_comparisons(\n",
    "    df: pd.DataFrame,\n",
    "    blocking_rules: List[Tuple[str, str]],\n",
    "    db_api: DuckDBAPI,\n",
    "    link_type: str = \"dedupe_only\"\n",
    ") -> dict:\n",
    "    \"\"\"Count comparisons for each blocking rule.\"\"\"\n",
    "    results = {}\n",
    "    for name, rule in blocking_rules:\n",
    "        count = count_comparisons_from_blocking_rule(\n",
    "            table_or_tables=df,\n",
    "            blocking_rule=rule,\n",
    "            link_type=link_type,\n",
    "            db_api=db_api,\n",
    "        )\n",
    "        results[name] = count\n",
    "    return results\n",
    "\n",
    "def print_comparison_counts(counts: dict):\n",
    "    \"\"\"Print the comparison counts for each rule.\"\"\"\n",
    "    for name, count in counts.items():\n",
    "        print(f\"{name}: {count}\")\n",
    "\n",
    "def analyze_worst_case_blocks(\n",
    "    df: pd.DataFrame,\n",
    "    rules: List[str],\n",
    "    db_api: DuckDBAPI,\n",
    "    top_n: int = 5\n",
    "):\n",
    "    \"\"\"Analyze largest blocks for given rule combinations.\"\"\"\n",
    "    for rule in rules:\n",
    "        result = n_largest_blocks(\n",
    "            table_or_tables=df,\n",
    "            blocking_rule=block_on(*rule.split(\",\")),\n",
    "            link_type=\"dedupe_only\",\n",
    "            db_api=db_api,\n",
    "            n_largest=top_n\n",
    "        )\n",
    "        print(f\"\\nTop {top_n} blocks for rule: {rule}\")\n",
    "        display(result.as_pandas_dataframe())  # Only works in Jupyter/Notebook environments\n"
   ]
  },
  {
   "cell_type": "code",
   "execution_count": 9,
   "metadata": {},
   "outputs": [
    {
     "data": {
      "application/vnd.jupyter.widget-view+json": {
       "model_id": "c117fdcc21324af1811ff6377ab5d090",
       "version_major": 2,
       "version_minor": 0
      },
      "text/plain": [
       "FloatProgress(value=0.0, layout=Layout(width='auto'), style=ProgressStyle(bar_color='black'))"
      ]
     },
     "metadata": {},
     "output_type": "display_data"
    },
    {
     "name": "stderr",
     "output_type": "stream",
     "text": [
      "WARNING:\n",
      "Computation of number of comparisons post-filter conditions was skipped because the number of comparisons generated by your blocking rule exceeded max_rows_limit=1.00e+09.\n",
      "It would be likely to be slow to compute.\n",
      "If you still want to go ahead increase the value of max_rows_limit argument to above 2.558e+09.\n",
      "Read more about the definitions here:\n",
      "https://moj-analytical-services.github.io/splink/topic_guides/blocking/performance.html?h=filter+cond#filter-conditions\n"
     ]
    },
    {
     "data": {
      "application/vnd.jupyter.widget-view+json": {
       "model_id": "c8b37d38d40c4e449cf5bbf2834c5057",
       "version_major": 2,
       "version_minor": 0
      },
      "text/plain": [
       "FloatProgress(value=0.0, layout=Layout(width='auto'), style=ProgressStyle(bar_color='black'))"
      ]
     },
     "metadata": {},
     "output_type": "display_data"
    },
    {
     "name": "stdout",
     "output_type": "stream",
     "text": [
      "first_name & last_name: {'number_of_comparisons_generated_pre_filter_conditions': 579786, 'number_of_comparisons_to_be_scored_post_filter_conditions': 264604, 'filter_conditions_identified': '', 'equi_join_conditions_identified': 'l.\"first_name\" = r.\"first_name\" AND l.\"last_name\" = r.\"last_name\"', 'link_type_join_condition': 'where l.\"unique_id\" < r.\"unique_id\"'}\n",
      "zip: {'number_of_comparisons_generated_pre_filter_conditions': 130816972, 'number_of_comparisons_to_be_scored_post_filter_conditions': 65383197, 'filter_conditions_identified': '', 'equi_join_conditions_identified': 'l.\"zip\" = r.\"zip\"', 'link_type_join_condition': 'where l.\"unique_id\" < r.\"unique_id\"'}\n",
      "state: {'number_of_comparisons_generated_pre_filter_conditions': 2558134084, 'number_of_comparisons_to_be_scored_post_filter_conditions': 'exceeded max_rows_limit, see warning', 'filter_conditions_identified': '', 'equi_join_conditions_identified': 'l.\"state\" = r.\"state\"', 'link_type_join_condition': 'where l.\"unique_id\" < r.\"unique_id\"'}\n",
      "city: {'number_of_comparisons_generated_pre_filter_conditions': 36590360, 'number_of_comparisons_to_be_scored_post_filter_conditions': 18269891, 'filter_conditions_identified': '', 'equi_join_conditions_identified': 'l.\"city\" = r.\"city\"', 'link_type_join_condition': 'where l.\"unique_id\" < r.\"unique_id\"'}\n",
      "first_name_metaphone & last_name_metaphone: {'number_of_comparisons_generated_pre_filter_conditions': 706408, 'number_of_comparisons_to_be_scored_post_filter_conditions': 327915, 'filter_conditions_identified': '', 'equi_join_conditions_identified': 'l.\"first_name_metaphone\" = r.\"first_name_metaphone\" AND l.\"last_name_metaphone\" = r.\"last_name_metaphone\"', 'link_type_join_condition': 'where l.\"unique_id\" < r.\"unique_id\"'}\n",
      "last_name_metaphone: {'number_of_comparisons_generated_pre_filter_conditions': 23932168, 'number_of_comparisons_to_be_scored_post_filter_conditions': 11940795, 'filter_conditions_identified': '', 'equi_join_conditions_identified': 'l.\"last_name_metaphone\" = r.\"last_name_metaphone\"', 'link_type_join_condition': 'where l.\"unique_id\" < r.\"unique_id\"'}\n",
      "first char of first_name: {'number_of_comparisons_generated_pre_filter_conditions': 181727460, 'number_of_comparisons_to_be_scored_post_filter_conditions': 90838441, 'filter_conditions_identified': '', 'equi_join_conditions_identified': 'SUBSTRING(l.first_name, 1, 1) = SUBSTRING(r.first_name, 1, 1)', 'link_type_join_condition': 'where l.\"unique_id\" < r.\"unique_id\"'}\n",
      "phone: {'number_of_comparisons_generated_pre_filter_conditions': 52460, 'number_of_comparisons_to_be_scored_post_filter_conditions': 941, 'filter_conditions_identified': '', 'equi_join_conditions_identified': 'l.\"phone\" = r.\"phone\"', 'link_type_join_condition': 'where l.\"unique_id\" < r.\"unique_id\"'}\n",
      "\n",
      "Top 5 blocks for rule: first_name,last_name\n"
     ]
    },
    {
     "data": {
      "text/html": [
       "<div>\n",
       "<style scoped>\n",
       "    .dataframe tbody tr th:only-of-type {\n",
       "        vertical-align: middle;\n",
       "    }\n",
       "\n",
       "    .dataframe tbody tr th {\n",
       "        vertical-align: top;\n",
       "    }\n",
       "\n",
       "    .dataframe thead th {\n",
       "        text-align: right;\n",
       "    }\n",
       "</style>\n",
       "<table border=\"1\" class=\"dataframe\">\n",
       "  <thead>\n",
       "    <tr style=\"text-align: right;\">\n",
       "      <th></th>\n",
       "      <th>key_0</th>\n",
       "      <th>key_1</th>\n",
       "      <th>count_l</th>\n",
       "      <th>count_r</th>\n",
       "      <th>block_count</th>\n",
       "    </tr>\n",
       "  </thead>\n",
       "  <tbody>\n",
       "    <tr>\n",
       "      <th>0</th>\n",
       "      <td>sir</td>\n",
       "      <td>baronet</td>\n",
       "      <td>542</td>\n",
       "      <td>542</td>\n",
       "      <td>293764</td>\n",
       "    </tr>\n",
       "    <tr>\n",
       "      <th>1</th>\n",
       "      <td>william</td>\n",
       "      <td>none</td>\n",
       "      <td>82</td>\n",
       "      <td>82</td>\n",
       "      <td>6724</td>\n",
       "    </tr>\n",
       "    <tr>\n",
       "      <th>2</th>\n",
       "      <td>john</td>\n",
       "      <td>none</td>\n",
       "      <td>76</td>\n",
       "      <td>76</td>\n",
       "      <td>5776</td>\n",
       "    </tr>\n",
       "    <tr>\n",
       "      <th>3</th>\n",
       "      <td>none</td>\n",
       "      <td>none</td>\n",
       "      <td>67</td>\n",
       "      <td>67</td>\n",
       "      <td>4489</td>\n",
       "    </tr>\n",
       "    <tr>\n",
       "      <th>4</th>\n",
       "      <td>1st</td>\n",
       "      <td>bt.</td>\n",
       "      <td>57</td>\n",
       "      <td>57</td>\n",
       "      <td>3249</td>\n",
       "    </tr>\n",
       "  </tbody>\n",
       "</table>\n",
       "</div>"
      ],
      "text/plain": [
       "     key_0    key_1  count_l  count_r  block_count\n",
       "0      sir  baronet      542      542       293764\n",
       "1  william     none       82       82         6724\n",
       "2     john     none       76       76         5776\n",
       "3     none     none       67       67         4489\n",
       "4      1st      bt.       57       57         3249"
      ]
     },
     "metadata": {},
     "output_type": "display_data"
    },
    {
     "name": "stdout",
     "output_type": "stream",
     "text": [
      "\n",
      "Top 5 blocks for rule: first_name,last_name,first_name_metaphone,last_name_metaphone\n"
     ]
    },
    {
     "data": {
      "text/html": [
       "<div>\n",
       "<style scoped>\n",
       "    .dataframe tbody tr th:only-of-type {\n",
       "        vertical-align: middle;\n",
       "    }\n",
       "\n",
       "    .dataframe tbody tr th {\n",
       "        vertical-align: top;\n",
       "    }\n",
       "\n",
       "    .dataframe thead th {\n",
       "        text-align: right;\n",
       "    }\n",
       "</style>\n",
       "<table border=\"1\" class=\"dataframe\">\n",
       "  <thead>\n",
       "    <tr style=\"text-align: right;\">\n",
       "      <th></th>\n",
       "      <th>key_0</th>\n",
       "      <th>key_1</th>\n",
       "      <th>key_2</th>\n",
       "      <th>key_3</th>\n",
       "      <th>count_l</th>\n",
       "      <th>count_r</th>\n",
       "      <th>block_count</th>\n",
       "    </tr>\n",
       "  </thead>\n",
       "  <tbody>\n",
       "    <tr>\n",
       "      <th>0</th>\n",
       "      <td>sir</td>\n",
       "      <td>baronet</td>\n",
       "      <td>SR</td>\n",
       "      <td>PRNT</td>\n",
       "      <td>542</td>\n",
       "      <td>542</td>\n",
       "      <td>293764</td>\n",
       "    </tr>\n",
       "    <tr>\n",
       "      <th>1</th>\n",
       "      <td>william</td>\n",
       "      <td>none</td>\n",
       "      <td>ALM</td>\n",
       "      <td>NN</td>\n",
       "      <td>82</td>\n",
       "      <td>82</td>\n",
       "      <td>6724</td>\n",
       "    </tr>\n",
       "    <tr>\n",
       "      <th>2</th>\n",
       "      <td>john</td>\n",
       "      <td>none</td>\n",
       "      <td>JN</td>\n",
       "      <td>NN</td>\n",
       "      <td>76</td>\n",
       "      <td>76</td>\n",
       "      <td>5776</td>\n",
       "    </tr>\n",
       "    <tr>\n",
       "      <th>3</th>\n",
       "      <td>none</td>\n",
       "      <td>none</td>\n",
       "      <td>NN</td>\n",
       "      <td>NN</td>\n",
       "      <td>67</td>\n",
       "      <td>67</td>\n",
       "      <td>4489</td>\n",
       "    </tr>\n",
       "    <tr>\n",
       "      <th>4</th>\n",
       "      <td>1st</td>\n",
       "      <td>bt.</td>\n",
       "      <td>ST</td>\n",
       "      <td>PTT</td>\n",
       "      <td>57</td>\n",
       "      <td>57</td>\n",
       "      <td>3249</td>\n",
       "    </tr>\n",
       "  </tbody>\n",
       "</table>\n",
       "</div>"
      ],
      "text/plain": [
       "     key_0    key_1 key_2 key_3  count_l  count_r  block_count\n",
       "0      sir  baronet    SR  PRNT      542      542       293764\n",
       "1  william     none   ALM    NN       82       82         6724\n",
       "2     john     none    JN    NN       76       76         5776\n",
       "3     none     none    NN    NN       67       67         4489\n",
       "4      1st      bt.    ST   PTT       57       57         3249"
      ]
     },
     "metadata": {},
     "output_type": "display_data"
    }
   ],
   "source": [
    "blocking_rules = create_blocking_rules()\n",
    "comparison_counts = count_blocking_rule_comparisons(combined_df, blocking_rules, db_api)\n",
    "print_comparison_counts(comparison_counts)\n",
    "\n",
    "rules_to_analyze = [\n",
    "    \"first_name,last_name\",\n",
    "    \"first_name,last_name,first_name_metaphone,last_name_metaphone\"\n",
    "]\n",
    "analyze_worst_case_blocks(combined_df, rules_to_analyze, db_api)"
   ]
  },
  {
   "cell_type": "code",
   "execution_count": 10,
   "metadata": {},
   "outputs": [],
   "source": [
    "def create_settings():\n",
    "    return SettingsCreator(\n",
    "        link_type=\"dedupe_only\",\n",
    "        em_convergence=0.001,\n",
    "        comparisons=[\n",
    "            cl.JaroWinklerAtThresholds(\"first_name\", [0.7, 0.85]),\n",
    "            cl.JaroWinklerAtThresholds(\"last_name\", [0.7, 0.85]),\n",
    "            cl.ExactMatch(\"first_name_metaphone\"),\n",
    "            cl.ExactMatch(\"last_name_metaphone\"),\n",
    "            cl.EmailComparison(\"email\"),\n",
    "            cl.LevenshteinAtThresholds(\"phone\", [0.7, 0.9]),\n",
    "            cl.LevenshteinAtThresholds(\"street\", [0.4, 0.7, 0.85]),\n",
    "            cl.JaroWinklerAtThresholds(\"city\", [0.4, 0.7, 0.85]),\n",
    "            cl.ExactMatch(\"state\"),\n",
    "            cl.PostcodeComparison(\"zip\"),\n",
    "        ],\n",
    "        blocking_rules_to_generate_predictions=[\n",
    "            block_on(\"first_name\", \"last_name\"),\n",
    "            block_on(\"first_name_metaphone\", \"last_name_metaphone\"),\n",
    "            block_on(\"first_name\", \"zip\"),\n",
    "            block_on(\"last_name\", \"zip\"),\n",
    "            block_on(\"first_name_metaphone\", \"zip\"),\n",
    "            block_on(\"last_name_metaphone\", \"zip\"),\n",
    "            block_on(\"phone\"),\n",
    "        ],\n",
    "        retain_intermediate_calculation_columns=False,\n",
    "    )\n"
   ]
  },
  {
   "cell_type": "code",
   "execution_count": 11,
   "metadata": {},
   "outputs": [],
   "source": [
    "def train_and_save_model(path: str,df: pd.DataFrame):\n",
    "    import json\n",
    "    settings = create_settings()\n",
    "\n",
    "    # Train on a stratified small sample for speed, then apply to full data\n",
    "    sample_size = min(len(df), 20000)  # cap training at 20k rows\n",
    "    training_df = df.sample(n=sample_size, random_state=42) if len(df) > sample_size else df\n",
    "\n",
    "    train_linker = Linker(training_df, settings, db_api=DuckDBAPI())\n",
    "    # Use more selective training rules to avoid excessive comparisons\n",
    "    rules = [\n",
    "        block_on(\"first_name\", \"last_name\"),\n",
    "        \"l.zip = r.zip and levenshtein(r.last_name, l.last_name) <= 2 and levenshtein(r.first_name, l.first_name) <= 2\",\n",
    "    ]\n",
    "    train_linker.training.estimate_probability_two_random_records_match(rules, recall=0.6)\n",
    "    train_linker.training.estimate_u_using_random_sampling(max_pairs=2000000)\n",
    "    for br in [block_on(\"first_name\", \"last_name\"), block_on(\"zip\"), block_on(\"city\")]:\n",
    "        train_linker.training.estimate_parameters_using_expectation_maximisation(br)\n",
    "\n",
    "    train_linker.misc.save_model_to_json(path, overwrite=True)\n",
    "\n",
    "    # Build a full-data linker using the trained settings loaded from JSON\n",
    "    with open(path, 'r', encoding='utf-8') as f:\n",
    "        trained_settings = json.load(f)\n",
    "    full_linker = Linker(df, trained_settings, db_api=DuckDBAPI())\n",
    "    return full_linker\n"
   ]
  },
  {
   "cell_type": "code",
   "execution_count": 12,
   "metadata": {},
   "outputs": [],
   "source": [
    "def visualize_model(linker):\n",
    "    # Set renderer for VS Code/Notebook environments\n",
    "    try:\n",
    "        pio.renderers.default = \"vscode\"\n",
    "    except Exception:\n",
    "        pio.renderers.default = \"notebook_connected\"\n",
    "\n",
    "    # Generate figures\n",
    "    fig1 = linker.visualisations.match_weights_chart()\n",
    "    fig2 = linker.visualisations.m_u_parameters_chart()\n",
    "    fig3 = linker.visualisations.parameter_estimate_comparisons_chart()\n",
    "\n",
    "    # Resize to avoid clipping\n",
    "    for f in (fig1, fig2, fig3):\n",
    "        try:\n",
    "            f.update_layout(width=1400, height=800)\n",
    "        except Exception:\n",
    "            pass\n",
    "\n",
    "    # Display\n",
    "    display(fig1)\n",
    "    display(fig2)\n",
    "    display(fig3)"
   ]
  },
  {
   "cell_type": "code",
   "execution_count": 13,
   "metadata": {},
   "outputs": [
    {
     "data": {
      "application/vnd.jupyter.widget-view+json": {
       "model_id": "27a85dfe07b64f34bc0022b1b81dc5e1",
       "version_major": 2,
       "version_minor": 0
      },
      "text/plain": [
       "FloatProgress(value=0.0, layout=Layout(width='auto'), style=ProgressStyle(bar_color='black'))"
      ]
     },
     "metadata": {},
     "output_type": "display_data"
    },
    {
     "name": "stderr",
     "output_type": "stream",
     "text": [
      "Probability two random records match is estimated to be  0.000417.\n",
      "This means that amongst all possible pairwise record comparisons, one in 2,399.93 are expected to match.  With 199,990,000 total possible comparisons, we expect a total of around 83,331.67 matching pairs\n",
      "----- Estimating u probabilities using random sampling -----\n"
     ]
    },
    {
     "data": {
      "application/vnd.jupyter.widget-view+json": {
       "model_id": "acaa9151dd8e465a98b7b0f77f70e01f",
       "version_major": 2,
       "version_minor": 0
      },
      "text/plain": [
       "FloatProgress(value=0.0, layout=Layout(width='auto'), style=ProgressStyle(bar_color='black'))"
      ]
     },
     "metadata": {},
     "output_type": "display_data"
    },
    {
     "name": "stderr",
     "output_type": "stream",
     "text": [
      "u probability not trained for first_name - Jaro-Winkler distance of first_name >= 0.85 (comparison vector value: 1). This usually means the comparison level was never observed in the training data.\n",
      "u probability not trained for last_name - Jaro-Winkler distance of last_name >= 0.85 (comparison vector value: 1). This usually means the comparison level was never observed in the training data.\n",
      "u probability not trained for email - Exact match on email (comparison vector value: 4). This usually means the comparison level was never observed in the training data.\n",
      "u probability not trained for email - Exact match on username (comparison vector value: 3). This usually means the comparison level was never observed in the training data.\n",
      "u probability not trained for phone - Levenshtein distance of phone <= 0.7 (comparison vector value: 2). This usually means the comparison level was never observed in the training data.\n",
      "u probability not trained for phone - Levenshtein distance of phone <= 0.9 (comparison vector value: 1). This usually means the comparison level was never observed in the training data.\n",
      "u probability not trained for street - Levenshtein distance of street <= 0.4 (comparison vector value: 3). This usually means the comparison level was never observed in the training data.\n",
      "u probability not trained for street - Levenshtein distance of street <= 0.7 (comparison vector value: 2). This usually means the comparison level was never observed in the training data.\n",
      "u probability not trained for street - Levenshtein distance of street <= 0.85 (comparison vector value: 1). This usually means the comparison level was never observed in the training data.\n",
      "u probability not trained for city - Jaro-Winkler distance of city >= 0.7 (comparison vector value: 2). This usually means the comparison level was never observed in the training data.\n",
      "u probability not trained for city - Jaro-Winkler distance of city >= 0.85 (comparison vector value: 1). This usually means the comparison level was never observed in the training data.\n",
      "u probability not trained for state - All other comparisons (comparison vector value: 0). This usually means the comparison level was never observed in the training data.\n",
      "u probability not trained for zip - Exact match on sector (comparison vector value: 3). This usually means the comparison level was never observed in the training data.\n",
      "\n",
      "Estimated u probabilities using random sampling\n",
      "\n",
      "Your model is not yet fully trained. Missing estimates for:\n",
      "    - first_name (some u values are not trained, no m values are trained).\n",
      "    - last_name (some u values are not trained, no m values are trained).\n",
      "    - first_name_metaphone (no m values are trained).\n",
      "    - last_name_metaphone (no m values are trained).\n",
      "    - email (some u values are not trained, no m values are trained).\n",
      "    - phone (some u values are not trained, no m values are trained).\n",
      "    - street (some u values are not trained, no m values are trained).\n",
      "    - city (some u values are not trained, no m values are trained).\n",
      "    - state (some u values are not trained, no m values are trained).\n",
      "    - zip (some u values are not trained, no m values are trained).\n",
      "\n",
      "----- Starting EM training session -----\n",
      "\n",
      "Estimating the m probabilities of the model by blocking on:\n",
      "(l.\"first_name\" = r.\"first_name\") AND (l.\"last_name\" = r.\"last_name\")\n",
      "\n",
      "Parameter estimates will be made for the following comparison(s):\n",
      "    - first_name_metaphone\n",
      "    - last_name_metaphone\n",
      "    - email\n",
      "    - phone\n",
      "    - street\n",
      "    - city\n",
      "    - state\n",
      "    - zip\n",
      "\n",
      "Parameter estimates cannot be made for the following comparison(s) since they are used in the blocking rules: \n",
      "    - first_name\n",
      "    - last_name\n",
      "\n",
      "WARNING:\n",
      "Level All other comparisons on comparison first_name_metaphone not observed in dataset, unable to train m value\n",
      "\n",
      "WARNING:\n",
      "Level All other comparisons on comparison last_name_metaphone not observed in dataset, unable to train m value\n",
      "\n",
      "WARNING:\n",
      "Level Exact match on phone on comparison phone not observed in dataset, unable to train m value\n",
      "\n",
      "WARNING:\n",
      "Level Levenshtein distance of phone <= 0.7 on comparison phone not observed in dataset, unable to train m value\n",
      "\n",
      "WARNING:\n",
      "Level Levenshtein distance of phone <= 0.9 on comparison phone not observed in dataset, unable to train m value\n",
      "\n",
      "WARNING:\n",
      "Level Levenshtein distance of street <= 0.4 on comparison street not observed in dataset, unable to train m value\n",
      "\n",
      "WARNING:\n",
      "Level Levenshtein distance of street <= 0.7 on comparison street not observed in dataset, unable to train m value\n",
      "\n",
      "WARNING:\n",
      "Level Levenshtein distance of street <= 0.85 on comparison street not observed in dataset, unable to train m value\n",
      "\n",
      "WARNING:\n",
      "Level Jaro-Winkler distance of city >= 0.7 on comparison city not observed in dataset, unable to train m value\n",
      "\n",
      "WARNING:\n",
      "Level Jaro-Winkler distance of city >= 0.85 on comparison city not observed in dataset, unable to train m value\n",
      "\n",
      "WARNING:\n",
      "Level All other comparisons on comparison state not observed in dataset, unable to train m value\n",
      "\n",
      "WARNING:\n",
      "Level Exact match on sector on comparison zip not observed in dataset, unable to train m value\n",
      "\n",
      "Iteration 1: Largest change in params was 0.983 in the m_probability of phone, level `All other comparisons`\n",
      "Iteration 2: Largest change in params was 0.689 in probability_two_random_records_match\n",
      "Iteration 3: Largest change in params was 0.00645 in probability_two_random_records_match\n",
      "Iteration 4: Largest change in params was 1.21e-06 in probability_two_random_records_match\n",
      "\n",
      "EM converged after 4 iterations\n",
      "m probability not trained for first_name_metaphone - All other comparisons (comparison vector value: 0). This usually means the comparison level was never observed in the training data.\n",
      "m probability not trained for last_name_metaphone - All other comparisons (comparison vector value: 0). This usually means the comparison level was never observed in the training data.\n",
      "m probability not trained for phone - Exact match on phone (comparison vector value: 3). This usually means the comparison level was never observed in the training data.\n",
      "m probability not trained for phone - Levenshtein distance of phone <= 0.7 (comparison vector value: 2). This usually means the comparison level was never observed in the training data.\n",
      "m probability not trained for phone - Levenshtein distance of phone <= 0.9 (comparison vector value: 1). This usually means the comparison level was never observed in the training data.\n",
      "m probability not trained for street - Levenshtein distance of street <= 0.4 (comparison vector value: 3). This usually means the comparison level was never observed in the training data.\n",
      "m probability not trained for street - Levenshtein distance of street <= 0.7 (comparison vector value: 2). This usually means the comparison level was never observed in the training data.\n",
      "m probability not trained for street - Levenshtein distance of street <= 0.85 (comparison vector value: 1). This usually means the comparison level was never observed in the training data.\n",
      "m probability not trained for city - Jaro-Winkler distance of city >= 0.7 (comparison vector value: 2). This usually means the comparison level was never observed in the training data.\n",
      "m probability not trained for city - Jaro-Winkler distance of city >= 0.85 (comparison vector value: 1). This usually means the comparison level was never observed in the training data.\n",
      "m probability not trained for state - All other comparisons (comparison vector value: 0). This usually means the comparison level was never observed in the training data.\n",
      "m probability not trained for zip - Exact match on sector (comparison vector value: 3). This usually means the comparison level was never observed in the training data.\n",
      "\n",
      "Your model is not yet fully trained. Missing estimates for:\n",
      "    - first_name (some u values are not trained, no m values are trained).\n",
      "    - last_name (some u values are not trained, no m values are trained).\n",
      "    - first_name_metaphone (some m values are not trained).\n",
      "    - last_name_metaphone (some m values are not trained).\n",
      "    - email (some u values are not trained).\n",
      "    - phone (some u values are not trained, some m values are not trained).\n",
      "    - street (some u values are not trained, some m values are not trained).\n",
      "    - city (some u values are not trained, some m values are not trained).\n",
      "    - state (some u values are not trained, some m values are not trained).\n",
      "    - zip (some u values are not trained, some m values are not trained).\n",
      "\n",
      "----- Starting EM training session -----\n",
      "\n",
      "Estimating the m probabilities of the model by blocking on:\n",
      "l.\"zip\" = r.\"zip\"\n",
      "\n",
      "Parameter estimates will be made for the following comparison(s):\n",
      "    - first_name\n",
      "    - last_name\n",
      "    - first_name_metaphone\n",
      "    - last_name_metaphone\n",
      "    - email\n",
      "    - phone\n",
      "    - street\n",
      "    - city\n",
      "    - state\n",
      "\n",
      "Parameter estimates cannot be made for the following comparison(s) since they are used in the blocking rules: \n",
      "    - zip\n"
     ]
    },
    {
     "data": {
      "application/vnd.jupyter.widget-view+json": {
       "model_id": "de3a3fee378248cf9e6db1abfc19fbb6",
       "version_major": 2,
       "version_minor": 0
      },
      "text/plain": [
       "FloatProgress(value=0.0, layout=Layout(width='auto'), style=ProgressStyle(bar_color='black'))"
      ]
     },
     "metadata": {},
     "output_type": "display_data"
    },
    {
     "data": {
      "application/vnd.jupyter.widget-view+json": {
       "model_id": "f70dfec494574084b1e311e56e8260b9",
       "version_major": 2,
       "version_minor": 0
      },
      "text/plain": [
       "FloatProgress(value=0.0, layout=Layout(width='auto'), style=ProgressStyle(bar_color='black'))"
      ]
     },
     "metadata": {},
     "output_type": "display_data"
    },
    {
     "name": "stderr",
     "output_type": "stream",
     "text": [
      "\n"
     ]
    },
    {
     "data": {
      "application/vnd.jupyter.widget-view+json": {
       "model_id": "9558a90d4818452bac8f1e0aa6b94aff",
       "version_major": 2,
       "version_minor": 0
      },
      "text/plain": [
       "FloatProgress(value=0.0, layout=Layout(width='auto'), style=ProgressStyle(bar_color='black'))"
      ]
     },
     "metadata": {},
     "output_type": "display_data"
    },
    {
     "name": "stderr",
     "output_type": "stream",
     "text": [
      "WARNING:\n",
      "Level Jaro-Winkler distance of first_name >= 0.85 on comparison first_name not observed in dataset, unable to train m value\n",
      "\n",
      "WARNING:\n",
      "Level Jaro-Winkler distance of last_name >= 0.85 on comparison last_name not observed in dataset, unable to train m value\n",
      "\n",
      "WARNING:\n",
      "Level Exact match on username on comparison email not observed in dataset, unable to train m value\n",
      "\n",
      "WARNING:\n",
      "Level Levenshtein distance of phone <= 0.7 on comparison phone not observed in dataset, unable to train m value\n",
      "\n",
      "WARNING:\n",
      "Level Levenshtein distance of phone <= 0.9 on comparison phone not observed in dataset, unable to train m value\n",
      "\n",
      "WARNING:\n",
      "Level Levenshtein distance of street <= 0.4 on comparison street not observed in dataset, unable to train m value\n",
      "\n",
      "WARNING:\n",
      "Level Levenshtein distance of street <= 0.7 on comparison street not observed in dataset, unable to train m value\n",
      "\n",
      "WARNING:\n",
      "Level Levenshtein distance of street <= 0.85 on comparison street not observed in dataset, unable to train m value\n",
      "\n",
      "WARNING:\n",
      "Level Jaro-Winkler distance of city >= 0.7 on comparison city not observed in dataset, unable to train m value\n",
      "\n",
      "WARNING:\n",
      "Level Jaro-Winkler distance of city >= 0.85 on comparison city not observed in dataset, unable to train m value\n",
      "\n",
      "WARNING:\n",
      "Level All other comparisons on comparison state not observed in dataset, unable to train m value\n",
      "\n",
      "Iteration 1: Largest change in params was -0.95 in the m_probability of phone, level `Exact match on phone`\n"
     ]
    },
    {
     "data": {
      "application/vnd.jupyter.widget-view+json": {
       "model_id": "7a1ba5be17a347d79b2b672ea6c127a6",
       "version_major": 2,
       "version_minor": 0
      },
      "text/plain": [
       "FloatProgress(value=0.0, layout=Layout(width='auto'), style=ProgressStyle(bar_color='black'))"
      ]
     },
     "metadata": {},
     "output_type": "display_data"
    },
    {
     "name": "stderr",
     "output_type": "stream",
     "text": [
      "Iteration 2: Largest change in params was 0.305 in the m_probability of email, level `All other comparisons`\n"
     ]
    },
    {
     "data": {
      "application/vnd.jupyter.widget-view+json": {
       "model_id": "6b983827e5174442a15cb17aac16da4e",
       "version_major": 2,
       "version_minor": 0
      },
      "text/plain": [
       "FloatProgress(value=0.0, layout=Layout(width='auto'), style=ProgressStyle(bar_color='black'))"
      ]
     },
     "metadata": {},
     "output_type": "display_data"
    },
    {
     "name": "stderr",
     "output_type": "stream",
     "text": [
      "Iteration 3: Largest change in params was 0.451 in the m_probability of first_name, level `All other comparisons`\n"
     ]
    },
    {
     "data": {
      "application/vnd.jupyter.widget-view+json": {
       "model_id": "e01b6a3f67214d0fa5c9fb2668c4bf16",
       "version_major": 2,
       "version_minor": 0
      },
      "text/plain": [
       "FloatProgress(value=0.0, layout=Layout(width='auto'), style=ProgressStyle(bar_color='black'))"
      ]
     },
     "metadata": {},
     "output_type": "display_data"
    },
    {
     "name": "stderr",
     "output_type": "stream",
     "text": [
      "Iteration 4: Largest change in params was 0.115 in the m_probability of first_name, level `All other comparisons`\n"
     ]
    },
    {
     "data": {
      "application/vnd.jupyter.widget-view+json": {
       "model_id": "00d6682f7de54d6f9a5ac6ee58eac295",
       "version_major": 2,
       "version_minor": 0
      },
      "text/plain": [
       "FloatProgress(value=0.0, layout=Layout(width='auto'), style=ProgressStyle(bar_color='black'))"
      ]
     },
     "metadata": {},
     "output_type": "display_data"
    },
    {
     "name": "stderr",
     "output_type": "stream",
     "text": [
      "Iteration 5: Largest change in params was -0.0259 in the m_probability of last_name_metaphone, level `All other comparisons`\n"
     ]
    },
    {
     "data": {
      "application/vnd.jupyter.widget-view+json": {
       "model_id": "b5b8e3b89664471ab493b81bdb449ad3",
       "version_major": 2,
       "version_minor": 0
      },
      "text/plain": [
       "FloatProgress(value=0.0, layout=Layout(width='auto'), style=ProgressStyle(bar_color='black'))"
      ]
     },
     "metadata": {},
     "output_type": "display_data"
    },
    {
     "name": "stderr",
     "output_type": "stream",
     "text": [
      "Iteration 6: Largest change in params was 0.00508 in the m_probability of last_name, level `Exact match on last_name`\n"
     ]
    },
    {
     "data": {
      "application/vnd.jupyter.widget-view+json": {
       "model_id": "da1878fe0b914a088976759c1eb027ab",
       "version_major": 2,
       "version_minor": 0
      },
      "text/plain": [
       "FloatProgress(value=0.0, layout=Layout(width='auto'), style=ProgressStyle(bar_color='black'))"
      ]
     },
     "metadata": {},
     "output_type": "display_data"
    },
    {
     "name": "stderr",
     "output_type": "stream",
     "text": [
      "Iteration 7: Largest change in params was 0.00151 in the m_probability of last_name, level `Exact match on last_name`\n"
     ]
    },
    {
     "data": {
      "application/vnd.jupyter.widget-view+json": {
       "model_id": "83d183a34677494c807705cf8cf4cb1d",
       "version_major": 2,
       "version_minor": 0
      },
      "text/plain": [
       "FloatProgress(value=0.0, layout=Layout(width='auto'), style=ProgressStyle(bar_color='black'))"
      ]
     },
     "metadata": {},
     "output_type": "display_data"
    },
    {
     "name": "stderr",
     "output_type": "stream",
     "text": [
      "Iteration 8: Largest change in params was 0.000516 in the m_probability of last_name, level `Exact match on last_name`\n",
      "\n",
      "EM converged after 8 iterations\n",
      "m probability not trained for first_name - Jaro-Winkler distance of first_name >= 0.85 (comparison vector value: 1). This usually means the comparison level was never observed in the training data.\n",
      "m probability not trained for last_name - Jaro-Winkler distance of last_name >= 0.85 (comparison vector value: 1). This usually means the comparison level was never observed in the training data.\n",
      "m probability not trained for email - Exact match on username (comparison vector value: 3). This usually means the comparison level was never observed in the training data.\n",
      "m probability not trained for phone - Levenshtein distance of phone <= 0.7 (comparison vector value: 2). This usually means the comparison level was never observed in the training data.\n",
      "m probability not trained for phone - Levenshtein distance of phone <= 0.9 (comparison vector value: 1). This usually means the comparison level was never observed in the training data.\n",
      "m probability not trained for street - Levenshtein distance of street <= 0.4 (comparison vector value: 3). This usually means the comparison level was never observed in the training data.\n",
      "m probability not trained for street - Levenshtein distance of street <= 0.7 (comparison vector value: 2). This usually means the comparison level was never observed in the training data.\n",
      "m probability not trained for street - Levenshtein distance of street <= 0.85 (comparison vector value: 1). This usually means the comparison level was never observed in the training data.\n",
      "m probability not trained for city - Jaro-Winkler distance of city >= 0.7 (comparison vector value: 2). This usually means the comparison level was never observed in the training data.\n",
      "m probability not trained for city - Jaro-Winkler distance of city >= 0.85 (comparison vector value: 1). This usually means the comparison level was never observed in the training data.\n",
      "m probability not trained for state - All other comparisons (comparison vector value: 0). This usually means the comparison level was never observed in the training data.\n",
      "\n",
      "Your model is not yet fully trained. Missing estimates for:\n",
      "    - first_name (some u values are not trained, some m values are not trained).\n",
      "    - last_name (some u values are not trained, some m values are not trained).\n",
      "    - email (some u values are not trained).\n",
      "    - phone (some u values are not trained, some m values are not trained).\n",
      "    - street (some u values are not trained, some m values are not trained).\n",
      "    - city (some u values are not trained, some m values are not trained).\n",
      "    - state (some u values are not trained, some m values are not trained).\n",
      "    - zip (some u values are not trained, some m values are not trained).\n",
      "\n",
      "----- Starting EM training session -----\n",
      "\n",
      "Estimating the m probabilities of the model by blocking on:\n",
      "l.\"city\" = r.\"city\"\n",
      "\n",
      "Parameter estimates will be made for the following comparison(s):\n",
      "    - first_name\n",
      "    - last_name\n",
      "    - first_name_metaphone\n",
      "    - last_name_metaphone\n",
      "    - email\n",
      "    - phone\n",
      "    - street\n",
      "    - state\n",
      "    - zip\n",
      "\n",
      "Parameter estimates cannot be made for the following comparison(s) since they are used in the blocking rules: \n",
      "    - city\n"
     ]
    },
    {
     "data": {
      "application/vnd.jupyter.widget-view+json": {
       "model_id": "ca91e7926d26442294f13bf6d298c4a2",
       "version_major": 2,
       "version_minor": 0
      },
      "text/plain": [
       "FloatProgress(value=0.0, layout=Layout(width='auto'), style=ProgressStyle(bar_color='black'))"
      ]
     },
     "metadata": {},
     "output_type": "display_data"
    },
    {
     "name": "stderr",
     "output_type": "stream",
     "text": [
      "\n"
     ]
    },
    {
     "data": {
      "application/vnd.jupyter.widget-view+json": {
       "model_id": "441f0f3c91fe43cbab81b7a63b33cb2b",
       "version_major": 2,
       "version_minor": 0
      },
      "text/plain": [
       "FloatProgress(value=0.0, layout=Layout(width='auto'), style=ProgressStyle(bar_color='black'))"
      ]
     },
     "metadata": {},
     "output_type": "display_data"
    },
    {
     "name": "stderr",
     "output_type": "stream",
     "text": [
      "WARNING:\n",
      "Level Jaro-Winkler distance of first_name >= 0.85 on comparison first_name not observed in dataset, unable to train m value\n",
      "\n",
      "WARNING:\n",
      "Level Jaro-Winkler distance of last_name >= 0.85 on comparison last_name not observed in dataset, unable to train m value\n",
      "\n",
      "WARNING:\n",
      "Level Exact match on email on comparison email not observed in dataset, unable to train m value\n",
      "\n",
      "WARNING:\n",
      "Level Exact match on username on comparison email not observed in dataset, unable to train m value\n",
      "\n",
      "WARNING:\n",
      "Level Levenshtein distance of phone <= 0.7 on comparison phone not observed in dataset, unable to train m value\n",
      "\n",
      "WARNING:\n",
      "Level Levenshtein distance of phone <= 0.9 on comparison phone not observed in dataset, unable to train m value\n",
      "\n",
      "WARNING:\n",
      "Level Levenshtein distance of street <= 0.4 on comparison street not observed in dataset, unable to train m value\n",
      "\n",
      "WARNING:\n",
      "Level Levenshtein distance of street <= 0.7 on comparison street not observed in dataset, unable to train m value\n",
      "\n",
      "WARNING:\n",
      "Level Levenshtein distance of street <= 0.85 on comparison street not observed in dataset, unable to train m value\n",
      "\n",
      "WARNING:\n",
      "Level All other comparisons on comparison state not observed in dataset, unable to train m value\n",
      "\n",
      "WARNING:\n",
      "Level Exact match on sector on comparison zip not observed in dataset, unable to train m value\n",
      "\n",
      "Iteration 1: Largest change in params was -0.308 in the m_probability of first_name_metaphone, level `Exact match on first_name_metaphone`\n"
     ]
    },
    {
     "data": {
      "application/vnd.jupyter.widget-view+json": {
       "model_id": "59538a81e7f647b2a1adaf5945af980c",
       "version_major": 2,
       "version_minor": 0
      },
      "text/plain": [
       "FloatProgress(value=0.0, layout=Layout(width='auto'), style=ProgressStyle(bar_color='black'))"
      ]
     },
     "metadata": {},
     "output_type": "display_data"
    },
    {
     "name": "stderr",
     "output_type": "stream",
     "text": [
      "Iteration 2: Largest change in params was -0.0247 in the m_probability of last_name, level `Exact match on last_name`\n"
     ]
    },
    {
     "data": {
      "application/vnd.jupyter.widget-view+json": {
       "model_id": "b7efe01aa254455b9e8aef9a61098010",
       "version_major": 2,
       "version_minor": 0
      },
      "text/plain": [
       "FloatProgress(value=0.0, layout=Layout(width='auto'), style=ProgressStyle(bar_color='black'))"
      ]
     },
     "metadata": {},
     "output_type": "display_data"
    },
    {
     "name": "stderr",
     "output_type": "stream",
     "text": [
      "Iteration 3: Largest change in params was -0.013 in the m_probability of last_name, level `Exact match on last_name`\n"
     ]
    },
    {
     "data": {
      "application/vnd.jupyter.widget-view+json": {
       "model_id": "9d9fbe643c2d45e69a15c7d065dca717",
       "version_major": 2,
       "version_minor": 0
      },
      "text/plain": [
       "FloatProgress(value=0.0, layout=Layout(width='auto'), style=ProgressStyle(bar_color='black'))"
      ]
     },
     "metadata": {},
     "output_type": "display_data"
    },
    {
     "name": "stderr",
     "output_type": "stream",
     "text": [
      "Iteration 4: Largest change in params was -0.0078 in the m_probability of last_name, level `Exact match on last_name`\n"
     ]
    },
    {
     "data": {
      "application/vnd.jupyter.widget-view+json": {
       "model_id": "65fef4c3342e430aaa0ecf5f4bc3ad37",
       "version_major": 2,
       "version_minor": 0
      },
      "text/plain": [
       "FloatProgress(value=0.0, layout=Layout(width='auto'), style=ProgressStyle(bar_color='black'))"
      ]
     },
     "metadata": {},
     "output_type": "display_data"
    },
    {
     "name": "stderr",
     "output_type": "stream",
     "text": [
      "Iteration 5: Largest change in params was -0.00729 in the m_probability of last_name, level `Exact match on last_name`\n"
     ]
    },
    {
     "data": {
      "application/vnd.jupyter.widget-view+json": {
       "model_id": "a2bbb53c52df428eac7d02a48089121b",
       "version_major": 2,
       "version_minor": 0
      },
      "text/plain": [
       "FloatProgress(value=0.0, layout=Layout(width='auto'), style=ProgressStyle(bar_color='black'))"
      ]
     },
     "metadata": {},
     "output_type": "display_data"
    },
    {
     "name": "stderr",
     "output_type": "stream",
     "text": [
      "Iteration 6: Largest change in params was -0.0102 in the m_probability of last_name, level `Exact match on last_name`\n"
     ]
    },
    {
     "data": {
      "application/vnd.jupyter.widget-view+json": {
       "model_id": "4e97f8cb6d814a2b96398178167ab04a",
       "version_major": 2,
       "version_minor": 0
      },
      "text/plain": [
       "FloatProgress(value=0.0, layout=Layout(width='auto'), style=ProgressStyle(bar_color='black'))"
      ]
     },
     "metadata": {},
     "output_type": "display_data"
    },
    {
     "name": "stderr",
     "output_type": "stream",
     "text": [
      "Iteration 7: Largest change in params was -0.0171 in the m_probability of last_name_metaphone, level `Exact match on last_name_metaphone`\n"
     ]
    },
    {
     "data": {
      "application/vnd.jupyter.widget-view+json": {
       "model_id": "30e8681dde584429a073640305a36296",
       "version_major": 2,
       "version_minor": 0
      },
      "text/plain": [
       "FloatProgress(value=0.0, layout=Layout(width='auto'), style=ProgressStyle(bar_color='black'))"
      ]
     },
     "metadata": {},
     "output_type": "display_data"
    },
    {
     "name": "stderr",
     "output_type": "stream",
     "text": [
      "Iteration 8: Largest change in params was -0.0309 in the m_probability of last_name_metaphone, level `Exact match on last_name_metaphone`\n"
     ]
    },
    {
     "data": {
      "application/vnd.jupyter.widget-view+json": {
       "model_id": "a8814a87c261413a9ce6f3b66981d6fb",
       "version_major": 2,
       "version_minor": 0
      },
      "text/plain": [
       "FloatProgress(value=0.0, layout=Layout(width='auto'), style=ProgressStyle(bar_color='black'))"
      ]
     },
     "metadata": {},
     "output_type": "display_data"
    },
    {
     "name": "stderr",
     "output_type": "stream",
     "text": [
      "Iteration 9: Largest change in params was 0.0596 in the m_probability of last_name_metaphone, level `All other comparisons`\n"
     ]
    },
    {
     "data": {
      "application/vnd.jupyter.widget-view+json": {
       "model_id": "1cdbb4b8bf164eadb337657cc78e052a",
       "version_major": 2,
       "version_minor": 0
      },
      "text/plain": [
       "FloatProgress(value=0.0, layout=Layout(width='auto'), style=ProgressStyle(bar_color='black'))"
      ]
     },
     "metadata": {},
     "output_type": "display_data"
    },
    {
     "name": "stderr",
     "output_type": "stream",
     "text": [
      "Iteration 10: Largest change in params was 0.122 in the m_probability of last_name_metaphone, level `All other comparisons`\n"
     ]
    },
    {
     "data": {
      "application/vnd.jupyter.widget-view+json": {
       "model_id": "f66d89d65e174572b4c8bcae8d02aba3",
       "version_major": 2,
       "version_minor": 0
      },
      "text/plain": [
       "FloatProgress(value=0.0, layout=Layout(width='auto'), style=ProgressStyle(bar_color='black'))"
      ]
     },
     "metadata": {},
     "output_type": "display_data"
    },
    {
     "name": "stderr",
     "output_type": "stream",
     "text": [
      "Iteration 11: Largest change in params was 0.232 in the m_probability of last_name, level `All other comparisons`\n"
     ]
    },
    {
     "data": {
      "application/vnd.jupyter.widget-view+json": {
       "model_id": "c3bfa0367e7f45d9afbf4b27d22ad8c9",
       "version_major": 2,
       "version_minor": 0
      },
      "text/plain": [
       "FloatProgress(value=0.0, layout=Layout(width='auto'), style=ProgressStyle(bar_color='black'))"
      ]
     },
     "metadata": {},
     "output_type": "display_data"
    },
    {
     "name": "stderr",
     "output_type": "stream",
     "text": [
      "Iteration 12: Largest change in params was 0.261 in the m_probability of last_name, level `All other comparisons`\n"
     ]
    },
    {
     "data": {
      "application/vnd.jupyter.widget-view+json": {
       "model_id": "397e5a5446504183901267889b3ccfef",
       "version_major": 2,
       "version_minor": 0
      },
      "text/plain": [
       "FloatProgress(value=0.0, layout=Layout(width='auto'), style=ProgressStyle(bar_color='black'))"
      ]
     },
     "metadata": {},
     "output_type": "display_data"
    },
    {
     "name": "stderr",
     "output_type": "stream",
     "text": [
      "Iteration 13: Largest change in params was 0.113 in the m_probability of last_name, level `All other comparisons`\n"
     ]
    },
    {
     "data": {
      "application/vnd.jupyter.widget-view+json": {
       "model_id": "f33ab94a22c24a1188f7a28ea36a9b3b",
       "version_major": 2,
       "version_minor": 0
      },
      "text/plain": [
       "FloatProgress(value=0.0, layout=Layout(width='auto'), style=ProgressStyle(bar_color='black'))"
      ]
     },
     "metadata": {},
     "output_type": "display_data"
    },
    {
     "name": "stderr",
     "output_type": "stream",
     "text": [
      "Iteration 14: Largest change in params was 0.0932 in the m_probability of street, level `All other comparisons`\n"
     ]
    },
    {
     "data": {
      "application/vnd.jupyter.widget-view+json": {
       "model_id": "edabe593348643b0a2a2d10ad7d69a0f",
       "version_major": 2,
       "version_minor": 0
      },
      "text/plain": [
       "FloatProgress(value=0.0, layout=Layout(width='auto'), style=ProgressStyle(bar_color='black'))"
      ]
     },
     "metadata": {},
     "output_type": "display_data"
    },
    {
     "name": "stderr",
     "output_type": "stream",
     "text": [
      "Iteration 15: Largest change in params was -0.0732 in the m_probability of street, level `Exact match on street`\n"
     ]
    },
    {
     "data": {
      "application/vnd.jupyter.widget-view+json": {
       "model_id": "914001f48109451fb3c1c28c98f0fc1a",
       "version_major": 2,
       "version_minor": 0
      },
      "text/plain": [
       "FloatProgress(value=0.0, layout=Layout(width='auto'), style=ProgressStyle(bar_color='black'))"
      ]
     },
     "metadata": {},
     "output_type": "display_data"
    },
    {
     "name": "stderr",
     "output_type": "stream",
     "text": [
      "Iteration 16: Largest change in params was -0.046 in the m_probability of street, level `Exact match on street`\n"
     ]
    },
    {
     "data": {
      "application/vnd.jupyter.widget-view+json": {
       "model_id": "794d98da484b4628b81fe5f83aea505f",
       "version_major": 2,
       "version_minor": 0
      },
      "text/plain": [
       "FloatProgress(value=0.0, layout=Layout(width='auto'), style=ProgressStyle(bar_color='black'))"
      ]
     },
     "metadata": {},
     "output_type": "display_data"
    },
    {
     "name": "stderr",
     "output_type": "stream",
     "text": [
      "Iteration 17: Largest change in params was -0.0306 in the m_probability of street, level `Exact match on street`\n"
     ]
    },
    {
     "data": {
      "application/vnd.jupyter.widget-view+json": {
       "model_id": "03c234e1e10342ee8589a9f93a6acf53",
       "version_major": 2,
       "version_minor": 0
      },
      "text/plain": [
       "FloatProgress(value=0.0, layout=Layout(width='auto'), style=ProgressStyle(bar_color='black'))"
      ]
     },
     "metadata": {},
     "output_type": "display_data"
    },
    {
     "name": "stderr",
     "output_type": "stream",
     "text": [
      "Iteration 18: Largest change in params was 0.022 in the m_probability of street, level `All other comparisons`\n"
     ]
    },
    {
     "data": {
      "application/vnd.jupyter.widget-view+json": {
       "model_id": "bb208acd03894b9999014de9a00efb22",
       "version_major": 2,
       "version_minor": 0
      },
      "text/plain": [
       "FloatProgress(value=0.0, layout=Layout(width='auto'), style=ProgressStyle(bar_color='black'))"
      ]
     },
     "metadata": {},
     "output_type": "display_data"
    },
    {
     "name": "stderr",
     "output_type": "stream",
     "text": [
      "Iteration 19: Largest change in params was 0.0167 in probability_two_random_records_match\n"
     ]
    },
    {
     "data": {
      "application/vnd.jupyter.widget-view+json": {
       "model_id": "df64fc9a41a94dc88b8b6e5b83377f7a",
       "version_major": 2,
       "version_minor": 0
      },
      "text/plain": [
       "FloatProgress(value=0.0, layout=Layout(width='auto'), style=ProgressStyle(bar_color='black'))"
      ]
     },
     "metadata": {},
     "output_type": "display_data"
    },
    {
     "name": "stderr",
     "output_type": "stream",
     "text": [
      "Iteration 20: Largest change in params was 0.0143 in probability_two_random_records_match\n"
     ]
    },
    {
     "data": {
      "application/vnd.jupyter.widget-view+json": {
       "model_id": "95156ce0eed443708cc37f6007889e3b",
       "version_major": 2,
       "version_minor": 0
      },
      "text/plain": [
       "FloatProgress(value=0.0, layout=Layout(width='auto'), style=ProgressStyle(bar_color='black'))"
      ]
     },
     "metadata": {},
     "output_type": "display_data"
    },
    {
     "name": "stderr",
     "output_type": "stream",
     "text": [
      "Iteration 21: Largest change in params was 0.0124 in probability_two_random_records_match\n"
     ]
    },
    {
     "data": {
      "application/vnd.jupyter.widget-view+json": {
       "model_id": "385987343b014f3782f7432657febcd7",
       "version_major": 2,
       "version_minor": 0
      },
      "text/plain": [
       "FloatProgress(value=0.0, layout=Layout(width='auto'), style=ProgressStyle(bar_color='black'))"
      ]
     },
     "metadata": {},
     "output_type": "display_data"
    },
    {
     "name": "stderr",
     "output_type": "stream",
     "text": [
      "Iteration 22: Largest change in params was 0.0109 in probability_two_random_records_match\n"
     ]
    },
    {
     "data": {
      "application/vnd.jupyter.widget-view+json": {
       "model_id": "9cd54ceb486a4d9786d5b8a47e86c518",
       "version_major": 2,
       "version_minor": 0
      },
      "text/plain": [
       "FloatProgress(value=0.0, layout=Layout(width='auto'), style=ProgressStyle(bar_color='black'))"
      ]
     },
     "metadata": {},
     "output_type": "display_data"
    },
    {
     "name": "stderr",
     "output_type": "stream",
     "text": [
      "Iteration 23: Largest change in params was 0.00959 in probability_two_random_records_match\n"
     ]
    },
    {
     "data": {
      "application/vnd.jupyter.widget-view+json": {
       "model_id": "c1e5b6e82eda4a438904c562fe610bbe",
       "version_major": 2,
       "version_minor": 0
      },
      "text/plain": [
       "FloatProgress(value=0.0, layout=Layout(width='auto'), style=ProgressStyle(bar_color='black'))"
      ]
     },
     "metadata": {},
     "output_type": "display_data"
    },
    {
     "name": "stderr",
     "output_type": "stream",
     "text": [
      "Iteration 24: Largest change in params was 0.00853 in probability_two_random_records_match\n"
     ]
    },
    {
     "data": {
      "application/vnd.jupyter.widget-view+json": {
       "model_id": "80bdc8a04be6410da5817fa22ea5e12a",
       "version_major": 2,
       "version_minor": 0
      },
      "text/plain": [
       "FloatProgress(value=0.0, layout=Layout(width='auto'), style=ProgressStyle(bar_color='black'))"
      ]
     },
     "metadata": {},
     "output_type": "display_data"
    },
    {
     "name": "stderr",
     "output_type": "stream",
     "text": [
      "Iteration 25: Largest change in params was 0.00765 in probability_two_random_records_match\n",
      "\n",
      "EM converged after 25 iterations\n",
      "m probability not trained for first_name - Jaro-Winkler distance of first_name >= 0.85 (comparison vector value: 1). This usually means the comparison level was never observed in the training data.\n",
      "m probability not trained for last_name - Jaro-Winkler distance of last_name >= 0.85 (comparison vector value: 1). This usually means the comparison level was never observed in the training data.\n",
      "m probability not trained for email - Exact match on email (comparison vector value: 4). This usually means the comparison level was never observed in the training data.\n",
      "m probability not trained for email - Exact match on username (comparison vector value: 3). This usually means the comparison level was never observed in the training data.\n",
      "m probability not trained for phone - Levenshtein distance of phone <= 0.7 (comparison vector value: 2). This usually means the comparison level was never observed in the training data.\n",
      "m probability not trained for phone - Levenshtein distance of phone <= 0.9 (comparison vector value: 1). This usually means the comparison level was never observed in the training data.\n",
      "m probability not trained for street - Levenshtein distance of street <= 0.4 (comparison vector value: 3). This usually means the comparison level was never observed in the training data.\n",
      "m probability not trained for street - Levenshtein distance of street <= 0.7 (comparison vector value: 2). This usually means the comparison level was never observed in the training data.\n",
      "m probability not trained for street - Levenshtein distance of street <= 0.85 (comparison vector value: 1). This usually means the comparison level was never observed in the training data.\n",
      "m probability not trained for state - All other comparisons (comparison vector value: 0). This usually means the comparison level was never observed in the training data.\n",
      "m probability not trained for zip - Exact match on sector (comparison vector value: 3). This usually means the comparison level was never observed in the training data.\n",
      "\n",
      "Your model is not yet fully trained. Missing estimates for:\n",
      "    - first_name (some u values are not trained, some m values are not trained).\n",
      "    - last_name (some u values are not trained, some m values are not trained).\n",
      "    - email (some u values are not trained).\n",
      "    - phone (some u values are not trained, some m values are not trained).\n",
      "    - street (some u values are not trained, some m values are not trained).\n",
      "    - city (some u values are not trained, some m values are not trained).\n",
      "    - state (some u values are not trained, some m values are not trained).\n",
      "    - zip (some u values are not trained, some m values are not trained).\n"
     ]
    }
   ],
   "source": [
    "linker = train_and_save_model(\"./final_model3.json\",combined_df)"
   ]
  },
  {
   "cell_type": "code",
   "execution_count": 14,
   "metadata": {},
   "outputs": [
    {
     "data": {
      "text/html": [
       "\n",
       "<style>\n",
       "  #altair-viz-66598830a9fb45b9b4b56a1f4606ca96.vega-embed {\n",
       "    width: 100%;\n",
       "    display: flex;\n",
       "  }\n",
       "\n",
       "  #altair-viz-66598830a9fb45b9b4b56a1f4606ca96.vega-embed details,\n",
       "  #altair-viz-66598830a9fb45b9b4b56a1f4606ca96.vega-embed details summary {\n",
       "    position: relative;\n",
       "  }\n",
       "</style>\n",
       "<div id=\"altair-viz-66598830a9fb45b9b4b56a1f4606ca96\"></div>\n",
       "<script type=\"text/javascript\">\n",
       "  var VEGA_DEBUG = (typeof VEGA_DEBUG == \"undefined\") ? {} : VEGA_DEBUG;\n",
       "  (function(spec, embedOpt){\n",
       "    let outputDiv = document.currentScript.previousElementSibling;\n",
       "    if (outputDiv.id !== \"altair-viz-66598830a9fb45b9b4b56a1f4606ca96\") {\n",
       "      outputDiv = document.getElementById(\"altair-viz-66598830a9fb45b9b4b56a1f4606ca96\");\n",
       "    }\n",
       "\n",
       "    const paths = {\n",
       "      \"vega\": \"https://cdn.jsdelivr.net/npm/vega@5?noext\",\n",
       "      \"vega-lib\": \"https://cdn.jsdelivr.net/npm/vega-lib?noext\",\n",
       "      \"vega-lite\": \"https://cdn.jsdelivr.net/npm/vega-lite@5.20.1?noext\",\n",
       "      \"vega-embed\": \"https://cdn.jsdelivr.net/npm/vega-embed@6?noext\",\n",
       "    };\n",
       "\n",
       "    function maybeLoadScript(lib, version) {\n",
       "      var key = `${lib.replace(\"-\", \"\")}_version`;\n",
       "      return (VEGA_DEBUG[key] == version) ?\n",
       "        Promise.resolve(paths[lib]) :\n",
       "        new Promise(function(resolve, reject) {\n",
       "          var s = document.createElement('script');\n",
       "          document.getElementsByTagName(\"head\")[0].appendChild(s);\n",
       "          s.async = true;\n",
       "          s.onload = () => {\n",
       "            VEGA_DEBUG[key] = version;\n",
       "            return resolve(paths[lib]);\n",
       "          };\n",
       "          s.onerror = () => reject(`Error loading script: ${paths[lib]}`);\n",
       "          s.src = paths[lib];\n",
       "        });\n",
       "    }\n",
       "\n",
       "    function showError(err) {\n",
       "      outputDiv.innerHTML = `<div class=\"error\" style=\"color:red;\">${err}</div>`;\n",
       "      throw err;\n",
       "    }\n",
       "\n",
       "    function displayChart(vegaEmbed) {\n",
       "      vegaEmbed(outputDiv, spec, embedOpt)\n",
       "        .catch(err => showError(`Javascript Error: ${err.message}<br>This usually means there's a typo in your chart specification. See the javascript console for the full traceback.`));\n",
       "    }\n",
       "\n",
       "    if(typeof define === \"function\" && define.amd) {\n",
       "      requirejs.config({paths});\n",
       "      let deps = [\"vega-embed\"];\n",
       "      require(deps, displayChart, err => showError(`Error loading script: ${err.message}`));\n",
       "    } else {\n",
       "      maybeLoadScript(\"vega\", \"5\")\n",
       "        .then(() => maybeLoadScript(\"vega-lite\", \"5.20.1\"))\n",
       "        .then(() => maybeLoadScript(\"vega-embed\", \"6\"))\n",
       "        .catch(showError)\n",
       "        .then(() => displayChart(vegaEmbed));\n",
       "    }\n",
       "  })({\"config\": {\"view\": {\"continuousWidth\": 300, \"continuousHeight\": 300, \"discreteHeight\": 60, \"discreteWidth\": 400}, \"header\": {\"title\": null}, \"mark\": {\"tooltip\": null}, \"title\": {\"anchor\": \"middle\"}}, \"vconcat\": [{\"mark\": {\"type\": \"bar\", \"clip\": true, \"height\": 15}, \"encoding\": {\"color\": {\"field\": \"log2_bayes_factor\", \"scale\": {\"domain\": [-10, 0, 10], \"interpolate\": \"lab\", \"range\": [\"red\", \"#bbbbbb\", \"green\"]}, \"title\": \"Match weight\", \"type\": \"quantitative\"}, \"tooltip\": [{\"field\": \"comparison_name\", \"title\": \"Comparison name\", \"type\": \"nominal\"}, {\"field\": \"probability_two_random_records_match\", \"format\": \".4f\", \"title\": \"Probability two random records match\", \"type\": \"nominal\"}, {\"field\": \"log2_bayes_factor\", \"format\": \",.4f\", \"title\": \"Equivalent match weight\", \"type\": \"quantitative\"}, {\"field\": \"bayes_factor_description\", \"title\": \"Match weight description\", \"type\": \"nominal\"}], \"x\": {\"axis\": {\"domain\": false, \"gridColor\": {\"condition\": {\"test\": \"abs(datum.value / 10)  <= 1 & datum.value % 10 === 0\", \"value\": \"#aaa\"}, \"value\": \"#ddd\"}, \"gridDash\": {\"condition\": {\"test\": \"abs(datum.value / 10) == 1\", \"value\": [3]}, \"value\": null}, \"gridWidth\": {\"condition\": {\"test\": \"abs(datum.value / 10)  <= 1 & datum.value % 10 === 0\", \"value\": 2}, \"value\": 1}, \"labels\": false, \"ticks\": false, \"title\": \"\"}, \"field\": \"log2_bayes_factor\", \"scale\": {\"domain\": [-110, 110]}, \"type\": \"quantitative\"}, \"y\": {\"axis\": {\"title\": \"Prior (starting) match weight\", \"titleAlign\": \"right\", \"titleAngle\": 0, \"titleFontWeight\": \"normal\"}, \"field\": \"label_for_charts\", \"sort\": {\"field\": \"comparison_vector_value\", \"order\": \"descending\"}, \"type\": \"nominal\"}}, \"height\": 20, \"transform\": [{\"filter\": \"(datum.comparison_name == 'probability_two_random_records_match')\"}]}, {\"mark\": {\"type\": \"bar\", \"clip\": true}, \"encoding\": {\"color\": {\"field\": \"log2_bayes_factor\", \"scale\": {\"domain\": [-10, 0, 10], \"interpolate\": \"lab\", \"range\": [\"red\", \"#bbbbbb\", \"green\"]}, \"title\": \"Match weight\", \"type\": \"quantitative\"}, \"row\": {\"field\": \"comparison_name\", \"header\": {\"labelAlign\": \"left\", \"labelAnchor\": \"middle\", \"labelAngle\": 0}, \"sort\": {\"field\": \"comparison_sort_order\"}, \"type\": \"nominal\"}, \"tooltip\": [{\"field\": \"comparison_name\", \"title\": \"Comparison name\", \"type\": \"nominal\"}, {\"field\": \"label_for_charts\", \"title\": \"Label\", \"type\": \"ordinal\"}, {\"field\": \"sql_condition\", \"title\": \"SQL condition\", \"type\": \"nominal\"}, {\"field\": \"m_probability\", \"format\": \".10~g\", \"title\": \"M probability\", \"type\": \"quantitative\"}, {\"field\": \"u_probability\", \"format\": \".10~g\", \"title\": \"U probability\", \"type\": \"quantitative\"}, {\"field\": \"bayes_factor\", \"format\": \",.6f\", \"title\": \"Bayes factor = m/u\", \"type\": \"quantitative\"}, {\"field\": \"log2_bayes_factor\", \"format\": \".4~g\", \"title\": \"Match weight = log2(m/u)\", \"type\": \"quantitative\"}, {\"field\": \"bayes_factor_description\", \"title\": \"Match weight description\", \"type\": \"nominal\"}, {\"field\": \"m_probability_description\", \"title\": \"m probability description\", \"type\": \"nominal\"}, {\"field\": \"u_probability_description\", \"title\": \"u probability description\", \"type\": \"nominal\"}], \"x\": {\"axis\": {\"gridColor\": {\"condition\": {\"test\": \"abs(datum.value / 10)  <= 1 & datum.value % 10 === 0\", \"value\": \"#aaa\"}, \"value\": \"#ddd\"}, \"gridDash\": {\"condition\": {\"test\": \"abs(datum.value / 10) == 1\", \"value\": [3]}, \"value\": null}, \"gridWidth\": {\"condition\": {\"test\": \"abs(datum.value / 10)  <= 1 & datum.value % 10 === 0\", \"value\": 2}, \"value\": 1}, \"title\": \"Comparison level match weight = log2(m/u)\"}, \"field\": \"log2_bayes_factor\", \"scale\": {\"domain\": [-110, 110]}, \"type\": \"quantitative\"}, \"y\": {\"axis\": {\"title\": null}, \"field\": \"label_for_charts\", \"sort\": {\"field\": \"comparison_vector_value\", \"order\": \"descending\"}, \"type\": \"nominal\"}}, \"height\": {\"step\": 12}, \"resolve\": {\"axis\": {\"y\": \"independent\"}, \"scale\": {\"y\": \"independent\"}}, \"transform\": [{\"filter\": \"(datum.comparison_name != 'probability_two_random_records_match')\"}]}], \"data\": {\"name\": \"data-b766b953c7bfda24e195bbb29f5b2dc1\"}, \"params\": [{\"name\": \"mouse_zoom\", \"select\": {\"type\": \"interval\", \"encodings\": [\"x\"]}, \"bind\": \"scales\", \"views\": []}], \"resolve\": {\"axis\": {\"y\": \"independent\"}, \"scale\": {\"y\": \"independent\"}}, \"title\": {\"text\": \"Model parameters (components of final match weight)\", \"subtitle\": \"Use mousewheel to zoom\"}, \"$schema\": \"https://vega.github.io/schema/vega-lite/v5.9.3.json\", \"datasets\": {\"data-b766b953c7bfda24e195bbb29f5b2dc1\": [{\"comparison_name\": \"probability_two_random_records_match\", \"sql_condition\": null, \"label_for_charts\": \"\", \"m_probability\": null, \"u_probability\": null, \"m_probability_description\": null, \"u_probability_description\": null, \"has_tf_adjustments\": false, \"tf_adjustment_column\": null, \"tf_adjustment_weight\": null, \"is_null_level\": false, \"bayes_factor\": 0.0004168528611947838, \"log2_bayes_factor\": -11.228174141885214, \"comparison_vector_value\": 0, \"max_comparison_vector_value\": 0, \"bayes_factor_description\": \"The probability that two random records drawn at random match is 0.000 or one in  2,399.9 records.This is equivalent to a starting match weight of -11.228.\", \"probability_two_random_records_match\": 0.00041667916729169795, \"comparison_sort_order\": -1}, {\"comparison_name\": \"first_name\", \"sql_condition\": \"\\\"first_name_l\\\" = \\\"first_name_r\\\"\", \"label_for_charts\": \"Exact match on first_name\", \"m_probability\": 0.03709922353074373, \"u_probability\": 0.011628617542497475, \"m_probability_description\": \"Amongst matching record comparisons, 3.71% of records (i.e. one in 26.95) are in the exact match on first_name comparison level\", \"u_probability_description\": \"Amongst non-matching record comparisons, 1.163% of records (i.e. one in 85.99) are in the exact match on first_name comparison level\", \"has_tf_adjustments\": false, \"tf_adjustment_column\": null, \"tf_adjustment_weight\": 1.0, \"is_null_level\": false, \"bayes_factor\": 3.190338266364201, \"log2_bayes_factor\": 1.6737093987028375, \"comparison_vector_value\": 3, \"max_comparison_vector_value\": 3, \"bayes_factor_description\": \"If comparison level is `exact match on first_name` then comparison is 3.19 times more likely to be a match\", \"probability_two_random_records_match\": 0.00041667916729169795, \"comparison_sort_order\": 0}, {\"comparison_name\": \"first_name\", \"sql_condition\": \"jaro_winkler_similarity(\\\"first_name_l\\\", \\\"first_name_r\\\") >= 0.7\", \"label_for_charts\": \"Jaro-Winkler distance of first_name >= 0.7\", \"m_probability\": 0.039452968209811035, \"u_probability\": 0.02441059675425745, \"m_probability_description\": \"Amongst matching record comparisons, 3.945% of records (i.e. one in 25.35) are in the jaro-winkler distance of first_name >= 0.7 comparison level\", \"u_probability_description\": \"Amongst non-matching record comparisons, 2.441% of records (i.e. one in 40.97) are in the jaro-winkler distance of first_name >= 0.7 comparison level\", \"has_tf_adjustments\": false, \"tf_adjustment_column\": null, \"tf_adjustment_weight\": 1.0, \"is_null_level\": false, \"bayes_factor\": 1.6162230119560697, \"log2_bayes_factor\": 0.6926262798005928, \"comparison_vector_value\": 2, \"max_comparison_vector_value\": 3, \"bayes_factor_description\": \"If comparison level is `jaro-winkler distance of first_name >= 0.7` then comparison is 1.616 times more likely to be a match\", \"probability_two_random_records_match\": 0.00041667916729169795, \"comparison_sort_order\": 0}, {\"comparison_name\": \"first_name\", \"sql_condition\": \"jaro_winkler_similarity(\\\"first_name_l\\\", \\\"first_name_r\\\") >= 0.85\", \"label_for_charts\": \"Jaro-Winkler distance of first_name >= 0.85\", \"m_probability\": 0.01666666666666668, \"u_probability\": 0.03333333333333336, \"m_probability_description\": \"Amongst matching record comparisons, 1.667% of records (i.e. one in 60) are in the jaro-winkler distance of first_name >= 0.85 comparison level\", \"u_probability_description\": \"Amongst non-matching record comparisons, 3.333% of records (i.e. one in 30) are in the jaro-winkler distance of first_name >= 0.85 comparison level\", \"has_tf_adjustments\": false, \"tf_adjustment_column\": null, \"tf_adjustment_weight\": 1.0, \"is_null_level\": false, \"bayes_factor\": 0.5, \"log2_bayes_factor\": -1.0, \"comparison_vector_value\": 1, \"max_comparison_vector_value\": 3, \"bayes_factor_description\": \"If comparison level is `jaro-winkler distance of first_name >= 0.85` then comparison is 2 times less likely to be a match\", \"probability_two_random_records_match\": 0.00041667916729169795, \"comparison_sort_order\": 0}, {\"comparison_name\": \"first_name\", \"sql_condition\": \"ELSE\", \"label_for_charts\": \"All other comparisons\", \"m_probability\": 0.9234478082594452, \"u_probability\": 0.9639607857032451, \"m_probability_description\": \"Amongst matching record comparisons, 92.34% of records (i.e. one in 1.083) are in the all other comparisons comparison level\", \"u_probability_description\": \"Amongst non-matching record comparisons, 96.4% of records (i.e. one in 1.037) are in the all other comparisons comparison level\", \"has_tf_adjustments\": false, \"tf_adjustment_column\": null, \"tf_adjustment_weight\": 1.0, \"is_null_level\": false, \"bayes_factor\": 0.9579723801583441, \"log2_bayes_factor\": -0.061944033480194276, \"comparison_vector_value\": 0, \"max_comparison_vector_value\": 3, \"bayes_factor_description\": \"If comparison level is `all other comparisons` then comparison is 1.044 times less likely to be a match\", \"probability_two_random_records_match\": 0.00041667916729169795, \"comparison_sort_order\": 0}, {\"comparison_name\": \"last_name\", \"sql_condition\": \"\\\"last_name_l\\\" = \\\"last_name_r\\\"\", \"label_for_charts\": \"Exact match on last_name\", \"m_probability\": 0.5172297487076565, \"u_probability\": 0.009326515866939241, \"m_probability_description\": \"Amongst matching record comparisons, 51.72% of records (i.e. one in 1.933) are in the exact match on last_name comparison level\", \"u_probability_description\": \"Amongst non-matching record comparisons, 0.9327% of records (i.e. one in 107) are in the exact match on last_name comparison level\", \"has_tf_adjustments\": false, \"tf_adjustment_column\": null, \"tf_adjustment_weight\": 1.0, \"is_null_level\": false, \"bayes_factor\": 55.45798196099568, \"log2_bayes_factor\": 5.7933232145493845, \"comparison_vector_value\": 3, \"max_comparison_vector_value\": 3, \"bayes_factor_description\": \"If comparison level is `exact match on last_name` then comparison is 55.46 times more likely to be a match\", \"probability_two_random_records_match\": 0.00041667916729169795, \"comparison_sort_order\": 1}, {\"comparison_name\": \"last_name\", \"sql_condition\": \"jaro_winkler_similarity(\\\"last_name_l\\\", \\\"last_name_r\\\") >= 0.7\", \"label_for_charts\": \"Jaro-Winkler distance of last_name >= 0.7\", \"m_probability\": 0.021000166368292793, \"u_probability\": 0.021061945175779816, \"m_probability_description\": \"Amongst matching record comparisons, 2.1% of records (i.e. one in 47.62) are in the jaro-winkler distance of last_name >= 0.7 comparison level\", \"u_probability_description\": \"Amongst non-matching record comparisons, 2.106% of records (i.e. one in 47.48) are in the jaro-winkler distance of last_name >= 0.7 comparison level\", \"has_tf_adjustments\": false, \"tf_adjustment_column\": null, \"tf_adjustment_weight\": 1.0, \"is_null_level\": false, \"bayes_factor\": 0.9970668042779797, \"log2_bayes_factor\": -0.004237925297220273, \"comparison_vector_value\": 2, \"max_comparison_vector_value\": 3, \"bayes_factor_description\": \"If comparison level is `jaro-winkler distance of last_name >= 0.7` then comparison is 1.003 times less likely to be a match\", \"probability_two_random_records_match\": 0.00041667916729169795, \"comparison_sort_order\": 1}, {\"comparison_name\": \"last_name\", \"sql_condition\": \"jaro_winkler_similarity(\\\"last_name_l\\\", \\\"last_name_r\\\") >= 0.85\", \"label_for_charts\": \"Jaro-Winkler distance of last_name >= 0.85\", \"m_probability\": 0.01666666666666668, \"u_probability\": 0.03333333333333336, \"m_probability_description\": \"Amongst matching record comparisons, 1.667% of records (i.e. one in 60) are in the jaro-winkler distance of last_name >= 0.85 comparison level\", \"u_probability_description\": \"Amongst non-matching record comparisons, 3.333% of records (i.e. one in 30) are in the jaro-winkler distance of last_name >= 0.85 comparison level\", \"has_tf_adjustments\": false, \"tf_adjustment_column\": null, \"tf_adjustment_weight\": 1.0, \"is_null_level\": false, \"bayes_factor\": 0.5, \"log2_bayes_factor\": -1.0, \"comparison_vector_value\": 1, \"max_comparison_vector_value\": 3, \"bayes_factor_description\": \"If comparison level is `jaro-winkler distance of last_name >= 0.85` then comparison is 2 times less likely to be a match\", \"probability_two_random_records_match\": 0.00041667916729169795, \"comparison_sort_order\": 1}, {\"comparison_name\": \"last_name\", \"sql_condition\": \"ELSE\", \"label_for_charts\": \"All other comparisons\", \"m_probability\": 0.4617700849240507, \"u_probability\": 0.9696115389572809, \"m_probability_description\": \"Amongst matching record comparisons, 46.18% of records (i.e. one in 2.166) are in the all other comparisons comparison level\", \"u_probability_description\": \"Amongst non-matching record comparisons, 96.96% of records (i.e. one in 1.031) are in the all other comparisons comparison level\", \"has_tf_adjustments\": false, \"tf_adjustment_column\": null, \"tf_adjustment_weight\": 1.0, \"is_null_level\": false, \"bayes_factor\": 0.47624235724405434, \"log2_bayes_factor\": -1.0702321545219806, \"comparison_vector_value\": 0, \"max_comparison_vector_value\": 3, \"bayes_factor_description\": \"If comparison level is `all other comparisons` then comparison is 2.1 times less likely to be a match\", \"probability_two_random_records_match\": 0.00041667916729169795, \"comparison_sort_order\": 1}, {\"comparison_name\": \"first_name_metaphone\", \"sql_condition\": \"\\\"first_name_metaphone_l\\\" = \\\"first_name_metaphone_r\\\"\", \"label_for_charts\": \"Exact match on first_name_metaphone\", \"m_probability\": 0.048204389238171455, \"u_probability\": 0.014921295647266465, \"m_probability_description\": \"Amongst matching record comparisons, 4.82% of records (i.e. one in 20.74) are in the exact match on first_name_metaphone comparison level\", \"u_probability_description\": \"Amongst non-matching record comparisons, 1.492% of records (i.e. one in 67.02) are in the exact match on first_name_metaphone comparison level\", \"has_tf_adjustments\": false, \"tf_adjustment_column\": null, \"tf_adjustment_weight\": 1.0, \"is_null_level\": false, \"bayes_factor\": 3.2305766454672686, \"log2_bayes_factor\": 1.6917917034034073, \"comparison_vector_value\": 1, \"max_comparison_vector_value\": 1, \"bayes_factor_description\": \"If comparison level is `exact match on first_name_metaphone` then comparison is 3.231 times more likely to be a match\", \"probability_two_random_records_match\": 0.00041667916729169795, \"comparison_sort_order\": 2}, {\"comparison_name\": \"first_name_metaphone\", \"sql_condition\": \"ELSE\", \"label_for_charts\": \"All other comparisons\", \"m_probability\": 0.9554649701221775, \"u_probability\": 0.9850787043527335, \"m_probability_description\": \"Amongst matching record comparisons, 95.55% of records (i.e. one in 1.047) are in the all other comparisons comparison level\", \"u_probability_description\": \"Amongst non-matching record comparisons, 98.51% of records (i.e. one in 1.015) are in the all other comparisons comparison level\", \"has_tf_adjustments\": false, \"tf_adjustment_column\": null, \"tf_adjustment_weight\": 1.0, \"is_null_level\": false, \"bayes_factor\": 0.9699376972624595, \"log2_bayes_factor\": -0.044036014326988955, \"comparison_vector_value\": 0, \"max_comparison_vector_value\": 1, \"bayes_factor_description\": \"If comparison level is `all other comparisons` then comparison is 1.031 times less likely to be a match\", \"probability_two_random_records_match\": 0.00041667916729169795, \"comparison_sort_order\": 2}, {\"comparison_name\": \"last_name_metaphone\", \"sql_condition\": \"\\\"last_name_metaphone_l\\\" = \\\"last_name_metaphone_r\\\"\", \"label_for_charts\": \"Exact match on last_name_metaphone\", \"m_probability\": 0.9999578327440823, \"u_probability\": 0.010005386804946823, \"m_probability_description\": \"Amongst matching record comparisons, 100% of records (i.e. one in 1) are in the exact match on last_name_metaphone comparison level\", \"u_probability_description\": \"Amongst non-matching record comparisons, 1.001% of records (i.e. one in 99.95) are in the exact match on last_name_metaphone comparison level\", \"has_tf_adjustments\": false, \"tf_adjustment_column\": null, \"tf_adjustment_weight\": 1.0, \"is_null_level\": false, \"bayes_factor\": 99.9419464972296, \"log2_bayes_factor\": 6.64301841156586, \"comparison_vector_value\": 1, \"max_comparison_vector_value\": 1, \"bayes_factor_description\": \"If comparison level is `exact match on last_name_metaphone` then comparison is 99.94 times more likely to be a match\", \"probability_two_random_records_match\": 0.00041667916729169795, \"comparison_sort_order\": 3}, {\"comparison_name\": \"last_name_metaphone\", \"sql_condition\": \"ELSE\", \"label_for_charts\": \"All other comparisons\", \"m_probability\": 0.47266849469901717, \"u_probability\": 0.9899946131950532, \"m_probability_description\": \"Amongst matching record comparisons, 47.27% of records (i.e. one in 2.116) are in the all other comparisons comparison level\", \"u_probability_description\": \"Amongst non-matching record comparisons, 99% of records (i.e. one in 1.01) are in the all other comparisons comparison level\", \"has_tf_adjustments\": false, \"tf_adjustment_column\": null, \"tf_adjustment_weight\": 1.0, \"is_null_level\": false, \"bayes_factor\": 0.4774455218231474, \"log2_bayes_factor\": -1.0665919688162826, \"comparison_vector_value\": 0, \"max_comparison_vector_value\": 1, \"bayes_factor_description\": \"If comparison level is `all other comparisons` then comparison is 2.094 times less likely to be a match\", \"probability_two_random_records_match\": 0.00041667916729169795, \"comparison_sort_order\": 3}, {\"comparison_name\": \"email\", \"sql_condition\": \"\\\"email_l\\\" = \\\"email_r\\\"\", \"label_for_charts\": \"Exact match on email\", \"m_probability\": 2.532048277539214e-05, \"u_probability\": 0.000927734375, \"m_probability_description\": \"Amongst matching record comparisons, 0.002532% of records (i.e. one in 39,494) are in the exact match on email comparison level\", \"u_probability_description\": \"Amongst non-matching record comparisons, 0.09277% of records (i.e. one in 1,078) are in the exact match on email comparison level\", \"has_tf_adjustments\": true, \"tf_adjustment_column\": \"email\", \"tf_adjustment_weight\": 1.0, \"is_null_level\": false, \"bayes_factor\": 0.02729281511789637, \"log2_bayes_factor\": -5.195334980682383, \"comparison_vector_value\": 4, \"max_comparison_vector_value\": 4, \"bayes_factor_description\": \"If comparison level is `exact match on email` then comparison is 36.64 times less likely to be a match\", \"probability_two_random_records_match\": 0.00041667916729169795, \"comparison_sort_order\": 4}, {\"comparison_name\": \"email\", \"sql_condition\": \"NULLIF(regexp_extract(\\\"email_l\\\", '^[^@]+', 0), '') = NULLIF(regexp_extract(\\\"email_r\\\", '^[^@]+', 0), '')\", \"label_for_charts\": \"Exact match on username\", \"m_probability\": 4.593160740614346e-05, \"u_probability\": 0.0015625000000000014, \"m_probability_description\": \"Amongst matching record comparisons, 0.004593% of records (i.e. one in 21,772) are in the exact match on username comparison level\", \"u_probability_description\": \"Amongst non-matching record comparisons, 0.1563% of records (i.e. one in 640) are in the exact match on username comparison level\", \"has_tf_adjustments\": false, \"tf_adjustment_column\": null, \"tf_adjustment_weight\": 1.0, \"is_null_level\": false, \"bayes_factor\": 0.02939622873993179, \"log2_bayes_factor\": -5.0882251070662745, \"comparison_vector_value\": 3, \"max_comparison_vector_value\": 4, \"bayes_factor_description\": \"If comparison level is `exact match on username` then comparison is 34.02 times less likely to be a match\", \"probability_two_random_records_match\": 0.00041667916729169795, \"comparison_sort_order\": 4}, {\"comparison_name\": \"email\", \"sql_condition\": \"jaro_winkler_similarity(\\\"email_l\\\", \\\"email_r\\\") >= 0.88\", \"label_for_charts\": \"Jaro-Winkler distance of email >= 0.88\", \"m_probability\": 0.018979687913806848, \"u_probability\": 0.00046473388721396397, \"m_probability_description\": \"Amongst matching record comparisons, 1.898% of records (i.e. one in 52.69) are in the jaro-winkler distance of email >= 0.88 comparison level\", \"u_probability_description\": \"Amongst non-matching record comparisons, 0.04647% of records (i.e. one in 2,152) are in the jaro-winkler distance of email >= 0.88 comparison level\", \"has_tf_adjustments\": false, \"tf_adjustment_column\": null, \"tf_adjustment_weight\": 1.0, \"is_null_level\": false, \"bayes_factor\": 40.839905236065945, \"log2_bayes_factor\": 5.351907613512079, \"comparison_vector_value\": 2, \"max_comparison_vector_value\": 4, \"bayes_factor_description\": \"If comparison level is `jaro-winkler distance of email >= 0.88` then comparison is 40.84 times more likely to be a match\", \"probability_two_random_records_match\": 0.00041667916729169795, \"comparison_sort_order\": 4}, {\"comparison_name\": \"email\", \"sql_condition\": \"jaro_winkler_similarity(NULLIF(regexp_extract(\\\"email_l\\\", '^[^@]+', 0), ''), NULLIF(regexp_extract(\\\"email_r\\\", '^[^@]+', 0), '')) >= 0.88\", \"label_for_charts\": \"Jaro-Winkler >0.88 on username\", \"m_probability\": 0.016495269229152256, \"u_probability\": 0.00019462336271170426, \"m_probability_description\": \"Amongst matching record comparisons, 1.65% of records (i.e. one in 60.62) are in the jaro-winkler >0.88 on username comparison level\", \"u_probability_description\": \"Amongst non-matching record comparisons, 0.01946% of records (i.e. one in 5,138) are in the jaro-winkler >0.88 on username comparison level\", \"has_tf_adjustments\": false, \"tf_adjustment_column\": null, \"tf_adjustment_weight\": 1.0, \"is_null_level\": false, \"bayes_factor\": 84.75482593313687, \"log2_bayes_factor\": 6.405223612417555, \"comparison_vector_value\": 1, \"max_comparison_vector_value\": 4, \"bayes_factor_description\": \"If comparison level is `jaro-winkler >0.88 on username` then comparison is 84.75 times more likely to be a match\", \"probability_two_random_records_match\": 0.00041667916729169795, \"comparison_sort_order\": 4}, {\"comparison_name\": \"email\", \"sql_condition\": \"ELSE\", \"label_for_charts\": \"All other comparisons\", \"m_probability\": 0.9645203334993188, \"u_probability\": 0.9993406427500743, \"m_probability_description\": \"Amongst matching record comparisons, 96.45% of records (i.e. one in 1.037) are in the all other comparisons comparison level\", \"u_probability_description\": \"Amongst non-matching record comparisons, 99.93% of records (i.e. one in 1.001) are in the all other comparisons comparison level\", \"has_tf_adjustments\": false, \"tf_adjustment_column\": null, \"tf_adjustment_weight\": 1.0, \"is_null_level\": false, \"bayes_factor\": 0.9651567165777087, \"log2_bayes_factor\": -0.05116487699104448, \"comparison_vector_value\": 0, \"max_comparison_vector_value\": 4, \"bayes_factor_description\": \"If comparison level is `all other comparisons` then comparison is 1.036 times less likely to be a match\", \"probability_two_random_records_match\": 0.00041667916729169795, \"comparison_sort_order\": 4}, {\"comparison_name\": \"phone\", \"sql_condition\": \"\\\"phone_l\\\" = \\\"phone_r\\\"\", \"label_for_charts\": \"Exact match on phone\", \"m_probability\": 1.483597162663624e-39, \"u_probability\": 1.0270362148374896e-06, \"m_probability_description\": \"Amongst matching record comparisons, 1.484e-37% of records (i.e. one in 674,037,417,410,948,507,304,827,860,930,508,357,632) are in the exact match on phone comparison level\", \"u_probability_description\": \"Amongst non-matching record comparisons, 0.0001027% of records (i.e. one in 973,675) are in the exact match on phone comparison level\", \"has_tf_adjustments\": false, \"tf_adjustment_column\": null, \"tf_adjustment_weight\": 1.0, \"is_null_level\": false, \"bayes_factor\": 1.4445422091550853e-33, \"log2_bayes_factor\": -109.09301477158324, \"comparison_vector_value\": 3, \"max_comparison_vector_value\": 3, \"bayes_factor_description\": \"If comparison level is `exact match on phone` then comparison is 692,260,837,836,577,499,718,039,094,951,936 times less likely to be a match\", \"probability_two_random_records_match\": 0.00041667916729169795, \"comparison_sort_order\": 5}, {\"comparison_name\": \"phone\", \"sql_condition\": \"levenshtein(\\\"phone_l\\\", \\\"phone_r\\\") <= 0.7\", \"label_for_charts\": \"Levenshtein distance of phone <= 0.7\", \"m_probability\": 0.01666666666666668, \"u_probability\": 0.002083333333333335, \"m_probability_description\": \"Amongst matching record comparisons, 1.667% of records (i.e. one in 60) are in the levenshtein distance of phone <= 0.7 comparison level\", \"u_probability_description\": \"Amongst non-matching record comparisons, 0.2083% of records (i.e. one in 480) are in the levenshtein distance of phone <= 0.7 comparison level\", \"has_tf_adjustments\": false, \"tf_adjustment_column\": null, \"tf_adjustment_weight\": 1.0, \"is_null_level\": false, \"bayes_factor\": 8.0, \"log2_bayes_factor\": 3.0, \"comparison_vector_value\": 2, \"max_comparison_vector_value\": 3, \"bayes_factor_description\": \"If comparison level is `levenshtein distance of phone <= 0.7` then comparison is 8 times more likely to be a match\", \"probability_two_random_records_match\": 0.00041667916729169795, \"comparison_sort_order\": 5}, {\"comparison_name\": \"phone\", \"sql_condition\": \"levenshtein(\\\"phone_l\\\", \\\"phone_r\\\") <= 0.9\", \"label_for_charts\": \"Levenshtein distance of phone <= 0.9\", \"m_probability\": 0.01666666666666668, \"u_probability\": 0.03333333333333336, \"m_probability_description\": \"Amongst matching record comparisons, 1.667% of records (i.e. one in 60) are in the levenshtein distance of phone <= 0.9 comparison level\", \"u_probability_description\": \"Amongst non-matching record comparisons, 3.333% of records (i.e. one in 30) are in the levenshtein distance of phone <= 0.9 comparison level\", \"has_tf_adjustments\": false, \"tf_adjustment_column\": null, \"tf_adjustment_weight\": 1.0, \"is_null_level\": false, \"bayes_factor\": 0.5, \"log2_bayes_factor\": -1.0, \"comparison_vector_value\": 1, \"max_comparison_vector_value\": 3, \"bayes_factor_description\": \"If comparison level is `levenshtein distance of phone <= 0.9` then comparison is 2 times less likely to be a match\", \"probability_two_random_records_match\": 0.00041667916729169795, \"comparison_sort_order\": 5}, {\"comparison_name\": \"phone\", \"sql_condition\": \"ELSE\", \"label_for_charts\": \"All other comparisons\", \"m_probability\": 1.0, \"u_probability\": 0.9999989729637851, \"m_probability_description\": \"Amongst matching record comparisons, 100% of records (i.e. one in 1) are in the all other comparisons comparison level\", \"u_probability_description\": \"Amongst non-matching record comparisons, 100% of records (i.e. one in 1) are in the all other comparisons comparison level\", \"has_tf_adjustments\": false, \"tf_adjustment_column\": null, \"tf_adjustment_weight\": 1.0, \"is_null_level\": false, \"bayes_factor\": 1.0000010270372697, \"log2_bayes_factor\": 1.4817008148861514e-06, \"comparison_vector_value\": 0, \"max_comparison_vector_value\": 3, \"bayes_factor_description\": \"If comparison level is `all other comparisons` then comparison is 1 times more likely to be a match\", \"probability_two_random_records_match\": 0.00041667916729169795, \"comparison_sort_order\": 5}, {\"comparison_name\": \"street\", \"sql_condition\": \"\\\"street_l\\\" = \\\"street_r\\\"\", \"label_for_charts\": \"Exact match on street\", \"m_probability\": 0.02055439451101145, \"u_probability\": 0.0017849889413875568, \"m_probability_description\": \"Amongst matching record comparisons, 2.055% of records (i.e. one in 48.65) are in the exact match on street comparison level\", \"u_probability_description\": \"Amongst non-matching record comparisons, 0.1785% of records (i.e. one in 560) are in the exact match on street comparison level\", \"has_tf_adjustments\": false, \"tf_adjustment_column\": null, \"tf_adjustment_weight\": 1.0, \"is_null_level\": false, \"bayes_factor\": 11.51513829269639, \"log2_bayes_factor\": 3.5254598323741106, \"comparison_vector_value\": 4, \"max_comparison_vector_value\": 4, \"bayes_factor_description\": \"If comparison level is `exact match on street` then comparison is 11.52 times more likely to be a match\", \"probability_two_random_records_match\": 0.00041667916729169795, \"comparison_sort_order\": 6}, {\"comparison_name\": \"street\", \"sql_condition\": \"levenshtein(\\\"street_l\\\", \\\"street_r\\\") <= 0.4\", \"label_for_charts\": \"Levenshtein distance of street <= 0.4\", \"m_probability\": 0.012500000000000011, \"u_probability\": 0.0015625000000000014, \"m_probability_description\": \"Amongst matching record comparisons, 1.25% of records (i.e. one in 80) are in the levenshtein distance of street <= 0.4 comparison level\", \"u_probability_description\": \"Amongst non-matching record comparisons, 0.1563% of records (i.e. one in 640) are in the levenshtein distance of street <= 0.4 comparison level\", \"has_tf_adjustments\": false, \"tf_adjustment_column\": null, \"tf_adjustment_weight\": 1.0, \"is_null_level\": false, \"bayes_factor\": 8.0, \"log2_bayes_factor\": 3.0, \"comparison_vector_value\": 3, \"max_comparison_vector_value\": 4, \"bayes_factor_description\": \"If comparison level is `levenshtein distance of street <= 0.4` then comparison is 8 times more likely to be a match\", \"probability_two_random_records_match\": 0.00041667916729169795, \"comparison_sort_order\": 6}, {\"comparison_name\": \"street\", \"sql_condition\": \"levenshtein(\\\"street_l\\\", \\\"street_r\\\") <= 0.7\", \"label_for_charts\": \"Levenshtein distance of street <= 0.7\", \"m_probability\": 0.012500000000000011, \"u_probability\": 0.009921256574801257, \"m_probability_description\": \"Amongst matching record comparisons, 1.25% of records (i.e. one in 80) are in the levenshtein distance of street <= 0.7 comparison level\", \"u_probability_description\": \"Amongst non-matching record comparisons, 0.9921% of records (i.e. one in 101) are in the levenshtein distance of street <= 0.7 comparison level\", \"has_tf_adjustments\": false, \"tf_adjustment_column\": null, \"tf_adjustment_weight\": 1.0, \"is_null_level\": false, \"bayes_factor\": 1.259921049894873, \"log2_bayes_factor\": 0.3333333333333331, \"comparison_vector_value\": 2, \"max_comparison_vector_value\": 4, \"bayes_factor_description\": \"If comparison level is `levenshtein distance of street <= 0.7` then comparison is 1.26 times more likely to be a match\", \"probability_two_random_records_match\": 0.00041667916729169795, \"comparison_sort_order\": 6}, {\"comparison_name\": \"street\", \"sql_condition\": \"levenshtein(\\\"street_l\\\", \\\"street_r\\\") <= 0.85\", \"label_for_charts\": \"Levenshtein distance of street <= 0.85\", \"m_probability\": 0.012500000000000011, \"u_probability\": 0.06299605249474372, \"m_probability_description\": \"Amongst matching record comparisons, 1.25% of records (i.e. one in 80) are in the levenshtein distance of street <= 0.85 comparison level\", \"u_probability_description\": \"Amongst non-matching record comparisons, 6.3% of records (i.e. one in 15.87) are in the levenshtein distance of street <= 0.85 comparison level\", \"has_tf_adjustments\": false, \"tf_adjustment_column\": null, \"tf_adjustment_weight\": 1.0, \"is_null_level\": false, \"bayes_factor\": 0.19842513149602492, \"log2_bayes_factor\": -2.3333333333333335, \"comparison_vector_value\": 1, \"max_comparison_vector_value\": 4, \"bayes_factor_description\": \"If comparison level is `levenshtein distance of street <= 0.85` then comparison is 5.04 times less likely to be a match\", \"probability_two_random_records_match\": 0.00041667916729169795, \"comparison_sort_order\": 6}, {\"comparison_name\": \"street\", \"sql_condition\": \"ELSE\", \"label_for_charts\": \"All other comparisons\", \"m_probability\": 0.9794456054889885, \"u_probability\": 0.9982150110586124, \"m_probability_description\": \"Amongst matching record comparisons, 97.94% of records (i.e. one in 1.021) are in the all other comparisons comparison level\", \"u_probability_description\": \"Amongst non-matching record comparisons, 99.82% of records (i.e. one in 1.002) are in the all other comparisons comparison level\", \"has_tf_adjustments\": false, \"tf_adjustment_column\": null, \"tf_adjustment_weight\": 1.0, \"is_null_level\": false, \"bayes_factor\": 0.9811970313392514, \"log2_bayes_factor\": -0.027385225931328753, \"comparison_vector_value\": 0, \"max_comparison_vector_value\": 4, \"bayes_factor_description\": \"If comparison level is `all other comparisons` then comparison is 1.019 times less likely to be a match\", \"probability_two_random_records_match\": 0.00041667916729169795, \"comparison_sort_order\": 6}, {\"comparison_name\": \"city\", \"sql_condition\": \"\\\"city_l\\\" = \\\"city_r\\\"\", \"label_for_charts\": \"Exact match on city\", \"m_probability\": 0.15347555305881697, \"u_probability\": 0.01326674030516327, \"m_probability_description\": \"Amongst matching record comparisons, 15.35% of records (i.e. one in 6.516) are in the exact match on city comparison level\", \"u_probability_description\": \"Amongst non-matching record comparisons, 1.327% of records (i.e. one in 75.38) are in the exact match on city comparison level\", \"has_tf_adjustments\": false, \"tf_adjustment_column\": null, \"tf_adjustment_weight\": 1.0, \"is_null_level\": false, \"bayes_factor\": 11.568444812256253, \"log2_bayes_factor\": 3.5321230256723886, \"comparison_vector_value\": 4, \"max_comparison_vector_value\": 4, \"bayes_factor_description\": \"If comparison level is `exact match on city` then comparison is 11.57 times more likely to be a match\", \"probability_two_random_records_match\": 0.00041667916729169795, \"comparison_sort_order\": 7}, {\"comparison_name\": \"city\", \"sql_condition\": \"jaro_winkler_similarity(\\\"city_l\\\", \\\"city_r\\\") >= 0.4\", \"label_for_charts\": \"Jaro-Winkler distance of city >= 0.4\", \"m_probability\": 0.6752020913162762, \"u_probability\": 0.7728144540968731, \"m_probability_description\": \"Amongst matching record comparisons, 67.52% of records (i.e. one in 1.481) are in the jaro-winkler distance of city >= 0.4 comparison level\", \"u_probability_description\": \"Amongst non-matching record comparisons, 77.28% of records (i.e. one in 1.294) are in the jaro-winkler distance of city >= 0.4 comparison level\", \"has_tf_adjustments\": false, \"tf_adjustment_column\": null, \"tf_adjustment_weight\": 1.0, \"is_null_level\": false, \"bayes_factor\": 0.8736923691539016, \"log2_bayes_factor\": -0.19480270488911758, \"comparison_vector_value\": 3, \"max_comparison_vector_value\": 4, \"bayes_factor_description\": \"If comparison level is `jaro-winkler distance of city >= 0.4` then comparison is 1.145 times less likely to be a match\", \"probability_two_random_records_match\": 0.00041667916729169795, \"comparison_sort_order\": 7}, {\"comparison_name\": \"city\", \"sql_condition\": \"jaro_winkler_similarity(\\\"city_l\\\", \\\"city_r\\\") >= 0.7\", \"label_for_charts\": \"Jaro-Winkler distance of city >= 0.7\", \"m_probability\": 0.012500000000000011, \"u_probability\": 0.009921256574801257, \"m_probability_description\": \"Amongst matching record comparisons, 1.25% of records (i.e. one in 80) are in the jaro-winkler distance of city >= 0.7 comparison level\", \"u_probability_description\": \"Amongst non-matching record comparisons, 0.9921% of records (i.e. one in 101) are in the jaro-winkler distance of city >= 0.7 comparison level\", \"has_tf_adjustments\": false, \"tf_adjustment_column\": null, \"tf_adjustment_weight\": 1.0, \"is_null_level\": false, \"bayes_factor\": 1.259921049894873, \"log2_bayes_factor\": 0.3333333333333331, \"comparison_vector_value\": 2, \"max_comparison_vector_value\": 4, \"bayes_factor_description\": \"If comparison level is `jaro-winkler distance of city >= 0.7` then comparison is 1.26 times more likely to be a match\", \"probability_two_random_records_match\": 0.00041667916729169795, \"comparison_sort_order\": 7}, {\"comparison_name\": \"city\", \"sql_condition\": \"jaro_winkler_similarity(\\\"city_l\\\", \\\"city_r\\\") >= 0.85\", \"label_for_charts\": \"Jaro-Winkler distance of city >= 0.85\", \"m_probability\": 0.012500000000000011, \"u_probability\": 0.06299605249474372, \"m_probability_description\": \"Amongst matching record comparisons, 1.25% of records (i.e. one in 80) are in the jaro-winkler distance of city >= 0.85 comparison level\", \"u_probability_description\": \"Amongst non-matching record comparisons, 6.3% of records (i.e. one in 15.87) are in the jaro-winkler distance of city >= 0.85 comparison level\", \"has_tf_adjustments\": false, \"tf_adjustment_column\": null, \"tf_adjustment_weight\": 1.0, \"is_null_level\": false, \"bayes_factor\": 0.19842513149602492, \"log2_bayes_factor\": -2.3333333333333335, \"comparison_vector_value\": 1, \"max_comparison_vector_value\": 4, \"bayes_factor_description\": \"If comparison level is `jaro-winkler distance of city >= 0.85` then comparison is 5.04 times less likely to be a match\", \"probability_two_random_records_match\": 0.00041667916729169795, \"comparison_sort_order\": 7}, {\"comparison_name\": \"city\", \"sql_condition\": \"ELSE\", \"label_for_charts\": \"All other comparisons\", \"m_probability\": 0.17132235562490686, \"u_probability\": 0.21391880559796358, \"m_probability_description\": \"Amongst matching record comparisons, 17.13% of records (i.e. one in 5.837) are in the all other comparisons comparison level\", \"u_probability_description\": \"Amongst non-matching record comparisons, 21.39% of records (i.e. one in 4.675) are in the all other comparisons comparison level\", \"has_tf_adjustments\": false, \"tf_adjustment_column\": null, \"tf_adjustment_weight\": 1.0, \"is_null_level\": false, \"bayes_factor\": 0.8008756179523927, \"log2_bayes_factor\": -0.32034989631973043, \"comparison_vector_value\": 0, \"max_comparison_vector_value\": 4, \"bayes_factor_description\": \"If comparison level is `all other comparisons` then comparison is 1.249 times less likely to be a match\", \"probability_two_random_records_match\": 0.00041667916729169795, \"comparison_sort_order\": 7}, {\"comparison_name\": \"state\", \"sql_condition\": \"\\\"state_l\\\" = \\\"state_r\\\"\", \"label_for_charts\": \"Exact match on state\", \"m_probability\": 1.0, \"u_probability\": 1.0, \"m_probability_description\": \"Amongst matching record comparisons, 100% of records (i.e. one in 1) are in the exact match on state comparison level\", \"u_probability_description\": \"Amongst non-matching record comparisons, 100% of records (i.e. one in 1) are in the exact match on state comparison level\", \"has_tf_adjustments\": false, \"tf_adjustment_column\": null, \"tf_adjustment_weight\": 1.0, \"is_null_level\": false, \"bayes_factor\": 1.0, \"log2_bayes_factor\": 0.0, \"comparison_vector_value\": 1, \"max_comparison_vector_value\": 1, \"bayes_factor_description\": \"If comparison level is `exact match on state` then comparison is 1 times more likely to be a match\", \"probability_two_random_records_match\": 0.00041667916729169795, \"comparison_sort_order\": 8}, {\"comparison_name\": \"state\", \"sql_condition\": \"ELSE\", \"label_for_charts\": \"All other comparisons\", \"m_probability\": 0.050000000000000044, \"u_probability\": 1.6000000000000014, \"m_probability_description\": \"Amongst matching record comparisons, 5% of records (i.e. one in 20) are in the all other comparisons comparison level\", \"u_probability_description\": \"Amongst non-matching record comparisons, 160% of records (i.e. one in 0.625) are in the all other comparisons comparison level\", \"has_tf_adjustments\": false, \"tf_adjustment_column\": null, \"tf_adjustment_weight\": 1.0, \"is_null_level\": false, \"bayes_factor\": 0.03125, \"log2_bayes_factor\": -5.0, \"comparison_vector_value\": 0, \"max_comparison_vector_value\": 1, \"bayes_factor_description\": \"If comparison level is `all other comparisons` then comparison is 32 times less likely to be a match\", \"probability_two_random_records_match\": 0.00041667916729169795, \"comparison_sort_order\": 8}, {\"comparison_name\": \"zip\", \"sql_condition\": \"\\\"zip_l\\\" = \\\"zip_r\\\"\", \"label_for_charts\": \"Exact match on full postcode\", \"m_probability\": 0.18826533481773794, \"u_probability\": 0.05336736931349305, \"m_probability_description\": \"Amongst matching record comparisons, 18.83% of records (i.e. one in 5.312) are in the exact match on full postcode comparison level\", \"u_probability_description\": \"Amongst non-matching record comparisons, 5.337% of records (i.e. one in 18.74) are in the exact match on full postcode comparison level\", \"has_tf_adjustments\": false, \"tf_adjustment_column\": null, \"tf_adjustment_weight\": 1.0, \"is_null_level\": false, \"bayes_factor\": 3.527723724057318, \"log2_bayes_factor\": 1.8187375797334109, \"comparison_vector_value\": 4, \"max_comparison_vector_value\": 4, \"bayes_factor_description\": \"If comparison level is `exact match on full postcode` then comparison is 3.528 times more likely to be a match\", \"probability_two_random_records_match\": 0.00041667916729169795, \"comparison_sort_order\": 9}, {\"comparison_name\": \"zip\", \"sql_condition\": \"NULLIF(regexp_extract(\\\"zip_l\\\", '^[A-Za-z]{1,2}[0-9][A-Za-z0-9]? [0-9]', 0), '') = NULLIF(regexp_extract(\\\"zip_r\\\", '^[A-Za-z]{1,2}[0-9][A-Za-z0-9]? [0-9]', 0), '')\", \"label_for_charts\": \"Exact match on sector\", \"m_probability\": 0.012500000000000011, \"u_probability\": 0.0015625000000000014, \"m_probability_description\": \"Amongst matching record comparisons, 1.25% of records (i.e. one in 80) are in the exact match on sector comparison level\", \"u_probability_description\": \"Amongst non-matching record comparisons, 0.1563% of records (i.e. one in 640) are in the exact match on sector comparison level\", \"has_tf_adjustments\": false, \"tf_adjustment_column\": null, \"tf_adjustment_weight\": 1.0, \"is_null_level\": false, \"bayes_factor\": 8.0, \"log2_bayes_factor\": 3.0, \"comparison_vector_value\": 3, \"max_comparison_vector_value\": 4, \"bayes_factor_description\": \"If comparison level is `exact match on sector` then comparison is 8 times more likely to be a match\", \"probability_two_random_records_match\": 0.00041667916729169795, \"comparison_sort_order\": 9}, {\"comparison_name\": \"zip\", \"sql_condition\": \"NULLIF(regexp_extract(\\\"zip_l\\\", '^[A-Za-z]{1,2}[0-9][A-Za-z0-9]?', 0), '') = NULLIF(regexp_extract(\\\"zip_r\\\", '^[A-Za-z]{1,2}[0-9][A-Za-z0-9]?', 0), '')\", \"label_for_charts\": \"Exact match on district\", \"m_probability\": 0.026666994465643204, \"u_probability\": 0.0004154361489017645, \"m_probability_description\": \"Amongst matching record comparisons, 2.667% of records (i.e. one in 37.5) are in the exact match on district comparison level\", \"u_probability_description\": \"Amongst non-matching record comparisons, 0.04154% of records (i.e. one in 2,407) are in the exact match on district comparison level\", \"has_tf_adjustments\": false, \"tf_adjustment_column\": null, \"tf_adjustment_weight\": 1.0, \"is_null_level\": false, \"bayes_factor\": 64.19035641491318, \"log2_bayes_factor\": 6.00428466641852, \"comparison_vector_value\": 2, \"max_comparison_vector_value\": 4, \"bayes_factor_description\": \"If comparison level is `exact match on district` then comparison is 64.19 times more likely to be a match\", \"probability_two_random_records_match\": 0.00041667916729169795, \"comparison_sort_order\": 9}, {\"comparison_name\": \"zip\", \"sql_condition\": \"NULLIF(regexp_extract(\\\"zip_l\\\", '^[A-Za-z]{1,2}', 0), '') = NULLIF(regexp_extract(\\\"zip_r\\\", '^[A-Za-z]{1,2}', 0), '')\", \"label_for_charts\": \"Exact match on area\", \"m_probability\": 0.0995044031892967, \"u_probability\": 0.007051630651074203, \"m_probability_description\": \"Amongst matching record comparisons, 9.95% of records (i.e. one in 10.05) are in the exact match on area comparison level\", \"u_probability_description\": \"Amongst non-matching record comparisons, 0.7052% of records (i.e. one in 142) are in the exact match on area comparison level\", \"has_tf_adjustments\": false, \"tf_adjustment_column\": null, \"tf_adjustment_weight\": 1.0, \"is_null_level\": false, \"bayes_factor\": 14.110835934683957, \"log2_bayes_factor\": 3.818731551504346, \"comparison_vector_value\": 1, \"max_comparison_vector_value\": 4, \"bayes_factor_description\": \"If comparison level is `exact match on area` then comparison is 14.11 times more likely to be a match\", \"probability_two_random_records_match\": 0.00041667916729169795, \"comparison_sort_order\": 9}, {\"comparison_name\": \"zip\", \"sql_condition\": \"ELSE\", \"label_for_charts\": \"All other comparisons\", \"m_probability\": 0.6855632675273222, \"u_probability\": 0.9391655638865309, \"m_probability_description\": \"Amongst matching record comparisons, 68.56% of records (i.e. one in 1.459) are in the all other comparisons comparison level\", \"u_probability_description\": \"Amongst non-matching record comparisons, 93.92% of records (i.e. one in 1.065) are in the all other comparisons comparison level\", \"has_tf_adjustments\": false, \"tf_adjustment_column\": null, \"tf_adjustment_weight\": 1.0, \"is_null_level\": false, \"bayes_factor\": 0.7299706184820798, \"log2_bayes_factor\": -0.4540896985978056, \"comparison_vector_value\": 0, \"max_comparison_vector_value\": 4, \"bayes_factor_description\": \"If comparison level is `all other comparisons` then comparison is 1.37 times less likely to be a match\", \"probability_two_random_records_match\": 0.00041667916729169795, \"comparison_sort_order\": 9}]}}, {\"mode\": \"vega-lite\"});\n",
       "</script>"
      ],
      "text/plain": [
       "alt.VConcatChart(...)"
      ]
     },
     "metadata": {},
     "output_type": "display_data"
    },
    {
     "data": {
      "text/html": [
       "\n",
       "<style>\n",
       "  #altair-viz-ef8a63e656c24197be8415a43b4b3767.vega-embed {\n",
       "    width: 100%;\n",
       "    display: flex;\n",
       "  }\n",
       "\n",
       "  #altair-viz-ef8a63e656c24197be8415a43b4b3767.vega-embed details,\n",
       "  #altair-viz-ef8a63e656c24197be8415a43b4b3767.vega-embed details summary {\n",
       "    position: relative;\n",
       "  }\n",
       "</style>\n",
       "<div id=\"altair-viz-ef8a63e656c24197be8415a43b4b3767\"></div>\n",
       "<script type=\"text/javascript\">\n",
       "  var VEGA_DEBUG = (typeof VEGA_DEBUG == \"undefined\") ? {} : VEGA_DEBUG;\n",
       "  (function(spec, embedOpt){\n",
       "    let outputDiv = document.currentScript.previousElementSibling;\n",
       "    if (outputDiv.id !== \"altair-viz-ef8a63e656c24197be8415a43b4b3767\") {\n",
       "      outputDiv = document.getElementById(\"altair-viz-ef8a63e656c24197be8415a43b4b3767\");\n",
       "    }\n",
       "\n",
       "    const paths = {\n",
       "      \"vega\": \"https://cdn.jsdelivr.net/npm/vega@5?noext\",\n",
       "      \"vega-lib\": \"https://cdn.jsdelivr.net/npm/vega-lib?noext\",\n",
       "      \"vega-lite\": \"https://cdn.jsdelivr.net/npm/vega-lite@5.20.1?noext\",\n",
       "      \"vega-embed\": \"https://cdn.jsdelivr.net/npm/vega-embed@6?noext\",\n",
       "    };\n",
       "\n",
       "    function maybeLoadScript(lib, version) {\n",
       "      var key = `${lib.replace(\"-\", \"\")}_version`;\n",
       "      return (VEGA_DEBUG[key] == version) ?\n",
       "        Promise.resolve(paths[lib]) :\n",
       "        new Promise(function(resolve, reject) {\n",
       "          var s = document.createElement('script');\n",
       "          document.getElementsByTagName(\"head\")[0].appendChild(s);\n",
       "          s.async = true;\n",
       "          s.onload = () => {\n",
       "            VEGA_DEBUG[key] = version;\n",
       "            return resolve(paths[lib]);\n",
       "          };\n",
       "          s.onerror = () => reject(`Error loading script: ${paths[lib]}`);\n",
       "          s.src = paths[lib];\n",
       "        });\n",
       "    }\n",
       "\n",
       "    function showError(err) {\n",
       "      outputDiv.innerHTML = `<div class=\"error\" style=\"color:red;\">${err}</div>`;\n",
       "      throw err;\n",
       "    }\n",
       "\n",
       "    function displayChart(vegaEmbed) {\n",
       "      vegaEmbed(outputDiv, spec, embedOpt)\n",
       "        .catch(err => showError(`Javascript Error: ${err.message}<br>This usually means there's a typo in your chart specification. See the javascript console for the full traceback.`));\n",
       "    }\n",
       "\n",
       "    if(typeof define === \"function\" && define.amd) {\n",
       "      requirejs.config({paths});\n",
       "      let deps = [\"vega-embed\"];\n",
       "      require(deps, displayChart, err => showError(`Error loading script: ${err.message}`));\n",
       "    } else {\n",
       "      maybeLoadScript(\"vega\", \"5\")\n",
       "        .then(() => maybeLoadScript(\"vega-lite\", \"5.20.1\"))\n",
       "        .then(() => maybeLoadScript(\"vega-embed\", \"6\"))\n",
       "        .catch(showError)\n",
       "        .then(() => displayChart(vegaEmbed));\n",
       "    }\n",
       "  })({\"config\": {\"view\": {\"continuousWidth\": 300, \"continuousHeight\": 300, \"discreteHeight\": 300, \"discreteWidth\": 400}, \"header\": {\"title\": null}, \"title\": {\"anchor\": \"middle\", \"offset\": 10}}, \"hconcat\": [{\"mark\": \"bar\", \"encoding\": {\"color\": {\"value\": \"green\"}, \"row\": {\"field\": \"comparison_name\", \"header\": {\"labelAlign\": \"left\", \"labelAnchor\": \"middle\", \"labelAngle\": 0}, \"sort\": {\"field\": \"comparison_sort_order\"}, \"type\": \"nominal\"}, \"tooltip\": [{\"field\": \"comparison_name\", \"title\": \"Comparison name\", \"type\": \"nominal\"}, {\"field\": \"label_for_charts\", \"title\": \"Label\", \"type\": \"ordinal\"}, {\"field\": \"sql_condition\", \"title\": \"SQL condition\", \"type\": \"nominal\"}, {\"field\": \"m_probability\", \"format\": \".10~g\", \"title\": \"M probability\", \"type\": \"quantitative\"}, {\"field\": \"u_probability\", \"format\": \".10~g\", \"title\": \"U probability\", \"type\": \"quantitative\"}, {\"field\": \"bayes_factor\", \"format\": \",.6f\", \"title\": \"Bayes factor = m/u\", \"type\": \"quantitative\"}, {\"field\": \"log2_bayes_factor\", \"format\": \".4~g\", \"title\": \"Match weight = log2(m/u)\", \"type\": \"quantitative\"}, {\"field\": \"bayes_factor_description\", \"title\": \"Match weight description\", \"type\": \"nominal\"}, {\"field\": \"m_probability_description\", \"title\": \"m probability description\", \"type\": \"nominal\"}, {\"field\": \"u_probability_description\", \"title\": \"u probability description\", \"type\": \"nominal\"}], \"x\": {\"axis\": {\"title\": \"Proportion of record comparisons\"}, \"field\": \"m_probability\", \"type\": \"quantitative\"}, \"y\": {\"axis\": {\"title\": null}, \"field\": \"label_for_charts\", \"sort\": {\"field\": \"comparison_vector_value\", \"order\": \"descending\"}, \"type\": \"nominal\"}}, \"height\": {\"step\": 12}, \"resolve\": {\"scale\": {\"y\": \"independent\"}}, \"title\": {\"text\": \"Amongst matching record comparisons:\", \"fontSize\": 12, \"fontWeight\": \"bold\"}, \"transform\": [{\"filter\": \"(datum.bayes_factor != 'no-op filter due to vega lite issue 4680')\"}], \"width\": 150}, {\"mark\": \"bar\", \"encoding\": {\"color\": {\"value\": \"red\"}, \"row\": {\"field\": \"comparison_name\", \"header\": {\"labels\": false}, \"sort\": {\"field\": \"comparison_sort_order\"}, \"type\": \"nominal\"}, \"tooltip\": [{\"field\": \"comparison_name\", \"title\": \"Comparison name\", \"type\": \"nominal\"}, {\"field\": \"label_for_charts\", \"title\": \"Label\", \"type\": \"ordinal\"}, {\"field\": \"sql_condition\", \"title\": \"SQL condition\", \"type\": \"nominal\"}, {\"field\": \"m_probability\", \"format\": \".10~g\", \"title\": \"M probability\", \"type\": \"quantitative\"}, {\"field\": \"u_probability\", \"format\": \".10~g\", \"title\": \"U probability\", \"type\": \"quantitative\"}, {\"field\": \"bayes_factor\", \"format\": \",.6f\", \"title\": \"Bayes factor = m/u\", \"type\": \"quantitative\"}, {\"field\": \"log2_bayes_factor\", \"format\": \".4~g\", \"title\": \"Match weight = log2(m/u)\", \"type\": \"quantitative\"}, {\"field\": \"bayes_factor_description\", \"title\": \"Match weight description\", \"type\": \"nominal\"}, {\"field\": \"m_probability_description\", \"title\": \"m probability description\", \"type\": \"nominal\"}, {\"field\": \"u_probability_description\", \"title\": \"u probability description\", \"type\": \"nominal\"}], \"x\": {\"axis\": {\"title\": \"Proportion of record comparisons\"}, \"field\": \"u_probability\", \"type\": \"quantitative\"}, \"y\": {\"axis\": {\"title\": null}, \"field\": \"label_for_charts\", \"sort\": {\"field\": \"comparison_vector_value\", \"order\": \"descending\"}, \"type\": \"nominal\"}}, \"height\": {\"step\": 12}, \"resolve\": {\"scale\": {\"y\": \"independent\"}}, \"title\": {\"text\": \"Amongst non-matching record comparisons:\", \"fontSize\": 12, \"fontWeight\": \"bold\"}, \"transform\": [{\"filter\": \"(datum.bayes_factor != 'no-op filter2 due to vega lite issue 4680')\"}], \"width\": 150}], \"data\": {\"name\": \"data-338e265d8b3a9c2bb0bc745a8e71d3ae\"}, \"title\": {\"text\": \"Proportion of record comparisons in each comparison level by match status\", \"subtitle\": \"(m and u probabilities)\"}, \"$schema\": \"https://vega.github.io/schema/vega-lite/v5.9.3.json\", \"datasets\": {\"data-338e265d8b3a9c2bb0bc745a8e71d3ae\": [{\"comparison_name\": \"first_name\", \"sql_condition\": \"\\\"first_name_l\\\" = \\\"first_name_r\\\"\", \"label_for_charts\": \"Exact match on first_name\", \"m_probability\": 0.03709922353074373, \"u_probability\": 0.011628617542497475, \"m_probability_description\": \"Amongst matching record comparisons, 3.71% of records (i.e. one in 26.95) are in the exact match on first_name comparison level\", \"u_probability_description\": \"Amongst non-matching record comparisons, 1.163% of records (i.e. one in 85.99) are in the exact match on first_name comparison level\", \"has_tf_adjustments\": false, \"tf_adjustment_column\": null, \"tf_adjustment_weight\": 1.0, \"is_null_level\": false, \"bayes_factor\": 3.190338266364201, \"log2_bayes_factor\": 1.6737093987028375, \"comparison_vector_value\": 3, \"max_comparison_vector_value\": 3, \"bayes_factor_description\": \"If comparison level is `exact match on first_name` then comparison is 3.19 times more likely to be a match\", \"probability_two_random_records_match\": 0.00041667916729169795, \"comparison_sort_order\": 0}, {\"comparison_name\": \"first_name\", \"sql_condition\": \"jaro_winkler_similarity(\\\"first_name_l\\\", \\\"first_name_r\\\") >= 0.7\", \"label_for_charts\": \"Jaro-Winkler distance of first_name >= 0.7\", \"m_probability\": 0.039452968209811035, \"u_probability\": 0.02441059675425745, \"m_probability_description\": \"Amongst matching record comparisons, 3.945% of records (i.e. one in 25.35) are in the jaro-winkler distance of first_name >= 0.7 comparison level\", \"u_probability_description\": \"Amongst non-matching record comparisons, 2.441% of records (i.e. one in 40.97) are in the jaro-winkler distance of first_name >= 0.7 comparison level\", \"has_tf_adjustments\": false, \"tf_adjustment_column\": null, \"tf_adjustment_weight\": 1.0, \"is_null_level\": false, \"bayes_factor\": 1.6162230119560697, \"log2_bayes_factor\": 0.6926262798005928, \"comparison_vector_value\": 2, \"max_comparison_vector_value\": 3, \"bayes_factor_description\": \"If comparison level is `jaro-winkler distance of first_name >= 0.7` then comparison is 1.616 times more likely to be a match\", \"probability_two_random_records_match\": 0.00041667916729169795, \"comparison_sort_order\": 0}, {\"comparison_name\": \"first_name\", \"sql_condition\": \"jaro_winkler_similarity(\\\"first_name_l\\\", \\\"first_name_r\\\") >= 0.85\", \"label_for_charts\": \"Jaro-Winkler distance of first_name >= 0.85\", \"m_probability\": 0.01666666666666668, \"u_probability\": 0.03333333333333336, \"m_probability_description\": \"Amongst matching record comparisons, 1.667% of records (i.e. one in 60) are in the jaro-winkler distance of first_name >= 0.85 comparison level\", \"u_probability_description\": \"Amongst non-matching record comparisons, 3.333% of records (i.e. one in 30) are in the jaro-winkler distance of first_name >= 0.85 comparison level\", \"has_tf_adjustments\": false, \"tf_adjustment_column\": null, \"tf_adjustment_weight\": 1.0, \"is_null_level\": false, \"bayes_factor\": 0.5, \"log2_bayes_factor\": -1.0, \"comparison_vector_value\": 1, \"max_comparison_vector_value\": 3, \"bayes_factor_description\": \"If comparison level is `jaro-winkler distance of first_name >= 0.85` then comparison is 2 times less likely to be a match\", \"probability_two_random_records_match\": 0.00041667916729169795, \"comparison_sort_order\": 0}, {\"comparison_name\": \"first_name\", \"sql_condition\": \"ELSE\", \"label_for_charts\": \"All other comparisons\", \"m_probability\": 0.9234478082594452, \"u_probability\": 0.9639607857032451, \"m_probability_description\": \"Amongst matching record comparisons, 92.34% of records (i.e. one in 1.083) are in the all other comparisons comparison level\", \"u_probability_description\": \"Amongst non-matching record comparisons, 96.4% of records (i.e. one in 1.037) are in the all other comparisons comparison level\", \"has_tf_adjustments\": false, \"tf_adjustment_column\": null, \"tf_adjustment_weight\": 1.0, \"is_null_level\": false, \"bayes_factor\": 0.9579723801583441, \"log2_bayes_factor\": -0.061944033480194276, \"comparison_vector_value\": 0, \"max_comparison_vector_value\": 3, \"bayes_factor_description\": \"If comparison level is `all other comparisons` then comparison is 1.044 times less likely to be a match\", \"probability_two_random_records_match\": 0.00041667916729169795, \"comparison_sort_order\": 0}, {\"comparison_name\": \"last_name\", \"sql_condition\": \"\\\"last_name_l\\\" = \\\"last_name_r\\\"\", \"label_for_charts\": \"Exact match on last_name\", \"m_probability\": 0.5172297487076565, \"u_probability\": 0.009326515866939241, \"m_probability_description\": \"Amongst matching record comparisons, 51.72% of records (i.e. one in 1.933) are in the exact match on last_name comparison level\", \"u_probability_description\": \"Amongst non-matching record comparisons, 0.9327% of records (i.e. one in 107) are in the exact match on last_name comparison level\", \"has_tf_adjustments\": false, \"tf_adjustment_column\": null, \"tf_adjustment_weight\": 1.0, \"is_null_level\": false, \"bayes_factor\": 55.45798196099568, \"log2_bayes_factor\": 5.7933232145493845, \"comparison_vector_value\": 3, \"max_comparison_vector_value\": 3, \"bayes_factor_description\": \"If comparison level is `exact match on last_name` then comparison is 55.46 times more likely to be a match\", \"probability_two_random_records_match\": 0.00041667916729169795, \"comparison_sort_order\": 1}, {\"comparison_name\": \"last_name\", \"sql_condition\": \"jaro_winkler_similarity(\\\"last_name_l\\\", \\\"last_name_r\\\") >= 0.7\", \"label_for_charts\": \"Jaro-Winkler distance of last_name >= 0.7\", \"m_probability\": 0.021000166368292793, \"u_probability\": 0.021061945175779816, \"m_probability_description\": \"Amongst matching record comparisons, 2.1% of records (i.e. one in 47.62) are in the jaro-winkler distance of last_name >= 0.7 comparison level\", \"u_probability_description\": \"Amongst non-matching record comparisons, 2.106% of records (i.e. one in 47.48) are in the jaro-winkler distance of last_name >= 0.7 comparison level\", \"has_tf_adjustments\": false, \"tf_adjustment_column\": null, \"tf_adjustment_weight\": 1.0, \"is_null_level\": false, \"bayes_factor\": 0.9970668042779797, \"log2_bayes_factor\": -0.004237925297220273, \"comparison_vector_value\": 2, \"max_comparison_vector_value\": 3, \"bayes_factor_description\": \"If comparison level is `jaro-winkler distance of last_name >= 0.7` then comparison is 1.003 times less likely to be a match\", \"probability_two_random_records_match\": 0.00041667916729169795, \"comparison_sort_order\": 1}, {\"comparison_name\": \"last_name\", \"sql_condition\": \"jaro_winkler_similarity(\\\"last_name_l\\\", \\\"last_name_r\\\") >= 0.85\", \"label_for_charts\": \"Jaro-Winkler distance of last_name >= 0.85\", \"m_probability\": 0.01666666666666668, \"u_probability\": 0.03333333333333336, \"m_probability_description\": \"Amongst matching record comparisons, 1.667% of records (i.e. one in 60) are in the jaro-winkler distance of last_name >= 0.85 comparison level\", \"u_probability_description\": \"Amongst non-matching record comparisons, 3.333% of records (i.e. one in 30) are in the jaro-winkler distance of last_name >= 0.85 comparison level\", \"has_tf_adjustments\": false, \"tf_adjustment_column\": null, \"tf_adjustment_weight\": 1.0, \"is_null_level\": false, \"bayes_factor\": 0.5, \"log2_bayes_factor\": -1.0, \"comparison_vector_value\": 1, \"max_comparison_vector_value\": 3, \"bayes_factor_description\": \"If comparison level is `jaro-winkler distance of last_name >= 0.85` then comparison is 2 times less likely to be a match\", \"probability_two_random_records_match\": 0.00041667916729169795, \"comparison_sort_order\": 1}, {\"comparison_name\": \"last_name\", \"sql_condition\": \"ELSE\", \"label_for_charts\": \"All other comparisons\", \"m_probability\": 0.4617700849240507, \"u_probability\": 0.9696115389572809, \"m_probability_description\": \"Amongst matching record comparisons, 46.18% of records (i.e. one in 2.166) are in the all other comparisons comparison level\", \"u_probability_description\": \"Amongst non-matching record comparisons, 96.96% of records (i.e. one in 1.031) are in the all other comparisons comparison level\", \"has_tf_adjustments\": false, \"tf_adjustment_column\": null, \"tf_adjustment_weight\": 1.0, \"is_null_level\": false, \"bayes_factor\": 0.47624235724405434, \"log2_bayes_factor\": -1.0702321545219806, \"comparison_vector_value\": 0, \"max_comparison_vector_value\": 3, \"bayes_factor_description\": \"If comparison level is `all other comparisons` then comparison is 2.1 times less likely to be a match\", \"probability_two_random_records_match\": 0.00041667916729169795, \"comparison_sort_order\": 1}, {\"comparison_name\": \"first_name_metaphone\", \"sql_condition\": \"\\\"first_name_metaphone_l\\\" = \\\"first_name_metaphone_r\\\"\", \"label_for_charts\": \"Exact match on first_name_metaphone\", \"m_probability\": 0.048204389238171455, \"u_probability\": 0.014921295647266465, \"m_probability_description\": \"Amongst matching record comparisons, 4.82% of records (i.e. one in 20.74) are in the exact match on first_name_metaphone comparison level\", \"u_probability_description\": \"Amongst non-matching record comparisons, 1.492% of records (i.e. one in 67.02) are in the exact match on first_name_metaphone comparison level\", \"has_tf_adjustments\": false, \"tf_adjustment_column\": null, \"tf_adjustment_weight\": 1.0, \"is_null_level\": false, \"bayes_factor\": 3.2305766454672686, \"log2_bayes_factor\": 1.6917917034034073, \"comparison_vector_value\": 1, \"max_comparison_vector_value\": 1, \"bayes_factor_description\": \"If comparison level is `exact match on first_name_metaphone` then comparison is 3.231 times more likely to be a match\", \"probability_two_random_records_match\": 0.00041667916729169795, \"comparison_sort_order\": 2}, {\"comparison_name\": \"first_name_metaphone\", \"sql_condition\": \"ELSE\", \"label_for_charts\": \"All other comparisons\", \"m_probability\": 0.9554649701221775, \"u_probability\": 0.9850787043527335, \"m_probability_description\": \"Amongst matching record comparisons, 95.55% of records (i.e. one in 1.047) are in the all other comparisons comparison level\", \"u_probability_description\": \"Amongst non-matching record comparisons, 98.51% of records (i.e. one in 1.015) are in the all other comparisons comparison level\", \"has_tf_adjustments\": false, \"tf_adjustment_column\": null, \"tf_adjustment_weight\": 1.0, \"is_null_level\": false, \"bayes_factor\": 0.9699376972624595, \"log2_bayes_factor\": -0.044036014326988955, \"comparison_vector_value\": 0, \"max_comparison_vector_value\": 1, \"bayes_factor_description\": \"If comparison level is `all other comparisons` then comparison is 1.031 times less likely to be a match\", \"probability_two_random_records_match\": 0.00041667916729169795, \"comparison_sort_order\": 2}, {\"comparison_name\": \"last_name_metaphone\", \"sql_condition\": \"\\\"last_name_metaphone_l\\\" = \\\"last_name_metaphone_r\\\"\", \"label_for_charts\": \"Exact match on last_name_metaphone\", \"m_probability\": 0.9999578327440823, \"u_probability\": 0.010005386804946823, \"m_probability_description\": \"Amongst matching record comparisons, 100% of records (i.e. one in 1) are in the exact match on last_name_metaphone comparison level\", \"u_probability_description\": \"Amongst non-matching record comparisons, 1.001% of records (i.e. one in 99.95) are in the exact match on last_name_metaphone comparison level\", \"has_tf_adjustments\": false, \"tf_adjustment_column\": null, \"tf_adjustment_weight\": 1.0, \"is_null_level\": false, \"bayes_factor\": 99.9419464972296, \"log2_bayes_factor\": 6.64301841156586, \"comparison_vector_value\": 1, \"max_comparison_vector_value\": 1, \"bayes_factor_description\": \"If comparison level is `exact match on last_name_metaphone` then comparison is 99.94 times more likely to be a match\", \"probability_two_random_records_match\": 0.00041667916729169795, \"comparison_sort_order\": 3}, {\"comparison_name\": \"last_name_metaphone\", \"sql_condition\": \"ELSE\", \"label_for_charts\": \"All other comparisons\", \"m_probability\": 0.47266849469901717, \"u_probability\": 0.9899946131950532, \"m_probability_description\": \"Amongst matching record comparisons, 47.27% of records (i.e. one in 2.116) are in the all other comparisons comparison level\", \"u_probability_description\": \"Amongst non-matching record comparisons, 99% of records (i.e. one in 1.01) are in the all other comparisons comparison level\", \"has_tf_adjustments\": false, \"tf_adjustment_column\": null, \"tf_adjustment_weight\": 1.0, \"is_null_level\": false, \"bayes_factor\": 0.4774455218231474, \"log2_bayes_factor\": -1.0665919688162826, \"comparison_vector_value\": 0, \"max_comparison_vector_value\": 1, \"bayes_factor_description\": \"If comparison level is `all other comparisons` then comparison is 2.094 times less likely to be a match\", \"probability_two_random_records_match\": 0.00041667916729169795, \"comparison_sort_order\": 3}, {\"comparison_name\": \"email\", \"sql_condition\": \"\\\"email_l\\\" = \\\"email_r\\\"\", \"label_for_charts\": \"Exact match on email\", \"m_probability\": 2.532048277539214e-05, \"u_probability\": 0.000927734375, \"m_probability_description\": \"Amongst matching record comparisons, 0.002532% of records (i.e. one in 39,494) are in the exact match on email comparison level\", \"u_probability_description\": \"Amongst non-matching record comparisons, 0.09277% of records (i.e. one in 1,078) are in the exact match on email comparison level\", \"has_tf_adjustments\": true, \"tf_adjustment_column\": \"email\", \"tf_adjustment_weight\": 1.0, \"is_null_level\": false, \"bayes_factor\": 0.02729281511789637, \"log2_bayes_factor\": -5.195334980682383, \"comparison_vector_value\": 4, \"max_comparison_vector_value\": 4, \"bayes_factor_description\": \"If comparison level is `exact match on email` then comparison is 36.64 times less likely to be a match\", \"probability_two_random_records_match\": 0.00041667916729169795, \"comparison_sort_order\": 4}, {\"comparison_name\": \"email\", \"sql_condition\": \"NULLIF(regexp_extract(\\\"email_l\\\", '^[^@]+', 0), '') = NULLIF(regexp_extract(\\\"email_r\\\", '^[^@]+', 0), '')\", \"label_for_charts\": \"Exact match on username\", \"m_probability\": 4.593160740614346e-05, \"u_probability\": 0.0015625000000000014, \"m_probability_description\": \"Amongst matching record comparisons, 0.004593% of records (i.e. one in 21,772) are in the exact match on username comparison level\", \"u_probability_description\": \"Amongst non-matching record comparisons, 0.1563% of records (i.e. one in 640) are in the exact match on username comparison level\", \"has_tf_adjustments\": false, \"tf_adjustment_column\": null, \"tf_adjustment_weight\": 1.0, \"is_null_level\": false, \"bayes_factor\": 0.02939622873993179, \"log2_bayes_factor\": -5.0882251070662745, \"comparison_vector_value\": 3, \"max_comparison_vector_value\": 4, \"bayes_factor_description\": \"If comparison level is `exact match on username` then comparison is 34.02 times less likely to be a match\", \"probability_two_random_records_match\": 0.00041667916729169795, \"comparison_sort_order\": 4}, {\"comparison_name\": \"email\", \"sql_condition\": \"jaro_winkler_similarity(\\\"email_l\\\", \\\"email_r\\\") >= 0.88\", \"label_for_charts\": \"Jaro-Winkler distance of email >= 0.88\", \"m_probability\": 0.018979687913806848, \"u_probability\": 0.00046473388721396397, \"m_probability_description\": \"Amongst matching record comparisons, 1.898% of records (i.e. one in 52.69) are in the jaro-winkler distance of email >= 0.88 comparison level\", \"u_probability_description\": \"Amongst non-matching record comparisons, 0.04647% of records (i.e. one in 2,152) are in the jaro-winkler distance of email >= 0.88 comparison level\", \"has_tf_adjustments\": false, \"tf_adjustment_column\": null, \"tf_adjustment_weight\": 1.0, \"is_null_level\": false, \"bayes_factor\": 40.839905236065945, \"log2_bayes_factor\": 5.351907613512079, \"comparison_vector_value\": 2, \"max_comparison_vector_value\": 4, \"bayes_factor_description\": \"If comparison level is `jaro-winkler distance of email >= 0.88` then comparison is 40.84 times more likely to be a match\", \"probability_two_random_records_match\": 0.00041667916729169795, \"comparison_sort_order\": 4}, {\"comparison_name\": \"email\", \"sql_condition\": \"jaro_winkler_similarity(NULLIF(regexp_extract(\\\"email_l\\\", '^[^@]+', 0), ''), NULLIF(regexp_extract(\\\"email_r\\\", '^[^@]+', 0), '')) >= 0.88\", \"label_for_charts\": \"Jaro-Winkler >0.88 on username\", \"m_probability\": 0.016495269229152256, \"u_probability\": 0.00019462336271170426, \"m_probability_description\": \"Amongst matching record comparisons, 1.65% of records (i.e. one in 60.62) are in the jaro-winkler >0.88 on username comparison level\", \"u_probability_description\": \"Amongst non-matching record comparisons, 0.01946% of records (i.e. one in 5,138) are in the jaro-winkler >0.88 on username comparison level\", \"has_tf_adjustments\": false, \"tf_adjustment_column\": null, \"tf_adjustment_weight\": 1.0, \"is_null_level\": false, \"bayes_factor\": 84.75482593313687, \"log2_bayes_factor\": 6.405223612417555, \"comparison_vector_value\": 1, \"max_comparison_vector_value\": 4, \"bayes_factor_description\": \"If comparison level is `jaro-winkler >0.88 on username` then comparison is 84.75 times more likely to be a match\", \"probability_two_random_records_match\": 0.00041667916729169795, \"comparison_sort_order\": 4}, {\"comparison_name\": \"email\", \"sql_condition\": \"ELSE\", \"label_for_charts\": \"All other comparisons\", \"m_probability\": 0.9645203334993188, \"u_probability\": 0.9993406427500743, \"m_probability_description\": \"Amongst matching record comparisons, 96.45% of records (i.e. one in 1.037) are in the all other comparisons comparison level\", \"u_probability_description\": \"Amongst non-matching record comparisons, 99.93% of records (i.e. one in 1.001) are in the all other comparisons comparison level\", \"has_tf_adjustments\": false, \"tf_adjustment_column\": null, \"tf_adjustment_weight\": 1.0, \"is_null_level\": false, \"bayes_factor\": 0.9651567165777087, \"log2_bayes_factor\": -0.05116487699104448, \"comparison_vector_value\": 0, \"max_comparison_vector_value\": 4, \"bayes_factor_description\": \"If comparison level is `all other comparisons` then comparison is 1.036 times less likely to be a match\", \"probability_two_random_records_match\": 0.00041667916729169795, \"comparison_sort_order\": 4}, {\"comparison_name\": \"phone\", \"sql_condition\": \"\\\"phone_l\\\" = \\\"phone_r\\\"\", \"label_for_charts\": \"Exact match on phone\", \"m_probability\": 1.483597162663624e-39, \"u_probability\": 1.0270362148374896e-06, \"m_probability_description\": \"Amongst matching record comparisons, 1.484e-37% of records (i.e. one in 674,037,417,410,948,507,304,827,860,930,508,357,632) are in the exact match on phone comparison level\", \"u_probability_description\": \"Amongst non-matching record comparisons, 0.0001027% of records (i.e. one in 973,675) are in the exact match on phone comparison level\", \"has_tf_adjustments\": false, \"tf_adjustment_column\": null, \"tf_adjustment_weight\": 1.0, \"is_null_level\": false, \"bayes_factor\": 1.4445422091550853e-33, \"log2_bayes_factor\": -109.09301477158324, \"comparison_vector_value\": 3, \"max_comparison_vector_value\": 3, \"bayes_factor_description\": \"If comparison level is `exact match on phone` then comparison is 692,260,837,836,577,499,718,039,094,951,936 times less likely to be a match\", \"probability_two_random_records_match\": 0.00041667916729169795, \"comparison_sort_order\": 5}, {\"comparison_name\": \"phone\", \"sql_condition\": \"levenshtein(\\\"phone_l\\\", \\\"phone_r\\\") <= 0.7\", \"label_for_charts\": \"Levenshtein distance of phone <= 0.7\", \"m_probability\": 0.01666666666666668, \"u_probability\": 0.002083333333333335, \"m_probability_description\": \"Amongst matching record comparisons, 1.667% of records (i.e. one in 60) are in the levenshtein distance of phone <= 0.7 comparison level\", \"u_probability_description\": \"Amongst non-matching record comparisons, 0.2083% of records (i.e. one in 480) are in the levenshtein distance of phone <= 0.7 comparison level\", \"has_tf_adjustments\": false, \"tf_adjustment_column\": null, \"tf_adjustment_weight\": 1.0, \"is_null_level\": false, \"bayes_factor\": 8.0, \"log2_bayes_factor\": 3.0, \"comparison_vector_value\": 2, \"max_comparison_vector_value\": 3, \"bayes_factor_description\": \"If comparison level is `levenshtein distance of phone <= 0.7` then comparison is 8 times more likely to be a match\", \"probability_two_random_records_match\": 0.00041667916729169795, \"comparison_sort_order\": 5}, {\"comparison_name\": \"phone\", \"sql_condition\": \"levenshtein(\\\"phone_l\\\", \\\"phone_r\\\") <= 0.9\", \"label_for_charts\": \"Levenshtein distance of phone <= 0.9\", \"m_probability\": 0.01666666666666668, \"u_probability\": 0.03333333333333336, \"m_probability_description\": \"Amongst matching record comparisons, 1.667% of records (i.e. one in 60) are in the levenshtein distance of phone <= 0.9 comparison level\", \"u_probability_description\": \"Amongst non-matching record comparisons, 3.333% of records (i.e. one in 30) are in the levenshtein distance of phone <= 0.9 comparison level\", \"has_tf_adjustments\": false, \"tf_adjustment_column\": null, \"tf_adjustment_weight\": 1.0, \"is_null_level\": false, \"bayes_factor\": 0.5, \"log2_bayes_factor\": -1.0, \"comparison_vector_value\": 1, \"max_comparison_vector_value\": 3, \"bayes_factor_description\": \"If comparison level is `levenshtein distance of phone <= 0.9` then comparison is 2 times less likely to be a match\", \"probability_two_random_records_match\": 0.00041667916729169795, \"comparison_sort_order\": 5}, {\"comparison_name\": \"phone\", \"sql_condition\": \"ELSE\", \"label_for_charts\": \"All other comparisons\", \"m_probability\": 1.0, \"u_probability\": 0.9999989729637851, \"m_probability_description\": \"Amongst matching record comparisons, 100% of records (i.e. one in 1) are in the all other comparisons comparison level\", \"u_probability_description\": \"Amongst non-matching record comparisons, 100% of records (i.e. one in 1) are in the all other comparisons comparison level\", \"has_tf_adjustments\": false, \"tf_adjustment_column\": null, \"tf_adjustment_weight\": 1.0, \"is_null_level\": false, \"bayes_factor\": 1.0000010270372697, \"log2_bayes_factor\": 1.4817008148861514e-06, \"comparison_vector_value\": 0, \"max_comparison_vector_value\": 3, \"bayes_factor_description\": \"If comparison level is `all other comparisons` then comparison is 1 times more likely to be a match\", \"probability_two_random_records_match\": 0.00041667916729169795, \"comparison_sort_order\": 5}, {\"comparison_name\": \"street\", \"sql_condition\": \"\\\"street_l\\\" = \\\"street_r\\\"\", \"label_for_charts\": \"Exact match on street\", \"m_probability\": 0.02055439451101145, \"u_probability\": 0.0017849889413875568, \"m_probability_description\": \"Amongst matching record comparisons, 2.055% of records (i.e. one in 48.65) are in the exact match on street comparison level\", \"u_probability_description\": \"Amongst non-matching record comparisons, 0.1785% of records (i.e. one in 560) are in the exact match on street comparison level\", \"has_tf_adjustments\": false, \"tf_adjustment_column\": null, \"tf_adjustment_weight\": 1.0, \"is_null_level\": false, \"bayes_factor\": 11.51513829269639, \"log2_bayes_factor\": 3.5254598323741106, \"comparison_vector_value\": 4, \"max_comparison_vector_value\": 4, \"bayes_factor_description\": \"If comparison level is `exact match on street` then comparison is 11.52 times more likely to be a match\", \"probability_two_random_records_match\": 0.00041667916729169795, \"comparison_sort_order\": 6}, {\"comparison_name\": \"street\", \"sql_condition\": \"levenshtein(\\\"street_l\\\", \\\"street_r\\\") <= 0.4\", \"label_for_charts\": \"Levenshtein distance of street <= 0.4\", \"m_probability\": 0.012500000000000011, \"u_probability\": 0.0015625000000000014, \"m_probability_description\": \"Amongst matching record comparisons, 1.25% of records (i.e. one in 80) are in the levenshtein distance of street <= 0.4 comparison level\", \"u_probability_description\": \"Amongst non-matching record comparisons, 0.1563% of records (i.e. one in 640) are in the levenshtein distance of street <= 0.4 comparison level\", \"has_tf_adjustments\": false, \"tf_adjustment_column\": null, \"tf_adjustment_weight\": 1.0, \"is_null_level\": false, \"bayes_factor\": 8.0, \"log2_bayes_factor\": 3.0, \"comparison_vector_value\": 3, \"max_comparison_vector_value\": 4, \"bayes_factor_description\": \"If comparison level is `levenshtein distance of street <= 0.4` then comparison is 8 times more likely to be a match\", \"probability_two_random_records_match\": 0.00041667916729169795, \"comparison_sort_order\": 6}, {\"comparison_name\": \"street\", \"sql_condition\": \"levenshtein(\\\"street_l\\\", \\\"street_r\\\") <= 0.7\", \"label_for_charts\": \"Levenshtein distance of street <= 0.7\", \"m_probability\": 0.012500000000000011, \"u_probability\": 0.009921256574801257, \"m_probability_description\": \"Amongst matching record comparisons, 1.25% of records (i.e. one in 80) are in the levenshtein distance of street <= 0.7 comparison level\", \"u_probability_description\": \"Amongst non-matching record comparisons, 0.9921% of records (i.e. one in 101) are in the levenshtein distance of street <= 0.7 comparison level\", \"has_tf_adjustments\": false, \"tf_adjustment_column\": null, \"tf_adjustment_weight\": 1.0, \"is_null_level\": false, \"bayes_factor\": 1.259921049894873, \"log2_bayes_factor\": 0.3333333333333331, \"comparison_vector_value\": 2, \"max_comparison_vector_value\": 4, \"bayes_factor_description\": \"If comparison level is `levenshtein distance of street <= 0.7` then comparison is 1.26 times more likely to be a match\", \"probability_two_random_records_match\": 0.00041667916729169795, \"comparison_sort_order\": 6}, {\"comparison_name\": \"street\", \"sql_condition\": \"levenshtein(\\\"street_l\\\", \\\"street_r\\\") <= 0.85\", \"label_for_charts\": \"Levenshtein distance of street <= 0.85\", \"m_probability\": 0.012500000000000011, \"u_probability\": 0.06299605249474372, \"m_probability_description\": \"Amongst matching record comparisons, 1.25% of records (i.e. one in 80) are in the levenshtein distance of street <= 0.85 comparison level\", \"u_probability_description\": \"Amongst non-matching record comparisons, 6.3% of records (i.e. one in 15.87) are in the levenshtein distance of street <= 0.85 comparison level\", \"has_tf_adjustments\": false, \"tf_adjustment_column\": null, \"tf_adjustment_weight\": 1.0, \"is_null_level\": false, \"bayes_factor\": 0.19842513149602492, \"log2_bayes_factor\": -2.3333333333333335, \"comparison_vector_value\": 1, \"max_comparison_vector_value\": 4, \"bayes_factor_description\": \"If comparison level is `levenshtein distance of street <= 0.85` then comparison is 5.04 times less likely to be a match\", \"probability_two_random_records_match\": 0.00041667916729169795, \"comparison_sort_order\": 6}, {\"comparison_name\": \"street\", \"sql_condition\": \"ELSE\", \"label_for_charts\": \"All other comparisons\", \"m_probability\": 0.9794456054889885, \"u_probability\": 0.9982150110586124, \"m_probability_description\": \"Amongst matching record comparisons, 97.94% of records (i.e. one in 1.021) are in the all other comparisons comparison level\", \"u_probability_description\": \"Amongst non-matching record comparisons, 99.82% of records (i.e. one in 1.002) are in the all other comparisons comparison level\", \"has_tf_adjustments\": false, \"tf_adjustment_column\": null, \"tf_adjustment_weight\": 1.0, \"is_null_level\": false, \"bayes_factor\": 0.9811970313392514, \"log2_bayes_factor\": -0.027385225931328753, \"comparison_vector_value\": 0, \"max_comparison_vector_value\": 4, \"bayes_factor_description\": \"If comparison level is `all other comparisons` then comparison is 1.019 times less likely to be a match\", \"probability_two_random_records_match\": 0.00041667916729169795, \"comparison_sort_order\": 6}, {\"comparison_name\": \"city\", \"sql_condition\": \"\\\"city_l\\\" = \\\"city_r\\\"\", \"label_for_charts\": \"Exact match on city\", \"m_probability\": 0.15347555305881697, \"u_probability\": 0.01326674030516327, \"m_probability_description\": \"Amongst matching record comparisons, 15.35% of records (i.e. one in 6.516) are in the exact match on city comparison level\", \"u_probability_description\": \"Amongst non-matching record comparisons, 1.327% of records (i.e. one in 75.38) are in the exact match on city comparison level\", \"has_tf_adjustments\": false, \"tf_adjustment_column\": null, \"tf_adjustment_weight\": 1.0, \"is_null_level\": false, \"bayes_factor\": 11.568444812256253, \"log2_bayes_factor\": 3.5321230256723886, \"comparison_vector_value\": 4, \"max_comparison_vector_value\": 4, \"bayes_factor_description\": \"If comparison level is `exact match on city` then comparison is 11.57 times more likely to be a match\", \"probability_two_random_records_match\": 0.00041667916729169795, \"comparison_sort_order\": 7}, {\"comparison_name\": \"city\", \"sql_condition\": \"jaro_winkler_similarity(\\\"city_l\\\", \\\"city_r\\\") >= 0.4\", \"label_for_charts\": \"Jaro-Winkler distance of city >= 0.4\", \"m_probability\": 0.6752020913162762, \"u_probability\": 0.7728144540968731, \"m_probability_description\": \"Amongst matching record comparisons, 67.52% of records (i.e. one in 1.481) are in the jaro-winkler distance of city >= 0.4 comparison level\", \"u_probability_description\": \"Amongst non-matching record comparisons, 77.28% of records (i.e. one in 1.294) are in the jaro-winkler distance of city >= 0.4 comparison level\", \"has_tf_adjustments\": false, \"tf_adjustment_column\": null, \"tf_adjustment_weight\": 1.0, \"is_null_level\": false, \"bayes_factor\": 0.8736923691539016, \"log2_bayes_factor\": -0.19480270488911758, \"comparison_vector_value\": 3, \"max_comparison_vector_value\": 4, \"bayes_factor_description\": \"If comparison level is `jaro-winkler distance of city >= 0.4` then comparison is 1.145 times less likely to be a match\", \"probability_two_random_records_match\": 0.00041667916729169795, \"comparison_sort_order\": 7}, {\"comparison_name\": \"city\", \"sql_condition\": \"jaro_winkler_similarity(\\\"city_l\\\", \\\"city_r\\\") >= 0.7\", \"label_for_charts\": \"Jaro-Winkler distance of city >= 0.7\", \"m_probability\": 0.012500000000000011, \"u_probability\": 0.009921256574801257, \"m_probability_description\": \"Amongst matching record comparisons, 1.25% of records (i.e. one in 80) are in the jaro-winkler distance of city >= 0.7 comparison level\", \"u_probability_description\": \"Amongst non-matching record comparisons, 0.9921% of records (i.e. one in 101) are in the jaro-winkler distance of city >= 0.7 comparison level\", \"has_tf_adjustments\": false, \"tf_adjustment_column\": null, \"tf_adjustment_weight\": 1.0, \"is_null_level\": false, \"bayes_factor\": 1.259921049894873, \"log2_bayes_factor\": 0.3333333333333331, \"comparison_vector_value\": 2, \"max_comparison_vector_value\": 4, \"bayes_factor_description\": \"If comparison level is `jaro-winkler distance of city >= 0.7` then comparison is 1.26 times more likely to be a match\", \"probability_two_random_records_match\": 0.00041667916729169795, \"comparison_sort_order\": 7}, {\"comparison_name\": \"city\", \"sql_condition\": \"jaro_winkler_similarity(\\\"city_l\\\", \\\"city_r\\\") >= 0.85\", \"label_for_charts\": \"Jaro-Winkler distance of city >= 0.85\", \"m_probability\": 0.012500000000000011, \"u_probability\": 0.06299605249474372, \"m_probability_description\": \"Amongst matching record comparisons, 1.25% of records (i.e. one in 80) are in the jaro-winkler distance of city >= 0.85 comparison level\", \"u_probability_description\": \"Amongst non-matching record comparisons, 6.3% of records (i.e. one in 15.87) are in the jaro-winkler distance of city >= 0.85 comparison level\", \"has_tf_adjustments\": false, \"tf_adjustment_column\": null, \"tf_adjustment_weight\": 1.0, \"is_null_level\": false, \"bayes_factor\": 0.19842513149602492, \"log2_bayes_factor\": -2.3333333333333335, \"comparison_vector_value\": 1, \"max_comparison_vector_value\": 4, \"bayes_factor_description\": \"If comparison level is `jaro-winkler distance of city >= 0.85` then comparison is 5.04 times less likely to be a match\", \"probability_two_random_records_match\": 0.00041667916729169795, \"comparison_sort_order\": 7}, {\"comparison_name\": \"city\", \"sql_condition\": \"ELSE\", \"label_for_charts\": \"All other comparisons\", \"m_probability\": 0.17132235562490686, \"u_probability\": 0.21391880559796358, \"m_probability_description\": \"Amongst matching record comparisons, 17.13% of records (i.e. one in 5.837) are in the all other comparisons comparison level\", \"u_probability_description\": \"Amongst non-matching record comparisons, 21.39% of records (i.e. one in 4.675) are in the all other comparisons comparison level\", \"has_tf_adjustments\": false, \"tf_adjustment_column\": null, \"tf_adjustment_weight\": 1.0, \"is_null_level\": false, \"bayes_factor\": 0.8008756179523927, \"log2_bayes_factor\": -0.32034989631973043, \"comparison_vector_value\": 0, \"max_comparison_vector_value\": 4, \"bayes_factor_description\": \"If comparison level is `all other comparisons` then comparison is 1.249 times less likely to be a match\", \"probability_two_random_records_match\": 0.00041667916729169795, \"comparison_sort_order\": 7}, {\"comparison_name\": \"state\", \"sql_condition\": \"\\\"state_l\\\" = \\\"state_r\\\"\", \"label_for_charts\": \"Exact match on state\", \"m_probability\": 1.0, \"u_probability\": 1.0, \"m_probability_description\": \"Amongst matching record comparisons, 100% of records (i.e. one in 1) are in the exact match on state comparison level\", \"u_probability_description\": \"Amongst non-matching record comparisons, 100% of records (i.e. one in 1) are in the exact match on state comparison level\", \"has_tf_adjustments\": false, \"tf_adjustment_column\": null, \"tf_adjustment_weight\": 1.0, \"is_null_level\": false, \"bayes_factor\": 1.0, \"log2_bayes_factor\": 0.0, \"comparison_vector_value\": 1, \"max_comparison_vector_value\": 1, \"bayes_factor_description\": \"If comparison level is `exact match on state` then comparison is 1 times more likely to be a match\", \"probability_two_random_records_match\": 0.00041667916729169795, \"comparison_sort_order\": 8}, {\"comparison_name\": \"state\", \"sql_condition\": \"ELSE\", \"label_for_charts\": \"All other comparisons\", \"m_probability\": 0.050000000000000044, \"u_probability\": 1.6000000000000014, \"m_probability_description\": \"Amongst matching record comparisons, 5% of records (i.e. one in 20) are in the all other comparisons comparison level\", \"u_probability_description\": \"Amongst non-matching record comparisons, 160% of records (i.e. one in 0.625) are in the all other comparisons comparison level\", \"has_tf_adjustments\": false, \"tf_adjustment_column\": null, \"tf_adjustment_weight\": 1.0, \"is_null_level\": false, \"bayes_factor\": 0.03125, \"log2_bayes_factor\": -5.0, \"comparison_vector_value\": 0, \"max_comparison_vector_value\": 1, \"bayes_factor_description\": \"If comparison level is `all other comparisons` then comparison is 32 times less likely to be a match\", \"probability_two_random_records_match\": 0.00041667916729169795, \"comparison_sort_order\": 8}, {\"comparison_name\": \"zip\", \"sql_condition\": \"\\\"zip_l\\\" = \\\"zip_r\\\"\", \"label_for_charts\": \"Exact match on full postcode\", \"m_probability\": 0.18826533481773794, \"u_probability\": 0.05336736931349305, \"m_probability_description\": \"Amongst matching record comparisons, 18.83% of records (i.e. one in 5.312) are in the exact match on full postcode comparison level\", \"u_probability_description\": \"Amongst non-matching record comparisons, 5.337% of records (i.e. one in 18.74) are in the exact match on full postcode comparison level\", \"has_tf_adjustments\": false, \"tf_adjustment_column\": null, \"tf_adjustment_weight\": 1.0, \"is_null_level\": false, \"bayes_factor\": 3.527723724057318, \"log2_bayes_factor\": 1.8187375797334109, \"comparison_vector_value\": 4, \"max_comparison_vector_value\": 4, \"bayes_factor_description\": \"If comparison level is `exact match on full postcode` then comparison is 3.528 times more likely to be a match\", \"probability_two_random_records_match\": 0.00041667916729169795, \"comparison_sort_order\": 9}, {\"comparison_name\": \"zip\", \"sql_condition\": \"NULLIF(regexp_extract(\\\"zip_l\\\", '^[A-Za-z]{1,2}[0-9][A-Za-z0-9]? [0-9]', 0), '') = NULLIF(regexp_extract(\\\"zip_r\\\", '^[A-Za-z]{1,2}[0-9][A-Za-z0-9]? [0-9]', 0), '')\", \"label_for_charts\": \"Exact match on sector\", \"m_probability\": 0.012500000000000011, \"u_probability\": 0.0015625000000000014, \"m_probability_description\": \"Amongst matching record comparisons, 1.25% of records (i.e. one in 80) are in the exact match on sector comparison level\", \"u_probability_description\": \"Amongst non-matching record comparisons, 0.1563% of records (i.e. one in 640) are in the exact match on sector comparison level\", \"has_tf_adjustments\": false, \"tf_adjustment_column\": null, \"tf_adjustment_weight\": 1.0, \"is_null_level\": false, \"bayes_factor\": 8.0, \"log2_bayes_factor\": 3.0, \"comparison_vector_value\": 3, \"max_comparison_vector_value\": 4, \"bayes_factor_description\": \"If comparison level is `exact match on sector` then comparison is 8 times more likely to be a match\", \"probability_two_random_records_match\": 0.00041667916729169795, \"comparison_sort_order\": 9}, {\"comparison_name\": \"zip\", \"sql_condition\": \"NULLIF(regexp_extract(\\\"zip_l\\\", '^[A-Za-z]{1,2}[0-9][A-Za-z0-9]?', 0), '') = NULLIF(regexp_extract(\\\"zip_r\\\", '^[A-Za-z]{1,2}[0-9][A-Za-z0-9]?', 0), '')\", \"label_for_charts\": \"Exact match on district\", \"m_probability\": 0.026666994465643204, \"u_probability\": 0.0004154361489017645, \"m_probability_description\": \"Amongst matching record comparisons, 2.667% of records (i.e. one in 37.5) are in the exact match on district comparison level\", \"u_probability_description\": \"Amongst non-matching record comparisons, 0.04154% of records (i.e. one in 2,407) are in the exact match on district comparison level\", \"has_tf_adjustments\": false, \"tf_adjustment_column\": null, \"tf_adjustment_weight\": 1.0, \"is_null_level\": false, \"bayes_factor\": 64.19035641491318, \"log2_bayes_factor\": 6.00428466641852, \"comparison_vector_value\": 2, \"max_comparison_vector_value\": 4, \"bayes_factor_description\": \"If comparison level is `exact match on district` then comparison is 64.19 times more likely to be a match\", \"probability_two_random_records_match\": 0.00041667916729169795, \"comparison_sort_order\": 9}, {\"comparison_name\": \"zip\", \"sql_condition\": \"NULLIF(regexp_extract(\\\"zip_l\\\", '^[A-Za-z]{1,2}', 0), '') = NULLIF(regexp_extract(\\\"zip_r\\\", '^[A-Za-z]{1,2}', 0), '')\", \"label_for_charts\": \"Exact match on area\", \"m_probability\": 0.0995044031892967, \"u_probability\": 0.007051630651074203, \"m_probability_description\": \"Amongst matching record comparisons, 9.95% of records (i.e. one in 10.05) are in the exact match on area comparison level\", \"u_probability_description\": \"Amongst non-matching record comparisons, 0.7052% of records (i.e. one in 142) are in the exact match on area comparison level\", \"has_tf_adjustments\": false, \"tf_adjustment_column\": null, \"tf_adjustment_weight\": 1.0, \"is_null_level\": false, \"bayes_factor\": 14.110835934683957, \"log2_bayes_factor\": 3.818731551504346, \"comparison_vector_value\": 1, \"max_comparison_vector_value\": 4, \"bayes_factor_description\": \"If comparison level is `exact match on area` then comparison is 14.11 times more likely to be a match\", \"probability_two_random_records_match\": 0.00041667916729169795, \"comparison_sort_order\": 9}, {\"comparison_name\": \"zip\", \"sql_condition\": \"ELSE\", \"label_for_charts\": \"All other comparisons\", \"m_probability\": 0.6855632675273222, \"u_probability\": 0.9391655638865309, \"m_probability_description\": \"Amongst matching record comparisons, 68.56% of records (i.e. one in 1.459) are in the all other comparisons comparison level\", \"u_probability_description\": \"Amongst non-matching record comparisons, 93.92% of records (i.e. one in 1.065) are in the all other comparisons comparison level\", \"has_tf_adjustments\": false, \"tf_adjustment_column\": null, \"tf_adjustment_weight\": 1.0, \"is_null_level\": false, \"bayes_factor\": 0.7299706184820798, \"log2_bayes_factor\": -0.4540896985978056, \"comparison_vector_value\": 0, \"max_comparison_vector_value\": 4, \"bayes_factor_description\": \"If comparison level is `all other comparisons` then comparison is 1.37 times less likely to be a match\", \"probability_two_random_records_match\": 0.00041667916729169795, \"comparison_sort_order\": 9}]}}, {\"mode\": \"vega-lite\"});\n",
       "</script>"
      ],
      "text/plain": [
       "alt.HConcatChart(...)"
      ]
     },
     "metadata": {},
     "output_type": "display_data"
    },
    {
     "data": {
      "text/html": [
       "\n",
       "<style>\n",
       "  #altair-viz-afeabd9eaf83440f84454edc834170b0.vega-embed {\n",
       "    width: 100%;\n",
       "    display: flex;\n",
       "  }\n",
       "\n",
       "  #altair-viz-afeabd9eaf83440f84454edc834170b0.vega-embed details,\n",
       "  #altair-viz-afeabd9eaf83440f84454edc834170b0.vega-embed details summary {\n",
       "    position: relative;\n",
       "  }\n",
       "</style>\n",
       "<div id=\"altair-viz-afeabd9eaf83440f84454edc834170b0\"></div>\n",
       "<script type=\"text/javascript\">\n",
       "  var VEGA_DEBUG = (typeof VEGA_DEBUG == \"undefined\") ? {} : VEGA_DEBUG;\n",
       "  (function(spec, embedOpt){\n",
       "    let outputDiv = document.currentScript.previousElementSibling;\n",
       "    if (outputDiv.id !== \"altair-viz-afeabd9eaf83440f84454edc834170b0\") {\n",
       "      outputDiv = document.getElementById(\"altair-viz-afeabd9eaf83440f84454edc834170b0\");\n",
       "    }\n",
       "\n",
       "    const paths = {\n",
       "      \"vega\": \"https://cdn.jsdelivr.net/npm/vega@5?noext\",\n",
       "      \"vega-lib\": \"https://cdn.jsdelivr.net/npm/vega-lib?noext\",\n",
       "      \"vega-lite\": \"https://cdn.jsdelivr.net/npm/vega-lite@5.20.1?noext\",\n",
       "      \"vega-embed\": \"https://cdn.jsdelivr.net/npm/vega-embed@6?noext\",\n",
       "    };\n",
       "\n",
       "    function maybeLoadScript(lib, version) {\n",
       "      var key = `${lib.replace(\"-\", \"\")}_version`;\n",
       "      return (VEGA_DEBUG[key] == version) ?\n",
       "        Promise.resolve(paths[lib]) :\n",
       "        new Promise(function(resolve, reject) {\n",
       "          var s = document.createElement('script');\n",
       "          document.getElementsByTagName(\"head\")[0].appendChild(s);\n",
       "          s.async = true;\n",
       "          s.onload = () => {\n",
       "            VEGA_DEBUG[key] = version;\n",
       "            return resolve(paths[lib]);\n",
       "          };\n",
       "          s.onerror = () => reject(`Error loading script: ${paths[lib]}`);\n",
       "          s.src = paths[lib];\n",
       "        });\n",
       "    }\n",
       "\n",
       "    function showError(err) {\n",
       "      outputDiv.innerHTML = `<div class=\"error\" style=\"color:red;\">${err}</div>`;\n",
       "      throw err;\n",
       "    }\n",
       "\n",
       "    function displayChart(vegaEmbed) {\n",
       "      vegaEmbed(outputDiv, spec, embedOpt)\n",
       "        .catch(err => showError(`Javascript Error: ${err.message}<br>This usually means there's a typo in your chart specification. See the javascript console for the full traceback.`));\n",
       "    }\n",
       "\n",
       "    if(typeof define === \"function\" && define.amd) {\n",
       "      requirejs.config({paths});\n",
       "      let deps = [\"vega-embed\"];\n",
       "      require(deps, displayChart, err => showError(`Error loading script: ${err.message}`));\n",
       "    } else {\n",
       "      maybeLoadScript(\"vega\", \"5\")\n",
       "        .then(() => maybeLoadScript(\"vega-lite\", \"5.20.1\"))\n",
       "        .then(() => maybeLoadScript(\"vega-embed\", \"6\"))\n",
       "        .catch(showError)\n",
       "        .then(() => displayChart(vegaEmbed));\n",
       "    }\n",
       "  })({\"config\": {\"view\": {\"continuousWidth\": 400, \"continuousHeight\": 300}, \"title\": {\"anchor\": \"middle\", \"fontSize\": 18, \"subtitleFontSize\": 14}}, \"data\": {\"name\": \"data-4f53cda18c2baa0c0354bb5f9a3ecbe5\"}, \"mark\": {\"type\": \"point\", \"filled\": false, \"opacity\": 0.7, \"size\": 100}, \"encoding\": {\"color\": {\"field\": \"estimate_description\", \"type\": \"nominal\"}, \"column\": {\"align\": \"each\", \"field\": \"col_header\", \"header\": {\"labelFontSize\": 14, \"labelFontWeight\": \"bold\"}, \"title\": null, \"type\": \"nominal\"}, \"row\": {\"align\": \"each\", \"field\": \"comparison_name\", \"header\": {\"labelAlign\": \"left\", \"labelAnchor\": \"middle\", \"labelAngle\": 0, \"labelFontSize\": 12, \"labelFontWeight\": \"bold\"}, \"sort\": {\"field\": \"comparison_sort_order\"}, \"title\": null, \"type\": \"nominal\"}, \"shape\": {\"field\": \"estimate_description\", \"scale\": {\"range\": [\"circle\", \"square\", \"triangle\", \"diamond\"]}, \"type\": \"nominal\"}, \"tooltip\": [{\"field\": \"comparison_name\", \"type\": \"nominal\"}, {\"field\": \"estimate_description\", \"type\": \"nominal\"}, {\"field\": \"estimated_probability\", \"type\": \"quantitative\"}], \"x\": {\"axis\": {\"gridColor\": {\"condition\": {\"test\": \"abs(datum.value / 10)  <= 1 & datum.value % 10 === 0\", \"value\": \"#aaa\"}, \"value\": \"#ddd\"}, \"gridDash\": {\"condition\": {\"test\": \"abs(datum.value / 10) == 1\", \"value\": [3]}, \"value\": null}, \"gridWidth\": {\"condition\": {\"test\": \"abs(datum.value / 10)  <= 1 & datum.value % 10 === 0\", \"value\": 2}, \"value\": 1}}, \"field\": \"estimated_probability_as_log_odds\", \"title\": \"Estimated probability as log odds\", \"type\": \"quantitative\"}, \"y\": {\"axis\": {\"grid\": true, \"title\": null}, \"field\": \"comparison_level_label\", \"sort\": {\"field\": \"comparison_vector_value\", \"order\": \"descending\"}, \"type\": \"nominal\"}}, \"params\": [{\"name\": \"mouse_zoom\", \"select\": {\"type\": \"interval\", \"encodings\": [\"x\"]}, \"bind\": \"scales\"}], \"resolve\": {\"scale\": {\"y\": \"independent\"}}, \"title\": {\"text\": \"Comparison of parameter estimates across training sessions\", \"subtitle\": \"Use mousewheel to zoom\"}, \"transform\": [{\"calculate\": \"datum.m_or_u + '-probability (as log odds)'\", \"as\": \"col_header\"}], \"$schema\": \"https://vega.github.io/schema/vega-lite/v5.9.3.json\", \"datasets\": {\"data-4f53cda18c2baa0c0354bb5f9a3ecbe5\": []}}, {\"mode\": \"vega-lite\"});\n",
       "</script>"
      ],
      "text/plain": [
       "alt.Chart(...)"
      ]
     },
     "metadata": {},
     "output_type": "display_data"
    }
   ],
   "source": [
    "display_of_model_visualizations = visualize_model(linker)"
   ]
  },
  {
   "cell_type": "code",
   "execution_count": 15,
   "metadata": {},
   "outputs": [],
   "source": [
    "def generate_predictions(linker, prediction_path: str, cluster_path: str,threshold: float):\n",
    "    df_predictions = linker.inference.predict()\n",
    "    df_predictions_pd = df_predictions.as_pandas_dataframe() \n",
    "    df_predictions_pd = df_predictions_pd[df_predictions_pd[\"match_probability\"] > threshold]\n",
    "    df_predictions_pd.to_csv(prediction_path, index=False)\n",
    "\n",
    "    clusters = linker.clustering.cluster_pairwise_predictions_at_threshold(\n",
    "        df_predictions, threshold_match_probability=threshold)\n",
    "    clusters_pd = clusters.as_pandas_dataframe()\n",
    "    clusters_pd.to_csv(cluster_path, index=False)\n",
    "    return df_predictions_pd, clusters_pd\n"
   ]
  },
  {
   "cell_type": "code",
   "execution_count": 16,
   "metadata": {},
   "outputs": [
    {
     "name": "stderr",
     "output_type": "stream",
     "text": [
      "Blocking time: 1.55 seconds\n"
     ]
    },
    {
     "data": {
      "application/vnd.jupyter.widget-view+json": {
       "model_id": "f5e99dc0ed5248d9a6fb3534ac94ac1e",
       "version_major": 2,
       "version_minor": 0
      },
      "text/plain": [
       "FloatProgress(value=0.0, layout=Layout(width='auto'), style=ProgressStyle(bar_color='black'))"
      ]
     },
     "metadata": {},
     "output_type": "display_data"
    },
    {
     "name": "stderr",
     "output_type": "stream",
     "text": [
      "Predict time: 15.72 seconds\n",
      "\n",
      " -- WARNING --\n",
      "You have called predict(), but there are some parameter estimates which have neither been estimated or specified in your settings dictionary.  To produce predictions the following untrained trained parameters will use default values.\n",
      "Comparison: 'first_name':\n",
      "    m values not fully trained\n",
      "Comparison: 'first_name':\n",
      "    u values not fully trained\n",
      "Comparison: 'last_name':\n",
      "    m values not fully trained\n",
      "Comparison: 'last_name':\n",
      "    u values not fully trained\n",
      "Comparison: 'email':\n",
      "    u values not fully trained\n",
      "Comparison: 'phone':\n",
      "    m values not fully trained\n",
      "Comparison: 'phone':\n",
      "    u values not fully trained\n",
      "Comparison: 'street':\n",
      "    m values not fully trained\n",
      "Comparison: 'street':\n",
      "    u values not fully trained\n",
      "Comparison: 'city':\n",
      "    m values not fully trained\n",
      "Comparison: 'city':\n",
      "    u values not fully trained\n",
      "Comparison: 'state':\n",
      "    m values not fully trained\n",
      "Comparison: 'state':\n",
      "    u values not fully trained\n",
      "Comparison: 'zip':\n",
      "    m values not fully trained\n",
      "Comparison: 'zip':\n",
      "    u values not fully trained\n",
      "Completed iteration 1, num representatives needing updating: 3608\n",
      "Completed iteration 2, num representatives needing updating: 2429\n",
      "Completed iteration 3, num representatives needing updating: 2118\n",
      "Completed iteration 4, num representatives needing updating: 1758\n",
      "Completed iteration 5, num representatives needing updating: 1051\n",
      "Completed iteration 6, num representatives needing updating: 568\n",
      "Completed iteration 7, num representatives needing updating: 262\n",
      "Completed iteration 8, num representatives needing updating: 93\n",
      "Completed iteration 9, num representatives needing updating: 29\n",
      "Completed iteration 10, num representatives needing updating: 15\n",
      "Completed iteration 11, num representatives needing updating: 9\n",
      "Completed iteration 12, num representatives needing updating: 7\n",
      "Completed iteration 13, num representatives needing updating: 3\n",
      "Completed iteration 14, num representatives needing updating: 0\n"
     ]
    }
   ],
   "source": [
    "df_preds, clusters = generate_predictions(linker, \"splink_predictions.csv\", \"splink_clusters.csv\",0.99)"
   ]
  },
  {
   "cell_type": "code",
   "execution_count": 17,
   "metadata": {},
   "outputs": [],
   "source": [
    "def get_deduped_id_mapping(df: pd.DataFrame) -> Dict[int, int]:\n",
    "    \"\"\"Create a mapping of deduplicated IDs, mapping unique_id_r to the smallest unique_id_l.\"\"\"\n",
    "    deduped_ids = df.groupby('unique_id_r')['unique_id_l'].first().reset_index()\n",
    "    id_mapping = pd.Series(deduped_ids['unique_id_l'].values, index=deduped_ids['unique_id_r']).to_dict()\n",
    "    int_id_mapping = {int(k): int(v) for k, v in id_mapping.items()}\n",
    "    return int_id_mapping\n",
    "\n",
    "\n",
    "def deduplicate_by_mapped_ids(df: pd.DataFrame,column_name:str,id_mapping,output_path:str) -> None:\n",
    "    \"\"\"Convert the 'unique_id' column to integer type if necessary.\"\"\"\n",
    "    if df[column_name].dtype != 'int64':\n",
    "        df[column_name] = df[column_name].astype(int)\n",
    "    df.loc[:, column_name] = df[column_name].replace(id_mapping)\n",
    "    df = df.drop_duplicates(subset=column_name, keep='last')\n",
    "    df.to_csv(output_path,index=False)\n"
   ]
  },
  {
   "cell_type": "code",
   "execution_count": 18,
   "metadata": {},
   "outputs": [],
   "source": [
    "int_mapping = get_deduped_id_mapping(df_preds)\n",
    "deduplicate_by_mapped_ids(combined_df,\"unique_id\",int_mapping,\"merged.csv\")"
   ]
  },
  {
   "cell_type": "code",
   "execution_count": 19,
   "metadata": {},
   "outputs": [
    {
     "name": "stdout",
     "output_type": "stream",
     "text": [
      "Saved labelling template to: labels_template.csv. Fill 'match' with 1/0 and save as a new file.\n"
     ]
    }
   ],
   "source": [
    "# Create a labeling template from predictions for manual labelling\n",
    "# It saves unique_id_l, unique_id_r, and an empty 'match' column you can fill with 1 (match) or 0 (non-match)\n",
    "\n",
    "def create_labels_template(df_predictions: pd.DataFrame, path: str = \"labels_template.csv\", n: int = 300):\n",
    "    if df_predictions is None or df_predictions.empty:\n",
    "        print(\"No predictions available. Run prediction first.\")\n",
    "        raise SystemExit\n",
    "    cols_needed = {\"unique_id_l\", \"unique_id_r\", \"match_probability\"}\n",
    "    missing = cols_needed - set(df_predictions.columns)\n",
    "    if missing:\n",
    "        print(f\"Predictions missing required columns: {missing}\")\n",
    "        raise SystemExit\n",
    "    # sample top-N high-confidence pairs to make labelling easier\n",
    "    sample = (\n",
    "        df_predictions[[\"unique_id_l\", \"unique_id_r\", \"match_probability\"]]\n",
    "        .drop_duplicates(subset=[\"unique_id_l\", \"unique_id_r\"])  # ensure unique pairs\n",
    "        .sort_values(\"match_probability\", ascending=False)\n",
    "        .head(n)\n",
    "        .copy()\n",
    "    )\n",
    "    sample[\"match\"] = \"\"  # leave empty for you to fill 1/0\n",
    "    sample[[\"unique_id_l\", \"unique_id_r\", \"match\"]].to_csv(path, index=False)\n",
    "    print(f\"Saved labelling template to: {path}. Fill 'match' with 1/0 and save as a new file.\")\n",
    "\n",
    "# Generate the template (adjust n if you want more/less rows)\n",
    "create_labels_template(df_preds, path=\"labels_template.csv\", n=300)\n"
   ]
  },
  {
   "cell_type": "code",
   "execution_count": 20,
   "metadata": {},
   "outputs": [
    {
     "name": "stdout",
     "output_type": "stream",
     "text": [
      "Saved labelling template to: labels_template.csv. Fill 'match' with 1/0 and save as a new file.\n"
     ]
    }
   ],
   "source": [
    "# If predictions are not in memory, load from disk and create labels template\n",
    "preds_path = \"splink_predictions.csv\"\n",
    "if 'df_preds' not in globals() or df_preds is None or df_preds.empty:\n",
    "    if os.path.exists(preds_path):\n",
    "        df_preds = pd.read_csv(preds_path)\n",
    "        print(f\"Loaded predictions from: {preds_path} ({len(df_preds):,} rows)\")\n",
    "    else:\n",
    "        raise FileNotFoundError(f\"{preds_path} not found. Please run predictions first.\")\n",
    "\n",
    "# Create a labels template from predictions (you fill 'match' = 1/0)\n",
    "create_labels_template(df_preds, path=\"labels_template.csv\", n=300)\n"
   ]
  },
  {
   "cell_type": "code",
   "execution_count": 21,
   "metadata": {},
   "outputs": [
    {
     "name": "stdout",
     "output_type": "stream",
     "text": [
      "Best threshold by F1:\n"
     ]
    },
    {
     "data": {
      "text/html": [
       "<div>\n",
       "<style scoped>\n",
       "    .dataframe tbody tr th:only-of-type {\n",
       "        vertical-align: middle;\n",
       "    }\n",
       "\n",
       "    .dataframe tbody tr th {\n",
       "        vertical-align: top;\n",
       "    }\n",
       "\n",
       "    .dataframe thead th {\n",
       "        text-align: right;\n",
       "    }\n",
       "</style>\n",
       "<table border=\"1\" class=\"dataframe\">\n",
       "  <thead>\n",
       "    <tr style=\"text-align: right;\">\n",
       "      <th></th>\n",
       "      <th>threshold</th>\n",
       "      <th>tp</th>\n",
       "      <th>fp</th>\n",
       "      <th>fn</th>\n",
       "      <th>precision</th>\n",
       "      <th>recall</th>\n",
       "      <th>f1</th>\n",
       "    </tr>\n",
       "  </thead>\n",
       "  <tbody>\n",
       "    <tr>\n",
       "      <th>0</th>\n",
       "      <td>0.0</td>\n",
       "      <td>0</td>\n",
       "      <td>300</td>\n",
       "      <td>0</td>\n",
       "      <td>0.0</td>\n",
       "      <td>0.0</td>\n",
       "      <td>0.0</td>\n",
       "    </tr>\n",
       "  </tbody>\n",
       "</table>\n",
       "</div>"
      ],
      "text/plain": [
       "   threshold  tp   fp  fn  precision  recall   f1\n",
       "0        0.0   0  300   0        0.0     0.0  0.0"
      ]
     },
     "metadata": {},
     "output_type": "display_data"
    },
    {
     "data": {
      "application/vnd.plotly.v1+json": {
       "config": {
        "plotlyServerURL": "https://plot.ly"
       },
       "data": [
        {
         "hovertemplate": "metric=precision<br>threshold=%{x}<br>value=%{y}<extra></extra>",
         "legendgroup": "precision",
         "line": {
          "color": "#636efa",
          "dash": "solid"
         },
         "marker": {
          "symbol": "circle"
         },
         "mode": "lines",
         "name": "precision",
         "orientation": "v",
         "showlegend": true,
         "type": "scatter",
         "x": {
          "bdata": "AAAAAAAAAAD9xZsVh+CUP/3FmxWH4KQ//KhpoMpQrz/9xZsVh+C0P3y3AtuoGLo//KhpoMpQvz89TegydkTCP/3FmxWH4MQ/vT5P+Jd8xz98twLbqBjKPzwwtr25tMw//KhpoMpQzz/ekI7BbfbQPz1N6DJ2RNI/nQlCpH6S0z/9xZsVh+DUP12C9YaPLtY/vT5P+Jd81z8c+6hpoMrYP3y3AtuoGNo/3HNcTLFm2z88MLa9ubTcP5zsDy/CAt4//KhpoMpQ3z+usuGIaU/gP96QjsFt9uA/DW87+nGd4T89TegydkTiP20rlWt66+I/nQlCpH6S4z/N5+7cgjnkP/3FmxWH4OQ/LaRITouH5T9dgvWGjy7mP41gor+T1eY/vT5P+Jd85z/tHPwwnCPoPxz7qGmgyug/TNlVoqRx6T98twLbqBjqP6yVrxOtv+o/3HNcTLFm6z8MUgmFtQ3sPzwwtr25tOw/bA5j9r1b7T+c7A8vwgLuP8zKvGfGqe4//KhpoMpQ7z8rhxbZzvfvPw==",
          "dtype": "f8"
         },
         "xaxis": "x",
         "y": {
          "bdata": "AAAAAAAAAAAAAAAAAAAAAAAAAAAAAAAAAAAAAAAAAAAAAAAAAAAAAAAAAAAAAAAAAAAAAAAAAAAAAAAAAAAAAAAAAAAAAAAAAAAAAAAAAAAAAAAAAAAAAAAAAAAAAAAAAAAAAAAAAAAAAAAAAAAAAAAAAAAAAAAAAAAAAAAAAAAAAAAAAAAAAAAAAAAAAAAAAAAAAAAAAAAAAAAAAAAAAAAAAAAAAAAAAAAAAAAAAAAAAAAAAAAAAAAAAAAAAAAAAAAAAAAAAAAAAAAAAAAAAAAAAAAAAAAAAAAAAAAAAAAAAAAAAAAAAAAAAAAAAAAAAAAAAAAAAAAAAAAAAAAAAAAAAAAAAAAAAAAAAAAAAAAAAAAAAAAAAAAAAAAAAAAAAAAAAAAAAAAAAAAAAAAAAAAAAAAAAAAAAAAAAAAAAAAAAAAAAAAAAAAAAAAAAAAAAAAAAAAAAAAAAAAAAAAAAAAAAAAAAAAAAAAAAAAAAAAAAAAAAAAAAAAAAAAAAAAAAAAAAAAAAAAAAAAAAAAAAA==",
          "dtype": "f8"
         },
         "yaxis": "y"
        },
        {
         "hovertemplate": "metric=recall<br>threshold=%{x}<br>value=%{y}<extra></extra>",
         "legendgroup": "recall",
         "line": {
          "color": "#EF553B",
          "dash": "solid"
         },
         "marker": {
          "symbol": "circle"
         },
         "mode": "lines",
         "name": "recall",
         "orientation": "v",
         "showlegend": true,
         "type": "scatter",
         "x": {
          "bdata": "AAAAAAAAAAD9xZsVh+CUP/3FmxWH4KQ//KhpoMpQrz/9xZsVh+C0P3y3AtuoGLo//KhpoMpQvz89TegydkTCP/3FmxWH4MQ/vT5P+Jd8xz98twLbqBjKPzwwtr25tMw//KhpoMpQzz/ekI7BbfbQPz1N6DJ2RNI/nQlCpH6S0z/9xZsVh+DUP12C9YaPLtY/vT5P+Jd81z8c+6hpoMrYP3y3AtuoGNo/3HNcTLFm2z88MLa9ubTcP5zsDy/CAt4//KhpoMpQ3z+usuGIaU/gP96QjsFt9uA/DW87+nGd4T89TegydkTiP20rlWt66+I/nQlCpH6S4z/N5+7cgjnkP/3FmxWH4OQ/LaRITouH5T9dgvWGjy7mP41gor+T1eY/vT5P+Jd85z/tHPwwnCPoPxz7qGmgyug/TNlVoqRx6T98twLbqBjqP6yVrxOtv+o/3HNcTLFm6z8MUgmFtQ3sPzwwtr25tOw/bA5j9r1b7T+c7A8vwgLuP8zKvGfGqe4//KhpoMpQ7z8rhxbZzvfvPw==",
          "dtype": "f8"
         },
         "xaxis": "x",
         "y": {
          "bdata": "AAAAAAAAAAAAAAAAAAAAAAAAAAAAAAAAAAAAAAAAAAAAAAAAAAAAAAAAAAAAAAAAAAAAAAAAAAAAAAAAAAAAAAAAAAAAAAAAAAAAAAAAAAAAAAAAAAAAAAAAAAAAAAAAAAAAAAAAAAAAAAAAAAAAAAAAAAAAAAAAAAAAAAAAAAAAAAAAAAAAAAAAAAAAAAAAAAAAAAAAAAAAAAAAAAAAAAAAAAAAAAAAAAAAAAAAAAAAAAAAAAAAAAAAAAAAAAAAAAAAAAAAAAAAAAAAAAAAAAAAAAAAAAAAAAAAAAAAAAAAAAAAAAAAAAAAAAAAAAAAAAAAAAAAAAAAAAAAAAAAAAAAAAAAAAAAAAAAAAAAAAAAAAAAAAAAAAAAAAAAAAAAAAAAAAAAAAAAAAAAAAAAAAAAAAAAAAAAAAAAAAAAAAAAAAAAAAAAAAAAAAAAAAAAAAAAAAAAAAAAAAAAAAAAAAAAAAAAAAAAAAAAAAAAAAAAAAAAAAAAAAAAAAAAAAAAAAAAAAAAAAAAAAAAAAAAAA==",
          "dtype": "f8"
         },
         "yaxis": "y"
        },
        {
         "hovertemplate": "metric=f1<br>threshold=%{x}<br>value=%{y}<extra></extra>",
         "legendgroup": "f1",
         "line": {
          "color": "#00cc96",
          "dash": "solid"
         },
         "marker": {
          "symbol": "circle"
         },
         "mode": "lines",
         "name": "f1",
         "orientation": "v",
         "showlegend": true,
         "type": "scatter",
         "x": {
          "bdata": "AAAAAAAAAAD9xZsVh+CUP/3FmxWH4KQ//KhpoMpQrz/9xZsVh+C0P3y3AtuoGLo//KhpoMpQvz89TegydkTCP/3FmxWH4MQ/vT5P+Jd8xz98twLbqBjKPzwwtr25tMw//KhpoMpQzz/ekI7BbfbQPz1N6DJ2RNI/nQlCpH6S0z/9xZsVh+DUP12C9YaPLtY/vT5P+Jd81z8c+6hpoMrYP3y3AtuoGNo/3HNcTLFm2z88MLa9ubTcP5zsDy/CAt4//KhpoMpQ3z+usuGIaU/gP96QjsFt9uA/DW87+nGd4T89TegydkTiP20rlWt66+I/nQlCpH6S4z/N5+7cgjnkP/3FmxWH4OQ/LaRITouH5T9dgvWGjy7mP41gor+T1eY/vT5P+Jd85z/tHPwwnCPoPxz7qGmgyug/TNlVoqRx6T98twLbqBjqP6yVrxOtv+o/3HNcTLFm6z8MUgmFtQ3sPzwwtr25tOw/bA5j9r1b7T+c7A8vwgLuP8zKvGfGqe4//KhpoMpQ7z8rhxbZzvfvPw==",
          "dtype": "f8"
         },
         "xaxis": "x",
         "y": {
          "bdata": "AAAAAAAAAAAAAAAAAAAAAAAAAAAAAAAAAAAAAAAAAAAAAAAAAAAAAAAAAAAAAAAAAAAAAAAAAAAAAAAAAAAAAAAAAAAAAAAAAAAAAAAAAAAAAAAAAAAAAAAAAAAAAAAAAAAAAAAAAAAAAAAAAAAAAAAAAAAAAAAAAAAAAAAAAAAAAAAAAAAAAAAAAAAAAAAAAAAAAAAAAAAAAAAAAAAAAAAAAAAAAAAAAAAAAAAAAAAAAAAAAAAAAAAAAAAAAAAAAAAAAAAAAAAAAAAAAAAAAAAAAAAAAAAAAAAAAAAAAAAAAAAAAAAAAAAAAAAAAAAAAAAAAAAAAAAAAAAAAAAAAAAAAAAAAAAAAAAAAAAAAAAAAAAAAAAAAAAAAAAAAAAAAAAAAAAAAAAAAAAAAAAAAAAAAAAAAAAAAAAAAAAAAAAAAAAAAAAAAAAAAAAAAAAAAAAAAAAAAAAAAAAAAAAAAAAAAAAAAAAAAAAAAAAAAAAAAAAAAAAAAAAAAAAAAAAAAAAAAAAAAAAAAAAAAAAAAA==",
          "dtype": "f8"
         },
         "yaxis": "y"
        }
       ],
       "layout": {
        "height": 600,
        "legend": {
         "title": {
          "text": "metric"
         },
         "tracegroupgap": 0
        },
        "template": {
         "data": {
          "bar": [
           {
            "error_x": {
             "color": "#2a3f5f"
            },
            "error_y": {
             "color": "#2a3f5f"
            },
            "marker": {
             "line": {
              "color": "#E5ECF6",
              "width": 0.5
             },
             "pattern": {
              "fillmode": "overlay",
              "size": 10,
              "solidity": 0.2
             }
            },
            "type": "bar"
           }
          ],
          "barpolar": [
           {
            "marker": {
             "line": {
              "color": "#E5ECF6",
              "width": 0.5
             },
             "pattern": {
              "fillmode": "overlay",
              "size": 10,
              "solidity": 0.2
             }
            },
            "type": "barpolar"
           }
          ],
          "carpet": [
           {
            "aaxis": {
             "endlinecolor": "#2a3f5f",
             "gridcolor": "white",
             "linecolor": "white",
             "minorgridcolor": "white",
             "startlinecolor": "#2a3f5f"
            },
            "baxis": {
             "endlinecolor": "#2a3f5f",
             "gridcolor": "white",
             "linecolor": "white",
             "minorgridcolor": "white",
             "startlinecolor": "#2a3f5f"
            },
            "type": "carpet"
           }
          ],
          "choropleth": [
           {
            "colorbar": {
             "outlinewidth": 0,
             "ticks": ""
            },
            "type": "choropleth"
           }
          ],
          "contour": [
           {
            "colorbar": {
             "outlinewidth": 0,
             "ticks": ""
            },
            "colorscale": [
             [
              0,
              "#0d0887"
             ],
             [
              0.1111111111111111,
              "#46039f"
             ],
             [
              0.2222222222222222,
              "#7201a8"
             ],
             [
              0.3333333333333333,
              "#9c179e"
             ],
             [
              0.4444444444444444,
              "#bd3786"
             ],
             [
              0.5555555555555556,
              "#d8576b"
             ],
             [
              0.6666666666666666,
              "#ed7953"
             ],
             [
              0.7777777777777778,
              "#fb9f3a"
             ],
             [
              0.8888888888888888,
              "#fdca26"
             ],
             [
              1,
              "#f0f921"
             ]
            ],
            "type": "contour"
           }
          ],
          "contourcarpet": [
           {
            "colorbar": {
             "outlinewidth": 0,
             "ticks": ""
            },
            "type": "contourcarpet"
           }
          ],
          "heatmap": [
           {
            "colorbar": {
             "outlinewidth": 0,
             "ticks": ""
            },
            "colorscale": [
             [
              0,
              "#0d0887"
             ],
             [
              0.1111111111111111,
              "#46039f"
             ],
             [
              0.2222222222222222,
              "#7201a8"
             ],
             [
              0.3333333333333333,
              "#9c179e"
             ],
             [
              0.4444444444444444,
              "#bd3786"
             ],
             [
              0.5555555555555556,
              "#d8576b"
             ],
             [
              0.6666666666666666,
              "#ed7953"
             ],
             [
              0.7777777777777778,
              "#fb9f3a"
             ],
             [
              0.8888888888888888,
              "#fdca26"
             ],
             [
              1,
              "#f0f921"
             ]
            ],
            "type": "heatmap"
           }
          ],
          "histogram": [
           {
            "marker": {
             "pattern": {
              "fillmode": "overlay",
              "size": 10,
              "solidity": 0.2
             }
            },
            "type": "histogram"
           }
          ],
          "histogram2d": [
           {
            "colorbar": {
             "outlinewidth": 0,
             "ticks": ""
            },
            "colorscale": [
             [
              0,
              "#0d0887"
             ],
             [
              0.1111111111111111,
              "#46039f"
             ],
             [
              0.2222222222222222,
              "#7201a8"
             ],
             [
              0.3333333333333333,
              "#9c179e"
             ],
             [
              0.4444444444444444,
              "#bd3786"
             ],
             [
              0.5555555555555556,
              "#d8576b"
             ],
             [
              0.6666666666666666,
              "#ed7953"
             ],
             [
              0.7777777777777778,
              "#fb9f3a"
             ],
             [
              0.8888888888888888,
              "#fdca26"
             ],
             [
              1,
              "#f0f921"
             ]
            ],
            "type": "histogram2d"
           }
          ],
          "histogram2dcontour": [
           {
            "colorbar": {
             "outlinewidth": 0,
             "ticks": ""
            },
            "colorscale": [
             [
              0,
              "#0d0887"
             ],
             [
              0.1111111111111111,
              "#46039f"
             ],
             [
              0.2222222222222222,
              "#7201a8"
             ],
             [
              0.3333333333333333,
              "#9c179e"
             ],
             [
              0.4444444444444444,
              "#bd3786"
             ],
             [
              0.5555555555555556,
              "#d8576b"
             ],
             [
              0.6666666666666666,
              "#ed7953"
             ],
             [
              0.7777777777777778,
              "#fb9f3a"
             ],
             [
              0.8888888888888888,
              "#fdca26"
             ],
             [
              1,
              "#f0f921"
             ]
            ],
            "type": "histogram2dcontour"
           }
          ],
          "mesh3d": [
           {
            "colorbar": {
             "outlinewidth": 0,
             "ticks": ""
            },
            "type": "mesh3d"
           }
          ],
          "parcoords": [
           {
            "line": {
             "colorbar": {
              "outlinewidth": 0,
              "ticks": ""
             }
            },
            "type": "parcoords"
           }
          ],
          "pie": [
           {
            "automargin": true,
            "type": "pie"
           }
          ],
          "scatter": [
           {
            "fillpattern": {
             "fillmode": "overlay",
             "size": 10,
             "solidity": 0.2
            },
            "type": "scatter"
           }
          ],
          "scatter3d": [
           {
            "line": {
             "colorbar": {
              "outlinewidth": 0,
              "ticks": ""
             }
            },
            "marker": {
             "colorbar": {
              "outlinewidth": 0,
              "ticks": ""
             }
            },
            "type": "scatter3d"
           }
          ],
          "scattercarpet": [
           {
            "marker": {
             "colorbar": {
              "outlinewidth": 0,
              "ticks": ""
             }
            },
            "type": "scattercarpet"
           }
          ],
          "scattergeo": [
           {
            "marker": {
             "colorbar": {
              "outlinewidth": 0,
              "ticks": ""
             }
            },
            "type": "scattergeo"
           }
          ],
          "scattergl": [
           {
            "marker": {
             "colorbar": {
              "outlinewidth": 0,
              "ticks": ""
             }
            },
            "type": "scattergl"
           }
          ],
          "scattermap": [
           {
            "marker": {
             "colorbar": {
              "outlinewidth": 0,
              "ticks": ""
             }
            },
            "type": "scattermap"
           }
          ],
          "scattermapbox": [
           {
            "marker": {
             "colorbar": {
              "outlinewidth": 0,
              "ticks": ""
             }
            },
            "type": "scattermapbox"
           }
          ],
          "scatterpolar": [
           {
            "marker": {
             "colorbar": {
              "outlinewidth": 0,
              "ticks": ""
             }
            },
            "type": "scatterpolar"
           }
          ],
          "scatterpolargl": [
           {
            "marker": {
             "colorbar": {
              "outlinewidth": 0,
              "ticks": ""
             }
            },
            "type": "scatterpolargl"
           }
          ],
          "scatterternary": [
           {
            "marker": {
             "colorbar": {
              "outlinewidth": 0,
              "ticks": ""
             }
            },
            "type": "scatterternary"
           }
          ],
          "surface": [
           {
            "colorbar": {
             "outlinewidth": 0,
             "ticks": ""
            },
            "colorscale": [
             [
              0,
              "#0d0887"
             ],
             [
              0.1111111111111111,
              "#46039f"
             ],
             [
              0.2222222222222222,
              "#7201a8"
             ],
             [
              0.3333333333333333,
              "#9c179e"
             ],
             [
              0.4444444444444444,
              "#bd3786"
             ],
             [
              0.5555555555555556,
              "#d8576b"
             ],
             [
              0.6666666666666666,
              "#ed7953"
             ],
             [
              0.7777777777777778,
              "#fb9f3a"
             ],
             [
              0.8888888888888888,
              "#fdca26"
             ],
             [
              1,
              "#f0f921"
             ]
            ],
            "type": "surface"
           }
          ],
          "table": [
           {
            "cells": {
             "fill": {
              "color": "#EBF0F8"
             },
             "line": {
              "color": "white"
             }
            },
            "header": {
             "fill": {
              "color": "#C8D4E3"
             },
             "line": {
              "color": "white"
             }
            },
            "type": "table"
           }
          ]
         },
         "layout": {
          "annotationdefaults": {
           "arrowcolor": "#2a3f5f",
           "arrowhead": 0,
           "arrowwidth": 1
          },
          "autotypenumbers": "strict",
          "coloraxis": {
           "colorbar": {
            "outlinewidth": 0,
            "ticks": ""
           }
          },
          "colorscale": {
           "diverging": [
            [
             0,
             "#8e0152"
            ],
            [
             0.1,
             "#c51b7d"
            ],
            [
             0.2,
             "#de77ae"
            ],
            [
             0.3,
             "#f1b6da"
            ],
            [
             0.4,
             "#fde0ef"
            ],
            [
             0.5,
             "#f7f7f7"
            ],
            [
             0.6,
             "#e6f5d0"
            ],
            [
             0.7,
             "#b8e186"
            ],
            [
             0.8,
             "#7fbc41"
            ],
            [
             0.9,
             "#4d9221"
            ],
            [
             1,
             "#276419"
            ]
           ],
           "sequential": [
            [
             0,
             "#0d0887"
            ],
            [
             0.1111111111111111,
             "#46039f"
            ],
            [
             0.2222222222222222,
             "#7201a8"
            ],
            [
             0.3333333333333333,
             "#9c179e"
            ],
            [
             0.4444444444444444,
             "#bd3786"
            ],
            [
             0.5555555555555556,
             "#d8576b"
            ],
            [
             0.6666666666666666,
             "#ed7953"
            ],
            [
             0.7777777777777778,
             "#fb9f3a"
            ],
            [
             0.8888888888888888,
             "#fdca26"
            ],
            [
             1,
             "#f0f921"
            ]
           ],
           "sequentialminus": [
            [
             0,
             "#0d0887"
            ],
            [
             0.1111111111111111,
             "#46039f"
            ],
            [
             0.2222222222222222,
             "#7201a8"
            ],
            [
             0.3333333333333333,
             "#9c179e"
            ],
            [
             0.4444444444444444,
             "#bd3786"
            ],
            [
             0.5555555555555556,
             "#d8576b"
            ],
            [
             0.6666666666666666,
             "#ed7953"
            ],
            [
             0.7777777777777778,
             "#fb9f3a"
            ],
            [
             0.8888888888888888,
             "#fdca26"
            ],
            [
             1,
             "#f0f921"
            ]
           ]
          },
          "colorway": [
           "#636efa",
           "#EF553B",
           "#00cc96",
           "#ab63fa",
           "#FFA15A",
           "#19d3f3",
           "#FF6692",
           "#B6E880",
           "#FF97FF",
           "#FECB52"
          ],
          "font": {
           "color": "#2a3f5f"
          },
          "geo": {
           "bgcolor": "white",
           "lakecolor": "white",
           "landcolor": "#E5ECF6",
           "showlakes": true,
           "showland": true,
           "subunitcolor": "white"
          },
          "hoverlabel": {
           "align": "left"
          },
          "hovermode": "closest",
          "mapbox": {
           "style": "light"
          },
          "paper_bgcolor": "white",
          "plot_bgcolor": "#E5ECF6",
          "polar": {
           "angularaxis": {
            "gridcolor": "white",
            "linecolor": "white",
            "ticks": ""
           },
           "bgcolor": "#E5ECF6",
           "radialaxis": {
            "gridcolor": "white",
            "linecolor": "white",
            "ticks": ""
           }
          },
          "scene": {
           "xaxis": {
            "backgroundcolor": "#E5ECF6",
            "gridcolor": "white",
            "gridwidth": 2,
            "linecolor": "white",
            "showbackground": true,
            "ticks": "",
            "zerolinecolor": "white"
           },
           "yaxis": {
            "backgroundcolor": "#E5ECF6",
            "gridcolor": "white",
            "gridwidth": 2,
            "linecolor": "white",
            "showbackground": true,
            "ticks": "",
            "zerolinecolor": "white"
           },
           "zaxis": {
            "backgroundcolor": "#E5ECF6",
            "gridcolor": "white",
            "gridwidth": 2,
            "linecolor": "white",
            "showbackground": true,
            "ticks": "",
            "zerolinecolor": "white"
           }
          },
          "shapedefaults": {
           "line": {
            "color": "#2a3f5f"
           }
          },
          "ternary": {
           "aaxis": {
            "gridcolor": "white",
            "linecolor": "white",
            "ticks": ""
           },
           "baxis": {
            "gridcolor": "white",
            "linecolor": "white",
            "ticks": ""
           },
           "bgcolor": "#E5ECF6",
           "caxis": {
            "gridcolor": "white",
            "linecolor": "white",
            "ticks": ""
           }
          },
          "title": {
           "x": 0.05
          },
          "xaxis": {
           "automargin": true,
           "gridcolor": "white",
           "linecolor": "white",
           "ticks": "",
           "title": {
            "standoff": 15
           },
           "zerolinecolor": "white",
           "zerolinewidth": 2
          },
          "yaxis": {
           "automargin": true,
           "gridcolor": "white",
           "linecolor": "white",
           "ticks": "",
           "title": {
            "standoff": 15
           },
           "zerolinecolor": "white",
           "zerolinewidth": 2
          }
         }
        },
        "title": {
         "text": "Precision/Recall/F1 vs Threshold"
        },
        "width": 1200,
        "xaxis": {
         "anchor": "y",
         "domain": [
          0,
          1
         ],
         "title": {
          "text": "threshold"
         }
        },
        "yaxis": {
         "anchor": "x",
         "domain": [
          0,
          1
         ],
         "title": {
          "text": "value"
         }
        }
       }
      }
     },
     "metadata": {},
     "output_type": "display_data"
    }
   ],
   "source": [
    "# Load a user-labelled CSV and run accuracy analysis (custom, no Splink table APIs)\n",
    "# Expected columns in labels: unique_id_l, unique_id_r, match (1/0)\n",
    "\n",
    "labels_csv_path = \"labels_filled.csv\"  # change if needed\n",
    "if os.path.exists(labels_csv_path):\n",
    "    labels_df = pd.read_csv(labels_csv_path)\n",
    "    missing = {\"unique_id_l\", \"unique_id_r\", \"match\"} - set(labels_df.columns)\n",
    "    if missing:\n",
    "        raise ValueError(f\"Labels file missing columns: {missing}\")\n",
    "\n",
    "    # Ensure dtypes\n",
    "    labels_df[\"unique_id_l\"] = labels_df[\"unique_id_l\"].astype(str)\n",
    "    labels_df[\"unique_id_r\"] = labels_df[\"unique_id_r\"].astype(str)\n",
    "    labels_df[\"match\"] = pd.to_numeric(labels_df[\"match\"], errors=\"coerce\").fillna(0).astype(int)\n",
    "\n",
    "    # Ensure predictions in memory\n",
    "    if 'df_preds' not in globals() or df_preds is None or df_preds.empty:\n",
    "        if os.path.exists(\"splink_predictions.csv\"):\n",
    "            df_preds = pd.read_csv(\"splink_predictions.csv\")\n",
    "        else:\n",
    "            raise FileNotFoundError(\"splink_predictions.csv not found. Run predictions first.\")\n",
    "\n",
    "    # Merge labels with predictions on pair ids\n",
    "    preds_pairs = df_preds[[\"unique_id_l\", \"unique_id_r\", \"match_probability\"]].copy()\n",
    "    preds_pairs[\"unique_id_l\"] = preds_pairs[\"unique_id_l\"].astype(str)\n",
    "    preds_pairs[\"unique_id_r\"] = preds_pairs[\"unique_id_r\"].astype(str)\n",
    "\n",
    "    data = labels_df.merge(preds_pairs, on=[\"unique_id_l\", \"unique_id_r\"], how=\"left\")\n",
    "    data[\"match_probability\"] = data[\"match_probability\"].fillna(0.0)\n",
    "\n",
    "    # Compute precision/recall/F1 across thresholds\n",
    "    thresholds = np.linspace(0.0, 0.999, 50)\n",
    "    rows = []\n",
    "    for t in thresholds:\n",
    "        pred = (data[\"match_probability\"] >= t).astype(int)\n",
    "        tp = int(((pred == 1) & (data[\"match\"] == 1)).sum())\n",
    "        fp = int(((pred == 1) & (data[\"match\"] == 0)).sum())\n",
    "        fn = int(((pred == 0) & (data[\"match\"] == 1)).sum())\n",
    "        precision = tp / (tp + fp) if (tp + fp) > 0 else 0.0\n",
    "        recall = tp / (tp + fn) if (tp + fn) > 0 else 0.0\n",
    "        f1 = (2 * precision * recall / (precision + recall)) if (precision + recall) > 0 else 0.0\n",
    "        rows.append({\"threshold\": t, \"tp\": tp, \"fp\": fp, \"fn\": fn, \"precision\": precision, \"recall\": recall, \"f1\": f1})\n",
    "\n",
    "    acc_df = pd.DataFrame(rows)\n",
    "    best = acc_df.sort_values(\"f1\", ascending=False).head(1)\n",
    "    print(\"Best threshold by F1:\")\n",
    "    display(best)\n",
    "\n",
    "    # Melt for chart\n",
    "    chart_df = acc_df.melt(id_vars=[\"threshold\"], value_vars=[\"precision\", \"recall\", \"f1\"], var_name=\"metric\", value_name=\"value\")\n",
    "    fig = px.line(chart_df, x=\"threshold\", y=\"value\", color=\"metric\", title=\"Precision/Recall/F1 vs Threshold\")\n",
    "    try:\n",
    "        fig.update_layout(width=1200, height=600)\n",
    "    except Exception:\n",
    "        pass\n",
    "    display(fig)\n",
    "else:\n",
    "    print(\"No labels file found. Fill 'labels_template.csv' and save as 'labels_filled.csv' to run accuracy analysis.\")\n"
   ]
  },
  {
   "cell_type": "code",
   "execution_count": 22,
   "metadata": {},
   "outputs": [
    {
     "name": "stdout",
     "output_type": "stream",
     "text": [
      "\n",
      "=== New Record (interactive=False) ===\n",
      "Searching for similar to: abhay pandey (abhaypandey@example.com)\n",
      "No similar records found via blocking. Its an Unique Record\n"
     ]
    }
   ],
   "source": [
    "# --- Robust Interactive Record Lookup using Existing Predictions (safe, no UnboundLocalError) ---\n",
    "\n",
    "def find_similar_records_for_new_input(new_record: dict = None, interactive: bool = False):\n",
    "    \"\"\"\n",
    "    Use existing predictions/clusters to:\n",
    "    - Find most similar pairs by match_probability\n",
    "    - Show clusters containing those records\n",
    "    - Assess likelihood of duplicate vs unique\n",
    "\n",
    "    Params:\n",
    "    - new_record: optional dict with keys first_name,last_name,email,phone,address,city,zip\n",
    "    - interactive: if True, prompt with input(); otherwise use new_record or defaults\n",
    "    \"\"\"\n",
    "    \n",
    "    # Access globals safely\n",
    "    df_preds_local = globals().get('df_preds', None)\n",
    "    clusters_local = globals().get('clusters', None)\n",
    "    combined_df_local = globals().get('combined_df', None)\n",
    "\n",
    "    # Load predictions if not present\n",
    "    if df_preds_local is None or getattr(df_preds_local, 'empty', True):\n",
    "        if os.path.exists('splink_predictions.csv'):\n",
    "            df_preds_local = pd.read_csv('splink_predictions.csv')\n",
    "            print(f\"Loaded predictions: {len(df_preds_local):,} rows\")\n",
    "        else:\n",
    "            print(\"splink_predictions.csv not found. Please run predictions first.\")\n",
    "            return\n",
    "\n",
    "    # Load clusters if not present\n",
    "    if clusters_local is None or getattr(clusters_local, 'empty', True):\n",
    "        if os.path.exists('splink_clusters.csv'):\n",
    "            clusters_local = pd.read_csv('splink_clusters.csv')\n",
    "            print(f\"Loaded clusters: {len(clusters_local):,} rows\")\n",
    "        else:\n",
    "            print(\"splink_clusters.csv not found. Please run clustering first.\")\n",
    "            return\n",
    "\n",
    "    # Ensure combined_df is available for record detail display\n",
    "    if combined_df_local is None or getattr(combined_df_local, 'empty', True):\n",
    "        if os.path.exists('merged.csv'):\n",
    "            try:\n",
    "                combined_df_local = pd.read_csv('merged.csv')\n",
    "                print(\"Loaded 'merged.csv' for record detail display.\")\n",
    "            except Exception:\n",
    "                print(\"combined_df not found in memory. Please run earlier cells to build it.\")\n",
    "                return\n",
    "        else:\n",
    "            print(\"combined_df not found in memory. Please run earlier cells to build it.\")\n",
    "            return\n",
    "\n",
    "    # Validate required columns in predictions\n",
    "    required_pred_cols = {\"unique_id_l\", \"unique_id_r\", \"match_probability\"}\n",
    "    missing_pred = required_pred_cols - set(df_preds_local.columns)\n",
    "    if missing_pred:\n",
    "        print(f\"Predictions missing columns: {missing_pred}\")\n",
    "        return\n",
    "\n",
    "    # Coerce ID columns to numeric safely\n",
    "    for c in [\"unique_id_l\", \"unique_id_r\"]:\n",
    "        df_preds_local[c] = pd.to_numeric(df_preds_local[c], errors='coerce')\n",
    "    df_preds_local = df_preds_local.dropna(subset=[\"unique_id_l\", \"unique_id_r\"]).copy()\n",
    "    df_preds_local[\"unique_id_l\"] = df_preds_local[\"unique_id_l\"].astype(int)\n",
    "    df_preds_local[\"unique_id_r\"] = df_preds_local[\"unique_id_r\"].astype(int)\n",
    "\n",
    "    # Coerce combined_df unique_id for joining/lookup\n",
    "    if \"unique_id\" not in combined_df_local.columns:\n",
    "        print(\"combined_df is missing 'unique_id' column. Please re-run combine step.\")\n",
    "        return\n",
    "    combined_df_local[\"_unique_id_int\"] = pd.to_numeric(combined_df_local[\"unique_id\"], errors='coerce').astype('Int64')\n",
    "\n",
    "    # Build new_record\n",
    "    if new_record is None:\n",
    "        new_record = {}\n",
    "    def get_val(key, prompt, default=\"\"):\n",
    "        if interactive:\n",
    "            return input(prompt).strip()\n",
    "        return str(new_record.get(key, default)).strip()\n",
    "\n",
    "    print(\"\\n=== New Record (interactive=\" + (\"True\" if interactive else \"False\") + \") ===\")\n",
    "    nr = {}\n",
    "    nr['first_name'] = get_val('first_name', \"First Name: \").lower()\n",
    "    nr['last_name']  = get_val('last_name',  \"Last Name: \").lower()\n",
    "    nr['email']      = get_val('email',      \"Email: \").lower()\n",
    "    nr['phone']      = get_val('phone',      \"Phone: \")\n",
    "    nr['address']    = get_val('address',    \"Address: \").lower()\n",
    "    nr['city']       = get_val('city',       \"City: \").lower()\n",
    "    nr['zip']        = get_val('zip',        \"ZIP/Postcode: \").upper()\n",
    "\n",
    "    # Derived fields\n",
    "    nr['full_name'] = (nr['first_name'] + ' ' + nr['last_name']).strip()\n",
    "    nr['first_name_metaphone'] = doublemetaphone(nr['first_name'])[0] if nr['first_name'] else ''\n",
    "    nr['last_name_metaphone']  = doublemetaphone(nr['last_name'])[0] if nr['last_name'] else ''\n",
    "    nr['email_domain'] = nr['email'].split('@')[1] if '@' in nr['email'] else ''\n",
    "\n",
    "    print(f\"Searching for similar to: {nr.get('full_name','')} ({nr.get('email','')})\")\n",
    "\n",
    "    # Blocking candidates\n",
    "    candidate_ids = set()\n",
    "    if nr['first_name'] and nr['last_name']:\n",
    "        m = combined_df_local[(combined_df_local.get('first_name','') == nr['first_name']) &\n",
    "                              (combined_df_local.get('last_name','')  == nr['last_name'])]\n",
    "        candidate_ids.update(m[\"_unique_id_int\"].dropna().astype(int).tolist())\n",
    "    if nr['first_name_metaphone'] and nr['last_name_metaphone']:\n",
    "        m = combined_df_local[(combined_df_local.get('first_name_metaphone','') == nr['first_name_metaphone']) &\n",
    "                              (combined_df_local.get('last_name_metaphone','')  == nr['last_name_metaphone'])]\n",
    "        candidate_ids.update(m[\"_unique_id_int\"].dropna().astype(int).tolist())\n",
    "    if nr['zip']:\n",
    "        m = combined_df_local[combined_df_local.get('zip','') == nr['zip']]\n",
    "        candidate_ids.update(m[\"_unique_id_int\"].dropna().astype(int).tolist())\n",
    "    if nr['email_domain']:\n",
    "        m = combined_df_local[combined_df_local.get('email_domain','') == nr['email_domain']]\n",
    "        candidate_ids.update(m[\"_unique_id_int\"].dropna().astype(int).tolist())\n",
    "\n",
    "    if not candidate_ids:\n",
    "        print(\"No similar records found via blocking. Its an Unique Record\")\n",
    "        return\n",
    "\n",
    "    preds_mask = df_preds_local['unique_id_l'].isin(candidate_ids) | df_preds_local['unique_id_r'].isin(candidate_ids)\n",
    "    candidate_predictions = df_preds_local.loc[preds_mask].copy()\n",
    "    if candidate_predictions.empty:\n",
    "        print(\"No prediction pairs found for the candidates.\")\n",
    "        return\n",
    "\n",
    "    candidate_predictions = candidate_predictions.sort_values('match_probability', ascending=False)\n",
    "\n",
    "    print(\"\\nTop matches:\")\n",
    "    for _, row in candidate_predictions.head(10).iterrows():\n",
    "        prob = row['match_probability']\n",
    "        id_l = int(row['unique_id_l'])\n",
    "        id_r = int(row['unique_id_r'])\n",
    "        rec_l = combined_df_local.loc[combined_df_local['_unique_id_int'] == id_l].head(1)\n",
    "        rec_r = combined_df_local.loc[combined_df_local['_unique_id_int'] == id_r].head(1)\n",
    "        print(f\"  p={prob:.4f}  L={id_l}  R={id_r}\")\n",
    "        if not rec_l.empty:\n",
    "            rl = rec_l.iloc[0]\n",
    "            print(f\"    L: {rl.get('full_name','')} | {rl.get('email','')} | {rl.get('phone','')}\")\n",
    "        if not rec_r.empty:\n",
    "            rr = rec_r.iloc[0]\n",
    "            print(f\"    R: {rr.get('full_name','')} | {rr.get('email','')} | {rr.get('phone','')}\")\n",
    "\n",
    "    print(\"\\nClusters containing candidates:\")\n",
    "    if 'cluster_id' not in clusters_local.columns or 'unique_id' not in clusters_local.columns:\n",
    "        print(\"Clusters file missing 'cluster_id' or 'unique_id' columns.\")\n",
    "        return\n",
    "    clusters_local['_unique_id_int'] = pd.to_numeric(clusters_local['unique_id'], errors='coerce').astype('Int64')\n",
    "    cluster_ids = clusters_local.loc[clusters_local['_unique_id_int'].isin(list(candidate_ids)), 'cluster_id'].dropna().unique().tolist()\n",
    "\n",
    "    if not cluster_ids:\n",
    "        print(\"  None\")\n",
    "    else:\n",
    "        print(f\"  Found {len(cluster_ids)}\")\n",
    "        for cid in cluster_ids[:5]:\n",
    "            members = clusters_local.loc[clusters_local['cluster_id'] == cid, '_unique_id_int'].dropna().astype(int).tolist()\n",
    "            details = combined_df_local.loc[combined_df_local['_unique_id_int'].isin(members)]\n",
    "            print(f\"  - Cluster {cid} ({len(members)} members)\")\n",
    "            for _, rec in details.head(5).iterrows():\n",
    "                print(f\"      {rec.get('unique_id','')}: {rec.get('full_name','')} | {rec.get('email','')} | {rec.get('phone','')}\")\n",
    "            if len(details) > 5:\n",
    "                print(f\"      ... and {len(details) - 5} more\")\n",
    "\n",
    "    if not candidate_predictions.empty:\n",
    "        max_prob = float(candidate_predictions['match_probability'].max())\n",
    "        threshold = 0.8\n",
    "        print(\"\\nDuplicate assessment:\")\n",
    "        print(f\"  Highest match probability: {max_prob:.4f}\")\n",
    "        if max_prob >= threshold:\n",
    "            print(\"  LIKELY DUPLICATE\")\n",
    "        else:\n",
    "            print(\"  LIKELY UNIQUE\")\n",
    "\n",
    "    return candidate_predictions, cluster_ids\n",
    "\n",
    "# Example non-interactive call (edit values as needed) so Run All doesn't block\n",
    "# Comment this out if you want interactive prompts instead.\n",
    "find_similar_records_for_new_input({\n",
    "    'first_name': 'abhay',\n",
    "    'last_name': 'pandey',\n",
    "    'email': 'abhaypandey@example.com',\n",
    "    'phone': '+91 8451074518',\n",
    "    'address': '101 Sai Dham, Mumbai',\n",
    "    'city': 'Mumbai',\n",
    "    'zip': 'ABC123'\n",
    "}, interactive=False)\n"
   ]
  }
 ],
 "metadata": {
  "kernelspec": {
   "display_name": "Python 3",
   "language": "python",
   "name": "python3"
  },
  "language_info": {
   "codemirror_mode": {
    "name": "ipython",
    "version": 3
   },
   "file_extension": ".py",
   "mimetype": "text/x-python",
   "name": "python",
   "nbconvert_exporter": "python",
   "pygments_lexer": "ipython3",
   "version": "3.11.0"
  }
 },
 "nbformat": 4,
 "nbformat_minor": 2
}
